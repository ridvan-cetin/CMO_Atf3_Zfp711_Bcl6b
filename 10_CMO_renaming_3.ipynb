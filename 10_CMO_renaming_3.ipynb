{
 "cells": [
  {
   "cell_type": "markdown",
   "id": "8d2650a4-3122-4e9a-befe-3af7cde3bbe3",
   "metadata": {},
   "source": [
    "# Loading packages and objects"
   ]
  },
  {
   "cell_type": "markdown",
   "id": "53d9a743-97f7-4541-89ce-c70de3cfcfc5",
   "metadata": {},
   "source": [
    "**To Activate and Use Your JupyterLab venv:**\n",
    "\n",
    "`source ~/venv-jlab/bin/activate`\n",
    "\n",
    "`jupyter lab`\n",
    "\n",
    "\n",
    "**This sets up your shell to use the Python and all installed packages from `~/venv-jlab`**\n",
    "\n",
    "**Once you’re done, you can exit the venv with:**\n",
    "\n",
    "`deactivate`"
   ]
  },
  {
   "cell_type": "code",
   "execution_count": null,
   "id": "5fbd3ed0-6fc2-4571-938e-c0c2fb60fb09",
   "metadata": {
    "vscode": {
     "languageId": "r"
    }
   },
   "outputs": [],
   "source": [
    "source(\"/home/ridvan/scRIPT/settings.R\")\n",
    "source(\"/home/ridvan/scRIPT/utils.R\")"
   ]
  },
  {
   "cell_type": "code",
   "execution_count": null,
   "id": "f8d994fb-67b2-451f-b38d-a8b14997d1cd",
   "metadata": {
    "vscode": {
     "languageId": "r"
    }
   },
   "outputs": [],
   "source": [
    "BPPARAM <- BiocParallel::bpparam()\n",
    "BPPARAM$workers = 20\n",
    "\n",
    "# Multi core using future - built in to seurat\n",
    "plan(\"multicore\", workers = 20)\n",
    "options(future.globals.maxSize = 200 * 1024 ^ 3) # for 200 Gb RAM\n",
    "\n",
    "getwd()"
   ]
  },
  {
   "cell_type": "code",
   "execution_count": null,
   "id": "d11e1c35-4a4a-47fc-b4ce-1c356dc8d257",
   "metadata": {
    "vscode": {
     "languageId": "r"
    }
   },
   "outputs": [],
   "source": [
    "obj <- readRDS('../../cmo_version3.rds')\n",
    "obj"
   ]
  },
  {
   "cell_type": "code",
   "execution_count": null,
   "id": "9452851d-69cf-4400-83ce-896bafde017b",
   "metadata": {
    "vscode": {
     "languageId": "r"
    }
   },
   "outputs": [],
   "source": [
    "io$output_rds_dir\n",
    "atlas <- readRDS(paste0(io$output_rds_dir, 'extended_atlas_cellranger_features_seurat.rds'))\n",
    "atlas"
   ]
  },
  {
   "cell_type": "markdown",
   "id": "ca696e1f-13ee-4da4-9d90-d176e15d5c45",
   "metadata": {},
   "source": [
    "# Minor Adjustments"
   ]
  },
  {
   "cell_type": "code",
   "execution_count": null,
   "id": "7a3b6d64-07ab-4a3b-ac74-4059d0c226fb",
   "metadata": {
    "vscode": {
     "languageId": "r"
    }
   },
   "outputs": [],
   "source": [
    "table(obj$v7k75pca_stage_predicted.id)"
   ]
  },
  {
   "cell_type": "code",
   "execution_count": null,
   "id": "6521f721-9adc-4072-90aa-f939de0bd5a2",
   "metadata": {
    "vscode": {
     "languageId": "r"
    }
   },
   "outputs": [],
   "source": [
    "# Specify the desired order of the levels\n",
    "stage_levels <- c(\n",
    "  \"E6.5\", \"E7.0\", \"E7.25\", \"E7.5\", \"E7.75\", \"E8.0\", \"E8.25\", \"E8.5\",\n",
    "  \"E8.75\", \"E9.0\", \"E9.25\", \"E9.5\", \"Mixed gastrulation\"\n",
    ")\n",
    "\n",
    "# Create a new factor column in your meta.data with the specified order\n",
    "obj@meta.data$v7k75pca_stage_predicted.id_num <-\n",
    "  factor(obj$v7k75pca_stage_predicted.id, levels = stage_levels)\n",
    "\n",
    "# Check that the levels are correct\n",
    "table(obj@meta.data$v7k75pca_stage_predicted.id_num, useNA = \"always\")\n"
   ]
  },
  {
   "cell_type": "code",
   "execution_count": null,
   "id": "30f42448-03ec-496f-af5e-2bf556f008cd",
   "metadata": {
    "vscode": {
     "languageId": "r"
    }
   },
   "outputs": [],
   "source": [
    "obj$lv_stages <- obj@meta.data$v7k75pca_stage_predicted.id_num"
   ]
  },
  {
   "cell_type": "code",
   "execution_count": null,
   "id": "2dd2ae71-5e2e-4bed-a8c9-5cf9b5a20552",
   "metadata": {
    "vscode": {
     "languageId": "r"
    }
   },
   "outputs": [],
   "source": [
    "obj$lv_stages_score <- obj@meta.data$v7k75pca_stage_prediction.score.max"
   ]
  },
  {
   "cell_type": "code",
   "execution_count": null,
   "id": "46d43774-5fe8-4872-bdaa-cb5d376ad98b",
   "metadata": {
    "vscode": {
     "languageId": "r"
    }
   },
   "outputs": [],
   "source": [
    "obj$lv_stages_ch <- as.character(obj$lv_stages) "
   ]
  },
  {
   "cell_type": "code",
   "execution_count": null,
   "id": "9ab31445-2c9c-418f-ad06-0a20e9cd115c",
   "metadata": {
    "vscode": {
     "languageId": "r"
    }
   },
   "outputs": [],
   "source": [
    "table(obj$v7k75pca_anatomy_predicted.id)"
   ]
  },
  {
   "cell_type": "code",
   "execution_count": null,
   "id": "ffda7d2f-e431-4770-9d85-260df5e66553",
   "metadata": {
    "vscode": {
     "languageId": "r"
    }
   },
   "outputs": [],
   "source": [
    "# Specify the desired order (spelling corrected and capitalized)\n",
    "anatomy_levels <- c(\n",
    "  \"Pooled\", \n",
    "  \"YS\", \n",
    "  \"EP\", \n",
    "  \"Anterior\", \n",
    "  \"Posterior\", \n",
    "  \"Anterior section\", \n",
    "  \"Medial section\", \n",
    "  \"Posterior section\"\n",
    ")\n",
    "\n",
    "# Create new factor column with ordered levels\n",
    "obj@meta.data$v7k75pca_anatomy_predicted.id_num <- factor(\n",
    "  obj$v7k75pca_anatomy_predicted.id,\n",
    "  levels = anatomy_levels\n",
    ")\n",
    "\n",
    "# Check the result\n",
    "table(obj@meta.data$v7k75pca_anatomy_predicted.id_num, useNA = \"always\")\n"
   ]
  },
  {
   "cell_type": "code",
   "execution_count": null,
   "id": "720378be-893e-416f-a8f5-e433b5b43ff8",
   "metadata": {
    "vscode": {
     "languageId": "r"
    }
   },
   "outputs": [],
   "source": [
    "obj$lv_anatomy <- obj@meta.data$v7k75pca_anatomy_predicted.id_num"
   ]
  },
  {
   "cell_type": "code",
   "execution_count": null,
   "id": "6fd5dded-e9cb-431c-aacd-054414d7cba4",
   "metadata": {
    "vscode": {
     "languageId": "r"
    }
   },
   "outputs": [],
   "source": [
    "obj$lv_anatomy_score <- obj@meta.data$v7k75pca_anatomy_prediction.score.max"
   ]
  },
  {
   "cell_type": "code",
   "execution_count": null,
   "id": "f13c9555-a9ba-46b5-85fa-7c5ff56a5dd1",
   "metadata": {
    "vscode": {
     "languageId": "r"
    }
   },
   "outputs": [],
   "source": [
    "obj$lv_anatomy_ch <- as.character(obj$lv_anatomy) "
   ]
  },
  {
   "cell_type": "code",
   "execution_count": null,
   "id": "2ad71ad3-2aa0-4868-8683-ecb09ffab96e",
   "metadata": {
    "vscode": {
     "languageId": "r"
    }
   },
   "outputs": [],
   "source": [
    "table(obj$v7k75pca_somite_count_predicted.id)"
   ]
  },
  {
   "cell_type": "code",
   "execution_count": null,
   "id": "6dc0dfa0-3d65-4129-83f9-a4c8e731342d",
   "metadata": {
    "vscode": {
     "languageId": "r"
    }
   },
   "outputs": [],
   "source": [
    "# Specify the desired level order (numbers as characters, pooled last)\n",
    "somite_levels <- c(\n",
    "  \"6\", \"7\", \"8\", \"10\", \"12\", \"14\", \"15\", \"16\", \"18\", \n",
    "  \"20\", \"21\", \"22\", \"23\", \"24\", \"Pooled\"\n",
    ")\n",
    "\n",
    "# Create new factor column with ordered levels\n",
    "obj@meta.data$v7k75pca_somite_count_predicted.id_num <- factor(\n",
    "  obj$v7k75pca_somite_count_predicted.id,\n",
    "  levels = somite_levels\n",
    ")\n",
    "\n",
    "# Check the result\n",
    "table(obj@meta.data$v7k75pca_somite_count_predicted.id_num, useNA = \"always\")\n"
   ]
  },
  {
   "cell_type": "code",
   "execution_count": null,
   "id": "ad8a85e3-6a3d-4e82-8b60-be7a4cefd71e",
   "metadata": {
    "vscode": {
     "languageId": "r"
    }
   },
   "outputs": [],
   "source": [
    "obj$lv_somite <- obj@meta.data$v7k75pca_somite_count_predicted.id_num"
   ]
  },
  {
   "cell_type": "code",
   "execution_count": null,
   "id": "b333cf45-1f17-499a-a5a8-929554a729aa",
   "metadata": {
    "vscode": {
     "languageId": "r"
    }
   },
   "outputs": [],
   "source": [
    "obj$lv_somite_score <- obj@meta.data$v7k75pca_somite_count_prediction.score.max"
   ]
  },
  {
   "cell_type": "code",
   "execution_count": null,
   "id": "439d9b72-94de-404c-ac88-e5035b8163e2",
   "metadata": {
    "vscode": {
     "languageId": "r"
    }
   },
   "outputs": [],
   "source": [
    "obj$lv_somite_ch <- as.character(obj$lv_somite) "
   ]
  },
  {
   "cell_type": "code",
   "execution_count": null,
   "id": "d6f28902-4cbd-4080-ba57-4d7338acc3db",
   "metadata": {
    "vscode": {
     "languageId": "r"
    }
   },
   "outputs": [],
   "source": [
    "obj$lv_cell_type_score <- obj@meta.data$v7k_pca75_prediction.score.max"
   ]
  },
  {
   "cell_type": "code",
   "execution_count": null,
   "id": "d82df59e-bc4e-48b5-84dc-d3a30502cb17",
   "metadata": {
    "vscode": {
     "languageId": "r"
    }
   },
   "outputs": [],
   "source": [
    "obj$lv_cell_type <- obj@meta.data$v7k_pca75_predicted.id"
   ]
  },
  {
   "cell_type": "code",
   "execution_count": null,
   "id": "7fe7eb43-9eb7-469e-ae7f-24878b9bdd0d",
   "metadata": {
    "vscode": {
     "languageId": "r"
    }
   },
   "outputs": [],
   "source": [
    "obj$lv_cell_to_cell <- obj@meta.data$v7k75pca_cell_predicted.id\n",
    "obj$lv_cell_to_cell_score <- obj@meta.data$v7k75pca_cell_prediction.score.max"
   ]
  },
  {
   "cell_type": "markdown",
   "id": "7804ff91-7848-41cc-8944-502143a2b543",
   "metadata": {},
   "source": [
    "# Confidence Score"
   ]
  },
  {
   "cell_type": "markdown",
   "id": "4491d6a1-adcf-4979-8330-a476fc0f8e37",
   "metadata": {},
   "source": [
    "## Embryonic Stages"
   ]
  },
  {
   "cell_type": "code",
   "execution_count": null,
   "id": "38965725-863d-49e5-82a3-a63198704e84",
   "metadata": {
    "vscode": {
     "languageId": "r"
    }
   },
   "outputs": [],
   "source": [
    "length(unique(obj@meta.data$lv_stages_score))\n",
    "\n",
    "round(length(unique(obj@meta.data$lv_stages_score))/100, 0)"
   ]
  },
  {
   "cell_type": "code",
   "execution_count": null,
   "id": "a3fb0d53-ca53-4fc5-99f6-f35af5339f3e",
   "metadata": {
    "vscode": {
     "languageId": "r"
    }
   },
   "outputs": [],
   "source": [
    "# Calculate 75th percentile\n",
    "percentile_75 <- quantile(obj@meta.data$lv_stages_score, probs = 0.75, na.rm = TRUE)\n",
    "\n",
    "# Compute max bin count for label positioning\n",
    "hist_data <- hist(obj@meta.data$lv_stages_score, breaks = 1000, plot = FALSE)\n",
    "max_y <- max(hist_data$counts)\n",
    "\n",
    "options(repr.plot.width = 6.4, repr.plot.height = 5)\n",
    "\n",
    "ggplot(data = obj@meta.data, aes(x = lv_stages_score)) +\n",
    "  geom_histogram(\n",
    "    bins = 1000, \n",
    "    color = 'blue', \n",
    "    fill = 'steelblue', \n",
    "    alpha = 0.85\n",
    "  ) +\n",
    "  geom_vline(xintercept = percentile_75, linetype = \"dashed\", color = \"red\", size = 0.5) +\n",
    "  annotate(\n",
    "    \"text\", \n",
    "    x = percentile_75, \n",
    "    y = max_y * 0.95, \n",
    "    label = \"75th percentile\", \n",
    "    size = 4.5, \n",
    "    color = \"red\", \n",
    "    fontface = \"bold\",\n",
    "    hjust = -0.1\n",
    "  ) +\n",
    "  labs(\n",
    "    title = \"Embryonic Stages\",\n",
    "    x = \"Per-Cell Assignment Confidence Score (0 = low, 1 = high)\",\n",
    "    y = \"Number of Cells\"\n",
    "  ) +\n",
    "  theme_classic(base_size = 13) +\n",
    "  theme(\n",
    "    axis.text = element_text(size = 14),\n",
    "    axis.title = element_text(size = 14, face = \"bold\"),\n",
    "    plot.title = element_text(size = 15, face = \"bold\", hjust = 0.5, margin = margin(b = 12)),\n",
    "    panel.grid.major.y = element_line(color = \"grey90\", size = 0.4),\n",
    "    axis.line = element_line(color = \"black\", size = 0.5),\n",
    "    plot.margin = margin(10, 10, 10, 10)\n",
    "  )"
   ]
  },
  {
   "cell_type": "code",
   "execution_count": null,
   "id": "badc858d-5380-4393-a240-166f477a127a",
   "metadata": {
    "vscode": {
     "languageId": "r"
    }
   },
   "outputs": [],
   "source": [
    "ggsave('./figures_1/embryonic_stages_assignment_confidence_score_percell.pdf', plot = last_plot(), width = 6.4, height = 5, units = 'in', dpi = 300)"
   ]
  },
  {
   "cell_type": "markdown",
   "id": "1b4d134c-ae67-459b-ba53-297cf641b85d",
   "metadata": {},
   "source": [
    "## Anatomy"
   ]
  },
  {
   "cell_type": "code",
   "execution_count": null,
   "id": "7c352a4c-0c98-4331-8f0d-091fcd357240",
   "metadata": {
    "vscode": {
     "languageId": "r"
    }
   },
   "outputs": [],
   "source": [
    "length(unique(obj@meta.data$lv_anatomy_score))\n",
    "\n",
    "round(length(unique(obj@meta.data$lv_anatomy_score))/100, 0)"
   ]
  },
  {
   "cell_type": "code",
   "execution_count": null,
   "id": "9518e6a7-cbba-4218-ad42-27b585cfd833",
   "metadata": {
    "vscode": {
     "languageId": "r"
    }
   },
   "outputs": [],
   "source": [
    "# Calculate 75th percentile\n",
    "percentile_75 <- quantile(obj@meta.data$lv_anatomy_score, probs = 0.75, na.rm = TRUE)\n",
    "\n",
    "# Compute max bin count for label positioning\n",
    "hist_data <- hist(obj@meta.data$lv_anatomy_score, breaks = 1000, plot = FALSE)\n",
    "max_y <- max(hist_data$counts)\n",
    "\n",
    "options(repr.plot.width = 6.4, repr.plot.height = 5)\n",
    "\n",
    "ggplot(data = obj@meta.data, aes(x = lv_anatomy_score)) +\n",
    "  geom_histogram(\n",
    "    bins = 1000, \n",
    "    color = 'blue', \n",
    "    fill = 'steelblue', \n",
    "    alpha = 0.85\n",
    "  ) +\n",
    "  geom_vline(xintercept = percentile_75, linetype = \"dashed\", color = \"red\", size = 0.5) +\n",
    "  annotate(\n",
    "    \"text\", \n",
    "    x = percentile_75, \n",
    "    y = max_y * 0.95, \n",
    "    label = \"75th percentile\", \n",
    "    size = 4.5, \n",
    "    color = \"red\", \n",
    "    fontface = \"bold\",\n",
    "    hjust = -0.1\n",
    "  ) +\n",
    "  labs(\n",
    "    title = \"Anatomy\",\n",
    "    x = \"Per-Cell Assignment Confidence Score (0 = low, 1 = high)\",\n",
    "    y = \"Number of Cells\"\n",
    "  ) +\n",
    "  theme_classic(base_size = 13) +\n",
    "  theme(\n",
    "    axis.text = element_text(size = 14),\n",
    "    axis.title = element_text(size = 14, face = \"bold\"),\n",
    "    plot.title = element_text(size = 15, face = \"bold\", hjust = 0.5, margin = margin(b = 12)),\n",
    "    panel.grid.major.y = element_line(color = \"grey90\", size = 0.4),\n",
    "    axis.line = element_line(color = \"black\", size = 0.5),\n",
    "    plot.margin = margin(10, 10, 10, 10)\n",
    "  )"
   ]
  },
  {
   "cell_type": "code",
   "execution_count": null,
   "id": "c4d89d6d-1aa5-440e-89c2-0e427e588847",
   "metadata": {
    "vscode": {
     "languageId": "r"
    }
   },
   "outputs": [],
   "source": [
    "ggsave('./figures_1/embryonic_anatomy_assignment_confidence_score_percell.pdf', plot = last_plot(), width = 6.4, height = 5, units = 'in', dpi = 300)"
   ]
  },
  {
   "cell_type": "markdown",
   "id": "64e39b35-6dd4-4c02-b616-3809c6eb0b9c",
   "metadata": {},
   "source": [
    "## Somite Count"
   ]
  },
  {
   "cell_type": "code",
   "execution_count": null,
   "id": "a0614ce2-935c-4444-a56c-c63c581453c3",
   "metadata": {
    "vscode": {
     "languageId": "r"
    }
   },
   "outputs": [],
   "source": [
    "length(unique(obj@meta.data$lv_somite_score))\n",
    "\n",
    "round(length(unique(obj@meta.data$lv_somite_score))/100, 0)"
   ]
  },
  {
   "cell_type": "code",
   "execution_count": null,
   "id": "7d17db1e-dadb-4600-a44d-6d3f4532f2e9",
   "metadata": {
    "vscode": {
     "languageId": "r"
    }
   },
   "outputs": [],
   "source": [
    "# Calculate 75th percentile\n",
    "percentile_75 <- quantile(obj@meta.data$lv_somite_score, probs = 0.75, na.rm = TRUE)\n",
    "\n",
    "# Compute max bin count for label positioning\n",
    "hist_data <- hist(obj@meta.data$lv_somite_score, breaks = 1000, plot = FALSE)\n",
    "max_y <- max(hist_data$counts)\n",
    "\n",
    "options(repr.plot.width = 6.4, repr.plot.height = 5)\n",
    "\n",
    "ggplot(data = obj@meta.data, aes(x = lv_somite_score)) +\n",
    "  geom_histogram(\n",
    "    bins = 1000, \n",
    "    color = 'blue', \n",
    "    fill = 'steelblue', \n",
    "    alpha = 0.85\n",
    "  ) +\n",
    "  geom_vline(xintercept = percentile_75, linetype = \"dashed\", color = \"red\", size = 0.5) +\n",
    "  annotate(\n",
    "    \"text\", \n",
    "    x = percentile_75, \n",
    "    y = max_y * 0.95, \n",
    "    label = \"75th percentile\", \n",
    "    size = 4.5, \n",
    "    color = \"red\", \n",
    "    fontface = \"bold\",\n",
    "    hjust = -0.1\n",
    "  ) +\n",
    "  labs(\n",
    "    title = \"Somite Count\",\n",
    "    x = \"Per-Cell Assignment Confidence Score (0 = low, 1 = high)\",\n",
    "    y = \"Number of Cells\"\n",
    "  ) +\n",
    "  theme_classic(base_size = 13) +\n",
    "  theme(\n",
    "    axis.text = element_text(size = 14),\n",
    "    axis.title = element_text(size = 14, face = \"bold\"),\n",
    "    plot.title = element_text(size = 15, face = \"bold\", hjust = 0.5, margin = margin(b = 12)),\n",
    "    panel.grid.major.y = element_line(color = \"grey90\", size = 0.4),\n",
    "    axis.line = element_line(color = \"black\", size = 0.5),\n",
    "    plot.margin = margin(10, 10, 10, 10)\n",
    "  )"
   ]
  },
  {
   "cell_type": "code",
   "execution_count": null,
   "id": "cab79f7c-b520-4179-a2ef-77c7997f6362",
   "metadata": {
    "vscode": {
     "languageId": "r"
    }
   },
   "outputs": [],
   "source": [
    "ggsave('./figures_1/embryonic_somite_count_assignment_confidence_score_percell.pdf', plot = last_plot(), width = 6.4, height = 5, units = 'in', dpi = 300)"
   ]
  },
  {
   "cell_type": "markdown",
   "id": "3695e643-e378-44e6-94ae-e60f8603bd62",
   "metadata": {},
   "source": [
    "## Cell Type"
   ]
  },
  {
   "cell_type": "code",
   "execution_count": null,
   "id": "3d89dbce-5fc4-49b1-82df-d01a4ee1a6e5",
   "metadata": {
    "vscode": {
     "languageId": "r"
    }
   },
   "outputs": [],
   "source": [
    "length(unique(obj@meta.data$lv_cell_type_score))\n",
    "\n",
    "round(length(unique(obj@meta.data$lv_cell_type_score))/100, 0)"
   ]
  },
  {
   "cell_type": "code",
   "execution_count": null,
   "id": "a5f3090b-256c-4301-9d5c-c8eb08f82152",
   "metadata": {
    "vscode": {
     "languageId": "r"
    }
   },
   "outputs": [],
   "source": [
    "# Calculate 75th percentile\n",
    "percentile_75 <- quantile(obj@meta.data$lv_cell_type_score, probs = 0.75, na.rm = TRUE)\n",
    "\n",
    "# Compute max bin count for label positioning\n",
    "hist_data <- hist(obj@meta.data$lv_cell_type_score, breaks = 1000, plot = FALSE)\n",
    "max_y <- max(hist_data$counts)\n",
    "\n",
    "options(repr.plot.width = 6.4, repr.plot.height = 5)\n",
    "\n",
    "ggplot(data = obj@meta.data, aes(x = lv_cell_type_score)) +\n",
    "  geom_histogram(\n",
    "    bins = 1000, \n",
    "    color = 'blue', \n",
    "    fill = 'steelblue', \n",
    "    alpha = 0.85\n",
    "  ) +\n",
    "  geom_vline(xintercept = percentile_75, linetype = \"dashed\", color = \"red\", size = 0.5) +\n",
    "  annotate(\n",
    "    \"text\", \n",
    "    x = percentile_75, \n",
    "    y = max_y * 0.95, \n",
    "    label = \"75th percentile\", \n",
    "    size = 4.5, \n",
    "    color = \"red\", \n",
    "    fontface = \"bold\",\n",
    "    hjust = 1.1\n",
    "  ) +\n",
    "  labs(\n",
    "    title = \"Cell Type\",\n",
    "    x = \"Per-Cell Assignment Confidence Score (0 = low, 1 = high)\",\n",
    "    y = \"Number of Cells\"\n",
    "  ) +\n",
    "  theme_classic(base_size = 13) +\n",
    "  theme(\n",
    "    axis.text = element_text(size = 14),\n",
    "    axis.title = element_text(size = 14, face = \"bold\"),\n",
    "    plot.title = element_text(size = 15, face = \"bold\", hjust = 0.5, margin = margin(b = 12)),\n",
    "    panel.grid.major.y = element_line(color = \"grey90\", size = 0.4),\n",
    "    axis.line = element_line(color = \"black\", size = 0.5),\n",
    "    plot.margin = margin(10, 10, 10, 10)\n",
    "  )"
   ]
  },
  {
   "cell_type": "code",
   "execution_count": null,
   "id": "b00e8745-c30e-40ca-958e-210517107343",
   "metadata": {
    "vscode": {
     "languageId": "r"
    }
   },
   "outputs": [],
   "source": [
    "ggsave('./figures_1/embryonic_extendend_cell_type_assignment_confidence_score_percell.pdf', plot = last_plot(), width = 6.4, height = 5, units = 'in', dpi = 300)"
   ]
  },
  {
   "cell_type": "markdown",
   "id": "fa3545e5-5865-46e7-8d0c-54c2631ad463",
   "metadata": {},
   "source": [
    "## Cells"
   ]
  },
  {
   "cell_type": "code",
   "execution_count": null,
   "id": "e9202124-9a6f-440e-a9c4-628d10927f81",
   "metadata": {
    "vscode": {
     "languageId": "r"
    }
   },
   "outputs": [],
   "source": [
    "length(unique(obj@meta.data$lv_cell_to_cell_score))\n",
    "\n",
    "round(length(unique(obj@meta.data$lv_cell_to_cell_score))/100, 0)"
   ]
  },
  {
   "cell_type": "code",
   "execution_count": null,
   "id": "c93ea353-ccd3-4cdd-99f5-57aab0026944",
   "metadata": {
    "vscode": {
     "languageId": "r"
    }
   },
   "outputs": [],
   "source": [
    "# Calculate 75th percentile\n",
    "percentile_75 <- quantile(obj@meta.data$lv_cell_to_cell_score, probs = 0.75, na.rm = TRUE)\n",
    "\n",
    "# Compute max bin count for label positioning\n",
    "hist_data <- hist(obj@meta.data$lv_cell_to_cell_score, breaks = 1000, plot = FALSE)\n",
    "max_y <- max(hist_data$counts)\n",
    "\n",
    "options(repr.plot.width = 6.4, repr.plot.height = 5)\n",
    "\n",
    "ggplot(data = obj@meta.data, aes(x = lv_cell_to_cell_score)) +\n",
    "  geom_histogram(\n",
    "    bins = 1000, \n",
    "    color = 'blue', \n",
    "    fill = 'steelblue', \n",
    "    alpha = 0.85\n",
    "  ) +\n",
    "  geom_vline(xintercept = percentile_75, linetype = \"dashed\", color = \"red\", size = 0.5) +\n",
    "  annotate(\n",
    "    \"text\", \n",
    "    x = percentile_75, \n",
    "    y = max_y * 0.95, \n",
    "    label = \"75th percentile\", \n",
    "    size = 4.5, \n",
    "    color = \"red\", \n",
    "    fontface = \"bold\",\n",
    "    hjust = 1.1\n",
    "  ) +\n",
    "  labs(\n",
    "    title = \"Cell to Cell Match\",\n",
    "    x = \"Per-Cell Assignment Confidence Score (0 = low, 1 = high)\",\n",
    "    y = \"Number of Cells\"\n",
    "  ) +\n",
    "  theme_classic(base_size = 13) +\n",
    "  theme(\n",
    "    axis.text = element_text(size = 14),\n",
    "    axis.title = element_text(size = 14, face = \"bold\"),\n",
    "    plot.title = element_text(size = 15, face = \"bold\", hjust = 0.5, margin = margin(b = 12)),\n",
    "    panel.grid.major.y = element_line(color = \"grey90\", size = 0.4),\n",
    "    axis.line = element_line(color = \"black\", size = 0.5),\n",
    "    plot.margin = margin(10, 10, 10, 10)\n",
    "  )"
   ]
  },
  {
   "cell_type": "code",
   "execution_count": null,
   "id": "eff9693e-f627-4547-9d2e-a76bdd009f57",
   "metadata": {
    "vscode": {
     "languageId": "r"
    }
   },
   "outputs": [],
   "source": [
    "ggsave('./figures_1/embryonic_extendend_cell_type_assignment_confidence_score_percell.pdf', plot = last_plot(), width = 6.4, height = 5, units = 'in', dpi = 300)"
   ]
  },
  {
   "cell_type": "markdown",
   "id": "bdb3d376-25b1-4df6-89eb-441d99999988",
   "metadata": {},
   "source": [
    "# BarPlots"
   ]
  },
  {
   "cell_type": "markdown",
   "id": "9816914a-b8df-4b48-8a55-a44a7758feb9",
   "metadata": {},
   "source": [
    "## Embryonic Stages"
   ]
  },
  {
   "cell_type": "code",
   "execution_count": null,
   "id": "55963ba5-ca51-4d36-8bd3-c0d41c5ba9eb",
   "metadata": {
    "vscode": {
     "languageId": "r"
    }
   },
   "outputs": [],
   "source": [
    "table(obj@meta.data$lv_stages)"
   ]
  },
  {
   "cell_type": "code",
   "execution_count": null,
   "id": "b748e246-66be-49bb-9280-4e52de78dc1f",
   "metadata": {
    "vscode": {
     "languageId": "r"
    }
   },
   "outputs": [],
   "source": [
    "# Prepare data frame for plotting (all stages, original names)\n",
    "stage_counts <- obj@meta.data %>%\n",
    "  group_by(lv_stages) %>%\n",
    "  summarise(Cell_Count = n()) %>%\n",
    "  mutate(lv_stages = factor(\n",
    "    lv_stages,\n",
    "    levels = c(\n",
    "      \"E6.5\", \"E7.0\", \"E7.25\", \"E7.5\", \"E7.75\", \"E8.0\", \"E8.25\", \"E8.5\",\n",
    "      \"E8.75\", \"E9.0\", \"E9.25\", \"E9.5\", \"Mixed gastrulation\"\n",
    "    )\n",
    "  ))\n",
    "\n",
    "options(repr.plot.width = 6.4, repr.plot.height = 5)\n",
    "\n",
    "ggplot(stage_counts, aes(x = lv_stages, y = Cell_Count)) +\n",
    "  geom_bar(stat = \"identity\", fill = \"steelblue\", color = \"blue\", width = 0.8) +\n",
    "  labs(\n",
    "    title = \"Number of Cells per Embryonic Stage\",\n",
    "    x = \"Embryonic Stage\",\n",
    "    y = \"Number of Cells\"\n",
    "  ) +\n",
    "  scale_x_discrete(labels = c(\n",
    "    \"E6.5\" = \"E6.5\", \"E7.0\" = \"E7.0\", \"E7.25\" = \"E7.25\", \"E7.5\" = \"E7.5\",\n",
    "    \"E7.75\" = \"E7.75\", \"E8.0\" = \"E8.0\", \"E8.25\" = \"E8.25\", \"E8.5\" = \"E8.5\",\n",
    "    \"E8.75\" = \"E8.75\", \"E9.0\" = \"E9.0\", \"E9.25\" = \"E9.25\", \"E9.5\" = \"E9.5\",\n",
    "    \"Mixed gastrulation\" = \"Mixed\"\n",
    "  )) +\n",
    "  theme_classic(base_size = 13) +\n",
    "  theme(\n",
    "    axis.text.x = element_text(size = 14, angle = 35, hjust = 1, vjust = 1),\n",
    "    axis.text.y = element_text(size = 14),\n",
    "    axis.title = element_text(size = 14, face = \"bold\"),\n",
    "    plot.title = element_text(size = 15, face = \"bold\", hjust = 0.5, margin = margin(b = 12)),\n",
    "    panel.grid.major.y = element_line(color = \"grey90\", size = 0.4),\n",
    "    axis.line = element_line(color = \"black\", size = 0.5),\n",
    "    plot.margin = margin(10, 10, 10, 10)\n",
    "  )\n"
   ]
  },
  {
   "cell_type": "code",
   "execution_count": null,
   "id": "6678b87d-11a0-493a-bf12-7ffba0a964fe",
   "metadata": {
    "vscode": {
     "languageId": "r"
    }
   },
   "outputs": [],
   "source": [
    "ggsave('./figures_1/nof_cells_embryonic_stages.pdf', plot = last_plot(), width = 6.4, height = 5, units = 'in', dpi = 300)"
   ]
  },
  {
   "cell_type": "markdown",
   "id": "4b8f24bf-7392-48b8-a024-153dbd938361",
   "metadata": {},
   "source": [
    "## Anatomy"
   ]
  },
  {
   "cell_type": "code",
   "execution_count": null,
   "id": "df5f52d5-b1b1-4629-937f-d72bc6b4e476",
   "metadata": {
    "scrolled": true,
    "vscode": {
     "languageId": "r"
    }
   },
   "outputs": [],
   "source": [
    "table(obj@meta.data$lv_anatomy)"
   ]
  },
  {
   "cell_type": "code",
   "execution_count": null,
   "id": "cfbe0cd4-3766-4d47-bb63-cd7c5a00f2e5",
   "metadata": {
    "vscode": {
     "languageId": "r"
    }
   },
   "outputs": [],
   "source": [
    "# Prepare data for plotting (keep original names in factor order)\n",
    "anatomy_levels <- c(\n",
    "  \"Pooled\", \"YS\", \"EP\", \"Anterior\", \"Posterior\",\n",
    "  \"Anterior section\", \"Medial section\", \"Posterior section\"\n",
    ")\n",
    "\n",
    "anatomy_counts <- obj@meta.data %>%\n",
    "  group_by(lv_anatomy) %>%\n",
    "  summarise(Cell_Count = n()) %>%\n",
    "  mutate(lv_anatomy = factor(lv_anatomy, levels = anatomy_levels))\n",
    "\n",
    "options(repr.plot.width = 6.4, repr.plot.height = 5)\n",
    "\n",
    "ggplot(anatomy_counts, aes(x = lv_anatomy, y = Cell_Count)) +\n",
    "  geom_bar(stat = \"identity\", fill = \"steelblue\", color = \"blue\", width = 0.8) +\n",
    "  labs(\n",
    "    title = \"Number of Cells per Anatomical Region\",\n",
    "    x = \"Anatomical Region\",\n",
    "    y = \"Number of Cells\"\n",
    "  ) +\n",
    "  scale_x_discrete(labels = c(\n",
    "    \"Pooled\" = \"Pooled\",\n",
    "    \"YS\" = \"YS\",\n",
    "    \"EP\" = \"EP\",\n",
    "    \"Anterior\" = \"Anterior\",\n",
    "    \"Posterior\" = \"Posterior\",\n",
    "    \"Anterior section\" = \"Ant. sec.\",\n",
    "    \"Medial section\" = \"Med. sec.\",\n",
    "    \"Posterior section\" = \"Post. sec.\"\n",
    "  )) +\n",
    "  theme_classic(base_size = 13) +\n",
    "  theme(\n",
    "    axis.text.x = element_text(size = 14, angle = 35, hjust = 1, vjust = 1),\n",
    "    axis.text.y = element_text(size = 14),\n",
    "    axis.title = element_text(size = 14, face = \"bold\"),\n",
    "    plot.title = element_text(size = 15, face = \"bold\", hjust = 0.5, margin = margin(b = 12)),\n",
    "    panel.grid.major.y = element_line(color = \"grey90\", size = 0.4),\n",
    "    axis.line = element_line(color = \"black\", size = 0.5),\n",
    "    plot.margin = margin(10, 10, 10, 10)\n",
    "  )\n"
   ]
  },
  {
   "cell_type": "code",
   "execution_count": null,
   "id": "889e23e5-5045-48e3-ac04-d86e53c285f8",
   "metadata": {
    "vscode": {
     "languageId": "r"
    }
   },
   "outputs": [],
   "source": [
    "ggsave('./figures_1/nof_cells_anatomy.pdf', plot = last_plot(), width = 6.4, height = 5, units = 'in', dpi = 300)"
   ]
  },
  {
   "cell_type": "markdown",
   "id": "c5b5ed7a-81b0-4a48-85e4-6261f2337acd",
   "metadata": {},
   "source": [
    "## Somite Count"
   ]
  },
  {
   "cell_type": "code",
   "execution_count": null,
   "id": "e8206914-e0f2-4324-b674-ed19427dbc45",
   "metadata": {
    "scrolled": true,
    "vscode": {
     "languageId": "r"
    }
   },
   "outputs": [],
   "source": [
    "table(obj@meta.data$lv_somite)"
   ]
  },
  {
   "cell_type": "code",
   "execution_count": null,
   "id": "0e5bb3b7-0d76-4721-b0e6-c64910dcad51",
   "metadata": {
    "vscode": {
     "languageId": "r"
    }
   },
   "outputs": [],
   "source": [
    "# Define desired factor order (numbers as strings, Pooled last)\n",
    "somite_levels <- c(\n",
    "  \"6\", \"7\", \"8\", \"10\", \"12\", \"14\", \"15\", \"16\", \"18\",\n",
    "  \"20\", \"21\", \"22\", \"23\", \"24\", \"Pooled\"\n",
    ")\n",
    "\n",
    "# Prepare data for plotting\n",
    "somite_counts <- obj@meta.data %>%\n",
    "  group_by(lv_somite) %>%\n",
    "  summarise(Cell_Count = n()) %>%\n",
    "  mutate(lv_somite = factor(lv_somite, levels = somite_levels))\n",
    "\n",
    "options(repr.plot.width = 6.4, repr.plot.height = 5)\n",
    "\n",
    "ggplot(somite_counts, aes(x = lv_somite, y = Cell_Count)) +\n",
    "  geom_bar(stat = \"identity\", fill = \"steelblue\", color = \"blue\", width = 0.8) +\n",
    "  labs(\n",
    "    title = \"Number of Cells per Somite Count\",\n",
    "    x = \"Somite Count\",\n",
    "    y = \"Number of Cells\"\n",
    "  ) +\n",
    "  scale_x_discrete(labels = c(\n",
    "    setNames(somite_levels, somite_levels)[1:14], # numbers remain unchanged\n",
    "    \"Pooled\" = \"Pool.\"\n",
    "  )) +\n",
    "  theme_classic(base_size = 13) +\n",
    "  theme(\n",
    "    axis.text.x = element_text(size = 14, angle = 35, hjust = 1, vjust = 1),\n",
    "    axis.text.y = element_text(size = 14),\n",
    "    axis.title = element_text(size = 14, face = \"bold\"),\n",
    "    plot.title = element_text(size = 15, face = \"bold\", hjust = 0.5, margin = margin(b = 12)),\n",
    "    panel.grid.major.y = element_line(color = \"grey90\", size = 0.4),\n",
    "    axis.line = element_line(color = \"black\", size = 0.5),\n",
    "    plot.margin = margin(10, 10, 10, 10)\n",
    "  )\n"
   ]
  },
  {
   "cell_type": "code",
   "execution_count": null,
   "id": "03b446b0-0e84-4a23-9e77-719847691774",
   "metadata": {
    "vscode": {
     "languageId": "r"
    }
   },
   "outputs": [],
   "source": [
    "ggsave('./figures_1/nof_cells_somite_count.pdf', plot = last_plot(), width = 6.4, height = 5, units = 'in', dpi = 300)"
   ]
  },
  {
   "cell_type": "markdown",
   "id": "3cadf280-b482-4a59-b083-b06c05e79fcc",
   "metadata": {},
   "source": [
    "## Cell Type"
   ]
  },
  {
   "cell_type": "code",
   "execution_count": null,
   "id": "2d089484-f175-4a7f-9332-5f9a50bd3c12",
   "metadata": {
    "scrolled": true,
    "vscode": {
     "languageId": "r"
    }
   },
   "outputs": [],
   "source": [
    "table(obj@meta.data$lv_cell_type)"
   ]
  },
  {
   "cell_type": "code",
   "execution_count": null,
   "id": "13c6a82a-1ac4-4217-b3f2-419241c6e55b",
   "metadata": {
    "vscode": {
     "languageId": "r"
    }
   },
   "outputs": [],
   "source": [
    "# Calculate cell counts per type\n",
    "celltype_counts <- obj@meta.data %>%\n",
    "  group_by(lv_cell_type) %>%\n",
    "  summarise(Cell_Count = n()) %>%\n",
    "  arrange(desc(Cell_Count)) # Optional: order bars by count\n",
    "\n",
    "# Abbreviate long labels for plotting (add more as needed)\n",
    "celltype_labels <- unique(obj@meta.data$lv_cell_type)\n",
    "\n",
    "# Set default: show all labels, but overwrite selected\n",
    "all_labels <- setNames(as.character(celltype_counts$lv_cell_type), celltype_counts$lv_cell_type)\n",
    "all_labels[names(celltype_labels)] <- celltype_labels\n",
    "\n",
    "options(repr.plot.width = 12.8, repr.plot.height = 7.5)\n",
    "\n",
    "ggplot(celltype_counts, aes(x = lv_cell_type, y = Cell_Count)) +\n",
    "  geom_bar(stat = \"identity\", fill = \"steelblue\", color = \"blue\", width = 0.8) +\n",
    "  labs(\n",
    "    title = \"Number of Cells per Cell Type\",\n",
    "    x = \"Cell Type\",\n",
    "    y = \"Number of Cells\"\n",
    "  ) +\n",
    "  scale_x_discrete(labels = all_labels) +\n",
    "  theme_classic(base_size = 13) +\n",
    "  theme(\n",
    "    axis.text.x = element_text(size = 13, angle = 65, hjust = 1, vjust = 1),\n",
    "    axis.text.y = element_text(size = 13),\n",
    "    axis.title = element_text(size = 13, face = \"bold\"),\n",
    "    plot.title = element_text(size = 14, face = \"bold\", hjust = 0.5, margin = margin(b = 12)),\n",
    "    panel.grid.major.y = element_line(color = \"grey90\", size = 0.4),\n",
    "    axis.line = element_line(color = \"black\", size = 0.5),\n",
    "    plot.margin = margin(10, 10, 10, 10)\n",
    "  )\n"
   ]
  },
  {
   "cell_type": "code",
   "execution_count": null,
   "id": "d983e177-d824-477e-9afd-499009e09f3e",
   "metadata": {
    "vscode": {
     "languageId": "r"
    }
   },
   "outputs": [],
   "source": [
    "ggsave('./figures_1/nof_cell_type_count.pdf', plot = last_plot(), width = 12.8, height = 7.5, units = 'in', dpi = 300)"
   ]
  },
  {
   "cell_type": "markdown",
   "id": "e420122d-a717-4189-ace6-74ae0b483f9e",
   "metadata": {},
   "source": [
    "### Multi parameters for cell type"
   ]
  },
  {
   "cell_type": "code",
   "execution_count": null,
   "id": "01ce474a-9fad-4249-816a-8b7c0e18b680",
   "metadata": {
    "vscode": {
     "languageId": "r"
    }
   },
   "outputs": [],
   "source": [
    "df <- obj@meta.data[,c('v4k_pca50_predicted.id','v4k_pca75_predicted.id','v4k_pca100_predicted.id',\n",
    " 'v7k_pca50_predicted.id','v7k_pca75_predicted.id','v7k_pca100_predicted.id',\n",
    " 'v10k_pca50_predicted.id','v10k_pca75_predicted.id','v10k_pca100_predicted.id')]"
   ]
  },
  {
   "cell_type": "code",
   "execution_count": null,
   "id": "c2570bb3-a2cf-4f35-974e-80e2c9b9b7c5",
   "metadata": {
    "vscode": {
     "languageId": "r"
    }
   },
   "outputs": [],
   "source": [
    "head(df)"
   ]
  },
  {
   "cell_type": "code",
   "execution_count": null,
   "id": "ac715760-7cd5-4689-abb9-c99266658b2e",
   "metadata": {
    "vscode": {
     "languageId": "r"
    }
   },
   "outputs": [],
   "source": [
    "colnames(df) <- c('v4k_pca50','v4k_pca75','v4k_pca100',\n",
    " 'v7k_pca50','v7k_pca75','v7k_pca100',\n",
    " 'v10k_pca50','v10k_pca75','v10k_pca100')"
   ]
  },
  {
   "cell_type": "code",
   "execution_count": null,
   "id": "0ecfa0a5-c27b-4c98-950f-4926cc137185",
   "metadata": {
    "vscode": {
     "languageId": "r"
    }
   },
   "outputs": [],
   "source": [
    "head(df)"
   ]
  },
  {
   "cell_type": "code",
   "execution_count": null,
   "id": "7a7e0d25-6ce6-493c-92d3-d9b8efdbe671",
   "metadata": {
    "vscode": {
     "languageId": "r"
    }
   },
   "outputs": [],
   "source": [
    "library(tidyr)"
   ]
  },
  {
   "cell_type": "code",
   "execution_count": null,
   "id": "4f0364c6-32d4-4fa0-85e5-c2ddc2a95354",
   "metadata": {
    "vscode": {
     "languageId": "r"
    }
   },
   "outputs": [],
   "source": [
    "\n",
    "df_long <- df %>%\n",
    "  mutate(cell = rownames(df)) %>%\n",
    "  pivot_longer(\n",
    "    cols = -cell,\n",
    "    names_to = \"prediction_method\",\n",
    "    values_to = \"cell_type\"\n",
    "  )\n",
    "\n",
    "cell_counts <- df_long %>%\n",
    "  group_by(prediction_method, cell_type) %>%\n",
    "  summarise(cell_number = n(), .groups = \"drop\")\n",
    "\n",
    "# Calculate frequency per prediction method\n",
    "cell_freq <- cell_counts %>%\n",
    "  group_by(prediction_method) %>%\n",
    "  mutate(frequency = cell_number / sum(cell_number)) %>%\n",
    "  ungroup()\n",
    "\n",
    "# Normalize frequency within each cell_type (row)\n",
    "cell_freq <- cell_freq %>%\n",
    "  group_by(cell_type) %>%\n",
    "  mutate(row_scaled_frequency = frequency / max(frequency, na.rm = TRUE)) %>%\n",
    "  ungroup()\n"
   ]
  },
  {
   "cell_type": "code",
   "execution_count": null,
   "id": "b853e70c-e674-4357-bb98-5d6db54c3608",
   "metadata": {
    "vscode": {
     "languageId": "r"
    }
   },
   "outputs": [],
   "source": [
    "head(cell_counts)"
   ]
  },
  {
   "cell_type": "code",
   "execution_count": null,
   "id": "ddf0b2e4-fe25-498c-9f7b-caa1ce154d71",
   "metadata": {
    "vscode": {
     "languageId": "r"
    }
   },
   "outputs": [],
   "source": [
    "\n",
    "# Order for plotting\n",
    "cell_types_order <- cell_freq %>%\n",
    "  group_by(cell_type) %>%\n",
    "  summarise(total = sum(frequency)) %>%\n",
    "  arrange(desc(total)) %>%\n",
    "  pull(cell_type)\n",
    "\n",
    "methods_order <- unique(cell_freq$prediction_method)\n",
    "\n",
    "options(repr.plot.width = 20, repr.plot.height = 20)\n",
    "\n",
    "ggplot(cell_freq, aes(\n",
    "  x = factor(prediction_method, levels = methods_order),\n",
    "  y = factor(cell_type, levels = cell_types_order),\n",
    "  fill = row_scaled_frequency\n",
    ")) +\n",
    "  geom_tile(color = \"grey90\", size = 0.4) +  # Subtle tile borders\n",
    "  scale_fill_viridis_c(\n",
    "    option = \"viridis\",\n",
    "    name = \"Row-Scaled Frequency\",\n",
    "    limits = c(0, 1),\n",
    "    guide = guide_colorbar(\n",
    "      barwidth = 1.5, barheight = 15, frame.colour = \"black\", frame.linewidth = 0.6\n",
    "    )\n",
    "  ) +\n",
    "  labs(\n",
    "    x = \"Prediction Parameters\",\n",
    "    y = \"Cell Type\",\n",
    "    title = \"Row-Normalized Cell Type Frequency per Prediction Parameter\"\n",
    "  ) +\n",
    "  theme_minimal(base_size = 18) +\n",
    "  theme(\n",
    "    plot.title = element_text(size = 28, face = \"bold\", hjust = 0.5, margin = margin(b = 16)),\n",
    "    axis.title.x = element_text(size = 22, face = \"bold\", margin = margin(t = 14)),\n",
    "    axis.title.y = element_text(size = 22, face = \"bold\", margin = margin(r = 14)),\n",
    "    axis.text.x = element_text(size = 15, angle = 35, hjust = 1, vjust = 1, face = \"bold\"),\n",
    "    axis.text.y = element_text(size = 16, face = \"bold\"),\n",
    "    panel.grid = element_blank(),\n",
    "    plot.margin = margin(20, 20, 20, 20),\n",
    "    legend.title = element_text(size = 18, face = \"bold\"),\n",
    "    legend.text = element_text(size = 16),\n",
    "    panel.border = element_rect(color = \"black\", fill = NA, linewidth = 1.1)\n",
    "  )\n",
    "\n"
   ]
  },
  {
   "cell_type": "code",
   "execution_count": null,
   "id": "f0374c25-6da6-4806-ba8e-658583c1bc45",
   "metadata": {
    "vscode": {
     "languageId": "r"
    }
   },
   "outputs": [],
   "source": [
    "ggsave('./figures_1/nof_cell_type_count_methods.pdf', plot = last_plot(), width = 20, height = 20, units = 'in', dpi = 300)"
   ]
  },
  {
   "cell_type": "code",
   "execution_count": null,
   "id": "365d3da2-72cb-479a-88e0-073b46c7a636",
   "metadata": {
    "vscode": {
     "languageId": "r"
    }
   },
   "outputs": [],
   "source": []
  },
  {
   "cell_type": "code",
   "execution_count": null,
   "id": "b4097860-eec3-4438-9ab6-2b28b7e9dc2f",
   "metadata": {
    "vscode": {
     "languageId": "r"
    }
   },
   "outputs": [],
   "source": [
    "# cell_counts: number of cells per prediction method and cell type\n",
    "cell_counts <- df_long %>%\n",
    "  group_by(prediction_method, cell_type) %>%\n",
    "  summarise(cell_number = n(), .groups = \"drop\") %>%\n",
    "  arrange(prediction_method, desc(cell_number))\n",
    "\n",
    "# View as a table\n",
    "head(cell_counts, 20)   # View first 20 rows\n"
   ]
  },
  {
   "cell_type": "code",
   "execution_count": null,
   "id": "9dcdb456-fee0-4e16-ae88-742ea0bc4b41",
   "metadata": {
    "vscode": {
     "languageId": "r"
    }
   },
   "outputs": [],
   "source": [
    "# Calculate frequency per prediction_method\n",
    "cell_freq <- cell_counts %>%\n",
    "  group_by(prediction_method) %>%\n",
    "  mutate(frequency = cell_number / sum(cell_number)) %>%\n",
    "  ungroup() %>%\n",
    "  arrange(prediction_method, desc(frequency)) %>%\n",
    "  mutate(\n",
    "    percent = sprintf(\"%.2f%%\", frequency * 100)  # Format as percent string\n",
    "  )\n",
    "\n",
    "# View as a table\n",
    "head(cell_freq, 20)   # View first 20 rows\n"
   ]
  },
  {
   "cell_type": "code",
   "execution_count": null,
   "id": "bbfa71eb-61d0-4623-af5c-1bb23acd3cb9",
   "metadata": {
    "vscode": {
     "languageId": "r"
    }
   },
   "outputs": [],
   "source": [
    "\n",
    "# Using cell_freq as example (works identically for cell_counts)\n",
    "cell_freq <- cell_freq %>%\n",
    "  separate(\n",
    "    col = prediction_method,\n",
    "    into = c(\"Variable_Genes_Count\", \"PCA_Count\", \"rest\"),\n",
    "    sep = \"_\",\n",
    "    remove = FALSE\n",
    "  ) %>%\n",
    "  # Remove \"rest\" (if present) and clean up columns\n",
    "  select(-rest) %>%\n",
    "  # Optionally, remove \"v\" and \"k\" from gene count, \"pca\" from PCA count for readability\n",
    "  mutate(\n",
    "    Variable_Genes_Count = gsub(\"v|k\", \"\", Variable_Genes_Count),\n",
    "    Variable_Genes_Count = paste0(Variable_Genes_Count, \"K\"),\n",
    "    PCA_Count = gsub(\"pca\", \"\", PCA_Count)\n",
    "  )\n",
    "\n",
    "# Preview the result\n",
    "head(cell_freq, 10)"
   ]
  },
  {
   "cell_type": "code",
   "execution_count": null,
   "id": "d65bf9eb-a627-49bc-af03-ad895a7c48c6",
   "metadata": {
    "vscode": {
     "languageId": "r"
    }
   },
   "outputs": [],
   "source": [
    "tail(cell_freq, 10)"
   ]
  },
  {
   "cell_type": "code",
   "execution_count": null,
   "id": "68cbad36-3121-4770-90f8-589b6832b2e8",
   "metadata": {
    "vscode": {
     "languageId": "r"
    }
   },
   "outputs": [],
   "source": [
    "write.table(cell_freq, \"./figures_1/mapping_methods_1.txt\",quote = FALSE, sep = '\\t',col.names = TRUE, dec = ',')\n",
    "write.table(cell_freq, \"./figures_1/mapping_methods_2.txt\",quote = FALSE, sep = '\\t',col.names = TRUE, dec = '.')"
   ]
  },
  {
   "cell_type": "markdown",
   "id": "cd4470d8-051c-402a-924a-350ae13c191f",
   "metadata": {},
   "source": [
    "# UMAP"
   ]
  },
  {
   "cell_type": "code",
   "execution_count": null,
   "id": "ee1c57b9-fa24-45be-b51b-42c6119737f8",
   "metadata": {
    "vscode": {
     "languageId": "r"
    }
   },
   "outputs": [],
   "source": [
    "atlas"
   ]
  },
  {
   "cell_type": "code",
   "execution_count": null,
   "id": "a333042f-715b-4944-bd97-ac686be0bf18",
   "metadata": {
    "vscode": {
     "languageId": "r"
    }
   },
   "outputs": [],
   "source": [
    "obj"
   ]
  },
  {
   "cell_type": "code",
   "execution_count": null,
   "id": "8a15a26c-fccd-493a-b2e2-3cada219849e",
   "metadata": {
    "vscode": {
     "languageId": "r"
    }
   },
   "outputs": [],
   "source": [
    "# Plot"
   ]
  },
  {
   "cell_type": "code",
   "execution_count": null,
   "id": "56150d29-d3f8-4f20-ba00-591171571498",
   "metadata": {
    "vscode": {
     "languageId": "r"
    }
   },
   "outputs": [],
   "source": [
    "mapped_cells <- unique(obj$lv_cell_to)\n",
    "length(mapped_cells)"
   ]
  },
  {
   "cell_type": "code",
   "execution_count": null,
   "id": "a3ffaa90-b98a-4afd-9d3c-7799b30ff06e",
   "metadata": {
    "vscode": {
     "languageId": "r"
    }
   },
   "outputs": [],
   "source": [
    "DimPlot(obj, reduction = 'UMAP', group.by = '')"
   ]
  },
  {
   "cell_type": "code",
   "execution_count": null,
   "id": "be045423-273b-4005-8dcc-5765640c76a4",
   "metadata": {
    "vscode": {
     "languageId": "r"
    }
   },
   "outputs": [],
   "source": [
    "obj$v7k"
   ]
  },
  {
   "cell_type": "code",
   "execution_count": null,
   "id": "81ef1c23-d0d2-4734-b046-22e26832eb49",
   "metadata": {
    "vscode": {
     "languageId": "r"
    }
   },
   "outputs": [],
   "source": [
    "options(repr.plot.width = 12.8, repr.plot.height = 10)\n",
    "\n",
    "p <- DimPlot(\n",
    "  object          = atlas,\n",
    "  reduction       = 'UMAP',\n",
    "  cells.highlight = mapped_cells,\n",
    "  cols.highlight  = \"firebrick2\",     # a bit brighter\n",
    "  cols            = \"grey90\",         # softer background\n",
    "  pt.size         = 0.15,             # slightly larger points\n",
    "  sizes.highlight = 2.5,              # bigger highlight\n",
    "  alpha           = 0.7,              # more visible highlight\n",
    "  raster          = FALSE\n",
    ") +\n",
    "  NoAxes() +\n",
    "  NoLegend() +\n",
    "  ggtitle(\"Atlas Mapping: Used Reference Cells\") +\n",
    "  theme(\n",
    "    plot.title = element_text(\n",
    "      size = 28, face = \"bold\", hjust = 0.5, margin = margin(b = 15)\n",
    "    ),\n",
    "    plot.margin = margin(20, 20, 20, 20)\n",
    "  )\n",
    "\n",
    "p\n"
   ]
  },
  {
   "cell_type": "code",
   "execution_count": null,
   "id": "d55c5b66-a40c-4492-892a-3cf184cd2853",
   "metadata": {
    "vscode": {
     "languageId": "r"
    }
   },
   "outputs": [],
   "source": [
    "ggsave('./figures_1/atlas_umap_reference_cells.pdf', plot = last_plot(), width = 12.8, height = 10, units = 'in', dpi = 300)\n",
    "ggsave('./figures_1/atlas_umap_reference_cells.png', plot = last_plot(), width = 12.8, height = 10, units = 'in', dpi = 300)"
   ]
  },
  {
   "cell_type": "code",
   "execution_count": null,
   "id": "86262faf-e6f6-42d5-b26c-97c60d7a9591",
   "metadata": {
    "vscode": {
     "languageId": "r"
    }
   },
   "outputs": [],
   "source": [
    "options(repr.plot.width = 10, repr.plot.height = 10)\n",
    "\n",
    "p <- DimPlot(\n",
    "  object          = atlas,\n",
    "  reduction       = 'UMAP',\n",
    "  cells.highlight = mapped_cells,\n",
    "  cols.highlight  = \"firebrick2\",     # a bit brighter\n",
    "  cols            = \"grey90\",         # softer background\n",
    "  pt.size         = 0.15,             # slightly larger points\n",
    "  sizes.highlight = 2.5,              # bigger highlight\n",
    "  alpha           = 0.7,              # more visible highlight\n",
    "  raster          = FALSE\n",
    ") +\n",
    "  NoAxes() +\n",
    "  NoLegend() +\n",
    "  ggtitle(\"Atlas Mapping: Used Reference Cells\") +\n",
    "  theme(\n",
    "    plot.title = element_text(\n",
    "      size = 28, face = \"bold\", hjust = 0.5, margin = margin(b = 15)\n",
    "    ),\n",
    "    plot.margin = margin(20, 20, 20, 20)\n",
    "  )\n",
    "\n",
    "p\n"
   ]
  },
  {
   "cell_type": "code",
   "execution_count": null,
   "id": "9cb9e13a-3ca5-4469-b2b3-cd6a52b79d76",
   "metadata": {
    "vscode": {
     "languageId": "r"
    }
   },
   "outputs": [],
   "source": [
    "ggsave('./figures_1/atlas_umap_reference_cells_2.pdf', plot = last_plot(), width = 10, height = 10, units = 'in', dpi = 300)\n",
    "ggsave('./figures_1/atlas_umap_reference_cells_2.png', plot = last_plot(), width = 10, height = 10, units = 'in', dpi = 300)"
   ]
  },
  {
   "cell_type": "code",
   "execution_count": null,
   "id": "8006842e-0846-432b-87f3-4d20ac90ef07",
   "metadata": {
    "vscode": {
     "languageId": "r"
    }
   },
   "outputs": [],
   "source": [
    "options(repr.plot.width = 9.6, repr.plot.height = 6)\n",
    "DimPlot(obj, reduction = \"UMAP\", group.by = 'lv_anatomy',cols = r3dcol$cols_94, alpha = 0.5)+ NoAxes() + theme(plot.title = element_blank())\n"
   ]
  },
  {
   "cell_type": "code",
   "execution_count": null,
   "id": "66b9ed10-7e7b-4eae-99a9-9f77e92e2314",
   "metadata": {
    "vscode": {
     "languageId": "r"
    }
   },
   "outputs": [],
   "source": [
    "ggsave('./figures_1/obj_anatomy.pdf', plot = last_plot(), width = 9.6, height = 6, units = 'in', dpi = 300)\n",
    "ggsave('./figures_1/obj_anatomy.png', plot = last_plot(), width = 9.6, height = 6, units = 'in', dpi = 300)"
   ]
  },
  {
   "cell_type": "code",
   "execution_count": null,
   "id": "39ab12b0-4e99-4aa9-bdb4-c7727ea76a9a",
   "metadata": {
    "vscode": {
     "languageId": "r"
    }
   },
   "outputs": [],
   "source": [
    "# Get the 40 cell types you want to highlight\n",
    "celltype_counts <- table(obj$lv_anatomy)\n",
    "celltypes_gt10 <- names(celltype_counts)[celltype_counts > 1]\n",
    "length(celltypes_gt10)\n",
    "celltypes_gt10 <- head(celltypes_gt10, 40)  # in case you want only the top 40\n",
    "\n",
    "# Get cell names for each type\n",
    "cells_by_type <- lapply(celltypes_gt10, function(ct) {\n",
    "  WhichCells(obj, expression = lv_anatomy == ct)\n",
    "})\n",
    "names(cells_by_type) <- celltypes_gt10"
   ]
  },
  {
   "cell_type": "code",
   "execution_count": null,
   "id": "c966ea89-5ccb-4eac-93fe-73000b131828",
   "metadata": {
    "scrolled": true,
    "vscode": {
     "languageId": "r"
    }
   },
   "outputs": [],
   "source": [
    "plot_list <- lapply(seq_along(cells_by_type), function(i) {\n",
    "  ct <- names(cells_by_type)[i]\n",
    "  cells <- cells_by_type[[i]]\n",
    "  \n",
    "  DimPlot(\n",
    "    obj,\n",
    "    reduction = \"UMAP\",\n",
    "    cells.highlight = list(cells),\n",
    "    cols.highlight = \"firebrick\",\n",
    "    cols = \"grey90\",\n",
    "    pt.size = 0.5,\n",
    "    sizes.highlight = 2.5,\n",
    "    alpha = 0.5,\n",
    "      raster = TRUE\n",
    "  ) +\n",
    "    NoAxes() +\n",
    "    NoLegend() +\n",
    "    ggtitle(ct) +\n",
    "    theme(\n",
    "      plot.title = element_text(size = 13,  hjust = 0.5),\n",
    "      plot.margin = margin(2, 2, 2, 2)\n",
    "    )\n",
    "})\n"
   ]
  },
  {
   "cell_type": "code",
   "execution_count": null,
   "id": "bf87973d-e944-447c-908e-66910c624d27",
   "metadata": {
    "vscode": {
     "languageId": "r"
    }
   },
   "outputs": [],
   "source": [
    "options(repr.plot.width = 20, repr.plot.height = 6 )\n",
    "combined_plot <- wrap_plots(plot_list, ncol = 5, nrow = 2)\n",
    "combined_plot"
   ]
  },
  {
   "cell_type": "code",
   "execution_count": null,
   "id": "9d07a271-d410-4c0d-8b2b-d12fc8488900",
   "metadata": {
    "vscode": {
     "languageId": "r"
    }
   },
   "outputs": [],
   "source": [
    "ggsave('./figures_1/obj_lv_anatomy_greater_1.pdf', plot = last_plot(), width = 20, height = 6, units = 'in', dpi = 300)\n",
    "ggsave('./figures_1/obj_lv_anatomy_greater_1.png', plot = last_plot(), width = 20, height = 6, units = 'in', dpi = 300)"
   ]
  },
  {
   "cell_type": "code",
   "execution_count": null,
   "id": "ebcccbea-ed32-4d60-94da-d2ff5416cf9e",
   "metadata": {
    "vscode": {
     "languageId": "r"
    }
   },
   "outputs": [],
   "source": [
    "options(repr.plot.width = 9.6, repr.plot.height = 6)\n",
    "DimPlot(obj, reduction = \"UMAP\", group.by = 'lv_somite',cols = r3dcol$cols_94, alpha = 0.5)+ NoAxes() + theme(plot.title = element_blank())\n"
   ]
  },
  {
   "cell_type": "code",
   "execution_count": null,
   "id": "be43d490-9f89-444e-bca1-bd11de3d7680",
   "metadata": {
    "vscode": {
     "languageId": "r"
    }
   },
   "outputs": [],
   "source": [
    "ggsave('./figures_1/obj_somite_count.pdf', plot = last_plot(), width = 9.6, height = 6, units = 'in', dpi = 300)\n",
    "ggsave('./figures_1/obj_somite_count.png', plot = last_plot(), width = 9.6, height = 6, units = 'in', dpi = 300)"
   ]
  },
  {
   "cell_type": "code",
   "execution_count": null,
   "id": "f006b995-6d0f-479b-83fe-aaa010d18e9c",
   "metadata": {
    "vscode": {
     "languageId": "r"
    }
   },
   "outputs": [],
   "source": [
    "# Get the 40 cell types you want to highlight\n",
    "celltype_counts <- table(obj$lv_somite)\n",
    "celltypes_gt10 <- names(celltype_counts)[celltype_counts > 1]\n",
    "length(celltypes_gt10)\n",
    "celltypes_gt10 <- head(celltypes_gt10, 40)  # in case you want only the top 40\n",
    "\n",
    "# Get cell names for each type\n",
    "cells_by_type <- lapply(celltypes_gt10, function(ct) {\n",
    "  WhichCells(obj, expression = lv_somite == ct)\n",
    "})\n",
    "names(cells_by_type) <- celltypes_gt10"
   ]
  },
  {
   "cell_type": "code",
   "execution_count": null,
   "id": "b1da538d-caa3-481d-8247-1c81c2b78173",
   "metadata": {
    "scrolled": true,
    "vscode": {
     "languageId": "r"
    }
   },
   "outputs": [],
   "source": [
    "plot_list <- lapply(seq_along(cells_by_type), function(i) {\n",
    "  ct <- names(cells_by_type)[i]\n",
    "  cells <- cells_by_type[[i]]\n",
    "  \n",
    "  DimPlot(\n",
    "    obj,\n",
    "    reduction = \"UMAP\",\n",
    "    cells.highlight = list(cells),\n",
    "    cols.highlight = \"firebrick\",\n",
    "    cols = \"grey90\",\n",
    "    pt.size = 0.5,\n",
    "    sizes.highlight = 2.5,\n",
    "    alpha = 0.5,\n",
    "      raster = TRUE\n",
    "  ) +\n",
    "    NoAxes() +\n",
    "    NoLegend() +\n",
    "    ggtitle(ct) +\n",
    "    theme(\n",
    "      plot.title = element_text(size = 13,  hjust = 0.5),\n",
    "      plot.margin = margin(2, 2, 2, 2)\n",
    "    )\n",
    "})\n"
   ]
  },
  {
   "cell_type": "code",
   "execution_count": null,
   "id": "b8a5c9d9-92fa-4590-bec3-3bcb9b9e5909",
   "metadata": {
    "vscode": {
     "languageId": "r"
    }
   },
   "outputs": [],
   "source": [
    "options(repr.plot.width = 20, repr.plot.height = 9 )\n",
    "combined_plot <- wrap_plots(plot_list, ncol = 5, nrow = 3)\n",
    "combined_plot"
   ]
  },
  {
   "cell_type": "code",
   "execution_count": null,
   "id": "eb3bf3cd-82dc-44e6-828e-7080b4dbc8b0",
   "metadata": {
    "vscode": {
     "languageId": "r"
    }
   },
   "outputs": [],
   "source": [
    "ggsave('./figures_1/obj_lv_somite_greater_1.pdf', plot = last_plot(), width = 20, height = 9, units = 'in', dpi = 300)\n",
    "ggsave('./figures_1/obj_lv_somite_greater_1.png', plot = last_plot(), width = 20, height = 9, units = 'in', dpi = 300)"
   ]
  },
  {
   "cell_type": "code",
   "execution_count": null,
   "id": "844b406f-be65-4b06-99cc-b891976fd85f",
   "metadata": {
    "vscode": {
     "languageId": "r"
    }
   },
   "outputs": [],
   "source": [
    "options(repr.plot.width = 9.6, repr.plot.height = 6)\n",
    "DimPlot(obj, reduction = \"UMAP\", group.by = 'lv_stages',cols = r3dcol$cols_94, alpha = 0.5)+ NoAxes() + theme(plot.title = element_blank())\n"
   ]
  },
  {
   "cell_type": "code",
   "execution_count": null,
   "id": "d0edc364-5314-4d4c-b41f-bc12facaa90d",
   "metadata": {
    "vscode": {
     "languageId": "r"
    }
   },
   "outputs": [],
   "source": [
    "ggsave('./figures_1/obj_embryonic_stages.pdf', plot = last_plot(), width = 9.6, height = 6, units = 'in', dpi = 300)\n",
    "ggsave('./figures_1/obj_embryonic_stages.png', plot = last_plot(), width = 9.6, height = 6, units = 'in', dpi = 300)"
   ]
  },
  {
   "cell_type": "code",
   "execution_count": null,
   "id": "3da47385-6287-412b-ab8b-51090af17a81",
   "metadata": {
    "vscode": {
     "languageId": "r"
    }
   },
   "outputs": [],
   "source": [
    "# Get the 40 cell types you want to highlight\n",
    "celltype_counts <- table(obj$lv_stages)\n",
    "celltypes_gt10 <- names(celltype_counts)[celltype_counts > 1]\n",
    "length(celltypes_gt10)\n",
    "celltypes_gt10 <- head(celltypes_gt10, 40)  # in case you want only the top 40\n",
    "\n",
    "# Get cell names for each type\n",
    "cells_by_type <- lapply(celltypes_gt10, function(ct) {\n",
    "  WhichCells(obj, expression = lv_stages == ct)\n",
    "})\n",
    "names(cells_by_type) <- celltypes_gt10"
   ]
  },
  {
   "cell_type": "code",
   "execution_count": null,
   "id": "cb268190-0563-4ca3-8323-7c38f61597ee",
   "metadata": {
    "scrolled": true,
    "vscode": {
     "languageId": "r"
    }
   },
   "outputs": [],
   "source": [
    "plot_list <- lapply(seq_along(cells_by_type), function(i) {\n",
    "  ct <- names(cells_by_type)[i]\n",
    "  cells <- cells_by_type[[i]]\n",
    "  \n",
    "  DimPlot(\n",
    "    obj,\n",
    "    reduction = \"UMAP\",\n",
    "    cells.highlight = list(cells),\n",
    "    cols.highlight = \"firebrick\",\n",
    "    cols = \"grey90\",\n",
    "    pt.size = 0.5,\n",
    "    sizes.highlight = 2.5,\n",
    "    alpha = 0.5,\n",
    "      raster = TRUE\n",
    "  ) +\n",
    "    NoAxes() +\n",
    "    NoLegend() +\n",
    "    ggtitle(ct) +\n",
    "    theme(\n",
    "      plot.title = element_text(size = 13,  hjust = 0.5),\n",
    "      plot.margin = margin(2, 2, 2, 2)\n",
    "    )\n",
    "})\n"
   ]
  },
  {
   "cell_type": "code",
   "execution_count": null,
   "id": "6ba76c30-f38f-4e79-a2c3-0e5883829311",
   "metadata": {
    "vscode": {
     "languageId": "r"
    }
   },
   "outputs": [],
   "source": [
    "options(repr.plot.width = 20, repr.plot.height = 9 )\n",
    "combined_plot <- wrap_plots(plot_list, ncol = 5, nrow = 3)\n",
    "combined_plot"
   ]
  },
  {
   "cell_type": "code",
   "execution_count": null,
   "id": "e3b8cb94-5132-420d-a722-854224c56285",
   "metadata": {
    "vscode": {
     "languageId": "r"
    }
   },
   "outputs": [],
   "source": [
    "ggsave('./figures_1/obj_lv_embryonic_stages_greater_1.pdf', plot = last_plot(), width = 20, height = 9, units = 'in', dpi = 300)\n",
    "ggsave('./figures_1/obj_lv_embryonic_stages_1.png', plot = last_plot(), width = 20, height = 9, units = 'in', dpi = 300)"
   ]
  },
  {
   "cell_type": "code",
   "execution_count": null,
   "id": "d54f84c6-ebac-45e3-b70b-7f7a4ff4b0d9",
   "metadata": {
    "vscode": {
     "languageId": "r"
    }
   },
   "outputs": [],
   "source": [
    "options(repr.plot.width = 20, repr.plot.height = 8)\n",
    "DimPlot(obj, reduction = \"UMAP\", group.by = 'lv_cell_type',cols = r3dcol$cols_94, alpha = 0.5)+ NoAxes() + theme(plot.title = element_blank())"
   ]
  },
  {
   "cell_type": "code",
   "execution_count": null,
   "id": "1de93886-826f-4ba2-95ec-9d8c0c78c574",
   "metadata": {
    "vscode": {
     "languageId": "r"
    }
   },
   "outputs": [],
   "source": [
    "ggsave('./figures_1/obj_celltypes_v7k75pca.pdf', plot = last_plot(), width = 20, height = 8, units = 'in', dpi = 300)\n",
    "ggsave('./figures_1/obj_celltypes_v7k75pca.png', plot = last_plot(), width = 20, height = 8, units = 'in', dpi = 300)"
   ]
  },
  {
   "cell_type": "code",
   "execution_count": null,
   "id": "c330544f-dff7-48f2-96ce-e1083dda075f",
   "metadata": {
    "vscode": {
     "languageId": "r"
    }
   },
   "outputs": [],
   "source": [
    "\n",
    "# Get the 40 cell types you want to highlight\n",
    "celltype_counts <- table(obj$lv_cell_type)\n",
    "celltypes_gt10 <- names(celltype_counts)[celltype_counts > 6]\n",
    "celltypes_gt10 <- head(celltypes_gt10, 40)  # in case you want only the top 40\n",
    "\n",
    "# Get cell names for each type\n",
    "cells_by_type <- lapply(celltypes_gt10, function(ct) {\n",
    "  WhichCells(obj, expression = lv_cell_type == ct)\n",
    "})\n",
    "names(cells_by_type) <- celltypes_gt10"
   ]
  },
  {
   "cell_type": "code",
   "execution_count": null,
   "id": "48dd61dd-49bf-47d1-a306-4faa5aebcd40",
   "metadata": {
    "scrolled": true,
    "vscode": {
     "languageId": "r"
    }
   },
   "outputs": [],
   "source": [
    "options(repr.plot.width = 20, repr.plot.height = 22.5 )\n",
    "plot_list <- lapply(seq_along(cells_by_type), function(i) {\n",
    "  ct <- names(cells_by_type)[i]\n",
    "  cells <- cells_by_type[[i]]\n",
    "  \n",
    "  DimPlot(\n",
    "    obj,\n",
    "    reduction = \"UMAP\",\n",
    "    cells.highlight = list(cells),\n",
    "    cols.highlight = \"firebrick\",\n",
    "    cols = \"grey90\",\n",
    "    pt.size = 0.5,\n",
    "    sizes.highlight = 2.5,\n",
    "    alpha = 0.5,\n",
    "      raster = TRUE\n",
    "  ) +\n",
    "    NoAxes() +\n",
    "    NoLegend() +\n",
    "    ggtitle(ct) +\n",
    "    theme(\n",
    "      plot.title = element_text(size = 13,  hjust = 0.5),\n",
    "      plot.margin = margin(2, 2, 2, 2)\n",
    "    )\n",
    "})\n"
   ]
  },
  {
   "cell_type": "code",
   "execution_count": null,
   "id": "34393295-c510-4516-92e5-b49a28b63e0a",
   "metadata": {
    "vscode": {
     "languageId": "r"
    }
   },
   "outputs": [],
   "source": [
    "library(patchwork)"
   ]
  },
  {
   "cell_type": "code",
   "execution_count": null,
   "id": "aba23e08-a3d2-49ac-ad52-7b7279a32c26",
   "metadata": {
    "vscode": {
     "languageId": "r"
    }
   },
   "outputs": [],
   "source": [
    "combined_plot <- wrap_plots(plot_list, ncol = 5, nrow = 8)\n",
    "combined_plot"
   ]
  },
  {
   "cell_type": "code",
   "execution_count": null,
   "id": "3fa5f6ef-5dce-41bd-b135-0fbd30ef9cce",
   "metadata": {
    "vscode": {
     "languageId": "r"
    }
   },
   "outputs": [],
   "source": [
    "ggsave('./figures_1/obj_celltypes_v7k75pca_umap_greater_6.pdf', plot = last_plot(), width = 20, height = 22.5, units = 'in', dpi = 300)\n",
    "ggsave('./figures_1/obj_celltypes_v7k75pca_umap_greater_6.png', plot = last_plot(), width = 20, height = 22.5, units = 'in', dpi = 300)"
   ]
  },
  {
   "cell_type": "code",
   "execution_count": null,
   "id": "a9c5d3dd-fd2c-4254-83d8-cda52372d777",
   "metadata": {
    "vscode": {
     "languageId": "r"
    }
   },
   "outputs": [],
   "source": []
  },
  {
   "cell_type": "code",
   "execution_count": null,
   "id": "c3f5068a-2d48-4711-ad81-f0efe83a76d8",
   "metadata": {
    "vscode": {
     "languageId": "r"
    }
   },
   "outputs": [],
   "source": []
  },
  {
   "cell_type": "code",
   "execution_count": null,
   "id": "354cbe7c-369a-4e7d-a99f-7d6972fbb131",
   "metadata": {
    "vscode": {
     "languageId": "r"
    }
   },
   "outputs": [],
   "source": [
    "options(repr.plot.width = 20, repr.plot.height = 8)\n",
    "DimPlot(obj, reduction = \"UMAP\", group.by = 'v4k_pca50_predicted.id',cols = r3dcol$cols_94, alpha = 0.5)+ NoAxes() + theme(plot.title = element_blank())"
   ]
  },
  {
   "cell_type": "code",
   "execution_count": null,
   "id": "6ebb7589-314e-43a1-9d21-a427388759b8",
   "metadata": {
    "vscode": {
     "languageId": "r"
    }
   },
   "outputs": [],
   "source": [
    "ggsave('./figures_1/obj_celltypes_v4k50pca.pdf', plot = last_plot(), width = 20, height = 8, units = 'in', dpi = 300)\n",
    "ggsave('./figures_1/obj_celltypes_v4k50pca.png', plot = last_plot(), width = 20, height = 8, units = 'in', dpi = 300)"
   ]
  },
  {
   "cell_type": "code",
   "execution_count": null,
   "id": "16015686-d400-446e-808b-330bed042b1c",
   "metadata": {
    "vscode": {
     "languageId": "r"
    }
   },
   "outputs": [],
   "source": []
  },
  {
   "cell_type": "code",
   "execution_count": null,
   "id": "11678e22-ce15-471b-a745-92ee66016d64",
   "metadata": {
    "vscode": {
     "languageId": "r"
    }
   },
   "outputs": [],
   "source": [
    "# Get the 40 cell types you want to highlight\n",
    "celltype_counts <- table(obj$v4k_pca50_predicted.id)\n",
    "celltypes_gt10 <- names(celltype_counts)[celltype_counts > 6]\n",
    "length(celltypes_gt10)\n",
    "celltypes_gt10 <- head(celltypes_gt10, 40)  # in case you want only the top 40\n",
    "\n",
    "# Get cell names for each type\n",
    "cells_by_type <- lapply(celltypes_gt10, function(ct) {\n",
    "  WhichCells(obj, expression = v4k_pca50_predicted.id == ct)\n",
    "})\n",
    "names(cells_by_type) <- celltypes_gt10"
   ]
  },
  {
   "cell_type": "code",
   "execution_count": null,
   "id": "32d32622-6261-4d5d-a5a1-d8ad5344487e",
   "metadata": {
    "scrolled": true,
    "vscode": {
     "languageId": "r"
    }
   },
   "outputs": [],
   "source": [
    "options(repr.plot.width = 20, repr.plot.height = 22.5 )\n",
    "plot_list <- lapply(seq_along(cells_by_type), function(i) {\n",
    "  ct <- names(cells_by_type)[i]\n",
    "  cells <- cells_by_type[[i]]\n",
    "  \n",
    "  DimPlot(\n",
    "    obj,\n",
    "    reduction = \"UMAP\",\n",
    "    cells.highlight = list(cells),\n",
    "    cols.highlight = \"firebrick\",\n",
    "    cols = \"grey90\",\n",
    "    pt.size = 0.5,\n",
    "    sizes.highlight = 2.5,\n",
    "    alpha = 0.5,\n",
    "      raster = TRUE\n",
    "  ) +\n",
    "    NoAxes() +\n",
    "    NoLegend() +\n",
    "    ggtitle(ct) +\n",
    "    theme(\n",
    "      plot.title = element_text(size = 13,  hjust = 0.5),\n",
    "      plot.margin = margin(2, 2, 2, 2)\n",
    "    )\n",
    "})\n"
   ]
  },
  {
   "cell_type": "code",
   "execution_count": null,
   "id": "e17ca340-d5c1-4e36-b65a-6009ac41f1dc",
   "metadata": {
    "vscode": {
     "languageId": "r"
    }
   },
   "outputs": [],
   "source": [
    "options(repr.plot.width = 20, repr.plot.height = 22.5 )\n",
    "combined_plot <- wrap_plots(plot_list, ncol = 5, nrow = 8)\n",
    "combined_plot"
   ]
  },
  {
   "cell_type": "code",
   "execution_count": null,
   "id": "4c969a4b-f0e6-4ac8-9c95-16dcc3868faf",
   "metadata": {
    "vscode": {
     "languageId": "r"
    }
   },
   "outputs": [],
   "source": [
    "ggsave('./figures_1/obj_celltypes_v4k50pca_umap_greater_6.pdf', plot = last_plot(), width = 20, height = 22.5, units = 'in', dpi = 300)\n",
    "ggsave('./figures_1/obj_celltypes_v4k50pca_umap_greater_6.png', plot = last_plot(), width = 20, height = 22.5, units = 'in', dpi = 300)"
   ]
  },
  {
   "cell_type": "code",
   "execution_count": null,
   "id": "d86c1785-7617-4514-bf43-09cdc89f2c0b",
   "metadata": {
    "vscode": {
     "languageId": "r"
    }
   },
   "outputs": [],
   "source": []
  },
  {
   "cell_type": "code",
   "execution_count": null,
   "id": "c9511891-f742-423a-8b80-4f2033a4c67f",
   "metadata": {
    "vscode": {
     "languageId": "r"
    }
   },
   "outputs": [],
   "source": []
  },
  {
   "cell_type": "code",
   "execution_count": null,
   "id": "b99dac8e-fb9c-4fee-9f41-58130daac833",
   "metadata": {
    "vscode": {
     "languageId": "r"
    }
   },
   "outputs": [],
   "source": [
    "options(repr.plot.width = 20, repr.plot.height = 8)\n",
    "DimPlot(obj, reduction = \"UMAP\", group.by = 'v4k_pca50_predicted.id',cols = r3dcol$cols_94, alpha = 0.5)+ NoAxes() + theme(plot.title = element_blank())"
   ]
  },
  {
   "cell_type": "code",
   "execution_count": null,
   "id": "cd4bd329-2d2d-484d-a3f1-c30d5b56365d",
   "metadata": {
    "vscode": {
     "languageId": "r"
    }
   },
   "outputs": [],
   "source": [
    "ggsave('./figures_1/obj_celltypes_v4k50pca.pdf', plot = last_plot(), width = 20, height = 8, units = 'in', dpi = 300)\n",
    "ggsave('./figures_1/obj_celltypes_v4k50pca.png', plot = last_plot(), width = 20, height = 8, units = 'in', dpi = 300)"
   ]
  },
  {
   "cell_type": "code",
   "execution_count": null,
   "id": "0abc5de4-b4a2-4ccc-a764-1b0f9d488fa0",
   "metadata": {
    "vscode": {
     "languageId": "r"
    }
   },
   "outputs": [],
   "source": []
  },
  {
   "cell_type": "code",
   "execution_count": null,
   "id": "7c73078e-1a45-4e66-a12b-5ed7fb35dc83",
   "metadata": {
    "vscode": {
     "languageId": "r"
    }
   },
   "outputs": [],
   "source": [
    "# Get the 40 cell types you want to highlight\n",
    "celltype_counts <- table(obj$v10k_pca100_predicted.id)\n",
    "celltypes_gt10 <- names(celltype_counts)[celltype_counts > 6]\n",
    "length(celltypes_gt10)\n",
    "celltypes_gt10 <- head(celltypes_gt10, 40)  # in case you want only the top 40\n",
    "\n",
    "# Get cell names for each type\n",
    "cells_by_type <- lapply(celltypes_gt10, function(ct) {\n",
    "  WhichCells(obj, expression = v10k_pca100_predicted.id == ct)\n",
    "})\n",
    "names(cells_by_type) <- celltypes_gt10"
   ]
  },
  {
   "cell_type": "code",
   "execution_count": null,
   "id": "46e088d9-446e-4402-a4ae-326ad426b3a1",
   "metadata": {
    "scrolled": true,
    "vscode": {
     "languageId": "r"
    }
   },
   "outputs": [],
   "source": [
    "options(repr.plot.width = 20, repr.plot.height = 22.5 )\n",
    "plot_list <- lapply(seq_along(cells_by_type), function(i) {\n",
    "  ct <- names(cells_by_type)[i]\n",
    "  cells <- cells_by_type[[i]]\n",
    "  \n",
    "  DimPlot(\n",
    "    obj,\n",
    "    reduction = \"UMAP\",\n",
    "    cells.highlight = list(cells),\n",
    "    cols.highlight = \"firebrick\",\n",
    "    cols = \"grey90\",\n",
    "    pt.size = 0.5,\n",
    "    sizes.highlight = 2.5,\n",
    "    alpha = 0.5,\n",
    "      raster = TRUE\n",
    "  ) +\n",
    "    NoAxes() +\n",
    "    NoLegend() +\n",
    "    ggtitle(ct) +\n",
    "    theme(\n",
    "      plot.title = element_text(size = 13,  hjust = 0.5),\n",
    "      plot.margin = margin(2, 2, 2, 2)\n",
    "    )\n",
    "})\n"
   ]
  },
  {
   "cell_type": "code",
   "execution_count": null,
   "id": "17878567-7372-453d-8a5a-eb5a95e85182",
   "metadata": {
    "vscode": {
     "languageId": "r"
    }
   },
   "outputs": [],
   "source": [
    "options(repr.plot.width = 20, repr.plot.height = 22.5 )\n",
    "combined_plot <- wrap_plots(plot_list, ncol = 5, nrow = 8)\n",
    "combined_plot"
   ]
  },
  {
   "cell_type": "code",
   "execution_count": null,
   "id": "07c1059d-5887-45f7-84a3-c0ebdcef3359",
   "metadata": {
    "vscode": {
     "languageId": "r"
    }
   },
   "outputs": [],
   "source": [
    "ggsave('./figures_1/obj_celltypes_v10k100pca_umap_greater_6.pdf', plot = last_plot(), width = 20, height = 22.5, units = 'in', dpi = 300)\n",
    "ggsave('./figures_1/obj_celltypes_v10k100pca_umap_greater_6.png', plot = last_plot(), width = 20, height = 22.5, units = 'in', dpi = 300)"
   ]
  },
  {
   "cell_type": "markdown",
   "id": "0bc15647-c00d-400d-8340-a794c788c2a6",
   "metadata": {},
   "source": [
    "# Save"
   ]
  },
  {
   "cell_type": "code",
   "execution_count": null,
   "id": "cb6a9f6b-7d18-45e3-b161-3f48c8143ea2",
   "metadata": {
    "vscode": {
     "languageId": "r"
    }
   },
   "outputs": [],
   "source": [
    "saveRDS(obj, file = '../../cmo_version3.rds', compress = FALSE)"
   ]
  },
  {
   "cell_type": "markdown",
   "id": "e43fbe2d-6ed8-4145-871d-42d608014a71",
   "metadata": {},
   "source": [
    "# Dynamics"
   ]
  },
  {
   "cell_type": "code",
   "execution_count": null,
   "id": "836aedcf-42f4-4b51-9ed9-b44f63cfebaa",
   "metadata": {
    "vscode": {
     "languageId": "r"
    }
   },
   "outputs": [],
   "source": [
    "options(repr.plot.width = 20, repr.plot.height = 5 )\n",
    "p1 <- VlnPlot(obj, features = c(\"Atf3\", \"Zfp711\", \"Bcl6b\"), group.by = 'lv_stages', cols = r3dcol$cols_94, log = FALSE,alpha = 0.5, raster = TRUE) & \n",
    "scale_x_discrete(labels = c(\"Mixed gastrulation\" = \"Mixed\"))&\n",
    "theme(axis.title.x =  element_blank())\n",
    "\n",
    "p1"
   ]
  },
  {
   "cell_type": "code",
   "execution_count": null,
   "id": "ace3f9fa-393b-4f2f-b2fa-58ca80fb80f9",
   "metadata": {
    "vscode": {
     "languageId": "r"
    }
   },
   "outputs": [],
   "source": [
    "options(repr.plot.width = 20, repr.plot.height = 5 )\n",
    "p2 <- VlnPlot(obj, features = c(\"Atf3\", \"Zfp711\", \"Bcl6b\"), group.by = 'lv_somite', cols = r3dcol$cols_94, log = FALSE,alpha = 0.5, raster = TRUE) & \n",
    "scale_x_discrete(labels = c(\"Mixed gastrulation\" = \"Mixed\"))&\n",
    "theme(axis.title.x =  element_blank())\n",
    "p2"
   ]
  },
  {
   "cell_type": "code",
   "execution_count": null,
   "id": "d3232c56-b12b-4522-a8d2-8edcbba07027",
   "metadata": {
    "vscode": {
     "languageId": "r"
    }
   },
   "outputs": [],
   "source": [
    "options(repr.plot.width = 20, repr.plot.height = 5 )\n",
    "p3 <- VlnPlot(obj, features = c(\"Atf3\", \"Zfp711\", \"Bcl6b\"), group.by = 'lv_anatomy', cols = r3dcol$cols_94, log = FALSE,alpha = 0.5, raster = TRUE) & \n",
    "scale_x_discrete(labels = c(\"Mixed gastrulation\" = \"Mixed\"))&\n",
    "theme(axis.title.x =  element_blank())\n",
    "p3"
   ]
  },
  {
   "cell_type": "code",
   "execution_count": null,
   "id": "b0f6866b-751b-4ca2-b936-36ffd908343c",
   "metadata": {
    "vscode": {
     "languageId": "r"
    }
   },
   "outputs": [],
   "source": [
    "options(repr.plot.width = 20, repr.plot.height = 5 )\n",
    "p1a <- VlnPlot(atlas, features = c(\"Atf3\", \"Zfp711\", \"Bcl6b\"), group.by = 'stage', cols = r3dcol$cols_94, log = FALSE,alpha = 0.5, raster = TRUE) & \n",
    "scale_x_discrete(labels = c(\"Mixed gastrulation\" = \"Mixed\"))&\n",
    "theme(axis.title.x =  element_blank())\n",
    "\n",
    "p1a"
   ]
  },
  {
   "cell_type": "code",
   "execution_count": null,
   "id": "86eb33fc-ea17-4d3b-8e18-8893a2d510c4",
   "metadata": {
    "vscode": {
     "languageId": "r"
    }
   },
   "outputs": [],
   "source": [
    "options(repr.plot.width = 20, repr.plot.height = 5 )\n",
    "p2a <- VlnPlot(atlas, features = c(\"Atf3\", \"Zfp711\", \"Bcl6b\"), group.by = 'somite_count', cols = r3dcol$cols_94, log = FALSE,alpha = 0.5, raster = TRUE) & \n",
    "scale_x_discrete(labels = c(\"Mixed gastrulation\" = \"Mixed\"))&\n",
    "theme(axis.title.x =  element_blank())\n",
    "\n",
    "p2a"
   ]
  },
  {
   "cell_type": "code",
   "execution_count": null,
   "id": "e33194fe-f77f-43fe-b595-3f875ec40280",
   "metadata": {
    "vscode": {
     "languageId": "r"
    }
   },
   "outputs": [],
   "source": [
    "options(repr.plot.width = 20, repr.plot.height = 5 )\n",
    "p3a <- VlnPlot(atlas, features = c(\"Atf3\", \"Zfp711\", \"Bcl6b\"), group.by = 'anatomy', cols = r3dcol$cols_94, log = FALSE,alpha = 0.5, raster = TRUE) & \n",
    "scale_x_discrete(labels = c(\"Mixed gastrulation\" = \"Mixed\"))&\n",
    "theme(axis.title.x =  element_blank())\n",
    "\n",
    "p3a"
   ]
  },
  {
   "cell_type": "code",
   "execution_count": null,
   "id": "30c37256-bf68-41a3-9f5b-85109dfc6458",
   "metadata": {
    "vscode": {
     "languageId": "r"
    }
   },
   "outputs": [],
   "source": [
    "options(repr.plot.width = 20, repr.plot.height = 5 )\n",
    "p4a <- VlnPlot(atlas, features = c(\"Atf3\", \"Zfp711\", \"Bcl6b\"), group.by = 'celltype_extended_atlas', cols = r3dcol$cols_94, log = FALSE,alpha = 0.5, raster = TRUE) & \n",
    "scale_x_discrete(labels = c(\"Mixed gastrulation\" = \"Mixed\"))&\n",
    "theme(axis.title.x =  element_blank())\n",
    "\n",
    "p4a"
   ]
  },
  {
   "cell_type": "code",
   "execution_count": null,
   "id": "16c0e7cd-4c69-47d4-afb6-045743023341",
   "metadata": {
    "vscode": {
     "languageId": "r"
    }
   },
   "outputs": [],
   "source": [
    "library(ComplexHeatmap)"
   ]
  },
  {
   "cell_type": "code",
   "execution_count": null,
   "id": "c66e52c7-33a1-46f2-ac9e-f2e641101b6a",
   "metadata": {
    "vscode": {
     "languageId": "r"
    }
   },
   "outputs": [],
   "source": [
    "library(pheatmap)"
   ]
  },
  {
   "cell_type": "code",
   "execution_count": null,
   "id": "5890a41f-2738-4745-a5a6-6b5544595c70",
   "metadata": {
    "vscode": {
     "languageId": "r"
    }
   },
   "outputs": [],
   "source": [
    "ko_genes <- c('Atf3','Zfp711','Bcl6b')"
   ]
  },
  {
   "cell_type": "code",
   "execution_count": null,
   "id": "6f5f1c1b-869b-4230-b9e9-9be16846a848",
   "metadata": {
    "vscode": {
     "languageId": "r"
    }
   },
   "outputs": [],
   "source": [
    "avg_ko <- AverageExpression(obj,features = ko_genes, layer = 'counts',group.by =  'cell_type_subclusters' )"
   ]
  },
  {
   "cell_type": "code",
   "execution_count": null,
   "id": "49c18b38-110a-4fe2-a4ec-f8e7e71ee34c",
   "metadata": {
    "vscode": {
     "languageId": "r"
    }
   },
   "outputs": [],
   "source": [
    "avg_ko"
   ]
  },
  {
   "cell_type": "code",
   "execution_count": null,
   "id": "24db76e2-1a16-4a81-8daa-33cd1bb64a03",
   "metadata": {
    "vscode": {
     "languageId": "r"
    }
   },
   "outputs": [],
   "source": [
    "dense_matrix<- as.matrix(avg_ko$RNA)"
   ]
  },
  {
   "cell_type": "code",
   "execution_count": null,
   "id": "82d168fc-2103-4a5c-8b98-b58309de2434",
   "metadata": {
    "vscode": {
     "languageId": "r"
    }
   },
   "outputs": [],
   "source": [
    "dense_matrix"
   ]
  },
  {
   "cell_type": "code",
   "execution_count": null,
   "id": "c4906a22-27ab-42c0-8dfc-6373b2b6ba34",
   "metadata": {
    "vscode": {
     "languageId": "r"
    }
   },
   "outputs": [],
   "source": [
    "x <- pheatmap(\n",
    "  dense_matrix,\n",
    "  scale = \"row\",                        # Scale rows for normalization\n",
    "  clustering_distance_rows = \"euclidean\", # Cluster rows by Euclidean distance\n",
    "  cluster_rows = FALSE,                  # Enable row clustering\n",
    "  cluster_cols = FALSE,                 # Preserve column order\n",
    "  show_rownames = TRUE,                 # Display row names\n",
    "  show_colnames = TRUE,                 # Display column names\n",
    "  fontsize_row = 10,                     # Font size for row labels\n",
    "  fontsize_col = 10,                     # Font size for column labels\n",
    "  color = colorRampPalette(c(\"blue\", \"white\", \"red\"))(100),                 # Use viridis color palette\n",
    "  border_color = \"lightgrey\",                    # Remove cell borders for a cleaner look\n",
    "  cellwidth = 10,                       # Adjust cell width\n",
    "  cellheight = 12,                      # Adjust cell height\n",
    "  main = \"Average Expression on Subclusters\" ,  # Add a title\n",
    ")"
   ]
  },
  {
   "cell_type": "code",
   "execution_count": null,
   "id": "3efd28da-97c2-49fa-96b3-4f79c62c3b4f",
   "metadata": {
    "vscode": {
     "languageId": "r"
    }
   },
   "outputs": [],
   "source": [
    "options(repr.plot.width = 6.5, repr.plot.height = 5 )\n",
    "print(x)"
   ]
  },
  {
   "cell_type": "code",
   "execution_count": null,
   "id": "fcfb7db6-07bd-404b-a362-593c875955e5",
   "metadata": {
    "vscode": {
     "languageId": "r"
    }
   },
   "outputs": [],
   "source": [
    "\n",
    "pdf(\"./figures_1/average_expression_obj_subclusters.pdf\",width = 6.5, height = 4)\n",
    "print(x)\n",
    "dev.off()   \n"
   ]
  },
  {
   "cell_type": "code",
   "execution_count": null,
   "id": "63f2eb71-1614-43e2-8d06-a4bf1ba00892",
   "metadata": {
    "vscode": {
     "languageId": "r"
    }
   },
   "outputs": [],
   "source": []
  },
  {
   "cell_type": "code",
   "execution_count": null,
   "id": "d7af75b7-97e8-4c45-9596-b6e94c37b129",
   "metadata": {
    "vscode": {
     "languageId": "r"
    }
   },
   "outputs": [],
   "source": [
    "avg_ko <- AverageExpression(obj,features = ko_genes, layer = 'counts',group.by =  'cell_type_clusters' )"
   ]
  },
  {
   "cell_type": "code",
   "execution_count": null,
   "id": "46913713-b801-4a2f-9ff0-a0bb43cc4abd",
   "metadata": {
    "vscode": {
     "languageId": "r"
    }
   },
   "outputs": [],
   "source": [
    "avg_ko"
   ]
  },
  {
   "cell_type": "code",
   "execution_count": null,
   "id": "747a66cf-1d92-4283-8fa3-3c868cbbd855",
   "metadata": {
    "vscode": {
     "languageId": "r"
    }
   },
   "outputs": [],
   "source": [
    "dense_matrix<- as.matrix(avg_ko$RNA)"
   ]
  },
  {
   "cell_type": "code",
   "execution_count": null,
   "id": "52fb4e98-f2a8-47f1-82af-3d7e28005c35",
   "metadata": {
    "vscode": {
     "languageId": "r"
    }
   },
   "outputs": [],
   "source": [
    "dense_matrix"
   ]
  },
  {
   "cell_type": "code",
   "execution_count": null,
   "id": "f401c8f1-6e95-448e-bd39-7894dfdc919c",
   "metadata": {
    "vscode": {
     "languageId": "r"
    }
   },
   "outputs": [],
   "source": [
    "x <- pheatmap(\n",
    "  dense_matrix,\n",
    "  scale = \"row\",                        # Scale rows for normalization\n",
    "  clustering_distance_rows = \"euclidean\", # Cluster rows by Euclidean distance\n",
    "  cluster_rows = FALSE,                  # Enable row clustering\n",
    "  cluster_cols = FALSE,                 # Preserve column order\n",
    "  show_rownames = TRUE,                 # Display row names\n",
    "  show_colnames = TRUE,                 # Display column names\n",
    "  fontsize_row = 10,                     # Font size for row labels\n",
    "  fontsize_col = 10,                     # Font size for column labels\n",
    "  color = colorRampPalette(c(\"blue\", \"white\", \"red\"))(100),                 # Use viridis color palette\n",
    "  border_color = \"lightgrey\",                    # Remove cell borders for a cleaner look\n",
    "  cellwidth = 10,                       # Adjust cell width\n",
    "  cellheight = 12,                      # Adjust cell height\n",
    "  main = \"Average Expression on Clusters\" ,  # Add a title\n",
    ")"
   ]
  },
  {
   "cell_type": "code",
   "execution_count": null,
   "id": "ce77ed96-5725-42c6-8b41-9bddf1f996f3",
   "metadata": {
    "vscode": {
     "languageId": "r"
    }
   },
   "outputs": [],
   "source": [
    "options(repr.plot.width = 6.5, repr.plot.height = 5 )\n",
    "print(x)"
   ]
  },
  {
   "cell_type": "code",
   "execution_count": null,
   "id": "8328ac96-573a-47af-925d-5c2ccb6bbaf1",
   "metadata": {
    "vscode": {
     "languageId": "r"
    }
   },
   "outputs": [],
   "source": [
    "\n",
    "pdf(\"./figures_1/average_expression_obj_clusters.pdf\",width = 6.5, height = 4)\n",
    "print(x)\n",
    "dev.off()   \n"
   ]
  },
  {
   "cell_type": "code",
   "execution_count": null,
   "id": "f98e6f3d-1135-4085-82ca-077b699f82e7",
   "metadata": {
    "vscode": {
     "languageId": "r"
    }
   },
   "outputs": [],
   "source": []
  },
  {
   "cell_type": "code",
   "execution_count": null,
   "id": "68ee03ae-15be-4469-b886-f7eba1cd51e1",
   "metadata": {
    "vscode": {
     "languageId": "r"
    }
   },
   "outputs": [],
   "source": [
    "#atlas$celltype_extended_atlas"
   ]
  },
  {
   "cell_type": "code",
   "execution_count": null,
   "id": "e4b5a18d-31ba-4c24-b385-b3653f44533a",
   "metadata": {
    "vscode": {
     "languageId": "r"
    }
   },
   "outputs": [],
   "source": [
    "avg_ko <- AverageExpression(atlas,features = ko_genes, layer = 'counts',group.by =  'celltype_extended_atlas' )"
   ]
  },
  {
   "cell_type": "code",
   "execution_count": null,
   "id": "40d9f198-a5a0-4847-a237-9033587dd3e9",
   "metadata": {
    "vscode": {
     "languageId": "r"
    }
   },
   "outputs": [],
   "source": [
    "avg_ko"
   ]
  },
  {
   "cell_type": "code",
   "execution_count": null,
   "id": "d64d336d-943d-4594-bff6-8acea9685f87",
   "metadata": {
    "vscode": {
     "languageId": "r"
    }
   },
   "outputs": [],
   "source": [
    "dense_matrix<- as.matrix(avg_ko$originalexp)"
   ]
  },
  {
   "cell_type": "code",
   "execution_count": null,
   "id": "051345f8-c3bc-4405-a968-9c929cbe0b05",
   "metadata": {
    "vscode": {
     "languageId": "r"
    }
   },
   "outputs": [],
   "source": [
    "dense_matrix"
   ]
  },
  {
   "cell_type": "code",
   "execution_count": null,
   "id": "3ff94150-9c70-4611-aee7-b5c81789086a",
   "metadata": {
    "vscode": {
     "languageId": "r"
    }
   },
   "outputs": [],
   "source": [
    "x <- pheatmap(\n",
    "  dense_matrix,\n",
    "  scale = \"row\",                        # Scale rows for normalization\n",
    "  clustering_distance_rows = \"euclidean\", # Cluster rows by Euclidean distance\n",
    "  cluster_rows = FALSE,                  # Enable row clustering\n",
    "  cluster_cols = FALSE,                 # Preserve column order\n",
    "  show_rownames = TRUE,                 # Display row names\n",
    "  show_colnames = TRUE,                 # Display column names\n",
    "  fontsize_row = 10,                     # Font size for row labels\n",
    "  fontsize_col = 10,                     # Font size for column labels\n",
    "  color = colorRampPalette(c(\"blue\", \"white\", \"red\"))(100),                 # Use viridis color palette\n",
    "  border_color = \"lightgrey\",                    # Remove cell borders for a cleaner look\n",
    "  cellwidth = 10,                       # Adjust cell width\n",
    "  cellheight = 12,                      # Adjust cell height\n",
    "  main = \"Average Expression on Extended Mouse Gastrulation Atlas - Cell Type\" ,  # Add a title\n",
    ")"
   ]
  },
  {
   "cell_type": "code",
   "execution_count": null,
   "id": "c68b923e-c265-4668-b45a-e2776346e5c9",
   "metadata": {
    "vscode": {
     "languageId": "r"
    }
   },
   "outputs": [],
   "source": [
    "options(repr.plot.width = 14, repr.plot.height = 5 )\n",
    "print(x)"
   ]
  },
  {
   "cell_type": "code",
   "execution_count": null,
   "id": "81b4928f-5a90-4d52-b307-a9943ae77fe7",
   "metadata": {
    "vscode": {
     "languageId": "r"
    }
   },
   "outputs": [],
   "source": [
    "\n",
    "pdf(\"./figures_1/average_expression_atlas.pdf\",width = 14, height = 5)\n",
    "print(x)\n",
    "dev.off()   \n"
   ]
  },
  {
   "cell_type": "code",
   "execution_count": null,
   "id": "f6b0cef3-c053-40e3-863a-ad0f84177de2",
   "metadata": {
    "vscode": {
     "languageId": "r"
    }
   },
   "outputs": [],
   "source": []
  },
  {
   "cell_type": "code",
   "execution_count": null,
   "id": "1016d1ca-e5fd-423f-9906-e64c2508bfef",
   "metadata": {
    "vscode": {
     "languageId": "r"
    }
   },
   "outputs": [],
   "source": [
    "avg_ko <- AverageExpression(atlas,features = ko_genes, layer = 'counts',group.by =  'stage' )"
   ]
  },
  {
   "cell_type": "code",
   "execution_count": null,
   "id": "06759d50-9d84-4a24-a569-6aedbe1bbd0e",
   "metadata": {
    "vscode": {
     "languageId": "r"
    }
   },
   "outputs": [],
   "source": [
    "avg_ko"
   ]
  },
  {
   "cell_type": "code",
   "execution_count": null,
   "id": "ba12f667-3d35-4604-b25a-909aac74c430",
   "metadata": {
    "vscode": {
     "languageId": "r"
    }
   },
   "outputs": [],
   "source": [
    "dense_matrix<- as.matrix(avg_ko$originalexp)"
   ]
  },
  {
   "cell_type": "code",
   "execution_count": null,
   "id": "2e8974d1-45e3-4743-9283-77e187e09370",
   "metadata": {
    "vscode": {
     "languageId": "r"
    }
   },
   "outputs": [],
   "source": [
    "dense_matrix"
   ]
  },
  {
   "cell_type": "code",
   "execution_count": null,
   "id": "94d1c352-bfc6-41ed-9f82-732387ee4f5d",
   "metadata": {
    "vscode": {
     "languageId": "r"
    }
   },
   "outputs": [],
   "source": [
    "x <- pheatmap(\n",
    "  dense_matrix,\n",
    "  scale = \"row\",                        # Scale rows for normalization\n",
    "  clustering_distance_rows = \"euclidean\", # Cluster rows by Euclidean distance\n",
    "  cluster_rows = FALSE,                  # Enable row clustering\n",
    "  cluster_cols = FALSE,                 # Preserve column order\n",
    "  show_rownames = TRUE,                 # Display row names\n",
    "  show_colnames = TRUE,                 # Display column names\n",
    "  fontsize_row = 10,                     # Font size for row labels\n",
    "  fontsize_col = 10,                     # Font size for column labels\n",
    "  color = colorRampPalette(c(\"blue\", \"white\", \"red\"))(100),                 # Use viridis color palette\n",
    "  border_color = \"lightgrey\",                    # Remove cell borders for a cleaner look\n",
    "  cellwidth = 10,                       # Adjust cell width\n",
    "  cellheight = 12,                      # Adjust cell height\n",
    "  main = \"Embryonic Stage\" ,  # Add a title\n",
    ")"
   ]
  },
  {
   "cell_type": "code",
   "execution_count": null,
   "id": "3daff401-ab15-4cf2-b915-e5db3f5158eb",
   "metadata": {
    "vscode": {
     "languageId": "r"
    }
   },
   "outputs": [],
   "source": [
    "options(repr.plot.width = 6.4, repr.plot.height = 5 )\n",
    "print(x)"
   ]
  },
  {
   "cell_type": "code",
   "execution_count": null,
   "id": "f4b7de98-4e4d-470a-b87b-5ebd1e5ef3af",
   "metadata": {
    "vscode": {
     "languageId": "r"
    }
   },
   "outputs": [],
   "source": [
    "\n",
    "pdf(\"./figures_1/average_expression_atlas_embryonic_stage.pdf\",width = 6.4, height = 5)\n",
    "print(x)\n",
    "dev.off()   \n"
   ]
  },
  {
   "cell_type": "code",
   "execution_count": null,
   "id": "98e9b39a-d28a-4adb-8838-3a6f5a67c7ce",
   "metadata": {
    "vscode": {
     "languageId": "r"
    }
   },
   "outputs": [],
   "source": []
  },
  {
   "cell_type": "code",
   "execution_count": null,
   "id": "480338fa-b6d6-4d7e-8f1a-509a4c9afff3",
   "metadata": {
    "vscode": {
     "languageId": "r"
    }
   },
   "outputs": [],
   "source": [
    "avg_ko <- AverageExpression(atlas,features = ko_genes, layer = 'counts',group.by =  'somite_count' )"
   ]
  },
  {
   "cell_type": "code",
   "execution_count": null,
   "id": "a356e6bf-3a84-4a2a-a75f-d6c7af4a4304",
   "metadata": {
    "vscode": {
     "languageId": "r"
    }
   },
   "outputs": [],
   "source": [
    "avg_ko"
   ]
  },
  {
   "cell_type": "code",
   "execution_count": null,
   "id": "108d1fd1-d0e3-49aa-a2e4-5fea09638bde",
   "metadata": {
    "vscode": {
     "languageId": "r"
    }
   },
   "outputs": [],
   "source": [
    "dense_matrix<- as.matrix(avg_ko$originalexp)"
   ]
  },
  {
   "cell_type": "code",
   "execution_count": null,
   "id": "67a906c0-a8ad-43f5-bdcd-9dfd0cb47319",
   "metadata": {
    "vscode": {
     "languageId": "r"
    }
   },
   "outputs": [],
   "source": [
    "dense_matrix"
   ]
  },
  {
   "cell_type": "code",
   "execution_count": null,
   "id": "86fd9b95-34a1-4d6b-a8d6-7b16928de12b",
   "metadata": {
    "vscode": {
     "languageId": "r"
    }
   },
   "outputs": [],
   "source": [
    "x <- pheatmap(\n",
    "  dense_matrix,\n",
    "  scale = \"row\",                        # Scale rows for normalization\n",
    "  clustering_distance_rows = \"euclidean\", # Cluster rows by Euclidean distance\n",
    "  cluster_rows = FALSE,                  # Enable row clustering\n",
    "  cluster_cols = FALSE,                 # Preserve column order\n",
    "  show_rownames = TRUE,                 # Display row names\n",
    "  show_colnames = TRUE,                 # Display column names\n",
    "  fontsize_row = 10,                     # Font size for row labels\n",
    "  fontsize_col = 10,                     # Font size for column labels\n",
    "  color = colorRampPalette(c(\"blue\", \"white\", \"red\"))(100),                 # Use viridis color palette\n",
    "  border_color = \"lightgrey\",                    # Remove cell borders for a cleaner look\n",
    "  cellwidth = 10,                       # Adjust cell width\n",
    "  cellheight = 12,                      # Adjust cell height\n",
    "  main = \"Somite Count\" ,  # Add a title\n",
    ")"
   ]
  },
  {
   "cell_type": "code",
   "execution_count": null,
   "id": "fcb77829-8163-41ca-8e33-6b9825af8779",
   "metadata": {
    "vscode": {
     "languageId": "r"
    }
   },
   "outputs": [],
   "source": [
    "options(repr.plot.width = 6.4, repr.plot.height = 5 )\n",
    "print(x)"
   ]
  },
  {
   "cell_type": "code",
   "execution_count": null,
   "id": "92abbbc8-8a3f-4065-b8c5-782fb3d4e80d",
   "metadata": {
    "vscode": {
     "languageId": "r"
    }
   },
   "outputs": [],
   "source": [
    "\n",
    "pdf(\"./figures_1/average_expression_atlas_somite_count.pdf\",width = 6.4, height = 5)\n",
    "print(x)\n",
    "dev.off()   \n"
   ]
  },
  {
   "cell_type": "code",
   "execution_count": null,
   "id": "f1275689-b3e1-4796-9aeb-410ee6efa8af",
   "metadata": {
    "vscode": {
     "languageId": "r"
    }
   },
   "outputs": [],
   "source": []
  },
  {
   "cell_type": "code",
   "execution_count": null,
   "id": "397666ea-45ba-4731-b611-a7418bc7d93b",
   "metadata": {
    "vscode": {
     "languageId": "r"
    }
   },
   "outputs": [],
   "source": [
    "avg_ko <- AverageExpression(atlas,features = ko_genes, layer = 'counts',group.by =  'anatomy' )"
   ]
  },
  {
   "cell_type": "code",
   "execution_count": null,
   "id": "51d2f11d-7015-4576-90a2-76c72f9a75e9",
   "metadata": {
    "vscode": {
     "languageId": "r"
    }
   },
   "outputs": [],
   "source": [
    "avg_ko"
   ]
  },
  {
   "cell_type": "code",
   "execution_count": null,
   "id": "5c9cd933-a6fa-47ba-9f18-a903c31ba8cb",
   "metadata": {
    "vscode": {
     "languageId": "r"
    }
   },
   "outputs": [],
   "source": [
    "dense_matrix<- as.matrix(avg_ko$originalexp)"
   ]
  },
  {
   "cell_type": "code",
   "execution_count": null,
   "id": "33c61701-82ec-47e4-8515-9037785eb735",
   "metadata": {
    "vscode": {
     "languageId": "r"
    }
   },
   "outputs": [],
   "source": [
    "dense_matrix"
   ]
  },
  {
   "cell_type": "code",
   "execution_count": null,
   "id": "a1a55e60-c8fd-40c7-b1d5-d692e803d2f2",
   "metadata": {
    "vscode": {
     "languageId": "r"
    }
   },
   "outputs": [],
   "source": [
    "x <- pheatmap(\n",
    "  dense_matrix,\n",
    "  scale = \"row\",                        # Scale rows for normalization\n",
    "  clustering_distance_rows = \"euclidean\", # Cluster rows by Euclidean distance\n",
    "  cluster_rows = FALSE,                  # Enable row clustering\n",
    "  cluster_cols = FALSE,                 # Preserve column order\n",
    "  show_rownames = TRUE,                 # Display row names\n",
    "  show_colnames = TRUE,                 # Display column names\n",
    "  fontsize_row = 10,                     # Font size for row labels\n",
    "  fontsize_col = 10,                     # Font size for column labels\n",
    "  color = colorRampPalette(c(\"blue\", \"white\", \"red\"))(100),                 # Use viridis color palette\n",
    "  border_color = \"lightgrey\",                    # Remove cell borders for a cleaner look\n",
    "  cellwidth = 10,                       # Adjust cell width\n",
    "  cellheight = 12,                      # Adjust cell height\n",
    "  main = \"Anatomy\" ,  # Add a title\n",
    ")"
   ]
  },
  {
   "cell_type": "code",
   "execution_count": null,
   "id": "f56871fc-ac96-4428-958f-93c210777191",
   "metadata": {
    "vscode": {
     "languageId": "r"
    }
   },
   "outputs": [],
   "source": [
    "options(repr.plot.width = 6.4, repr.plot.height = 5 )\n",
    "print(x)"
   ]
  },
  {
   "cell_type": "code",
   "execution_count": null,
   "id": "7d40f691-a4f1-404c-a9a1-90ffbb18c5a2",
   "metadata": {
    "vscode": {
     "languageId": "r"
    }
   },
   "outputs": [],
   "source": [
    "\n",
    "pdf(\"./figures_1/average_expression_atlas_anatomy.pdf\",width = 6.4, height = 5)\n",
    "print(x)\n",
    "dev.off()   \n"
   ]
  },
  {
   "cell_type": "markdown",
   "id": "fe2f8e3f-e4ea-4e73-9417-98e16346fe07",
   "metadata": {},
   "source": [
    "# scMULTIOME"
   ]
  },
  {
   "cell_type": "code",
   "execution_count": null,
   "id": "0ad5c527-edf8-4696-90e7-84c34e139e85",
   "metadata": {
    "vscode": {
     "languageId": "r"
    }
   },
   "outputs": [],
   "source": [
    "mutiome <- readRDS('/home/ridvan/PhD_Projects/Multiome/000_io/outputs/multiome_only_2.rds')"
   ]
  },
  {
   "cell_type": "code",
   "execution_count": null,
   "id": "48cd45cd-aa7e-4bf5-865a-a3f69fe20264",
   "metadata": {
    "scrolled": true,
    "vscode": {
     "languageId": "r"
    }
   },
   "outputs": [],
   "source": [
    "mutiome"
   ]
  },
  {
   "cell_type": "code",
   "execution_count": null,
   "id": "07f9ccfb-4604-4ae5-86fd-09a4c985fdf4",
   "metadata": {
    "vscode": {
     "languageId": "r"
    }
   },
   "outputs": [],
   "source": []
  },
  {
   "cell_type": "code",
   "execution_count": null,
   "id": "a437eef1-5c21-4265-9a78-fcbb8d6d36f9",
   "metadata": {
    "vscode": {
     "languageId": "r"
    }
   },
   "outputs": [],
   "source": [
    "table(mutiome$orig.ident)"
   ]
  },
  {
   "cell_type": "code",
   "execution_count": null,
   "id": "5e174f0f-7039-4ff4-a312-2a52b8ce2780",
   "metadata": {
    "vscode": {
     "languageId": "r"
    }
   },
   "outputs": [],
   "source": [
    "DefaultAssay(mutiome) <- \"RNA\""
   ]
  },
  {
   "cell_type": "code",
   "execution_count": null,
   "id": "4bf41505-8acc-4a1f-9bd9-b4a8dede3111",
   "metadata": {
    "vscode": {
     "languageId": "r"
    }
   },
   "outputs": [],
   "source": [
    "avg_ko <- AverageExpression(mutiome,features = ko_genes, layer = 'counts',group.by =  'orig.ident' )"
   ]
  },
  {
   "cell_type": "code",
   "execution_count": null,
   "id": "1d9bc07e-cafb-4e8e-bbd0-047d84a7a855",
   "metadata": {
    "vscode": {
     "languageId": "r"
    }
   },
   "outputs": [],
   "source": [
    "avg_ko"
   ]
  },
  {
   "cell_type": "code",
   "execution_count": null,
   "id": "840faf08-5a10-4155-b413-fc2dd7f796c1",
   "metadata": {
    "vscode": {
     "languageId": "r"
    }
   },
   "outputs": [],
   "source": [
    "dense_matrix<- as.matrix(avg_ko$RNA)"
   ]
  },
  {
   "cell_type": "code",
   "execution_count": null,
   "id": "26306384-1a0b-43f2-83f9-63c1e1bec7ef",
   "metadata": {
    "vscode": {
     "languageId": "r"
    }
   },
   "outputs": [],
   "source": [
    "dense_matrix"
   ]
  },
  {
   "cell_type": "code",
   "execution_count": null,
   "id": "9c5402a0-10b1-4b8a-8179-da9efcd1d054",
   "metadata": {
    "vscode": {
     "languageId": "r"
    }
   },
   "outputs": [],
   "source": [
    "x <- pheatmap(\n",
    "  dense_matrix,\n",
    "  scale = \"row\",                        # Scale rows for normalization\n",
    "  clustering_distance_rows = \"euclidean\", # Cluster rows by Euclidean distance\n",
    "  cluster_rows = FALSE,                  # Enable row clustering\n",
    "  cluster_cols = FALSE,                 # Preserve column order\n",
    "  show_rownames = TRUE,                 # Display row names\n",
    "  show_colnames = TRUE,                 # Display column names\n",
    "  fontsize_row = 10,                     # Font size for row labels\n",
    "  fontsize_col = 10,                     # Font size for column labels\n",
    "  color = colorRampPalette(c(\"blue\", \"white\", \"red\"))(100),                 # Use viridis color palette\n",
    "  border_color = \"lightgrey\",                    # Remove cell borders for a cleaner look\n",
    "  cellwidth = 10,                       # Adjust cell width\n",
    "  cellheight = 12,                      # Adjust cell height\n",
    "  main = \"In Vitro Differentiation Days\" ,  # Add a title\n",
    ")"
   ]
  },
  {
   "cell_type": "code",
   "execution_count": null,
   "id": "347dccd7-0b45-41fe-a5ba-79da10266d6c",
   "metadata": {
    "vscode": {
     "languageId": "r"
    }
   },
   "outputs": [],
   "source": [
    "options(repr.plot.width = 6.4, repr.plot.height = 5 )\n",
    "print(x)"
   ]
  },
  {
   "cell_type": "code",
   "execution_count": null,
   "id": "8b17af3d-4ce9-4c9b-8c7a-776a038cc014",
   "metadata": {
    "vscode": {
     "languageId": "r"
    }
   },
   "outputs": [],
   "source": [
    "\n",
    "pdf(\"./figures_1/average_expression_multiome_days.pdf\",width = 6.4, height = 5)\n",
    "print(x)\n",
    "dev.off()   \n"
   ]
  },
  {
   "cell_type": "code",
   "execution_count": null,
   "id": "7378c614-63e8-49b9-85a5-ef3fb516b862",
   "metadata": {
    "vscode": {
     "languageId": "r"
    }
   },
   "outputs": [],
   "source": []
  },
  {
   "cell_type": "code",
   "execution_count": null,
   "id": "dde4282e-bd05-4aa2-a8bb-9ae4c2588c82",
   "metadata": {
    "vscode": {
     "languageId": "r"
    }
   },
   "outputs": [],
   "source": [
    "table(mutiome$annotation_medium)"
   ]
  },
  {
   "cell_type": "code",
   "execution_count": null,
   "id": "73da9bb8-6ac2-480b-b339-6dafd3a21d3d",
   "metadata": {
    "vscode": {
     "languageId": "r"
    }
   },
   "outputs": [],
   "source": [
    "avg_ko <- AverageExpression(mutiome,features = ko_genes, layer = 'counts',group.by =  'annotation_medium' )"
   ]
  },
  {
   "cell_type": "code",
   "execution_count": null,
   "id": "a601c7d8-c0dd-4e8d-9d84-273171c8a1e2",
   "metadata": {
    "vscode": {
     "languageId": "r"
    }
   },
   "outputs": [],
   "source": [
    "avg_ko"
   ]
  },
  {
   "cell_type": "code",
   "execution_count": null,
   "id": "d02f22a8-faba-4927-8e7f-3e4cd9e8b624",
   "metadata": {
    "vscode": {
     "languageId": "r"
    }
   },
   "outputs": [],
   "source": [
    "dense_matrix<- as.matrix(avg_ko$RNA)"
   ]
  },
  {
   "cell_type": "code",
   "execution_count": null,
   "id": "a3a614c4-6cf7-41e9-a26a-e9511316f494",
   "metadata": {
    "vscode": {
     "languageId": "r"
    }
   },
   "outputs": [],
   "source": [
    "dense_matrix"
   ]
  },
  {
   "cell_type": "code",
   "execution_count": null,
   "id": "3ff01b37-fd21-4368-8edb-0ece69b67ada",
   "metadata": {
    "vscode": {
     "languageId": "r"
    }
   },
   "outputs": [],
   "source": [
    "x <- pheatmap(\n",
    "  dense_matrix,\n",
    "  scale = \"row\",                        # Scale rows for normalization\n",
    "  clustering_distance_rows = \"euclidean\", # Cluster rows by Euclidean distance\n",
    "  cluster_rows = FALSE,                  # Enable row clustering\n",
    "  cluster_cols = FALSE,                 # Preserve column order\n",
    "  show_rownames = TRUE,                 # Display row names\n",
    "  show_colnames = TRUE,                 # Display column names\n",
    "  fontsize_row = 10,                     # Font size for row labels\n",
    "  fontsize_col = 10,                     # Font size for column labels\n",
    "  color = colorRampPalette(c(\"blue\", \"white\", \"red\"))(100),                 # Use viridis color palette\n",
    "  border_color = \"lightgrey\",                    # Remove cell borders for a cleaner look\n",
    "  cellwidth = 10,                       # Adjust cell width\n",
    "  cellheight = 12,                      # Adjust cell height\n",
    "  main = \"In Vitro Differentiation Cell Types\" ,  # Add a title\n",
    ")"
   ]
  },
  {
   "cell_type": "code",
   "execution_count": null,
   "id": "dadd992c-3137-4d9a-8eaf-d8a0f6037805",
   "metadata": {
    "vscode": {
     "languageId": "r"
    }
   },
   "outputs": [],
   "source": [
    "options(repr.plot.width = 9, repr.plot.height = 5 )\n",
    "print(x)"
   ]
  },
  {
   "cell_type": "code",
   "execution_count": null,
   "id": "0f3c6de7-0031-4031-ad92-3038c211b7b5",
   "metadata": {
    "vscode": {
     "languageId": "r"
    }
   },
   "outputs": [],
   "source": [
    "\n",
    "pdf(\"./figures_1/average_expression_multiome_cell_types.pdf\",width = 9, height = 5)\n",
    "print(x)\n",
    "dev.off()   \n"
   ]
  },
  {
   "cell_type": "code",
   "execution_count": null,
   "id": "2dd20229-80f3-4fb5-bd76-ff8dbce4629b",
   "metadata": {
    "vscode": {
     "languageId": "r"
    }
   },
   "outputs": [],
   "source": [
    "mutiome$8k_direct_pca_2_predicted.id"
   ]
  },
  {
   "cell_type": "code",
   "execution_count": null,
   "id": "e2b9d975-29b7-46c0-a646-57325045faab",
   "metadata": {
    "vscode": {
     "languageId": "r"
    }
   },
   "outputs": [],
   "source": [
    "library(Signac)"
   ]
  },
  {
   "cell_type": "code",
   "execution_count": null,
   "id": "2687814d-13fa-47c2-97a0-9867e270ac24",
   "metadata": {
    "vscode": {
     "languageId": "r"
    }
   },
   "outputs": [],
   "source": [
    "DefaultAssay(mutiome) <- 'ATAC'"
   ]
  },
  {
   "cell_type": "code",
   "execution_count": null,
   "id": "dd89fa55-3fcc-485e-8526-771d552c3b85",
   "metadata": {
    "vscode": {
     "languageId": "r"
    }
   },
   "outputs": [],
   "source": []
  },
  {
   "cell_type": "code",
   "execution_count": null,
   "id": "4d782981-9da7-442f-951f-0fbdb46f2d1a",
   "metadata": {
    "vscode": {
     "languageId": "r"
    }
   },
   "outputs": [],
   "source": [
    "options(repr.plot.width = 20, repr.plot.height = 20 )\n",
    "CoveragePlot(mutiome, region = 'Atf3', features = 'Atf3', assay = 'ATAC',extend.upstream = 10000, extend.downstream = 10000, expression.assay = 'RNA', peaks = TRUE)"
   ]
  },
  {
   "cell_type": "code",
   "execution_count": null,
   "id": "a570a266-9f62-488e-b0b2-8a86b47d6f48",
   "metadata": {
    "vscode": {
     "languageId": "r"
    }
   },
   "outputs": [],
   "source": [
    "ggsave('./figures_1/mutiome_clusters_atf3.pdf', plot = last_plot(), width = 20, height = 22.5, units = 'in', dpi = 300)\n",
    "ggsave('./figures_1/mutiome_clusters_atf3.png', plot = last_plot(), width = 20, height = 22.5, units = 'in', dpi = 300)"
   ]
  },
  {
   "cell_type": "code",
   "execution_count": null,
   "id": "ed26fc31-6335-4043-9350-bb8cddd228b0",
   "metadata": {
    "vscode": {
     "languageId": "r"
    }
   },
   "outputs": [],
   "source": []
  },
  {
   "cell_type": "code",
   "execution_count": null,
   "id": "21d27639-68c5-41a7-ac33-2b94183aec94",
   "metadata": {
    "vscode": {
     "languageId": "r"
    }
   },
   "outputs": [],
   "source": [
    "Idents(mutiome) <- mutiome$orig.ident"
   ]
  },
  {
   "cell_type": "code",
   "execution_count": null,
   "id": "757f3e16-2cbe-4f5f-a8a2-2b75921a9be1",
   "metadata": {
    "vscode": {
     "languageId": "r"
    }
   },
   "outputs": [],
   "source": [
    "options(repr.plot.width = 20, repr.plot.height = 5 )\n",
    "CoveragePlot(mutiome, region = 'Atf3', features = 'Atf3', assay = 'ATAC',extend.upstream = 10000, extend.downstream = 10000, expression.assay = 'RNA', peaks = TRUE)"
   ]
  },
  {
   "cell_type": "code",
   "execution_count": null,
   "id": "675b8691-8eac-4048-90fe-0772c7eea087",
   "metadata": {
    "vscode": {
     "languageId": "r"
    }
   },
   "outputs": [],
   "source": [
    "ggsave('./figures_1/mutiome_days_atf3.pdf', plot = last_plot(), width = 20, height = 5, units = 'in', dpi = 300)\n",
    "ggsave('./figures_1/mutiome_days_atf3.png', plot = last_plot(), width = 20, height = 5, units = 'in', dpi = 300)"
   ]
  },
  {
   "cell_type": "code",
   "execution_count": null,
   "id": "aab79b2c-31c9-492b-bf81-b7073811db3d",
   "metadata": {
    "vscode": {
     "languageId": "r"
    }
   },
   "outputs": [],
   "source": []
  },
  {
   "cell_type": "code",
   "execution_count": null,
   "id": "858be0e5-de41-4ae1-b930-2de8c0fc6f5b",
   "metadata": {
    "vscode": {
     "languageId": "r"
    }
   },
   "outputs": [],
   "source": []
  },
  {
   "cell_type": "code",
   "execution_count": null,
   "id": "96aa8f8b-ad16-4c37-b79b-119135c58aaf",
   "metadata": {
    "vscode": {
     "languageId": "r"
    }
   },
   "outputs": [],
   "source": [
    "Idents(mutiome) <- mutiome$`8k_direct_pca_2_predicted.id`"
   ]
  },
  {
   "cell_type": "code",
   "execution_count": null,
   "id": "9e65d0f5-6758-45e0-bfaf-7862d3192128",
   "metadata": {
    "vscode": {
     "languageId": "r"
    }
   },
   "outputs": [],
   "source": [
    "options(repr.plot.width = 20, repr.plot.height = 22.5 )\n",
    "CoveragePlot(mutiome, region = 'Atf3', features = 'Atf3', assay = 'ATAC',extend.upstream = 10000, extend.downstream = 10000, expression.assay = 'RNA', peaks = TRUE)"
   ]
  },
  {
   "cell_type": "code",
   "execution_count": null,
   "id": "9b55913f-4638-485b-b88f-7db4611e3fb7",
   "metadata": {
    "vscode": {
     "languageId": "r"
    }
   },
   "outputs": [],
   "source": [
    "ggsave('./figures_1/mutiome_8k_direct_pca_2_atf3.pdf', plot = last_plot(), width = 20, height = 22.5, units = 'in', dpi = 300)\n",
    "ggsave('./figures_1/mutiome_8k_direct_pca_2_atf3.png', plot = last_plot(), width = 20, height = 22.5, units = 'in', dpi = 300)"
   ]
  },
  {
   "cell_type": "code",
   "execution_count": null,
   "id": "6a039cff-8068-40f8-93bb-59a3408e20e6",
   "metadata": {
    "vscode": {
     "languageId": "r"
    }
   },
   "outputs": [],
   "source": [
    "# ------------------------------------------------\n"
   ]
  },
  {
   "cell_type": "code",
   "execution_count": null,
   "id": "c6e0c965-850e-4b90-882e-d6c2be0f9b59",
   "metadata": {
    "vscode": {
     "languageId": "r"
    }
   },
   "outputs": [],
   "source": [
    "Idents(mutiome) <- mutiome$annotation_medium"
   ]
  },
  {
   "cell_type": "code",
   "execution_count": null,
   "id": "19f64578-9846-4e69-9ef8-c6d574f2b82a",
   "metadata": {
    "vscode": {
     "languageId": "r"
    }
   },
   "outputs": [],
   "source": [
    "options(repr.plot.width = 20, repr.plot.height = 20 )\n",
    "CoveragePlot(mutiome, region = 'Zfp711', features = 'Zfp711', assay = 'ATAC',extend.upstream = 10000, extend.downstream = 10000, expression.assay = 'RNA', peaks = TRUE)"
   ]
  },
  {
   "cell_type": "code",
   "execution_count": null,
   "id": "47fb95e5-b8e9-48a5-a7ac-20c288cd700e",
   "metadata": {
    "vscode": {
     "languageId": "r"
    }
   },
   "outputs": [],
   "source": [
    "ggsave('./figures_1/mutiome_clusters_zfp711.pdf', plot = last_plot(), width = 20, height = 22.5, units = 'in', dpi = 300)\n",
    "ggsave('./figures_1/mutiome_clusters_zfp711.png', plot = last_plot(), width = 20, height = 22.5, units = 'in', dpi = 300)"
   ]
  },
  {
   "cell_type": "code",
   "execution_count": null,
   "id": "06bba76d-e799-4818-b3cb-b1509afa3c00",
   "metadata": {
    "vscode": {
     "languageId": "r"
    }
   },
   "outputs": [],
   "source": [
    "Idents(mutiome) <- mutiome$orig.ident"
   ]
  },
  {
   "cell_type": "code",
   "execution_count": null,
   "id": "4dc3c8d6-52f2-41c3-a495-62583c04d2ac",
   "metadata": {
    "vscode": {
     "languageId": "r"
    }
   },
   "outputs": [],
   "source": [
    "options(repr.plot.width = 20, repr.plot.height = 5 )\n",
    "CoveragePlot(mutiome, region = 'Zfp711', features = 'Zfp711', assay = 'ATAC',extend.upstream = 10000, extend.downstream = 10000, expression.assay = 'RNA', peaks = TRUE)"
   ]
  },
  {
   "cell_type": "code",
   "execution_count": null,
   "id": "dc796f31-78fd-4a54-a808-85fab8b6a92b",
   "metadata": {
    "vscode": {
     "languageId": "r"
    }
   },
   "outputs": [],
   "source": [
    "ggsave('./figures_1/mutiome_days_zfp711.pdf', plot = last_plot(), width = 20, height = 5, units = 'in', dpi = 300)\n",
    "ggsave('./figures_1/mutiome_days_zfp711.png', plot = last_plot(), width = 20, height = 5, units = 'in', dpi = 300)"
   ]
  },
  {
   "cell_type": "code",
   "execution_count": null,
   "id": "97d63762-7299-42ce-bf1c-6d1531db4f57",
   "metadata": {
    "vscode": {
     "languageId": "r"
    }
   },
   "outputs": [],
   "source": []
  },
  {
   "cell_type": "code",
   "execution_count": null,
   "id": "e694c40c-6903-46cc-9ceb-595960ee5084",
   "metadata": {
    "vscode": {
     "languageId": "r"
    }
   },
   "outputs": [],
   "source": []
  },
  {
   "cell_type": "code",
   "execution_count": null,
   "id": "1a626bd9-a38f-48bb-907a-3987f65d3015",
   "metadata": {
    "vscode": {
     "languageId": "r"
    }
   },
   "outputs": [],
   "source": [
    "Idents(mutiome) <- mutiome$`8k_direct_pca_2_predicted.id`"
   ]
  },
  {
   "cell_type": "code",
   "execution_count": null,
   "id": "cabc0187-448f-4ede-ac2e-29418579abc3",
   "metadata": {
    "vscode": {
     "languageId": "r"
    }
   },
   "outputs": [],
   "source": [
    "options(repr.plot.width = 20, repr.plot.height = 22.5 )\n",
    "CoveragePlot(mutiome, region = 'Zfp711', features = 'Zfp711', assay = 'ATAC',extend.upstream = 10000, extend.downstream = 10000, expression.assay = 'RNA', peaks = TRUE)"
   ]
  },
  {
   "cell_type": "code",
   "execution_count": null,
   "id": "e8637784-a84c-456d-a2c3-9adb8465a8eb",
   "metadata": {
    "vscode": {
     "languageId": "r"
    }
   },
   "outputs": [],
   "source": [
    "ggsave('./figures_1/mutiome_8k_direct_pca_2_Zfp711.pdf', plot = last_plot(), width = 20, height = 22.5, units = 'in', dpi = 300)\n",
    "ggsave('./figures_1/mutiome_8k_direct_pca_2_Zfp711.png', plot = last_plot(), width = 20, height = 22.5, units = 'in', dpi = 300)"
   ]
  },
  {
   "cell_type": "code",
   "execution_count": null,
   "id": "e2d60567-5ea0-4c8f-b2a9-d7239b255278",
   "metadata": {
    "vscode": {
     "languageId": "r"
    }
   },
   "outputs": [],
   "source": []
  },
  {
   "cell_type": "code",
   "execution_count": null,
   "id": "becd90fa-96e4-4ec9-82cf-64105c38213b",
   "metadata": {
    "vscode": {
     "languageId": "r"
    }
   },
   "outputs": [],
   "source": []
  },
  {
   "cell_type": "code",
   "execution_count": null,
   "id": "797470b4-e5e3-4a53-837b-83bf20c41132",
   "metadata": {
    "vscode": {
     "languageId": "r"
    }
   },
   "outputs": [],
   "source": []
  },
  {
   "cell_type": "code",
   "execution_count": null,
   "id": "39761f49-516d-48d5-b7e0-ed11a03b6613",
   "metadata": {
    "vscode": {
     "languageId": "r"
    }
   },
   "outputs": [],
   "source": []
  },
  {
   "cell_type": "code",
   "execution_count": null,
   "id": "d0e5f74d-6315-4723-8667-dc9b5e1d1caf",
   "metadata": {
    "vscode": {
     "languageId": "r"
    }
   },
   "outputs": [],
   "source": []
  },
  {
   "cell_type": "code",
   "execution_count": null,
   "id": "f1e6411a-405f-453e-af4d-2d307e35c152",
   "metadata": {
    "vscode": {
     "languageId": "r"
    }
   },
   "outputs": [],
   "source": []
  },
  {
   "cell_type": "code",
   "execution_count": null,
   "id": "9abd6290-bddc-4303-a8a3-cd10927c94d9",
   "metadata": {
    "vscode": {
     "languageId": "r"
    }
   },
   "outputs": [],
   "source": []
  },
  {
   "cell_type": "code",
   "execution_count": null,
   "id": "5305602f-3b8b-480a-aa6b-a048f5bc7e4a",
   "metadata": {
    "vscode": {
     "languageId": "r"
    }
   },
   "outputs": [],
   "source": []
  },
  {
   "cell_type": "code",
   "execution_count": null,
   "id": "8c956e9b-b1e5-4b4c-bfbe-cc66ca9bb3ec",
   "metadata": {
    "vscode": {
     "languageId": "r"
    }
   },
   "outputs": [],
   "source": [
    "Idents(mutiome) <- mutiome$annotation_medium"
   ]
  },
  {
   "cell_type": "code",
   "execution_count": null,
   "id": "024677db-9375-42df-bf10-3c31a039201c",
   "metadata": {
    "vscode": {
     "languageId": "r"
    }
   },
   "outputs": [],
   "source": [
    "options(repr.plot.width = 20, repr.plot.height = 20 )\n",
    "CoveragePlot(mutiome, region = 'Bcl6b', features = 'Bcl6b', assay = 'ATAC',extend.upstream = 10000, extend.downstream = 10000, expression.assay = 'RNA', peaks = TRUE)"
   ]
  },
  {
   "cell_type": "code",
   "execution_count": null,
   "id": "1fee9fa3-ba10-497a-8e7c-70d16f541968",
   "metadata": {
    "vscode": {
     "languageId": "r"
    }
   },
   "outputs": [],
   "source": [
    "ggsave('./figures_1/mutiome_clusters_bcl6b.pdf', plot = last_plot(), width = 20, height = 22.5, units = 'in', dpi = 300)\n",
    "ggsave('./figures_1/mutiome_clusters_bcl6b.png', plot = last_plot(), width = 20, height = 22.5, units = 'in', dpi = 300)"
   ]
  },
  {
   "cell_type": "code",
   "execution_count": null,
   "id": "1abe3db8-bd8f-4123-9f88-b8ff448ef50c",
   "metadata": {
    "vscode": {
     "languageId": "r"
    }
   },
   "outputs": [],
   "source": [
    "Idents(mutiome) <- mutiome$orig.ident"
   ]
  },
  {
   "cell_type": "code",
   "execution_count": null,
   "id": "c1aeddbb-bed0-43ff-b811-9ddc0665fe2e",
   "metadata": {
    "vscode": {
     "languageId": "r"
    }
   },
   "outputs": [],
   "source": [
    "options(repr.plot.width = 20, repr.plot.height = 5 )\n",
    "CoveragePlot(mutiome, region = 'Bcl6b', features = 'Bcl6b', assay = 'ATAC',extend.upstream = 10000, extend.downstream = 10000, expression.assay = 'RNA', peaks = TRUE)"
   ]
  },
  {
   "cell_type": "code",
   "execution_count": null,
   "id": "b22a992a-d6ef-4e18-a51a-a985df65bea2",
   "metadata": {
    "vscode": {
     "languageId": "r"
    }
   },
   "outputs": [],
   "source": [
    "ggsave('./figures_1/mutiome_days_bcl6b.pdf', plot = last_plot(), width = 20, height = 5, units = 'in', dpi = 300)\n",
    "ggsave('./figures_1/mutiome_days_bcl6b.png', plot = last_plot(), width = 20, height = 5, units = 'in', dpi = 300)"
   ]
  },
  {
   "cell_type": "code",
   "execution_count": null,
   "id": "0343db43-8d1e-4e44-bbd5-39c12815ac63",
   "metadata": {
    "vscode": {
     "languageId": "r"
    }
   },
   "outputs": [],
   "source": []
  },
  {
   "cell_type": "code",
   "execution_count": null,
   "id": "9752f099-1a06-4556-ad54-465a833f73d7",
   "metadata": {
    "vscode": {
     "languageId": "r"
    }
   },
   "outputs": [],
   "source": []
  },
  {
   "cell_type": "code",
   "execution_count": null,
   "id": "b529c3a5-6299-4a15-823f-d22a49c2f121",
   "metadata": {
    "vscode": {
     "languageId": "r"
    }
   },
   "outputs": [],
   "source": [
    "Idents(mutiome) <- mutiome$`8k_direct_pca_2_predicted.id`"
   ]
  },
  {
   "cell_type": "code",
   "execution_count": null,
   "id": "cb58b1d6-9a4f-41a4-afe7-c160a2d9befc",
   "metadata": {
    "vscode": {
     "languageId": "r"
    }
   },
   "outputs": [],
   "source": [
    "options(repr.plot.width = 20, repr.plot.height = 22.5 )\n",
    "CoveragePlot(mutiome, region = 'Bcl6b', features = 'Bcl6b', assay = 'ATAC',extend.upstream = 10000, extend.downstream = 10000, expression.assay = 'RNA', peaks = TRUE)"
   ]
  },
  {
   "cell_type": "code",
   "execution_count": null,
   "id": "d40fc91a-5e34-4210-a913-2c54e6a0292e",
   "metadata": {
    "vscode": {
     "languageId": "r"
    }
   },
   "outputs": [],
   "source": [
    "ggsave('./figures_1/mutiome_8k_direct_pca_2_Bcl6b.pdf', plot = last_plot(), width = 20, height = 22.5, units = 'in', dpi = 300)\n",
    "ggsave('./figures_1/mutiome_8k_direct_pca_2_Bcl6b.png', plot = last_plot(), width = 20, height = 22.5, units = 'in', dpi = 300)"
   ]
  },
  {
   "cell_type": "markdown",
   "id": "e00f1e4e-294b-4b72-804a-062e8152916f",
   "metadata": {},
   "source": [
    "# CD45"
   ]
  },
  {
   "cell_type": "code",
   "execution_count": null,
   "id": "a874c13f-55c3-4864-994a-e6ca6cb34461",
   "metadata": {
    "vscode": {
     "languageId": "r"
    }
   },
   "outputs": [],
   "source": [
    "options(repr.plot.width = 9, repr.plot.height = 18 )\n",
    "DotPlot(atlas, features = c(\"Ptprc\",'Itga2b',\"Fcgr3\",\"Fcgr2b\", \"Kit\"), group.by = \"celltype_extended_atlas\")"
   ]
  },
  {
   "cell_type": "code",
   "execution_count": null,
   "id": "925a49fb-1ed2-4e78-afc3-8692b2937363",
   "metadata": {
    "vscode": {
     "languageId": "r"
    }
   },
   "outputs": [],
   "source": [
    "ggsave('./figures_1/cd45_atlas_dot.pdf', plot = last_plot(), width = 9, height = 18, units = 'in', dpi = 300)\n",
    "ggsave('./figures_1/cd45_atlas_dot.png', plot = last_plot(), width = 9, height = 18, units = 'in', dpi = 300)"
   ]
  },
  {
   "cell_type": "code",
   "execution_count": null,
   "id": "dcf9f0b4-bd5f-4a36-914c-f1d56f5ff862",
   "metadata": {
    "vscode": {
     "languageId": "r"
    }
   },
   "outputs": [],
   "source": [
    "options(repr.plot.width = 7, repr.plot.height = 5 )\n",
    "DotPlot(obj, features = c(\"Ptprc\",'Itga2b',\"Fcgr3\",\"Fcgr2b\", \"Kit\"), group.by = \"cell_type_clusters\")"
   ]
  },
  {
   "cell_type": "code",
   "execution_count": null,
   "id": "acbf6171-7464-4d6e-9fd5-e228d169f693",
   "metadata": {
    "vscode": {
     "languageId": "r"
    }
   },
   "outputs": [],
   "source": [
    "ggsave('./figures_1/cd45_cmo_dot.pdf', plot = last_plot(), width = 9, height = 18, units = 'in', dpi = 300)\n",
    "ggsave('./figures_1/cd45_cmo_dot.png', plot = last_plot(), width = 9, height = 18, units = 'in', dpi = 300)"
   ]
  },
  {
   "cell_type": "code",
   "execution_count": null,
   "id": "ff6f044a-07f0-4888-b176-5b7569da1fad",
   "metadata": {
    "vscode": {
     "languageId": "r"
    }
   },
   "outputs": [],
   "source": [
    "options(repr.plot.width = 9, repr.plot.height = 6 )\n",
    "FeaturePlot(obj, features = \"Ptprc\", order = TRUE,reduction = \"UMAP\")+ NoAxes()x"
   ]
  },
  {
   "cell_type": "code",
   "execution_count": null,
   "id": "5bdf60a8-5e9c-4614-8e01-af2089c5cdce",
   "metadata": {
    "vscode": {
     "languageId": "r"
    }
   },
   "outputs": [],
   "source": [
    "ggsave('./figures_1/cd45_cmo_feature.pdf', plot = last_plot(), width = 9, height = 6, units = 'in', dpi = 300)\n",
    "ggsave('./figures_1/cd45_cmo_feature.png', plot = last_plot(), width = 9, height = 6, units = 'in', dpi = 300)"
   ]
  },
  {
   "cell_type": "code",
   "execution_count": null,
   "id": "b299a6ab-41b4-40ee-9f7d-90659eb14ae6",
   "metadata": {
    "vscode": {
     "languageId": "r"
    }
   },
   "outputs": [],
   "source": [
    "options(repr.plot.width = 8, repr.plot.height = 8 )\n",
    "FeaturePlot(atlas, features = \"Ptprc\", order = TRUE,reduction = \"UMAP\", raster = FALSE,    pt.size = 0.2)+ NoAxes()"
   ]
  },
  {
   "cell_type": "code",
   "execution_count": null,
   "id": "e3a8dae9-4130-4587-814a-b6c7b36f63be",
   "metadata": {
    "vscode": {
     "languageId": "r"
    }
   },
   "outputs": [],
   "source": [
    "ggsave('./figures_1/cd45_atlas_feature.pdf', plot = last_plot(), width = 8, height = 8, units = 'in', dpi = 300)\n",
    "ggsave('./figures_1/cd45_atlas_feature.png', plot = last_plot(), width = 8, height = 8, units = 'in', dpi = 300)"
   ]
  },
  {
   "cell_type": "code",
   "execution_count": null,
   "id": "bd888bcb-12d2-4303-8e44-8666f16438fa",
   "metadata": {
    "vscode": {
     "languageId": "r"
    }
   },
   "outputs": [],
   "source": [
    "cells <- WhichCells(atlas, expression = celltype_extended_atlas == \"EMP\")\n",
    "length(cells)"
   ]
  },
  {
   "cell_type": "code",
   "execution_count": null,
   "id": "b72dfae5-2dfd-40f8-ab3c-97ef824eb4fc",
   "metadata": {
    "vscode": {
     "languageId": "r"
    }
   },
   "outputs": [],
   "source": [
    "options(repr.plot.width = 8, repr.plot.height = 8 )\n",
    "  DimPlot(\n",
    "    atlas,\n",
    "    reduction = \"UMAP\",\n",
    "    cells.highlight = cells,\n",
    "    cols.highlight = \"firebrick\",\n",
    "    cols = \"grey90\",\n",
    "    pt.size = 0.2,\n",
    "    sizes.highlight = 0.2,\n",
    "    alpha = 0.5,\n",
    "      raster = FALSE\n",
    "  ) +\n",
    "    NoAxes() +\n",
    "    NoLegend() +\n",
    "    ggtitle(\"EMP\") +\n",
    "    theme(\n",
    "      plot.title = element_text(size = 13,  hjust = 0.5),\n",
    "      plot.margin = margin(2, 2, 2, 2)\n",
    "    )"
   ]
  },
  {
   "cell_type": "code",
   "execution_count": null,
   "id": "d87173fb-444b-4f26-bb42-9c76ae63dbfc",
   "metadata": {
    "vscode": {
     "languageId": "r"
    }
   },
   "outputs": [],
   "source": [
    "ggsave('./figures_1/cd45_emp_atlas_dimplot_highlight.pdf', plot = last_plot(), width = 8, height = 8, units = 'in', dpi = 300)\n",
    "ggsave('./figures_1/cd45_emp_atlas_dimplot_highlight.png', plot = last_plot(), width = 8, height = 8, units = 'in', dpi = 300)"
   ]
  },
  {
   "cell_type": "code",
   "execution_count": null,
   "id": "1575d8a3-900e-43d1-93a8-c95a588d6567",
   "metadata": {
    "vscode": {
     "languageId": "r"
    }
   },
   "outputs": [],
   "source": []
  },
  {
   "cell_type": "code",
   "execution_count": null,
   "id": "a3e3adfa-6e9b-4523-8328-e67164184c62",
   "metadata": {
    "vscode": {
     "languageId": "r"
    }
   },
   "outputs": [],
   "source": [
    "options(repr.plot.width=20, repr.plot.height=10)\n",
    "DimPlot(obj, reduction = 'UMAP', group.by = 'cell_type_subclusters', label = T,label.size = 5, alpha=0.7, cols = rev(r3dcol$cols_46), repel= TRUE, label.box = FALSE )"
   ]
  },
  {
   "cell_type": "code",
   "execution_count": null,
   "id": "31597ca7-4f6d-48d6-a062-2aab8627114b",
   "metadata": {
    "vscode": {
     "languageId": "r"
    }
   },
   "outputs": [],
   "source": [
    "ggsave('./figures_1/obj_umap_sub.pdf', plot = last_plot(), width = 20, height = 10, units = 'in', dpi = 300)\n",
    "ggsave('./figures_1/obj_umap_sub.png', plot = last_plot(), width = 20, height = 10, units = 'in', dpi = 300)\n"
   ]
  },
  {
   "cell_type": "code",
   "execution_count": null,
   "id": "14d79741-f0b4-4d26-8b6f-43b283e81103",
   "metadata": {
    "vscode": {
     "languageId": "r"
    }
   },
   "outputs": [],
   "source": []
  }
 ],
 "metadata": {
  "kernelspec": {
   "display_name": "R",
   "language": "R",
   "name": "ir"
  },
  "language_info": {
   "codemirror_mode": "r",
   "file_extension": ".r",
   "mimetype": "text/x-r-source",
   "name": "R",
   "pygments_lexer": "r",
   "version": "4.5.1"
  }
 },
 "nbformat": 4,
 "nbformat_minor": 5
}
