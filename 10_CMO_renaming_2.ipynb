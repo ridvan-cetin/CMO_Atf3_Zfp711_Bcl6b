{
 "cells": [
  {
   "cell_type": "markdown",
   "id": "c3af4cb9-ca96-4b5c-8fc6-de66517e6538",
   "metadata": {},
   "source": [
    "# CMO Renaming the Clusters"
   ]
  },
  {
   "cell_type": "code",
   "execution_count": null,
   "id": "ecf90a7c-a4d6-413c-87ca-3e73a5602526",
   "metadata": {
    "vscode": {
     "languageId": "r"
    }
   },
   "outputs": [],
   "source": [
    "obj <- readRDS('../../cmo_version3.rds')\n",
    "obj"
   ]
  },
  {
   "cell_type": "code",
   "execution_count": null,
   "id": "531257ea-70c5-495b-8bb8-4bfbb9df5b1a",
   "metadata": {
    "vscode": {
     "languageId": "r"
    }
   },
   "outputs": [],
   "source": [
    "source(\"/home/ridvan/scRIPT/settings.R\")\n",
    "source(\"/home/ridvan/scRIPT/utils.R\")"
   ]
  },
  {
   "cell_type": "code",
   "execution_count": null,
   "id": "72b752bd-1a65-44fb-9dc8-5394b0f1d278",
   "metadata": {
    "vscode": {
     "languageId": "r"
    }
   },
   "outputs": [],
   "source": [
    "ls()"
   ]
  },
  {
   "cell_type": "code",
   "execution_count": null,
   "id": "c89e4f31-4618-4cc9-a9c0-0fdea5ef81d5",
   "metadata": {
    "vscode": {
     "languageId": "r"
    }
   },
   "outputs": [],
   "source": [
    "table(obj$lv_subclusters)"
   ]
  },
  {
   "cell_type": "code",
   "execution_count": null,
   "id": "be13d02c-d348-4880-a87f-072b2a2e6cf3",
   "metadata": {
    "vscode": {
     "languageId": "r"
    }
   },
   "outputs": [],
   "source": [
    "colnames(obj@meta.data[,44:61])"
   ]
  },
  {
   "cell_type": "code",
   "execution_count": null,
   "id": "54ed0a88-ca6f-4050-b74f-96761cb7af31",
   "metadata": {
    "vscode": {
     "languageId": "r"
    }
   },
   "outputs": [],
   "source": [
    "names(obj@reductions)"
   ]
  },
  {
   "cell_type": "code",
   "execution_count": null,
   "id": "1a59a14b-bdf7-48f3-a532-b5285c7cc879",
   "metadata": {
    "vscode": {
     "languageId": "r"
    }
   },
   "outputs": [],
   "source": [
    "Idents(obj) <- 'lv_subclusters'"
   ]
  },
  {
   "cell_type": "code",
   "execution_count": null,
   "id": "6b081dce-f6f3-4cde-8536-7da7793ba586",
   "metadata": {
    "vscode": {
     "languageId": "r"
    }
   },
   "outputs": [],
   "source": [
    "mapping_methods <-  grep(\"predicted.id$\", colnames(obj@meta.data), value = TRUE)\n",
    "mapping_methods"
   ]
  },
  {
   "cell_type": "code",
   "execution_count": null,
   "id": "d31b4642-547c-4989-aef7-71e96f2fddc9",
   "metadata": {
    "vscode": {
     "languageId": "r"
    }
   },
   "outputs": [],
   "source": [
    "get_top3_all_mappings <- function(meta.data, annotation_col, annotation_value, mapping_methods) {\n",
    "  lapply(mapping_methods, function(celltype_col) {\n",
    "    meta.data %>%\n",
    "      filter(.data[[annotation_col]] == annotation_value) %>%\n",
    "      mutate(celltype = as.character(.data[[celltype_col]])) %>%\n",
    "      count(celltype) %>%\n",
    "      mutate(percentage = round(n / sum(n) * 100, 2)) %>%\n",
    "      arrange(desc(n)) %>%\n",
    "      slice(1:3) %>%\n",
    "      mutate(method = celltype_col) %>%\n",
    "      select(method, celltype, n, percentage)\n",
    "  }) %>%\n",
    "    bind_rows() # Combine all into one data frame\n",
    "}"
   ]
  },
  {
   "cell_type": "markdown",
   "id": "bb5f4f1d-761b-440f-8225-6e0d7254d5b3",
   "metadata": {},
   "source": [
    "## Naive"
   ]
  },
  {
   "cell_type": "code",
   "execution_count": null,
   "id": "12af38ff-44ad-455b-827c-bed2222eb5c5",
   "metadata": {
    "vscode": {
     "languageId": "r"
    }
   },
   "outputs": [],
   "source": [
    "# Example usage\n",
    "top3_all <- get_top3_all_mappings(\n",
    "  meta.data = obj@meta.data,\n",
    "  annotation_col = 'lv_subclusters',\n",
    "  annotation_value = 'Naive',\n",
    "  mapping_methods = mapping_methods\n",
    ")\n",
    "\n",
    "print(top3_all)"
   ]
  },
  {
   "cell_type": "markdown",
   "id": "7000215e-c663-4c0b-a836-c40f25461b60",
   "metadata": {
    "jp-MarkdownHeadingCollapsed": true
   },
   "source": [
    "## Epib"
   ]
  },
  {
   "cell_type": "code",
   "execution_count": null,
   "id": "0467b8cd-584d-4df8-b3fe-74ddcb426c34",
   "metadata": {
    "vscode": {
     "languageId": "r"
    }
   },
   "outputs": [],
   "source": [
    "# Example usage\n",
    "top3_all <- get_top3_all_mappings(\n",
    "  meta.data = obj@meta.data,\n",
    "  annotation_col = 'lv_subclusters',\n",
    "  annotation_value = 'Epib',\n",
    "  mapping_methods = mapping_methods\n",
    ")\n",
    "\n",
    "print(top3_all)"
   ]
  },
  {
   "cell_type": "markdown",
   "id": "6dbd0ab2-ee4e-45d8-81bf-cbef0a058412",
   "metadata": {},
   "source": [
    "## PST"
   ]
  },
  {
   "cell_type": "code",
   "execution_count": null,
   "id": "4bfcc4d1-2f6d-42e8-a53b-d7766f20cdfb",
   "metadata": {
    "vscode": {
     "languageId": "r"
    }
   },
   "outputs": [],
   "source": [
    "# Example usage\n",
    "top3_all <- get_top3_all_mappings(\n",
    "  meta.data = obj@meta.data,\n",
    "  annotation_col = 'lv_subclusters',\n",
    "  annotation_value = 'PST',\n",
    "  mapping_methods = mapping_methods\n",
    ")\n",
    "\n",
    "print(top3_all)"
   ]
  },
  {
   "cell_type": "code",
   "execution_count": null,
   "id": "1aa41d98-451e-4227-ad5a-c4d7e579b82a",
   "metadata": {
    "vscode": {
     "languageId": "r"
    }
   },
   "outputs": [],
   "source": []
  },
  {
   "cell_type": "markdown",
   "id": "9c6d8f28-a1e7-4857-a60c-c0de5a75a989",
   "metadata": {},
   "source": [
    "## EcXSfn"
   ]
  },
  {
   "cell_type": "code",
   "execution_count": null,
   "id": "81d9b599-f55d-45ea-8fac-e84154bfa96b",
   "metadata": {
    "vscode": {
     "languageId": "r"
    }
   },
   "outputs": [],
   "source": [
    "# Example usage\n",
    "top3_all <- get_top3_all_mappings(\n",
    "  meta.data = obj@meta.data,\n",
    "  annotation_col = 'lv_subclusters',\n",
    "  annotation_value = 'EcXSfn',\n",
    "  mapping_methods = mapping_methods\n",
    ")\n",
    "\n",
    "print(top3_all)"
   ]
  },
  {
   "cell_type": "code",
   "execution_count": null,
   "id": "797e9421-fac0-40f4-98e9-d984ea9f7141",
   "metadata": {
    "vscode": {
     "languageId": "r"
    }
   },
   "outputs": [],
   "source": []
  },
  {
   "attachments": {},
   "cell_type": "markdown",
   "id": "23b10a41-7005-48bf-a5a1-1f98cf46fccc",
   "metadata": {},
   "source": [
    "## EcXCldn3"
   ]
  },
  {
   "cell_type": "code",
   "execution_count": null,
   "id": "8ad7e488-bafb-4c59-9dd5-c8e3d7e63725",
   "metadata": {
    "vscode": {
     "languageId": "r"
    }
   },
   "outputs": [],
   "source": [
    "# Example usage\n",
    "top3_all <- get_top3_all_mappings(\n",
    "  meta.data = obj@meta.data,\n",
    "  annotation_col = 'lv_subclusters',\n",
    "  annotation_value = 'EcXCldn3',\n",
    "  mapping_methods = mapping_methods\n",
    ")\n",
    "\n",
    "print(top3_all)"
   ]
  },
  {
   "cell_type": "code",
   "execution_count": null,
   "id": "b311b416-8a80-41ef-a670-4315e8fa6f2f",
   "metadata": {
    "vscode": {
     "languageId": "r"
    }
   },
   "outputs": [],
   "source": []
  },
  {
   "attachments": {},
   "cell_type": "markdown",
   "id": "9e678022-18ab-4fb7-a07f-53cc1ef452c1",
   "metadata": {},
   "source": [
    "## EcXAnxa1"
   ]
  },
  {
   "cell_type": "code",
   "execution_count": null,
   "id": "64d71ece-a39e-44c8-9e11-9fa9ef3ae8c8",
   "metadata": {
    "vscode": {
     "languageId": "r"
    }
   },
   "outputs": [],
   "source": [
    "# Example usage\n",
    "top3_all <- get_top3_all_mappings(\n",
    "  meta.data = obj@meta.data,\n",
    "  annotation_col = 'lv_subclusters',\n",
    "  annotation_value = 'EcXAnxa1',\n",
    "  mapping_methods = mapping_methods\n",
    ")\n",
    "\n",
    "print(top3_all)"
   ]
  },
  {
   "cell_type": "code",
   "execution_count": null,
   "id": "0e6080cd-a7fa-4073-a7fd-6c49169471fe",
   "metadata": {
    "vscode": {
     "languageId": "r"
    }
   },
   "outputs": [],
   "source": []
  },
  {
   "attachments": {},
   "cell_type": "markdown",
   "id": "4352faea-4ebe-45e1-ae96-a87789d3fd22",
   "metadata": {},
   "source": [
    "## PGC"
   ]
  },
  {
   "cell_type": "code",
   "execution_count": null,
   "id": "d15ec98b-eb5a-4e71-a42a-7c134cc64f21",
   "metadata": {
    "vscode": {
     "languageId": "r"
    }
   },
   "outputs": [],
   "source": [
    "# Example usage\n",
    "top3_all <- get_top3_all_mappings(\n",
    "  meta.data = obj@meta.data,\n",
    "  annotation_col = 'lv_subclusters',\n",
    "  annotation_value = 'PGC',\n",
    "  mapping_methods = mapping_methods\n",
    ")\n",
    "\n",
    "print(top3_all)"
   ]
  },
  {
   "attachments": {},
   "cell_type": "markdown",
   "id": "9ff6afb8-84b9-4f98-8e8b-16381e34d402",
   "metadata": {},
   "source": [
    "## PSMesp1    "
   ]
  },
  {
   "cell_type": "code",
   "execution_count": null,
   "id": "109cf48c-4e2a-45c7-8764-406149fa1bf9",
   "metadata": {
    "vscode": {
     "languageId": "r"
    }
   },
   "outputs": [],
   "source": [
    "# Example usage\n",
    "top3_all <- get_top3_all_mappings(\n",
    "  meta.data = obj@meta.data,\n",
    "  annotation_col = 'lv_subclusters',\n",
    "  annotation_value = 'PSMesp1',\n",
    "  mapping_methods = mapping_methods\n",
    ")\n",
    "\n",
    "print(top3_all)"
   ]
  },
  {
   "cell_type": "code",
   "execution_count": null,
   "id": "e9f52528-9b95-42d4-8e9b-679144028e39",
   "metadata": {
    "vscode": {
     "languageId": "r"
    }
   },
   "outputs": [],
   "source": []
  },
  {
   "attachments": {},
   "cell_type": "markdown",
   "id": "06d0dbce-1261-483a-8986-acae8696dfb4",
   "metadata": {},
   "source": [
    "## EnXFgf5    "
   ]
  },
  {
   "cell_type": "code",
   "execution_count": null,
   "id": "a202b36f-2b73-4ae8-a36d-b7b7c364f33b",
   "metadata": {
    "vscode": {
     "languageId": "r"
    }
   },
   "outputs": [],
   "source": [
    "# Example usage\n",
    "top3_all <- get_top3_all_mappings(\n",
    "  meta.data = obj@meta.data,\n",
    "  annotation_col = 'lv_subclusters',\n",
    "  annotation_value = 'EnXFgf5',\n",
    "  mapping_methods = mapping_methods\n",
    ")\n",
    "\n",
    "print(top3_all)"
   ]
  },
  {
   "cell_type": "code",
   "execution_count": null,
   "id": "7cb0de31-5ea6-4292-a087-b7e3b9e80223",
   "metadata": {
    "vscode": {
     "languageId": "r"
    }
   },
   "outputs": [],
   "source": []
  },
  {
   "attachments": {},
   "cell_type": "markdown",
   "id": "1c82c8c6-3eb6-4068-8561-5049c2bd7488",
   "metadata": {},
   "source": [
    "## EnXTtr    "
   ]
  },
  {
   "cell_type": "code",
   "execution_count": null,
   "id": "b2acb4d8-4c13-4f0a-9692-edc057f1c6c4",
   "metadata": {
    "vscode": {
     "languageId": "r"
    }
   },
   "outputs": [],
   "source": [
    "# Example usage\n",
    "top3_all <- get_top3_all_mappings(\n",
    "  meta.data = obj@meta.data,\n",
    "  annotation_col = 'lv_subclusters',\n",
    "  annotation_value = 'EnXTtr',\n",
    "  mapping_methods = mapping_methods\n",
    ")\n",
    "\n",
    "print(top3_all)"
   ]
  },
  {
   "cell_type": "code",
   "execution_count": null,
   "id": "9337603e-c758-4f18-a411-ee75d890a9ad",
   "metadata": {
    "vscode": {
     "languageId": "r"
    }
   },
   "outputs": [],
   "source": []
  },
  {
   "attachments": {},
   "cell_type": "markdown",
   "id": "d107ff19-3443-4acb-bd3b-6983638917a6",
   "metadata": {},
   "source": [
    "## MesoMixl1    "
   ]
  },
  {
   "cell_type": "code",
   "execution_count": null,
   "id": "834b8863-5fdb-4f77-98c4-79edb969d673",
   "metadata": {
    "vscode": {
     "languageId": "r"
    }
   },
   "outputs": [],
   "source": [
    "# Example usage\n",
    "top3_all <- get_top3_all_mappings(\n",
    "  meta.data = obj@meta.data,\n",
    "  annotation_col = 'lv_subclusters',\n",
    "  annotation_value = 'MesoMixl1',\n",
    "  mapping_methods = mapping_methods\n",
    ")\n",
    "\n",
    "print(top3_all)"
   ]
  },
  {
   "cell_type": "code",
   "execution_count": null,
   "id": "840cef3e-974c-4a49-8a07-fcf9cd682b6d",
   "metadata": {
    "vscode": {
     "languageId": "r"
    }
   },
   "outputs": [],
   "source": []
  },
  {
   "attachments": {},
   "cell_type": "markdown",
   "id": "87e8cf12-dff7-41e0-898d-41cacaf9069c",
   "metadata": {},
   "source": [
    "## bFgf15    "
   ]
  },
  {
   "cell_type": "code",
   "execution_count": null,
   "id": "b8afe530-41b9-4e86-bbd9-8bf8b15a7345",
   "metadata": {
    "scrolled": true,
    "vscode": {
     "languageId": "r"
    }
   },
   "outputs": [],
   "source": [
    "# Example usage\n",
    "top3_all <- get_top3_all_mappings(\n",
    "  meta.data = obj@meta.data,\n",
    "  annotation_col = 'lv_subclusters',\n",
    "  annotation_value = 'bFgf15',\n",
    "  mapping_methods = mapping_methods\n",
    ")\n",
    "\n",
    "print(top3_all)"
   ]
  },
  {
   "cell_type": "code",
   "execution_count": null,
   "id": "8fca2a12-8ce0-4aa3-820c-bf93ed6b6c03",
   "metadata": {
    "vscode": {
     "languageId": "r"
    }
   },
   "outputs": [],
   "source": []
  },
  {
   "attachments": {},
   "cell_type": "markdown",
   "id": "50223c3e-7851-4936-9576-ceec7ce8785e",
   "metadata": {},
   "source": [
    "## bCacna1d    "
   ]
  },
  {
   "cell_type": "code",
   "execution_count": null,
   "id": "6a4724c8-23e1-41d1-a466-dbe66e130a76",
   "metadata": {
    "vscode": {
     "languageId": "r"
    }
   },
   "outputs": [],
   "source": [
    "# Example usage\n",
    "top3_all <- get_top3_all_mappings(\n",
    "  meta.data = obj@meta.data,\n",
    "  annotation_col = 'lv_subclusters',\n",
    "  annotation_value = 'bCacna1d',\n",
    "  mapping_methods = mapping_methods\n",
    ")\n",
    "\n",
    "print(top3_all)"
   ]
  },
  {
   "cell_type": "code",
   "execution_count": null,
   "id": "0c4d3b4c-e9d1-4583-9740-2603447e196d",
   "metadata": {
    "vscode": {
     "languageId": "r"
    }
   },
   "outputs": [],
   "source": []
  },
  {
   "attachments": {},
   "cell_type": "markdown",
   "id": "0726a651-e118-408b-b378-f09ffefeeb54",
   "metadata": {},
   "source": [
    "## bNrxn3    "
   ]
  },
  {
   "cell_type": "code",
   "execution_count": null,
   "id": "e6245cec-add4-4528-9abf-66e00c207a57",
   "metadata": {
    "vscode": {
     "languageId": "r"
    }
   },
   "outputs": [],
   "source": [
    "# Example usage\n",
    "top3_all <- get_top3_all_mappings(\n",
    "  meta.data = obj@meta.data,\n",
    "  annotation_col = 'lv_subclusters',\n",
    "  annotation_value = 'bNrxn3',\n",
    "  mapping_methods = mapping_methods\n",
    ")\n",
    "\n",
    "print(top3_all)"
   ]
  },
  {
   "cell_type": "code",
   "execution_count": null,
   "id": "611ea4f8-255f-485c-ad2b-3d17b2d8906f",
   "metadata": {
    "vscode": {
     "languageId": "r"
    }
   },
   "outputs": [],
   "source": []
  },
  {
   "attachments": {},
   "cell_type": "markdown",
   "id": "1c7fbf7b-035a-4452-a195-29d9ff05af6f",
   "metadata": {},
   "source": [
    "## bStard8         "
   ]
  },
  {
   "cell_type": "code",
   "execution_count": null,
   "id": "24ff3558-1bf4-4f34-a2a1-677b83c4c318",
   "metadata": {
    "vscode": {
     "languageId": "r"
    }
   },
   "outputs": [],
   "source": [
    "# Example usage\n",
    "top3_all <- get_top3_all_mappings(\n",
    "  meta.data = obj@meta.data,\n",
    "  annotation_col = 'lv_subclusters',\n",
    "  annotation_value = 'bStard8',\n",
    "  mapping_methods = mapping_methods\n",
    ")\n",
    "\n",
    "print(top3_all)"
   ]
  },
  {
   "cell_type": "code",
   "execution_count": null,
   "id": "2fe0db89-75a1-4d5d-9862-78365c4e2f5a",
   "metadata": {
    "vscode": {
     "languageId": "r"
    }
   },
   "outputs": [],
   "source": []
  },
  {
   "attachments": {},
   "cell_type": "markdown",
   "id": "b3658911-5103-4bfe-9f11-b1de284c0e4c",
   "metadata": {},
   "source": [
    "## bUpk3b             "
   ]
  },
  {
   "cell_type": "code",
   "execution_count": null,
   "id": "c6e152d3-23ba-4672-a3c7-22af7b429175",
   "metadata": {
    "vscode": {
     "languageId": "r"
    }
   },
   "outputs": [],
   "source": [
    "# Example usage\n",
    "top3_all <- get_top3_all_mappings(\n",
    "  meta.data = obj@meta.data,\n",
    "  annotation_col = 'lv_subclusters',\n",
    "  annotation_value = 'bUpk3b',\n",
    "  mapping_methods = mapping_methods\n",
    ")\n",
    "\n",
    "print(top3_all)"
   ]
  },
  {
   "cell_type": "code",
   "execution_count": null,
   "id": "c31f9dc0-551b-471a-bbd4-e4f4e6795b06",
   "metadata": {
    "vscode": {
     "languageId": "r"
    }
   },
   "outputs": [],
   "source": []
  },
  {
   "attachments": {},
   "cell_type": "markdown",
   "id": "0af79a2d-215f-43cb-83b5-a2f5476782d4",
   "metadata": {},
   "source": [
    "## bPlxna4                  "
   ]
  },
  {
   "cell_type": "code",
   "execution_count": null,
   "id": "3531cb85-fdc2-43e0-b925-b31748eb1abb",
   "metadata": {
    "vscode": {
     "languageId": "r"
    }
   },
   "outputs": [],
   "source": [
    "# Example usage\n",
    "top3_all <- get_top3_all_mappings(\n",
    "  meta.data = obj@meta.data,\n",
    "  annotation_col = 'lv_subclusters',\n",
    "  annotation_value = 'bPlxna4',\n",
    "  mapping_methods = mapping_methods\n",
    ")\n",
    "\n",
    "print(top3_all)"
   ]
  },
  {
   "cell_type": "code",
   "execution_count": null,
   "id": "f969815a-5762-4453-b8f5-b76c19963724",
   "metadata": {
    "vscode": {
     "languageId": "r"
    }
   },
   "outputs": [],
   "source": []
  },
  {
   "attachments": {},
   "cell_type": "markdown",
   "id": "26f68760-90db-495f-8d3e-5297c22ea0f2",
   "metadata": {},
   "source": [
    "## aGreb1                  "
   ]
  },
  {
   "cell_type": "code",
   "execution_count": null,
   "id": "6941a3b2-eeb1-4ac4-8efd-a1e09303705d",
   "metadata": {
    "vscode": {
     "languageId": "r"
    }
   },
   "outputs": [],
   "source": [
    "# Example usage\n",
    "top3_all <- get_top3_all_mappings(\n",
    "  meta.data = obj@meta.data,\n",
    "  annotation_col = 'lv_subclusters',\n",
    "  annotation_value = 'aGreb1',\n",
    "  mapping_methods = mapping_methods\n",
    ")\n",
    "\n",
    "print(top3_all)"
   ]
  },
  {
   "cell_type": "code",
   "execution_count": null,
   "id": "f49884fa-266e-453e-bac6-44c49c9c1feb",
   "metadata": {
    "vscode": {
     "languageId": "r"
    }
   },
   "outputs": [],
   "source": []
  },
  {
   "attachments": {},
   "cell_type": "markdown",
   "id": "fbac1672-2976-49a6-a15b-9d73166f6444",
   "metadata": {},
   "source": [
    "## aDach1                       "
   ]
  },
  {
   "cell_type": "code",
   "execution_count": null,
   "id": "92dfe14a-8a61-45f4-9f50-7776e22276ca",
   "metadata": {
    "vscode": {
     "languageId": "r"
    }
   },
   "outputs": [],
   "source": [
    "# Example usage\n",
    "top3_all <- get_top3_all_mappings(\n",
    "  meta.data = obj@meta.data,\n",
    "  annotation_col = 'lv_subclusters',\n",
    "  annotation_value = 'aDach1',\n",
    "  mapping_methods = mapping_methods\n",
    ")\n",
    "\n",
    "print(top3_all)"
   ]
  },
  {
   "attachments": {},
   "cell_type": "markdown",
   "id": "71f5ff90-3fb6-41fd-9dc1-f5c715108164",
   "metadata": {},
   "source": [
    "## aActc1                           "
   ]
  },
  {
   "cell_type": "code",
   "execution_count": null,
   "id": "373da15a-f54e-47ad-b1e0-48b8915060f3",
   "metadata": {
    "vscode": {
     "languageId": "r"
    }
   },
   "outputs": [],
   "source": [
    "# Example usage\n",
    "top3_all <- get_top3_all_mappings(\n",
    "  meta.data = obj@meta.data,\n",
    "  annotation_col = 'lv_subclusters',\n",
    "  annotation_value = 'aActc1',\n",
    "  mapping_methods = mapping_methods\n",
    ")\n",
    "\n",
    "print(top3_all)"
   ]
  },
  {
   "cell_type": "code",
   "execution_count": null,
   "id": "b450c663-4a21-44ce-a090-360414658cff",
   "metadata": {
    "vscode": {
     "languageId": "r"
    }
   },
   "outputs": [],
   "source": []
  },
  {
   "attachments": {},
   "cell_type": "markdown",
   "id": "61ef226f-4d3d-4f5e-aaa4-e1f641e9b3d5",
   "metadata": {},
   "source": [
    "## aIgfbp7                           "
   ]
  },
  {
   "cell_type": "code",
   "execution_count": null,
   "id": "90d4379d-893c-456a-811d-e5d06146b876",
   "metadata": {
    "vscode": {
     "languageId": "r"
    }
   },
   "outputs": [],
   "source": [
    "# Example usage\n",
    "top3_all <- get_top3_all_mappings(\n",
    "  meta.data = obj@meta.data,\n",
    "  annotation_col = 'lv_subclusters',\n",
    "  annotation_value = 'aIgfbp7',\n",
    "  mapping_methods = mapping_methods\n",
    ")\n",
    "\n",
    "print(top3_all)"
   ]
  },
  {
   "attachments": {},
   "cell_type": "markdown",
   "id": "ee63d23d-0d14-4d54-aecc-837dee01058f",
   "metadata": {},
   "source": [
    "## aWnt2G1                           "
   ]
  },
  {
   "cell_type": "code",
   "execution_count": null,
   "id": "8127d649-bba9-4f90-829f-9a987ea23db6",
   "metadata": {
    "vscode": {
     "languageId": "r"
    }
   },
   "outputs": [],
   "source": [
    "# Example usage\n",
    "top3_all <- get_top3_all_mappings(\n",
    "  meta.data = obj@meta.data,\n",
    "  annotation_col = 'lv_subclusters',\n",
    "  annotation_value = 'aWnt2G1',\n",
    "  mapping_methods = mapping_methods\n",
    ")\n",
    "\n",
    "print(top3_all)"
   ]
  },
  {
   "attachments": {},
   "cell_type": "markdown",
   "id": "bbd5db9b-aac1-4d6a-b875-85b10b32d701",
   "metadata": {},
   "source": [
    "## aFgf12SG2M                               "
   ]
  },
  {
   "cell_type": "code",
   "execution_count": null,
   "id": "271859cc-caf4-437e-8a6c-8a48cd8178ed",
   "metadata": {
    "vscode": {
     "languageId": "r"
    }
   },
   "outputs": [],
   "source": [
    "# Example usage\n",
    "top3_all <- get_top3_all_mappings(\n",
    "  meta.data = obj@meta.data,\n",
    "  annotation_col = 'lv_subclusters',\n",
    "  annotation_value = 'aFgf12SG2M',\n",
    "  mapping_methods = mapping_methods\n",
    ")\n",
    "\n",
    "print(top3_all)"
   ]
  },
  {
   "attachments": {},
   "cell_type": "markdown",
   "id": "9efd1946-5a4e-48e9-bf97-d53f1c41d048",
   "metadata": {
    "jp-MarkdownHeadingCollapsed": true
   },
   "source": [
    "## baIfit1                               "
   ]
  },
  {
   "cell_type": "code",
   "execution_count": null,
   "id": "4fd87b25-6068-4a8a-b42a-ae07f7133672",
   "metadata": {
    "vscode": {
     "languageId": "r"
    }
   },
   "outputs": [],
   "source": [
    "# Example usage\n",
    "top3_all <- get_top3_all_mappings(\n",
    "  meta.data = obj@meta.data,\n",
    "  annotation_col = 'lv_subclusters',\n",
    "  annotation_value = 'baIfit1',\n",
    "  mapping_methods = mapping_methods\n",
    ")\n",
    "\n",
    "print(top3_all)"
   ]
  },
  {
   "cell_type": "markdown",
   "id": "2337ded4-d34d-4264-ae3a-7591e9a03d5e",
   "metadata": {
    "jp-MarkdownHeadingCollapsed": true
   },
   "source": [
    "## aaa"
   ]
  },
  {
   "cell_type": "code",
   "execution_count": null,
   "id": "89344530-e0dd-47f1-8bc7-dd4747828c9e",
   "metadata": {
    "vscode": {
     "languageId": "r"
    }
   },
   "outputs": [],
   "source": [
    "table(obj$lv_subclusters)"
   ]
  },
  {
   "attachments": {},
   "cell_type": "markdown",
   "id": "5371a76f-57ce-4c23-aea8-19762d5c192b",
   "metadata": {
    "jp-MarkdownHeadingCollapsed": true
   },
   "source": [
    "## BPr                               "
   ]
  },
  {
   "cell_type": "code",
   "execution_count": null,
   "id": "47d6cb7d-6629-40ed-8917-75995f503548",
   "metadata": {
    "vscode": {
     "languageId": "r"
    }
   },
   "outputs": [],
   "source": [
    "# Example usage\n",
    "top3_all <- get_top3_all_mappings(\n",
    "  meta.data = obj@meta.data,\n",
    "  annotation_col = 'lv_subclusters',\n",
    "  annotation_value = 'BPr',\n",
    "  mapping_methods = mapping_methods\n",
    ")\n",
    "\n",
    "print(top3_all)"
   ]
  },
  {
   "attachments": {},
   "cell_type": "markdown",
   "id": "071bfd66-4562-4e40-87f8-d0c62d781f16",
   "metadata": {},
   "source": [
    "## Ery1a                                     "
   ]
  },
  {
   "cell_type": "code",
   "execution_count": null,
   "id": "3fbd396d-33c2-4e6d-90db-73db94d93e28",
   "metadata": {
    "vscode": {
     "languageId": "r"
    }
   },
   "outputs": [],
   "source": [
    "# Example usage\n",
    "top3_all <- get_top3_all_mappings(\n",
    "  meta.data = obj@meta.data,\n",
    "  annotation_col = 'lv_subclusters',\n",
    "  annotation_value = 'Ery1a',\n",
    "  mapping_methods = mapping_methods\n",
    ")\n",
    "\n",
    "print(top3_all)"
   ]
  },
  {
   "cell_type": "code",
   "execution_count": null,
   "id": "5952a4f8-150b-47db-9040-a031e52d89b5",
   "metadata": {
    "vscode": {
     "languageId": "r"
    }
   },
   "outputs": [],
   "source": []
  },
  {
   "attachments": {},
   "cell_type": "markdown",
   "id": "587adab9-5bd5-42b6-813c-c7971f016d0c",
   "metadata": {},
   "source": [
    "## Ery1b                                     "
   ]
  },
  {
   "cell_type": "code",
   "execution_count": null,
   "id": "d2f1bde0-abe2-4c8c-8b7d-412878081664",
   "metadata": {
    "vscode": {
     "languageId": "r"
    }
   },
   "outputs": [],
   "source": [
    "# Example usage\n",
    "top3_all <- get_top3_all_mappings(\n",
    "  meta.data = obj@meta.data,\n",
    "  annotation_col = 'lv_subclusters',\n",
    "  annotation_value = 'Ery1b',\n",
    "  mapping_methods = mapping_methods\n",
    ")\n",
    "\n",
    "print(top3_all)"
   ]
  },
  {
   "cell_type": "code",
   "execution_count": null,
   "id": "b334ae3e-af46-4ed8-98e3-da0c802663a9",
   "metadata": {
    "vscode": {
     "languageId": "r"
    }
   },
   "outputs": [],
   "source": []
  },
  {
   "attachments": {},
   "cell_type": "markdown",
   "id": "7a31dba4-4c62-4b05-8c30-f8e0113ee54a",
   "metadata": {},
   "source": [
    "## Ery2                                     "
   ]
  },
  {
   "cell_type": "code",
   "execution_count": null,
   "id": "14faebe4-96c3-48b9-930e-c318018791ec",
   "metadata": {
    "vscode": {
     "languageId": "r"
    }
   },
   "outputs": [],
   "source": [
    "# Example usage\n",
    "top3_all <- get_top3_all_mappings(\n",
    "  meta.data = obj@meta.data,\n",
    "  annotation_col = 'lv_subclusters',\n",
    "  annotation_value = 'Ery2',\n",
    "  mapping_methods = mapping_methods\n",
    ")\n",
    "\n",
    "print(top3_all)"
   ]
  },
  {
   "attachments": {},
   "cell_type": "markdown",
   "id": "813c28de-aae8-473f-9ce0-c0e472570f4b",
   "metadata": {},
   "source": [
    "## Ery3                                     "
   ]
  },
  {
   "cell_type": "code",
   "execution_count": null,
   "id": "6bdba9b8-88e5-4a4a-88f5-4f88c5a7f484",
   "metadata": {
    "vscode": {
     "languageId": "r"
    }
   },
   "outputs": [],
   "source": [
    "# Example usage\n",
    "top3_all <- get_top3_all_mappings(\n",
    "  meta.data = obj@meta.data,\n",
    "  annotation_col = 'lv_subclusters',\n",
    "  annotation_value = 'Ery3',\n",
    "  mapping_methods = mapping_methods\n",
    ")\n",
    "\n",
    "print(top3_all)"
   ]
  },
  {
   "cell_type": "code",
   "execution_count": null,
   "id": "f551a982-0259-4f85-a487-04e921d31d61",
   "metadata": {
    "vscode": {
     "languageId": "r"
    }
   },
   "outputs": [],
   "source": []
  },
  {
   "attachments": {},
   "cell_type": "markdown",
   "id": "89c4579b-fa7e-4f2d-a987-f66d66e128ae",
   "metadata": {},
   "source": [
    "## MegP1                                     "
   ]
  },
  {
   "cell_type": "code",
   "execution_count": null,
   "id": "d2f992bb-777a-4316-b187-a2e1bc44af43",
   "metadata": {
    "vscode": {
     "languageId": "r"
    }
   },
   "outputs": [],
   "source": [
    "# Example usage\n",
    "top3_all <- get_top3_all_mappings(\n",
    "  meta.data = obj@meta.data,\n",
    "  annotation_col = 'lv_subclusters',\n",
    "  annotation_value = 'MegP1',\n",
    "  mapping_methods = mapping_methods\n",
    ")\n",
    "\n",
    "print(top3_all)"
   ]
  },
  {
   "attachments": {},
   "cell_type": "markdown",
   "id": "3534ab1b-f2f6-4f40-85b4-9bd46a640194",
   "metadata": {},
   "source": [
    "## MegP2                                     "
   ]
  },
  {
   "cell_type": "code",
   "execution_count": null,
   "id": "7de7f548-d8d4-4017-b82e-61502d74043f",
   "metadata": {
    "vscode": {
     "languageId": "r"
    }
   },
   "outputs": [],
   "source": [
    "# Example usage\n",
    "top3_all <- get_top3_all_mappings(\n",
    "  meta.data = obj@meta.data,\n",
    "  annotation_col = 'lv_subclusters',\n",
    "  annotation_value = 'MegP2',\n",
    "  mapping_methods = mapping_methods\n",
    ")\n",
    "\n",
    "print(top3_all)"
   ]
  },
  {
   "attachments": {},
   "cell_type": "markdown",
   "id": "40e9e847-249f-4b0c-a208-4ca178f8c591",
   "metadata": {},
   "source": [
    "## MegP3                            "
   ]
  },
  {
   "cell_type": "code",
   "execution_count": null,
   "id": "71879fff-51ab-49a7-bd03-e0ac279e76db",
   "metadata": {
    "vscode": {
     "languageId": "r"
    }
   },
   "outputs": [],
   "source": [
    "# Example usage\n",
    "top3_all <- get_top3_all_mappings(\n",
    "  meta.data = obj@meta.data,\n",
    "  annotation_col = 'lv_subclusters',\n",
    "  annotation_value = 'MegP3',\n",
    "  mapping_methods = mapping_methods\n",
    ")\n",
    "\n",
    "print(top3_all)"
   ]
  },
  {
   "attachments": {},
   "cell_type": "markdown",
   "id": "eb864468-f5d8-48e7-ac5a-41db57040f94",
   "metadata": {},
   "source": [
    "## EndGadd45g                            "
   ]
  },
  {
   "cell_type": "code",
   "execution_count": null,
   "id": "a683dfca-e8a0-4841-8deb-8f59bb77c934",
   "metadata": {
    "vscode": {
     "languageId": "r"
    }
   },
   "outputs": [],
   "source": [
    "# Example usage\n",
    "top3_all <- get_top3_all_mappings(\n",
    "  meta.data = obj@meta.data,\n",
    "  annotation_col = 'lv_subclusters',\n",
    "  annotation_value = 'EndGadd45g',\n",
    "  mapping_methods = mapping_methods\n",
    ")\n",
    "\n",
    "print(top3_all)"
   ]
  },
  {
   "cell_type": "code",
   "execution_count": null,
   "id": "5bdd2c84-13e5-4192-84e5-17e836910e40",
   "metadata": {
    "vscode": {
     "languageId": "r"
    }
   },
   "outputs": [],
   "source": []
  },
  {
   "attachments": {},
   "cell_type": "markdown",
   "id": "915528f3-e15b-45d0-ad2d-c326820cc81f",
   "metadata": {},
   "source": [
    "## EndCdh5                             "
   ]
  },
  {
   "cell_type": "code",
   "execution_count": null,
   "id": "16858bba-c84f-43fb-9d44-a9370629b1bc",
   "metadata": {
    "vscode": {
     "languageId": "r"
    }
   },
   "outputs": [],
   "source": [
    "# Example usage\n",
    "top3_all <- get_top3_all_mappings(\n",
    "  meta.data = obj@meta.data,\n",
    "  annotation_col = 'lv_subclusters',\n",
    "  annotation_value = 'EndCdh5',\n",
    "  mapping_methods = mapping_methods\n",
    ")\n",
    "\n",
    "print(top3_all)"
   ]
  },
  {
   "cell_type": "code",
   "execution_count": null,
   "id": "2cbbdd39-e17a-440c-a650-1706654043cc",
   "metadata": {
    "vscode": {
     "languageId": "r"
    }
   },
   "outputs": [],
   "source": []
  },
  {
   "attachments": {},
   "cell_type": "markdown",
   "id": "2fe5d57a-2836-48c3-aea3-c069042679ac",
   "metadata": {},
   "source": [
    "## EndCyp26b1                             "
   ]
  },
  {
   "cell_type": "code",
   "execution_count": null,
   "id": "e9d3b26f-08ef-4a2d-90d4-eceafd07102e",
   "metadata": {
    "vscode": {
     "languageId": "r"
    }
   },
   "outputs": [],
   "source": [
    "# Example usage\n",
    "top3_all <- get_top3_all_mappings(\n",
    "  meta.data = obj@meta.data,\n",
    "  annotation_col = 'lv_subclusters',\n",
    "  annotation_value = 'EndCyp26b1',\n",
    "  mapping_methods = mapping_methods\n",
    ")\n",
    "\n",
    "print(top3_all)"
   ]
  },
  {
   "cell_type": "code",
   "execution_count": null,
   "id": "c706ecac-52dc-47ef-9701-0e274d2ce0db",
   "metadata": {
    "vscode": {
     "languageId": "r"
    }
   },
   "outputs": [],
   "source": []
  },
  {
   "attachments": {},
   "cell_type": "markdown",
   "id": "2c448233-8086-4808-984a-107468cec935",
   "metadata": {},
   "source": [
    "## EndRsad2                             "
   ]
  },
  {
   "cell_type": "code",
   "execution_count": null,
   "id": "0e8d083c-d499-436d-8292-16ae60012ee2",
   "metadata": {
    "scrolled": true,
    "vscode": {
     "languageId": "r"
    }
   },
   "outputs": [],
   "source": [
    "# Example usage\n",
    "top3_all <- get_top3_all_mappings(\n",
    "  meta.data = obj@meta.data,\n",
    "  annotation_col = 'lv_subclusters',\n",
    "  annotation_value = 'EndRsad2',\n",
    "  mapping_methods = mapping_methods\n",
    ")\n",
    "\n",
    "print(top3_all)"
   ]
  },
  {
   "attachments": {},
   "cell_type": "markdown",
   "id": "9888d029-8aac-4e2f-b1e8-ae1264850ffb",
   "metadata": {},
   "source": [
    "## EMPNrg1                             "
   ]
  },
  {
   "cell_type": "code",
   "execution_count": null,
   "id": "1517e23c-b136-4f11-a9ca-cfc74fd3bd00",
   "metadata": {
    "vscode": {
     "languageId": "r"
    }
   },
   "outputs": [],
   "source": [
    "# Example usage\n",
    "top3_all <- get_top3_all_mappings(\n",
    "  meta.data = obj@meta.data,\n",
    "  annotation_col = 'lv_subclusters',\n",
    "  annotation_value = 'EMPNrg1',\n",
    "  mapping_methods = mapping_methods\n",
    ")\n",
    "\n",
    "print(top3_all)"
   ]
  },
  {
   "cell_type": "code",
   "execution_count": null,
   "id": "8e5555c2-1cfc-47ff-b3cc-2186a995f669",
   "metadata": {
    "vscode": {
     "languageId": "r"
    }
   },
   "outputs": [],
   "source": []
  },
  {
   "attachments": {},
   "cell_type": "markdown",
   "id": "a8e6c908-9cf7-43d1-87fe-70eaddd5abd7",
   "metadata": {},
   "source": [
    "## EMPIl17ra                             "
   ]
  },
  {
   "cell_type": "code",
   "execution_count": null,
   "id": "73881c7b-fea4-4fc5-8eab-603de64b06f8",
   "metadata": {
    "vscode": {
     "languageId": "r"
    }
   },
   "outputs": [],
   "source": [
    "# Example usage\n",
    "top3_all <- get_top3_all_mappings(\n",
    "  meta.data = obj@meta.data,\n",
    "  annotation_col = 'lv_subclusters',\n",
    "  annotation_value = 'EMPIl17ra',\n",
    "  mapping_methods = mapping_methods\n",
    ")\n",
    "\n",
    "print(top3_all)"
   ]
  },
  {
   "cell_type": "code",
   "execution_count": null,
   "id": "7664feaa-1163-4929-8390-b4dc7081fcf9",
   "metadata": {
    "vscode": {
     "languageId": "r"
    }
   },
   "outputs": [],
   "source": []
  },
  {
   "attachments": {},
   "cell_type": "markdown",
   "id": "2e37f83e-36f1-444e-bd0f-c6089c97d8ce",
   "metadata": {},
   "source": [
    "## EMPCcl4                             "
   ]
  },
  {
   "cell_type": "code",
   "execution_count": null,
   "id": "5424b0e8-5966-4cca-9709-523df6b9d415",
   "metadata": {
    "vscode": {
     "languageId": "r"
    }
   },
   "outputs": [],
   "source": [
    "# Example usage\n",
    "top3_all <- get_top3_all_mappings(\n",
    "  meta.data = obj@meta.data,\n",
    "  annotation_col = 'lv_subclusters',\n",
    "  annotation_value = 'EMPCcl4',\n",
    "  mapping_methods = mapping_methods\n",
    ")\n",
    "\n",
    "print(top3_all)"
   ]
  },
  {
   "cell_type": "code",
   "execution_count": null,
   "id": "01d64426-dd87-4f7b-a435-7b01818f7172",
   "metadata": {
    "vscode": {
     "languageId": "r"
    }
   },
   "outputs": [],
   "source": []
  },
  {
   "attachments": {},
   "cell_type": "markdown",
   "id": "57318d04-ebd8-4bbf-aaf0-51856769457a",
   "metadata": {
    "jp-MarkdownHeadingCollapsed": true
   },
   "source": [
    "## EMPSepp1                             "
   ]
  },
  {
   "cell_type": "code",
   "execution_count": null,
   "id": "182df847-3e73-4a9f-9ae2-b5f7f636f6f5",
   "metadata": {
    "vscode": {
     "languageId": "r"
    }
   },
   "outputs": [],
   "source": [
    "# Example usage\n",
    "top3_all <- get_top3_all_mappings(\n",
    "  meta.data = obj@meta.data,\n",
    "  annotation_col = 'lv_subclusters',\n",
    "  annotation_value = 'EMPSepp1',\n",
    "  mapping_methods = mapping_methods\n",
    ")\n",
    "\n",
    "print(top3_all)"
   ]
  },
  {
   "cell_type": "markdown",
   "id": "61c2037e-9e10-4edd-911c-f6a6a9472a6b",
   "metadata": {},
   "source": [
    "# Clusters"
   ]
  },
  {
   "cell_type": "code",
   "execution_count": null,
   "id": "acc6c3e7-8812-437b-b2ed-58e0cb0bd2e6",
   "metadata": {
    "vscode": {
     "languageId": "r"
    }
   },
   "outputs": [],
   "source": [
    "Idents(obj) <- 'lv_clusters'"
   ]
  },
  {
   "cell_type": "code",
   "execution_count": null,
   "id": "12d889f0-7a87-4b32-912c-45c363154fbe",
   "metadata": {
    "vscode": {
     "languageId": "r"
    }
   },
   "outputs": [],
   "source": [
    "table(obj$lv_clusters)"
   ]
  },
  {
   "attachments": {},
   "cell_type": "markdown",
   "id": "a586557c-3632-4805-8dba-8a44e615da06",
   "metadata": {},
   "source": [
    "## Naive                             "
   ]
  },
  {
   "cell_type": "code",
   "execution_count": null,
   "id": "e9c6ab99-80a2-49ba-babb-534fa2eb6480",
   "metadata": {
    "vscode": {
     "languageId": "r"
    }
   },
   "outputs": [],
   "source": [
    "# Example usage\n",
    "top3_all <- get_top3_all_mappings(\n",
    "  meta.data = obj@meta.data,\n",
    "  annotation_col = 'lv_clusters',\n",
    "  annotation_value = 'Naive',\n",
    "  mapping_methods = mapping_methods\n",
    ")\n",
    "\n",
    "print(top3_all)"
   ]
  },
  {
   "cell_type": "code",
   "execution_count": null,
   "id": "4d53e473-1090-4608-81f6-9eca63efa011",
   "metadata": {
    "vscode": {
     "languageId": "r"
    }
   },
   "outputs": [],
   "source": [
    "# Example usage\n",
    "top3_all <- get_top3_all_mappings(\n",
    "  meta.data = obj@meta.data,\n",
    "  annotation_col = 'lv_clusters',\n",
    "  annotation_value = 'Epiblast',\n",
    "  mapping_methods = mapping_methods\n",
    ")\n",
    "\n",
    "print(top3_all)"
   ]
  },
  {
   "cell_type": "code",
   "execution_count": null,
   "id": "ddc42a93-a9d7-44dd-ace2-0b4379bed219",
   "metadata": {
    "vscode": {
     "languageId": "r"
    }
   },
   "outputs": [],
   "source": [
    "# Example usage\n",
    "top3_all <- get_top3_all_mappings(\n",
    "  meta.data = obj@meta.data,\n",
    "  annotation_col = 'lv_clusters',\n",
    "  annotation_value = 'Primitive_Streak',\n",
    "  mapping_methods = mapping_methods\n",
    ")\n",
    "\n",
    "print(top3_all)"
   ]
  },
  {
   "cell_type": "code",
   "execution_count": null,
   "id": "bf2bf2ab-1edc-44d2-990b-2d432203c427",
   "metadata": {
    "vscode": {
     "languageId": "r"
    }
   },
   "outputs": [],
   "source": [
    "# Example usage\n",
    "top3_all <- get_top3_all_mappings(\n",
    "  meta.data = obj@meta.data,\n",
    "  annotation_col = 'lv_clusters',\n",
    "  annotation_value = 'ExE_Ectoderm',\n",
    "  mapping_methods = mapping_methods\n",
    ")\n",
    "\n",
    "print(top3_all)"
   ]
  },
  {
   "cell_type": "code",
   "execution_count": null,
   "id": "a404ad65-5d77-4d17-836c-4ae96fca4df7",
   "metadata": {
    "vscode": {
     "languageId": "r"
    }
   },
   "outputs": [],
   "source": [
    "# Example usage\n",
    "top3_all <- get_top3_all_mappings(\n",
    "  meta.data = obj@meta.data,\n",
    "  annotation_col = 'lv_clusters',\n",
    "  annotation_value = 'PGC',\n",
    "  mapping_methods = mapping_methods\n",
    ")\n",
    "\n",
    "print(top3_all)"
   ]
  },
  {
   "cell_type": "code",
   "execution_count": null,
   "id": "3bdfe1bd-adc9-4c00-9f87-f10072bb5f06",
   "metadata": {
    "vscode": {
     "languageId": "r"
    }
   },
   "outputs": [],
   "source": [
    "# Example usage\n",
    "top3_all <- get_top3_all_mappings(\n",
    "  meta.data = obj@meta.data,\n",
    "  annotation_col = 'lv_clusters',\n",
    "  annotation_value = 'ExE_Endoderm',\n",
    "  mapping_methods = mapping_methods\n",
    ")\n",
    "\n",
    "print(top3_all)"
   ]
  },
  {
   "cell_type": "code",
   "execution_count": null,
   "id": "7321434d-5798-40ee-a9dd-4d94c59d288e",
   "metadata": {
    "vscode": {
     "languageId": "r"
    }
   },
   "outputs": [],
   "source": [
    "# Example usage\n",
    "top3_all <- get_top3_all_mappings(\n",
    "  meta.data = obj@meta.data,\n",
    "  annotation_col = 'lv_clusters',\n",
    "  annotation_value = 'Mesoderm_Mixl1',\n",
    "  mapping_methods = mapping_methods\n",
    ")\n",
    "\n",
    "print(top3_all)"
   ]
  },
  {
   "cell_type": "code",
   "execution_count": null,
   "id": "d5d9f059-70db-43e0-b585-29902a83a5bb",
   "metadata": {
    "vscode": {
     "languageId": "r"
    }
   },
   "outputs": [],
   "source": [
    "# Example usage\n",
    "top3_all <- get_top3_all_mappings(\n",
    "  meta.data = obj@meta.data,\n",
    "  annotation_col = 'lv_clusters',\n",
    "  annotation_value = 'Mesoderm_Hoxb',\n",
    "  mapping_methods = mapping_methods\n",
    ")\n",
    "\n",
    "print(top3_all)"
   ]
  },
  {
   "cell_type": "code",
   "execution_count": null,
   "id": "7328362c-e813-4f6b-8c13-cefff587cc06",
   "metadata": {
    "vscode": {
     "languageId": "r"
    }
   },
   "outputs": [],
   "source": [
    "# Example usage\n",
    "top3_all <- get_top3_all_mappings(\n",
    "  meta.data = obj@meta.data,\n",
    "  annotation_col = 'lv_clusters',\n",
    "  annotation_value = 'Mesoderm_Hoxa',\n",
    "  mapping_methods = mapping_methods\n",
    ")\n",
    "\n",
    "print(top3_all)"
   ]
  },
  {
   "cell_type": "code",
   "execution_count": null,
   "id": "5e380020-9268-43ba-b82c-2eadad418cc1",
   "metadata": {
    "vscode": {
     "languageId": "r"
    }
   },
   "outputs": [],
   "source": [
    "# Example usage\n",
    "top3_all <- get_top3_all_mappings(\n",
    "  meta.data = obj@meta.data,\n",
    "  annotation_col = 'lv_clusters',\n",
    "  annotation_value = 'Mesoderm_Ifit1',\n",
    "  mapping_methods = mapping_methods\n",
    ")\n",
    "\n",
    "print(top3_all)"
   ]
  },
  {
   "cell_type": "code",
   "execution_count": null,
   "id": "52f459ae-6ff6-4af1-a3ec-528277bee625",
   "metadata": {
    "vscode": {
     "languageId": "r"
    }
   },
   "outputs": [],
   "source": [
    "# Example usage\n",
    "top3_all <- get_top3_all_mappings(\n",
    "  meta.data = obj@meta.data,\n",
    "  annotation_col = 'lv_clusters',\n",
    "  annotation_value = 'Blood_Progenitors',\n",
    "  mapping_methods = mapping_methods\n",
    ")\n",
    "\n",
    "print(top3_all)"
   ]
  },
  {
   "cell_type": "code",
   "execution_count": null,
   "id": "25fcf34b-4d4e-4b9b-9b82-bfc85a1b1fb7",
   "metadata": {
    "vscode": {
     "languageId": "r"
    }
   },
   "outputs": [],
   "source": [
    "# Example usage\n",
    "top3_all <- get_top3_all_mappings(\n",
    "  meta.data = obj@meta.data,\n",
    "  annotation_col = 'lv_clusters',\n",
    "  annotation_value = 'Erythroid',\n",
    "  mapping_methods = mapping_methods\n",
    ")\n",
    "\n",
    "print(top3_all)"
   ]
  },
  {
   "cell_type": "code",
   "execution_count": null,
   "id": "0a44050b-7ee8-4541-9149-8b626590e8e3",
   "metadata": {
    "vscode": {
     "languageId": "r"
    }
   },
   "outputs": [],
   "source": [
    "# Example usage\n",
    "top3_all <- get_top3_all_mappings(\n",
    "  meta.data = obj@meta.data,\n",
    "  annotation_col = 'lv_clusters',\n",
    "  annotation_value = 'Megakaryocyte',\n",
    "  mapping_methods = mapping_methods\n",
    ")\n",
    "\n",
    "print(top3_all)"
   ]
  },
  {
   "cell_type": "code",
   "execution_count": null,
   "id": "bbf3f6e4-f687-412d-b376-f0d4b3daef6d",
   "metadata": {
    "vscode": {
     "languageId": "r"
    }
   },
   "outputs": [],
   "source": [
    "# Example usage\n",
    "top3_all <- get_top3_all_mappings(\n",
    "  meta.data = obj@meta.data,\n",
    "  annotation_col = 'lv_clusters',\n",
    "  annotation_value = 'Endothelium',\n",
    "  mapping_methods = mapping_methods\n",
    ")\n",
    "\n",
    "print(top3_all)"
   ]
  },
  {
   "cell_type": "code",
   "execution_count": null,
   "id": "fa44e10f-8422-4162-b5b0-064e4a84ea11",
   "metadata": {
    "vscode": {
     "languageId": "r"
    }
   },
   "outputs": [],
   "source": [
    "# Example usage\n",
    "top3_all <- get_top3_all_mappings(\n",
    "  meta.data = obj@meta.data,\n",
    "  annotation_col = 'lv_clusters',\n",
    "  annotation_value = 'EMP',\n",
    "  mapping_methods = mapping_methods\n",
    ")\n",
    "\n",
    "print(top3_all)"
   ]
  },
  {
   "cell_type": "code",
   "execution_count": null,
   "id": "05d718f4-afcc-48df-98ea-130935191279",
   "metadata": {
    "vscode": {
     "languageId": "r"
    }
   },
   "outputs": [],
   "source": []
  },
  {
   "cell_type": "code",
   "execution_count": null,
   "id": "3f21c29b-46fe-47e8-8110-c4dcb340dfb2",
   "metadata": {
    "vscode": {
     "languageId": "r"
    }
   },
   "outputs": [],
   "source": []
  },
  {
   "cell_type": "code",
   "execution_count": null,
   "id": "ee04287e-7784-44a3-a445-cfa811dbad59",
   "metadata": {
    "vscode": {
     "languageId": "r"
    }
   },
   "outputs": [],
   "source": []
  },
  {
   "cell_type": "code",
   "execution_count": null,
   "id": "f37e6bf2-4569-4413-8ff5-942062f71b60",
   "metadata": {
    "vscode": {
     "languageId": "r"
    }
   },
   "outputs": [],
   "source": [
    "options(repr.plot.width=25, repr.plot.height=15)\n",
    "DimPlot(obj, reduction = 'UMAP', group.by = 'lv_subclusters', label = T,label.size = 10, alpha=0.7, cols = rev(r3dcol$cols_46), repel= TRUE, label.box = FALSE )"
   ]
  },
  {
   "cell_type": "code",
   "execution_count": null,
   "id": "89aa6fb0-7caf-46a3-a245-279fe0bb0c3c",
   "metadata": {
    "vscode": {
     "languageId": "r"
    }
   },
   "outputs": [],
   "source": [
    "options(repr.plot.width=25, repr.plot.height=15)\n",
    "DimPlot(obj, reduction = 'UMAP', group.by = 'lv_clusters', label = T,label.size = 10, alpha=0.7, cols = rev(r3dcol$cols_46), repel= TRUE, label.box = FALSE )"
   ]
  },
  {
   "cell_type": "markdown",
   "id": "405cdb58-27f3-4eb3-8b81-bf55ad187148",
   "metadata": {},
   "source": [
    "# New Names"
   ]
  },
  {
   "cell_type": "code",
   "execution_count": null,
   "id": "2157aa70-3d01-4b59-bd08-0ba6a148a098",
   "metadata": {
    "vscode": {
     "languageId": "r"
    }
   },
   "outputs": [],
   "source": [
    "new_names <- c(\n",
    "    \"Naive Pluripotency\",\"Epiblast\",\"Primitive Streak 1\",\"Amniotic Ectoderm 1\",\"Amniotic Ectoderm 2\",\"Amniotic Ectoderm 3\",\"PGC\",\"Primitive Streak\",\"Anterior Primitive Streak\",\n",
    "    \"Visceral Endoderm\",\"Nascent Mesoderm\",\"Lateral Plate Mesoderm\",\"Epicar/Mesen 1\",\"Epicardium\",\"Mesenchyme 1\",\"Mesenchyme 2\",\"Epic/Mesen 2\",\"Limb Mesoderm 1\",\"Limb Mesoderm 2\",\n",
    "    \"Mesen/Allan\",\"Allantois\",\"Allan/Mesen/Epic 1\",\"Allan/Mesen/Epic 2\",\"Atf3-KO Abundant\",\"HEP/BP\",\"Erythroid 1\",\"Erythroid 2\",\"Erythroid 3\",\"Erythroid 4\",\"MkP 1\",\"MkP/MEP\",\"MkP 2\",\n",
    "    \"Endothelium 1\",\"Endothelium 2\",\"Endocardium\",\"Endothelium 3\",\"EMP 1\",\"EMP 2\",\"EMP 3\",\"EMP 4\"\n",
    "    )"
   ]
  },
  {
   "cell_type": "code",
   "execution_count": null,
   "id": "2160c83e-f958-40ed-9b34-92c97aa41798",
   "metadata": {
    "vscode": {
     "languageId": "r"
    }
   },
   "outputs": [],
   "source": [
    "Idents(obj) <- obj$lv_subclusters"
   ]
  },
  {
   "cell_type": "code",
   "execution_count": null,
   "id": "bf0726f7-353c-4522-aeff-b3cc93ec0310",
   "metadata": {
    "vscode": {
     "languageId": "r"
    }
   },
   "outputs": [],
   "source": [
    "levels(obj)"
   ]
  },
  {
   "cell_type": "code",
   "execution_count": null,
   "id": "3a681f4b-ac44-43ec-aa8e-ebb33bdfa8eb",
   "metadata": {
    "vscode": {
     "languageId": "r"
    }
   },
   "outputs": [],
   "source": [
    "names(new_names) <- levels(obj)"
   ]
  },
  {
   "cell_type": "code",
   "execution_count": null,
   "id": "bccfc71b-1b44-4dba-9d1a-66ea6d6bbc19",
   "metadata": {
    "vscode": {
     "languageId": "r"
    }
   },
   "outputs": [],
   "source": [
    "new_names"
   ]
  },
  {
   "cell_type": "code",
   "execution_count": null,
   "id": "a3b75576-ff15-4a74-b1aa-58ee95a2d2ee",
   "metadata": {
    "vscode": {
     "languageId": "r"
    }
   },
   "outputs": [],
   "source": [
    "obj <- RenameIdents(obj, new_names)"
   ]
  },
  {
   "cell_type": "code",
   "execution_count": null,
   "id": "9a2b3f34-56fe-4799-8f82-1256d2bdd5b5",
   "metadata": {
    "vscode": {
     "languageId": "r"
    }
   },
   "outputs": [],
   "source": [
    "obj$cell_type_subclusters <- Idents(obj)"
   ]
  },
  {
   "cell_type": "code",
   "execution_count": null,
   "id": "b844dbb0-05b9-4740-bfaf-d099c8570699",
   "metadata": {
    "vscode": {
     "languageId": "r"
    }
   },
   "outputs": [],
   "source": [
    "obj$cell_type_subclusters_ch <- as.character(obj$cell_type_subclusters)"
   ]
  },
  {
   "cell_type": "code",
   "execution_count": null,
   "id": "78a5dbfc-60c4-45b7-a923-6c5fc2dc1679",
   "metadata": {
    "vscode": {
     "languageId": "r"
    }
   },
   "outputs": [],
   "source": [
    "options(repr.plot.width=25, repr.plot.height=15)\n",
    "DimPlot(obj, reduction = 'UMAP', group.by = 'cell_type_subclusters', label = T,label.size = 10, alpha=0.7, cols = rev(r3dcol$cols_46), repel= TRUE, label.box = FALSE )"
   ]
  },
  {
   "cell_type": "code",
   "execution_count": null,
   "id": "f6ec7b32-dc8c-46f6-acb2-a1ba62e61fb2",
   "metadata": {
    "vscode": {
     "languageId": "r"
    }
   },
   "outputs": [],
   "source": [
    "new_names <- 1:40"
   ]
  },
  {
   "cell_type": "code",
   "execution_count": null,
   "id": "fc42e069-8c03-4dbb-857b-e520def36ac5",
   "metadata": {
    "vscode": {
     "languageId": "r"
    }
   },
   "outputs": [],
   "source": [
    "Idents(obj) <- obj$lv_subclusters"
   ]
  },
  {
   "cell_type": "code",
   "execution_count": null,
   "id": "e5b1d977-73b1-4e99-a8b7-464e7de9e96d",
   "metadata": {
    "vscode": {
     "languageId": "r"
    }
   },
   "outputs": [],
   "source": [
    "levels(obj)"
   ]
  },
  {
   "cell_type": "code",
   "execution_count": null,
   "id": "2aad11a3-f6f1-40f3-a633-2a939d823b48",
   "metadata": {
    "vscode": {
     "languageId": "r"
    }
   },
   "outputs": [],
   "source": [
    "names(new_names) <- levels(obj)"
   ]
  },
  {
   "cell_type": "code",
   "execution_count": null,
   "id": "232c5e54-5bd8-41ea-bb2f-26a3747a986d",
   "metadata": {
    "vscode": {
     "languageId": "r"
    }
   },
   "outputs": [],
   "source": [
    "new_names"
   ]
  },
  {
   "cell_type": "code",
   "execution_count": null,
   "id": "49d27221-aafd-44e3-8786-97364389b8a8",
   "metadata": {
    "vscode": {
     "languageId": "r"
    }
   },
   "outputs": [],
   "source": [
    "obj <- RenameIdents(obj, new_names)"
   ]
  },
  {
   "cell_type": "code",
   "execution_count": null,
   "id": "740666b7-9e6a-4ee0-944f-145fcf20f102",
   "metadata": {
    "vscode": {
     "languageId": "r"
    }
   },
   "outputs": [],
   "source": [
    "obj$cell_type_subclusters_no <- Idents(obj)"
   ]
  },
  {
   "cell_type": "code",
   "execution_count": null,
   "id": "a36703aa-8e8e-4a23-82a1-33a8fe050afd",
   "metadata": {
    "vscode": {
     "languageId": "r"
    }
   },
   "outputs": [],
   "source": [
    "obj$cell_type_subclusters_no_ch <- as.character(obj$cell_type_subclusters_no)"
   ]
  },
  {
   "cell_type": "code",
   "execution_count": null,
   "id": "a70c5e2b-c181-419a-9f55-f74913185000",
   "metadata": {
    "vscode": {
     "languageId": "r"
    }
   },
   "outputs": [],
   "source": [
    "options(repr.plot.width=25, repr.plot.height=15)\n",
    "DimPlot(obj, reduction = 'UMAP', group.by = 'cell_type_subclusters_no', label = T,label.size = 10, alpha=0.7, cols = rev(r3dcol$cols_46), repel= TRUE, label.box = FALSE )"
   ]
  },
  {
   "cell_type": "code",
   "execution_count": null,
   "id": "ecc02987-c419-4043-80eb-0df9dda0290b",
   "metadata": {
    "vscode": {
     "languageId": "r"
    }
   },
   "outputs": [],
   "source": [
    "new_names <- c(\n",
    "\"Naive Pluripotency\",\"Epiblast\",\"Primitive Streak\",\"Amniotic Ectoderm\",\"PGC\",\"Visceral Endoderm\",\"Nascent Mesoderm\",\"Mesen/Epic\",\"Mesen/Allan\",\"Atf3-KO Abundant\",\"HEP/BP\",\"Erythroid\",\"MkP\",\"Endothelium\",\"EMP\"\n",
    "    )"
   ]
  },
  {
   "cell_type": "code",
   "execution_count": null,
   "id": "0a9f5f46-5136-41fc-97dc-edfabf5693fc",
   "metadata": {
    "vscode": {
     "languageId": "r"
    }
   },
   "outputs": [],
   "source": [
    "Idents(obj) <- obj$lv_clusters"
   ]
  },
  {
   "cell_type": "code",
   "execution_count": null,
   "id": "d5079b49-92e6-43a9-b958-1591cc17e8d0",
   "metadata": {
    "vscode": {
     "languageId": "r"
    }
   },
   "outputs": [],
   "source": [
    "levels(obj)"
   ]
  },
  {
   "cell_type": "code",
   "execution_count": null,
   "id": "d381058e-bdaa-4506-8771-d96f9125aca2",
   "metadata": {
    "vscode": {
     "languageId": "r"
    }
   },
   "outputs": [],
   "source": [
    "names(new_names) <- levels(obj)"
   ]
  },
  {
   "cell_type": "code",
   "execution_count": null,
   "id": "6861ec90-1126-4579-bb6c-634ba1e0f581",
   "metadata": {
    "vscode": {
     "languageId": "r"
    }
   },
   "outputs": [],
   "source": [
    "new_names"
   ]
  },
  {
   "cell_type": "code",
   "execution_count": null,
   "id": "635a64ae-e576-4ca1-8c74-9f270716fb75",
   "metadata": {
    "vscode": {
     "languageId": "r"
    }
   },
   "outputs": [],
   "source": [
    "obj <- RenameIdents(obj, new_names)"
   ]
  },
  {
   "cell_type": "code",
   "execution_count": null,
   "id": "bcef061f-de58-4761-ac35-84d8a79652b6",
   "metadata": {
    "vscode": {
     "languageId": "r"
    }
   },
   "outputs": [],
   "source": [
    "obj$cell_type_clusters <- Idents(obj)"
   ]
  },
  {
   "cell_type": "code",
   "execution_count": null,
   "id": "f7770c6f-6beb-4930-b2f8-df1e075d581e",
   "metadata": {
    "vscode": {
     "languageId": "r"
    }
   },
   "outputs": [],
   "source": [
    "obj$cell_type_clusters_ch <- as.character(obj$cell_type_subclusters)"
   ]
  },
  {
   "cell_type": "code",
   "execution_count": null,
   "id": "2663022e-9d77-4eea-bf13-5346ccc0e94a",
   "metadata": {
    "vscode": {
     "languageId": "r"
    }
   },
   "outputs": [],
   "source": [
    "options(repr.plot.width=25, repr.plot.height=15)\n",
    "DimPlot(obj, reduction = 'UMAP', group.by = 'cell_type_clusters', label = T,label.size = 10, alpha=0.7, cols = rev(r3dcol$cols_46), repel= TRUE, label.box = FALSE )"
   ]
  },
  {
   "cell_type": "code",
   "execution_count": null,
   "id": "c47251c6-5d9f-4d2d-96a0-a4598a199833",
   "metadata": {
    "vscode": {
     "languageId": "r"
    }
   },
   "outputs": [],
   "source": [
    "length(new_names)"
   ]
  },
  {
   "cell_type": "code",
   "execution_count": null,
   "id": "9a3efd84-30a2-4614-8f41-159693e209bd",
   "metadata": {
    "vscode": {
     "languageId": "r"
    }
   },
   "outputs": [],
   "source": [
    "new_names <- 1:15"
   ]
  },
  {
   "cell_type": "code",
   "execution_count": null,
   "id": "735d8a55-b3d0-42ea-9a99-11c66012b81e",
   "metadata": {
    "vscode": {
     "languageId": "r"
    }
   },
   "outputs": [],
   "source": [
    "Idents(obj) <- obj$lv_clusters"
   ]
  },
  {
   "cell_type": "code",
   "execution_count": null,
   "id": "227f7a73-7761-46cd-bc5a-912c43a493fa",
   "metadata": {
    "vscode": {
     "languageId": "r"
    }
   },
   "outputs": [],
   "source": [
    "levels(obj)"
   ]
  },
  {
   "cell_type": "code",
   "execution_count": null,
   "id": "1fce3a47-7217-4818-9e6c-cf1fa45038bb",
   "metadata": {
    "vscode": {
     "languageId": "r"
    }
   },
   "outputs": [],
   "source": [
    "names(new_names) <- levels(obj)"
   ]
  },
  {
   "cell_type": "code",
   "execution_count": null,
   "id": "5c7f80f7-a206-4e07-b41f-7b866f3397b0",
   "metadata": {
    "vscode": {
     "languageId": "r"
    }
   },
   "outputs": [],
   "source": [
    "new_names"
   ]
  },
  {
   "cell_type": "code",
   "execution_count": null,
   "id": "346a7643-421c-4bef-b714-b66aea19da00",
   "metadata": {
    "vscode": {
     "languageId": "r"
    }
   },
   "outputs": [],
   "source": [
    "obj <- RenameIdents(obj, new_names)"
   ]
  },
  {
   "cell_type": "code",
   "execution_count": null,
   "id": "6abf4967-2292-43d3-b7d6-40901dc32730",
   "metadata": {
    "vscode": {
     "languageId": "r"
    }
   },
   "outputs": [],
   "source": [
    "obj$cell_type_clusters_no <- Idents(obj)"
   ]
  },
  {
   "cell_type": "code",
   "execution_count": null,
   "id": "f752a6e0-87de-40c3-8213-36c95d461997",
   "metadata": {
    "vscode": {
     "languageId": "r"
    }
   },
   "outputs": [],
   "source": [
    "obj$cell_type_clusters_ch_no <- as.character(obj$cell_type_subclusters)"
   ]
  },
  {
   "cell_type": "code",
   "execution_count": null,
   "id": "ec784934-7a2e-41d9-974f-c0c484ecbd24",
   "metadata": {
    "vscode": {
     "languageId": "r"
    }
   },
   "outputs": [],
   "source": [
    "options(repr.plot.width=25, repr.plot.height=15)\n",
    "DimPlot(obj, reduction = 'UMAP', group.by = 'cell_type_clusters_no', label = T,label.size = 10, alpha=0.7, cols = rev(r3dcol$cols_46), repel= TRUE, label.box = FALSE )"
   ]
  },
  {
   "cell_type": "code",
   "execution_count": null,
   "id": "a79fceed-b296-45e0-91e6-80510b94baed",
   "metadata": {
    "vscode": {
     "languageId": "r"
    }
   },
   "outputs": [],
   "source": []
  },
  {
   "cell_type": "code",
   "execution_count": null,
   "id": "b3e1f655-1a7f-403f-b7c7-d1e99b524c04",
   "metadata": {
    "vscode": {
     "languageId": "r"
    }
   },
   "outputs": [],
   "source": [
    "new_names <- 1:3"
   ]
  },
  {
   "cell_type": "code",
   "execution_count": null,
   "id": "a51e03df-1046-46a5-9fd2-69415519de06",
   "metadata": {
    "vscode": {
     "languageId": "r"
    }
   },
   "outputs": [],
   "source": [
    "Idents(obj) <- obj$lv_groups"
   ]
  },
  {
   "cell_type": "code",
   "execution_count": null,
   "id": "3fc2fe66-b2c8-476f-a980-a1436667ef43",
   "metadata": {
    "vscode": {
     "languageId": "r"
    }
   },
   "outputs": [],
   "source": [
    "levels(obj)"
   ]
  },
  {
   "cell_type": "code",
   "execution_count": null,
   "id": "2ae3ef40-b5df-4a55-98ef-276af1845e4b",
   "metadata": {
    "vscode": {
     "languageId": "r"
    }
   },
   "outputs": [],
   "source": [
    "names(new_names) <- levels(obj)"
   ]
  },
  {
   "cell_type": "code",
   "execution_count": null,
   "id": "1dfdfba2-c13f-4704-a529-433ffd98a166",
   "metadata": {
    "vscode": {
     "languageId": "r"
    }
   },
   "outputs": [],
   "source": [
    "new_names"
   ]
  },
  {
   "cell_type": "code",
   "execution_count": null,
   "id": "802b983b-e570-4786-a83c-39b51b9a2083",
   "metadata": {
    "vscode": {
     "languageId": "r"
    }
   },
   "outputs": [],
   "source": [
    "obj <- RenameIdents(obj, new_names)"
   ]
  },
  {
   "cell_type": "code",
   "execution_count": null,
   "id": "f92e032d-bc44-4409-a80f-902673641e87",
   "metadata": {
    "vscode": {
     "languageId": "r"
    }
   },
   "outputs": [],
   "source": [
    "obj$cell_type_groups_no <- Idents(obj)"
   ]
  },
  {
   "cell_type": "code",
   "execution_count": null,
   "id": "5ce9441c-f2c6-40c4-a249-d358ec5f854f",
   "metadata": {
    "vscode": {
     "languageId": "r"
    }
   },
   "outputs": [],
   "source": [
    "obj$cell_type_groups_ch_no <- as.character(obj$cell_type_subclusters)"
   ]
  },
  {
   "cell_type": "code",
   "execution_count": null,
   "id": "986afc58-c10d-4f77-9b39-087011590abc",
   "metadata": {
    "vscode": {
     "languageId": "r"
    }
   },
   "outputs": [],
   "source": [
    "options(repr.plot.width=25, repr.plot.height=15)\n",
    "DimPlot(obj, reduction = 'UMAP', group.by = 'cell_type_groups_no', label = T,label.size = 10, alpha=0.7, cols = rev(r3dcol$cols_46), repel= TRUE, label.box = FALSE )"
   ]
  },
  {
   "cell_type": "code",
   "execution_count": null,
   "id": "b340cb04-5b89-4ebc-9adf-d3652b185bdb",
   "metadata": {
    "vscode": {
     "languageId": "r"
    }
   },
   "outputs": [],
   "source": [
    "obj$cell_type_groups <- obj$lv_groups\n",
    "obj$cell_type_groups_ch <- as.character(obj$lv_groups)"
   ]
  },
  {
   "cell_type": "markdown",
   "id": "3022ca87-661f-405f-83d9-d3a3b669d399",
   "metadata": {},
   "source": [
    "# Adding Stage information from v7k75pca"
   ]
  },
  {
   "cell_type": "code",
   "execution_count": null,
   "id": "b4ef00af-e613-4413-8824-82ee455ea652",
   "metadata": {
    "vscode": {
     "languageId": "r"
    }
   },
   "outputs": [],
   "source": [
    "listmap <- list()\n",
    "listmap$nvariables <- 7000\n",
    "listmap$regress <-  c(\"nFeature_originalexp\", \"nCount_originalexp\", \"percent.mt\", \"percent.ribo\", \"G2M_score\", \"S_score\")\n",
    "listmap$pca_name <- 'v7k_pca75'\n",
    "listmap$pca_name2 <- 'v7k_pca75_'\n",
    "listmap$npcs = 75\n",
    "listmap$dims = 1:75\n",
    "listmap$umap = 'UMAP'\n",
    "listmap$mapped_id <- 'v7k_pca75_predicted.id'\n",
    "listmap$mapped_score <- 'v7k_pca75_prediction.score.max'"
   ]
  },
  {
   "cell_type": "code",
   "execution_count": null,
   "id": "0aa81dd6-88bb-4ea4-87dc-6a6876704107",
   "metadata": {
    "vscode": {
     "languageId": "r"
    }
   },
   "outputs": [],
   "source": [
    "anchors <- readRDS('./v7k_pca75_anchors.rds')"
   ]
  },
  {
   "cell_type": "code",
   "execution_count": null,
   "id": "40aef497-c448-4c3c-a45b-b85656b8f38c",
   "metadata": {
    "vscode": {
     "languageId": "r"
    }
   },
   "outputs": [],
   "source": [
    "io$output_rds_dir"
   ]
  },
  {
   "cell_type": "code",
   "execution_count": null,
   "id": "d9c6ce98-a8d1-4b04-ab5a-5984c30cef94",
   "metadata": {
    "vscode": {
     "languageId": "r"
    }
   },
   "outputs": [],
   "source": [
    "atlas <- readRDS(paste0(io$output_rds_dir, 'extended_atlas_cellranger_features_seurat.rds'))"
   ]
  },
  {
   "cell_type": "code",
   "execution_count": null,
   "id": "db9fdf45-b8c4-447f-ae33-0ff223b5d248",
   "metadata": {
    "scrolled": true,
    "vscode": {
     "languageId": "r"
    }
   },
   "outputs": [],
   "source": [
    "atlas"
   ]
  },
  {
   "cell_type": "code",
   "execution_count": null,
   "id": "9bb2243c-561f-44bf-93cc-5c9e69101ccb",
   "metadata": {
    "vscode": {
     "languageId": "r"
    }
   },
   "outputs": [],
   "source": [
    "Idents(atlas) <- atlas$stage\n",
    "levels(Idents(atlas))"
   ]
  },
  {
   "cell_type": "code",
   "execution_count": null,
   "id": "6f521776-d48f-4757-a383-1d2a7659e59d",
   "metadata": {
    "scrolled": true,
    "vscode": {
     "languageId": "r"
    }
   },
   "outputs": [],
   "source": [
    "table(atlas$stage)"
   ]
  },
  {
   "cell_type": "code",
   "execution_count": null,
   "id": "9d573134-52b0-4f6a-b628-f1e029a0b447",
   "metadata": {
    "vscode": {
     "languageId": "r"
    }
   },
   "outputs": [],
   "source": [
    "min(table(atlas$stage))\n",
    "max(table(atlas$stage))"
   ]
  },
  {
   "cell_type": "code",
   "execution_count": null,
   "id": "d18339e1-1539-44e7-9ed2-35474647e5e3",
   "metadata": {
    "vscode": {
     "languageId": "r"
    }
   },
   "outputs": [],
   "source": [
    "atlas"
   ]
  },
  {
   "cell_type": "code",
   "execution_count": null,
   "id": "0577348b-25a0-43b3-87c4-5c776db763dd",
   "metadata": {
    "vscode": {
     "languageId": "r"
    }
   },
   "outputs": [],
   "source": [
    "atlas <- subset(atlas, downsample = 7455)"
   ]
  },
  {
   "cell_type": "code",
   "execution_count": null,
   "id": "577b7ba3-f28e-4e14-bfa5-a3c41bcc3b4d",
   "metadata": {
    "scrolled": true,
    "vscode": {
     "languageId": "r"
    }
   },
   "outputs": [],
   "source": [
    "atlas"
   ]
  },
  {
   "cell_type": "code",
   "execution_count": null,
   "id": "a9cd2da7-19d8-40c3-bf3d-4d40334777bd",
   "metadata": {
    "vscode": {
     "languageId": "r"
    }
   },
   "outputs": [],
   "source": [
    "predictions_stage <- TransferData(anchorset = anchors, refdata = atlas$stage, dims = listmap$dims )"
   ]
  },
  {
   "cell_type": "code",
   "execution_count": null,
   "id": "01ffa435-a642-4ae2-9c6b-8233a1956e3e",
   "metadata": {
    "vscode": {
     "languageId": "r"
    }
   },
   "outputs": [],
   "source": [
    "head(predictions_stage)"
   ]
  },
  {
   "cell_type": "code",
   "execution_count": null,
   "id": "438b6521-a929-4a05-a30d-89f2a62f61bc",
   "metadata": {
    "vscode": {
     "languageId": "r"
    }
   },
   "outputs": [],
   "source": [
    "predictions_somite_count <- TransferData(anchorset = anchors, refdata = atlas$somite_count, dims = listmap$dims )"
   ]
  },
  {
   "cell_type": "code",
   "execution_count": null,
   "id": "3b41ce4c-ca90-4b77-a2c0-7d3ae358167b",
   "metadata": {
    "vscode": {
     "languageId": "r"
    }
   },
   "outputs": [],
   "source": [
    "head(predictions_somite_count)"
   ]
  },
  {
   "cell_type": "code",
   "execution_count": null,
   "id": "515707b4-6ce8-430e-aa2d-c8547ada0bf5",
   "metadata": {
    "vscode": {
     "languageId": "r"
    }
   },
   "outputs": [],
   "source": [
    "predictions_anatomy <- TransferData(anchorset = anchors, refdata = atlas$anatomy, dims = listmap$dims )"
   ]
  },
  {
   "cell_type": "code",
   "execution_count": null,
   "id": "09368987-34f1-43c8-8860-c4f0fcd261c7",
   "metadata": {
    "vscode": {
     "languageId": "r"
    }
   },
   "outputs": [],
   "source": [
    "head(predictions_anatomy)"
   ]
  },
  {
   "cell_type": "code",
   "execution_count": null,
   "id": "60f8c5a2-bf85-4863-ad19-7b0a863a8684",
   "metadata": {
    "vscode": {
     "languageId": "r"
    }
   },
   "outputs": [],
   "source": [
    "predictions_cell <- TransferData(anchorset = anchors, refdata = atlas$cell, dims = listmap$dims )"
   ]
  },
  {
   "cell_type": "code",
   "execution_count": null,
   "id": "369893f1-94e6-4307-9afa-7d5ad440f508",
   "metadata": {
    "vscode": {
     "languageId": "r"
    }
   },
   "outputs": [],
   "source": [
    "predictions_cell[1:5,1:5]"
   ]
  },
  {
   "cell_type": "code",
   "execution_count": null,
   "id": "739db589-6d5b-4786-a6b2-77afeb5478cf",
   "metadata": {
    "vscode": {
     "languageId": "r"
    }
   },
   "outputs": [],
   "source": []
  },
  {
   "cell_type": "code",
   "execution_count": null,
   "id": "f8111f82-9af8-4b8d-a866-5e90af50feb6",
   "metadata": {
    "vscode": {
     "languageId": "r"
    }
   },
   "outputs": [],
   "source": []
  },
  {
   "cell_type": "code",
   "execution_count": null,
   "id": "ec4f962a-5e5b-45fc-9675-bd1917f08576",
   "metadata": {
    "vscode": {
     "languageId": "r"
    }
   },
   "outputs": [],
   "source": []
  },
  {
   "cell_type": "code",
   "execution_count": null,
   "id": "d78ee0fc-02c1-4f9f-8cbf-bd2be42e8495",
   "metadata": {
    "vscode": {
     "languageId": "r"
    }
   },
   "outputs": [],
   "source": [
    "predictions_stage_short <- predictions_stage[, c('predicted.id','prediction.score.max')]\n",
    "colnames(predictions_stage_short) <- paste0('v7k75pca_stage_', colnames(predictions_stage_short))\n",
    "head(predictions_stage_short)"
   ]
  },
  {
   "cell_type": "code",
   "execution_count": null,
   "id": "906a9081-eb77-4f03-809b-88d66d68eef0",
   "metadata": {
    "vscode": {
     "languageId": "r"
    }
   },
   "outputs": [],
   "source": [
    "predictions_somite_count_short <- predictions_somite_count[, c('predicted.id','prediction.score.max')]\n",
    "colnames(predictions_somite_count_short) <- paste0('v7k75pca_somite_count_', colnames(predictions_somite_count_short))\n",
    "head(predictions_somite_count_short)"
   ]
  },
  {
   "cell_type": "code",
   "execution_count": null,
   "id": "2e70f1db-71ff-4f4a-8663-873c41dcff19",
   "metadata": {
    "vscode": {
     "languageId": "r"
    }
   },
   "outputs": [],
   "source": [
    "predictions_anatomy_short <- predictions_anatomy[, c('predicted.id','prediction.score.max')]\n",
    "colnames(predictions_anatomy_short) <- paste0('v7k75pca_anatomy_', colnames(predictions_anatomy_short))\n",
    "head(predictions_anatomy_short)"
   ]
  },
  {
   "cell_type": "code",
   "execution_count": null,
   "id": "57dd92f3-28a1-4447-ade6-8d8d185600c0",
   "metadata": {
    "vscode": {
     "languageId": "r"
    }
   },
   "outputs": [],
   "source": [
    "predictions_cell_short <- predictions_cell[, c('predicted.id','prediction.score.max')]\n",
    "colnames(predictions_cell_short) <- paste0('v7k75pca_cell_', colnames(predictions_cell_short))\n",
    "head(predictions_cell_short)"
   ]
  },
  {
   "cell_type": "code",
   "execution_count": null,
   "id": "91a1bda0-8735-48a6-8e86-be99527ae7e4",
   "metadata": {
    "vscode": {
     "languageId": "r"
    }
   },
   "outputs": [],
   "source": []
  },
  {
   "cell_type": "code",
   "execution_count": null,
   "id": "488b4053-2f44-406d-954e-c6c2650ee104",
   "metadata": {
    "vscode": {
     "languageId": "r"
    }
   },
   "outputs": [],
   "source": [
    "obj <- AddMetaData(obj,  predictions_stage_short)\n",
    "obj <- AddMetaData(obj,  predictions_somite_count_short)\n",
    "obj <- AddMetaData(obj,  predictions_anatomy_short)\n",
    "obj <- AddMetaData(obj,  predictions_cell_short)"
   ]
  },
  {
   "cell_type": "code",
   "execution_count": null,
   "id": "93f0e635-b96e-4407-ae86-80768876866f",
   "metadata": {
    "vscode": {
     "languageId": "r"
    }
   },
   "outputs": [],
   "source": []
  },
  {
   "cell_type": "code",
   "execution_count": null,
   "id": "24cc776e-b140-45d3-87e8-d9e52468c880",
   "metadata": {
    "vscode": {
     "languageId": "r"
    }
   },
   "outputs": [],
   "source": []
  },
  {
   "cell_type": "code",
   "execution_count": null,
   "id": "199028a9-3377-4c4e-97ea-cbe90fa2d8e5",
   "metadata": {
    "vscode": {
     "languageId": "r"
    }
   },
   "outputs": [],
   "source": [
    "listmap$mapped_id <- 'v7k75pca_stage_predicted.id'\n",
    "listmap$mapped_score <- 'v7k75pca_stage_prediction.score.max'"
   ]
  },
  {
   "cell_type": "code",
   "execution_count": null,
   "id": "42935317-0f2d-49ea-9413-40cfbac1278d",
   "metadata": {
    "vscode": {
     "languageId": "r"
    }
   },
   "outputs": [],
   "source": [
    "options(repr.plot.width=8, repr.plot.height=6)\n",
    "hist(predictions_stage_short[,listmap$mapped_score],breaks = 500)"
   ]
  },
  {
   "cell_type": "code",
   "execution_count": null,
   "id": "cffb170b-8361-49f7-8cc9-fbfdce150a2c",
   "metadata": {
    "vscode": {
     "languageId": "r"
    }
   },
   "outputs": [],
   "source": [
    "# make sure your UMAP reduction name is correct\n",
    "reduction_to_plot <- listmap$umap    # or \"pca_harmony_umap_1\" if that really is your slot\n",
    "\n",
    "# get all the unique extended‐type labels (including NA if present)\n",
    "conditions <- unique(obj@meta.data[,listmap$mapped_id])\n",
    "\n",
    "Idents(obj) <- listmap$mapped_id\n",
    "\n",
    "options(repr.plot.width=8, repr.plot.height=6)\n",
    "for (cond in conditions) {\n",
    "\t# skip NA if you don't care to plot it\n",
    "\tif (is.na(cond)) next\n",
    "\t\n",
    "\t# grab the cells of that type\n",
    "\tcells_of_interest <- WhichCells(\n",
    "\t\tobject    = obj,\n",
    "\t\t idents =  cond\n",
    "\t)\n",
    "\t\n",
    "\t# make the plot\n",
    "\tp <- DimPlot(\n",
    "\t\tobject          = obj,\n",
    "\t\treduction       = reduction_to_plot,\n",
    "\t\tcells.highlight = cells_of_interest,\n",
    "\t\tcols.highlight  = \"firebrick\",   # or any color you like\n",
    "\t\tcols            = \"lightgrey\",   # background cells\n",
    "\t\tpt.size         = 0.5, alpha = 0.5\n",
    "\t) +\n",
    "\t\tNoAxes()+NoLegend() +\n",
    "\t\tggtitle(cond)\n",
    "\t\n",
    "\tprint(p)\n",
    "}\n"
   ]
  },
  {
   "cell_type": "code",
   "execution_count": null,
   "id": "86773415-528e-4a6e-a1aa-32ad2dfce63e",
   "metadata": {
    "vscode": {
     "languageId": "r"
    }
   },
   "outputs": [],
   "source": [
    "listmap$mapped_id <- 'v7k75pca_somite_count_predicted.id'\n",
    "listmap$mapped_score <- 'v7k75pca_somite_count_prediction.score.max'"
   ]
  },
  {
   "cell_type": "code",
   "execution_count": null,
   "id": "f1934cc3-833a-4550-b3ca-1c0ba3e6639b",
   "metadata": {
    "vscode": {
     "languageId": "r"
    }
   },
   "outputs": [],
   "source": [
    "options(repr.plot.width=8, repr.plot.height=6)\n",
    "hist(predictions_somite_count_short[,listmap$mapped_score],breaks = 500)"
   ]
  },
  {
   "cell_type": "code",
   "execution_count": null,
   "id": "54640a6e-1aa8-4353-8b40-2e89dc974b4d",
   "metadata": {
    "vscode": {
     "languageId": "r"
    }
   },
   "outputs": [],
   "source": [
    "# make sure your UMAP reduction name is correct\n",
    "reduction_to_plot <- listmap$umap    # or \"pca_harmony_umap_1\" if that really is your slot\n",
    "\n",
    "# get all the unique extended‐type labels (including NA if present)\n",
    "conditions <- unique(obj@meta.data[,listmap$mapped_id])\n",
    "\n",
    "Idents(obj) <- listmap$mapped_id\n",
    "\n",
    "options(repr.plot.width=8, repr.plot.height=6)\n",
    "for (cond in conditions) {\n",
    "\t# skip NA if you don't care to plot it\n",
    "\tif (is.na(cond)) next\n",
    "\t\n",
    "\t# grab the cells of that type\n",
    "\tcells_of_interest <- WhichCells(\n",
    "\t\tobject    = obj,\n",
    "\t\t idents =  cond\n",
    "\t)\n",
    "\t\n",
    "\t# make the plot\n",
    "\tp <- DimPlot(\n",
    "\t\tobject          = obj,\n",
    "\t\treduction       = reduction_to_plot,\n",
    "\t\tcells.highlight = cells_of_interest,\n",
    "\t\tcols.highlight  = \"firebrick\",   # or any color you like\n",
    "\t\tcols            = \"lightgrey\",   # background cells\n",
    "\t\tpt.size         = 0.5, alpha = 0.5\n",
    "\t) +\n",
    "\t\tNoAxes()+NoLegend() +\n",
    "\t\tggtitle(cond)\n",
    "\t\n",
    "\tprint(p)\n",
    "}\n"
   ]
  },
  {
   "cell_type": "code",
   "execution_count": null,
   "id": "26380b93-f4be-4b27-9d8a-5aeb8b45a449",
   "metadata": {
    "vscode": {
     "languageId": "r"
    }
   },
   "outputs": [],
   "source": [
    "listmap$mapped_id <- 'v7k75pca_anatomy_predicted.id'\n",
    "listmap$mapped_score <- 'v7k75pca_anatomy_prediction.score.max'"
   ]
  },
  {
   "cell_type": "code",
   "execution_count": null,
   "id": "15cd7693-9438-4092-92e0-c18856a63239",
   "metadata": {
    "vscode": {
     "languageId": "r"
    }
   },
   "outputs": [],
   "source": [
    "options(repr.plot.width=8, repr.plot.height=6)\n",
    "hist(predictions_anatomy_short[,listmap$mapped_score],breaks = 500)"
   ]
  },
  {
   "cell_type": "code",
   "execution_count": null,
   "id": "f46a9b47-906a-4f42-a6b2-581f18064017",
   "metadata": {
    "vscode": {
     "languageId": "r"
    }
   },
   "outputs": [],
   "source": [
    "# make sure your UMAP reduction name is correct\n",
    "reduction_to_plot <- listmap$umap    # or \"pca_harmony_umap_1\" if that really is your slot\n",
    "\n",
    "# get all the unique extended‐type labels (including NA if present)\n",
    "conditions <- unique(obj@meta.data[,listmap$mapped_id])\n",
    "\n",
    "Idents(obj) <- listmap$mapped_id\n",
    "\n",
    "options(repr.plot.width=8, repr.plot.height=6)\n",
    "for (cond in conditions) {\n",
    "\t# skip NA if you don't care to plot it\n",
    "\tif (is.na(cond)) next\n",
    "\t\n",
    "\t# grab the cells of that type\n",
    "\tcells_of_interest <- WhichCells(\n",
    "\t\tobject    = obj,\n",
    "\t\t idents =  cond\n",
    "\t)\n",
    "\t\n",
    "\t# make the plot\n",
    "\tp <- DimPlot(\n",
    "\t\tobject          = obj,\n",
    "\t\treduction       = reduction_to_plot,\n",
    "\t\tcells.highlight = cells_of_interest,\n",
    "\t\tcols.highlight  = \"firebrick\",   # or any color you like\n",
    "\t\tcols            = \"lightgrey\",   # background cells\n",
    "\t\tpt.size         = 0.5, alpha = 0.5\n",
    "\t) +\n",
    "\t\tNoAxes()+NoLegend() +\n",
    "\t\tggtitle(cond)\n",
    "\t\n",
    "\tprint(p)\n",
    "}\n"
   ]
  },
  {
   "cell_type": "code",
   "execution_count": null,
   "id": "c619596b-d148-4483-b37d-74a79046c26a",
   "metadata": {
    "vscode": {
     "languageId": "r"
    }
   },
   "outputs": [],
   "source": [
    "saveRDS(predictions_stage, './v7k75pca_stage_predictions.rds')\n",
    "saveRDS(predictions_somite_count, './v7k75pca_somite_count_predictions.rds')\n",
    "saveRDS(predictions_anatomy, './v7k75pca_anatomy_predictions.rds')\n",
    "saveRDS(predictions_cell_short, './v7k75pca_cell_short_predictions.rds')"
   ]
  },
  {
   "cell_type": "code",
   "execution_count": null,
   "id": "ccd8855a-e027-42c0-9ff1-da1ae03f264a",
   "metadata": {
    "vscode": {
     "languageId": "r"
    }
   },
   "outputs": [],
   "source": [
    "saveRDS(obj, '../../cmo_version3.rds', compress = FALSE)"
   ]
  },
  {
   "cell_type": "code",
   "execution_count": null,
   "id": "342acf10-f1c5-455e-81f5-59091a14fdb5",
   "metadata": {
    "vscode": {
     "languageId": "r"
    }
   },
   "outputs": [],
   "source": [
    "rm(predictions_cell)"
   ]
  },
  {
   "cell_type": "code",
   "execution_count": null,
   "id": "388eba10-2864-498d-9596-b13063b8fcf4",
   "metadata": {
    "vscode": {
     "languageId": "r"
    }
   },
   "outputs": [],
   "source": [
    "gc()"
   ]
  },
  {
   "cell_type": "code",
   "execution_count": null,
   "id": "a2a990b1-accb-4cd4-9571-0a29c945754d",
   "metadata": {
    "vscode": {
     "languageId": "r"
    }
   },
   "outputs": [],
   "source": [
    "sessionInfo()"
   ]
  },
  {
   "cell_type": "code",
   "execution_count": null,
   "id": "10ca3d86-7574-4f81-b6eb-358916e6d476",
   "metadata": {
    "vscode": {
     "languageId": "r"
    }
   },
   "outputs": [],
   "source": []
  }
 ],
 "metadata": {
  "kernelspec": {
   "display_name": "R",
   "language": "R",
   "name": "ir"
  },
  "language_info": {
   "codemirror_mode": "r",
   "file_extension": ".r",
   "mimetype": "text/x-r-source",
   "name": "R",
   "pygments_lexer": "r",
   "version": "4.5.1"
  }
 },
 "nbformat": 4,
 "nbformat_minor": 5
}
