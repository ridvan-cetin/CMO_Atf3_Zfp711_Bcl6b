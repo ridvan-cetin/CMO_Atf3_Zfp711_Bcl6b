{
 "cells": [
  {
   "cell_type": "markdown",
   "id": "c12c609a-6837-4471-9186-0e96589a1ed2",
   "metadata": {},
   "source": [
    "# Multiome - CMO Degs - Mecanistic Insights"
   ]
  },
  {
   "cell_type": "code",
   "execution_count": null,
   "id": "04eb2f3f-5bbb-4a2e-b7c8-98b036bdddbe",
   "metadata": {
    "vscode": {
     "languageId": "r"
    }
   },
   "outputs": [],
   "source": [
    "source(\"/home/ridvan/scRIPT/settings.R\")\n",
    "source(\"/home/ridvan/scRIPT/utils.R\")"
   ]
  },
  {
   "cell_type": "code",
   "execution_count": null,
   "id": "8396720e-e9b2-4353-a09b-407fc5c50a33",
   "metadata": {
    "vscode": {
     "languageId": "r"
    }
   },
   "outputs": [],
   "source": [
    "BPPARAM <- BiocParallel::bpparam()\n",
    "BPPARAM$workers = 20\n",
    "\n",
    "# Multi core using future - built in to seurat\n",
    "plan(\"multicore\", workers = 20)\n",
    "options(future.globals.maxSize = 200 * 1024 ^ 3) # for 200 Gb RAM\n",
    "\n",
    "getwd()"
   ]
  },
  {
   "cell_type": "code",
   "execution_count": null,
   "id": "6c7a14cd-f070-4712-9ae6-24390e90944e",
   "metadata": {
    "vscode": {
     "languageId": "r"
    }
   },
   "outputs": [],
   "source": [
    "mutiome <- readRDS('/home/ridvan/PhD_Projects/Multiome/000_io/outputs/multiome_only_2.rds')"
   ]
  },
  {
   "cell_type": "code",
   "execution_count": null,
   "id": "d191ff22-8c93-4db8-ac5b-308291e7394f",
   "metadata": {
    "scrolled": true,
    "vscode": {
     "languageId": "r"
    }
   },
   "outputs": [],
   "source": [
    "mutiome"
   ]
  },
  {
   "cell_type": "code",
   "execution_count": null,
   "id": "e40ab4b8-9ebc-4356-8282-65bd69d5746b",
   "metadata": {
    "vscode": {
     "languageId": "r"
    }
   },
   "outputs": [],
   "source": [
    "library(Signac)"
   ]
  },
  {
   "cell_type": "code",
   "execution_count": null,
   "id": "c24e3568-99c4-47ea-8801-632d7207122b",
   "metadata": {
    "vscode": {
     "languageId": "r"
    }
   },
   "outputs": [],
   "source": [
    "DefaultAssay(mutiome) <- 'ATAC'"
   ]
  },
  {
   "cell_type": "code",
   "execution_count": null,
   "id": "2ce0b1a5-5726-45bc-a660-8e2f8ad532c6",
   "metadata": {
    "vscode": {
     "languageId": "r"
    }
   },
   "outputs": [],
   "source": [
    "mutiome$annotation_short <- factor(\n",
    "  mutiome$annotation_short,\n",
    "  levels = sort(levels(mutiome$annotation_short))\n",
    ")"
   ]
  },
  {
   "cell_type": "code",
   "execution_count": null,
   "id": "0c24834b-decb-43e0-b11f-59b4d6d9c48d",
   "metadata": {
    "vscode": {
     "languageId": "r"
    }
   },
   "outputs": [],
   "source": [
    "levels(mutiome$annotation_short)"
   ]
  },
  {
   "cell_type": "code",
   "execution_count": null,
   "id": "78525592-d3c2-42fa-97cc-09f91a5b57c8",
   "metadata": {
    "vscode": {
     "languageId": "r"
    }
   },
   "outputs": [],
   "source": [
    "Idents(mutiome) <- mutiome$annotation_short"
   ]
  },
  {
   "cell_type": "code",
   "execution_count": null,
   "id": "561ca109-09fc-4dfc-ac83-9c34417267b3",
   "metadata": {
    "vscode": {
     "languageId": "r"
    }
   },
   "outputs": [],
   "source": [
    "my_colors"
   ]
  },
  {
   "cell_type": "code",
   "execution_count": null,
   "id": "8d2a302c-c968-41fd-934e-b39ca5c933ff",
   "metadata": {
    "vscode": {
     "languageId": "r"
    }
   },
   "outputs": [],
   "source": [
    "length(unique(mutiome$annotation_short))"
   ]
  },
  {
   "cell_type": "code",
   "execution_count": null,
   "id": "390d8789-440c-4373-8db6-8b1856fdcf84",
   "metadata": {
    "vscode": {
     "languageId": "r"
    }
   },
   "outputs": [],
   "source": [
    "ranges.show <- StringToGRanges(\"chr1-191180000-191210000\")\n",
    "\n",
    "CoveragePlot(\n",
    "  object = mutiome,\n",
    "  region = c(\"chr1-191170000-191220000\"),\n",
    "  ranges = ranges.show,\n",
    "  annotation = TRUE,\n",
    "  peaks = TRUE,\n",
    "  links = FALSE,\n",
    "  heights = c(20, 0.1, 0.1, 0.1),\n",
    "  group.by = \"annotation_short\"\n",
    ")&scale_fill_manual(values = rep('black',100)) "
   ]
  },
  {
   "cell_type": "code",
   "execution_count": null,
   "id": "cfc7da98-7a1b-4670-a23c-f79ff24a3c51",
   "metadata": {
    "vscode": {
     "languageId": "r"
    }
   },
   "outputs": [],
   "source": [
    "ranges.show <- StringToGRanges(\"chr1-191190000-191205000\")\n",
    "\n",
    "CoveragePlot(\n",
    "  object = mutiome,\n",
    "  region = ranges.show,\n",
    "  ranges = ranges.show,\n",
    "  annotation = TRUE,\n",
    "  peaks = TRUE,\n",
    "  links = FALSE,\n",
    "  heights = c(20, 0.1, 0.1, 0.1),\n",
    "  group.by = \"annotation_short\"\n",
    ")&scale_fill_manual(values = rep('black',100)) "
   ]
  },
  {
   "cell_type": "code",
   "execution_count": null,
   "id": "6727c913-7c49-48c5-9780-caa34f897115",
   "metadata": {
    "vscode": {
     "languageId": "r"
    }
   },
   "outputs": [],
   "source": [
    "ranges.show <- StringToGRanges(\"chrX-112539213-112689578\")\n",
    "\n",
    "CoveragePlot(\n",
    "  object = mutiome,\n",
    "  region = ranges.show,\n",
    "  ranges = ranges.show,\n",
    "  annotation = TRUE,\n",
    "  peaks = TRUE,\n",
    "  links = FALSE,\n",
    "  heights = c(20, 0.1, 0.1, 0.1),\n",
    "  group.by = \"annotation_short\"\n",
    ")&scale_fill_manual(values = rep('black',100)) "
   ]
  },
  {
   "cell_type": "code",
   "execution_count": null,
   "id": "123065b4-72d0-440a-952b-230f4bf9b12e",
   "metadata": {
    "vscode": {
     "languageId": "r"
    }
   },
   "outputs": [],
   "source": [
    "ranges.show <- StringToGRanges(\"chrX-112600000-112602000\")\n",
    "\n",
    "CoveragePlot(\n",
    "  object = mutiome,\n",
    "  region = ranges.show,\n",
    "  ranges = ranges.show,\n",
    "  annotation = TRUE,\n",
    "  peaks = TRUE,\n",
    "  links = FALSE,\n",
    "  heights = c(20, 0.1, 0.1, 0.1),\n",
    "  group.by = \"annotation_short\"\n",
    ")&scale_fill_manual(values = rep('black',100)) "
   ]
  },
  {
   "cell_type": "code",
   "execution_count": null,
   "id": "8c33e8a9-a2c5-4242-9be3-de63a65f2444",
   "metadata": {
    "vscode": {
     "languageId": "r"
    }
   },
   "outputs": [],
   "source": [
    "ranges.show <- StringToGRanges(\"chr11-70218349-70242176\")\n",
    "\n",
    "CoveragePlot(\n",
    "  object = mutiome,\n",
    "  region = ranges.show,\n",
    "  ranges = ranges.show,\n",
    "  annotation = TRUE,\n",
    "  peaks = TRUE,\n",
    "  links = FALSE,\n",
    "  heights = c(20, 0.1, 0.1, 0.1),\n",
    "  group.by = \"annotation_short\"\n",
    ")&scale_fill_manual(values = rep('black',100)) "
   ]
  },
  {
   "cell_type": "code",
   "execution_count": null,
   "id": "1dbd61de-ea1b-4838-baa2-7bbca5d02d7a",
   "metadata": {
    "vscode": {
     "languageId": "r"
    }
   },
   "outputs": [],
   "source": [
    "ranges.show <- StringToGRanges(\"chr11-70225000-70235000\")\n",
    "\n",
    "CoveragePlot(\n",
    "  object = mutiome,\n",
    "  region = ranges.show,\n",
    "  ranges = ranges.show,\n",
    "  annotation = TRUE,\n",
    "  peaks = TRUE,\n",
    "  links = FALSE,\n",
    "  heights = c(20, 0.1, 0.1, 0.1),\n",
    "  group.by = \"annotation_short\"\n",
    ")&scale_fill_manual(values = rep('black',100)) "
   ]
  },
  {
   "cell_type": "code",
   "execution_count": null,
   "id": "369bfea3-34b7-4d26-bb5a-9a58cf581f64",
   "metadata": {
    "vscode": {
     "languageId": "r"
    }
   },
   "outputs": [],
   "source": [
    "ranges.show <- StringToGRanges(\"chr11-70228432-70233499\")\n",
    "\n",
    "CoveragePlot(\n",
    "  object = mutiome,\n",
    "  region = ranges.show,\n",
    "  ranges = ranges.show,\n",
    "  annotation = TRUE,\n",
    "  peaks = TRUE,\n",
    "  links = FALSE,\n",
    "  heights = c(20, 0.1, 0.1, 0.1),\n",
    "  group.by = \"annotation_short\"\n",
    ")&scale_fill_manual(values = rep('black',100)) "
   ]
  },
  {
   "cell_type": "code",
   "execution_count": null,
   "id": "917b6f25-56df-4800-8581-f58dc32e4429",
   "metadata": {
    "vscode": {
     "languageId": "r"
    }
   },
   "outputs": [],
   "source": [
    "chr11:70,228,432-70,233,499"
   ]
  },
  {
   "cell_type": "code",
   "execution_count": null,
   "id": "af80101a-72cb-4625-8127-20b19d141055",
   "metadata": {
    "vscode": {
     "languageId": "r"
    }
   },
   "outputs": [],
   "source": [
    "ranges.show <- StringToGRanges(\"chr11-70225000-70235000\")\n",
    "\n",
    "CoveragePlot(\n",
    "  object = mutiome,\n",
    "  region = ranges.show,\n",
    "  ranges = ranges.show,\n",
    "  annotation = TRUE,\n",
    "  peaks = TRUE,\n",
    "  links = FALSE,\n",
    "  heights = c(20, 0.1, 0.1, 0.1),\n",
    "  group.by = \"annotation_short\"\n",
    ")&scale_fill_manual(values = rep('black',100)) "
   ]
  },
  {
   "cell_type": "code",
   "execution_count": null,
   "id": "7406656b-f01b-44ac-8414-ab5909c370b9",
   "metadata": {
    "vscode": {
     "languageId": "r"
    }
   },
   "outputs": [],
   "source": [
    "#ranges.show <- StringToGRanges(\"chrX-112600000-112602000\")\n",
    "\n",
    "CoveragePlot(\n",
    "  object = mutiome,\n",
    "  region = 'Mafb',\n",
    "#  ranges = ranges.show,\n",
    "    extend.upstream = 50000,\n",
    "    extend.downstream = 50000,\n",
    "  annotation = TRUE,\n",
    "  peaks = TRUE,\n",
    "  links = FALSE,\n",
    "  heights = c(20, 0.1, 0.1, 0.1),\n",
    "  group.by = \"annotation_medium\"\n",
    ")&scale_fill_manual(values = rep('black',100)) "
   ]
  },
  {
   "cell_type": "code",
   "execution_count": null,
   "id": "8e404a92-a187-486b-a104-06eee90239e5",
   "metadata": {
    "vscode": {
     "languageId": "r"
    }
   },
   "outputs": [],
   "source": [
    "#ranges.show <- StringToGRanges(\"chrX-112600000-112602000\")\n",
    "\n",
    "CoveragePlot(\n",
    "  object = mutiome,\n",
    "  region = 'Mafb',\n",
    "#  ranges = ranges.show,\n",
    "  annotation = TRUE,\n",
    "  peaks = TRUE,\n",
    "  links = FALSE,\n",
    "  heights = c(20, 0.1, 0.1, 0.1),\n",
    "  group.by = \"annotation_short\"\n",
    ")&scale_fill_manual(values = rep('black',100)) "
   ]
  },
  {
   "cell_type": "code",
   "execution_count": null,
   "id": "1aa437b9-a045-4cea-98f5-e814c6270faa",
   "metadata": {
    "vscode": {
     "languageId": "r"
    }
   },
   "outputs": [],
   "source": [
    "#ranges.show <- StringToGRanges(\"chrX-112600000-112602000\")\n",
    "\n",
    "CoveragePlot(\n",
    "  object = mutiome,\n",
    "  region = 'Fos',\n",
    "#  ranges = ranges.show,\n",
    "    extend.upstream = 50000,\n",
    "    extend.downstream = 50000,\n",
    "  annotation = TRUE,\n",
    "  peaks = TRUE,\n",
    "  links = FALSE,\n",
    "  heights = c(20, 0.1, 0.1, 0.1),\n",
    "  group.by = \"annotation_medium\"\n",
    ")&scale_fill_manual(values = rep('black',100)) "
   ]
  },
  {
   "cell_type": "code",
   "execution_count": null,
   "id": "e4d1a922-e3b4-4a13-b3df-5e6790fa74da",
   "metadata": {
    "vscode": {
     "languageId": "r"
    }
   },
   "outputs": [],
   "source": [
    "#ranges.show <- StringToGRanges(\"chrX-112600000-112602000\")\n",
    "\n",
    "CoveragePlot(\n",
    "  object = mutiome,\n",
    "  region = 'Creb5',\n",
    "#  ranges = ranges.show,\n",
    "    extend.upstream = 50000,\n",
    "    extend.downstream = 50000,\n",
    "  annotation = TRUE,\n",
    "  peaks = TRUE,\n",
    "  links = FALSE,\n",
    "  heights = c(20, 0.1, 0.1, 0.1),\n",
    "  group.by = \"annotation_medium\"\n",
    ")&scale_fill_manual(values = rep('black',100)) "
   ]
  },
  {
   "cell_type": "code",
   "execution_count": null,
   "id": "bde3b5fd-3165-45e5-b1d9-7cd7668d5765",
   "metadata": {
    "vscode": {
     "languageId": "r"
    }
   },
   "outputs": [],
   "source": [
    "#ranges.show <- StringToGRanges(\"chrX-112600000-112602000\")\n",
    "\n",
    "CoveragePlot(\n",
    "  object = mutiome,\n",
    "  region = 'Egr1',\n",
    "#  ranges = ranges.show,\n",
    "    extend.upstream = 5000,\n",
    "    extend.downstream = 5000,\n",
    "  annotation = TRUE,\n",
    "  peaks = TRUE,\n",
    "  links = FALSE,\n",
    "  heights = c(20, 0.1, 0.1, 0.1),\n",
    "  group.by = \"annotation_medium\"\n",
    ")&scale_fill_manual(values = rep('black',100)) "
   ]
  },
  {
   "cell_type": "code",
   "execution_count": null,
   "id": "fc896e48-0a1c-4cee-9a9a-c8fd0a7a86b2",
   "metadata": {
    "vscode": {
     "languageId": "r"
    }
   },
   "outputs": [],
   "source": [
    "#ranges.show <- StringToGRanges(\"chrX-112600000-112602000\")\n",
    "\n",
    "CoveragePlot(\n",
    "  object = mutiome,\n",
    "  region = 'Jun',\n",
    "#  ranges = ranges.show,\n",
    "    extend.upstream = 50000,\n",
    "    extend.downstream = 50000,\n",
    "  annotation = TRUE,\n",
    "  peaks = TRUE,\n",
    "  links = FALSE,\n",
    "  heights = c(20, 0.1, 0.1, 0.1),\n",
    "  group.by = \"annotation_medium\"\n",
    ")&scale_fill_manual(values = rep('black',100)) "
   ]
  },
  {
   "cell_type": "code",
   "execution_count": null,
   "id": "a8ce7d5e-848d-4b02-8bde-307690b5402f",
   "metadata": {
    "vscode": {
     "languageId": "r"
    }
   },
   "outputs": [],
   "source": [
    "#ranges.show <- StringToGRanges(\"chrX-112600000-112602000\")\n",
    "\n",
    "CoveragePlot(\n",
    "  object = mutiome,\n",
    "  region = 'Jun',\n",
    "#  ranges = ranges.show,\n",
    "    extend.upstream = 5000,\n",
    "    extend.downstream = 5000,\n",
    "  annotation = TRUE,\n",
    "  peaks = TRUE,\n",
    "  links = FALSE,\n",
    "  heights = c(20, 0.1, 0.1, 0.1),\n",
    "  group.by = \"annotation_medium\"\n",
    ")&scale_fill_manual(values = rep('black',100)) "
   ]
  },
  {
   "cell_type": "code",
   "execution_count": null,
   "id": "a220e3e1-9f8b-47bb-83b7-384d1b7cf256",
   "metadata": {
    "vscode": {
     "languageId": "r"
    }
   },
   "outputs": [],
   "source": [
    "#ranges.show <- StringToGRanges(\"chrX-112600000-112602000\")\n",
    "\n",
    "CoveragePlot(\n",
    "  object = mutiome,\n",
    "  region = 'Jund',\n",
    "#  ranges = ranges.show,\n",
    "    extend.upstream = 50000,\n",
    "    extend.downstream = 50000,\n",
    "  annotation = TRUE,\n",
    "  peaks = TRUE,\n",
    "  links = FALSE,\n",
    "  heights = c(20, 0.1, 0.1, 0.1),\n",
    "  group.by = \"annotation_medium\"\n",
    ")&scale_fill_manual(values = rep('black',100)) "
   ]
  },
  {
   "cell_type": "code",
   "execution_count": null,
   "id": "36d8ccc9-2c48-4ab5-8e18-54225bc052c1",
   "metadata": {
    "vscode": {
     "languageId": "r"
    }
   },
   "outputs": [],
   "source": [
    "#ranges.show <- StringToGRanges(\"chrX-112600000-112602000\")\n",
    "\n",
    "CoveragePlot(\n",
    "  object = mutiome,\n",
    "  region = 'Jund',\n",
    "#  ranges = ranges.show,\n",
    "    extend.upstream = 5000,\n",
    "    extend.downstream = 5000,\n",
    "  annotation = TRUE,\n",
    "  peaks = TRUE,\n",
    "  links = FALSE,\n",
    "  heights = c(20, 0.1, 0.1, 0.1),\n",
    "  group.by = \"annotation_medium\"\n",
    ")&scale_fill_manual(values = rep('black',100)) "
   ]
  },
  {
   "cell_type": "code",
   "execution_count": null,
   "id": "fc3eb4f0-7c96-431b-bce0-01f6a7ba7cac",
   "metadata": {
    "vscode": {
     "languageId": "r"
    }
   },
   "outputs": [],
   "source": [
    "#ranges.show <- StringToGRanges(\"chrX-112600000-112602000\")\n",
    "\n",
    "CoveragePlot(\n",
    "  object = mutiome,\n",
    "  region = 'Klf4',\n",
    "#  ranges = ranges.show,\n",
    "    extend.upstream = 50000,\n",
    "    extend.downstream = 50000,\n",
    "  annotation = TRUE,\n",
    "  peaks = TRUE,\n",
    "  links = FALSE,\n",
    "  heights = c(20, 0.1, 0.1, 0.1),\n",
    "  group.by = \"annotation_medium\"\n",
    ")&scale_fill_manual(values = rep('black',100)) "
   ]
  },
  {
   "cell_type": "code",
   "execution_count": null,
   "id": "c60d8026-3b21-4891-b9ca-c8072d06f84a",
   "metadata": {
    "vscode": {
     "languageId": "r"
    }
   },
   "outputs": [],
   "source": [
    "#ranges.show <- StringToGRanges(\"chrX-112600000-112602000\")\n",
    "\n",
    "CoveragePlot(\n",
    "  object = mutiome,\n",
    "  region = 'Klf4',\n",
    "#  ranges = ranges.show,\n",
    "    extend.upstream = 5000,\n",
    "    extend.downstream = 5000,\n",
    "  annotation = TRUE,\n",
    "  peaks = TRUE,\n",
    "  links = FALSE,\n",
    "  heights = c(20, 0.1, 0.1, 0.1),\n",
    "  group.by = \"annotation_medium\"\n",
    ")&scale_fill_manual(values = rep('black',100)) "
   ]
  },
  {
   "cell_type": "code",
   "execution_count": null,
   "id": "c7d0ea03-2329-4a41-9547-6859dae882b3",
   "metadata": {
    "vscode": {
     "languageId": "r"
    }
   },
   "outputs": [],
   "source": [
    "#ranges.show <- StringToGRanges(\"chrX-112600000-112602000\")\n",
    "\n",
    "CoveragePlot(\n",
    "  object = mutiome,\n",
    "  region = 'Klf4',\n",
    "#  ranges = ranges.show,\n",
    "    extend.upstream = 200000,\n",
    "    extend.downstream = 200000,\n",
    "  annotation = TRUE,\n",
    "  peaks = TRUE,\n",
    "  links = FALSE,\n",
    "  heights = c(20, 0.1, 0.1, 0.1),\n",
    "  group.by = \"annotation_medium\"\n",
    ")&scale_fill_manual(values = rep('black',100)) "
   ]
  },
  {
   "cell_type": "code",
   "execution_count": null,
   "id": "82bea251-c52a-4772-a8ec-ca388c5068de",
   "metadata": {
    "vscode": {
     "languageId": "r"
    }
   },
   "outputs": [],
   "source": [
    "#ranges.show <- StringToGRanges(\"chrX-112600000-112602000\")\n",
    "\n",
    "CoveragePlot(\n",
    "  object = mutiome,\n",
    "  region = 'Runx1',\n",
    "#  ranges = ranges.show,\n",
    "    extend.upstream = 50000,\n",
    "    extend.downstream = 50000,\n",
    "  annotation = TRUE,\n",
    "  peaks = TRUE,\n",
    "  links = FALSE,\n",
    "  heights = c(20, 0.1, 0.1, 0.1),\n",
    "  group.by = \"annotation_medium\"\n",
    ")&scale_fill_manual(values = rep('black',100)) "
   ]
  },
  {
   "cell_type": "code",
   "execution_count": null,
   "id": "2720dd92-68b6-4486-9740-f60277e76a8e",
   "metadata": {
    "vscode": {
     "languageId": "r"
    }
   },
   "outputs": [],
   "source": [
    "#ranges.show <- StringToGRanges(\"chrX-112600000-112602000\")\n",
    "\n",
    "CoveragePlot(\n",
    "  object = mutiome,\n",
    "  region = 'Runx1',\n",
    "#  ranges = ranges.show,\n",
    "    extend.upstream = 5000,\n",
    "    extend.downstream = 5000,\n",
    "  annotation = TRUE,\n",
    "  peaks = TRUE,\n",
    "  links = FALSE,\n",
    "  heights = c(20, 0.1, 0.1, 0.1),\n",
    "  group.by = \"annotation_medium\"\n",
    ")&scale_fill_manual(values = rep('black',100)) "
   ]
  },
  {
   "cell_type": "code",
   "execution_count": null,
   "id": "4c652eac-70a1-4020-955e-d2fb5feccdd8",
   "metadata": {
    "vscode": {
     "languageId": "r"
    }
   },
   "outputs": [],
   "source": [
    "#ranges.show <- StringToGRanges(\"chrX-112600000-112602000\")\n",
    "\n",
    "CoveragePlot(\n",
    "  object = mutiome,\n",
    "  region = 'Bach2',\n",
    "#  ranges = ranges.show,\n",
    "    extend.upstream = 50000,\n",
    "    extend.downstream = 50000,\n",
    "  annotation = TRUE,\n",
    "  peaks = TRUE,\n",
    "  links = FALSE,\n",
    "  heights = c(20, 0.1, 0.1, 0.1),\n",
    "  group.by = \"annotation_medium\"\n",
    ")&scale_fill_manual(values = rep('black',100)) "
   ]
  },
  {
   "cell_type": "code",
   "execution_count": null,
   "id": "58a6517f-c66b-4d06-81ee-2b6019ce8249",
   "metadata": {
    "vscode": {
     "languageId": "r"
    }
   },
   "outputs": [],
   "source": [
    "#ranges.show <- StringToGRanges(\"chrX-112600000-112602000\")\n",
    "\n",
    "CoveragePlot(\n",
    "  object = mutiome,\n",
    "  region = 'Bach2',\n",
    "#  ranges = ranges.show,\n",
    "    extend.upstream = 5000,\n",
    "    extend.downstream = 5000,\n",
    "  annotation = TRUE,\n",
    "  peaks = TRUE,\n",
    "  links = FALSE,\n",
    "  heights = c(20, 0.1, 0.1, 0.1),\n",
    "  group.by = \"annotation_medium\"\n",
    ")&scale_fill_manual(values = rep('black',100)) "
   ]
  },
  {
   "cell_type": "code",
   "execution_count": null,
   "id": "f2053dc3-b4c1-43bf-8153-10dc27f6fde6",
   "metadata": {
    "vscode": {
     "languageId": "r"
    }
   },
   "outputs": [],
   "source": [
    "#ranges.show <- StringToGRanges(\"chrX-112600000-112602000\")\n",
    "\n",
    "CoveragePlot(\n",
    "  object = mutiome,\n",
    "  region = 'Id1',\n",
    "#  ranges = ranges.show,\n",
    "    extend.upstream = 50000,\n",
    "    extend.downstream = 50000,\n",
    "  annotation = TRUE,\n",
    "  peaks = TRUE,\n",
    "  links = FALSE,\n",
    "  heights = c(20, 0.1, 0.1, 0.1),\n",
    "  group.by = \"annotation_medium\"\n",
    ")&scale_fill_manual(values = rep('black',100)) "
   ]
  },
  {
   "cell_type": "code",
   "execution_count": null,
   "id": "20914ed5-f956-426a-8b87-fad4db3f3e24",
   "metadata": {
    "vscode": {
     "languageId": "r"
    }
   },
   "outputs": [],
   "source": [
    "#ranges.show <- StringToGRanges(\"chrX-112600000-112602000\")\n",
    "\n",
    "CoveragePlot(\n",
    "  object = mutiome,\n",
    "  region = 'Batf3',\n",
    "#  ranges = ranges.show,\n",
    "    extend.upstream = 50000,\n",
    "    extend.downstream = 50000,\n",
    "  annotation = TRUE,\n",
    "  peaks = TRUE,\n",
    "  links = FALSE,\n",
    "  heights = c(20, 0.1, 0.1, 0.1),\n",
    "  group.by = \"annotation_medium\"\n",
    ")&scale_fill_manual(values = rep('black',100)) \n",
    "\n",
    "\n",
    "\n",
    "#ranges.show <- StringToGRanges(\"chrX-112600000-112602000\")\n",
    "\n",
    "CoveragePlot(\n",
    "  object = mutiome,\n",
    "  region = 'Irf9',\n",
    "#  ranges = ranges.show,\n",
    "    extend.upstream = 50000,\n",
    "    extend.downstream = 50000,\n",
    "  annotation = TRUE,\n",
    "  peaks = TRUE,\n",
    "  links = FALSE,\n",
    "  heights = c(20, 0.1, 0.1, 0.1),\n",
    "  group.by = \"annotation_medium\"\n",
    ")&scale_fill_manual(values = rep('black',100)) \n",
    "\n",
    "\n",
    "\n",
    "#ranges.show <- StringToGRanges(\"chrX-112600000-112602000\")\n",
    "\n",
    "CoveragePlot(\n",
    "  object = mutiome,\n",
    "  region = 'Stat1',\n",
    "#  ranges = ranges.show,\n",
    "    extend.upstream = 50000,\n",
    "    extend.downstream = 50000,\n",
    "  annotation = TRUE,\n",
    "  peaks = TRUE,\n",
    "  links = FALSE,\n",
    "  heights = c(20, 0.1, 0.1, 0.1),\n",
    "  group.by = \"annotation_medium\"\n",
    ")&scale_fill_manual(values = rep('black',100)) \n",
    "\n",
    "\n",
    "\n",
    "#ranges.show <- StringToGRanges(\"chrX-112600000-112602000\")\n",
    "\n",
    "CoveragePlot(\n",
    "  object = mutiome,\n",
    "  region = 'Stat2',\n",
    "#  ranges = ranges.show,\n",
    "    extend.upstream = 50000,\n",
    "    extend.downstream = 50000,\n",
    "  annotation = TRUE,\n",
    "  peaks = TRUE,\n",
    "  links = FALSE,\n",
    "  heights = c(20, 0.1, 0.1, 0.1),\n",
    "  group.by = \"annotation_medium\"\n",
    ")&scale_fill_manual(values = rep('black',100)) \n",
    "\n",
    "\n",
    "\n",
    "\n",
    "#ranges.show <- StringToGRanges(\"chrX-112600000-112602000\")\n",
    "\n",
    "CoveragePlot(\n",
    "  object = mutiome,\n",
    "  region = 'Sox4',\n",
    "#  ranges = ranges.show,\n",
    "    extend.upstream = 50000,\n",
    "    extend.downstream = 50000,\n",
    "  annotation = TRUE,\n",
    "  peaks = TRUE,\n",
    "  links = FALSE,\n",
    "  heights = c(20, 0.1, 0.1, 0.1),\n",
    "  group.by = \"annotation_medium\"\n",
    ")&scale_fill_manual(values = rep('black',100)) \n",
    "\n",
    "\n",
    "\n",
    "\n",
    "#ranges.show <- StringToGRanges(\"chrX-112600000-112602000\")\n",
    "\n",
    "CoveragePlot(\n",
    "  object = mutiome,\n",
    "  region = 'Zfp608',\n",
    "#  ranges = ranges.show,\n",
    "    extend.upstream = 50000,\n",
    "    extend.downstream = 50000,\n",
    "  annotation = TRUE,\n",
    "  peaks = TRUE,\n",
    "  links = FALSE,\n",
    "  heights = c(20, 0.1, 0.1, 0.1),\n",
    "  group.by = \"annotation_medium\"\n",
    ")&scale_fill_manual(values = rep('black',100)) \n",
    "\n",
    "\n",
    "\n",
    "\n",
    "#ranges.show <- StringToGRanges(\"chrX-112600000-112602000\")\n",
    "\n",
    "CoveragePlot(\n",
    "  object = mutiome,\n",
    "  region = 'Smad7',\n",
    "#  ranges = ranges.show,\n",
    "    extend.upstream = 50000,\n",
    "    extend.downstream = 50000,\n",
    "  annotation = TRUE,\n",
    "  peaks = TRUE,\n",
    "  links = FALSE,\n",
    "  heights = c(20, 0.1, 0.1, 0.1),\n",
    "  group.by = \"annotation_medium\"\n",
    ")&scale_fill_manual(values = rep('black',100)) \n",
    "\n",
    "\n",
    "\n",
    "#ranges.show <- StringToGRanges(\"chrX-112600000-112602000\")\n",
    "\n",
    "CoveragePlot(\n",
    "  object = mutiome,\n",
    "  region = 'Mecom',\n",
    "#  ranges = ranges.show,\n",
    "    extend.upstream = 50000,\n",
    "    extend.downstream = 50000,\n",
    "  annotation = TRUE,\n",
    "  peaks = TRUE,\n",
    "  links = FALSE,\n",
    "  heights = c(20, 0.1, 0.1, 0.1),\n",
    "  group.by = \"annotation_medium\"\n",
    ")&scale_fill_manual(values = rep('black',100)) \n",
    "\n",
    "\n",
    "\n",
    "#ranges.show <- StringToGRanges(\"chrX-112600000-112602000\")\n",
    "\n",
    "CoveragePlot(\n",
    "  object = mutiome,\n",
    "  region = 'Klf2',\n",
    "#  ranges = ranges.show,\n",
    "    extend.upstream = 50000,\n",
    "    extend.downstream = 50000,\n",
    "  annotation = TRUE,\n",
    "  peaks = TRUE,\n",
    "  links = FALSE,\n",
    "  heights = c(20, 0.1, 0.1, 0.1),\n",
    "  group.by = \"annotation_medium\"\n",
    ")&scale_fill_manual(values = rep('black',100)) \n",
    "\n",
    "\n",
    "\n"
   ]
  },
  {
   "cell_type": "code",
   "execution_count": null,
   "id": "0e0af667-53f4-4ac0-9785-f4dbb8bbb03f",
   "metadata": {
    "vscode": {
     "languageId": "r"
    }
   },
   "outputs": [],
   "source": [
    "mutiome"
   ]
  },
  {
   "cell_type": "code",
   "execution_count": null,
   "id": "3a1eba93-a3e7-47b1-94c5-65e1f2702929",
   "metadata": {
    "vscode": {
     "languageId": "r"
    }
   },
   "outputs": [],
   "source": []
  },
  {
   "cell_type": "code",
   "execution_count": null,
   "id": "5430c744-19cf-4e43-b560-ee46d6605f54",
   "metadata": {
    "vscode": {
     "languageId": "r"
    }
   },
   "outputs": [],
   "source": []
  },
  {
   "cell_type": "code",
   "execution_count": null,
   "id": "de3fcd60-7992-4d26-bfe7-d3adeef28069",
   "metadata": {
    "vscode": {
     "languageId": "r"
    }
   },
   "outputs": [],
   "source": []
  }
 ],
 "metadata": {
  "kernelspec": {
   "display_name": "R",
   "language": "R",
   "name": "ir"
  },
  "language_info": {
   "codemirror_mode": "r",
   "file_extension": ".r",
   "mimetype": "text/x-r-source",
   "name": "R",
   "pygments_lexer": "r",
   "version": "4.5.1"
  }
 },
 "nbformat": 4,
 "nbformat_minor": 5
}
