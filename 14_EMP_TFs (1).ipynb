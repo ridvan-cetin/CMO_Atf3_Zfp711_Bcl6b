{
 "cells": [
  {
   "cell_type": "markdown",
   "id": "a48f688f-0e0e-4459-ad6b-9119a952b43d",
   "metadata": {},
   "source": [
    "# EMP:Specific Transcription Factos"
   ]
  },
  {
   "cell_type": "code",
   "execution_count": null,
   "id": "98eadb37-0793-444b-80ba-ee572fe5a30b",
   "metadata": {
    "vscode": {
     "languageId": "r"
    }
   },
   "outputs": [],
   "source": [
    "source(\"/home/ridvan/PhD_Projects/Multiome/settings.R\")\n",
    "source(\"/home/ridvan/PhD_Projects/Multiome/utils.R\")"
   ]
  },
  {
   "cell_type": "code",
   "execution_count": null,
   "id": "e73d6695-5db7-4a55-9d7f-b84910d4c6c9",
   "metadata": {
    "vscode": {
     "languageId": "r"
    }
   },
   "outputs": [],
   "source": [
    "BPPARAM <- BiocParallel::bpparam()\n",
    "BPPARAM$workers = 24\n",
    "\n",
    "# Multi core using future - built in to seurat\n",
    "plan(\"multicore\", workers = 12)\n",
    "options(future.globals.maxSize = 100 * 1024 ^ 3) # for 100 Gb RAM\n",
    "\n",
    "getwd()"
   ]
  },
  {
   "cell_type": "code",
   "execution_count": null,
   "id": "a73e2ca0-97b1-49f1-b26f-e8ce38a3fce3",
   "metadata": {
    "vscode": {
     "languageId": "r"
    }
   },
   "outputs": [],
   "source": [
    "multiome <- readRDS('/home/ridvan/PhD_Projects/Multiome/000_io/outputs/multiome_only_3.rds')"
   ]
  },
  {
   "cell_type": "code",
   "execution_count": null,
   "id": "ed12d1d4-e565-4c25-b70c-780431857b5f",
   "metadata": {
    "vscode": {
     "languageId": "r"
    }
   },
   "outputs": [],
   "source": [
    "multiome"
   ]
  },
  {
   "cell_type": "code",
   "execution_count": null,
   "id": "628aa71e-917d-4f69-be68-4686d3549633",
   "metadata": {
    "vscode": {
     "languageId": "r"
    }
   },
   "outputs": [],
   "source": [
    "atlas <- readRDS('~/scRIPT//000_io_dir//outputs//rds_files//extended_atlas_cellranger_features_seurat.rds')\n",
    "atlas"
   ]
  },
  {
   "cell_type": "code",
   "execution_count": null,
   "id": "df77050e-59d9-407d-a08f-b81481d87e4b",
   "metadata": {
    "vscode": {
     "languageId": "r"
    }
   },
   "outputs": [],
   "source": [
    "cmo <- readRDS(\"~/PhD_Projects/CMO/cmo_version3.rds\")\n",
    "cmo"
   ]
  },
  {
   "cell_type": "code",
   "execution_count": null,
   "id": "fc47ec77-4022-4662-b804-1a6e89d41cce",
   "metadata": {
    "vscode": {
     "languageId": "r"
    }
   },
   "outputs": [],
   "source": [
    "tf_list <- read.delim('~/scRIPT/000_io_dir/inputs/Mus_musculus_TF_AnimalTFDB4.txt')\n",
    "head(tf_list)"
   ]
  },
  {
   "cell_type": "code",
   "execution_count": null,
   "id": "11c4ab05-04b6-4c5b-b7a7-2282fbbf149f",
   "metadata": {
    "vscode": {
     "languageId": "r"
    }
   },
   "outputs": [],
   "source": [
    "Idents(cmo) <- cmo$cell_type_clusters"
   ]
  },
  {
   "cell_type": "code",
   "execution_count": null,
   "id": "eb8648db-6794-4856-9bea-1c651edb50f0",
   "metadata": {
    "vscode": {
     "languageId": "r"
    }
   },
   "outputs": [],
   "source": [
    "levels(Idents(cmo))"
   ]
  },
  {
   "cell_type": "code",
   "execution_count": null,
   "id": "03286e6a-27ea-4075-8d2e-6d5377f4cfd2",
   "metadata": {
    "vscode": {
     "languageId": "r"
    }
   },
   "outputs": [],
   "source": [
    "Idents(atlas) <- atlas$celltype_extended_atlas\n",
    "levels(Idents(atlas))"
   ]
  },
  {
   "cell_type": "code",
   "execution_count": null,
   "id": "15498034-8164-4737-ab99-4ebcfe0fa761",
   "metadata": {
    "vscode": {
     "languageId": "r"
    }
   },
   "outputs": [],
   "source": [
    "Idents(multiome) <- multiome$annotation_short_y\n",
    "levels(Idents(multiome))"
   ]
  },
  {
   "cell_type": "code",
   "execution_count": null,
   "id": "c6293f44-5bed-48a8-a56e-98f32c4f71f7",
   "metadata": {
    "vscode": {
     "languageId": "r"
    }
   },
   "outputs": [],
   "source": [
    "EMP_multiome_all <- FindMarkers(object = multiome, `ident.1` = \"EMP\", only.pos = TRUE)\n"
   ]
  },
  {
   "cell_type": "code",
   "execution_count": null,
   "id": "888cbe50-9b40-4a98-96b2-7decede73067",
   "metadata": {
    "vscode": {
     "languageId": "r"
    }
   },
   "outputs": [],
   "source": [
    "EMP_cmo_all <- FindMarkers(object = cmo, `ident.1` = \"EMP\", only.pos = TRUE)\n"
   ]
  },
  {
   "cell_type": "code",
   "execution_count": null,
   "id": "bb8f7834-0dc3-4bcc-b47e-643f98bf391d",
   "metadata": {
    "vscode": {
     "languageId": "r"
    }
   },
   "outputs": [],
   "source": [
    "EMP_atlas_all <- FindMarkers(object = atlas, `ident.1` = \"EMP\", only.pos = TRUE)"
   ]
  },
  {
   "cell_type": "code",
   "execution_count": null,
   "id": "a879543b-c5fa-4e04-88fe-306cc08be069",
   "metadata": {
    "vscode": {
     "languageId": "r"
    }
   },
   "outputs": [],
   "source": [
    "head(EMP_multiome_all)"
   ]
  },
  {
   "cell_type": "code",
   "execution_count": null,
   "id": "99fa51ba-50ee-47d5-a988-ca1f7cca043e",
   "metadata": {
    "vscode": {
     "languageId": "r"
    }
   },
   "outputs": [],
   "source": [
    "head(EMP_cmo_all)"
   ]
  },
  {
   "cell_type": "code",
   "execution_count": null,
   "id": "b43ff916-6ce4-41cb-98da-549f43417568",
   "metadata": {
    "vscode": {
     "languageId": "r"
    }
   },
   "outputs": [],
   "source": [
    "head(EMP_atlas_all)"
   ]
  },
  {
   "cell_type": "code",
   "execution_count": null,
   "id": "f5c83282-7f9a-4535-bc37-b3193b5eef0f",
   "metadata": {
    "vscode": {
     "languageId": "r"
    }
   },
   "outputs": [],
   "source": [
    "dim(EMP_multiome_all)"
   ]
  },
  {
   "cell_type": "code",
   "execution_count": null,
   "id": "f2bab1d7-66dc-4678-9a44-1ef55cb26f99",
   "metadata": {
    "vscode": {
     "languageId": "r"
    }
   },
   "outputs": [],
   "source": [
    "EMP_multiome_all_sign <- EMP_multiome_all[EMP_multiome_all$p_val_adj < 0.001,]\n",
    "dim(EMP_multiome_all_sign)"
   ]
  },
  {
   "cell_type": "code",
   "execution_count": null,
   "id": "6ca7ca50-1aa4-4333-aade-577bafa58e7b",
   "metadata": {
    "vscode": {
     "languageId": "r"
    }
   },
   "outputs": [],
   "source": [
    "EMP_atlas_all_sign <- EMP_atlas_all[EMP_atlas_all$p_val_adj < 0.001,]\n",
    "dim(EMP_atlas_all_sign)"
   ]
  },
  {
   "cell_type": "code",
   "execution_count": null,
   "id": "c3a736ba-4af3-48f9-970a-98ec6094d594",
   "metadata": {
    "vscode": {
     "languageId": "r"
    }
   },
   "outputs": [],
   "source": [
    "EMP_cmo_all_sign <- EMP_cmo_all[EMP_cmo_all$p_val_adj < 0.001,]\n",
    "dim(EMP_cmo_all_sign)"
   ]
  },
  {
   "cell_type": "code",
   "execution_count": null,
   "id": "94340684-9c31-40c4-a487-6b5668b0b026",
   "metadata": {
    "vscode": {
     "languageId": "r"
    }
   },
   "outputs": [],
   "source": [
    "head(tf_list)"
   ]
  },
  {
   "cell_type": "code",
   "execution_count": null,
   "id": "de9a577d-2696-4fa9-8088-e330a0a8a70d",
   "metadata": {
    "vscode": {
     "languageId": "r"
    }
   },
   "outputs": [],
   "source": [
    "table(rownames(EMP_cmo_all_sign)%in% tf_list$Symbol)"
   ]
  },
  {
   "cell_type": "code",
   "execution_count": null,
   "id": "1276d1dd-dce8-43c0-9a81-f07d244808ec",
   "metadata": {
    "vscode": {
     "languageId": "r"
    }
   },
   "outputs": [],
   "source": [
    "table(rownames(EMP_atlas_all_sign)%in% tf_list$Symbol)"
   ]
  },
  {
   "cell_type": "code",
   "execution_count": null,
   "id": "bb5cc62e-e997-4431-bb86-9a997c6cdc58",
   "metadata": {
    "vscode": {
     "languageId": "r"
    }
   },
   "outputs": [],
   "source": [
    "table(rownames(EMP_multiome_all_sign)%in% tf_list$Symbol)"
   ]
  },
  {
   "cell_type": "code",
   "execution_count": null,
   "id": "6501cc4d-3d4a-46e6-8163-7f25526d6cfa",
   "metadata": {
    "vscode": {
     "languageId": "r"
    }
   },
   "outputs": [],
   "source": [
    "EMP_atlas_tf <- EMP_atlas_all_sign[rownames(EMP_atlas_all_sign)%in% tf_list$Symbol,]\n",
    "dim(EMP_atlas_tf)"
   ]
  },
  {
   "cell_type": "code",
   "execution_count": null,
   "id": "2fbf7962-c5e5-4302-ac4d-2ebff340a482",
   "metadata": {
    "vscode": {
     "languageId": "r"
    }
   },
   "outputs": [],
   "source": [
    "EMP_cmo_tf <- EMP_cmo_all_sign[rownames(EMP_cmo_all_sign)%in% tf_list$Symbol,]\n",
    "dim(EMP_cmo_tf)"
   ]
  },
  {
   "cell_type": "code",
   "execution_count": null,
   "id": "73757b16-850f-41b1-a377-611080a9ea4b",
   "metadata": {
    "vscode": {
     "languageId": "r"
    }
   },
   "outputs": [],
   "source": [
    "EMP_multiome_tf <- EMP_multiome_all_sign[rownames(EMP_multiome_all_sign)%in% tf_list$Symbol,]\n",
    "dim(EMP_multiome_tf)"
   ]
  },
  {
   "cell_type": "code",
   "execution_count": null,
   "id": "5870709c-7e58-48af-a2b3-c052c563e0b8",
   "metadata": {
    "vscode": {
     "languageId": "r"
    }
   },
   "outputs": [],
   "source": [
    "EMP_atlas_tf"
   ]
  },
  {
   "cell_type": "code",
   "execution_count": null,
   "id": "8b41f679-2459-4d64-8434-a724f648f89d",
   "metadata": {
    "vscode": {
     "languageId": "r"
    }
   },
   "outputs": [],
   "source": [
    "EMP_cmo_tf"
   ]
  },
  {
   "cell_type": "code",
   "execution_count": null,
   "id": "c364d430-4149-45b1-a433-4ec8d9524fcb",
   "metadata": {
    "vscode": {
     "languageId": "r"
    }
   },
   "outputs": [],
   "source": [
    "EMP_multiome_tf"
   ]
  },
  {
   "cell_type": "code",
   "execution_count": null,
   "id": "e82d14d7-6f48-4550-9a6d-c39316cc186f",
   "metadata": {
    "vscode": {
     "languageId": "r"
    }
   },
   "outputs": [],
   "source": [
    "length(unique(c(rownames(EMP_cmo_tf), rownames(EMP_multiome_tf))))"
   ]
  },
  {
   "cell_type": "code",
   "execution_count": null,
   "id": "3f13b6dd-43cb-4a7c-a552-cb101bc9a4b3",
   "metadata": {
    "vscode": {
     "languageId": "r"
    }
   },
   "outputs": [],
   "source": [
    "EMP_invitro <- unique(c(rownames(EMP_cmo_tf), rownames(EMP_multiome_tf)))\n",
    "head(EMP_invitro)"
   ]
  },
  {
   "cell_type": "code",
   "execution_count": null,
   "id": "b40689e4-d8ab-4d5b-9841-65c938d6f84b",
   "metadata": {
    "vscode": {
     "languageId": "r"
    }
   },
   "outputs": [],
   "source": [
    "EMP_invivo <- unique(rownames(EMP_atlas_tf))\n",
    "length(EMP_invivo)\n",
    "head(EMP_invivo)"
   ]
  },
  {
   "cell_type": "code",
   "execution_count": null,
   "id": "54dfe977-0582-44f7-b4e7-b966b390c6a7",
   "metadata": {
    "vscode": {
     "languageId": "r"
    }
   },
   "outputs": [],
   "source": [
    "table(EMP_invitro %in% EMP_invivo)"
   ]
  },
  {
   "cell_type": "code",
   "execution_count": null,
   "id": "498bc689-8ec9-4e17-9c63-f844b5ea25e1",
   "metadata": {
    "vscode": {
     "languageId": "r"
    }
   },
   "outputs": [],
   "source": [
    "table(EMP_invivo %in% EMP_invitro)"
   ]
  },
  {
   "cell_type": "code",
   "execution_count": null,
   "id": "475589fc-f8c9-4faf-8ac6-57f2674302e8",
   "metadata": {
    "vscode": {
     "languageId": "r"
    }
   },
   "outputs": [],
   "source": [
    "EMP_TF_extended <- unique(c(EMP_invitro, EMP_invivo))\n",
    "length(EMP_TF_extended)"
   ]
  },
  {
   "cell_type": "code",
   "execution_count": null,
   "id": "2e970424-4e0b-4239-b060-1878d67d5e2f",
   "metadata": {
    "vscode": {
     "languageId": "r"
    }
   },
   "outputs": [],
   "source": [
    "EMP_TF_extended"
   ]
  },
  {
   "cell_type": "code",
   "execution_count": null,
   "id": "ac9f318b-0434-4774-bde4-1f751b020cfb",
   "metadata": {
    "vscode": {
     "languageId": "r"
    }
   },
   "outputs": [],
   "source": [
    "EMP_invivo[EMP_invivo %in% EMP_invitro]"
   ]
  },
  {
   "cell_type": "code",
   "execution_count": null,
   "id": "c8e9d4d9-fd54-4c4e-ad93-4c5f4a7d6baf",
   "metadata": {
    "vscode": {
     "languageId": "r"
    }
   },
   "outputs": [],
   "source": [
    "EMP_TF_shared <- EMP_invivo[EMP_invivo %in% EMP_invitro]\n",
    "length(EMP_TF_shared)"
   ]
  },
  {
   "cell_type": "code",
   "execution_count": null,
   "id": "bd2d408b-1b0b-4b58-bef6-b170e37539f4",
   "metadata": {
    "vscode": {
     "languageId": "r"
    }
   },
   "outputs": [],
   "source": [
    "EMP_atlas_all[rownames(EMP_atlas_all) == \"Atf3\", ]"
   ]
  },
  {
   "cell_type": "code",
   "execution_count": null,
   "id": "e61a9296-ccb3-4183-97c3-b8f57d8516e2",
   "metadata": {
    "vscode": {
     "languageId": "r"
    }
   },
   "outputs": [],
   "source": [
    "EMP_multiome_all[rownames(EMP_multiome_all) == \"Atf3\", ]\n"
   ]
  },
  {
   "cell_type": "code",
   "execution_count": null,
   "id": "ee1bfe92-86c4-4ae3-944a-98056c9cf0a5",
   "metadata": {
    "vscode": {
     "languageId": "r"
    }
   },
   "outputs": [],
   "source": [
    "EMP_cmo_all[rownames(EMP_cmo_all) == \"Atf3\", ]\n"
   ]
  },
  {
   "cell_type": "code",
   "execution_count": null,
   "id": "f86e29f6-c089-49cc-8586-412700b549c2",
   "metadata": {
    "vscode": {
     "languageId": "r"
    }
   },
   "outputs": [],
   "source": [
    "EMP_cmo_all[rownames(EMP_cmo_all) == \"Mafb\", ]\n"
   ]
  },
  {
   "cell_type": "code",
   "execution_count": null,
   "id": "b4006d04-290e-461f-a753-adef15ab6543",
   "metadata": {
    "vscode": {
     "languageId": "r"
    }
   },
   "outputs": [],
   "source": [
    "EMP_multiome_all[rownames(EMP_multiome_all) == \"Mafb\", ]\n"
   ]
  },
  {
   "cell_type": "code",
   "execution_count": null,
   "id": "c7c89e99-9f7c-4042-aea7-932f45aad07a",
   "metadata": {
    "vscode": {
     "languageId": "r"
    }
   },
   "outputs": [],
   "source": [
    "EMP_atlas_all[rownames(EMP_atlas_all) == \"Mafb\", ]\n"
   ]
  },
  {
   "cell_type": "code",
   "execution_count": null,
   "id": "c245f7cf-b5c3-4258-aab6-d489660b9e01",
   "metadata": {
    "vscode": {
     "languageId": "r"
    }
   },
   "outputs": [],
   "source": [
    "EMP_TF_extended\n",
    "length(EMP_TF_extended)"
   ]
  },
  {
   "cell_type": "code",
   "execution_count": null,
   "id": "a8185917-ec2c-4789-a379-225ad03732a5",
   "metadata": {
    "vscode": {
     "languageId": "r"
    }
   },
   "outputs": [],
   "source": [
    "options(repr.plot.width=20, repr.plot.height=5)\n",
    "DotPlot(cmo,features = EMP_TF_extended[1:70] )+theme(axis.text.x = element_text(angle= 60, hjust =1, vjust = 1), axis.title = element_blank())\n",
    "DotPlot(cmo,features = EMP_TF_extended[71:140] )+theme(axis.text.x = element_text(angle= 60, hjust =1, vjust = 1), axis.title = element_blank())\n",
    "DotPlot(cmo,features = EMP_TF_extended[141:210] )+theme(axis.text.x = element_text(angle= 60, hjust =1, vjust = 1), axis.title = element_blank())\n",
    "DotPlot(cmo,features = EMP_TF_extended[210:280] )+theme(axis.text.x = element_text(angle= 60, hjust =1, vjust = 1), axis.title = element_blank())\n",
    "DotPlot(cmo,features = EMP_TF_extended[280:310] )+theme(axis.text.x = element_text(angle= 60, hjust =1, vjust = 1), axis.title = element_blank())"
   ]
  },
  {
   "cell_type": "code",
   "execution_count": null,
   "id": "39c48dc6-de1c-4d33-b43d-66d092ea40e4",
   "metadata": {
    "vscode": {
     "languageId": "r"
    }
   },
   "outputs": [],
   "source": [
    "options(repr.plot.width=20, repr.plot.height=10)\n",
    "DotPlot(multiome,features = EMP_TF_extended[1:70] )+theme(axis.text.x = element_text(angle= 60, hjust =1, vjust = 1), axis.title = element_blank())\n",
    "DotPlot(multiome,features = EMP_TF_extended[71:140] )+theme(axis.text.x = element_text(angle= 60, hjust =1, vjust = 1), axis.title = element_blank())\n",
    "DotPlot(multiome,features = EMP_TF_extended[141:210] )+theme(axis.text.x = element_text(angle= 60, hjust =1, vjust = 1), axis.title = element_blank())\n",
    "DotPlot(multiome,features = EMP_TF_extended[210:280] )+theme(axis.text.x = element_text(angle= 60, hjust =1, vjust = 1), axis.title = element_blank())\n",
    "DotPlot(multiome,features = EMP_TF_extended[280:310] )+theme(axis.text.x = element_text(angle= 60, hjust =1, vjust = 1), axis.title = element_blank())"
   ]
  },
  {
   "cell_type": "code",
   "execution_count": null,
   "id": "175ac437-4a6a-4ca2-8bdf-42523121bec6",
   "metadata": {
    "vscode": {
     "languageId": "r"
    }
   },
   "outputs": [],
   "source": [
    "options(repr.plot.width=20, repr.plot.height=20)\n",
    "DotPlot(atlas,features = EMP_TF_extended[1:70] )+theme(axis.text.x = element_text(angle= 60, hjust =1, vjust = 1), axis.title = element_blank())\n",
    "DotPlot(atlas,features = EMP_TF_extended[71:140] )+theme(axis.text.x = element_text(angle= 60, hjust =1, vjust = 1), axis.title = element_blank())\n",
    "DotPlot(atlas,features = EMP_TF_extended[141:210] )+theme(axis.text.x = element_text(angle= 60, hjust =1, vjust = 1), axis.title = element_blank())\n",
    "DotPlot(atlas,features = EMP_TF_extended[210:280] )+theme(axis.text.x = element_text(angle= 60, hjust =1, vjust = 1), axis.title = element_blank())\n",
    "DotPlot(atlas,features = EMP_TF_extended[280:310] )+theme(axis.text.x = element_text(angle= 60, hjust =1, vjust = 1), axis.title = element_blank())"
   ]
  },
  {
   "cell_type": "markdown",
   "id": "39007517-cc1d-465f-8618-de862d00010e",
   "metadata": {},
   "source": [
    "## Share"
   ]
  },
  {
   "cell_type": "code",
   "execution_count": null,
   "id": "9480e21d-3270-4a7d-be3b-98cd9a41d438",
   "metadata": {
    "vscode": {
     "languageId": "r"
    }
   },
   "outputs": [],
   "source": [
    "EMP_TF_shared"
   ]
  },
  {
   "cell_type": "code",
   "execution_count": null,
   "id": "120ff0b1-7466-41a9-a3aa-4c70e1015504",
   "metadata": {
    "vscode": {
     "languageId": "r"
    }
   },
   "outputs": [],
   "source": [
    "length(EMP_TF_shared)"
   ]
  },
  {
   "cell_type": "code",
   "execution_count": null,
   "id": "cc8a2417-3c4a-437a-bc6b-3095b00dc429",
   "metadata": {
    "vscode": {
     "languageId": "r"
    }
   },
   "outputs": [],
   "source": [
    "options(repr.plot.width=20, repr.plot.height=5)\n",
    "DotPlot(cmo,features = EMP_TF_shared[1:75] )+theme(axis.text.x = element_text(angle= 60, hjust =1, vjust = 1), axis.title = element_blank())\n",
    "DotPlot(cmo,features = EMP_TF_shared[76:150] )+theme(axis.text.x = element_text(angle= 60, hjust =1, vjust = 1), axis.title = element_blank())"
   ]
  },
  {
   "cell_type": "code",
   "execution_count": null,
   "id": "cb714374-0a57-4aca-ad89-dd264d1c8057",
   "metadata": {
    "vscode": {
     "languageId": "r"
    }
   },
   "outputs": [],
   "source": [
    "options(repr.plot.width=20, repr.plot.height=10)\n",
    "DotPlot(multiome,features = EMP_TF_shared[1:75] )+theme(axis.text.x = element_text(angle= 60, hjust =1, vjust = 1), axis.title = element_blank())\n",
    "DotPlot(multiome,features = EMP_TF_shared[76:150] )+theme(axis.text.x = element_text(angle= 60, hjust =1, vjust = 1), axis.title = element_blank())"
   ]
  },
  {
   "cell_type": "code",
   "execution_count": null,
   "id": "856668e5-6c65-4348-86f8-3f7dd6c591a8",
   "metadata": {
    "scrolled": true,
    "vscode": {
     "languageId": "r"
    }
   },
   "outputs": [],
   "source": [
    "options(repr.plot.width=20, repr.plot.height=20)\n",
    "DotPlot(atlas,features = EMP_TF_shared[1:75] )+theme(axis.text.x = element_text(angle= 60, hjust =1, vjust = 1), axis.title = element_blank())\n",
    "DotPlot(atlas,features = EMP_TF_shared[76:150] )+theme(axis.text.x = element_text(angle= 60, hjust =1, vjust = 1), axis.title = element_blank())"
   ]
  },
  {
   "cell_type": "code",
   "execution_count": null,
   "id": "70fb5bc8-abaf-478c-b972-af3d4505aad4",
   "metadata": {
    "vscode": {
     "languageId": "r"
    }
   },
   "outputs": [],
   "source": [
    "getwd()"
   ]
  },
  {
   "cell_type": "code",
   "execution_count": null,
   "id": "57a1d8f8-7285-4d82-9e7a-6ee45dfe470d",
   "metadata": {
    "vscode": {
     "languageId": "r"
    }
   },
   "outputs": [],
   "source": [
    "saveRDS(EMP_TF_extended, \"./EMP_TF_extended.rds\")\n",
    "saveRDS(EMP_TF_shared, \"./EMP_TF_shared.rds\")\n",
    "saveRDS(EMP_cmo_all, \"./EMP_cmo_all_sign.rds\")\n",
    "saveRDS(EMP_multiome_all, \"./EMP_multiome_all_sign.rds\")\n",
    "saveRDS(EMP_atlas_all, \"./EMP_atlas_all_sign.rds\")\n"
   ]
  },
  {
   "cell_type": "markdown",
   "id": "e9a17a30-3050-4875-920b-bfdc8cefb9ea",
   "metadata": {},
   "source": [
    "# Atf3 Degs"
   ]
  },
  {
   "cell_type": "code",
   "execution_count": null,
   "id": "f87c5282-7379-45ee-bf63-895b20479ff0",
   "metadata": {
    "vscode": {
     "languageId": "r"
    }
   },
   "outputs": [],
   "source": [
    "atf3_deges <- read.delim(\"~/PhD_Projects/CMO/Bioinformatic_Analysis/step5_DGEA_DESeq2/DESeq2_results/Combined_Atf3/Atf3_degs_0.txt\")\n",
    "head(atf3_deges)"
   ]
  },
  {
   "cell_type": "code",
   "execution_count": null,
   "id": "9dae1fbc-eea9-4474-8f85-b1526b66ba9e",
   "metadata": {
    "vscode": {
     "languageId": "r"
    }
   },
   "outputs": [],
   "source": [
    "table(atf3_deges$gene %in% EMP_TF_extended)\n",
    "table(atf3_deges$gene %in% EMP_TF_shared)"
   ]
  },
  {
   "cell_type": "code",
   "execution_count": null,
   "id": "997d6a56-ce51-4cb3-a844-89eb6ed16e92",
   "metadata": {
    "vscode": {
     "languageId": "r"
    }
   },
   "outputs": [],
   "source": [
    "atf3_deges$gene[atf3_deges$gene %in% EMP_TF_extended]"
   ]
  },
  {
   "cell_type": "code",
   "execution_count": null,
   "id": "daf3c6de-aab8-4caf-9410-9212a3a7dc25",
   "metadata": {
    "vscode": {
     "languageId": "r"
    }
   },
   "outputs": [],
   "source": [
    "atf3_deges$gene[atf3_deges$gene %in% EMP_TF_shared]"
   ]
  },
  {
   "cell_type": "code",
   "execution_count": null,
   "id": "328642df-0be7-4105-aee9-677268579ce8",
   "metadata": {
    "vscode": {
     "languageId": "r"
    }
   },
   "outputs": [],
   "source": [
    "AP-1 (Activator Protein-1) Complex\n",
    "Fos, Fosb, Jun, Jund, Atf3, Batf3, Creb5\n",
    "\n",
    "AP-1 is a well-known transcription factor complex. It is a dimer typically made up of proteins belonging to the Fos (Fos, FosB) and Jun (Jun, JunD) families, as well as ATF and CREB proteins.\n",
    "\n",
    "ATF3 and BATF3 can heterodimerize with Jun/Fos family proteins.\n",
    "\n",
    "CREB5 is a member of the CREB/ATF family and may dimerize with other bZIP proteins, including Jun/Fos."
   ]
  },
  {
   "cell_type": "code",
   "execution_count": null,
   "id": "eb94f3b3-ab28-4945-a5d7-0f9c05f1498d",
   "metadata": {
    "vscode": {
     "languageId": "r"
    }
   },
   "outputs": [],
   "source": [
    "STAT Complexes\n",
    "Stat1\n",
    "\n",
    "STAT proteins (Signal Transducer and Activator of Transcription) can form homodimers or heterodimers with other STAT family members (e.g., Stat1–Stat2, Stat1–Stat3, etc.), often upon cytokine signaling.\n",
    "\n",
    "Irf7, Irf9\n",
    "\n",
    "IRF9 forms a well-known complex with STAT1 and STAT2, called the ISGF3 complex (Interferon-Stimulated Gene Factor 3), which regulates interferon-stimulated genes."
   ]
  },
  {
   "cell_type": "code",
   "execution_count": null,
   "id": "ccb32cbd-e09e-4418-bdf8-ba9ed7e67405",
   "metadata": {
    "vscode": {
     "languageId": "r"
    }
   },
   "outputs": [],
   "source": [
    "Other Complexes / Partnerships\n",
    "Egr1, Hmga2, Id2, Klf2, Parp12, Rbpj, Runx1, Sp100, Trps1, Zeb2, Zfp608\n",
    "\n",
    "These are typically transcription factors or regulators and do not usually form a single, stable, named complex with the above AP-1 or STAT/IRF family proteins. They may interact transiently with co-factors or be part of larger transcriptional complexes but are not known for forming a stable, named protein complex with each other.\n",
    "\n",
    "Rbpj is the key DNA-binding component of the Notch transcription complex (with the Notch intracellular domain).\n",
    "\n",
    "Runx1 forms complexes with CBFβ (core-binding factor beta).\n",
    "\n",
    "Hmga2 binds DNA and may associate with other factors in the enhanceosome, but not as a stable, defined complex with the others listed.\n",
    "\n",
    "Sp100 is part of nuclear bodies (PML bodies), but this is a large, multi-protein assembly, not a classical transcription factor dimer.\n",
    "\n",
    "Id2 is an inhibitor of DNA binding/dimerization for some bHLH proteins."
   ]
  },
  {
   "cell_type": "code",
   "execution_count": null,
   "id": "fa857db7-4400-4216-b041-8db93ec02717",
   "metadata": {
    "vscode": {
     "languageId": "r"
    }
   },
   "outputs": [],
   "source": []
  },
  {
   "cell_type": "code",
   "execution_count": null,
   "id": "b0c8ddea-91ed-4b6f-a36c-1d9ab4f7a925",
   "metadata": {
    "vscode": {
     "languageId": "r"
    }
   },
   "outputs": [],
   "source": [
    "FeaturePlot(atlas, features = 'Egr1', order = TRUE, reduction = 'UMAP', raster = FALSE)"
   ]
  },
  {
   "cell_type": "code",
   "execution_count": null,
   "id": "12cea908-127f-49cc-8a47-b6d16914d85f",
   "metadata": {
    "vscode": {
     "languageId": "r"
    }
   },
   "outputs": [],
   "source": [
    "FeaturePlot(atlas, features = 'Fos', order = FALSE, reduction = 'UMAP',alpha = 0.5, raster = FALSE)"
   ]
  },
  {
   "cell_type": "code",
   "execution_count": null,
   "id": "8a8f570b-3356-44f6-b41b-7b4a646ea34b",
   "metadata": {
    "vscode": {
     "languageId": "r"
    }
   },
   "outputs": [],
   "source": []
  },
  {
   "cell_type": "code",
   "execution_count": null,
   "id": "fbdc1710-cc57-4f9f-bfcf-62c9efc833dd",
   "metadata": {
    "vscode": {
     "languageId": "r"
    }
   },
   "outputs": [],
   "source": []
  },
  {
   "cell_type": "code",
   "execution_count": null,
   "id": "f5ddfbd6-76c4-46fd-90e3-fa0c665d531f",
   "metadata": {
    "vscode": {
     "languageId": "r"
    }
   },
   "outputs": [],
   "source": [
    "sessionDetails()"
   ]
  },
  {
   "cell_type": "code",
   "execution_count": null,
   "id": "f7e7a14d-b95e-4695-9e3f-63e797265399",
   "metadata": {
    "vscode": {
     "languageId": "r"
    }
   },
   "outputs": [],
   "source": [
    "sessionInfo()"
   ]
  },
  {
   "cell_type": "markdown",
   "id": "1b808774-195a-415a-94ff-edb6e98e5e02",
   "metadata": {},
   "source": [
    "# For Jente"
   ]
  },
  {
   "cell_type": "code",
   "execution_count": null,
   "id": "8db26b62-0e7f-49a8-87f8-6687789eee72",
   "metadata": {
    "vscode": {
     "languageId": "r"
    }
   },
   "outputs": [],
   "source": [
    "multiome"
   ]
  },
  {
   "cell_type": "code",
   "execution_count": null,
   "id": "9aa40c85-a762-48ed-a17a-ece05c77d3d7",
   "metadata": {
    "vscode": {
     "languageId": "r"
    }
   },
   "outputs": [],
   "source": [
    "options(repr.plot.width=12, repr.plot.height=9)\n",
    "DimPlot(multiome, reduction = 'harmony_umap3', label = TRUE, cols = r3dcol$cols_46)+ NoLegend()\n",
    "DimPlot(cmo, reduction = 'UMAP', label = TRUE, cols = r3dcol$cols_46)+ NoLegend()\n",
    "DimPlot(atlas, reduction = 'UMAP',raster = FALSE, label = TRUE, cols = r3dcol$cols_94)+ NoLegend()"
   ]
  },
  {
   "cell_type": "code",
   "execution_count": null,
   "id": "aac66ad9-9f48-4f39-abe7-9886d7a959df",
   "metadata": {
    "vscode": {
     "languageId": "r"
    }
   },
   "outputs": [],
   "source": [
    "options(repr.plot.width=9, repr.plot.height=9)\n",
    "FeaturePlot(multiome, reduction = 'harmony_umap3',features = \"Atf3\", order = TRUE)+ NoLegend()\n",
    "FeaturePlot(cmo, reduction = 'UMAP',features = \"Atf3\", order = TRUE)+ NoLegend()\n",
    "FeaturePlot(atlas, reduction = 'UMAP',features = \"Atf3\", order = TRUE,raster = FALSE)+ NoLegend()"
   ]
  },
  {
   "cell_type": "code",
   "execution_count": null,
   "id": "cd770373-8a4b-4135-b9c5-73c0c8ed707f",
   "metadata": {
    "vscode": {
     "languageId": "r"
    }
   },
   "outputs": [],
   "source": [
    "options(repr.plot.width=9, repr.plot.height=9)\n",
    "FeaturePlot(multiome, reduction = 'harmony_umap3',features = \"Dlx2\", order = TRUE)+ NoLegend()\n",
    "FeaturePlot(cmo, reduction = 'UMAP',features = \"Dlx2\", order = TRUE)+ NoLegend()\n",
    "FeaturePlot(atlas, reduction = 'UMAP',features = \"Dlx2\", order = TRUE,raster = FALSE)+ NoLegend()"
   ]
  },
  {
   "cell_type": "code",
   "execution_count": null,
   "id": "4ff1a9ba-2391-4e37-bc5b-d3631bf041b9",
   "metadata": {
    "vscode": {
     "languageId": "r"
    }
   },
   "outputs": [],
   "source": [
    "options(repr.plot.width=9, repr.plot.height=9)\n",
    "FeaturePlot(multiome, reduction = 'harmony_umap3',features = \"Hoxd13\", order = TRUE)+ NoLegend()\n",
    "FeaturePlot(cmo, reduction = 'UMAP',features = \"Hoxd13\", order = TRUE)+ NoLegend()\n",
    "FeaturePlot(atlas, reduction = 'UMAP',features = \"Hoxd13\", order = TRUE,raster = FALSE)+ NoLegend()"
   ]
  },
  {
   "cell_type": "code",
   "execution_count": null,
   "id": "db915f9e-55ec-4196-a91b-0b17b49984fe",
   "metadata": {
    "vscode": {
     "languageId": "r"
    }
   },
   "outputs": [],
   "source": [
    "options(repr.plot.width=9, repr.plot.height=9)\n",
    "FeaturePlot(multiome, reduction = 'harmony_umap3',features = \"Hoxd11\", order = TRUE)+ NoLegend()\n",
    "FeaturePlot(cmo, reduction = 'UMAP',features = \"Hoxd11\", order = TRUE)+ NoLegend()\n",
    "FeaturePlot(atlas, reduction = 'UMAP',features = \"Hoxd11\", order = TRUE,raster = FALSE)+ NoLegend()"
   ]
  },
  {
   "cell_type": "code",
   "execution_count": null,
   "id": "977acfbc-1209-42eb-aa4b-750342eafa5a",
   "metadata": {
    "vscode": {
     "languageId": "r"
    }
   },
   "outputs": [],
   "source": [
    "options(repr.plot.width=9, repr.plot.height=9)\n",
    "FeaturePlot(multiome, reduction = 'harmony_umap3',features = \"Hoxd10\", order = TRUE)+ NoLegend()\n",
    "FeaturePlot(cmo, reduction = 'UMAP',features = \"Hoxd10\", order = TRUE)+ NoLegend()\n",
    "FeaturePlot(atlas, reduction = 'UMAP',features = \"Hoxd10\", order = TRUE,raster = FALSE)+ NoLegend()"
   ]
  },
  {
   "cell_type": "code",
   "execution_count": null,
   "id": "191ac04f-44be-4029-8713-b51cd4247f36",
   "metadata": {
    "vscode": {
     "languageId": "r"
    }
   },
   "outputs": [],
   "source": [
    "options(repr.plot.width=9, repr.plot.height=9)\n",
    "FeaturePlot(multiome, reduction = 'harmony_umap3',features = \"Hoxd9\", order = TRUE)+ NoLegend()\n",
    "FeaturePlot(cmo, reduction = 'UMAP',features = \"Hoxd9\", order = TRUE)+ NoLegend()\n",
    "FeaturePlot(atlas, reduction = 'UMAP',features = \"Hoxd9\", order = TRUE,raster = FALSE)+ NoLegend()"
   ]
  },
  {
   "cell_type": "code",
   "execution_count": null,
   "id": "f98e44c1-6cc7-4916-b857-4f3f241fc820",
   "metadata": {
    "vscode": {
     "languageId": "r"
    }
   },
   "outputs": [],
   "source": [
    "options(repr.plot.width=9, repr.plot.height=9)\n",
    "FeaturePlot(multiome, reduction = 'harmony_umap3',features = \"Hoxd8\", order = TRUE)+ NoLegend()\n",
    "FeaturePlot(cmo, reduction = 'UMAP',features = \"Hoxd8\", order = TRUE)+ NoLegend()\n",
    "FeaturePlot(atlas, reduction = 'UMAP',features = \"Hoxd8\", order = TRUE,raster = FALSE)+ NoLegend()"
   ]
  },
  {
   "cell_type": "code",
   "execution_count": null,
   "id": "4eae290f-73a9-426f-8784-66f0b459b83e",
   "metadata": {
    "vscode": {
     "languageId": "r"
    }
   },
   "outputs": [],
   "source": [
    "options(repr.plot.width=9, repr.plot.height=9)\n",
    "FeaturePlot(multiome, reduction = 'harmony_umap3',features = \"Hoxd4\", order = TRUE)+ NoLegend()\n",
    "FeaturePlot(cmo, reduction = 'UMAP',features = \"Hoxd4\", order = TRUE)+ NoLegend()\n",
    "FeaturePlot(atlas, reduction = 'UMAP',features = \"Hoxd4\", order = TRUE,raster = FALSE)+ NoLegend()"
   ]
  },
  {
   "cell_type": "code",
   "execution_count": null,
   "id": "cb460302-5b98-4760-b045-e22bffe7c5e4",
   "metadata": {
    "vscode": {
     "languageId": "r"
    }
   },
   "outputs": [],
   "source": [
    "options(repr.plot.width=20, repr.plot.height=5)\n",
    "DotPlot(cmo,features = \"Jdp2\" )+theme(axis.text.x = element_text(angle= 60, hjust =1, vjust = 1), axis.title = element_blank())\n"
   ]
  },
  {
   "cell_type": "code",
   "execution_count": null,
   "id": "ba1ee1b5-229f-4563-b498-62accca79665",
   "metadata": {
    "vscode": {
     "languageId": "r"
    }
   },
   "outputs": [],
   "source": [
    "options(repr.plot.width=20, repr.plot.height=15)\n",
    "DotPlot(atlas,features = \"Jdp2\" )+theme(axis.text.x = element_text(angle= 60, hjust =1, vjust = 1), axis.title = element_blank())\n"
   ]
  },
  {
   "cell_type": "code",
   "execution_count": null,
   "id": "c4978660-2976-4c8a-8c38-8d07bfc2915c",
   "metadata": {
    "vscode": {
     "languageId": "r"
    }
   },
   "outputs": [],
   "source": []
  }
 ],
 "metadata": {
  "kernelspec": {
   "display_name": "R",
   "language": "R",
   "name": "ir"
  },
  "language_info": {
   "codemirror_mode": "r",
   "file_extension": ".r",
   "mimetype": "text/x-r-source",
   "name": "R",
   "pygments_lexer": "r",
   "version": "4.5.1"
  }
 },
 "nbformat": 4,
 "nbformat_minor": 5
}
