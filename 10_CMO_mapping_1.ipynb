{
 "cells": [
  {
   "cell_type": "code",
   "execution_count": null,
   "id": "31d12aef-b71d-45c5-9e7f-5378c71fd8bb",
   "metadata": {
    "vscode": {
     "languageId": "r"
    }
   },
   "outputs": [],
   "source": [
    "# Mapping the cell type's from Extended Mouse Gastrulation Atlas\n"
   ]
  },
  {
   "cell_type": "code",
   "execution_count": null,
   "id": "3845908d-769b-47ea-8d91-657af95b4c4e",
   "metadata": {
    "vscode": {
     "languageId": "r"
    }
   },
   "outputs": [],
   "source": []
  },
  {
   "cell_type": "markdown",
   "id": "72404a59-6e38-4627-b626-1c9c2d86d1dd",
   "metadata": {},
   "source": [
    "# Loading the settings, utils and objects"
   ]
  },
  {
   "cell_type": "code",
   "execution_count": 1,
   "id": "59839f14-811b-4a15-8573-2f9a21111697",
   "metadata": {
    "vscode": {
     "languageId": "r"
    }
   },
   "outputs": [],
   "source": [
    "source(\"/home/ridvan/scRIPT/settings.R\")\n",
    "source(\"/home/ridvan/scRIPT/utils.R\")"
   ]
  },
  {
   "cell_type": "code",
   "execution_count": 2,
   "id": "7a31776e-fb1f-4542-800c-4e7c04b249ae",
   "metadata": {
    "vscode": {
     "languageId": "r"
    }
   },
   "outputs": [
    {
     "data": {
      "text/html": [
       "'/home/ridvan/PhD_Projects/CMO/Bioinformatic_Analysis/step10_mapping'"
      ],
      "text/latex": [
       "'/home/ridvan/PhD\\_Projects/CMO/Bioinformatic\\_Analysis/step10\\_mapping'"
      ],
      "text/markdown": [
       "'/home/ridvan/PhD_Projects/CMO/Bioinformatic_Analysis/step10_mapping'"
      ],
      "text/plain": [
       "[1] \"/home/ridvan/PhD_Projects/CMO/Bioinformatic_Analysis/step10_mapping\""
      ]
     },
     "metadata": {},
     "output_type": "display_data"
    }
   ],
   "source": [
    "BPPARAM <- BiocParallel::bpparam()\n",
    "BPPARAM$workers = 30\n",
    "\n",
    "# Multi core using future - built in to seurat\n",
    "plan(\"multicore\", workers = 30)\n",
    "options(future.globals.maxSize = 300 * 1024 ^ 3) # for 300 Gb RAM\n",
    "\n",
    "getwd()"
   ]
  },
  {
   "cell_type": "code",
   "execution_count": 3,
   "id": "5763865e-88ee-4db5-bd7d-e1b4dcba5157",
   "metadata": {
    "vscode": {
     "languageId": "r"
    }
   },
   "outputs": [
    {
     "data": {
      "text/html": [
       "'/home/ridvan/scRIPT/000_io_dir/outputs/rds_files/'"
      ],
      "text/latex": [
       "'/home/ridvan/scRIPT/000\\_io\\_dir/outputs/rds\\_files/'"
      ],
      "text/markdown": [
       "'/home/ridvan/scRIPT/000_io_dir/outputs/rds_files/'"
      ],
      "text/plain": [
       "[1] \"/home/ridvan/scRIPT/000_io_dir/outputs/rds_files/\""
      ]
     },
     "metadata": {},
     "output_type": "display_data"
    }
   ],
   "source": [
    "io$output_rds_dir"
   ]
  },
  {
   "cell_type": "code",
   "execution_count": 4,
   "id": "961460ca-c718-4da5-bbc2-83d27cd9744d",
   "metadata": {
    "vscode": {
     "languageId": "r"
    }
   },
   "outputs": [],
   "source": [
    "atlas <- readRDS(paste0(io$output_rds_dir, 'extended_atlas_cellranger_features_seurat.rds'))"
   ]
  },
  {
   "cell_type": "code",
   "execution_count": 5,
   "id": "b695f04d-c68e-4b91-849d-30da803f7b99",
   "metadata": {
    "scrolled": true,
    "vscode": {
     "languageId": "r"
    }
   },
   "outputs": [
    {
     "data": {
      "text/plain": [
       "An object of class Seurat \n",
       "27669 features across 430339 samples within 1 assay \n",
       "Active assay: originalexp (27669 features, 0 variable features)\n",
       " 2 layers present: counts, data\n",
       " 2 dimensional reductions calculated: UMAP, PCA"
      ]
     },
     "metadata": {},
     "output_type": "display_data"
    }
   ],
   "source": [
    "atlas"
   ]
  },
  {
   "cell_type": "code",
   "execution_count": 6,
   "id": "931ad796-25c7-4d1a-be51-4186d2aabdce",
   "metadata": {
    "vscode": {
     "languageId": "r"
    }
   },
   "outputs": [
    {
     "data": {
      "text/plain": [
       "An object of class Seurat \n",
       "27998 features across 71107 samples within 1 assay \n",
       "Active assay: RNA (27998 features, 0 variable features)\n",
       " 2 layers present: counts, data\n",
       " 6 dimensional reductions calculated: OLDPCA, OLDUMAP, OLDTSNE, PCA, UMAP, UMAP3D"
      ]
     },
     "metadata": {},
     "output_type": "display_data"
    }
   ],
   "source": [
    "obj <- readRDS('../../cmoy2_reup.RDS')\n",
    "obj"
   ]
  },
  {
   "cell_type": "code",
   "execution_count": 7,
   "id": "d9eff3d9-22d8-44a2-8dbf-62b0cfbf570f",
   "metadata": {
    "vscode": {
     "languageId": "r"
    }
   },
   "outputs": [
    {
     "data": {
      "text/plain": [
       "\n",
       "     Naive       Epib        PST     EcXSfn   EcXCldn3   EcXAnxa1        PGC \n",
       "      1135        982        557        445        500        120        474 \n",
       "   PSMesp1    EnXFgf5     EnXTtr  MesoMixl1     bFgf15   bCacna1d     bNrxn3 \n",
       "       503        171        223       1577       1947       2435       1239 \n",
       "   bStard8     bUpk3b    bPlxna4     aGreb1     aDach1     aActc1    aIgfbp7 \n",
       "      2454       5853      10050       1836       3351       5179       5863 \n",
       "   aWnt2G1 aFgf12SG2M    baIfit1        BPr      Ery1a      Ery1b       Ery2 \n",
       "      8355       6286        202       1025        971        502        487 \n",
       "      Ery3      MegP1      MegP2      MegP3 EndGadd45g    EndCdh5 EndCyp26b1 \n",
       "      1438        345        106        407        807        731        199 \n",
       "  EndRsad2    EMPNrg1  EMPIl17ra    EMPCcl4   EMPSepp1 \n",
       "        54        427        309        738        824 "
      ]
     },
     "metadata": {},
     "output_type": "display_data"
    }
   ],
   "source": [
    "table(obj$lv_subclusters)"
   ]
  },
  {
   "cell_type": "markdown",
   "id": "cc3d0fd7-63fe-44c5-9a44-0f3a819d5bf1",
   "metadata": {},
   "source": [
    "# Creating Integrated version of the Atlas\n",
    "\n"
   ]
  },
  {
   "cell_type": "code",
   "execution_count": 8,
   "id": "aace67d9-4e6a-4543-8850-ca621489f0c7",
   "metadata": {
    "vscode": {
     "languageId": "r"
    }
   },
   "outputs": [],
   "source": [
    "# Calculate and add percentage of mitochondrial genes\n",
    "atlas[[\"percent.mt\"]] <- PercentageFeatureSet(atlas, pattern = \"^mt-\")\n",
    "\n",
    "# Calculate and add percentage of ribosomal genes\n",
    "atlas[[\"percent.ribo\"]] <- PercentageFeatureSet(atlas, pattern = \"(^Rpl|^Rps)\")"
   ]
  },
  {
   "cell_type": "markdown",
   "id": "69743385-1ec6-48e1-9375-04ee0367950b",
   "metadata": {},
   "source": [
    "# Subsetting the Atlas for compute-lite version"
   ]
  },
  {
   "cell_type": "markdown",
   "id": "29a66b9d-2a80-4d35-a6fe-af76d1d35506",
   "metadata": {},
   "source": [
    "I will match the number of the cells for each stage to number of the cells in mixed_gastrulation stage which is 7455 cells"
   ]
  },
  {
   "cell_type": "code",
   "execution_count": 9,
   "id": "73eca080-73a5-4d8b-ae31-91595cb84e57",
   "metadata": {
    "vscode": {
     "languageId": "r"
    }
   },
   "outputs": [
    {
     "data": {
      "text/html": [
       "<style>\n",
       ".list-inline {list-style: none; margin:0; padding: 0}\n",
       ".list-inline>li {display: inline-block}\n",
       ".list-inline>li:not(:last-child)::after {content: \"\\00b7\"; padding: 0 .5ex}\n",
       "</style>\n",
       "<ol class=list-inline><li>'E6.5'</li><li>'E7.5'</li><li>'E6.75'</li><li>'E7.75'</li><li>'E7.0'</li><li>'E8.0'</li><li>'E8.5'</li><li>'Mixed gastrulation'</li><li>'E7.25'</li><li>'E8.25'</li><li>'E9.0'</li><li>'E8.75'</li><li>'E9.25'</li><li>'E9.5'</li></ol>\n"
      ],
      "text/latex": [
       "\\begin{enumerate*}\n",
       "\\item 'E6.5'\n",
       "\\item 'E7.5'\n",
       "\\item 'E6.75'\n",
       "\\item 'E7.75'\n",
       "\\item 'E7.0'\n",
       "\\item 'E8.0'\n",
       "\\item 'E8.5'\n",
       "\\item 'Mixed gastrulation'\n",
       "\\item 'E7.25'\n",
       "\\item 'E8.25'\n",
       "\\item 'E9.0'\n",
       "\\item 'E8.75'\n",
       "\\item 'E9.25'\n",
       "\\item 'E9.5'\n",
       "\\end{enumerate*}\n"
      ],
      "text/markdown": [
       "1. 'E6.5'\n",
       "2. 'E7.5'\n",
       "3. 'E6.75'\n",
       "4. 'E7.75'\n",
       "5. 'E7.0'\n",
       "6. 'E8.0'\n",
       "7. 'E8.5'\n",
       "8. 'Mixed gastrulation'\n",
       "9. 'E7.25'\n",
       "10. 'E8.25'\n",
       "11. 'E9.0'\n",
       "12. 'E8.75'\n",
       "13. 'E9.25'\n",
       "14. 'E9.5'\n",
       "\n",
       "\n"
      ],
      "text/plain": [
       " [1] \"E6.5\"               \"E7.5\"               \"E6.75\"             \n",
       " [4] \"E7.75\"              \"E7.0\"               \"E8.0\"              \n",
       " [7] \"E8.5\"               \"Mixed gastrulation\" \"E7.25\"             \n",
       "[10] \"E8.25\"              \"E9.0\"               \"E8.75\"             \n",
       "[13] \"E9.25\"              \"E9.5\"              "
      ]
     },
     "metadata": {},
     "output_type": "display_data"
    }
   ],
   "source": [
    "Idents(atlas) <- atlas$stage\n",
    "levels(Idents(atlas))"
   ]
  },
  {
   "cell_type": "code",
   "execution_count": 10,
   "id": "813891e3-f7dc-4c2a-916f-f32ac4632d8b",
   "metadata": {
    "scrolled": true,
    "vscode": {
     "languageId": "r"
    }
   },
   "outputs": [
    {
     "data": {
      "text/plain": [
       "\n",
       "              E6.5              E6.75               E7.0              E7.25 \n",
       "              3484               2075              14749              13537 \n",
       "              E7.5              E7.75               E8.0              E8.25 \n",
       "             10994              14493              16681              15935 \n",
       "              E8.5              E8.75               E9.0              E9.25 \n",
       "             58072              68910              93020              71303 \n",
       "              E9.5 Mixed gastrulation \n",
       "             39631               7455 "
      ]
     },
     "metadata": {},
     "output_type": "display_data"
    }
   ],
   "source": [
    "table(atlas$stage)"
   ]
  },
  {
   "cell_type": "code",
   "execution_count": 11,
   "id": "e5bc0363-0366-4b31-bb50-bfb4a658aa87",
   "metadata": {
    "vscode": {
     "languageId": "r"
    }
   },
   "outputs": [
    {
     "data": {
      "text/html": [
       "2075"
      ],
      "text/latex": [
       "2075"
      ],
      "text/markdown": [
       "2075"
      ],
      "text/plain": [
       "[1] 2075"
      ]
     },
     "metadata": {},
     "output_type": "display_data"
    },
    {
     "data": {
      "text/html": [
       "93020"
      ],
      "text/latex": [
       "93020"
      ],
      "text/markdown": [
       "93020"
      ],
      "text/plain": [
       "[1] 93020"
      ]
     },
     "metadata": {},
     "output_type": "display_data"
    }
   ],
   "source": [
    "min(table(atlas$stage))\n",
    "max(table(atlas$stage))"
   ]
  },
  {
   "cell_type": "code",
   "execution_count": 12,
   "id": "f8c164d1-bdfb-4479-a36a-a6eb490de679",
   "metadata": {
    "vscode": {
     "languageId": "r"
    }
   },
   "outputs": [
    {
     "data": {
      "text/plain": [
       "An object of class Seurat \n",
       "27669 features across 430339 samples within 1 assay \n",
       "Active assay: originalexp (27669 features, 0 variable features)\n",
       " 2 layers present: counts, data\n",
       " 2 dimensional reductions calculated: UMAP, PCA"
      ]
     },
     "metadata": {},
     "output_type": "display_data"
    }
   ],
   "source": [
    "atlas"
   ]
  },
  {
   "cell_type": "code",
   "execution_count": 13,
   "id": "f3ac6d39-1717-42c1-b348-bf7c530fa6c2",
   "metadata": {
    "vscode": {
     "languageId": "r"
    }
   },
   "outputs": [],
   "source": [
    "atlas <- subset(atlas, downsample = 7455)"
   ]
  },
  {
   "cell_type": "code",
   "execution_count": 14,
   "id": "4f00f4c9-9360-4c91-b3b2-4d1b536614cf",
   "metadata": {
    "scrolled": true,
    "vscode": {
     "languageId": "r"
    }
   },
   "outputs": [
    {
     "data": {
      "text/plain": [
       "An object of class Seurat \n",
       "27669 features across 95019 samples within 1 assay \n",
       "Active assay: originalexp (27669 features, 0 variable features)\n",
       " 2 layers present: counts, data\n",
       " 2 dimensional reductions calculated: UMAP, PCA"
      ]
     },
     "metadata": {},
     "output_type": "display_data"
    }
   ],
   "source": [
    "atlas"
   ]
  },
  {
   "cell_type": "markdown",
   "id": "4d33fc70-61d4-45ad-8caf-8cd4222b6326",
   "metadata": {},
   "source": [
    "## Filtering out uninformative genes"
   ]
  },
  {
   "cell_type": "code",
   "execution_count": 15,
   "id": "8348ab53-125b-4051-9c7f-b3dab5d00ac6",
   "metadata": {
    "vscode": {
     "languageId": "r"
    }
   },
   "outputs": [
    {
     "data": {
      "text/html": [
       "27669"
      ],
      "text/latex": [
       "27669"
      ],
      "text/markdown": [
       "27669"
      ],
      "text/plain": [
       "[1] 27669"
      ]
     },
     "metadata": {},
     "output_type": "display_data"
    }
   ],
   "source": [
    "# Intersect genes\n",
    "genes.intersect <- intersect(rownames(obj),  rownames(atlas))\n",
    "length(genes.intersect)"
   ]
  },
  {
   "cell_type": "code",
   "execution_count": 16,
   "id": "54ccc1d1-0e6d-4f44-96ac-fee8c26dbcfc",
   "metadata": {
    "vscode": {
     "languageId": "r"
    }
   },
   "outputs": [
    {
     "data": {
      "text/html": [
       "<table class=\"dataframe\">\n",
       "<caption>A data.frame: 6 × 7</caption>\n",
       "<thead>\n",
       "\t<tr><th></th><th scope=col>seqnames</th><th scope=col>start</th><th scope=col>end</th><th scope=col>width</th><th scope=col>strand</th><th scope=col>gene_id</th><th scope=col>gene_name</th></tr>\n",
       "\t<tr><th></th><th scope=col>&lt;fct&gt;</th><th scope=col>&lt;int&gt;</th><th scope=col>&lt;int&gt;</th><th scope=col>&lt;int&gt;</th><th scope=col>&lt;fct&gt;</th><th scope=col>&lt;chr&gt;</th><th scope=col>&lt;chr&gt;</th></tr>\n",
       "</thead>\n",
       "<tbody>\n",
       "\t<tr><th scope=row>ENSMUSG00000102693</th><td>1</td><td>3073253</td><td>3074322</td><td>  1070</td><td>+</td><td>ENSMUSG00000102693</td><td>RP23-271O17.1</td></tr>\n",
       "\t<tr><th scope=row>ENSMUSG00000064842</th><td>1</td><td>3102016</td><td>3102125</td><td>   110</td><td>+</td><td>ENSMUSG00000064842</td><td>Gm26206      </td></tr>\n",
       "\t<tr><th scope=row>ENSMUSG00000051951</th><td>1</td><td>3205901</td><td>3671498</td><td>465598</td><td>-</td><td>ENSMUSG00000051951</td><td>Xkr4         </td></tr>\n",
       "\t<tr><th scope=row>ENSMUSG00000102851</th><td>1</td><td>3252757</td><td>3253236</td><td>   480</td><td>+</td><td>ENSMUSG00000102851</td><td>RP23-317L18.1</td></tr>\n",
       "\t<tr><th scope=row>ENSMUSG00000103377</th><td>1</td><td>3365731</td><td>3368549</td><td>  2819</td><td>-</td><td>ENSMUSG00000103377</td><td>RP23-317L18.4</td></tr>\n",
       "\t<tr><th scope=row>ENSMUSG00000104017</th><td>1</td><td>3375556</td><td>3377788</td><td>  2233</td><td>-</td><td>ENSMUSG00000104017</td><td>RP23-317L18.3</td></tr>\n",
       "</tbody>\n",
       "</table>\n"
      ],
      "text/latex": [
       "A data.frame: 6 × 7\n",
       "\\begin{tabular}{r|lllllll}\n",
       "  & seqnames & start & end & width & strand & gene\\_id & gene\\_name\\\\\n",
       "  & <fct> & <int> & <int> & <int> & <fct> & <chr> & <chr>\\\\\n",
       "\\hline\n",
       "\tENSMUSG00000102693 & 1 & 3073253 & 3074322 &   1070 & + & ENSMUSG00000102693 & RP23-271O17.1\\\\\n",
       "\tENSMUSG00000064842 & 1 & 3102016 & 3102125 &    110 & + & ENSMUSG00000064842 & Gm26206      \\\\\n",
       "\tENSMUSG00000051951 & 1 & 3205901 & 3671498 & 465598 & - & ENSMUSG00000051951 & Xkr4         \\\\\n",
       "\tENSMUSG00000102851 & 1 & 3252757 & 3253236 &    480 & + & ENSMUSG00000102851 & RP23-317L18.1\\\\\n",
       "\tENSMUSG00000103377 & 1 & 3365731 & 3368549 &   2819 & - & ENSMUSG00000103377 & RP23-317L18.4\\\\\n",
       "\tENSMUSG00000104017 & 1 & 3375556 & 3377788 &   2233 & - & ENSMUSG00000104017 & RP23-317L18.3\\\\\n",
       "\\end{tabular}\n"
      ],
      "text/markdown": [
       "\n",
       "A data.frame: 6 × 7\n",
       "\n",
       "| <!--/--> | seqnames &lt;fct&gt; | start &lt;int&gt; | end &lt;int&gt; | width &lt;int&gt; | strand &lt;fct&gt; | gene_id &lt;chr&gt; | gene_name &lt;chr&gt; |\n",
       "|---|---|---|---|---|---|---|---|\n",
       "| ENSMUSG00000102693 | 1 | 3073253 | 3074322 |   1070 | + | ENSMUSG00000102693 | RP23-271O17.1 |\n",
       "| ENSMUSG00000064842 | 1 | 3102016 | 3102125 |    110 | + | ENSMUSG00000064842 | Gm26206       |\n",
       "| ENSMUSG00000051951 | 1 | 3205901 | 3671498 | 465598 | - | ENSMUSG00000051951 | Xkr4          |\n",
       "| ENSMUSG00000102851 | 1 | 3252757 | 3253236 |    480 | + | ENSMUSG00000102851 | RP23-317L18.1 |\n",
       "| ENSMUSG00000103377 | 1 | 3365731 | 3368549 |   2819 | - | ENSMUSG00000103377 | RP23-317L18.4 |\n",
       "| ENSMUSG00000104017 | 1 | 3375556 | 3377788 |   2233 | - | ENSMUSG00000104017 | RP23-317L18.3 |\n",
       "\n"
      ],
      "text/plain": [
       "                   seqnames start   end     width  strand gene_id           \n",
       "ENSMUSG00000102693 1        3073253 3074322   1070 +      ENSMUSG00000102693\n",
       "ENSMUSG00000064842 1        3102016 3102125    110 +      ENSMUSG00000064842\n",
       "ENSMUSG00000051951 1        3205901 3671498 465598 -      ENSMUSG00000051951\n",
       "ENSMUSG00000102851 1        3252757 3253236    480 +      ENSMUSG00000102851\n",
       "ENSMUSG00000103377 1        3365731 3368549   2819 -      ENSMUSG00000103377\n",
       "ENSMUSG00000104017 1        3375556 3377788   2233 -      ENSMUSG00000104017\n",
       "                   gene_name    \n",
       "ENSMUSG00000102693 RP23-271O17.1\n",
       "ENSMUSG00000064842 Gm26206      \n",
       "ENSMUSG00000051951 Xkr4         \n",
       "ENSMUSG00000102851 RP23-317L18.1\n",
       "ENSMUSG00000103377 RP23-317L18.4\n",
       "ENSMUSG00000104017 RP23-317L18.3"
      ]
     },
     "metadata": {},
     "output_type": "display_data"
    }
   ],
   "source": [
    "## getting gene_metadata that will be used for filtering genes\n",
    "# Gene metadata\n",
    "edb       <- EnsDb.Mmusculus.v79\n",
    "all_genes <- genes(edb, columns=c(\"gene_id\",\"gene_name\"))\n",
    "# see what columns are actually present\n",
    "gene_metadata        <- as.data.frame(all_genes)\n",
    "head(gene_metadata)"
   ]
  },
  {
   "cell_type": "code",
   "execution_count": 17,
   "id": "493cc0ea-5e33-483f-8a37-254b712f14b3",
   "metadata": {
    "vscode": {
     "languageId": "r"
    }
   },
   "outputs": [
    {
     "data": {
      "text/html": [
       "<style>\n",
       ".list-inline {list-style: none; margin:0; padding: 0}\n",
       ".list-inline>li {display: inline-block}\n",
       ".list-inline>li:not(:last-child)::after {content: \"\\00b7\"; padding: 0 .5ex}\n",
       "</style>\n",
       "<ol class=list-inline><li>'Zdbf2'</li><li>'Adam23'</li><li>'Mcts2'</li><li>'Mir296'</li><li>'Mir298'</li><li>'Sfmbt2'</li><li>'Nnat'</li><li>'Zfp64'</li><li>'Nespas'</li><li>'Jade1'</li><li>'Magi2'</li><li>'Fkbp6'</li><li>'Peg10'</li><li>'Sgce'</li><li>'Mest'</li><li>'Nap1l5'</li><li>'Peg3os'</li><li>'Usp29'</li><li>'Peg3'</li><li>'Zfp264'</li><li>'Peg12'</li><li>'Magel2'</li><li>'Ndn'</li><li>'Mkrn3'</li><li>'Snrpn'</li><li>'Pwcr1'</li><li>'Igf2as'</li><li>'Ins2'</li><li>'Kcnq1ot1'</li><li>'Inpp5f'</li><li>'Nctc1'</li><li>'Igf2'</li><li>'Snurf'</li><li>'Gab1'</li><li>'Sall1'</li><li>'Cdh15'</li><li>'Snx14'</li><li>'Mir184'</li><li>'Rasgrf1'</li><li>'Hymai'</li><li>'Plagl1'</li><li>'Platr20'</li><li>'Ddc'</li><li>'U2af1-rs1'</li><li>'Ccdc40'</li><li>'Smoc1'</li><li>'Dlk1'</li><li>'Dio3'</li><li>'Rtl1'</li><li>'Galnt6'</li><li>'Peg13'</li><li>'Slc38a4'</li><li>'Air'</li><li>'Impact'</li><li>'Fthl17b'</li><li>'Fthl17c'</li><li>'Fthl17d'</li><li>'Fthl17e'</li><li>'Fthl17f'</li><li>'Fthl17a'</li><li>'Jpx'</li><li>'Ftx'</li><li>'Xist'</li><li>'Gatm'</li><li>'H13'</li><li>'Pon3'</li><li>'Ppp1r9a'</li><li>'Tfpi2'</li><li>'Asb4'</li><li>'Calcr'</li><li>'Mir335'</li><li>'Aqp1'</li><li>'Pon2'</li><li>'Copg2'</li><li>'Klf14'</li><li>'Ano1'</li><li>'Nlrp2'</li><li>'AF313042'</li><li>'Zim1'</li><li>'Zim3'</li><li>'Axl'</li><li>'Ube3a'</li><li>'Zfp127as'</li><li>'Ampd3'</li><li>'H19'</li><li>'Kcnq1'</li><li>'Ascl2'</li><li>'Tssc4'</li><li>'Cd81'</li><li>'Phlda2'</li><li>'Slc22a18'</li><li>'Cdkn1c'</li><li>'Nap1l4'</li><li>'Tnfrsf23'</li><li>'Tnfrsf22'</li><li>'Tnfrsf26'</li><li>'Mir675'</li><li>'Th'</li><li>'Dhcr7'</li><li>'Zim2'</li><li>'Dcn'</li><li>'Commd1'</li><li>'Mir337'</li><li>'Mir410'</li><li>'Mir380'</li><li>'AF357355'</li><li>'AF357359'</li><li>'Mir127'</li><li>'Mir136'</li><li>'B830012L14Rik'</li><li>'Mir411'</li><li>'Mir376b'</li><li>'Mir431'</li><li>'Gtl2'</li><li>'AF357341'</li><li>'AF357425'</li><li>'AF357426'</li><li>'AF357428'</li><li>'Rian'</li><li>'Mir370'</li><li>'Mirg'</li><li>'Htr2a'</li><li>'Trappc9'</li><li>'Chrac1'</li><li>'Kcnk9'</li><li>'Qpct'</li><li>'Pde10a'</li><li>'Dact2'</li><li>'Prkn'</li><li>'Slc22a3'</li><li>'Slc22a2'</li><li>'Thbs2'</li><li>'Smoc2'</li><li>'Gm35612'</li><li>'Rhox5'</li><li>'Xlr3b'</li><li>'Tsix'</li><li>'Zcchc13'</li><li>'Maged2'</li><li>'Grb10'</li></ol>\n"
      ],
      "text/latex": [
       "\\begin{enumerate*}\n",
       "\\item 'Zdbf2'\n",
       "\\item 'Adam23'\n",
       "\\item 'Mcts2'\n",
       "\\item 'Mir296'\n",
       "\\item 'Mir298'\n",
       "\\item 'Sfmbt2'\n",
       "\\item 'Nnat'\n",
       "\\item 'Zfp64'\n",
       "\\item 'Nespas'\n",
       "\\item 'Jade1'\n",
       "\\item 'Magi2'\n",
       "\\item 'Fkbp6'\n",
       "\\item 'Peg10'\n",
       "\\item 'Sgce'\n",
       "\\item 'Mest'\n",
       "\\item 'Nap1l5'\n",
       "\\item 'Peg3os'\n",
       "\\item 'Usp29'\n",
       "\\item 'Peg3'\n",
       "\\item 'Zfp264'\n",
       "\\item 'Peg12'\n",
       "\\item 'Magel2'\n",
       "\\item 'Ndn'\n",
       "\\item 'Mkrn3'\n",
       "\\item 'Snrpn'\n",
       "\\item 'Pwcr1'\n",
       "\\item 'Igf2as'\n",
       "\\item 'Ins2'\n",
       "\\item 'Kcnq1ot1'\n",
       "\\item 'Inpp5f'\n",
       "\\item 'Nctc1'\n",
       "\\item 'Igf2'\n",
       "\\item 'Snurf'\n",
       "\\item 'Gab1'\n",
       "\\item 'Sall1'\n",
       "\\item 'Cdh15'\n",
       "\\item 'Snx14'\n",
       "\\item 'Mir184'\n",
       "\\item 'Rasgrf1'\n",
       "\\item 'Hymai'\n",
       "\\item 'Plagl1'\n",
       "\\item 'Platr20'\n",
       "\\item 'Ddc'\n",
       "\\item 'U2af1-rs1'\n",
       "\\item 'Ccdc40'\n",
       "\\item 'Smoc1'\n",
       "\\item 'Dlk1'\n",
       "\\item 'Dio3'\n",
       "\\item 'Rtl1'\n",
       "\\item 'Galnt6'\n",
       "\\item 'Peg13'\n",
       "\\item 'Slc38a4'\n",
       "\\item 'Air'\n",
       "\\item 'Impact'\n",
       "\\item 'Fthl17b'\n",
       "\\item 'Fthl17c'\n",
       "\\item 'Fthl17d'\n",
       "\\item 'Fthl17e'\n",
       "\\item 'Fthl17f'\n",
       "\\item 'Fthl17a'\n",
       "\\item 'Jpx'\n",
       "\\item 'Ftx'\n",
       "\\item 'Xist'\n",
       "\\item 'Gatm'\n",
       "\\item 'H13'\n",
       "\\item 'Pon3'\n",
       "\\item 'Ppp1r9a'\n",
       "\\item 'Tfpi2'\n",
       "\\item 'Asb4'\n",
       "\\item 'Calcr'\n",
       "\\item 'Mir335'\n",
       "\\item 'Aqp1'\n",
       "\\item 'Pon2'\n",
       "\\item 'Copg2'\n",
       "\\item 'Klf14'\n",
       "\\item 'Ano1'\n",
       "\\item 'Nlrp2'\n",
       "\\item 'AF313042'\n",
       "\\item 'Zim1'\n",
       "\\item 'Zim3'\n",
       "\\item 'Axl'\n",
       "\\item 'Ube3a'\n",
       "\\item 'Zfp127as'\n",
       "\\item 'Ampd3'\n",
       "\\item 'H19'\n",
       "\\item 'Kcnq1'\n",
       "\\item 'Ascl2'\n",
       "\\item 'Tssc4'\n",
       "\\item 'Cd81'\n",
       "\\item 'Phlda2'\n",
       "\\item 'Slc22a18'\n",
       "\\item 'Cdkn1c'\n",
       "\\item 'Nap1l4'\n",
       "\\item 'Tnfrsf23'\n",
       "\\item 'Tnfrsf22'\n",
       "\\item 'Tnfrsf26'\n",
       "\\item 'Mir675'\n",
       "\\item 'Th'\n",
       "\\item 'Dhcr7'\n",
       "\\item 'Zim2'\n",
       "\\item 'Dcn'\n",
       "\\item 'Commd1'\n",
       "\\item 'Mir337'\n",
       "\\item 'Mir410'\n",
       "\\item 'Mir380'\n",
       "\\item 'AF357355'\n",
       "\\item 'AF357359'\n",
       "\\item 'Mir127'\n",
       "\\item 'Mir136'\n",
       "\\item 'B830012L14Rik'\n",
       "\\item 'Mir411'\n",
       "\\item 'Mir376b'\n",
       "\\item 'Mir431'\n",
       "\\item 'Gtl2'\n",
       "\\item 'AF357341'\n",
       "\\item 'AF357425'\n",
       "\\item 'AF357426'\n",
       "\\item 'AF357428'\n",
       "\\item 'Rian'\n",
       "\\item 'Mir370'\n",
       "\\item 'Mirg'\n",
       "\\item 'Htr2a'\n",
       "\\item 'Trappc9'\n",
       "\\item 'Chrac1'\n",
       "\\item 'Kcnk9'\n",
       "\\item 'Qpct'\n",
       "\\item 'Pde10a'\n",
       "\\item 'Dact2'\n",
       "\\item 'Prkn'\n",
       "\\item 'Slc22a3'\n",
       "\\item 'Slc22a2'\n",
       "\\item 'Thbs2'\n",
       "\\item 'Smoc2'\n",
       "\\item 'Gm35612'\n",
       "\\item 'Rhox5'\n",
       "\\item 'Xlr3b'\n",
       "\\item 'Tsix'\n",
       "\\item 'Zcchc13'\n",
       "\\item 'Maged2'\n",
       "\\item 'Grb10'\n",
       "\\end{enumerate*}\n"
      ],
      "text/markdown": [
       "1. 'Zdbf2'\n",
       "2. 'Adam23'\n",
       "3. 'Mcts2'\n",
       "4. 'Mir296'\n",
       "5. 'Mir298'\n",
       "6. 'Sfmbt2'\n",
       "7. 'Nnat'\n",
       "8. 'Zfp64'\n",
       "9. 'Nespas'\n",
       "10. 'Jade1'\n",
       "11. 'Magi2'\n",
       "12. 'Fkbp6'\n",
       "13. 'Peg10'\n",
       "14. 'Sgce'\n",
       "15. 'Mest'\n",
       "16. 'Nap1l5'\n",
       "17. 'Peg3os'\n",
       "18. 'Usp29'\n",
       "19. 'Peg3'\n",
       "20. 'Zfp264'\n",
       "21. 'Peg12'\n",
       "22. 'Magel2'\n",
       "23. 'Ndn'\n",
       "24. 'Mkrn3'\n",
       "25. 'Snrpn'\n",
       "26. 'Pwcr1'\n",
       "27. 'Igf2as'\n",
       "28. 'Ins2'\n",
       "29. 'Kcnq1ot1'\n",
       "30. 'Inpp5f'\n",
       "31. 'Nctc1'\n",
       "32. 'Igf2'\n",
       "33. 'Snurf'\n",
       "34. 'Gab1'\n",
       "35. 'Sall1'\n",
       "36. 'Cdh15'\n",
       "37. 'Snx14'\n",
       "38. 'Mir184'\n",
       "39. 'Rasgrf1'\n",
       "40. 'Hymai'\n",
       "41. 'Plagl1'\n",
       "42. 'Platr20'\n",
       "43. 'Ddc'\n",
       "44. 'U2af1-rs1'\n",
       "45. 'Ccdc40'\n",
       "46. 'Smoc1'\n",
       "47. 'Dlk1'\n",
       "48. 'Dio3'\n",
       "49. 'Rtl1'\n",
       "50. 'Galnt6'\n",
       "51. 'Peg13'\n",
       "52. 'Slc38a4'\n",
       "53. 'Air'\n",
       "54. 'Impact'\n",
       "55. 'Fthl17b'\n",
       "56. 'Fthl17c'\n",
       "57. 'Fthl17d'\n",
       "58. 'Fthl17e'\n",
       "59. 'Fthl17f'\n",
       "60. 'Fthl17a'\n",
       "61. 'Jpx'\n",
       "62. 'Ftx'\n",
       "63. 'Xist'\n",
       "64. 'Gatm'\n",
       "65. 'H13'\n",
       "66. 'Pon3'\n",
       "67. 'Ppp1r9a'\n",
       "68. 'Tfpi2'\n",
       "69. 'Asb4'\n",
       "70. 'Calcr'\n",
       "71. 'Mir335'\n",
       "72. 'Aqp1'\n",
       "73. 'Pon2'\n",
       "74. 'Copg2'\n",
       "75. 'Klf14'\n",
       "76. 'Ano1'\n",
       "77. 'Nlrp2'\n",
       "78. 'AF313042'\n",
       "79. 'Zim1'\n",
       "80. 'Zim3'\n",
       "81. 'Axl'\n",
       "82. 'Ube3a'\n",
       "83. 'Zfp127as'\n",
       "84. 'Ampd3'\n",
       "85. 'H19'\n",
       "86. 'Kcnq1'\n",
       "87. 'Ascl2'\n",
       "88. 'Tssc4'\n",
       "89. 'Cd81'\n",
       "90. 'Phlda2'\n",
       "91. 'Slc22a18'\n",
       "92. 'Cdkn1c'\n",
       "93. 'Nap1l4'\n",
       "94. 'Tnfrsf23'\n",
       "95. 'Tnfrsf22'\n",
       "96. 'Tnfrsf26'\n",
       "97. 'Mir675'\n",
       "98. 'Th'\n",
       "99. 'Dhcr7'\n",
       "100. 'Zim2'\n",
       "101. 'Dcn'\n",
       "102. 'Commd1'\n",
       "103. 'Mir337'\n",
       "104. 'Mir410'\n",
       "105. 'Mir380'\n",
       "106. 'AF357355'\n",
       "107. 'AF357359'\n",
       "108. 'Mir127'\n",
       "109. 'Mir136'\n",
       "110. 'B830012L14Rik'\n",
       "111. 'Mir411'\n",
       "112. 'Mir376b'\n",
       "113. 'Mir431'\n",
       "114. 'Gtl2'\n",
       "115. 'AF357341'\n",
       "116. 'AF357425'\n",
       "117. 'AF357426'\n",
       "118. 'AF357428'\n",
       "119. 'Rian'\n",
       "120. 'Mir370'\n",
       "121. 'Mirg'\n",
       "122. 'Htr2a'\n",
       "123. 'Trappc9'\n",
       "124. 'Chrac1'\n",
       "125. 'Kcnk9'\n",
       "126. 'Qpct'\n",
       "127. 'Pde10a'\n",
       "128. 'Dact2'\n",
       "129. 'Prkn'\n",
       "130. 'Slc22a3'\n",
       "131. 'Slc22a2'\n",
       "132. 'Thbs2'\n",
       "133. 'Smoc2'\n",
       "134. 'Gm35612'\n",
       "135. 'Rhox5'\n",
       "136. 'Xlr3b'\n",
       "137. 'Tsix'\n",
       "138. 'Zcchc13'\n",
       "139. 'Maged2'\n",
       "140. 'Grb10'\n",
       "\n",
       "\n"
      ],
      "text/plain": [
       "  [1] \"Zdbf2\"         \"Adam23\"        \"Mcts2\"         \"Mir296\"       \n",
       "  [5] \"Mir298\"        \"Sfmbt2\"        \"Nnat\"          \"Zfp64\"        \n",
       "  [9] \"Nespas\"        \"Jade1\"         \"Magi2\"         \"Fkbp6\"        \n",
       " [13] \"Peg10\"         \"Sgce\"          \"Mest\"          \"Nap1l5\"       \n",
       " [17] \"Peg3os\"        \"Usp29\"         \"Peg3\"          \"Zfp264\"       \n",
       " [21] \"Peg12\"         \"Magel2\"        \"Ndn\"           \"Mkrn3\"        \n",
       " [25] \"Snrpn\"         \"Pwcr1\"         \"Igf2as\"        \"Ins2\"         \n",
       " [29] \"Kcnq1ot1\"      \"Inpp5f\"        \"Nctc1\"         \"Igf2\"         \n",
       " [33] \"Snurf\"         \"Gab1\"          \"Sall1\"         \"Cdh15\"        \n",
       " [37] \"Snx14\"         \"Mir184\"        \"Rasgrf1\"       \"Hymai\"        \n",
       " [41] \"Plagl1\"        \"Platr20\"       \"Ddc\"           \"U2af1-rs1\"    \n",
       " [45] \"Ccdc40\"        \"Smoc1\"         \"Dlk1\"          \"Dio3\"         \n",
       " [49] \"Rtl1\"          \"Galnt6\"        \"Peg13\"         \"Slc38a4\"      \n",
       " [53] \"Air\"           \"Impact\"        \"Fthl17b\"       \"Fthl17c\"      \n",
       " [57] \"Fthl17d\"       \"Fthl17e\"       \"Fthl17f\"       \"Fthl17a\"      \n",
       " [61] \"Jpx\"           \"Ftx\"           \"Xist\"          \"Gatm\"         \n",
       " [65] \"H13\"           \"Pon3\"          \"Ppp1r9a\"       \"Tfpi2\"        \n",
       " [69] \"Asb4\"          \"Calcr\"         \"Mir335\"        \"Aqp1\"         \n",
       " [73] \"Pon2\"          \"Copg2\"         \"Klf14\"         \"Ano1\"         \n",
       " [77] \"Nlrp2\"         \"AF313042\"      \"Zim1\"          \"Zim3\"         \n",
       " [81] \"Axl\"           \"Ube3a\"         \"Zfp127as\"      \"Ampd3\"        \n",
       " [85] \"H19\"           \"Kcnq1\"         \"Ascl2\"         \"Tssc4\"        \n",
       " [89] \"Cd81\"          \"Phlda2\"        \"Slc22a18\"      \"Cdkn1c\"       \n",
       " [93] \"Nap1l4\"        \"Tnfrsf23\"      \"Tnfrsf22\"      \"Tnfrsf26\"     \n",
       " [97] \"Mir675\"        \"Th\"            \"Dhcr7\"         \"Zim2\"         \n",
       "[101] \"Dcn\"           \"Commd1\"        \"Mir337\"        \"Mir410\"       \n",
       "[105] \"Mir380\"        \"AF357355\"      \"AF357359\"      \"Mir127\"       \n",
       "[109] \"Mir136\"        \"B830012L14Rik\" \"Mir411\"        \"Mir376b\"      \n",
       "[113] \"Mir431\"        \"Gtl2\"          \"AF357341\"      \"AF357425\"     \n",
       "[117] \"AF357426\"      \"AF357428\"      \"Rian\"          \"Mir370\"       \n",
       "[121] \"Mirg\"          \"Htr2a\"         \"Trappc9\"       \"Chrac1\"       \n",
       "[125] \"Kcnk9\"         \"Qpct\"          \"Pde10a\"        \"Dact2\"        \n",
       "[129] \"Prkn\"          \"Slc22a3\"       \"Slc22a2\"       \"Thbs2\"        \n",
       "[133] \"Smoc2\"         \"Gm35612\"       \"Rhox5\"         \"Xlr3b\"        \n",
       "[137] \"Tsix\"          \"Zcchc13\"       \"Maged2\"        \"Grb10\"        "
      ]
     },
     "metadata": {},
     "output_type": "display_data"
    }
   ],
   "source": [
    "imprint_genes"
   ]
  },
  {
   "cell_type": "code",
   "execution_count": 18,
   "id": "79d8660c-e896-4216-b1af-26d86d4ac74e",
   "metadata": {
    "vscode": {
     "languageId": "r"
    }
   },
   "outputs": [
    {
     "data": {
      "text/html": [
       "26810"
      ],
      "text/latex": [
       "26810"
      ],
      "text/markdown": [
       "26810"
      ],
      "text/plain": [
       "[1] 26810"
      ]
     },
     "metadata": {},
     "output_type": "display_data"
    }
   ],
   "source": [
    "# Filter some genes manually\n",
    "genes.intersect <- genes.intersect[grep(\"^mt-|^Rps|^Rpl\",genes.intersect,invert=T)] # filter out non-informative genes\n",
    "genes.intersect <- genes.intersect[grep(\"^Hbb|^Hba\",genes.intersect,invert=T)] # test removing Haem genes \n",
    "genes.intersect <- genes.intersect[!genes.intersect %in% c(imprint_genes, 'Grb10', 'Nnat')] # remove imprinted genes\n",
    "genes.intersect <- genes.intersect[!genes.intersect %in% c(\"Xist\", \"Tsix\")] # remove Xist & Tsix\n",
    "genes.intersect <- genes.intersect[!genes.intersect %in% gene_metadata[gene_metadata$seqnames==\"Y\",'gene_name']] # no genes on y-chr \n",
    "length(genes.intersect)"
   ]
  },
  {
   "cell_type": "code",
   "execution_count": 19,
   "id": "bf63adf1-6265-47cd-8a32-055e2432cad1",
   "metadata": {
    "vscode": {
     "languageId": "r"
    }
   },
   "outputs": [
    {
     "name": "stderr",
     "output_type": "stream",
     "text": [
      "Warning message:\n",
      "\"\u001b[1m\u001b[22mThe `slot` argument of `GetAssayData()` is deprecated as of SeuratObject 5.0.0.\n",
      "\u001b[36mℹ\u001b[39m Please use the `layer` argument instead.\"\n"
     ]
    },
    {
     "data": {
      "text/html": [
       "8365"
      ],
      "text/latex": [
       "8365"
      ],
      "text/markdown": [
       "8365"
      ],
      "text/plain": [
       "[1] 8365"
      ]
     },
     "metadata": {},
     "output_type": "display_data"
    },
    {
     "data": {
      "text/html": [
       "<style>\n",
       ".list-inline {list-style: none; margin:0; padding: 0}\n",
       ".list-inline>li {display: inline-block}\n",
       ".list-inline>li:not(:last-child)::after {content: \"\\00b7\"; padding: 0 .5ex}\n",
       "</style>\n",
       "<ol class=list-inline><li>'Gm1992'</li><li>'Gm37381'</li><li>'Gm37323'</li><li>'Gm16041'</li><li>'Gm29520'</li><li>'Gm15818'</li></ol>\n"
      ],
      "text/latex": [
       "\\begin{enumerate*}\n",
       "\\item 'Gm1992'\n",
       "\\item 'Gm37381'\n",
       "\\item 'Gm37323'\n",
       "\\item 'Gm16041'\n",
       "\\item 'Gm29520'\n",
       "\\item 'Gm15818'\n",
       "\\end{enumerate*}\n"
      ],
      "text/markdown": [
       "1. 'Gm1992'\n",
       "2. 'Gm37381'\n",
       "3. 'Gm37323'\n",
       "4. 'Gm16041'\n",
       "5. 'Gm29520'\n",
       "6. 'Gm15818'\n",
       "\n",
       "\n"
      ],
      "text/plain": [
       "[1] \"Gm1992\"  \"Gm37381\" \"Gm37323\" \"Gm16041\" \"Gm29520\" \"Gm15818\""
      ]
     },
     "metadata": {},
     "output_type": "display_data"
    }
   ],
   "source": [
    "# Extract raw counts matrix\n",
    "counts_mat <- GetAssayData(atlas, assay = \"originalexp\", slot = \"counts\")\n",
    "\n",
    "# Sum counts across all cells for each gene\n",
    "gene_totals <- Matrix::rowSums(counts_mat)\n",
    "\n",
    "# Filter genes with total counts less than 16\n",
    "low_count_genes <- names(gene_totals[gene_totals < 16]) # skip for the optimzation step\n",
    "\n",
    "# View or use the result\n",
    "length(low_count_genes)  # Number of genes # skip for the optimzation step\n",
    "head(low_count_genes)    # Preview # skip for the optimzation step\n"
   ]
  },
  {
   "cell_type": "code",
   "execution_count": 20,
   "id": "93e7d380-9ce1-4d63-8496-7196b2353d22",
   "metadata": {
    "vscode": {
     "languageId": "r"
    }
   },
   "outputs": [
    {
     "data": {
      "text/html": [
       "19070"
      ],
      "text/latex": [
       "19070"
      ],
      "text/markdown": [
       "19070"
      ],
      "text/plain": [
       "[1] 19070"
      ]
     },
     "metadata": {},
     "output_type": "display_data"
    }
   ],
   "source": [
    "genes.intersect <- genes.intersect[!genes.intersect %in% low_count_genes]\n",
    "length(genes.intersect)"
   ]
  },
  {
   "cell_type": "code",
   "execution_count": 21,
   "id": "c9e2da42-779b-404d-bfda-8ee904d5a75d",
   "metadata": {
    "vscode": {
     "languageId": "r"
    }
   },
   "outputs": [
    {
     "data": {
      "text/html": [
       "7203"
      ],
      "text/latex": [
       "7203"
      ],
      "text/markdown": [
       "7203"
      ],
      "text/plain": [
       "[1] 7203"
      ]
     },
     "metadata": {},
     "output_type": "display_data"
    },
    {
     "data": {
      "text/html": [
       "<style>\n",
       ".list-inline {list-style: none; margin:0; padding: 0}\n",
       ".list-inline>li {display: inline-block}\n",
       ".list-inline>li:not(:last-child)::after {content: \"\\00b7\"; padding: 0 .5ex}\n",
       "</style>\n",
       "<ol class=list-inline><li>'Gm37381'</li><li>'Rp1.1'</li><li>'Gm37323'</li><li>'Gm16041'</li><li>'Gm29520'</li><li>'Gm17644'</li></ol>\n"
      ],
      "text/latex": [
       "\\begin{enumerate*}\n",
       "\\item 'Gm37381'\n",
       "\\item 'Rp1.1'\n",
       "\\item 'Gm37323'\n",
       "\\item 'Gm16041'\n",
       "\\item 'Gm29520'\n",
       "\\item 'Gm17644'\n",
       "\\end{enumerate*}\n"
      ],
      "text/markdown": [
       "1. 'Gm37381'\n",
       "2. 'Rp1.1'\n",
       "3. 'Gm37323'\n",
       "4. 'Gm16041'\n",
       "5. 'Gm29520'\n",
       "6. 'Gm17644'\n",
       "\n",
       "\n"
      ],
      "text/plain": [
       "[1] \"Gm37381\" \"Rp1.1\"   \"Gm37323\" \"Gm16041\" \"Gm29520\" \"Gm17644\""
      ]
     },
     "metadata": {},
     "output_type": "display_data"
    }
   ],
   "source": [
    "# low count genes:: From query\n",
    "# Extract raw counts matrix\n",
    "counts_mat <- GetAssayData(obj, assay = \"RNA\", slot = \"counts\")\n",
    "\n",
    "# Sum counts across all cells for each gene\n",
    "gene_totals <- Matrix::rowSums(counts_mat)\n",
    "\n",
    "# Filter genes with total counts less than 16\n",
    "low_count_genes <- names(gene_totals[gene_totals < 16])\n",
    "\n",
    "# View or use the result\n",
    "length(low_count_genes)  # Number of genes\n",
    "head(low_count_genes)    # Preview\n"
   ]
  },
  {
   "cell_type": "code",
   "execution_count": 22,
   "id": "b9594077-14a9-474e-9198-626f332b2bd2",
   "metadata": {
    "vscode": {
     "languageId": "r"
    }
   },
   "outputs": [
    {
     "data": {
      "text/html": [
       "18273"
      ],
      "text/latex": [
       "18273"
      ],
      "text/markdown": [
       "18273"
      ],
      "text/plain": [
       "[1] 18273"
      ]
     },
     "metadata": {},
     "output_type": "display_data"
    }
   ],
   "source": [
    "genes.intersect <- genes.intersect[!genes.intersect %in% low_count_genes]\n",
    "length(genes.intersect)"
   ]
  },
  {
   "cell_type": "code",
   "execution_count": 23,
   "id": "8bed40e5-b821-4394-b86c-86fa814e8536",
   "metadata": {
    "vscode": {
     "languageId": "r"
    }
   },
   "outputs": [],
   "source": [
    "seurat_atlas <- subset(atlas, features = genes.intersect)"
   ]
  },
  {
   "cell_type": "code",
   "execution_count": 24,
   "id": "c9471116-35ba-4d20-9f6a-175a715d1758",
   "metadata": {
    "vscode": {
     "languageId": "r"
    }
   },
   "outputs": [],
   "source": [
    "seurat_query <- subset(obj, features = genes.intersect)"
   ]
  },
  {
   "cell_type": "code",
   "execution_count": 25,
   "id": "709d71d0-acde-49df-87d1-fae20147bc4a",
   "metadata": {
    "vscode": {
     "languageId": "r"
    }
   },
   "outputs": [
    {
     "data": {
      "text/plain": [
       "An object of class Seurat \n",
       "18273 features across 95019 samples within 1 assay \n",
       "Active assay: originalexp (18273 features, 0 variable features)\n",
       " 2 layers present: counts, data\n",
       " 2 dimensional reductions calculated: UMAP, PCA"
      ]
     },
     "metadata": {},
     "output_type": "display_data"
    }
   ],
   "source": [
    "seurat_atlas"
   ]
  },
  {
   "cell_type": "code",
   "execution_count": 26,
   "id": "61d06fb3-8bef-43d0-a245-08c7cc39d396",
   "metadata": {
    "vscode": {
     "languageId": "r"
    }
   },
   "outputs": [
    {
     "data": {
      "text/plain": [
       "An object of class Seurat \n",
       "18273 features across 71107 samples within 1 assay \n",
       "Active assay: RNA (18273 features, 0 variable features)\n",
       " 2 layers present: counts, data\n",
       " 6 dimensional reductions calculated: OLDPCA, OLDUMAP, OLDTSNE, PCA, UMAP, UMAP3D"
      ]
     },
     "metadata": {},
     "output_type": "display_data"
    }
   ],
   "source": [
    "seurat_query"
   ]
  },
  {
   "cell_type": "code",
   "execution_count": null,
   "id": "6cd505f2-d13e-4cd5-9d76-c3aba40b5b20",
   "metadata": {
    "vscode": {
     "languageId": "r"
    }
   },
   "outputs": [],
   "source": []
  },
  {
   "cell_type": "markdown",
   "id": "2655bcc8-ebea-4b79-8633-547de29bc8eb",
   "metadata": {
    "editable": true,
    "slideshow": {
     "slide_type": ""
    },
    "tags": []
   },
   "source": [
    "# Mapping Directly - without integration"
   ]
  },
  {
   "cell_type": "code",
   "execution_count": 27,
   "id": "9af63496-ea9f-41f0-984f-8eb95541bcf9",
   "metadata": {
    "vscode": {
     "languageId": "r"
    }
   },
   "outputs": [
    {
     "data": {
      "text/html": [
       "<table class=\"dataframe\">\n",
       "<caption>A matrix: 2 × 6 of type dbl</caption>\n",
       "<thead>\n",
       "\t<tr><th></th><th scope=col>used</th><th scope=col>(Mb)</th><th scope=col>gc trigger</th><th scope=col>(Mb)</th><th scope=col>max used</th><th scope=col>(Mb)</th></tr>\n",
       "</thead>\n",
       "<tbody>\n",
       "\t<tr><th scope=row>Ncells</th><td>  12961370</td><td>  692.3</td><td>  22429435</td><td> 1197.9</td><td>  22429435</td><td> 1197.9</td></tr>\n",
       "\t<tr><th scope=row>Vcells</th><td>2136323933</td><td>16298.9</td><td>6185267906</td><td>47189.9</td><td>9505217370</td><td>72519.1</td></tr>\n",
       "</tbody>\n",
       "</table>\n"
      ],
      "text/latex": [
       "A matrix: 2 × 6 of type dbl\n",
       "\\begin{tabular}{r|llllll}\n",
       "  & used & (Mb) & gc trigger & (Mb) & max used & (Mb)\\\\\n",
       "\\hline\n",
       "\tNcells &   12961370 &   692.3 &   22429435 &  1197.9 &   22429435 &  1197.9\\\\\n",
       "\tVcells & 2136323933 & 16298.9 & 6185267906 & 47189.9 & 9505217370 & 72519.1\\\\\n",
       "\\end{tabular}\n"
      ],
      "text/markdown": [
       "\n",
       "A matrix: 2 × 6 of type dbl\n",
       "\n",
       "| <!--/--> | used | (Mb) | gc trigger | (Mb) | max used | (Mb) |\n",
       "|---|---|---|---|---|---|---|\n",
       "| Ncells |   12961370 |   692.3 |   22429435 |  1197.9 |   22429435 |  1197.9 |\n",
       "| Vcells | 2136323933 | 16298.9 | 6185267906 | 47189.9 | 9505217370 | 72519.1 |\n",
       "\n"
      ],
      "text/plain": [
       "       used       (Mb)    gc trigger (Mb)    max used   (Mb)   \n",
       "Ncells   12961370   692.3   22429435  1197.9   22429435  1197.9\n",
       "Vcells 2136323933 16298.9 6185267906 47189.9 9505217370 72519.1"
      ]
     },
     "metadata": {},
     "output_type": "display_data"
    }
   ],
   "source": [
    "rm(obj)\n",
    "rm(atlas)\n",
    "gc()"
   ]
  },
  {
   "cell_type": "markdown",
   "id": "448c8a89-2eef-44e0-a277-7de8e408d782",
   "metadata": {
    "editable": true,
    "slideshow": {
     "slide_type": ""
    },
    "tags": []
   },
   "source": [
    "## with 4000 variable features (4k) with 50 pca (v4k_pca50)"
   ]
  },
  {
   "cell_type": "code",
   "execution_count": 28,
   "id": "8412183e-172f-47bf-b592-1b088435bd5c",
   "metadata": {
    "vscode": {
     "languageId": "r"
    }
   },
   "outputs": [
    {
     "name": "stderr",
     "output_type": "stream",
     "text": [
      "Warning message in rm(listmap):\n",
      "\"object 'listmap' not found\"\n"
     ]
    }
   ],
   "source": [
    "rm(listmap)"
   ]
  },
  {
   "cell_type": "code",
   "execution_count": 46,
   "id": "7a4f37b2-5d16-4b7e-8881-d16ab61104cf",
   "metadata": {
    "vscode": {
     "languageId": "r"
    }
   },
   "outputs": [],
   "source": [
    "listmap <- list()\n",
    "listmap$nvariables <- 4000\n",
    "listmap$regress <-  c(\"nFeature_originalexp\", \"nCount_originalexp\", \"percent.mt\", \"percent.ribo\", \"G2M_score\", \"S_score\")\n",
    "listmap$pca_name <- 'v4k_pca50'\n",
    "listmap$pca_name2 <- 'v4k_pca50_'\n",
    "listmap$npcs = 50\n",
    "listmap$dims = 1:50\n",
    "listmap$umap = 'UMAP'\n",
    "listmap$mapped_id <- 'v4k_pca50_predicted.id'\n",
    "listmap$mapped_score <- 'v4k_pca50_prediction.score.max'"
   ]
  },
  {
   "cell_type": "code",
   "execution_count": 30,
   "id": "3f7e3c21-8735-4cc0-b6c5-fb106bdbf75b",
   "metadata": {
    "vscode": {
     "languageId": "r"
    }
   },
   "outputs": [],
   "source": [
    "# Findvariable Features\n",
    "seurat_atlas <- FindVariableFeatures(object = seurat_atlas, nfeatures = listmap$nvariables)"
   ]
  },
  {
   "cell_type": "code",
   "execution_count": 31,
   "id": "0d9c2e15-4b8b-411b-b2ce-0eefe91ab3c1",
   "metadata": {
    "vscode": {
     "languageId": "r"
    }
   },
   "outputs": [
    {
     "name": "stderr",
     "output_type": "stream",
     "text": [
      "Warning message:\n",
      "\"\u001b[1m\u001b[22mThe `slot` argument of `SetAssayData()` is deprecated as of SeuratObject 5.0.0.\n",
      "\u001b[36mℹ\u001b[39m Please use the `layer` argument instead.\n",
      "\u001b[36mℹ\u001b[39m The deprecated feature was likely used in the \u001b[34mSeurat\u001b[39m package.\n",
      "  Please report the issue at \u001b[3m\u001b[34m<https://github.com/satijalab/seurat/issues>\u001b[39m\u001b[23m.\"\n",
      "Regressing out nFeature_originalexp, nCount_originalexp, percent.mt, percent.ribo, G2M_score, S_score\n",
      "\n",
      "Centering and scaling data matrix\n",
      "\n"
     ]
    }
   ],
   "source": [
    "# Regression\n",
    "seurat_atlas <- ScaleData(object = seurat_atlas, \n",
    "                          features = VariableFeatures(seurat_atlas),\n",
    "                          vars.to.regress = listmap$regress,\n",
    "                          block.size = 20000)"
   ]
  },
  {
   "cell_type": "code",
   "execution_count": 32,
   "id": "3c4fe7a6-4018-4b9b-9b99-64b526256a0f",
   "metadata": {
    "vscode": {
     "languageId": "r"
    }
   },
   "outputs": [
    {
     "data": {
      "text/html": [
       "4000"
      ],
      "text/latex": [
       "4000"
      ],
      "text/markdown": [
       "4000"
      ],
      "text/plain": [
       "[1] 4000"
      ]
     },
     "metadata": {},
     "output_type": "display_data"
    }
   ],
   "source": [
    "length(VariableFeatures(seurat_atlas))"
   ]
  },
  {
   "cell_type": "code",
   "execution_count": 33,
   "id": "03f5decd-6632-4879-9fdb-f38dde622b3c",
   "metadata": {
    "vscode": {
     "languageId": "r"
    }
   },
   "outputs": [
    {
     "name": "stderr",
     "output_type": "stream",
     "text": [
      "PC_ 1 \n",
      "Positive:  Folr1, Apom, Amn, Rbp4, Apoa1, Ttr, Ctsh, Cubn, Apoa4, 2610528J11Rik \n",
      "\t   Lgals2, Apob, Pla2g12b, Tmem37, Mt1, Car7, Aldob, Fgb, Spink1, Trap1a \n",
      "\t   2210011C24Rik, Slc2a2, Lgmn, Slc39a5, 4933402E13Rik, Gipc2, Fmr1nb, Apoc1, Apoe, Reep6 \n",
      "Negative:  Tmsb10, Tuba1a, Ifitm2, Marcks, 2810417H13Rik, Basp1, Gnas, Hmga2, Vim, Cald1 \n",
      "\t   Mdk, Marcksl1, Nedd4, Acta2, Sox4, Tpm4, Tpm1, H2afy2, Fscn1, Serpinh1 \n",
      "\t   Ttc3, Tagln, Eid1, Stmn1, Tmsb4x, Fabp5, Hmgb3, Nrp1, Ccnd2, Cnn2 \n",
      "PC_ 2 \n",
      "Positive:  Car2, Elf5, Fabp3, Hdgf, Gypa, Gjb3, Prss50, Alas2, Gpx1, Perp \n",
      "\t   Tex19.1, Dppa4, Htra1, Gm9, Nr0b1, Sfn, Zfp42, Ccnd3, Ddah1, Cldn3 \n",
      "\t   Mrap, Slc4a1, Blvrb, Gjb5, Cited4, Trim10, Tfap2c, Slc25a37, Hemgn, Klf1 \n",
      "Negative:  Mdk, Gpc3, Bex2, Ctsl, Apom, Pla2g12b, Dab2, Apoa4, Id3, Ctsh \n",
      "\t   Amn, Aldob, Lgals2, Car7, Fgb, Cubn, Stmn1, Apoa1, Gipc2, Crabp2 \n",
      "\t   Ttr, Serpinh1, Slc2a2, Slc39a5, Apob, Pcbd1, Hsp90b1, Sox11, 2210011C24Rik, Rbp4 \n",
      "PC_ 3 \n",
      "Positive:  Gypa, Alas2, Prdx2, Cited4, Klf1, Blvrb, Trim10, Mrap, Slc25a37, Slc4a1 \n",
      "\t   Hemgn, Snca, Cpox, Mgst3, Pnpo, Smim1, Ermap, Epor, Slc39a8, Tmem14c \n",
      "\t   Slc38a5, Nxpe2, Prkar2b, Ell2, Acp5, Ncf4, Sptb, Tspan32, Add2, Kcnn4 \n",
      "Negative:  Ngfrap1, Wbp5, Elf5, Gjb3, Fabp3, Tex19.1, Perp, Actg1, Calm2, Cldn3 \n",
      "\t   Anxa5, Sfn, Nup62cl, Htra1, S100a6, Gjb5, Krt18, Zfp42, Dppa4, Krt19 \n",
      "\t   Gm9, Tinagl1, Nr0b1, Trap1a, Id2, Tfap2c, Cd63, Bex1, Cldn4, Rnf128 \n",
      "PC_ 4 \n",
      "Positive:  Cdh5, Esam, Icam2, Cldn5, Ecscr, Ctla2a, Kdr, Pecam1, Vamp5, Plvap \n",
      "\t   Cd34, Fli1, Gng11, Arhgdib, Ramp2, Grap, Rhoj, Emcn, Rasip1, Tek \n",
      "\t   Tgfb1, Plxnd1, Igfbp4, Hapln1, Flt1, Gimap1, Eng, Igf1, Tie1, Sox18 \n",
      "Negative:  Pou5f1, Ldhb, Psip1, Epcam, Dnmt3b, Pim2, Tgif1, Mkrn1, Spint2, H2afv \n",
      "\t   Car14, Utf1, Slc7a3, Igfbp2, Socs2, Fgf5, Wfdc2, Cadm1, Trh, Gng3 \n",
      "\t   Acer2, Rab25, Ldha, Pmaip1, Sap30, Otx2, Kcnk1, Cldn6, Tdgf1, Bcat1 \n",
      "PC_ 5 \n",
      "Positive:  Pou5f1, Pfn1, Pgk1, Pim2, Cdh5, Icam2, Eif4a1, Cldn5, Dnmt3b, Limd2 \n",
      "\t   Cd34, Tceal8, Marcksl1, Esam, Ldhb, Ctla2a, Rasip1, Plvap, Ramp2, Slc7a3 \n",
      "\t   Gngt2, Tdgf1, Fgf5, Rasgrp2, Slc25a5, Ifitm2, Tgif1, Calm2, Emb, Ppp4c \n",
      "Negative:  Hnrnpa0, Gm1673, Ybx3, Tpt1, Id2, Elf5, Hspa14, Gm42418, Tex19.1, Morc4 \n",
      "\t   Hist1h1b, Dhx9, Hist1h1e, Vcan, Tinagl1, Gjb3, Prrc2c, Fabp3, Tubb2b, Supt16 \n",
      "\t   Srp54b, Ptn, Erh, Slc25a4, Nr2f1, Hnrnpd, Cdv3, Cldn3, Gm9, Baz1a \n",
      "\n",
      "Warning message:\n",
      "\"Key 'PC_' taken, using 'v4kpca50_' instead\"\n"
     ]
    }
   ],
   "source": [
    "# Run PCA \n",
    "seurat_atlas <- RunPCA(seurat_atlas,\n",
    "                       reduction.name = listmap$pca_name,\n",
    "                       npcs = listmap$npcs, \n",
    "                       features =  VariableFeatures(seurat_atlas)\n",
    "                      )"
   ]
  },
  {
   "cell_type": "code",
   "execution_count": 34,
   "id": "9d00c750-6c45-4430-a1ee-5213b55cf1b4",
   "metadata": {
    "vscode": {
     "languageId": "r"
    }
   },
   "outputs": [
    {
     "name": "stderr",
     "output_type": "stream",
     "text": [
      "Projecting cell embeddings\n",
      "\n",
      "Finding neighborhoods\n",
      "\n",
      "Finding anchors\n",
      "\n",
      "\tFound 2966 anchors\n",
      "\n",
      "Finding integration vectors\n",
      "\n",
      "Finding integration vector weights\n",
      "\n",
      "Predicting cell labels\n",
      "\n"
     ]
    }
   ],
   "source": [
    "# with merged_pca (no integration)\n",
    "anchors <- FindTransferAnchors(reference = seurat_atlas, query = seurat_query, dims = listmap$dims, reference.reduction = listmap$pca_name)\n",
    "predictions <- TransferData(anchorset = anchors, refdata = seurat_atlas$celltype_extended_atlas, dims = listmap$dims )"
   ]
  },
  {
   "cell_type": "code",
   "execution_count": 35,
   "id": "910e555d-a9b1-4e44-b424-bd262b05bf7a",
   "metadata": {
    "vscode": {
     "languageId": "r"
    }
   },
   "outputs": [
    {
     "data": {
      "text/html": [
       "<table class=\"dataframe\">\n",
       "<caption>A data.frame: 6 × 2</caption>\n",
       "<thead>\n",
       "\t<tr><th></th><th scope=col>v4k_pca50_predicted.id</th><th scope=col>v4k_pca50_prediction.score.max</th></tr>\n",
       "\t<tr><th></th><th scope=col>&lt;chr&gt;</th><th scope=col>&lt;dbl&gt;</th></tr>\n",
       "</thead>\n",
       "<tbody>\n",
       "\t<tr><th scope=row>AAACCCAAGAATTCAG-1_1</th><td>Epiblast           </td><td>0.8264762</td></tr>\n",
       "\t<tr><th scope=row>AAACCCAAGATCACCT-1_1</th><td>Mesenchyme         </td><td>0.6087842</td></tr>\n",
       "\t<tr><th scope=row>AAACCCAAGCAGGGAG-1_1</th><td>Pharyngeal mesoderm</td><td>0.3057151</td></tr>\n",
       "\t<tr><th scope=row>AAACCCAAGCGCAATG-1_1</th><td>Mesenchyme         </td><td>0.4664694</td></tr>\n",
       "\t<tr><th scope=row>AAACCCAAGCTGGTGA-1_1</th><td>Allantois          </td><td>0.6442121</td></tr>\n",
       "\t<tr><th scope=row>AAACCCAAGGGCCAAT-1_1</th><td>EMP                </td><td>0.9537897</td></tr>\n",
       "</tbody>\n",
       "</table>\n"
      ],
      "text/latex": [
       "A data.frame: 6 × 2\n",
       "\\begin{tabular}{r|ll}\n",
       "  & v4k\\_pca50\\_predicted.id & v4k\\_pca50\\_prediction.score.max\\\\\n",
       "  & <chr> & <dbl>\\\\\n",
       "\\hline\n",
       "\tAAACCCAAGAATTCAG-1\\_1 & Epiblast            & 0.8264762\\\\\n",
       "\tAAACCCAAGATCACCT-1\\_1 & Mesenchyme          & 0.6087842\\\\\n",
       "\tAAACCCAAGCAGGGAG-1\\_1 & Pharyngeal mesoderm & 0.3057151\\\\\n",
       "\tAAACCCAAGCGCAATG-1\\_1 & Mesenchyme          & 0.4664694\\\\\n",
       "\tAAACCCAAGCTGGTGA-1\\_1 & Allantois           & 0.6442121\\\\\n",
       "\tAAACCCAAGGGCCAAT-1\\_1 & EMP                 & 0.9537897\\\\\n",
       "\\end{tabular}\n"
      ],
      "text/markdown": [
       "\n",
       "A data.frame: 6 × 2\n",
       "\n",
       "| <!--/--> | v4k_pca50_predicted.id &lt;chr&gt; | v4k_pca50_prediction.score.max &lt;dbl&gt; |\n",
       "|---|---|---|\n",
       "| AAACCCAAGAATTCAG-1_1 | Epiblast            | 0.8264762 |\n",
       "| AAACCCAAGATCACCT-1_1 | Mesenchyme          | 0.6087842 |\n",
       "| AAACCCAAGCAGGGAG-1_1 | Pharyngeal mesoderm | 0.3057151 |\n",
       "| AAACCCAAGCGCAATG-1_1 | Mesenchyme          | 0.4664694 |\n",
       "| AAACCCAAGCTGGTGA-1_1 | Allantois           | 0.6442121 |\n",
       "| AAACCCAAGGGCCAAT-1_1 | EMP                 | 0.9537897 |\n",
       "\n"
      ],
      "text/plain": [
       "                     v4k_pca50_predicted.id v4k_pca50_prediction.score.max\n",
       "AAACCCAAGAATTCAG-1_1 Epiblast               0.8264762                     \n",
       "AAACCCAAGATCACCT-1_1 Mesenchyme             0.6087842                     \n",
       "AAACCCAAGCAGGGAG-1_1 Pharyngeal mesoderm    0.3057151                     \n",
       "AAACCCAAGCGCAATG-1_1 Mesenchyme             0.4664694                     \n",
       "AAACCCAAGCTGGTGA-1_1 Allantois              0.6442121                     \n",
       "AAACCCAAGGGCCAAT-1_1 EMP                    0.9537897                     "
      ]
     },
     "metadata": {},
     "output_type": "display_data"
    }
   ],
   "source": [
    "predictions_short <- predictions[, c('predicted.id','prediction.score.max')]\n",
    "colnames(predictions_short) <- paste0(listmap$pca_name2, colnames(predictions_short))\n",
    "head(predictions_short)"
   ]
  },
  {
   "cell_type": "code",
   "execution_count": 36,
   "id": "b2fac228-d0d0-4e06-94ba-9893ddfdc774",
   "metadata": {
    "vscode": {
     "languageId": "r"
    }
   },
   "outputs": [],
   "source": [
    "seurat_query <- AddMetaData(seurat_query, metadata = predictions_short)"
   ]
  },
  {
   "cell_type": "markdown",
   "id": "07f35ccb",
   "metadata": {},
   "source": [
    "# make sure your UMAP reduction name is correct\n",
    "reduction_to_plot <- listmap$umap    # or \"pca_harmony_umap_1\" if that really is your slot\n",
    "\n",
    "# get all the unique extended‐type labels (including NA if present)\n",
    "conditions <- unique(seurat_query@meta.data[,listmap$mapped_id])\n",
    "\n",
    "Idents(seurat_query) <- listmap$mapped_id\n",
    "\n",
    "options(repr.plot.width=8, repr.plot.height=6)\n",
    "for (cond in conditions) {\n",
    "\t# skip NA if you don't care to plot it\n",
    "\tif (is.na(cond)) next\n",
    "\t\n",
    "\t# grab the cells of that type\n",
    "\tcells_of_interest <- WhichCells(\n",
    "\t\tobject    = seurat_query,\n",
    "\t\t idents =  cond\n",
    "\t)\n",
    "\t\n",
    "\t# make the plot\n",
    "\tp <- DimPlot(\n",
    "\t\tobject          = seurat_query,\n",
    "\t\treduction       = reduction_to_plot,\n",
    "\t\tcells.highlight = cells_of_interest,\n",
    "\t\tcols.highlight  = \"firebrick\",   # or any color you like\n",
    "\t\tcols            = \"lightgrey\",   # background cells\n",
    "\t\tpt.size         = 0.5, alpha = 0.5\n",
    "\t) +\n",
    "\t\tNoAxes()+NoLegend() +\n",
    "\t\tggtitle(cond)\n",
    "\t\n",
    "\tprint(p)\n",
    "}\n"
   ]
  },
  {
   "cell_type": "code",
   "execution_count": 38,
   "id": "8736d14b-0303-4c84-b656-773d3d3c53fc",
   "metadata": {
    "vscode": {
     "languageId": "r"
    }
   },
   "outputs": [
    {
     "data": {
      "image/png": "[encoded data removed]",
      "text/plain": [
       "Plot with title \"Histogram of predictions_short[, listmap$mapped_score]\""
      ]
     },
     "metadata": {
      "image/png": {
       "height": 360,
       "width": 480
      }
     },
     "output_type": "display_data"
    }
   ],
   "source": [
    "options(repr.plot.width=8, repr.plot.height=6)\n",
    "hist(predictions_short[,listmap$mapped_score],breaks = 500)"
   ]
  },
  {
   "cell_type": "code",
   "execution_count": 39,
   "id": "28aa0eca-1d23-4a46-8798-0b164635b1ee",
   "metadata": {
    "vscode": {
     "languageId": "r"
    }
   },
   "outputs": [],
   "source": [
    "saveRDS(predictions, paste0(listmap$pca_name2,'predictions.rds'))"
   ]
  },
  {
   "cell_type": "code",
   "execution_count": 42,
   "id": "a4ec1927-5753-4fc2-9d68-8bb55354cdfe",
   "metadata": {
    "vscode": {
     "languageId": "r"
    }
   },
   "outputs": [],
   "source": [
    "saveRDS(anchors, paste0(listmap$pca_name2,'anchors.rds'))"
   ]
  },
  {
   "cell_type": "markdown",
   "id": "4b87244d-a016-48ca-9270-2b7faeb7c1c7",
   "metadata": {},
   "source": [
    "## with 4000 variable features (4k) with 75 pca (v4k_pca75)"
   ]
  },
  {
   "cell_type": "code",
   "execution_count": 48,
   "id": "914091b5-bbfc-4705-8e94-2356718c5d6c",
   "metadata": {
    "vscode": {
     "languageId": "r"
    }
   },
   "outputs": [],
   "source": [
    "rm(listmap)"
   ]
  },
  {
   "cell_type": "code",
   "execution_count": 49,
   "id": "d4a5abf4-b71d-4fce-a7ee-201e44902f08",
   "metadata": {
    "vscode": {
     "languageId": "r"
    }
   },
   "outputs": [],
   "source": [
    "listmap <- list()\n",
    "listmap$nvariables <- 4000\n",
    "listmap$regress <-  c(\"nFeature_originalexp\", \"nCount_originalexp\", \"percent.mt\", \"percent.ribo\", \"G2M_score\", \"S_score\")\n",
    "listmap$pca_name <- 'v4k_pca75'\n",
    "listmap$pca_name2 <- 'v4k_pca75_'\n",
    "listmap$npcs = 75\n",
    "listmap$dims = 1:75\n",
    "listmap$umap = 'UMAP'\n",
    "listmap$mapped_id <- 'v4k_pca75_predicted.id'\n",
    "listmap$mapped_score <- 'v4k_pca75_prediction.score.max'"
   ]
  },
  {
   "cell_type": "code",
   "execution_count": 50,
   "id": "a4b8c49a-f911-4f20-a18b-e69dc5c32510",
   "metadata": {
    "vscode": {
     "languageId": "r"
    }
   },
   "outputs": [
    {
     "data": {
      "text/html": [
       "<dl>\n",
       "\t<dt>$nvariables</dt>\n",
       "\t\t<dd>4000</dd>\n",
       "\t<dt>$regress</dt>\n",
       "\t\t<dd><style>\n",
       ".list-inline {list-style: none; margin:0; padding: 0}\n",
       ".list-inline>li {display: inline-block}\n",
       ".list-inline>li:not(:last-child)::after {content: \"\\00b7\"; padding: 0 .5ex}\n",
       "</style>\n",
       "<ol class=list-inline><li>'nFeature_originalexp'</li><li>'nCount_originalexp'</li><li>'percent.mt'</li><li>'percent.ribo'</li><li>'G2M_score'</li><li>'S_score'</li></ol>\n",
       "</dd>\n",
       "\t<dt>$pca_name</dt>\n",
       "\t\t<dd>'v4k_pca75'</dd>\n",
       "\t<dt>$pca_name2</dt>\n",
       "\t\t<dd>'v4k_pca75_'</dd>\n",
       "\t<dt>$npcs</dt>\n",
       "\t\t<dd>75</dd>\n",
       "\t<dt>$dims</dt>\n",
       "\t\t<dd><style>\n",
       ".list-inline {list-style: none; margin:0; padding: 0}\n",
       ".list-inline>li {display: inline-block}\n",
       ".list-inline>li:not(:last-child)::after {content: \"\\00b7\"; padding: 0 .5ex}\n",
       "</style>\n",
       "<ol class=list-inline><li>1</li><li>2</li><li>3</li><li>4</li><li>5</li><li>6</li><li>7</li><li>8</li><li>9</li><li>10</li><li>11</li><li>12</li><li>13</li><li>14</li><li>15</li><li>16</li><li>17</li><li>18</li><li>19</li><li>20</li><li>21</li><li>22</li><li>23</li><li>24</li><li>25</li><li>26</li><li>27</li><li>28</li><li>29</li><li>30</li><li>31</li><li>32</li><li>33</li><li>34</li><li>35</li><li>36</li><li>37</li><li>38</li><li>39</li><li>40</li><li>41</li><li>42</li><li>43</li><li>44</li><li>45</li><li>46</li><li>47</li><li>48</li><li>49</li><li>50</li><li>51</li><li>52</li><li>53</li><li>54</li><li>55</li><li>56</li><li>57</li><li>58</li><li>59</li><li>60</li><li>61</li><li>62</li><li>63</li><li>64</li><li>65</li><li>66</li><li>67</li><li>68</li><li>69</li><li>70</li><li>71</li><li>72</li><li>73</li><li>74</li><li>75</li></ol>\n",
       "</dd>\n",
       "\t<dt>$umap</dt>\n",
       "\t\t<dd>'UMAP'</dd>\n",
       "\t<dt>$mapped_id</dt>\n",
       "\t\t<dd>'v4k_pca75_predicted.id'</dd>\n",
       "\t<dt>$mapped_score</dt>\n",
       "\t\t<dd>'v4k_pca75_prediction.score.max'</dd>\n",
       "</dl>\n"
      ],
      "text/latex": [
       "\\begin{description}\n",
       "\\item[\\$nvariables] 4000\n",
       "\\item[\\$regress] \\begin{enumerate*}\n",
       "\\item 'nFeature\\_originalexp'\n",
       "\\item 'nCount\\_originalexp'\n",
       "\\item 'percent.mt'\n",
       "\\item 'percent.ribo'\n",
       "\\item 'G2M\\_score'\n",
       "\\item 'S\\_score'\n",
       "\\end{enumerate*}\n",
       "\n",
       "\\item[\\$pca\\_name] 'v4k\\_pca75'\n",
       "\\item[\\$pca\\_name2] 'v4k\\_pca75\\_'\n",
       "\\item[\\$npcs] 75\n",
       "\\item[\\$dims] \\begin{enumerate*}\n",
       "\\item 1\n",
       "\\item 2\n",
       "\\item 3\n",
       "\\item 4\n",
       "\\item 5\n",
       "\\item 6\n",
       "\\item 7\n",
       "\\item 8\n",
       "\\item 9\n",
       "\\item 10\n",
       "\\item 11\n",
       "\\item 12\n",
       "\\item 13\n",
       "\\item 14\n",
       "\\item 15\n",
       "\\item 16\n",
       "\\item 17\n",
       "\\item 18\n",
       "\\item 19\n",
       "\\item 20\n",
       "\\item 21\n",
       "\\item 22\n",
       "\\item 23\n",
       "\\item 24\n",
       "\\item 25\n",
       "\\item 26\n",
       "\\item 27\n",
       "\\item 28\n",
       "\\item 29\n",
       "\\item 30\n",
       "\\item 31\n",
       "\\item 32\n",
       "\\item 33\n",
       "\\item 34\n",
       "\\item 35\n",
       "\\item 36\n",
       "\\item 37\n",
       "\\item 38\n",
       "\\item 39\n",
       "\\item 40\n",
       "\\item 41\n",
       "\\item 42\n",
       "\\item 43\n",
       "\\item 44\n",
       "\\item 45\n",
       "\\item 46\n",
       "\\item 47\n",
       "\\item 48\n",
       "\\item 49\n",
       "\\item 50\n",
       "\\item 51\n",
       "\\item 52\n",
       "\\item 53\n",
       "\\item 54\n",
       "\\item 55\n",
       "\\item 56\n",
       "\\item 57\n",
       "\\item 58\n",
       "\\item 59\n",
       "\\item 60\n",
       "\\item 61\n",
       "\\item 62\n",
       "\\item 63\n",
       "\\item 64\n",
       "\\item 65\n",
       "\\item 66\n",
       "\\item 67\n",
       "\\item 68\n",
       "\\item 69\n",
       "\\item 70\n",
       "\\item 71\n",
       "\\item 72\n",
       "\\item 73\n",
       "\\item 74\n",
       "\\item 75\n",
       "\\end{enumerate*}\n",
       "\n",
       "\\item[\\$umap] 'UMAP'\n",
       "\\item[\\$mapped\\_id] 'v4k\\_pca75\\_predicted.id'\n",
       "\\item[\\$mapped\\_score] 'v4k\\_pca75\\_prediction.score.max'\n",
       "\\end{description}\n"
      ],
      "text/markdown": [
       "$nvariables\n",
       ":   4000\n",
       "$regress\n",
       ":   1. 'nFeature_originalexp'\n",
       "2. 'nCount_originalexp'\n",
       "3. 'percent.mt'\n",
       "4. 'percent.ribo'\n",
       "5. 'G2M_score'\n",
       "6. 'S_score'\n",
       "\n",
       "\n",
       "\n",
       "$pca_name\n",
       ":   'v4k_pca75'\n",
       "$pca_name2\n",
       ":   'v4k_pca75_'\n",
       "$npcs\n",
       ":   75\n",
       "$dims\n",
       ":   1. 1\n",
       "2. 2\n",
       "3. 3\n",
       "4. 4\n",
       "5. 5\n",
       "6. 6\n",
       "7. 7\n",
       "8. 8\n",
       "9. 9\n",
       "10. 10\n",
       "11. 11\n",
       "12. 12\n",
       "13. 13\n",
       "14. 14\n",
       "15. 15\n",
       "16. 16\n",
       "17. 17\n",
       "18. 18\n",
       "19. 19\n",
       "20. 20\n",
       "21. 21\n",
       "22. 22\n",
       "23. 23\n",
       "24. 24\n",
       "25. 25\n",
       "26. 26\n",
       "27. 27\n",
       "28. 28\n",
       "29. 29\n",
       "30. 30\n",
       "31. 31\n",
       "32. 32\n",
       "33. 33\n",
       "34. 34\n",
       "35. 35\n",
       "36. 36\n",
       "37. 37\n",
       "38. 38\n",
       "39. 39\n",
       "40. 40\n",
       "41. 41\n",
       "42. 42\n",
       "43. 43\n",
       "44. 44\n",
       "45. 45\n",
       "46. 46\n",
       "47. 47\n",
       "48. 48\n",
       "49. 49\n",
       "50. 50\n",
       "51. 51\n",
       "52. 52\n",
       "53. 53\n",
       "54. 54\n",
       "55. 55\n",
       "56. 56\n",
       "57. 57\n",
       "58. 58\n",
       "59. 59\n",
       "60. 60\n",
       "61. 61\n",
       "62. 62\n",
       "63. 63\n",
       "64. 64\n",
       "65. 65\n",
       "66. 66\n",
       "67. 67\n",
       "68. 68\n",
       "69. 69\n",
       "70. 70\n",
       "71. 71\n",
       "72. 72\n",
       "73. 73\n",
       "74. 74\n",
       "75. 75\n",
       "\n",
       "\n",
       "\n",
       "$umap\n",
       ":   'UMAP'\n",
       "$mapped_id\n",
       ":   'v4k_pca75_predicted.id'\n",
       "$mapped_score\n",
       ":   'v4k_pca75_prediction.score.max'\n",
       "\n",
       "\n"
      ],
      "text/plain": [
       "$nvariables\n",
       "[1] 4000\n",
       "\n",
       "$regress\n",
       "[1] \"nFeature_originalexp\" \"nCount_originalexp\"   \"percent.mt\"          \n",
       "[4] \"percent.ribo\"         \"G2M_score\"            \"S_score\"             \n",
       "\n",
       "$pca_name\n",
       "[1] \"v4k_pca75\"\n",
       "\n",
       "$pca_name2\n",
       "[1] \"v4k_pca75_\"\n",
       "\n",
       "$npcs\n",
       "[1] 75\n",
       "\n",
       "$dims\n",
       " [1]  1  2  3  4  5  6  7  8  9 10 11 12 13 14 15 16 17 18 19 20 21 22 23 24 25\n",
       "[26] 26 27 28 29 30 31 32 33 34 35 36 37 38 39 40 41 42 43 44 45 46 47 48 49 50\n",
       "[51] 51 52 53 54 55 56 57 58 59 60 61 62 63 64 65 66 67 68 69 70 71 72 73 74 75\n",
       "\n",
       "$umap\n",
       "[1] \"UMAP\"\n",
       "\n",
       "$mapped_id\n",
       "[1] \"v4k_pca75_predicted.id\"\n",
       "\n",
       "$mapped_score\n",
       "[1] \"v4k_pca75_prediction.score.max\"\n"
      ]
     },
     "metadata": {},
     "output_type": "display_data"
    }
   ],
   "source": [
    "listmap"
   ]
  },
  {
   "cell_type": "code",
   "execution_count": 51,
   "id": "ae49e14d-c760-4bd0-9c25-a7ce3b5586ac",
   "metadata": {
    "vscode": {
     "languageId": "r"
    }
   },
   "outputs": [],
   "source": [
    "# Findvariable Features\n",
    "#seurat_atlas <- FindVariableFeatures(object = seurat_atlas, nfeatures = listmap$nvariables)"
   ]
  },
  {
   "cell_type": "code",
   "execution_count": 52,
   "id": "4037f1cc-9549-468f-acb2-715637678de4",
   "metadata": {
    "vscode": {
     "languageId": "r"
    }
   },
   "outputs": [],
   "source": [
    "# Regression\n",
    "#seurat_atlas <- ScaleData(object = seurat_atlas, \n",
    "#                          features = VariableFeatures(seurat_atlas),\n",
    "#                          vars.to.regress = listmap$regress,\n",
    "#                          block.size = 20000)"
   ]
  },
  {
   "cell_type": "code",
   "execution_count": 53,
   "id": "ef7b0322-0d6e-46fa-8bbc-3a788a4e5ff6",
   "metadata": {
    "vscode": {
     "languageId": "r"
    }
   },
   "outputs": [
    {
     "data": {
      "text/html": [
       "4000"
      ],
      "text/latex": [
       "4000"
      ],
      "text/markdown": [
       "4000"
      ],
      "text/plain": [
       "[1] 4000"
      ]
     },
     "metadata": {},
     "output_type": "display_data"
    }
   ],
   "source": [
    "length(VariableFeatures(seurat_atlas))"
   ]
  },
  {
   "cell_type": "code",
   "execution_count": 54,
   "id": "a867d3de-5709-4151-829d-d752ff3ad3b8",
   "metadata": {
    "vscode": {
     "languageId": "r"
    }
   },
   "outputs": [
    {
     "name": "stderr",
     "output_type": "stream",
     "text": [
      "PC_ 1 \n",
      "Positive:  Tmsb10, Tuba1a, Ifitm2, Marcks, 2810417H13Rik, Basp1, Gnas, Hmga2, Vim, Cald1 \n",
      "\t   Mdk, Marcksl1, Nedd4, Acta2, Sox4, Tpm4, Tpm1, H2afy2, Fscn1, Serpinh1 \n",
      "\t   Ttc3, Tagln, Eid1, Stmn1, Tmsb4x, Fabp5, Hmgb3, Nrp1, Ccnd2, Cnn2 \n",
      "Negative:  Folr1, Apom, Amn, Rbp4, Apoa1, Ttr, Ctsh, Cubn, Apoa4, 2610528J11Rik \n",
      "\t   Lgals2, Apob, Pla2g12b, Tmem37, Mt1, Car7, Aldob, Fgb, Spink1, Trap1a \n",
      "\t   2210011C24Rik, Slc2a2, Lgmn, Slc39a5, 4933402E13Rik, Gipc2, Fmr1nb, Apoc1, Apoe, Reep6 \n",
      "PC_ 2 \n",
      "Positive:  Car2, Elf5, Fabp3, Hdgf, Gypa, Gjb3, Prss50, Alas2, Gpx1, Perp \n",
      "\t   Tex19.1, Dppa4, Htra1, Gm9, Nr0b1, Sfn, Zfp42, Ccnd3, Ddah1, Cldn3 \n",
      "\t   Mrap, Slc4a1, Blvrb, Gjb5, Cited4, Trim10, Tfap2c, Slc25a37, Hemgn, Klf1 \n",
      "Negative:  Mdk, Gpc3, Bex2, Ctsl, Apom, Pla2g12b, Dab2, Apoa4, Id3, Ctsh \n",
      "\t   Amn, Aldob, Lgals2, Car7, Fgb, Cubn, Stmn1, Apoa1, Gipc2, Crabp2 \n",
      "\t   Ttr, Serpinh1, Slc2a2, Slc39a5, Apob, Pcbd1, Hsp90b1, Sox11, 2210011C24Rik, Rbp4 \n",
      "PC_ 3 \n",
      "Positive:  Gypa, Alas2, Prdx2, Cited4, Klf1, Blvrb, Trim10, Mrap, Slc25a37, Slc4a1 \n",
      "\t   Hemgn, Snca, Cpox, Mgst3, Pnpo, Smim1, Ermap, Epor, Slc39a8, Tmem14c \n",
      "\t   Slc38a5, Nxpe2, Prkar2b, Ell2, Acp5, Ncf4, Sptb, Tspan32, Add2, Kcnn4 \n",
      "Negative:  Ngfrap1, Wbp5, Elf5, Gjb3, Fabp3, Tex19.1, Perp, Actg1, Calm2, Cldn3 \n",
      "\t   Anxa5, Sfn, Nup62cl, Htra1, S100a6, Gjb5, Krt18, Zfp42, Dppa4, Krt19 \n",
      "\t   Gm9, Tinagl1, Nr0b1, Trap1a, Id2, Tfap2c, Cd63, Bex1, Cldn4, Rnf128 \n",
      "PC_ 4 \n",
      "Positive:  Cdh5, Esam, Icam2, Cldn5, Ecscr, Ctla2a, Kdr, Pecam1, Vamp5, Plvap \n",
      "\t   Cd34, Fli1, Gng11, Arhgdib, Ramp2, Grap, Rhoj, Emcn, Rasip1, Tek \n",
      "\t   Tgfb1, Plxnd1, Igfbp4, Hapln1, Flt1, Gimap1, Eng, Igf1, Tie1, Sox18 \n",
      "Negative:  Pou5f1, Ldhb, Psip1, Epcam, Dnmt3b, Pim2, Tgif1, Mkrn1, Spint2, H2afv \n",
      "\t   Car14, Utf1, Slc7a3, Igfbp2, Socs2, Fgf5, Wfdc2, Cadm1, Trh, Gng3 \n",
      "\t   Acer2, Rab25, Ldha, Pmaip1, Sap30, Otx2, Kcnk1, Cldn6, Tdgf1, Bcat1 \n",
      "PC_ 5 \n",
      "Positive:  Pou5f1, Pfn1, Pgk1, Pim2, Cdh5, Icam2, Eif4a1, Cldn5, Dnmt3b, Limd2 \n",
      "\t   Cd34, Tceal8, Marcksl1, Esam, Ldhb, Ctla2a, Rasip1, Plvap, Ramp2, Slc7a3 \n",
      "\t   Gngt2, Tdgf1, Fgf5, Rasgrp2, Slc25a5, Ifitm2, Tgif1, Calm2, Emb, Ppp4c \n",
      "Negative:  Hnrnpa0, Gm1673, Ybx3, Tpt1, Id2, Elf5, Hspa14, Gm42418, Tex19.1, Morc4 \n",
      "\t   Hist1h1b, Dhx9, Hist1h1e, Vcan, Tinagl1, Gjb3, Prrc2c, Fabp3, Tubb2b, Supt16 \n",
      "\t   Srp54b, Ptn, Erh, Slc25a4, Nr2f1, Hnrnpd, Cdv3, Cldn3, Gm9, Baz1a \n",
      "\n",
      "Warning message:\n",
      "\"Key 'PC_' taken, using 'v4kpca75_' instead\"\n"
     ]
    }
   ],
   "source": [
    "# Run PCA \n",
    "seurat_atlas <- RunPCA(seurat_atlas,\n",
    "                       reduction.name = listmap$pca_name,\n",
    "                       npcs = listmap$npcs, \n",
    "                       features =  VariableFeatures(seurat_atlas)\n",
    "                      )"
   ]
  },
  {
   "cell_type": "code",
   "execution_count": 55,
   "id": "ec1f2795-daf1-4839-bccb-bd18da728917",
   "metadata": {
    "vscode": {
     "languageId": "r"
    }
   },
   "outputs": [
    {
     "name": "stderr",
     "output_type": "stream",
     "text": [
      "Projecting cell embeddings\n",
      "\n",
      "Finding neighborhoods\n",
      "\n",
      "Finding anchors\n",
      "\n",
      "\tFound 2904 anchors\n",
      "\n",
      "Finding integration vectors\n",
      "\n",
      "Finding integration vector weights\n",
      "\n",
      "Predicting cell labels\n",
      "\n"
     ]
    }
   ],
   "source": [
    "# with merged_pca (no integration)\n",
    "anchors <- FindTransferAnchors(reference = seurat_atlas, query = seurat_query, dims = listmap$dims, reference.reduction = listmap$pca_name)\n",
    "predictions <- TransferData(anchorset = anchors, refdata = seurat_atlas$celltype_extended_atlas, dims = listmap$dims )"
   ]
  },
  {
   "cell_type": "code",
   "execution_count": 56,
   "id": "b9788ad6-a5e1-4cd2-a35c-dac88bd5240f",
   "metadata": {
    "vscode": {
     "languageId": "r"
    }
   },
   "outputs": [
    {
     "data": {
      "text/html": [
       "<table class=\"dataframe\">\n",
       "<caption>A data.frame: 6 × 2</caption>\n",
       "<thead>\n",
       "\t<tr><th></th><th scope=col>v4k_pca75_predicted.id</th><th scope=col>v4k_pca75_prediction.score.max</th></tr>\n",
       "\t<tr><th></th><th scope=col>&lt;chr&gt;</th><th scope=col>&lt;dbl&gt;</th></tr>\n",
       "</thead>\n",
       "<tbody>\n",
       "\t<tr><th scope=row>AAACCCAAGAATTCAG-1_1</th><td>Epiblast  </td><td>0.8556523</td></tr>\n",
       "\t<tr><th scope=row>AAACCCAAGATCACCT-1_1</th><td>Mesenchyme</td><td>0.5145252</td></tr>\n",
       "\t<tr><th scope=row>AAACCCAAGCAGGGAG-1_1</th><td>Epicardium</td><td>0.2742853</td></tr>\n",
       "\t<tr><th scope=row>AAACCCAAGCGCAATG-1_1</th><td>Mesenchyme</td><td>0.5446904</td></tr>\n",
       "\t<tr><th scope=row>AAACCCAAGCTGGTGA-1_1</th><td>Allantois </td><td>0.5178056</td></tr>\n",
       "\t<tr><th scope=row>AAACCCAAGGGCCAAT-1_1</th><td>EMP       </td><td>0.9861749</td></tr>\n",
       "</tbody>\n",
       "</table>\n"
      ],
      "text/latex": [
       "A data.frame: 6 × 2\n",
       "\\begin{tabular}{r|ll}\n",
       "  & v4k\\_pca75\\_predicted.id & v4k\\_pca75\\_prediction.score.max\\\\\n",
       "  & <chr> & <dbl>\\\\\n",
       "\\hline\n",
       "\tAAACCCAAGAATTCAG-1\\_1 & Epiblast   & 0.8556523\\\\\n",
       "\tAAACCCAAGATCACCT-1\\_1 & Mesenchyme & 0.5145252\\\\\n",
       "\tAAACCCAAGCAGGGAG-1\\_1 & Epicardium & 0.2742853\\\\\n",
       "\tAAACCCAAGCGCAATG-1\\_1 & Mesenchyme & 0.5446904\\\\\n",
       "\tAAACCCAAGCTGGTGA-1\\_1 & Allantois  & 0.5178056\\\\\n",
       "\tAAACCCAAGGGCCAAT-1\\_1 & EMP        & 0.9861749\\\\\n",
       "\\end{tabular}\n"
      ],
      "text/markdown": [
       "\n",
       "A data.frame: 6 × 2\n",
       "\n",
       "| <!--/--> | v4k_pca75_predicted.id &lt;chr&gt; | v4k_pca75_prediction.score.max &lt;dbl&gt; |\n",
       "|---|---|---|\n",
       "| AAACCCAAGAATTCAG-1_1 | Epiblast   | 0.8556523 |\n",
       "| AAACCCAAGATCACCT-1_1 | Mesenchyme | 0.5145252 |\n",
       "| AAACCCAAGCAGGGAG-1_1 | Epicardium | 0.2742853 |\n",
       "| AAACCCAAGCGCAATG-1_1 | Mesenchyme | 0.5446904 |\n",
       "| AAACCCAAGCTGGTGA-1_1 | Allantois  | 0.5178056 |\n",
       "| AAACCCAAGGGCCAAT-1_1 | EMP        | 0.9861749 |\n",
       "\n"
      ],
      "text/plain": [
       "                     v4k_pca75_predicted.id v4k_pca75_prediction.score.max\n",
       "AAACCCAAGAATTCAG-1_1 Epiblast               0.8556523                     \n",
       "AAACCCAAGATCACCT-1_1 Mesenchyme             0.5145252                     \n",
       "AAACCCAAGCAGGGAG-1_1 Epicardium             0.2742853                     \n",
       "AAACCCAAGCGCAATG-1_1 Mesenchyme             0.5446904                     \n",
       "AAACCCAAGCTGGTGA-1_1 Allantois              0.5178056                     \n",
       "AAACCCAAGGGCCAAT-1_1 EMP                    0.9861749                     "
      ]
     },
     "metadata": {},
     "output_type": "display_data"
    }
   ],
   "source": [
    "predictions_short <- predictions[, c('predicted.id','prediction.score.max')]\n",
    "colnames(predictions_short) <- paste0(listmap$pca_name2, colnames(predictions_short))\n",
    "head(predictions_short)"
   ]
  },
  {
   "cell_type": "code",
   "execution_count": 57,
   "id": "0d4c7655-6429-433a-a74b-c450b026cbe3",
   "metadata": {
    "vscode": {
     "languageId": "r"
    }
   },
   "outputs": [],
   "source": [
    "seurat_query <- AddMetaData(seurat_query, metadata = predictions_short)"
   ]
  },
  {
   "cell_type": "code",
   "execution_count": null,
   "id": "73053634",
   "metadata": {
    "vscode": {
     "languageId": "r"
    }
   },
   "outputs": [],
   "source": [
    "# make sure your UMAP reduction name is correct\n",
    "reduction_to_plot <- listmap$umap    # or \"pca_harmony_umap_1\" if that really is your slot\n",
    "\n",
    "# get all the unique extended‐type labels (including NA if present)\n",
    "conditions <- unique(seurat_query@meta.data[,listmap$mapped_id])\n",
    "\n",
    "Idents(seurat_query) <- listmap$mapped_id\n",
    "\n",
    "options(repr.plot.width=8, repr.plot.height=6)\n",
    "for (cond in conditions) {\n",
    "\t# skip NA if you don't care to plot it\n",
    "\tif (is.na(cond)) next\n",
    "\t\n",
    "\t# grab the cells of that type\n",
    "\tcells_of_interest <- WhichCells(\n",
    "\t\tobject    = seurat_query,\n",
    "\t\t idents =  cond\n",
    "\t)\n",
    "\t\n",
    "\t# make the plot\n",
    "\tp <- DimPlot(\n",
    "\t\tobject          = seurat_query,\n",
    "\t\treduction       = reduction_to_plot,\n",
    "\t\tcells.highlight = cells_of_interest,\n",
    "\t\tcols.highlight  = \"firebrick\",   # or any color you like\n",
    "\t\tcols            = \"lightgrey\",   # background cells\n",
    "\t\tpt.size         = 0.5, alpha = 0.5\n",
    "\t) +\n",
    "\t\tNoAxes()+NoLegend() +\n",
    "\t\tggtitle(cond)\n",
    "\t\n",
    "\tprint(p)\n",
    "}\n"
   ]
  },
  {
   "cell_type": "code",
   "execution_count": 59,
   "id": "1b385512-37d8-4da9-bbd7-1c00f03db8ee",
   "metadata": {
    "vscode": {
     "languageId": "r"
    }
   },
   "outputs": [
    {
     "data": {
      "text/html": [
       "'v4k_pca75_predicted.id'"
      ],
      "text/latex": [
       "'v4k\\_pca75\\_predicted.id'"
      ],
      "text/markdown": [
       "'v4k_pca75_predicted.id'"
      ],
      "text/plain": [
       "[1] \"v4k_pca75_predicted.id\""
      ]
     },
     "metadata": {},
     "output_type": "display_data"
    }
   ],
   "source": [
    "listmap$mapped_id"
   ]
  },
  {
   "cell_type": "code",
   "execution_count": 60,
   "id": "b4e762c0-a0f3-4b89-9ca7-32ab791df3fb",
   "metadata": {
    "vscode": {
     "languageId": "r"
    }
   },
   "outputs": [
    {
     "data": {
      "image/png": "[encoded data removed]",
      "text/plain": [
       "Plot with title \"Histogram of predictions_short[, listmap$mapped_score]\""
      ]
     },
     "metadata": {
      "image/png": {
       "height": 360,
       "width": 480
      }
     },
     "output_type": "display_data"
    }
   ],
   "source": [
    "options(repr.plot.width=8, repr.plot.height=6)\n",
    "hist(predictions_short[,listmap$mapped_score],breaks = 500)"
   ]
  },
  {
   "cell_type": "code",
   "execution_count": 61,
   "id": "5f63263f-12bb-4a5c-8f11-862cca39a646",
   "metadata": {
    "vscode": {
     "languageId": "r"
    }
   },
   "outputs": [],
   "source": [
    "saveRDS(predictions, paste0(listmap$pca_name2,'predictions.rds'))"
   ]
  },
  {
   "cell_type": "code",
   "execution_count": 62,
   "id": "c1853776-c247-4b29-afdc-d3bc245e638a",
   "metadata": {
    "vscode": {
     "languageId": "r"
    }
   },
   "outputs": [],
   "source": [
    "saveRDS(anchors, paste0(listmap$pca_name2,'anchors.rds'))"
   ]
  },
  {
   "cell_type": "markdown",
   "id": "19025fb3-d758-475d-97b1-3021ef8e209b",
   "metadata": {},
   "source": [
    "## with 4000 variable features (4k) with 100 pca (v4k_pca100)"
   ]
  },
  {
   "cell_type": "code",
   "execution_count": 63,
   "id": "c52d0968-7605-4bb7-b7ca-38fe54c18cf8",
   "metadata": {
    "vscode": {
     "languageId": "r"
    }
   },
   "outputs": [],
   "source": [
    "rm(listmap)"
   ]
  },
  {
   "cell_type": "code",
   "execution_count": 64,
   "id": "6e455b27-8d8e-413b-9fde-66827295e42a",
   "metadata": {
    "vscode": {
     "languageId": "r"
    }
   },
   "outputs": [],
   "source": [
    "listmap <- list()\n",
    "listmap$nvariables <- 4000\n",
    "listmap$regress <-  c(\"nFeature_originalexp\", \"nCount_originalexp\", \"percent.mt\", \"percent.ribo\", \"G2M_score\", \"S_score\")\n",
    "listmap$pca_name <- 'v4k_pca100'\n",
    "listmap$pca_name2 <- 'v4k_pca100_'\n",
    "listmap$npcs = 100\n",
    "listmap$dims = 1:100\n",
    "listmap$umap = 'UMAP'\n",
    "listmap$mapped_id <- 'v4k_pca100_predicted.id'\n",
    "listmap$mapped_score <- 'v4k_pca100_prediction.score.max'"
   ]
  },
  {
   "cell_type": "code",
   "execution_count": 65,
   "id": "55f6694d-2211-4559-bb0f-417a75e44c15",
   "metadata": {
    "vscode": {
     "languageId": "r"
    }
   },
   "outputs": [],
   "source": [
    "# Findvariable Features\n",
    "# seurat_atlas <- FindVariableFeatures(object = seurat_atlas, nfeatures = listmap$nvariables)"
   ]
  },
  {
   "cell_type": "code",
   "execution_count": 66,
   "id": "701fcec2-d715-418d-acae-217750385103",
   "metadata": {
    "vscode": {
     "languageId": "r"
    }
   },
   "outputs": [],
   "source": [
    "# Regression\n",
    "# seurat_atlas <- ScaleData(object = seurat_atlas, \n",
    "#                          features = VariableFeatures(seurat_atlas),\n",
    "#                          vars.to.regress = listmap$regress,\n",
    "#                          block.size = 20000)"
   ]
  },
  {
   "cell_type": "code",
   "execution_count": 67,
   "id": "4c01517f-b70b-4e2a-b3c4-930c44283a7a",
   "metadata": {
    "vscode": {
     "languageId": "r"
    }
   },
   "outputs": [
    {
     "data": {
      "text/html": [
       "4000"
      ],
      "text/latex": [
       "4000"
      ],
      "text/markdown": [
       "4000"
      ],
      "text/plain": [
       "[1] 4000"
      ]
     },
     "metadata": {},
     "output_type": "display_data"
    }
   ],
   "source": [
    "length(VariableFeatures(seurat_atlas))"
   ]
  },
  {
   "cell_type": "code",
   "execution_count": 68,
   "id": "43dec851-709d-4490-89e8-275cd6d63d20",
   "metadata": {
    "vscode": {
     "languageId": "r"
    }
   },
   "outputs": [
    {
     "name": "stderr",
     "output_type": "stream",
     "text": [
      "PC_ 1 \n",
      "Positive:  Folr1, Apom, Amn, Rbp4, Apoa1, Ttr, Ctsh, Cubn, Apoa4, 2610528J11Rik \n",
      "\t   Lgals2, Apob, Pla2g12b, Tmem37, Mt1, Car7, Aldob, Fgb, Spink1, Trap1a \n",
      "\t   2210011C24Rik, Slc2a2, Lgmn, Slc39a5, 4933402E13Rik, Gipc2, Fmr1nb, Apoc1, Apoe, Reep6 \n",
      "Negative:  Tmsb10, Tuba1a, Ifitm2, Marcks, 2810417H13Rik, Basp1, Gnas, Hmga2, Vim, Cald1 \n",
      "\t   Mdk, Marcksl1, Nedd4, Acta2, Sox4, Tpm4, Tpm1, H2afy2, Fscn1, Serpinh1 \n",
      "\t   Ttc3, Tagln, Eid1, Stmn1, Tmsb4x, Fabp5, Hmgb3, Nrp1, Ccnd2, Cnn2 \n",
      "PC_ 2 \n",
      "Positive:  Car2, Elf5, Fabp3, Hdgf, Gypa, Gjb3, Prss50, Alas2, Gpx1, Perp \n",
      "\t   Tex19.1, Dppa4, Htra1, Gm9, Nr0b1, Sfn, Zfp42, Ccnd3, Ddah1, Cldn3 \n",
      "\t   Mrap, Slc4a1, Blvrb, Gjb5, Cited4, Trim10, Tfap2c, Slc25a37, Hemgn, Klf1 \n",
      "Negative:  Mdk, Gpc3, Bex2, Ctsl, Apom, Pla2g12b, Dab2, Apoa4, Id3, Ctsh \n",
      "\t   Amn, Aldob, Lgals2, Car7, Fgb, Cubn, Stmn1, Apoa1, Gipc2, Crabp2 \n",
      "\t   Ttr, Serpinh1, Slc2a2, Slc39a5, Apob, Pcbd1, Hsp90b1, Sox11, 2210011C24Rik, Rbp4 \n",
      "PC_ 3 \n",
      "Positive:  Gypa, Alas2, Prdx2, Cited4, Klf1, Blvrb, Trim10, Mrap, Slc25a37, Slc4a1 \n",
      "\t   Hemgn, Snca, Cpox, Mgst3, Pnpo, Smim1, Ermap, Epor, Slc39a8, Tmem14c \n",
      "\t   Slc38a5, Nxpe2, Prkar2b, Ell2, Acp5, Ncf4, Sptb, Tspan32, Add2, Kcnn4 \n",
      "Negative:  Ngfrap1, Wbp5, Elf5, Gjb3, Fabp3, Tex19.1, Perp, Actg1, Calm2, Cldn3 \n",
      "\t   Anxa5, Sfn, Nup62cl, Htra1, S100a6, Gjb5, Krt18, Zfp42, Dppa4, Krt19 \n",
      "\t   Gm9, Tinagl1, Nr0b1, Trap1a, Id2, Tfap2c, Cd63, Bex1, Cldn4, Rnf128 \n",
      "PC_ 4 \n",
      "Positive:  Cdh5, Esam, Icam2, Cldn5, Ecscr, Ctla2a, Kdr, Pecam1, Vamp5, Plvap \n",
      "\t   Cd34, Fli1, Gng11, Arhgdib, Ramp2, Grap, Rhoj, Emcn, Rasip1, Tek \n",
      "\t   Tgfb1, Plxnd1, Igfbp4, Hapln1, Flt1, Gimap1, Eng, Igf1, Tie1, Sox18 \n",
      "Negative:  Pou5f1, Ldhb, Psip1, Epcam, Dnmt3b, Pim2, Tgif1, Mkrn1, Spint2, H2afv \n",
      "\t   Car14, Utf1, Slc7a3, Igfbp2, Socs2, Fgf5, Wfdc2, Cadm1, Trh, Gng3 \n",
      "\t   Acer2, Rab25, Ldha, Pmaip1, Sap30, Otx2, Kcnk1, Cldn6, Tdgf1, Bcat1 \n",
      "PC_ 5 \n",
      "Positive:  Pou5f1, Pfn1, Pgk1, Pim2, Cdh5, Icam2, Eif4a1, Cldn5, Dnmt3b, Limd2 \n",
      "\t   Cd34, Tceal8, Marcksl1, Esam, Ldhb, Ctla2a, Rasip1, Plvap, Ramp2, Slc7a3 \n",
      "\t   Gngt2, Tdgf1, Fgf5, Rasgrp2, Slc25a5, Ifitm2, Tgif1, Calm2, Emb, Ppp4c \n",
      "Negative:  Hnrnpa0, Gm1673, Ybx3, Tpt1, Id2, Elf5, Hspa14, Gm42418, Tex19.1, Morc4 \n",
      "\t   Hist1h1b, Dhx9, Hist1h1e, Vcan, Tinagl1, Gjb3, Prrc2c, Fabp3, Tubb2b, Supt16 \n",
      "\t   Srp54b, Ptn, Erh, Slc25a4, Nr2f1, Hnrnpd, Cdv3, Cldn3, Gm9, Baz1a \n",
      "\n",
      "Warning message:\n",
      "\"Key 'PC_' taken, using 'v4kpca100_' instead\"\n"
     ]
    }
   ],
   "source": [
    "# Run PCA \n",
    "seurat_atlas <- RunPCA(seurat_atlas,\n",
    "                       reduction.name = listmap$pca_name,\n",
    "                       npcs = listmap$npcs, \n",
    "                       features =  VariableFeatures(seurat_atlas)\n",
    "                      )"
   ]
  },
  {
   "cell_type": "code",
   "execution_count": 69,
   "id": "8169da92-ef49-49a3-b139-c1ea88527df6",
   "metadata": {
    "vscode": {
     "languageId": "r"
    }
   },
   "outputs": [
    {
     "name": "stderr",
     "output_type": "stream",
     "text": [
      "Projecting cell embeddings\n",
      "\n",
      "Finding neighborhoods\n",
      "\n",
      "Finding anchors\n",
      "\n",
      "\tFound 2700 anchors\n",
      "\n",
      "Finding integration vectors\n",
      "\n",
      "Finding integration vector weights\n",
      "\n",
      "Predicting cell labels\n",
      "\n"
     ]
    }
   ],
   "source": [
    "# with merged_pca (no integration)\n",
    "anchors <- FindTransferAnchors(reference = seurat_atlas, query = seurat_query, dims = listmap$dims, reference.reduction = listmap$pca_name)\n",
    "predictions <- TransferData(anchorset = anchors, refdata = seurat_atlas$celltype_extended_atlas, dims = listmap$dims )"
   ]
  },
  {
   "cell_type": "code",
   "execution_count": 70,
   "id": "b36473bc-da9a-4b75-b7c9-8fd93e086bf8",
   "metadata": {
    "vscode": {
     "languageId": "r"
    }
   },
   "outputs": [
    {
     "data": {
      "text/html": [
       "<table class=\"dataframe\">\n",
       "<caption>A data.frame: 6 × 2</caption>\n",
       "<thead>\n",
       "\t<tr><th></th><th scope=col>v4k_pca100_predicted.id</th><th scope=col>v4k_pca100_prediction.score.max</th></tr>\n",
       "\t<tr><th></th><th scope=col>&lt;chr&gt;</th><th scope=col>&lt;dbl&gt;</th></tr>\n",
       "</thead>\n",
       "<tbody>\n",
       "\t<tr><th scope=row>AAACCCAAGAATTCAG-1_1</th><td>Epiblast  </td><td>0.8866690</td></tr>\n",
       "\t<tr><th scope=row>AAACCCAAGATCACCT-1_1</th><td>Mesenchyme</td><td>0.6048621</td></tr>\n",
       "\t<tr><th scope=row>AAACCCAAGCAGGGAG-1_1</th><td>Mesenchyme</td><td>0.3907387</td></tr>\n",
       "\t<tr><th scope=row>AAACCCAAGCGCAATG-1_1</th><td>Mesenchyme</td><td>0.6151522</td></tr>\n",
       "\t<tr><th scope=row>AAACCCAAGCTGGTGA-1_1</th><td>Allantois </td><td>0.8963179</td></tr>\n",
       "\t<tr><th scope=row>AAACCCAAGGGCCAAT-1_1</th><td>EMP       </td><td>0.9697542</td></tr>\n",
       "</tbody>\n",
       "</table>\n"
      ],
      "text/latex": [
       "A data.frame: 6 × 2\n",
       "\\begin{tabular}{r|ll}\n",
       "  & v4k\\_pca100\\_predicted.id & v4k\\_pca100\\_prediction.score.max\\\\\n",
       "  & <chr> & <dbl>\\\\\n",
       "\\hline\n",
       "\tAAACCCAAGAATTCAG-1\\_1 & Epiblast   & 0.8866690\\\\\n",
       "\tAAACCCAAGATCACCT-1\\_1 & Mesenchyme & 0.6048621\\\\\n",
       "\tAAACCCAAGCAGGGAG-1\\_1 & Mesenchyme & 0.3907387\\\\\n",
       "\tAAACCCAAGCGCAATG-1\\_1 & Mesenchyme & 0.6151522\\\\\n",
       "\tAAACCCAAGCTGGTGA-1\\_1 & Allantois  & 0.8963179\\\\\n",
       "\tAAACCCAAGGGCCAAT-1\\_1 & EMP        & 0.9697542\\\\\n",
       "\\end{tabular}\n"
      ],
      "text/markdown": [
       "\n",
       "A data.frame: 6 × 2\n",
       "\n",
       "| <!--/--> | v4k_pca100_predicted.id &lt;chr&gt; | v4k_pca100_prediction.score.max &lt;dbl&gt; |\n",
       "|---|---|---|\n",
       "| AAACCCAAGAATTCAG-1_1 | Epiblast   | 0.8866690 |\n",
       "| AAACCCAAGATCACCT-1_1 | Mesenchyme | 0.6048621 |\n",
       "| AAACCCAAGCAGGGAG-1_1 | Mesenchyme | 0.3907387 |\n",
       "| AAACCCAAGCGCAATG-1_1 | Mesenchyme | 0.6151522 |\n",
       "| AAACCCAAGCTGGTGA-1_1 | Allantois  | 0.8963179 |\n",
       "| AAACCCAAGGGCCAAT-1_1 | EMP        | 0.9697542 |\n",
       "\n"
      ],
      "text/plain": [
       "                     v4k_pca100_predicted.id v4k_pca100_prediction.score.max\n",
       "AAACCCAAGAATTCAG-1_1 Epiblast                0.8866690                      \n",
       "AAACCCAAGATCACCT-1_1 Mesenchyme              0.6048621                      \n",
       "AAACCCAAGCAGGGAG-1_1 Mesenchyme              0.3907387                      \n",
       "AAACCCAAGCGCAATG-1_1 Mesenchyme              0.6151522                      \n",
       "AAACCCAAGCTGGTGA-1_1 Allantois               0.8963179                      \n",
       "AAACCCAAGGGCCAAT-1_1 EMP                     0.9697542                      "
      ]
     },
     "metadata": {},
     "output_type": "display_data"
    }
   ],
   "source": [
    "predictions_short <- predictions[, c('predicted.id','prediction.score.max')]\n",
    "colnames(predictions_short) <- paste0(listmap$pca_name2, colnames(predictions_short))\n",
    "head(predictions_short)"
   ]
  },
  {
   "cell_type": "code",
   "execution_count": 71,
   "id": "da4c98f2-4986-4586-8c71-fb2c2ad4612b",
   "metadata": {
    "vscode": {
     "languageId": "r"
    }
   },
   "outputs": [],
   "source": [
    "seurat_query <- AddMetaData(seurat_query, metadata = predictions_short)"
   ]
  },
  {
   "cell_type": "code",
   "execution_count": null,
   "id": "ac30bd05",
   "metadata": {
    "vscode": {
     "languageId": "r"
    }
   },
   "outputs": [],
   "source": [
    "# make sure your UMAP reduction name is correct\n",
    "reduction_to_plot <- listmap$umap    # or \"pca_harmony_umap_1\" if that really is your slot\n",
    "\n",
    "# get all the unique extended‐type labels (including NA if present)\n",
    "conditions <- unique(seurat_query@meta.data[,listmap$mapped_id])\n",
    "\n",
    "Idents(seurat_query) <- listmap$mapped_id\n",
    "\n",
    "options(repr.plot.width=8, repr.plot.height=6)\n",
    "for (cond in conditions) {\n",
    "\t# skip NA if you don't care to plot it\n",
    "\tif (is.na(cond)) next\n",
    "\t\n",
    "\t# grab the cells of that type\n",
    "\tcells_of_interest <- WhichCells(\n",
    "\t\tobject    = seurat_query,\n",
    "\t\t idents =  cond\n",
    "\t)\n",
    "\t\n",
    "\t# make the plot\n",
    "\tp <- DimPlot(\n",
    "\t\tobject          = seurat_query,\n",
    "\t\treduction       = reduction_to_plot,\n",
    "\t\tcells.highlight = cells_of_interest,\n",
    "\t\tcols.highlight  = \"firebrick\",   # or any color you like\n",
    "\t\tcols            = \"lightgrey\",   # background cells\n",
    "\t\tpt.size         = 0.5, alpha = 0.5\n",
    "\t) +\n",
    "\t\tNoAxes()+NoLegend() +\n",
    "\t\tggtitle(cond)\n",
    "\t\n",
    "\tprint(p)\n",
    "}\n"
   ]
  },
  {
   "cell_type": "code",
   "execution_count": 73,
   "id": "260aeb0d-9769-4f0e-ae20-a969ee9757e3",
   "metadata": {
    "vscode": {
     "languageId": "r"
    }
   },
   "outputs": [
    {
     "data": {
      "image/png": "[encoded data removed]",
      "text/plain": [
       "Plot with title \"Histogram of predictions_short[, listmap$mapped_score]\""
      ]
     },
     "metadata": {
      "image/png": {
       "height": 360,
       "width": 480
      }
     },
     "output_type": "display_data"
    }
   ],
   "source": [
    "options(repr.plot.width=8, repr.plot.height=6)\n",
    "hist(predictions_short[,listmap$mapped_score],breaks = 500)"
   ]
  },
  {
   "cell_type": "code",
   "execution_count": 74,
   "id": "a238ee0f-df32-48a8-bcd5-9c1ab847b32c",
   "metadata": {
    "vscode": {
     "languageId": "r"
    }
   },
   "outputs": [],
   "source": [
    "saveRDS(predictions, paste0(listmap$pca_name2,'predictions.rds'))"
   ]
  },
  {
   "cell_type": "code",
   "execution_count": null,
   "id": "0d1037ff-9f57-41af-9edc-68e157a5d5c9",
   "metadata": {
    "vscode": {
     "languageId": "r"
    }
   },
   "outputs": [],
   "source": []
  },
  {
   "cell_type": "code",
   "execution_count": 75,
   "id": "2b9cd41a-7990-40ae-9809-42778560cfcb",
   "metadata": {
    "vscode": {
     "languageId": "r"
    }
   },
   "outputs": [],
   "source": [
    "saveRDS(anchors, paste0(listmap$pca_name2,'anchors.rds'))"
   ]
  },
  {
   "cell_type": "markdown",
   "id": "df39e780-72c8-4c73-9e7b-adebf5f17856",
   "metadata": {},
   "source": [
    "## with 7000 variable features (7k) with 50 pca (v7k_pca50)"
   ]
  },
  {
   "cell_type": "code",
   "execution_count": 76,
   "id": "4cc4e400-bd12-4dc7-8aed-1e742e904bf0",
   "metadata": {
    "vscode": {
     "languageId": "r"
    }
   },
   "outputs": [],
   "source": [
    "rm(listmap)"
   ]
  },
  {
   "cell_type": "code",
   "execution_count": 77,
   "id": "dcd98ceb-59da-4aee-8bdc-0910ca774f80",
   "metadata": {
    "vscode": {
     "languageId": "r"
    }
   },
   "outputs": [],
   "source": [
    "listmap <- list()\n",
    "listmap$nvariables <- 7000\n",
    "listmap$regress <-  c(\"nFeature_originalexp\", \"nCount_originalexp\", \"percent.mt\", \"percent.ribo\", \"G2M_score\", \"S_score\")\n",
    "listmap$pca_name <- 'v7k_pca50'\n",
    "listmap$pca_name2 <- 'v7k_pca50_'\n",
    "listmap$npcs = 50\n",
    "listmap$dims = 1:50\n",
    "listmap$umap = 'UMAP'\n",
    "listmap$mapped_id <- 'v7k_pca50_predicted.id'\n",
    "listmap$mapped_score <- 'v7k_pca50_prediction.score.max'"
   ]
  },
  {
   "cell_type": "code",
   "execution_count": 78,
   "id": "669a7a71-daf9-4c4b-a765-27166c4a91b6",
   "metadata": {
    "vscode": {
     "languageId": "r"
    }
   },
   "outputs": [],
   "source": [
    "# Findvariable Features\n",
    "seurat_atlas <- FindVariableFeatures(object = seurat_atlas, nfeatures = listmap$nvariables)"
   ]
  },
  {
   "cell_type": "code",
   "execution_count": 79,
   "id": "d45fc46d-f838-4c45-89b8-1fb20cc5a3fb",
   "metadata": {
    "vscode": {
     "languageId": "r"
    }
   },
   "outputs": [
    {
     "name": "stderr",
     "output_type": "stream",
     "text": [
      "Regressing out nFeature_originalexp, nCount_originalexp, percent.mt, percent.ribo, G2M_score, S_score\n",
      "\n",
      "Centering and scaling data matrix\n",
      "\n"
     ]
    }
   ],
   "source": [
    "# Regression\n",
    "seurat_atlas <- ScaleData(object = seurat_atlas, \n",
    "                          features = VariableFeatures(seurat_atlas),\n",
    "                          vars.to.regress = listmap$regress,\n",
    "                          block.size = 20000)"
   ]
  },
  {
   "cell_type": "code",
   "execution_count": 80,
   "id": "dca919bd-86e4-47d1-8ee1-d7957f17f444",
   "metadata": {
    "vscode": {
     "languageId": "r"
    }
   },
   "outputs": [
    {
     "data": {
      "text/html": [
       "7000"
      ],
      "text/latex": [
       "7000"
      ],
      "text/markdown": [
       "7000"
      ],
      "text/plain": [
       "[1] 7000"
      ]
     },
     "metadata": {},
     "output_type": "display_data"
    }
   ],
   "source": [
    "length(VariableFeatures(seurat_atlas))"
   ]
  },
  {
   "cell_type": "code",
   "execution_count": 81,
   "id": "e5b974bf-95f8-4fa1-b294-3c41003768a0",
   "metadata": {
    "vscode": {
     "languageId": "r"
    }
   },
   "outputs": [
    {
     "name": "stderr",
     "output_type": "stream",
     "text": [
      "PC_ 1 \n",
      "Positive:  Folr1, Amn, Rbp4, Apom, Apoa1, Ttr, Mt1, Ctsh, Trap1a, 2610528J11Rik \n",
      "\t   Cubn, Apoa4, Tmem37, Apob, Lgals2, Pla2g12b, Car7, Ftl1, Aldob, Apoc1 \n",
      "\t   Fmr1nb, Ass1, Fgb, Apoe, Spink1, Lgmn, 2210011C24Rik, Mt2, Slc2a2, Slc39a5 \n",
      "Negative:  Tmsb10, Tuba1a, Marcks, Gnas, Basp1, Ifitm2, 2810417H13Rik, Hmga2, Mdk, Vim \n",
      "\t   Nedd4, Cald1, Sox4, Marcksl1, H2afy2, Serpinh1, Ttc3, Tpm4, Stmn1, Tpm1 \n",
      "\t   Eid1, Acta2, Cnn3, Fscn1, Tmsb4x, Fabp5, Ccnd2, Sox11, Hmgb3, Tagln \n",
      "PC_ 2 \n",
      "Positive:  Car2, Hdgf, Elf5, Fabp3, Gypa, Gjb3, Prss50, Perp, Gpx1, Dppa4 \n",
      "\t   Alas2, Ccnd3, Htra1, Gm9, Tex19.1, Sfn, Nr0b1, Zfp42, Cldn3, Gjb5 \n",
      "\t   Ddah1, Mrap, Tfap2c, Slc4a1, Asns, Dnmt3l, Trim10, Cited4, Blvrb, Slc25a37 \n",
      "Negative:  Apom, Apoa4, Pla2g12b, Ctsl, Ctsh, Amn, Mdk, Aldob, Lgals2, Dab2 \n",
      "\t   Car7, Cubn, Fgb, Apoa1, Ttr, Gpc3, Rbp4, Bex2, Gipc2, Apob \n",
      "\t   Slc2a2, Slc39a5, 2210011C24Rik, Spink1, Pcbd1, Adora2b, Slc13a4, Npl, Smlr1, Pdzk1 \n",
      "PC_ 3 \n",
      "Positive:  Gypa, Alas2, Cited4, Prdx2, Klf1, Blvrb, Trim10, Mrap, Slc25a37, Slc4a1 \n",
      "\t   Hemgn, Snca, Cpox, Smim1, Mgst3, Pnpo, Ermap, Epor, Slc39a8, Tmem14c \n",
      "\t   Slc38a5, Nxpe2, Prkar2b, Ell2, Acp5, Ncf4, Sptb, Tspan32, Add2, Kcnn4 \n",
      "Negative:  Ngfrap1, Wbp5, Actg1, Elf5, Calm2, Gjb3, Fabp3, Tex19.1, Perp, Anxa5 \n",
      "\t   Cldn3, Sfn, Nup62cl, Krt18, Htra1, S100a6, Gjb5, Krt19, Zfp42, Dppa4 \n",
      "\t   Bex1, Id2, Gm9, Trap1a, Tinagl1, Nr0b1, Cd63, Plp2, Tfap2c, Cldn4 \n",
      "PC_ 4 \n",
      "Positive:  Cdh5, Ecscr, Esam, Icam2, Ctla2a, Cldn5, Kdr, Pecam1, Arhgdib, Vamp5 \n",
      "\t   Fli1, Slc25a4, Hapln1, Igfbp4, Anxa2, Tek, Gng11, Clic1, Plvap, Vim \n",
      "\t   Ccnd3, Tgfb1, Grap, Rhoj, Cd34, Ppic, Lmo2, S100a10, Plxnd1, Ramp2 \n",
      "Negative:  Pou5f1, Ldhb, Pim2, Dnmt3b, Tgif1, Psip1, Epcam, Car14, Slc7a3, Pkm \n",
      "\t   Igfbp2, Fgf5, H2afv, Trh, Spint2, Marcksl1, Gng3, Socs2, Tdgf1, Ldha \n",
      "\t   Pmaip1, Pgk1, Wfdc2, Mkrn1, Emb, Rab25, Utf1, Ina, Sap30, Cd24a \n",
      "PC_ 5 \n",
      "Positive:  Pfn1, Pou5f1, Tceal8, Cdh5, Icam2, Esam, Cldn5, Pgk1, Ctla2a, Cd34 \n",
      "\t   Ecscr, Ramp2, Limd2, Rasip1, Plvap, Kdr, Gngt2, Flt1, Eif4a1, Vamp5 \n",
      "\t   Pecam1, Rasgrp2, Ifitm2, Tuba1b, Gimap1, Slc25a5, Grap, Gng11, Tie1, Emcn \n",
      "Negative:  Hnrnpa0, Gm1673, Elf5, Tex19.1, Cldn3, Tpt1, Gjb3, Fabp3, Sox2, Zfp42 \n",
      "\t   Gm9, Dppa4, Htra1, Perp, Nr0b1, Id2, Wnt7b, Ybx3, Tfap2c, Ptn \n",
      "\t   Tubb2b, Erh, Supt16, Sfn, Nr2f1, Crabp2, Gjb5, Dhx9, Atrx, Trap1a \n",
      "\n",
      "Warning message:\n",
      "\"Key 'PC_' taken, using 'v7kpca50_' instead\"\n"
     ]
    }
   ],
   "source": [
    "# Run PCA \n",
    "seurat_atlas <- RunPCA(seurat_atlas,\n",
    "                       reduction.name = listmap$pca_name,\n",
    "                       npcs = listmap$npcs, \n",
    "                       features =  VariableFeatures(seurat_atlas)\n",
    "                      )"
   ]
  },
  {
   "cell_type": "code",
   "execution_count": 82,
   "id": "64ff77a0-1d1a-4017-82db-c90d02102c9a",
   "metadata": {
    "vscode": {
     "languageId": "r"
    }
   },
   "outputs": [
    {
     "name": "stderr",
     "output_type": "stream",
     "text": [
      "Projecting cell embeddings\n",
      "\n",
      "Finding neighborhoods\n",
      "\n",
      "Finding anchors\n",
      "\n",
      "\tFound 2186 anchors\n",
      "\n",
      "Finding integration vectors\n",
      "\n",
      "Finding integration vector weights\n",
      "\n",
      "Predicting cell labels\n",
      "\n"
     ]
    }
   ],
   "source": [
    "# with merged_pca (no integration)\n",
    "anchors <- FindTransferAnchors(reference = seurat_atlas, query = seurat_query, dims = listmap$dims, reference.reduction = listmap$pca_name)\n",
    "predictions <- TransferData(anchorset = anchors, refdata = seurat_atlas$celltype_extended_atlas, dims = listmap$dims )"
   ]
  },
  {
   "cell_type": "code",
   "execution_count": 83,
   "id": "793731f4-612b-407b-a4e4-0fe4f81b8ea6",
   "metadata": {
    "vscode": {
     "languageId": "r"
    }
   },
   "outputs": [
    {
     "data": {
      "text/html": [
       "<table class=\"dataframe\">\n",
       "<caption>A data.frame: 6 × 2</caption>\n",
       "<thead>\n",
       "\t<tr><th></th><th scope=col>v7k_pca50_predicted.id</th><th scope=col>v7k_pca50_prediction.score.max</th></tr>\n",
       "\t<tr><th></th><th scope=col>&lt;chr&gt;</th><th scope=col>&lt;dbl&gt;</th></tr>\n",
       "</thead>\n",
       "<tbody>\n",
       "\t<tr><th scope=row>AAACCCAAGAATTCAG-1_1</th><td>Epiblast           </td><td>0.8600808</td></tr>\n",
       "\t<tr><th scope=row>AAACCCAAGATCACCT-1_1</th><td>Mesenchyme         </td><td>0.5806942</td></tr>\n",
       "\t<tr><th scope=row>AAACCCAAGCAGGGAG-1_1</th><td>Pharyngeal mesoderm</td><td>0.3349580</td></tr>\n",
       "\t<tr><th scope=row>AAACCCAAGCGCAATG-1_1</th><td>Mesenchyme         </td><td>0.6435563</td></tr>\n",
       "\t<tr><th scope=row>AAACCCAAGCTGGTGA-1_1</th><td>Allantois          </td><td>0.7587812</td></tr>\n",
       "\t<tr><th scope=row>AAACCCAAGGGCCAAT-1_1</th><td>EMP                </td><td>0.8999474</td></tr>\n",
       "</tbody>\n",
       "</table>\n"
      ],
      "text/latex": [
       "A data.frame: 6 × 2\n",
       "\\begin{tabular}{r|ll}\n",
       "  & v7k\\_pca50\\_predicted.id & v7k\\_pca50\\_prediction.score.max\\\\\n",
       "  & <chr> & <dbl>\\\\\n",
       "\\hline\n",
       "\tAAACCCAAGAATTCAG-1\\_1 & Epiblast            & 0.8600808\\\\\n",
       "\tAAACCCAAGATCACCT-1\\_1 & Mesenchyme          & 0.5806942\\\\\n",
       "\tAAACCCAAGCAGGGAG-1\\_1 & Pharyngeal mesoderm & 0.3349580\\\\\n",
       "\tAAACCCAAGCGCAATG-1\\_1 & Mesenchyme          & 0.6435563\\\\\n",
       "\tAAACCCAAGCTGGTGA-1\\_1 & Allantois           & 0.7587812\\\\\n",
       "\tAAACCCAAGGGCCAAT-1\\_1 & EMP                 & 0.8999474\\\\\n",
       "\\end{tabular}\n"
      ],
      "text/markdown": [
       "\n",
       "A data.frame: 6 × 2\n",
       "\n",
       "| <!--/--> | v7k_pca50_predicted.id &lt;chr&gt; | v7k_pca50_prediction.score.max &lt;dbl&gt; |\n",
       "|---|---|---|\n",
       "| AAACCCAAGAATTCAG-1_1 | Epiblast            | 0.8600808 |\n",
       "| AAACCCAAGATCACCT-1_1 | Mesenchyme          | 0.5806942 |\n",
       "| AAACCCAAGCAGGGAG-1_1 | Pharyngeal mesoderm | 0.3349580 |\n",
       "| AAACCCAAGCGCAATG-1_1 | Mesenchyme          | 0.6435563 |\n",
       "| AAACCCAAGCTGGTGA-1_1 | Allantois           | 0.7587812 |\n",
       "| AAACCCAAGGGCCAAT-1_1 | EMP                 | 0.8999474 |\n",
       "\n"
      ],
      "text/plain": [
       "                     v7k_pca50_predicted.id v7k_pca50_prediction.score.max\n",
       "AAACCCAAGAATTCAG-1_1 Epiblast               0.8600808                     \n",
       "AAACCCAAGATCACCT-1_1 Mesenchyme             0.5806942                     \n",
       "AAACCCAAGCAGGGAG-1_1 Pharyngeal mesoderm    0.3349580                     \n",
       "AAACCCAAGCGCAATG-1_1 Mesenchyme             0.6435563                     \n",
       "AAACCCAAGCTGGTGA-1_1 Allantois              0.7587812                     \n",
       "AAACCCAAGGGCCAAT-1_1 EMP                    0.8999474                     "
      ]
     },
     "metadata": {},
     "output_type": "display_data"
    }
   ],
   "source": [
    "predictions_short <- predictions[, c('predicted.id','prediction.score.max')]\n",
    "colnames(predictions_short) <- paste0(listmap$pca_name2, colnames(predictions_short))\n",
    "head(predictions_short)"
   ]
  },
  {
   "cell_type": "code",
   "execution_count": 84,
   "id": "c243edc3-bbe0-4bcd-9e62-31390a9349a1",
   "metadata": {
    "vscode": {
     "languageId": "r"
    }
   },
   "outputs": [],
   "source": [
    "seurat_query <- AddMetaData(seurat_query, metadata = predictions_short)"
   ]
  },
  {
   "cell_type": "code",
   "execution_count": null,
   "id": "2bfbf2f2",
   "metadata": {
    "vscode": {
     "languageId": "r"
    }
   },
   "outputs": [],
   "source": [
    "# make sure your UMAP reduction name is correct\n",
    "reduction_to_plot <- listmap$umap    # or \"pca_harmony_umap_1\" if that really is your slot\n",
    "\n",
    "# get all the unique extended‐type labels (including NA if present)\n",
    "conditions <- unique(seurat_query@meta.data[,listmap$mapped_id])\n",
    "\n",
    "Idents(seurat_query) <- listmap$mapped_id\n",
    "\n",
    "options(repr.plot.width=8, repr.plot.height=6)\n",
    "for (cond in conditions) {\n",
    "\t# skip NA if you don't care to plot it\n",
    "\tif (is.na(cond)) next\n",
    "\t\n",
    "\t# grab the cells of that type\n",
    "\tcells_of_interest <- WhichCells(\n",
    "\t\tobject    = seurat_query,\n",
    "\t\t idents =  cond\n",
    "\t)\n",
    "\t\n",
    "\t# make the plot\n",
    "\tp <- DimPlot(\n",
    "\t\tobject          = seurat_query,\n",
    "\t\treduction       = reduction_to_plot,\n",
    "\t\tcells.highlight = cells_of_interest,\n",
    "\t\tcols.highlight  = \"firebrick\",   # or any color you like\n",
    "\t\tcols            = \"lightgrey\",   # background cells\n",
    "\t\tpt.size         = 0.5, alpha = 0.5\n",
    "\t) +\n",
    "\t\tNoAxes()+NoLegend() +\n",
    "\t\tggtitle(cond)\n",
    "\t\n",
    "\tprint(p)\n",
    "}\n",
    "\n"
   ]
  },
  {
   "cell_type": "code",
   "execution_count": 86,
   "id": "5366f3f2-d685-428b-8c42-d08eca25e5a6",
   "metadata": {
    "vscode": {
     "languageId": "r"
    }
   },
   "outputs": [
    {
     "data": {
      "image/png": "[encoded data removed]",
      "text/plain": [
       "Plot with title \"Histogram of predictions_short[, listmap$mapped_score]\""
      ]
     },
     "metadata": {
      "image/png": {
       "height": 360,
       "width": 480
      }
     },
     "output_type": "display_data"
    }
   ],
   "source": [
    "options(repr.plot.width=8, repr.plot.height=6)\n",
    "hist(predictions_short[,listmap$mapped_score],breaks = 500)"
   ]
  },
  {
   "cell_type": "code",
   "execution_count": 87,
   "id": "d3de9041-f43f-4f5b-a9a3-156b022e6184",
   "metadata": {
    "vscode": {
     "languageId": "r"
    }
   },
   "outputs": [],
   "source": [
    "saveRDS(predictions, paste0(listmap$pca_name2,'predictions.rds'))"
   ]
  },
  {
   "cell_type": "code",
   "execution_count": null,
   "id": "965fa13c-0124-455c-8c86-cf14b064e139",
   "metadata": {
    "vscode": {
     "languageId": "r"
    }
   },
   "outputs": [],
   "source": []
  },
  {
   "cell_type": "code",
   "execution_count": 88,
   "id": "949db405-3cba-4d05-b053-6b51ba438894",
   "metadata": {
    "vscode": {
     "languageId": "r"
    }
   },
   "outputs": [],
   "source": [
    "saveRDS(anchors, paste0(listmap$pca_name2,'anchors.rds'))"
   ]
  },
  {
   "cell_type": "markdown",
   "id": "e04444b6-aca3-4790-82c2-cd8e5ce0b654",
   "metadata": {},
   "source": [
    "## with 7000 variable features (7k) with 75 pca (v7k_pca75)"
   ]
  },
  {
   "cell_type": "code",
   "execution_count": 89,
   "id": "e8d16b54-0a58-4fd8-9554-ce3e43cb1a12",
   "metadata": {
    "vscode": {
     "languageId": "r"
    }
   },
   "outputs": [],
   "source": [
    "rm(listmap)"
   ]
  },
  {
   "cell_type": "code",
   "execution_count": 90,
   "id": "0815f2f5-c94e-493f-b80d-e15339fb4cd7",
   "metadata": {
    "vscode": {
     "languageId": "r"
    }
   },
   "outputs": [],
   "source": [
    "listmap <- list()\n",
    "listmap$nvariables <- 7000\n",
    "listmap$regress <-  c(\"nFeature_originalexp\", \"nCount_originalexp\", \"percent.mt\", \"percent.ribo\", \"G2M_score\", \"S_score\")\n",
    "listmap$pca_name <- 'v7k_pca75'\n",
    "listmap$pca_name2 <- 'v7k_pca75_'\n",
    "listmap$npcs = 75\n",
    "listmap$dims = 1:75\n",
    "listmap$umap = 'UMAP'\n",
    "listmap$mapped_id <- 'v7k_pca75_predicted.id'\n",
    "listmap$mapped_score <- 'v7k_pca75_prediction.score.max'"
   ]
  },
  {
   "cell_type": "code",
   "execution_count": 91,
   "id": "a99836e4-a7c8-4adb-a1c5-7a21131e92e6",
   "metadata": {
    "vscode": {
     "languageId": "r"
    }
   },
   "outputs": [
    {
     "data": {
      "text/html": [
       "<dl>\n",
       "\t<dt>$nvariables</dt>\n",
       "\t\t<dd>7000</dd>\n",
       "\t<dt>$regress</dt>\n",
       "\t\t<dd><style>\n",
       ".list-inline {list-style: none; margin:0; padding: 0}\n",
       ".list-inline>li {display: inline-block}\n",
       ".list-inline>li:not(:last-child)::after {content: \"\\00b7\"; padding: 0 .5ex}\n",
       "</style>\n",
       "<ol class=list-inline><li>'nFeature_originalexp'</li><li>'nCount_originalexp'</li><li>'percent.mt'</li><li>'percent.ribo'</li><li>'G2M_score'</li><li>'S_score'</li></ol>\n",
       "</dd>\n",
       "\t<dt>$pca_name</dt>\n",
       "\t\t<dd>'v7k_pca75'</dd>\n",
       "\t<dt>$pca_name2</dt>\n",
       "\t\t<dd>'v7k_pca75_'</dd>\n",
       "\t<dt>$npcs</dt>\n",
       "\t\t<dd>75</dd>\n",
       "\t<dt>$dims</dt>\n",
       "\t\t<dd><style>\n",
       ".list-inline {list-style: none; margin:0; padding: 0}\n",
       ".list-inline>li {display: inline-block}\n",
       ".list-inline>li:not(:last-child)::after {content: \"\\00b7\"; padding: 0 .5ex}\n",
       "</style>\n",
       "<ol class=list-inline><li>1</li><li>2</li><li>3</li><li>4</li><li>5</li><li>6</li><li>7</li><li>8</li><li>9</li><li>10</li><li>11</li><li>12</li><li>13</li><li>14</li><li>15</li><li>16</li><li>17</li><li>18</li><li>19</li><li>20</li><li>21</li><li>22</li><li>23</li><li>24</li><li>25</li><li>26</li><li>27</li><li>28</li><li>29</li><li>30</li><li>31</li><li>32</li><li>33</li><li>34</li><li>35</li><li>36</li><li>37</li><li>38</li><li>39</li><li>40</li><li>41</li><li>42</li><li>43</li><li>44</li><li>45</li><li>46</li><li>47</li><li>48</li><li>49</li><li>50</li><li>51</li><li>52</li><li>53</li><li>54</li><li>55</li><li>56</li><li>57</li><li>58</li><li>59</li><li>60</li><li>61</li><li>62</li><li>63</li><li>64</li><li>65</li><li>66</li><li>67</li><li>68</li><li>69</li><li>70</li><li>71</li><li>72</li><li>73</li><li>74</li><li>75</li></ol>\n",
       "</dd>\n",
       "\t<dt>$umap</dt>\n",
       "\t\t<dd>'UMAP'</dd>\n",
       "\t<dt>$mapped_id</dt>\n",
       "\t\t<dd>'v7k_pca75_predicted.id'</dd>\n",
       "\t<dt>$mapped_score</dt>\n",
       "\t\t<dd>'v7k_pca75_prediction.score.max'</dd>\n",
       "</dl>\n"
      ],
      "text/latex": [
       "\\begin{description}\n",
       "\\item[\\$nvariables] 7000\n",
       "\\item[\\$regress] \\begin{enumerate*}\n",
       "\\item 'nFeature\\_originalexp'\n",
       "\\item 'nCount\\_originalexp'\n",
       "\\item 'percent.mt'\n",
       "\\item 'percent.ribo'\n",
       "\\item 'G2M\\_score'\n",
       "\\item 'S\\_score'\n",
       "\\end{enumerate*}\n",
       "\n",
       "\\item[\\$pca\\_name] 'v7k\\_pca75'\n",
       "\\item[\\$pca\\_name2] 'v7k\\_pca75\\_'\n",
       "\\item[\\$npcs] 75\n",
       "\\item[\\$dims] \\begin{enumerate*}\n",
       "\\item 1\n",
       "\\item 2\n",
       "\\item 3\n",
       "\\item 4\n",
       "\\item 5\n",
       "\\item 6\n",
       "\\item 7\n",
       "\\item 8\n",
       "\\item 9\n",
       "\\item 10\n",
       "\\item 11\n",
       "\\item 12\n",
       "\\item 13\n",
       "\\item 14\n",
       "\\item 15\n",
       "\\item 16\n",
       "\\item 17\n",
       "\\item 18\n",
       "\\item 19\n",
       "\\item 20\n",
       "\\item 21\n",
       "\\item 22\n",
       "\\item 23\n",
       "\\item 24\n",
       "\\item 25\n",
       "\\item 26\n",
       "\\item 27\n",
       "\\item 28\n",
       "\\item 29\n",
       "\\item 30\n",
       "\\item 31\n",
       "\\item 32\n",
       "\\item 33\n",
       "\\item 34\n",
       "\\item 35\n",
       "\\item 36\n",
       "\\item 37\n",
       "\\item 38\n",
       "\\item 39\n",
       "\\item 40\n",
       "\\item 41\n",
       "\\item 42\n",
       "\\item 43\n",
       "\\item 44\n",
       "\\item 45\n",
       "\\item 46\n",
       "\\item 47\n",
       "\\item 48\n",
       "\\item 49\n",
       "\\item 50\n",
       "\\item 51\n",
       "\\item 52\n",
       "\\item 53\n",
       "\\item 54\n",
       "\\item 55\n",
       "\\item 56\n",
       "\\item 57\n",
       "\\item 58\n",
       "\\item 59\n",
       "\\item 60\n",
       "\\item 61\n",
       "\\item 62\n",
       "\\item 63\n",
       "\\item 64\n",
       "\\item 65\n",
       "\\item 66\n",
       "\\item 67\n",
       "\\item 68\n",
       "\\item 69\n",
       "\\item 70\n",
       "\\item 71\n",
       "\\item 72\n",
       "\\item 73\n",
       "\\item 74\n",
       "\\item 75\n",
       "\\end{enumerate*}\n",
       "\n",
       "\\item[\\$umap] 'UMAP'\n",
       "\\item[\\$mapped\\_id] 'v7k\\_pca75\\_predicted.id'\n",
       "\\item[\\$mapped\\_score] 'v7k\\_pca75\\_prediction.score.max'\n",
       "\\end{description}\n"
      ],
      "text/markdown": [
       "$nvariables\n",
       ":   7000\n",
       "$regress\n",
       ":   1. 'nFeature_originalexp'\n",
       "2. 'nCount_originalexp'\n",
       "3. 'percent.mt'\n",
       "4. 'percent.ribo'\n",
       "5. 'G2M_score'\n",
       "6. 'S_score'\n",
       "\n",
       "\n",
       "\n",
       "$pca_name\n",
       ":   'v7k_pca75'\n",
       "$pca_name2\n",
       ":   'v7k_pca75_'\n",
       "$npcs\n",
       ":   75\n",
       "$dims\n",
       ":   1. 1\n",
       "2. 2\n",
       "3. 3\n",
       "4. 4\n",
       "5. 5\n",
       "6. 6\n",
       "7. 7\n",
       "8. 8\n",
       "9. 9\n",
       "10. 10\n",
       "11. 11\n",
       "12. 12\n",
       "13. 13\n",
       "14. 14\n",
       "15. 15\n",
       "16. 16\n",
       "17. 17\n",
       "18. 18\n",
       "19. 19\n",
       "20. 20\n",
       "21. 21\n",
       "22. 22\n",
       "23. 23\n",
       "24. 24\n",
       "25. 25\n",
       "26. 26\n",
       "27. 27\n",
       "28. 28\n",
       "29. 29\n",
       "30. 30\n",
       "31. 31\n",
       "32. 32\n",
       "33. 33\n",
       "34. 34\n",
       "35. 35\n",
       "36. 36\n",
       "37. 37\n",
       "38. 38\n",
       "39. 39\n",
       "40. 40\n",
       "41. 41\n",
       "42. 42\n",
       "43. 43\n",
       "44. 44\n",
       "45. 45\n",
       "46. 46\n",
       "47. 47\n",
       "48. 48\n",
       "49. 49\n",
       "50. 50\n",
       "51. 51\n",
       "52. 52\n",
       "53. 53\n",
       "54. 54\n",
       "55. 55\n",
       "56. 56\n",
       "57. 57\n",
       "58. 58\n",
       "59. 59\n",
       "60. 60\n",
       "61. 61\n",
       "62. 62\n",
       "63. 63\n",
       "64. 64\n",
       "65. 65\n",
       "66. 66\n",
       "67. 67\n",
       "68. 68\n",
       "69. 69\n",
       "70. 70\n",
       "71. 71\n",
       "72. 72\n",
       "73. 73\n",
       "74. 74\n",
       "75. 75\n",
       "\n",
       "\n",
       "\n",
       "$umap\n",
       ":   'UMAP'\n",
       "$mapped_id\n",
       ":   'v7k_pca75_predicted.id'\n",
       "$mapped_score\n",
       ":   'v7k_pca75_prediction.score.max'\n",
       "\n",
       "\n"
      ],
      "text/plain": [
       "$nvariables\n",
       "[1] 7000\n",
       "\n",
       "$regress\n",
       "[1] \"nFeature_originalexp\" \"nCount_originalexp\"   \"percent.mt\"          \n",
       "[4] \"percent.ribo\"         \"G2M_score\"            \"S_score\"             \n",
       "\n",
       "$pca_name\n",
       "[1] \"v7k_pca75\"\n",
       "\n",
       "$pca_name2\n",
       "[1] \"v7k_pca75_\"\n",
       "\n",
       "$npcs\n",
       "[1] 75\n",
       "\n",
       "$dims\n",
       " [1]  1  2  3  4  5  6  7  8  9 10 11 12 13 14 15 16 17 18 19 20 21 22 23 24 25\n",
       "[26] 26 27 28 29 30 31 32 33 34 35 36 37 38 39 40 41 42 43 44 45 46 47 48 49 50\n",
       "[51] 51 52 53 54 55 56 57 58 59 60 61 62 63 64 65 66 67 68 69 70 71 72 73 74 75\n",
       "\n",
       "$umap\n",
       "[1] \"UMAP\"\n",
       "\n",
       "$mapped_id\n",
       "[1] \"v7k_pca75_predicted.id\"\n",
       "\n",
       "$mapped_score\n",
       "[1] \"v7k_pca75_prediction.score.max\"\n"
      ]
     },
     "metadata": {},
     "output_type": "display_data"
    }
   ],
   "source": [
    "listmap"
   ]
  },
  {
   "cell_type": "code",
   "execution_count": 92,
   "id": "958348c4-3929-4b1e-a13d-f7a3f2d1c24f",
   "metadata": {
    "vscode": {
     "languageId": "r"
    }
   },
   "outputs": [],
   "source": [
    "# Findvariable Features\n",
    "#seurat_atlas <- FindVariableFeatures(object = seurat_atlas, nfeatures = listmap$nvariables)"
   ]
  },
  {
   "cell_type": "code",
   "execution_count": 93,
   "id": "fc749973-8058-43db-8f8f-eb5ecffe8953",
   "metadata": {
    "vscode": {
     "languageId": "r"
    }
   },
   "outputs": [],
   "source": [
    "# Regression\n",
    "#seurat_atlas <- ScaleData(object = seurat_atlas, \n",
    "#                          features = VariableFeatures(seurat_atlas),\n",
    "#                          vars.to.regress = listmap$regress,\n",
    "#                          block.size = 20000)"
   ]
  },
  {
   "cell_type": "code",
   "execution_count": 94,
   "id": "fbd656a6-4796-40c8-a2cc-702a3a6c2129",
   "metadata": {
    "vscode": {
     "languageId": "r"
    }
   },
   "outputs": [
    {
     "data": {
      "text/html": [
       "7000"
      ],
      "text/latex": [
       "7000"
      ],
      "text/markdown": [
       "7000"
      ],
      "text/plain": [
       "[1] 7000"
      ]
     },
     "metadata": {},
     "output_type": "display_data"
    }
   ],
   "source": [
    "length(VariableFeatures(seurat_atlas))"
   ]
  },
  {
   "cell_type": "code",
   "execution_count": 95,
   "id": "5e6f5672-dfff-4aed-83e6-edcfb391e9cf",
   "metadata": {
    "vscode": {
     "languageId": "r"
    }
   },
   "outputs": [
    {
     "name": "stderr",
     "output_type": "stream",
     "text": [
      "PC_ 1 \n",
      "Positive:  Tmsb10, Tuba1a, Marcks, Gnas, Basp1, Ifitm2, 2810417H13Rik, Hmga2, Mdk, Vim \n",
      "\t   Nedd4, Cald1, Sox4, Marcksl1, H2afy2, Serpinh1, Ttc3, Tpm4, Stmn1, Tpm1 \n",
      "\t   Eid1, Acta2, Cnn3, Fscn1, Tmsb4x, Fabp5, Ccnd2, Sox11, Hmgb3, Tagln \n",
      "Negative:  Folr1, Amn, Rbp4, Apom, Apoa1, Ttr, Mt1, Ctsh, Trap1a, 2610528J11Rik \n",
      "\t   Cubn, Apoa4, Tmem37, Apob, Lgals2, Pla2g12b, Car7, Ftl1, Aldob, Apoc1 \n",
      "\t   Fmr1nb, Ass1, Fgb, Apoe, Spink1, Lgmn, 2210011C24Rik, Mt2, Slc2a2, Slc39a5 \n",
      "PC_ 2 \n",
      "Positive:  Car2, Hdgf, Elf5, Fabp3, Gypa, Gjb3, Prss50, Perp, Gpx1, Dppa4 \n",
      "\t   Alas2, Ccnd3, Htra1, Gm9, Tex19.1, Sfn, Nr0b1, Zfp42, Cldn3, Gjb5 \n",
      "\t   Ddah1, Mrap, Tfap2c, Slc4a1, Asns, Dnmt3l, Trim10, Cited4, Blvrb, Slc25a37 \n",
      "Negative:  Apom, Apoa4, Pla2g12b, Ctsl, Ctsh, Amn, Mdk, Aldob, Lgals2, Dab2 \n",
      "\t   Car7, Cubn, Fgb, Apoa1, Ttr, Gpc3, Rbp4, Bex2, Gipc2, Apob \n",
      "\t   Slc2a2, Slc39a5, 2210011C24Rik, Spink1, Pcbd1, Adora2b, Slc13a4, Npl, Smlr1, Pdzk1 \n",
      "PC_ 3 \n",
      "Positive:  Gypa, Alas2, Cited4, Prdx2, Klf1, Blvrb, Trim10, Mrap, Slc25a37, Slc4a1 \n",
      "\t   Hemgn, Snca, Cpox, Smim1, Mgst3, Pnpo, Ermap, Epor, Slc39a8, Tmem14c \n",
      "\t   Slc38a5, Nxpe2, Prkar2b, Ell2, Acp5, Ncf4, Sptb, Tspan32, Add2, Kcnn4 \n",
      "Negative:  Ngfrap1, Wbp5, Actg1, Elf5, Calm2, Gjb3, Fabp3, Tex19.1, Perp, Anxa5 \n",
      "\t   Cldn3, Sfn, Nup62cl, Krt18, Htra1, S100a6, Gjb5, Krt19, Zfp42, Dppa4 \n",
      "\t   Bex1, Id2, Gm9, Trap1a, Tinagl1, Nr0b1, Cd63, Plp2, Tfap2c, Cldn4 \n",
      "PC_ 4 \n",
      "Positive:  Cdh5, Ecscr, Esam, Icam2, Ctla2a, Cldn5, Kdr, Pecam1, Arhgdib, Vamp5 \n",
      "\t   Fli1, Slc25a4, Hapln1, Igfbp4, Anxa2, Tek, Gng11, Clic1, Plvap, Vim \n",
      "\t   Ccnd3, Tgfb1, Grap, Rhoj, Cd34, Ppic, Lmo2, S100a10, Plxnd1, Ramp2 \n",
      "Negative:  Pou5f1, Ldhb, Pim2, Dnmt3b, Tgif1, Psip1, Epcam, Car14, Slc7a3, Pkm \n",
      "\t   Igfbp2, Fgf5, H2afv, Trh, Spint2, Marcksl1, Gng3, Socs2, Tdgf1, Ldha \n",
      "\t   Pmaip1, Pgk1, Wfdc2, Mkrn1, Emb, Rab25, Utf1, Ina, Sap30, Cd24a \n",
      "PC_ 5 \n",
      "Positive:  Pfn1, Pou5f1, Tceal8, Cdh5, Icam2, Esam, Cldn5, Pgk1, Ctla2a, Cd34 \n",
      "\t   Ecscr, Ramp2, Limd2, Rasip1, Plvap, Kdr, Gngt2, Flt1, Eif4a1, Vamp5 \n",
      "\t   Pecam1, Rasgrp2, Ifitm2, Tuba1b, Gimap1, Slc25a5, Grap, Gng11, Tie1, Emcn \n",
      "Negative:  Hnrnpa0, Gm1673, Elf5, Tex19.1, Cldn3, Tpt1, Gjb3, Fabp3, Sox2, Zfp42 \n",
      "\t   Gm9, Dppa4, Htra1, Perp, Nr0b1, Id2, Wnt7b, Ybx3, Tfap2c, Ptn \n",
      "\t   Tubb2b, Erh, Supt16, Sfn, Nr2f1, Crabp2, Gjb5, Dhx9, Atrx, Trap1a \n",
      "\n",
      "Warning message:\n",
      "\"Key 'PC_' taken, using 'v7kpca75_' instead\"\n"
     ]
    }
   ],
   "source": [
    "# Run PCA \n",
    "seurat_atlas <- RunPCA(seurat_atlas,\n",
    "                       reduction.name = listmap$pca_name,\n",
    "                       npcs = listmap$npcs, \n",
    "                       features =  VariableFeatures(seurat_atlas)\n",
    "                      )"
   ]
  },
  {
   "cell_type": "code",
   "execution_count": 96,
   "id": "4fd1863a-87c2-4e85-9eb2-5bf8732b1f7c",
   "metadata": {
    "vscode": {
     "languageId": "r"
    }
   },
   "outputs": [
    {
     "name": "stderr",
     "output_type": "stream",
     "text": [
      "Projecting cell embeddings\n",
      "\n",
      "Finding neighborhoods\n",
      "\n",
      "Finding anchors\n",
      "\n",
      "\tFound 2045 anchors\n",
      "\n",
      "Finding integration vectors\n",
      "\n",
      "Finding integration vector weights\n",
      "\n",
      "Predicting cell labels\n",
      "\n"
     ]
    }
   ],
   "source": [
    "# with merged_pca (no integration)\n",
    "anchors <- FindTransferAnchors(reference = seurat_atlas, query = seurat_query, dims = listmap$dims, reference.reduction = listmap$pca_name)\n",
    "predictions <- TransferData(anchorset = anchors, refdata = seurat_atlas$celltype_extended_atlas, dims = listmap$dims )"
   ]
  },
  {
   "cell_type": "code",
   "execution_count": 97,
   "id": "ab74b0c1-ec6b-45a2-a2ab-9fbab1ee0cd4",
   "metadata": {
    "vscode": {
     "languageId": "r"
    }
   },
   "outputs": [
    {
     "data": {
      "text/html": [
       "<table class=\"dataframe\">\n",
       "<caption>A data.frame: 6 × 2</caption>\n",
       "<thead>\n",
       "\t<tr><th></th><th scope=col>v7k_pca75_predicted.id</th><th scope=col>v7k_pca75_prediction.score.max</th></tr>\n",
       "\t<tr><th></th><th scope=col>&lt;chr&gt;</th><th scope=col>&lt;dbl&gt;</th></tr>\n",
       "</thead>\n",
       "<tbody>\n",
       "\t<tr><th scope=row>AAACCCAAGAATTCAG-1_1</th><td>Epiblast  </td><td>0.6724699</td></tr>\n",
       "\t<tr><th scope=row>AAACCCAAGATCACCT-1_1</th><td>Epicardium</td><td>0.5085634</td></tr>\n",
       "\t<tr><th scope=row>AAACCCAAGCAGGGAG-1_1</th><td>Mesenchyme</td><td>0.3603304</td></tr>\n",
       "\t<tr><th scope=row>AAACCCAAGCGCAATG-1_1</th><td>Mesenchyme</td><td>0.4877441</td></tr>\n",
       "\t<tr><th scope=row>AAACCCAAGCTGGTGA-1_1</th><td>Allantois </td><td>0.6454530</td></tr>\n",
       "\t<tr><th scope=row>AAACCCAAGGGCCAAT-1_1</th><td>EMP       </td><td>0.9059886</td></tr>\n",
       "</tbody>\n",
       "</table>\n"
      ],
      "text/latex": [
       "A data.frame: 6 × 2\n",
       "\\begin{tabular}{r|ll}\n",
       "  & v7k\\_pca75\\_predicted.id & v7k\\_pca75\\_prediction.score.max\\\\\n",
       "  & <chr> & <dbl>\\\\\n",
       "\\hline\n",
       "\tAAACCCAAGAATTCAG-1\\_1 & Epiblast   & 0.6724699\\\\\n",
       "\tAAACCCAAGATCACCT-1\\_1 & Epicardium & 0.5085634\\\\\n",
       "\tAAACCCAAGCAGGGAG-1\\_1 & Mesenchyme & 0.3603304\\\\\n",
       "\tAAACCCAAGCGCAATG-1\\_1 & Mesenchyme & 0.4877441\\\\\n",
       "\tAAACCCAAGCTGGTGA-1\\_1 & Allantois  & 0.6454530\\\\\n",
       "\tAAACCCAAGGGCCAAT-1\\_1 & EMP        & 0.9059886\\\\\n",
       "\\end{tabular}\n"
      ],
      "text/markdown": [
       "\n",
       "A data.frame: 6 × 2\n",
       "\n",
       "| <!--/--> | v7k_pca75_predicted.id &lt;chr&gt; | v7k_pca75_prediction.score.max &lt;dbl&gt; |\n",
       "|---|---|---|\n",
       "| AAACCCAAGAATTCAG-1_1 | Epiblast   | 0.6724699 |\n",
       "| AAACCCAAGATCACCT-1_1 | Epicardium | 0.5085634 |\n",
       "| AAACCCAAGCAGGGAG-1_1 | Mesenchyme | 0.3603304 |\n",
       "| AAACCCAAGCGCAATG-1_1 | Mesenchyme | 0.4877441 |\n",
       "| AAACCCAAGCTGGTGA-1_1 | Allantois  | 0.6454530 |\n",
       "| AAACCCAAGGGCCAAT-1_1 | EMP        | 0.9059886 |\n",
       "\n"
      ],
      "text/plain": [
       "                     v7k_pca75_predicted.id v7k_pca75_prediction.score.max\n",
       "AAACCCAAGAATTCAG-1_1 Epiblast               0.6724699                     \n",
       "AAACCCAAGATCACCT-1_1 Epicardium             0.5085634                     \n",
       "AAACCCAAGCAGGGAG-1_1 Mesenchyme             0.3603304                     \n",
       "AAACCCAAGCGCAATG-1_1 Mesenchyme             0.4877441                     \n",
       "AAACCCAAGCTGGTGA-1_1 Allantois              0.6454530                     \n",
       "AAACCCAAGGGCCAAT-1_1 EMP                    0.9059886                     "
      ]
     },
     "metadata": {},
     "output_type": "display_data"
    }
   ],
   "source": [
    "predictions_short <- predictions[, c('predicted.id','prediction.score.max')]\n",
    "colnames(predictions_short) <- paste0(listmap$pca_name2, colnames(predictions_short))\n",
    "head(predictions_short)"
   ]
  },
  {
   "cell_type": "code",
   "execution_count": 98,
   "id": "931a4c63-4d46-45a6-8d57-1dc3a1c19d44",
   "metadata": {
    "vscode": {
     "languageId": "r"
    }
   },
   "outputs": [],
   "source": [
    "seurat_query <- AddMetaData(seurat_query, metadata = predictions_short)"
   ]
  },
  {
   "cell_type": "code",
   "execution_count": null,
   "id": "63773d8e",
   "metadata": {
    "vscode": {
     "languageId": "r"
    }
   },
   "outputs": [],
   "source": [
    "# make sure your UMAP reduction name is correct\n",
    "reduction_to_plot <- listmap$umap    # or \"pca_harmony_umap_1\" if that really is your slot\n",
    "\n",
    "# get all the unique extended‐type labels (including NA if present)\n",
    "conditions <- unique(seurat_query@meta.data[,listmap$mapped_id])\n",
    "\n",
    "Idents(seurat_query) <- listmap$mapped_id\n",
    "\n",
    "options(repr.plot.width=8, repr.plot.height=6)\n",
    "for (cond in conditions) {\n",
    "\t# skip NA if you don't care to plot it\n",
    "\tif (is.na(cond)) next\n",
    "\t\n",
    "\t# grab the cells of that type\n",
    "\tcells_of_interest <- WhichCells(\n",
    "\t\tobject    = seurat_query,\n",
    "\t\t idents =  cond\n",
    "\t)\n",
    "\t\n",
    "\t# make the plot\n",
    "\tp <- DimPlot(\n",
    "\t\tobject          = seurat_query,\n",
    "\t\treduction       = reduction_to_plot,\n",
    "\t\tcells.highlight = cells_of_interest,\n",
    "\t\tcols.highlight  = \"firebrick\",   # or any color you like\n",
    "\t\tcols            = \"lightgrey\",   # background cells\n",
    "\t\tpt.size         = 0.5, alpha = 0.5\n",
    "\t) +\n",
    "\t\tNoAxes()+NoLegend() +\n",
    "\t\tggtitle(cond)\n",
    "\t\n",
    "\tprint(p)\n",
    "}\n"
   ]
  },
  {
   "cell_type": "code",
   "execution_count": 100,
   "id": "47b06f92-f7e4-44a8-b75e-b41a2e60cc1a",
   "metadata": {
    "vscode": {
     "languageId": "r"
    }
   },
   "outputs": [
    {
     "data": {
      "text/html": [
       "'v7k_pca75_predicted.id'"
      ],
      "text/latex": [
       "'v7k\\_pca75\\_predicted.id'"
      ],
      "text/markdown": [
       "'v7k_pca75_predicted.id'"
      ],
      "text/plain": [
       "[1] \"v7k_pca75_predicted.id\""
      ]
     },
     "metadata": {},
     "output_type": "display_data"
    }
   ],
   "source": [
    "listmap$mapped_id"
   ]
  },
  {
   "cell_type": "code",
   "execution_count": 101,
   "id": "2cbb1447-b3ee-462f-854e-69ec023277af",
   "metadata": {
    "vscode": {
     "languageId": "r"
    }
   },
   "outputs": [
    {
     "data": {
      "image/png": "[encoded data removed]",
      "text/plain": [
       "Plot with title \"Histogram of predictions_short[, listmap$mapped_score]\""
      ]
     },
     "metadata": {
      "image/png": {
       "height": 360,
       "width": 480
      }
     },
     "output_type": "display_data"
    }
   ],
   "source": [
    "options(repr.plot.width=8, repr.plot.height=6)\n",
    "hist(predictions_short[,listmap$mapped_score],breaks = 500)"
   ]
  },
  {
   "cell_type": "code",
   "execution_count": 102,
   "id": "2347fc18-a57e-406e-ba75-38f37b831064",
   "metadata": {
    "vscode": {
     "languageId": "r"
    }
   },
   "outputs": [],
   "source": [
    "saveRDS(predictions, paste0(listmap$pca_name2,'predictions.rds'))"
   ]
  },
  {
   "cell_type": "code",
   "execution_count": 103,
   "id": "b5e6a473-5951-4aeb-9720-c40388f55cf5",
   "metadata": {
    "vscode": {
     "languageId": "r"
    }
   },
   "outputs": [],
   "source": [
    "saveRDS(anchors, paste0(listmap$pca_name2,'anchors.rds'))"
   ]
  },
  {
   "cell_type": "markdown",
   "id": "a8853741-cf83-40a1-8ca4-40d317868052",
   "metadata": {
    "editable": true,
    "slideshow": {
     "slide_type": ""
    },
    "tags": []
   },
   "source": [
    "## with 7000 variable features (7k) with 100 pca (v7k_pca100)"
   ]
  },
  {
   "cell_type": "code",
   "execution_count": 104,
   "id": "7985a51b-f7bf-4e49-ad23-76f677f74444",
   "metadata": {
    "vscode": {
     "languageId": "r"
    }
   },
   "outputs": [],
   "source": [
    "rm(listmap)"
   ]
  },
  {
   "cell_type": "code",
   "execution_count": 105,
   "id": "8ef861ca-e9fe-40a8-b2ac-155dd3ec63b0",
   "metadata": {
    "vscode": {
     "languageId": "r"
    }
   },
   "outputs": [],
   "source": [
    "listmap <- list()\n",
    "listmap$nvariables <- 7000\n",
    "listmap$regress <-  c(\"nFeature_originalexp\", \"nCount_originalexp\", \"percent.mt\", \"percent.ribo\", \"G2M_score\", \"S_score\")\n",
    "listmap$pca_name <- 'v7k_pca100'\n",
    "listmap$pca_name2 <- 'v7k_pca100_'\n",
    "listmap$npcs = 100\n",
    "listmap$dims = 1:100\n",
    "listmap$umap = 'UMAP'\n",
    "listmap$mapped_id <- 'v7k_pca100_predicted.id'\n",
    "listmap$mapped_score <- 'v7k_pca100_prediction.score.max'"
   ]
  },
  {
   "cell_type": "code",
   "execution_count": 106,
   "id": "239568b8-0c49-4c63-8b98-0875f9c23952",
   "metadata": {
    "vscode": {
     "languageId": "r"
    }
   },
   "outputs": [],
   "source": [
    "# Findvariable Features\n",
    "# seurat_atlas <- FindVariableFeatures(object = seurat_atlas, nfeatures = listmap$nvariables)"
   ]
  },
  {
   "cell_type": "code",
   "execution_count": 107,
   "id": "67b026f6-1c62-49bd-bef0-c1072ca804ad",
   "metadata": {
    "vscode": {
     "languageId": "r"
    }
   },
   "outputs": [],
   "source": [
    "# Regression\n",
    "# seurat_atlas <- ScaleData(object = seurat_atlas, \n",
    "#                          features = VariableFeatures(seurat_atlas),\n",
    "#                          vars.to.regress = listmap$regress,\n",
    "#                          block.size = 20000)"
   ]
  },
  {
   "cell_type": "code",
   "execution_count": 108,
   "id": "7e8aa22a-20f6-4868-ae8a-f86409e040d6",
   "metadata": {
    "vscode": {
     "languageId": "r"
    }
   },
   "outputs": [
    {
     "data": {
      "text/html": [
       "7000"
      ],
      "text/latex": [
       "7000"
      ],
      "text/markdown": [
       "7000"
      ],
      "text/plain": [
       "[1] 7000"
      ]
     },
     "metadata": {},
     "output_type": "display_data"
    }
   ],
   "source": [
    "length(VariableFeatures(seurat_atlas))"
   ]
  },
  {
   "cell_type": "code",
   "execution_count": 109,
   "id": "5a21abb2-0764-445a-bf9a-3402de5c5f2a",
   "metadata": {
    "vscode": {
     "languageId": "r"
    }
   },
   "outputs": [
    {
     "name": "stderr",
     "output_type": "stream",
     "text": [
      "PC_ 1 \n",
      "Positive:  Folr1, Amn, Rbp4, Apom, Apoa1, Ttr, Mt1, Ctsh, Trap1a, 2610528J11Rik \n",
      "\t   Cubn, Apoa4, Tmem37, Apob, Lgals2, Pla2g12b, Car7, Ftl1, Aldob, Apoc1 \n",
      "\t   Fmr1nb, Ass1, Fgb, Apoe, Spink1, Lgmn, 2210011C24Rik, Mt2, Slc2a2, Slc39a5 \n",
      "Negative:  Tmsb10, Tuba1a, Marcks, Gnas, Basp1, Ifitm2, 2810417H13Rik, Hmga2, Mdk, Vim \n",
      "\t   Nedd4, Cald1, Sox4, Marcksl1, H2afy2, Serpinh1, Ttc3, Tpm4, Stmn1, Tpm1 \n",
      "\t   Eid1, Acta2, Cnn3, Fscn1, Tmsb4x, Fabp5, Ccnd2, Sox11, Hmgb3, Tagln \n",
      "PC_ 2 \n",
      "Positive:  Car2, Hdgf, Elf5, Fabp3, Gypa, Gjb3, Prss50, Perp, Gpx1, Dppa4 \n",
      "\t   Alas2, Ccnd3, Htra1, Gm9, Tex19.1, Sfn, Nr0b1, Zfp42, Cldn3, Gjb5 \n",
      "\t   Ddah1, Mrap, Tfap2c, Slc4a1, Asns, Dnmt3l, Trim10, Cited4, Blvrb, Slc25a37 \n",
      "Negative:  Apom, Apoa4, Pla2g12b, Ctsl, Ctsh, Amn, Mdk, Aldob, Lgals2, Dab2 \n",
      "\t   Car7, Cubn, Fgb, Apoa1, Ttr, Gpc3, Rbp4, Bex2, Gipc2, Apob \n",
      "\t   Slc2a2, Slc39a5, 2210011C24Rik, Spink1, Pcbd1, Adora2b, Slc13a4, Npl, Smlr1, Pdzk1 \n",
      "PC_ 3 \n",
      "Positive:  Gypa, Alas2, Cited4, Prdx2, Klf1, Blvrb, Trim10, Mrap, Slc25a37, Slc4a1 \n",
      "\t   Hemgn, Snca, Cpox, Smim1, Mgst3, Pnpo, Ermap, Epor, Slc39a8, Tmem14c \n",
      "\t   Slc38a5, Nxpe2, Prkar2b, Ell2, Acp5, Ncf4, Sptb, Tspan32, Add2, Kcnn4 \n",
      "Negative:  Ngfrap1, Wbp5, Actg1, Elf5, Calm2, Gjb3, Fabp3, Tex19.1, Perp, Anxa5 \n",
      "\t   Cldn3, Sfn, Nup62cl, Krt18, Htra1, S100a6, Gjb5, Krt19, Zfp42, Dppa4 \n",
      "\t   Bex1, Id2, Gm9, Trap1a, Tinagl1, Nr0b1, Cd63, Plp2, Tfap2c, Cldn4 \n",
      "PC_ 4 \n",
      "Positive:  Cdh5, Ecscr, Esam, Icam2, Ctla2a, Cldn5, Kdr, Pecam1, Arhgdib, Vamp5 \n",
      "\t   Fli1, Slc25a4, Hapln1, Igfbp4, Anxa2, Tek, Gng11, Clic1, Plvap, Vim \n",
      "\t   Ccnd3, Tgfb1, Grap, Rhoj, Cd34, Ppic, Lmo2, S100a10, Plxnd1, Ramp2 \n",
      "Negative:  Pou5f1, Ldhb, Pim2, Dnmt3b, Tgif1, Psip1, Epcam, Car14, Slc7a3, Pkm \n",
      "\t   Igfbp2, Fgf5, H2afv, Trh, Spint2, Marcksl1, Gng3, Socs2, Tdgf1, Ldha \n",
      "\t   Pmaip1, Pgk1, Wfdc2, Mkrn1, Emb, Rab25, Utf1, Ina, Sap30, Cd24a \n",
      "PC_ 5 \n",
      "Positive:  Pfn1, Pou5f1, Tceal8, Cdh5, Icam2, Esam, Cldn5, Pgk1, Ctla2a, Cd34 \n",
      "\t   Ecscr, Ramp2, Limd2, Rasip1, Plvap, Kdr, Gngt2, Flt1, Eif4a1, Vamp5 \n",
      "\t   Pecam1, Rasgrp2, Ifitm2, Tuba1b, Gimap1, Slc25a5, Grap, Gng11, Tie1, Emcn \n",
      "Negative:  Hnrnpa0, Gm1673, Elf5, Tex19.1, Cldn3, Tpt1, Gjb3, Fabp3, Sox2, Zfp42 \n",
      "\t   Gm9, Dppa4, Htra1, Perp, Nr0b1, Id2, Wnt7b, Ybx3, Tfap2c, Ptn \n",
      "\t   Tubb2b, Erh, Supt16, Sfn, Nr2f1, Crabp2, Gjb5, Dhx9, Atrx, Trap1a \n",
      "\n",
      "Warning message:\n",
      "\"Key 'PC_' taken, using 'v7kpca100_' instead\"\n"
     ]
    }
   ],
   "source": [
    "# Run PCA \n",
    "seurat_atlas <- RunPCA(seurat_atlas,\n",
    "                       reduction.name = listmap$pca_name,\n",
    "                       npcs = listmap$npcs, \n",
    "                       features =  VariableFeatures(seurat_atlas)\n",
    "                      )"
   ]
  },
  {
   "cell_type": "code",
   "execution_count": 110,
   "id": "58bcf47e-7831-4a7b-ac64-3f581d39426d",
   "metadata": {
    "vscode": {
     "languageId": "r"
    }
   },
   "outputs": [
    {
     "name": "stderr",
     "output_type": "stream",
     "text": [
      "Projecting cell embeddings\n",
      "\n",
      "Finding neighborhoods\n",
      "\n",
      "Finding anchors\n",
      "\n",
      "\tFound 1944 anchors\n",
      "\n",
      "Finding integration vectors\n",
      "\n",
      "Finding integration vector weights\n",
      "\n",
      "Predicting cell labels\n",
      "\n"
     ]
    }
   ],
   "source": [
    "# with merged_pca (no integration)\n",
    "anchors <- FindTransferAnchors(reference = seurat_atlas, query = seurat_query, dims = listmap$dims, reference.reduction = listmap$pca_name)\n",
    "predictions <- TransferData(anchorset = anchors, refdata = seurat_atlas$celltype_extended_atlas, dims = listmap$dims )"
   ]
  },
  {
   "cell_type": "code",
   "execution_count": 111,
   "id": "cc027a96-5eaa-4648-8179-f505cc8990c0",
   "metadata": {
    "vscode": {
     "languageId": "r"
    }
   },
   "outputs": [
    {
     "data": {
      "text/html": [
       "<table class=\"dataframe\">\n",
       "<caption>A data.frame: 6 × 2</caption>\n",
       "<thead>\n",
       "\t<tr><th></th><th scope=col>v7k_pca100_predicted.id</th><th scope=col>v7k_pca100_prediction.score.max</th></tr>\n",
       "\t<tr><th></th><th scope=col>&lt;chr&gt;</th><th scope=col>&lt;dbl&gt;</th></tr>\n",
       "</thead>\n",
       "<tbody>\n",
       "\t<tr><th scope=row>AAACCCAAGAATTCAG-1_1</th><td>Epiblast  </td><td>0.7509314</td></tr>\n",
       "\t<tr><th scope=row>AAACCCAAGATCACCT-1_1</th><td>Mesenchyme</td><td>0.4910338</td></tr>\n",
       "\t<tr><th scope=row>AAACCCAAGCAGGGAG-1_1</th><td>Mesenchyme</td><td>0.3115661</td></tr>\n",
       "\t<tr><th scope=row>AAACCCAAGCGCAATG-1_1</th><td>Mesenchyme</td><td>0.5109963</td></tr>\n",
       "\t<tr><th scope=row>AAACCCAAGCTGGTGA-1_1</th><td>Allantois </td><td>0.9302123</td></tr>\n",
       "\t<tr><th scope=row>AAACCCAAGGGCCAAT-1_1</th><td>EMP       </td><td>0.9246539</td></tr>\n",
       "</tbody>\n",
       "</table>\n"
      ],
      "text/latex": [
       "A data.frame: 6 × 2\n",
       "\\begin{tabular}{r|ll}\n",
       "  & v7k\\_pca100\\_predicted.id & v7k\\_pca100\\_prediction.score.max\\\\\n",
       "  & <chr> & <dbl>\\\\\n",
       "\\hline\n",
       "\tAAACCCAAGAATTCAG-1\\_1 & Epiblast   & 0.7509314\\\\\n",
       "\tAAACCCAAGATCACCT-1\\_1 & Mesenchyme & 0.4910338\\\\\n",
       "\tAAACCCAAGCAGGGAG-1\\_1 & Mesenchyme & 0.3115661\\\\\n",
       "\tAAACCCAAGCGCAATG-1\\_1 & Mesenchyme & 0.5109963\\\\\n",
       "\tAAACCCAAGCTGGTGA-1\\_1 & Allantois  & 0.9302123\\\\\n",
       "\tAAACCCAAGGGCCAAT-1\\_1 & EMP        & 0.9246539\\\\\n",
       "\\end{tabular}\n"
      ],
      "text/markdown": [
       "\n",
       "A data.frame: 6 × 2\n",
       "\n",
       "| <!--/--> | v7k_pca100_predicted.id &lt;chr&gt; | v7k_pca100_prediction.score.max &lt;dbl&gt; |\n",
       "|---|---|---|\n",
       "| AAACCCAAGAATTCAG-1_1 | Epiblast   | 0.7509314 |\n",
       "| AAACCCAAGATCACCT-1_1 | Mesenchyme | 0.4910338 |\n",
       "| AAACCCAAGCAGGGAG-1_1 | Mesenchyme | 0.3115661 |\n",
       "| AAACCCAAGCGCAATG-1_1 | Mesenchyme | 0.5109963 |\n",
       "| AAACCCAAGCTGGTGA-1_1 | Allantois  | 0.9302123 |\n",
       "| AAACCCAAGGGCCAAT-1_1 | EMP        | 0.9246539 |\n",
       "\n"
      ],
      "text/plain": [
       "                     v7k_pca100_predicted.id v7k_pca100_prediction.score.max\n",
       "AAACCCAAGAATTCAG-1_1 Epiblast                0.7509314                      \n",
       "AAACCCAAGATCACCT-1_1 Mesenchyme              0.4910338                      \n",
       "AAACCCAAGCAGGGAG-1_1 Mesenchyme              0.3115661                      \n",
       "AAACCCAAGCGCAATG-1_1 Mesenchyme              0.5109963                      \n",
       "AAACCCAAGCTGGTGA-1_1 Allantois               0.9302123                      \n",
       "AAACCCAAGGGCCAAT-1_1 EMP                     0.9246539                      "
      ]
     },
     "metadata": {},
     "output_type": "display_data"
    }
   ],
   "source": [
    "predictions_short <- predictions[, c('predicted.id','prediction.score.max')]\n",
    "colnames(predictions_short) <- paste0(listmap$pca_name2, colnames(predictions_short))\n",
    "head(predictions_short)"
   ]
  },
  {
   "cell_type": "code",
   "execution_count": null,
   "id": "4e886355-0990-4534-86da-81e27fd10bf6",
   "metadata": {
    "vscode": {
     "languageId": "r"
    }
   },
   "outputs": [],
   "source": [
    "seurat_query <- AddMetaData(seurat_query, metadata = predictions_short)"
   ]
  },
  {
   "cell_type": "code",
   "execution_count": null,
   "id": "38cf72c5",
   "metadata": {
    "vscode": {
     "languageId": "r"
    }
   },
   "outputs": [],
   "source": [
    "# make sure your UMAP reduction name is correct\n",
    "reduction_to_plot <- listmap$umap    # or \"pca_harmony_umap_1\" if that really is your slot\n",
    "\n",
    "# get all the unique extended‐type labels (including NA if present)\n",
    "conditions <- unique(seurat_query@meta.data[,listmap$mapped_id])\n",
    "\n",
    "Idents(seurat_query) <- listmap$mapped_id\n",
    "\n",
    "options(repr.plot.width=8, repr.plot.height=6)\n",
    "for (cond in conditions) {\n",
    "\t# skip NA if you don't care to plot it\n",
    "\tif (is.na(cond)) next\n",
    "\t\n",
    "\t# grab the cells of that type\n",
    "\tcells_of_interest <- WhichCells(\n",
    "\t\tobject    = seurat_query,\n",
    "\t\t idents =  cond\n",
    "\t)\n",
    "\t\n",
    "\t# make the plot\n",
    "\tp <- DimPlot(\n",
    "\t\tobject          = seurat_query,\n",
    "\t\treduction       = reduction_to_plot,\n",
    "\t\tcells.highlight = cells_of_interest,\n",
    "\t\tcols.highlight  = \"firebrick\",   # or any color you like\n",
    "\t\tcols            = \"lightgrey\",   # background cells\n",
    "\t\tpt.size         = 0.5, alpha = 0.5\n",
    "\t) +\n",
    "\t\tNoAxes()+NoLegend() +\n",
    "\t\tggtitle(cond)\n",
    "\t\n",
    "\tprint(p)\n",
    "}"
   ]
  },
  {
   "cell_type": "code",
   "execution_count": 114,
   "id": "a413d886-9bae-4ef4-902a-ee460efbdb8f",
   "metadata": {
    "vscode": {
     "languageId": "r"
    }
   },
   "outputs": [
    {
     "data": {
      "image/png": "[encoded data removed]",
      "text/plain": [
       "Plot with title \"Histogram of predictions_short[, listmap$mapped_score]\""
      ]
     },
     "metadata": {
      "image/png": {
       "height": 360,
       "width": 480
      }
     },
     "output_type": "display_data"
    }
   ],
   "source": [
    "options(repr.plot.width=8, repr.plot.height=6)\n",
    "hist(predictions_short[,listmap$mapped_score],breaks = 500)"
   ]
  },
  {
   "cell_type": "code",
   "execution_count": 115,
   "id": "a00d7564-ced6-450d-a8c2-66f2a5bf256f",
   "metadata": {
    "editable": true,
    "slideshow": {
     "slide_type": ""
    },
    "tags": [],
    "vscode": {
     "languageId": "r"
    }
   },
   "outputs": [],
   "source": [
    "saveRDS(predictions, paste0(listmap$pca_name2,'predictions.rds'))"
   ]
  },
  {
   "cell_type": "code",
   "execution_count": 116,
   "id": "451ca1da-216f-4e83-93fc-103cc81b43b4",
   "metadata": {
    "vscode": {
     "languageId": "r"
    }
   },
   "outputs": [],
   "source": [
    "saveRDS(anchors, paste0(listmap$pca_name2,'anchors.rds'))"
   ]
  },
  {
   "cell_type": "code",
   "execution_count": null,
   "id": "0cc3c661-751d-43d5-ae79-bc7f7ec8013e",
   "metadata": {
    "editable": true,
    "slideshow": {
     "slide_type": ""
    },
    "tags": [],
    "vscode": {
     "languageId": "r"
    }
   },
   "outputs": [],
   "source": []
  },
  {
   "cell_type": "markdown",
   "id": "a7d188b0-be3c-4169-ab25-1923925df536",
   "metadata": {},
   "source": [
    "## with 10000 variable features (10k) with 50 pca (v10k_pca50)"
   ]
  },
  {
   "cell_type": "code",
   "execution_count": 117,
   "id": "79b67081-85ee-43b4-ae3f-e44432825eab",
   "metadata": {
    "vscode": {
     "languageId": "r"
    }
   },
   "outputs": [],
   "source": [
    "rm(listmap)"
   ]
  },
  {
   "cell_type": "code",
   "execution_count": 118,
   "id": "c49486fd-15c5-4c2f-9897-de9a7bc12a68",
   "metadata": {
    "vscode": {
     "languageId": "r"
    }
   },
   "outputs": [],
   "source": [
    "listmap <- list()\n",
    "listmap$nvariables <- 10000\n",
    "listmap$regress <-  c(\"nFeature_originalexp\", \"nCount_originalexp\", \"percent.mt\", \"percent.ribo\", \"G2M_score\", \"S_score\")\n",
    "listmap$pca_name <- 'v10k_pca50'\n",
    "listmap$pca_name2 <- 'v10k_pca50_'\n",
    "listmap$npcs = 50\n",
    "listmap$dims = 1:50\n",
    "listmap$umap = 'UMAP'\n",
    "listmap$mapped_id <- 'v10k_pca50_predicted.id'\n",
    "listmap$mapped_score <- 'v10k_pca50_prediction.score.max'"
   ]
  },
  {
   "cell_type": "code",
   "execution_count": 119,
   "id": "30dfd892-1941-4253-9372-2da4d15f8887",
   "metadata": {
    "vscode": {
     "languageId": "r"
    }
   },
   "outputs": [],
   "source": [
    "# Findvariable Features\n",
    "seurat_atlas <- FindVariableFeatures(object = seurat_atlas, nfeatures = listmap$nvariables)"
   ]
  },
  {
   "cell_type": "code",
   "execution_count": 120,
   "id": "1abda305-801d-4541-8934-96aa6cce232b",
   "metadata": {
    "vscode": {
     "languageId": "r"
    }
   },
   "outputs": [
    {
     "name": "stderr",
     "output_type": "stream",
     "text": [
      "Regressing out nFeature_originalexp, nCount_originalexp, percent.mt, percent.ribo, G2M_score, S_score\n",
      "\n",
      "Centering and scaling data matrix\n",
      "\n"
     ]
    }
   ],
   "source": [
    "# Regression\n",
    "seurat_atlas <- ScaleData(object = seurat_atlas, \n",
    "                          features = VariableFeatures(seurat_atlas),\n",
    "                          vars.to.regress = listmap$regress,\n",
    "                          block.size = 20000)"
   ]
  },
  {
   "cell_type": "code",
   "execution_count": 121,
   "id": "7f9be367-bb47-4d86-bee1-7502c119863f",
   "metadata": {
    "vscode": {
     "languageId": "r"
    }
   },
   "outputs": [
    {
     "data": {
      "text/html": [
       "10000"
      ],
      "text/latex": [
       "10000"
      ],
      "text/markdown": [
       "10000"
      ],
      "text/plain": [
       "[1] 10000"
      ]
     },
     "metadata": {},
     "output_type": "display_data"
    }
   ],
   "source": [
    "length(VariableFeatures(seurat_atlas))"
   ]
  },
  {
   "cell_type": "code",
   "execution_count": 122,
   "id": "d6d9b485-993d-43e3-a022-7befc7c85a1d",
   "metadata": {
    "vscode": {
     "languageId": "r"
    }
   },
   "outputs": [
    {
     "name": "stderr",
     "output_type": "stream",
     "text": [
      "PC_ 1 \n",
      "Positive:  Tmsb10, H3f3a, Tuba1a, Marcks, Gnas, Basp1, 2810417H13Rik, Ifitm2, Mdk, Hmga2 \n",
      "\t   Nedd4, Vim, Sox4, Cald1, H2afy2, Anp32a, Serpinh1, Ttc3, Stmn1, Marcksl1 \n",
      "\t   Eid1, Tpm4, Sox11, Hnrnpa0, Tpm1, Fabp5, Ccnd2, Tmsb4x, Prtg, Fscn1 \n",
      "Negative:  Folr1, Mt1, Trap1a, Rbp4, Amn, Apoa1, Apom, Ttr, Ftl1, Ctsh \n",
      "\t   Tmem37, 2610528J11Rik, Ass1, Cubn, Apoc1, Fmr1nb, Apoa4, Apob, Lgals2, Mt2 \n",
      "\t   Apoe, Car7, Pla2g12b, Aldob, Lgmn, Fgb, Spink1, Ctsb, Cldn6, 2210011C24Rik \n",
      "PC_ 2 \n",
      "Positive:  Car2, Hdgf, Elf5, Gypa, Fabp3, Alas2, Ccnd3, Gpx1, Prss50, Gjb3 \n",
      "\t   Perp, Dppa4, Htra1, Mrap, Asns, Gm9, Nr0b1, Sfn, Slc4a1, Eif4ebp1 \n",
      "\t   Tex19.1, Zfp42, Trim10, Gjb5, Cited4, Slc25a37, Hprt, Klf1, Hemgn, Cldn3 \n",
      "Negative:  Apom, Apoa4, Pla2g12b, Amn, Ctsh, Lgals2, Aldob, Car7, Ctsl, Cubn \n",
      "\t   Dab2, Fgb, Apoa1, Ttr, Rbp4, Apob, Gipc2, Slc39a5, Slc2a2, 2210011C24Rik \n",
      "\t   Spink1, Pcbd1, Slc13a4, Adora2b, Npl, Smlr1, 2610528J11Rik, 4933402E13Rik, Pdzk1, Creb3l3 \n",
      "PC_ 3 \n",
      "Positive:  Gypa, Cited4, Alas2, Klf1, Blvrb, Trim10, Prdx2, Mrap, Slc25a37, Slc4a1 \n",
      "\t   Hemgn, Snca, Smim1, Cpox, Mgst3, Pnpo, Slc39a8, Epor, Ermap, Tmem14c \n",
      "\t   Slc38a5, Prkar2b, Nxpe2, Acp5, Ell2, Fth1, Tspan32, Ncf4, Sptb, Tal1 \n",
      "Negative:  Ngfrap1, Wbp5, Calm2, Actg1, Elf5, Pgam1, Gjb3, Fabp3, Marcksl1, Perp \n",
      "\t   Tex19.1, Sfn, Tsen34, Cldn3, Bex1, Krt18, Ubb, Plp2, Anxa5, Nup62cl \n",
      "\t   Htra1, Gjb5, S100a6, Zfp42, Pkm, Krt19, Dppa4, Fkbp1a, Id2, Gm9 \n",
      "PC_ 4 \n",
      "Positive:  Slc25a4, Anxa2, S100a10, Ccnd3, Anxa5, Ecscr, Arpc1b, Gpx4, Tmsb4x, Cdh5 \n",
      "\t   Tln1, Morc4, Esam, Hapln1, Vim, Icam2, Tbrg1, Pcgf5, Arhgdib, Clic1 \n",
      "\t   Reep5, Lgals1, Ahnak, Kdr, Igfbp4, Itgb1, Cldn5, Ctla2a, Kdelr2, Pecam1 \n",
      "Negative:  Pou5f1, Ldhb, Pim2, Dnmt3b, Tgif1, Car14, Slc7a3, Psip1, Fgf5, Igfbp2 \n",
      "\t   Trh, Tdgf1, Epcam, Gng3, Emb, Pmaip1, Cd24a, Pgk1, Ldha, Pkm \n",
      "\t   Marcksl1, H2afv, Stmn1, Socs2, Ina, Apex1, Rab25, Spint2, Sap30, Bccip \n",
      "PC_ 5 \n",
      "Positive:  Pfn1, Cdh5, Ecscr, Icam2, Esam, Tceal8, Cldn5, Ctla2a, Kdr, Ppic \n",
      "\t   Cd34, Ramp2, Vamp5, Flt1, Plvap, Pecam1, Rasip1, Gngt2, Myl6, Serpinh1 \n",
      "\t   Arhgdib, Gng11, Tgfb1, Gimap1, Grap, Fli1, Limd2, Tie1, Emcn, Rhoj \n",
      "Negative:  Gm1673, Elf5, Sox2, Hnrnpa0, Cldn3, Tex19.1, Gjb3, Fabp3, Zfp42, Dppa4 \n",
      "\t   Perp, Nr0b1, Gm9, Wnt7b, Htra1, Tfap2c, Sfn, Tpt1, Crabp2, Id2 \n",
      "\t   Ptn, Cldn4, Tubb2b, Gjb5, Atrx, Dnmt3l, Nr2f1, Bmp8b, Erh, Trap1a \n",
      "\n",
      "Warning message:\n",
      "\"Key 'PC_' taken, using 'v10kpca50_' instead\"\n"
     ]
    }
   ],
   "source": [
    "# Run PCA \n",
    "seurat_atlas <- RunPCA(seurat_atlas,\n",
    "                       reduction.name = listmap$pca_name,\n",
    "                       npcs = listmap$npcs, \n",
    "                       features =  VariableFeatures(seurat_atlas)\n",
    "                      )"
   ]
  },
  {
   "cell_type": "code",
   "execution_count": 123,
   "id": "4a261678-3c8f-4d89-b6fb-6c68961ae0d7",
   "metadata": {
    "vscode": {
     "languageId": "r"
    }
   },
   "outputs": [
    {
     "name": "stderr",
     "output_type": "stream",
     "text": [
      "Projecting cell embeddings\n",
      "\n",
      "Finding neighborhoods\n",
      "\n",
      "Finding anchors\n",
      "\n",
      "\tFound 1388 anchors\n",
      "\n",
      "Finding integration vectors\n",
      "\n",
      "Finding integration vector weights\n",
      "\n",
      "Predicting cell labels\n",
      "\n"
     ]
    }
   ],
   "source": [
    "# with merged_pca (no integration)\n",
    "anchors <- FindTransferAnchors(reference = seurat_atlas, query = seurat_query, dims = listmap$dims, reference.reduction = listmap$pca_name)\n",
    "predictions <- TransferData(anchorset = anchors, refdata = seurat_atlas$celltype_extended_atlas, dims = listmap$dims )"
   ]
  },
  {
   "cell_type": "code",
   "execution_count": 124,
   "id": "d53165af-d62d-4761-b8aa-4f6faece4700",
   "metadata": {
    "vscode": {
     "languageId": "r"
    }
   },
   "outputs": [
    {
     "data": {
      "text/html": [
       "<table class=\"dataframe\">\n",
       "<caption>A data.frame: 6 × 2</caption>\n",
       "<thead>\n",
       "\t<tr><th></th><th scope=col>v10k_pca50_predicted.id</th><th scope=col>v10k_pca50_prediction.score.max</th></tr>\n",
       "\t<tr><th></th><th scope=col>&lt;chr&gt;</th><th scope=col>&lt;dbl&gt;</th></tr>\n",
       "</thead>\n",
       "<tbody>\n",
       "\t<tr><th scope=row>AAACCCAAGAATTCAG-1_1</th><td>Epiblast  </td><td>0.7134057</td></tr>\n",
       "\t<tr><th scope=row>AAACCCAAGATCACCT-1_1</th><td>Mesenchyme</td><td>0.6855513</td></tr>\n",
       "\t<tr><th scope=row>AAACCCAAGCAGGGAG-1_1</th><td>Epicardium</td><td>0.2730642</td></tr>\n",
       "\t<tr><th scope=row>AAACCCAAGCGCAATG-1_1</th><td>Mesenchyme</td><td>0.4338889</td></tr>\n",
       "\t<tr><th scope=row>AAACCCAAGCTGGTGA-1_1</th><td>Allantois </td><td>0.7580683</td></tr>\n",
       "\t<tr><th scope=row>AAACCCAAGGGCCAAT-1_1</th><td>EMP       </td><td>0.8078730</td></tr>\n",
       "</tbody>\n",
       "</table>\n"
      ],
      "text/latex": [
       "A data.frame: 6 × 2\n",
       "\\begin{tabular}{r|ll}\n",
       "  & v10k\\_pca50\\_predicted.id & v10k\\_pca50\\_prediction.score.max\\\\\n",
       "  & <chr> & <dbl>\\\\\n",
       "\\hline\n",
       "\tAAACCCAAGAATTCAG-1\\_1 & Epiblast   & 0.7134057\\\\\n",
       "\tAAACCCAAGATCACCT-1\\_1 & Mesenchyme & 0.6855513\\\\\n",
       "\tAAACCCAAGCAGGGAG-1\\_1 & Epicardium & 0.2730642\\\\\n",
       "\tAAACCCAAGCGCAATG-1\\_1 & Mesenchyme & 0.4338889\\\\\n",
       "\tAAACCCAAGCTGGTGA-1\\_1 & Allantois  & 0.7580683\\\\\n",
       "\tAAACCCAAGGGCCAAT-1\\_1 & EMP        & 0.8078730\\\\\n",
       "\\end{tabular}\n"
      ],
      "text/markdown": [
       "\n",
       "A data.frame: 6 × 2\n",
       "\n",
       "| <!--/--> | v10k_pca50_predicted.id &lt;chr&gt; | v10k_pca50_prediction.score.max &lt;dbl&gt; |\n",
       "|---|---|---|\n",
       "| AAACCCAAGAATTCAG-1_1 | Epiblast   | 0.7134057 |\n",
       "| AAACCCAAGATCACCT-1_1 | Mesenchyme | 0.6855513 |\n",
       "| AAACCCAAGCAGGGAG-1_1 | Epicardium | 0.2730642 |\n",
       "| AAACCCAAGCGCAATG-1_1 | Mesenchyme | 0.4338889 |\n",
       "| AAACCCAAGCTGGTGA-1_1 | Allantois  | 0.7580683 |\n",
       "| AAACCCAAGGGCCAAT-1_1 | EMP        | 0.8078730 |\n",
       "\n"
      ],
      "text/plain": [
       "                     v10k_pca50_predicted.id v10k_pca50_prediction.score.max\n",
       "AAACCCAAGAATTCAG-1_1 Epiblast                0.7134057                      \n",
       "AAACCCAAGATCACCT-1_1 Mesenchyme              0.6855513                      \n",
       "AAACCCAAGCAGGGAG-1_1 Epicardium              0.2730642                      \n",
       "AAACCCAAGCGCAATG-1_1 Mesenchyme              0.4338889                      \n",
       "AAACCCAAGCTGGTGA-1_1 Allantois               0.7580683                      \n",
       "AAACCCAAGGGCCAAT-1_1 EMP                     0.8078730                      "
      ]
     },
     "metadata": {},
     "output_type": "display_data"
    }
   ],
   "source": [
    "predictions_short <- predictions[, c('predicted.id','prediction.score.max')]\n",
    "colnames(predictions_short) <- paste0(listmap$pca_name2, colnames(predictions_short))\n",
    "head(predictions_short)"
   ]
  },
  {
   "cell_type": "code",
   "execution_count": null,
   "id": "855110df-aa0a-4607-bdb3-7217c182f636",
   "metadata": {
    "vscode": {
     "languageId": "r"
    }
   },
   "outputs": [],
   "source": [
    "seurat_query <- AddMetaData(seurat_query, metadata = predictions_short)"
   ]
  },
  {
   "cell_type": "code",
   "execution_count": null,
   "id": "f47202a3",
   "metadata": {
    "vscode": {
     "languageId": "r"
    }
   },
   "outputs": [],
   "source": [
    "# make sure your UMAP reduction name is correct\n",
    "reduction_to_plot <- listmap$umap    # or \"pca_harmony_umap_1\" if that really is your slot\n",
    "\n",
    "# get all the unique extended‐type labels (including NA if present)\n",
    "conditions <- unique(seurat_query@meta.data[,listmap$mapped_id])\n",
    "\n",
    "Idents(seurat_query) <- listmap$mapped_id\n",
    "\n",
    "options(repr.plot.width=8, repr.plot.height=6)\n",
    "for (cond in conditions) {\n",
    "\t# skip NA if you don't care to plot it\n",
    "\tif (is.na(cond)) next\n",
    "\t\n",
    "\t# grab the cells of that type\n",
    "\tcells_of_interest <- WhichCells(\n",
    "\t\tobject    = seurat_query,\n",
    "\t\t idents =  cond\n",
    "\t)\n",
    "\t\n",
    "\t# make the plot\n",
    "\tp <- DimPlot(\n",
    "\t\tobject          = seurat_query,\n",
    "\t\treduction       = reduction_to_plot,\n",
    "\t\tcells.highlight = cells_of_interest,\n",
    "\t\tcols.highlight  = \"firebrick\",   # or any color you like\n",
    "\t\tcols            = \"lightgrey\",   # background cells\n",
    "\t\tpt.size         = 0.5, alpha = 0.5\n",
    "\t) +\n",
    "\t\tNoAxes()+NoLegend() +\n",
    "\t\tggtitle(cond)\n",
    "\t\n",
    "\tprint(p)\n",
    "}\n"
   ]
  },
  {
   "cell_type": "code",
   "execution_count": null,
   "id": "032a5773",
   "metadata": {
    "vscode": {
     "languageId": "r"
    }
   },
   "outputs": [],
   "source": [
    "# make sure your UMAP reduction name is correct\n",
    "reduction_to_plot <- listmap$umap    # or \"pca_harmony_umap_1\" if that really is your slot\n",
    "\n",
    "# get all the unique extended‐type labels (including NA if present)\n",
    "conditions <- unique(seurat_query@meta.data[, 'v10k_pca50_predicted.id'])\n",
    "\n",
    "Idents(seurat_query) <- 'v10k_pca50_predicted.id'\n",
    "\n",
    "options(repr.plot.width=8, repr.plot.height=6)\n",
    "for (cond in conditions) {\n",
    "\t# skip NA if you don't care to plot it\n",
    "\tif (is.na(cond)) next\n",
    "\t\n",
    "\t# grab the cells of that type\n",
    "\tcells_of_interest <- WhichCells(\n",
    "\t\tobject    = seurat_query,\n",
    "\t\t idents =  cond\n",
    "\t)\n",
    "\t\n",
    "\t# make the plot\n",
    "\tp <- DimPlot(\n",
    "\t\tobject          = seurat_query,\n",
    "\t\treduction       = reduction_to_plot,\n",
    "\t\tcells.highlight = cells_of_interest,\n",
    "\t\tcols.highlight  = \"firebrick\",   # or any color you like\n",
    "\t\tcols            = \"lightgrey\",   # background cells\n",
    "\t\tpt.size         = 0.5, alpha = 0.5\n",
    "\t) +\n",
    "\t\tNoAxes()+NoLegend() +\n",
    "\t\tggtitle(cond)\n",
    "\t\n",
    "\tprint(p)\n",
    "}\n"
   ]
  },
  {
   "cell_type": "code",
   "execution_count": 128,
   "id": "40f7cff1-332d-4d23-96ef-c76ccd23f252",
   "metadata": {
    "vscode": {
     "languageId": "r"
    }
   },
   "outputs": [
    {
     "data": {
      "image/png": "[encoded data removed]",
      "text/plain": [
       "Plot with title \"Histogram of predictions_short[, listmap$mapped_score]\""
      ]
     },
     "metadata": {
      "image/png": {
       "height": 360,
       "width": 480
      }
     },
     "output_type": "display_data"
    }
   ],
   "source": [
    "options(repr.plot.width=8, repr.plot.height=6)\n",
    "hist(predictions_short[,listmap$mapped_score],breaks = 500)"
   ]
  },
  {
   "cell_type": "code",
   "execution_count": 129,
   "id": "d8bed8c8-9ad7-4b4f-9221-103ad67d52ce",
   "metadata": {
    "vscode": {
     "languageId": "r"
    }
   },
   "outputs": [],
   "source": [
    "saveRDS(predictions, paste0(listmap$pca_name2,'predictions.rds'))"
   ]
  },
  {
   "cell_type": "code",
   "execution_count": 130,
   "id": "09454e7f-1351-4cce-a5cc-66f8ed45e647",
   "metadata": {
    "vscode": {
     "languageId": "r"
    }
   },
   "outputs": [],
   "source": [
    "saveRDS(anchors, paste0(listmap$pca_name2,'anchors.rds'))"
   ]
  },
  {
   "cell_type": "code",
   "execution_count": null,
   "id": "e2f26620-e46f-4179-aa14-af7dd5579a17",
   "metadata": {
    "vscode": {
     "languageId": "r"
    }
   },
   "outputs": [],
   "source": []
  },
  {
   "cell_type": "markdown",
   "id": "c049aaca-35f1-4da4-bc84-f4b198e55dec",
   "metadata": {},
   "source": [
    "## with 10000 variable features (10k) with 75 pca (v10k_pca75)"
   ]
  },
  {
   "cell_type": "code",
   "execution_count": 131,
   "id": "1de64721-e6e8-4351-9b79-f27a56685450",
   "metadata": {
    "vscode": {
     "languageId": "r"
    }
   },
   "outputs": [],
   "source": [
    "rm(listmap)"
   ]
  },
  {
   "cell_type": "code",
   "execution_count": 132,
   "id": "933acde6-db9f-4825-b21f-d7459717b107",
   "metadata": {
    "vscode": {
     "languageId": "r"
    }
   },
   "outputs": [],
   "source": [
    "listmap <- list()\n",
    "listmap$nvariables <- 10000\n",
    "listmap$regress <-  c(\"nFeature_originalexp\", \"nCount_originalexp\", \"percent.mt\", \"percent.ribo\", \"G2M_score\", \"S_score\")\n",
    "listmap$pca_name <- 'v10k_pca75'\n",
    "listmap$pca_name2 <- 'v10k_pca75_'\n",
    "listmap$npcs = 75\n",
    "listmap$dims = 1:75\n",
    "listmap$umap = 'UMAP'\n",
    "listmap$mapped_id <- 'v10k_pca75_predicted.id'\n",
    "listmap$mapped_score <- 'v10k_pca75_prediction.score.max'"
   ]
  },
  {
   "cell_type": "code",
   "execution_count": 133,
   "id": "aa05a5d6-a207-42ef-969a-a5c90f9b3ebb",
   "metadata": {
    "vscode": {
     "languageId": "r"
    }
   },
   "outputs": [
    {
     "data": {
      "text/html": [
       "<dl>\n",
       "\t<dt>$nvariables</dt>\n",
       "\t\t<dd>10000</dd>\n",
       "\t<dt>$regress</dt>\n",
       "\t\t<dd><style>\n",
       ".list-inline {list-style: none; margin:0; padding: 0}\n",
       ".list-inline>li {display: inline-block}\n",
       ".list-inline>li:not(:last-child)::after {content: \"\\00b7\"; padding: 0 .5ex}\n",
       "</style>\n",
       "<ol class=list-inline><li>'nFeature_originalexp'</li><li>'nCount_originalexp'</li><li>'percent.mt'</li><li>'percent.ribo'</li><li>'G2M_score'</li><li>'S_score'</li></ol>\n",
       "</dd>\n",
       "\t<dt>$pca_name</dt>\n",
       "\t\t<dd>'v10k_pca75'</dd>\n",
       "\t<dt>$pca_name2</dt>\n",
       "\t\t<dd>'v10k_pca75_'</dd>\n",
       "\t<dt>$npcs</dt>\n",
       "\t\t<dd>75</dd>\n",
       "\t<dt>$dims</dt>\n",
       "\t\t<dd><style>\n",
       ".list-inline {list-style: none; margin:0; padding: 0}\n",
       ".list-inline>li {display: inline-block}\n",
       ".list-inline>li:not(:last-child)::after {content: \"\\00b7\"; padding: 0 .5ex}\n",
       "</style>\n",
       "<ol class=list-inline><li>1</li><li>2</li><li>3</li><li>4</li><li>5</li><li>6</li><li>7</li><li>8</li><li>9</li><li>10</li><li>11</li><li>12</li><li>13</li><li>14</li><li>15</li><li>16</li><li>17</li><li>18</li><li>19</li><li>20</li><li>21</li><li>22</li><li>23</li><li>24</li><li>25</li><li>26</li><li>27</li><li>28</li><li>29</li><li>30</li><li>31</li><li>32</li><li>33</li><li>34</li><li>35</li><li>36</li><li>37</li><li>38</li><li>39</li><li>40</li><li>41</li><li>42</li><li>43</li><li>44</li><li>45</li><li>46</li><li>47</li><li>48</li><li>49</li><li>50</li><li>51</li><li>52</li><li>53</li><li>54</li><li>55</li><li>56</li><li>57</li><li>58</li><li>59</li><li>60</li><li>61</li><li>62</li><li>63</li><li>64</li><li>65</li><li>66</li><li>67</li><li>68</li><li>69</li><li>70</li><li>71</li><li>72</li><li>73</li><li>74</li><li>75</li></ol>\n",
       "</dd>\n",
       "\t<dt>$umap</dt>\n",
       "\t\t<dd>'UMAP'</dd>\n",
       "\t<dt>$mapped_id</dt>\n",
       "\t\t<dd>'v10k_pca75_predicted.id'</dd>\n",
       "\t<dt>$mapped_score</dt>\n",
       "\t\t<dd>'v10k_pca75_prediction.score.max'</dd>\n",
       "</dl>\n"
      ],
      "text/latex": [
       "\\begin{description}\n",
       "\\item[\\$nvariables] 10000\n",
       "\\item[\\$regress] \\begin{enumerate*}\n",
       "\\item 'nFeature\\_originalexp'\n",
       "\\item 'nCount\\_originalexp'\n",
       "\\item 'percent.mt'\n",
       "\\item 'percent.ribo'\n",
       "\\item 'G2M\\_score'\n",
       "\\item 'S\\_score'\n",
       "\\end{enumerate*}\n",
       "\n",
       "\\item[\\$pca\\_name] 'v10k\\_pca75'\n",
       "\\item[\\$pca\\_name2] 'v10k\\_pca75\\_'\n",
       "\\item[\\$npcs] 75\n",
       "\\item[\\$dims] \\begin{enumerate*}\n",
       "\\item 1\n",
       "\\item 2\n",
       "\\item 3\n",
       "\\item 4\n",
       "\\item 5\n",
       "\\item 6\n",
       "\\item 7\n",
       "\\item 8\n",
       "\\item 9\n",
       "\\item 10\n",
       "\\item 11\n",
       "\\item 12\n",
       "\\item 13\n",
       "\\item 14\n",
       "\\item 15\n",
       "\\item 16\n",
       "\\item 17\n",
       "\\item 18\n",
       "\\item 19\n",
       "\\item 20\n",
       "\\item 21\n",
       "\\item 22\n",
       "\\item 23\n",
       "\\item 24\n",
       "\\item 25\n",
       "\\item 26\n",
       "\\item 27\n",
       "\\item 28\n",
       "\\item 29\n",
       "\\item 30\n",
       "\\item 31\n",
       "\\item 32\n",
       "\\item 33\n",
       "\\item 34\n",
       "\\item 35\n",
       "\\item 36\n",
       "\\item 37\n",
       "\\item 38\n",
       "\\item 39\n",
       "\\item 40\n",
       "\\item 41\n",
       "\\item 42\n",
       "\\item 43\n",
       "\\item 44\n",
       "\\item 45\n",
       "\\item 46\n",
       "\\item 47\n",
       "\\item 48\n",
       "\\item 49\n",
       "\\item 50\n",
       "\\item 51\n",
       "\\item 52\n",
       "\\item 53\n",
       "\\item 54\n",
       "\\item 55\n",
       "\\item 56\n",
       "\\item 57\n",
       "\\item 58\n",
       "\\item 59\n",
       "\\item 60\n",
       "\\item 61\n",
       "\\item 62\n",
       "\\item 63\n",
       "\\item 64\n",
       "\\item 65\n",
       "\\item 66\n",
       "\\item 67\n",
       "\\item 68\n",
       "\\item 69\n",
       "\\item 70\n",
       "\\item 71\n",
       "\\item 72\n",
       "\\item 73\n",
       "\\item 74\n",
       "\\item 75\n",
       "\\end{enumerate*}\n",
       "\n",
       "\\item[\\$umap] 'UMAP'\n",
       "\\item[\\$mapped\\_id] 'v10k\\_pca75\\_predicted.id'\n",
       "\\item[\\$mapped\\_score] 'v10k\\_pca75\\_prediction.score.max'\n",
       "\\end{description}\n"
      ],
      "text/markdown": [
       "$nvariables\n",
       ":   10000\n",
       "$regress\n",
       ":   1. 'nFeature_originalexp'\n",
       "2. 'nCount_originalexp'\n",
       "3. 'percent.mt'\n",
       "4. 'percent.ribo'\n",
       "5. 'G2M_score'\n",
       "6. 'S_score'\n",
       "\n",
       "\n",
       "\n",
       "$pca_name\n",
       ":   'v10k_pca75'\n",
       "$pca_name2\n",
       ":   'v10k_pca75_'\n",
       "$npcs\n",
       ":   75\n",
       "$dims\n",
       ":   1. 1\n",
       "2. 2\n",
       "3. 3\n",
       "4. 4\n",
       "5. 5\n",
       "6. 6\n",
       "7. 7\n",
       "8. 8\n",
       "9. 9\n",
       "10. 10\n",
       "11. 11\n",
       "12. 12\n",
       "13. 13\n",
       "14. 14\n",
       "15. 15\n",
       "16. 16\n",
       "17. 17\n",
       "18. 18\n",
       "19. 19\n",
       "20. 20\n",
       "21. 21\n",
       "22. 22\n",
       "23. 23\n",
       "24. 24\n",
       "25. 25\n",
       "26. 26\n",
       "27. 27\n",
       "28. 28\n",
       "29. 29\n",
       "30. 30\n",
       "31. 31\n",
       "32. 32\n",
       "33. 33\n",
       "34. 34\n",
       "35. 35\n",
       "36. 36\n",
       "37. 37\n",
       "38. 38\n",
       "39. 39\n",
       "40. 40\n",
       "41. 41\n",
       "42. 42\n",
       "43. 43\n",
       "44. 44\n",
       "45. 45\n",
       "46. 46\n",
       "47. 47\n",
       "48. 48\n",
       "49. 49\n",
       "50. 50\n",
       "51. 51\n",
       "52. 52\n",
       "53. 53\n",
       "54. 54\n",
       "55. 55\n",
       "56. 56\n",
       "57. 57\n",
       "58. 58\n",
       "59. 59\n",
       "60. 60\n",
       "61. 61\n",
       "62. 62\n",
       "63. 63\n",
       "64. 64\n",
       "65. 65\n",
       "66. 66\n",
       "67. 67\n",
       "68. 68\n",
       "69. 69\n",
       "70. 70\n",
       "71. 71\n",
       "72. 72\n",
       "73. 73\n",
       "74. 74\n",
       "75. 75\n",
       "\n",
       "\n",
       "\n",
       "$umap\n",
       ":   'UMAP'\n",
       "$mapped_id\n",
       ":   'v10k_pca75_predicted.id'\n",
       "$mapped_score\n",
       ":   'v10k_pca75_prediction.score.max'\n",
       "\n",
       "\n"
      ],
      "text/plain": [
       "$nvariables\n",
       "[1] 10000\n",
       "\n",
       "$regress\n",
       "[1] \"nFeature_originalexp\" \"nCount_originalexp\"   \"percent.mt\"          \n",
       "[4] \"percent.ribo\"         \"G2M_score\"            \"S_score\"             \n",
       "\n",
       "$pca_name\n",
       "[1] \"v10k_pca75\"\n",
       "\n",
       "$pca_name2\n",
       "[1] \"v10k_pca75_\"\n",
       "\n",
       "$npcs\n",
       "[1] 75\n",
       "\n",
       "$dims\n",
       " [1]  1  2  3  4  5  6  7  8  9 10 11 12 13 14 15 16 17 18 19 20 21 22 23 24 25\n",
       "[26] 26 27 28 29 30 31 32 33 34 35 36 37 38 39 40 41 42 43 44 45 46 47 48 49 50\n",
       "[51] 51 52 53 54 55 56 57 58 59 60 61 62 63 64 65 66 67 68 69 70 71 72 73 74 75\n",
       "\n",
       "$umap\n",
       "[1] \"UMAP\"\n",
       "\n",
       "$mapped_id\n",
       "[1] \"v10k_pca75_predicted.id\"\n",
       "\n",
       "$mapped_score\n",
       "[1] \"v10k_pca75_prediction.score.max\"\n"
      ]
     },
     "metadata": {},
     "output_type": "display_data"
    }
   ],
   "source": [
    "listmap"
   ]
  },
  {
   "cell_type": "code",
   "execution_count": 134,
   "id": "b0fa12b4-10db-4d67-b345-7e68322adfaf",
   "metadata": {
    "vscode": {
     "languageId": "r"
    }
   },
   "outputs": [],
   "source": [
    "# Findvariable Features\n",
    "#seurat_atlas <- FindVariableFeatures(object = seurat_atlas, nfeatures = listmap$nvariables)"
   ]
  },
  {
   "cell_type": "code",
   "execution_count": 135,
   "id": "fed64b05-c31f-4276-8ec3-b06baab12ad3",
   "metadata": {
    "vscode": {
     "languageId": "r"
    }
   },
   "outputs": [],
   "source": [
    "# Regression\n",
    "#seurat_atlas <- ScaleData(object = seurat_atlas, \n",
    "#                          features = VariableFeatures(seurat_atlas),\n",
    "#                          vars.to.regress = listmap$regress,\n",
    "#                          block.size = 20000)"
   ]
  },
  {
   "cell_type": "code",
   "execution_count": 136,
   "id": "2637e91c-1d1e-4b1e-9a2c-724ef637ee4d",
   "metadata": {
    "vscode": {
     "languageId": "r"
    }
   },
   "outputs": [
    {
     "data": {
      "text/html": [
       "10000"
      ],
      "text/latex": [
       "10000"
      ],
      "text/markdown": [
       "10000"
      ],
      "text/plain": [
       "[1] 10000"
      ]
     },
     "metadata": {},
     "output_type": "display_data"
    }
   ],
   "source": [
    "length(VariableFeatures(seurat_atlas))"
   ]
  },
  {
   "cell_type": "code",
   "execution_count": 137,
   "id": "93258717-9a5d-4b21-9e27-9c9531df659e",
   "metadata": {
    "vscode": {
     "languageId": "r"
    }
   },
   "outputs": [
    {
     "name": "stderr",
     "output_type": "stream",
     "text": [
      "PC_ 1 \n",
      "Positive:  Folr1, Mt1, Trap1a, Rbp4, Amn, Apoa1, Apom, Ttr, Ftl1, Ctsh \n",
      "\t   Tmem37, 2610528J11Rik, Ass1, Cubn, Apoc1, Fmr1nb, Apoa4, Apob, Lgals2, Mt2 \n",
      "\t   Apoe, Car7, Pla2g12b, Aldob, Lgmn, Fgb, Spink1, Ctsb, Cldn6, 2210011C24Rik \n",
      "Negative:  Tmsb10, H3f3a, Tuba1a, Marcks, Gnas, Basp1, 2810417H13Rik, Ifitm2, Mdk, Hmga2 \n",
      "\t   Nedd4, Vim, Sox4, Cald1, H2afy2, Anp32a, Serpinh1, Ttc3, Stmn1, Marcksl1 \n",
      "\t   Eid1, Tpm4, Sox11, Hnrnpa0, Tpm1, Fabp5, Ccnd2, Tmsb4x, Prtg, Fscn1 \n",
      "PC_ 2 \n",
      "Positive:  Car2, Hdgf, Elf5, Gypa, Fabp3, Alas2, Ccnd3, Gpx1, Prss50, Gjb3 \n",
      "\t   Perp, Dppa4, Htra1, Mrap, Asns, Gm9, Nr0b1, Sfn, Slc4a1, Eif4ebp1 \n",
      "\t   Tex19.1, Zfp42, Trim10, Gjb5, Cited4, Slc25a37, Hprt, Klf1, Hemgn, Cldn3 \n",
      "Negative:  Apom, Apoa4, Pla2g12b, Amn, Ctsh, Lgals2, Aldob, Car7, Ctsl, Cubn \n",
      "\t   Dab2, Fgb, Apoa1, Ttr, Rbp4, Apob, Gipc2, Slc39a5, Slc2a2, 2210011C24Rik \n",
      "\t   Spink1, Pcbd1, Slc13a4, Adora2b, Npl, Smlr1, 2610528J11Rik, 4933402E13Rik, Pdzk1, Creb3l3 \n",
      "PC_ 3 \n",
      "Positive:  Gypa, Cited4, Alas2, Klf1, Blvrb, Trim10, Prdx2, Mrap, Slc25a37, Slc4a1 \n",
      "\t   Hemgn, Snca, Smim1, Cpox, Mgst3, Pnpo, Slc39a8, Epor, Ermap, Tmem14c \n",
      "\t   Slc38a5, Prkar2b, Nxpe2, Acp5, Ell2, Fth1, Tspan32, Ncf4, Sptb, Tal1 \n",
      "Negative:  Ngfrap1, Wbp5, Calm2, Actg1, Elf5, Pgam1, Gjb3, Fabp3, Marcksl1, Perp \n",
      "\t   Tex19.1, Sfn, Tsen34, Cldn3, Bex1, Krt18, Ubb, Plp2, Anxa5, Nup62cl \n",
      "\t   Htra1, Gjb5, S100a6, Zfp42, Pkm, Krt19, Dppa4, Fkbp1a, Id2, Gm9 \n",
      "PC_ 4 \n",
      "Positive:  Slc25a4, Anxa2, S100a10, Ccnd3, Anxa5, Ecscr, Arpc1b, Gpx4, Tmsb4x, Cdh5 \n",
      "\t   Tln1, Morc4, Esam, Hapln1, Vim, Icam2, Tbrg1, Pcgf5, Arhgdib, Clic1 \n",
      "\t   Reep5, Lgals1, Ahnak, Kdr, Igfbp4, Itgb1, Cldn5, Ctla2a, Kdelr2, Pecam1 \n",
      "Negative:  Pou5f1, Ldhb, Pim2, Dnmt3b, Tgif1, Car14, Slc7a3, Psip1, Fgf5, Igfbp2 \n",
      "\t   Trh, Tdgf1, Epcam, Gng3, Emb, Pmaip1, Cd24a, Pgk1, Ldha, Pkm \n",
      "\t   Marcksl1, H2afv, Stmn1, Socs2, Ina, Apex1, Rab25, Spint2, Sap30, Bccip \n",
      "PC_ 5 \n",
      "Positive:  Pfn1, Cdh5, Ecscr, Icam2, Esam, Tceal8, Cldn5, Ctla2a, Kdr, Ppic \n",
      "\t   Cd34, Ramp2, Vamp5, Flt1, Plvap, Pecam1, Rasip1, Gngt2, Myl6, Serpinh1 \n",
      "\t   Arhgdib, Gng11, Tgfb1, Gimap1, Grap, Fli1, Limd2, Tie1, Emcn, Rhoj \n",
      "Negative:  Gm1673, Elf5, Sox2, Hnrnpa0, Cldn3, Tex19.1, Gjb3, Fabp3, Zfp42, Dppa4 \n",
      "\t   Perp, Nr0b1, Gm9, Wnt7b, Htra1, Tfap2c, Sfn, Tpt1, Crabp2, Id2 \n",
      "\t   Ptn, Cldn4, Tubb2b, Gjb5, Atrx, Dnmt3l, Nr2f1, Bmp8b, Erh, Trap1a \n",
      "\n",
      "Warning message:\n",
      "\"Key 'PC_' taken, using 'v10kpca75_' instead\"\n"
     ]
    }
   ],
   "source": [
    "# Run PCA \n",
    "seurat_atlas <- RunPCA(seurat_atlas,\n",
    "                       reduction.name = listmap$pca_name,\n",
    "                       npcs = listmap$npcs, \n",
    "                       features =  VariableFeatures(seurat_atlas)\n",
    "                      )"
   ]
  },
  {
   "cell_type": "code",
   "execution_count": 138,
   "id": "b68fe242-f1a9-477d-8cd6-744460e1dd17",
   "metadata": {
    "vscode": {
     "languageId": "r"
    }
   },
   "outputs": [
    {
     "name": "stderr",
     "output_type": "stream",
     "text": [
      "Projecting cell embeddings\n",
      "\n",
      "Finding neighborhoods\n",
      "\n",
      "Finding anchors\n",
      "\n",
      "\tFound 1337 anchors\n",
      "\n",
      "Finding integration vectors\n",
      "\n",
      "Finding integration vector weights\n",
      "\n",
      "Predicting cell labels\n",
      "\n"
     ]
    }
   ],
   "source": [
    "# with merged_pca (no integration)\n",
    "anchors <- FindTransferAnchors(reference = seurat_atlas, query = seurat_query, dims = listmap$dims, reference.reduction = listmap$pca_name)\n",
    "predictions <- TransferData(anchorset = anchors, refdata = seurat_atlas$celltype_extended_atlas, dims = listmap$dims )"
   ]
  },
  {
   "cell_type": "code",
   "execution_count": 139,
   "id": "3cb8fc26-afae-43ae-9b50-e0e98119c59a",
   "metadata": {
    "vscode": {
     "languageId": "r"
    }
   },
   "outputs": [
    {
     "data": {
      "text/html": [
       "<table class=\"dataframe\">\n",
       "<caption>A data.frame: 6 × 2</caption>\n",
       "<thead>\n",
       "\t<tr><th></th><th scope=col>v10k_pca75_predicted.id</th><th scope=col>v10k_pca75_prediction.score.max</th></tr>\n",
       "\t<tr><th></th><th scope=col>&lt;chr&gt;</th><th scope=col>&lt;dbl&gt;</th></tr>\n",
       "</thead>\n",
       "<tbody>\n",
       "\t<tr><th scope=row>AAACCCAAGAATTCAG-1_1</th><td>Epiblast  </td><td>0.4705565</td></tr>\n",
       "\t<tr><th scope=row>AAACCCAAGATCACCT-1_1</th><td>Mesenchyme</td><td>0.4716276</td></tr>\n",
       "\t<tr><th scope=row>AAACCCAAGCAGGGAG-1_1</th><td>Epicardium</td><td>0.4276116</td></tr>\n",
       "\t<tr><th scope=row>AAACCCAAGCGCAATG-1_1</th><td>Epicardium</td><td>0.6025947</td></tr>\n",
       "\t<tr><th scope=row>AAACCCAAGCTGGTGA-1_1</th><td>Allantois </td><td>0.6707944</td></tr>\n",
       "\t<tr><th scope=row>AAACCCAAGGGCCAAT-1_1</th><td>EMP       </td><td>0.7733386</td></tr>\n",
       "</tbody>\n",
       "</table>\n"
      ],
      "text/latex": [
       "A data.frame: 6 × 2\n",
       "\\begin{tabular}{r|ll}\n",
       "  & v10k\\_pca75\\_predicted.id & v10k\\_pca75\\_prediction.score.max\\\\\n",
       "  & <chr> & <dbl>\\\\\n",
       "\\hline\n",
       "\tAAACCCAAGAATTCAG-1\\_1 & Epiblast   & 0.4705565\\\\\n",
       "\tAAACCCAAGATCACCT-1\\_1 & Mesenchyme & 0.4716276\\\\\n",
       "\tAAACCCAAGCAGGGAG-1\\_1 & Epicardium & 0.4276116\\\\\n",
       "\tAAACCCAAGCGCAATG-1\\_1 & Epicardium & 0.6025947\\\\\n",
       "\tAAACCCAAGCTGGTGA-1\\_1 & Allantois  & 0.6707944\\\\\n",
       "\tAAACCCAAGGGCCAAT-1\\_1 & EMP        & 0.7733386\\\\\n",
       "\\end{tabular}\n"
      ],
      "text/markdown": [
       "\n",
       "A data.frame: 6 × 2\n",
       "\n",
       "| <!--/--> | v10k_pca75_predicted.id &lt;chr&gt; | v10k_pca75_prediction.score.max &lt;dbl&gt; |\n",
       "|---|---|---|\n",
       "| AAACCCAAGAATTCAG-1_1 | Epiblast   | 0.4705565 |\n",
       "| AAACCCAAGATCACCT-1_1 | Mesenchyme | 0.4716276 |\n",
       "| AAACCCAAGCAGGGAG-1_1 | Epicardium | 0.4276116 |\n",
       "| AAACCCAAGCGCAATG-1_1 | Epicardium | 0.6025947 |\n",
       "| AAACCCAAGCTGGTGA-1_1 | Allantois  | 0.6707944 |\n",
       "| AAACCCAAGGGCCAAT-1_1 | EMP        | 0.7733386 |\n",
       "\n"
      ],
      "text/plain": [
       "                     v10k_pca75_predicted.id v10k_pca75_prediction.score.max\n",
       "AAACCCAAGAATTCAG-1_1 Epiblast                0.4705565                      \n",
       "AAACCCAAGATCACCT-1_1 Mesenchyme              0.4716276                      \n",
       "AAACCCAAGCAGGGAG-1_1 Epicardium              0.4276116                      \n",
       "AAACCCAAGCGCAATG-1_1 Epicardium              0.6025947                      \n",
       "AAACCCAAGCTGGTGA-1_1 Allantois               0.6707944                      \n",
       "AAACCCAAGGGCCAAT-1_1 EMP                     0.7733386                      "
      ]
     },
     "metadata": {},
     "output_type": "display_data"
    }
   ],
   "source": [
    "predictions_short <- predictions[, c('predicted.id','prediction.score.max')]\n",
    "colnames(predictions_short) <- paste0(listmap$pca_name2, colnames(predictions_short))\n",
    "head(predictions_short)"
   ]
  },
  {
   "cell_type": "code",
   "execution_count": 140,
   "id": "1589d74f-2651-4110-b001-0793d9b45d90",
   "metadata": {
    "vscode": {
     "languageId": "r"
    }
   },
   "outputs": [],
   "source": [
    "seurat_query <- AddMetaData(seurat_query, metadata = predictions_short)"
   ]
  },
  {
   "cell_type": "code",
   "execution_count": null,
   "id": "399be88a",
   "metadata": {
    "vscode": {
     "languageId": "r"
    }
   },
   "outputs": [],
   "source": [
    "# make sure your UMAP reduction name is correct\n",
    "reduction_to_plot <- listmap$umap    # or \"pca_harmony_umap_1\" if that really is your slot\n",
    "\n",
    "# get all the unique extended‐type labels (including NA if present)\n",
    "conditions <- unique(seurat_query@meta.data[,'v10k_pca75_predicted.id'])\n",
    "\n",
    "Idents(seurat_query) <- 'v10k_pca75_predicted.id'\n",
    "\n",
    "options(repr.plot.width=8, repr.plot.height=6)\n",
    "for (cond in conditions) {\n",
    "\t# skip NA if you don't care to plot it\n",
    "\tif (is.na(cond)) next\n",
    "\t\n",
    "\t# grab the cells of that type\n",
    "\tcells_of_interest <- WhichCells(\n",
    "\t\tobject    = seurat_query,\n",
    "\t\t idents =  cond\n",
    "\t)\n",
    "\t\n",
    "\t# make the plot\n",
    "\tp <- DimPlot(\n",
    "\t\tobject          = seurat_query,\n",
    "\t\treduction       = reduction_to_plot,\n",
    "\t\tcells.highlight = cells_of_interest,\n",
    "\t\tcols.highlight  = \"firebrick\",   # or any color you like\n",
    "\t\tcols            = \"lightgrey\",   # background cells\n",
    "\t\tpt.size         = 0.5, alpha = 0.5\n",
    "\t) +\n",
    "\t\tNoAxes()+NoLegend() +\n",
    "\t\tggtitle(cond)\n",
    "\t\n",
    "\tprint(p)\n",
    "}"
   ]
  },
  {
   "cell_type": "code",
   "execution_count": 143,
   "id": "e1e3a21f-36d2-45e7-8f7c-7456541999b6",
   "metadata": {
    "vscode": {
     "languageId": "r"
    }
   },
   "outputs": [
    {
     "data": {
      "text/html": [
       "'v10k_pca75_predicted.id'"
      ],
      "text/latex": [
       "'v10k\\_pca75\\_predicted.id'"
      ],
      "text/markdown": [
       "'v10k_pca75_predicted.id'"
      ],
      "text/plain": [
       "[1] \"v10k_pca75_predicted.id\""
      ]
     },
     "metadata": {},
     "output_type": "display_data"
    }
   ],
   "source": [
    "listmap$mapped_id"
   ]
  },
  {
   "cell_type": "code",
   "execution_count": 144,
   "id": "4c4587ec-10ad-4109-a450-3a70e934f486",
   "metadata": {
    "vscode": {
     "languageId": "r"
    }
   },
   "outputs": [
    {
     "data": {
      "image/png": "[encoded data removed]",
      "text/plain": [
       "Plot with title \"Histogram of predictions_short[, listmap$mapped_score]\""
      ]
     },
     "metadata": {
      "image/png": {
       "height": 360,
       "width": 480
      }
     },
     "output_type": "display_data"
    }
   ],
   "source": [
    "options(repr.plot.width=8, repr.plot.height=6)\n",
    "hist(predictions_short[,listmap$mapped_score],breaks = 500)"
   ]
  },
  {
   "cell_type": "code",
   "execution_count": 145,
   "id": "bbee9bf0-fba6-4c1f-9f3e-15dc8be96f04",
   "metadata": {
    "vscode": {
     "languageId": "r"
    }
   },
   "outputs": [],
   "source": [
    "saveRDS(predictions, paste0(listmap$pca_name2,'predictions.rds'))"
   ]
  },
  {
   "cell_type": "code",
   "execution_count": 146,
   "id": "b52cb2c4-0da0-4589-98e6-5dd143d4ab3b",
   "metadata": {
    "vscode": {
     "languageId": "r"
    }
   },
   "outputs": [],
   "source": [
    "saveRDS(anchors, paste0(listmap$pca_name2,'anchors.rds'))"
   ]
  },
  {
   "cell_type": "markdown",
   "id": "603ae272-0257-4148-b51f-a37663bcb670",
   "metadata": {
    "editable": true,
    "slideshow": {
     "slide_type": ""
    },
    "tags": []
   },
   "source": [
    "## with 10000 variable features (10k) with 100 pca (v10k_pca100)"
   ]
  },
  {
   "cell_type": "code",
   "execution_count": null,
   "id": "232c6565-5050-4fdf-960e-174a81571ef5",
   "metadata": {
    "vscode": {
     "languageId": "r"
    }
   },
   "outputs": [],
   "source": []
  },
  {
   "cell_type": "code",
   "execution_count": 147,
   "id": "e9c9d37c-1000-47e9-88b7-b73f429a3d25",
   "metadata": {
    "vscode": {
     "languageId": "r"
    }
   },
   "outputs": [],
   "source": [
    "rm(listmap)"
   ]
  },
  {
   "cell_type": "code",
   "execution_count": 148,
   "id": "e52e6c38-5776-4586-9fd0-55a1ce83b8da",
   "metadata": {
    "vscode": {
     "languageId": "r"
    }
   },
   "outputs": [],
   "source": [
    "listmap <- list()\n",
    "listmap$nvariables <- 10000\n",
    "listmap$regress <-  c(\"nFeature_originalexp\", \"nCount_originalexp\", \"percent.mt\", \"percent.ribo\", \"G2M_score\", \"S_score\")\n",
    "listmap$pca_name <- 'v10k_pca100'\n",
    "listmap$pca_name2 <- 'v10k_pca100_'\n",
    "listmap$npcs = 100\n",
    "listmap$dims = 1:100\n",
    "listmap$umap = 'UMAP'\n",
    "listmap$mapped_id <- 'v10k_pca100_predicted.id'\n",
    "listmap$mapped_score <- 'v10k_pca100_prediction.score.max'"
   ]
  },
  {
   "cell_type": "code",
   "execution_count": 149,
   "id": "bfe2177c-272f-4ea3-a20b-7ff91a970246",
   "metadata": {
    "vscode": {
     "languageId": "r"
    }
   },
   "outputs": [],
   "source": [
    "# Findvariable Features\n",
    "# seurat_atlas <- FindVariableFeatures(object = seurat_atlas, nfeatures = listmap$nvariables)"
   ]
  },
  {
   "cell_type": "code",
   "execution_count": 150,
   "id": "5cc6a40f-c23b-4443-a819-2a019ae86e71",
   "metadata": {
    "vscode": {
     "languageId": "r"
    }
   },
   "outputs": [],
   "source": [
    "# Regression\n",
    "# seurat_atlas <- ScaleData(object = seurat_atlas, \n",
    "#                          features = VariableFeatures(seurat_atlas),\n",
    "#                          vars.to.regress = listmap$regress,\n",
    "#                          block.size = 20000)"
   ]
  },
  {
   "cell_type": "code",
   "execution_count": 151,
   "id": "fd1fb0d7-1fd3-441d-8897-4e2f5816d8dd",
   "metadata": {
    "vscode": {
     "languageId": "r"
    }
   },
   "outputs": [
    {
     "data": {
      "text/html": [
       "10000"
      ],
      "text/latex": [
       "10000"
      ],
      "text/markdown": [
       "10000"
      ],
      "text/plain": [
       "[1] 10000"
      ]
     },
     "metadata": {},
     "output_type": "display_data"
    }
   ],
   "source": [
    "length(VariableFeatures(seurat_atlas))"
   ]
  },
  {
   "cell_type": "code",
   "execution_count": 152,
   "id": "492dcfd6-c218-49f4-ba7a-2a66047733c6",
   "metadata": {
    "vscode": {
     "languageId": "r"
    }
   },
   "outputs": [
    {
     "name": "stderr",
     "output_type": "stream",
     "text": [
      "PC_ 1 \n",
      "Positive:  Tmsb10, H3f3a, Tuba1a, Marcks, Gnas, Basp1, 2810417H13Rik, Ifitm2, Mdk, Hmga2 \n",
      "\t   Nedd4, Vim, Sox4, Cald1, H2afy2, Anp32a, Serpinh1, Ttc3, Stmn1, Marcksl1 \n",
      "\t   Eid1, Tpm4, Sox11, Hnrnpa0, Tpm1, Fabp5, Ccnd2, Tmsb4x, Prtg, Fscn1 \n",
      "Negative:  Folr1, Mt1, Trap1a, Rbp4, Amn, Apoa1, Apom, Ttr, Ftl1, Ctsh \n",
      "\t   Tmem37, 2610528J11Rik, Ass1, Cubn, Apoc1, Fmr1nb, Apoa4, Apob, Lgals2, Mt2 \n",
      "\t   Apoe, Car7, Pla2g12b, Aldob, Lgmn, Fgb, Spink1, Ctsb, Cldn6, 2210011C24Rik \n",
      "PC_ 2 \n",
      "Positive:  Car2, Hdgf, Elf5, Gypa, Fabp3, Alas2, Ccnd3, Gpx1, Prss50, Gjb3 \n",
      "\t   Perp, Dppa4, Htra1, Mrap, Asns, Gm9, Nr0b1, Sfn, Slc4a1, Eif4ebp1 \n",
      "\t   Tex19.1, Zfp42, Trim10, Gjb5, Cited4, Slc25a37, Hprt, Klf1, Hemgn, Cldn3 \n",
      "Negative:  Apom, Apoa4, Pla2g12b, Amn, Ctsh, Lgals2, Aldob, Car7, Ctsl, Cubn \n",
      "\t   Dab2, Fgb, Apoa1, Ttr, Rbp4, Apob, Gipc2, Slc39a5, Slc2a2, 2210011C24Rik \n",
      "\t   Spink1, Pcbd1, Slc13a4, Adora2b, Npl, Smlr1, 2610528J11Rik, 4933402E13Rik, Pdzk1, Creb3l3 \n",
      "PC_ 3 \n",
      "Positive:  Gypa, Cited4, Alas2, Klf1, Blvrb, Trim10, Prdx2, Mrap, Slc25a37, Slc4a1 \n",
      "\t   Hemgn, Snca, Smim1, Cpox, Mgst3, Pnpo, Slc39a8, Epor, Ermap, Tmem14c \n",
      "\t   Slc38a5, Prkar2b, Nxpe2, Acp5, Ell2, Fth1, Tspan32, Ncf4, Sptb, Tal1 \n",
      "Negative:  Ngfrap1, Wbp5, Calm2, Actg1, Elf5, Pgam1, Gjb3, Fabp3, Marcksl1, Perp \n",
      "\t   Tex19.1, Sfn, Tsen34, Cldn3, Bex1, Krt18, Ubb, Plp2, Anxa5, Nup62cl \n",
      "\t   Htra1, Gjb5, S100a6, Zfp42, Pkm, Krt19, Dppa4, Fkbp1a, Id2, Gm9 \n",
      "PC_ 4 \n",
      "Positive:  Slc25a4, Anxa2, S100a10, Ccnd3, Anxa5, Ecscr, Arpc1b, Gpx4, Tmsb4x, Cdh5 \n",
      "\t   Tln1, Morc4, Esam, Hapln1, Vim, Icam2, Tbrg1, Pcgf5, Arhgdib, Clic1 \n",
      "\t   Reep5, Lgals1, Ahnak, Kdr, Igfbp4, Itgb1, Cldn5, Ctla2a, Kdelr2, Pecam1 \n",
      "Negative:  Pou5f1, Ldhb, Pim2, Dnmt3b, Tgif1, Car14, Slc7a3, Psip1, Fgf5, Igfbp2 \n",
      "\t   Trh, Tdgf1, Epcam, Gng3, Emb, Pmaip1, Cd24a, Pgk1, Ldha, Pkm \n",
      "\t   Marcksl1, H2afv, Stmn1, Socs2, Ina, Apex1, Rab25, Spint2, Sap30, Bccip \n",
      "PC_ 5 \n",
      "Positive:  Pfn1, Cdh5, Ecscr, Icam2, Esam, Tceal8, Cldn5, Ctla2a, Kdr, Ppic \n",
      "\t   Cd34, Ramp2, Vamp5, Flt1, Plvap, Pecam1, Rasip1, Gngt2, Myl6, Serpinh1 \n",
      "\t   Arhgdib, Gng11, Tgfb1, Gimap1, Grap, Fli1, Limd2, Tie1, Emcn, Rhoj \n",
      "Negative:  Gm1673, Elf5, Sox2, Hnrnpa0, Cldn3, Tex19.1, Gjb3, Fabp3, Zfp42, Dppa4 \n",
      "\t   Perp, Nr0b1, Gm9, Wnt7b, Htra1, Tfap2c, Sfn, Tpt1, Crabp2, Id2 \n",
      "\t   Ptn, Cldn4, Tubb2b, Gjb5, Atrx, Dnmt3l, Nr2f1, Bmp8b, Erh, Trap1a \n",
      "\n",
      "Warning message:\n",
      "\"Key 'PC_' taken, using 'v10kpca100_' instead\"\n"
     ]
    }
   ],
   "source": [
    "# Run PCA \n",
    "seurat_atlas <- RunPCA(seurat_atlas,\n",
    "                       reduction.name = listmap$pca_name,\n",
    "                       npcs = listmap$npcs, \n",
    "                       features =  VariableFeatures(seurat_atlas)\n",
    "                      )"
   ]
  },
  {
   "cell_type": "code",
   "execution_count": 153,
   "id": "67ea6b57-86a6-4b9a-a335-fc06d29f2e2f",
   "metadata": {
    "vscode": {
     "languageId": "r"
    }
   },
   "outputs": [
    {
     "name": "stderr",
     "output_type": "stream",
     "text": [
      "Projecting cell embeddings\n",
      "\n",
      "Finding neighborhoods\n",
      "\n",
      "Finding anchors\n",
      "\n",
      "\tFound 1329 anchors\n",
      "\n",
      "Finding integration vectors\n",
      "\n",
      "Finding integration vector weights\n",
      "\n",
      "Predicting cell labels\n",
      "\n"
     ]
    }
   ],
   "source": [
    "# with merged_pca (no integration)\n",
    "anchors <- FindTransferAnchors(reference = seurat_atlas, query = seurat_query, dims = listmap$dims, reference.reduction = listmap$pca_name)\n",
    "predictions <- TransferData(anchorset = anchors, refdata = seurat_atlas$celltype_extended_atlas, dims = listmap$dims )"
   ]
  },
  {
   "cell_type": "code",
   "execution_count": 154,
   "id": "4de61d2b-a4c8-424c-b09e-358a3a11ee69",
   "metadata": {
    "vscode": {
     "languageId": "r"
    }
   },
   "outputs": [
    {
     "data": {
      "text/html": [
       "<table class=\"dataframe\">\n",
       "<caption>A data.frame: 6 × 2</caption>\n",
       "<thead>\n",
       "\t<tr><th></th><th scope=col>v10k_pca100_predicted.id</th><th scope=col>v10k_pca100_prediction.score.max</th></tr>\n",
       "\t<tr><th></th><th scope=col>&lt;chr&gt;</th><th scope=col>&lt;dbl&gt;</th></tr>\n",
       "</thead>\n",
       "<tbody>\n",
       "\t<tr><th scope=row>AAACCCAAGAATTCAG-1_1</th><td>PGC       </td><td>0.4662698</td></tr>\n",
       "\t<tr><th scope=row>AAACCCAAGATCACCT-1_1</th><td>Mesenchyme</td><td>0.4966959</td></tr>\n",
       "\t<tr><th scope=row>AAACCCAAGCAGGGAG-1_1</th><td>Epicardium</td><td>0.3182463</td></tr>\n",
       "\t<tr><th scope=row>AAACCCAAGCGCAATG-1_1</th><td>Mesenchyme</td><td>0.4039795</td></tr>\n",
       "\t<tr><th scope=row>AAACCCAAGCTGGTGA-1_1</th><td>Allantois </td><td>0.8356926</td></tr>\n",
       "\t<tr><th scope=row>AAACCCAAGGGCCAAT-1_1</th><td>EMP       </td><td>0.8512432</td></tr>\n",
       "</tbody>\n",
       "</table>\n"
      ],
      "text/latex": [
       "A data.frame: 6 × 2\n",
       "\\begin{tabular}{r|ll}\n",
       "  & v10k\\_pca100\\_predicted.id & v10k\\_pca100\\_prediction.score.max\\\\\n",
       "  & <chr> & <dbl>\\\\\n",
       "\\hline\n",
       "\tAAACCCAAGAATTCAG-1\\_1 & PGC        & 0.4662698\\\\\n",
       "\tAAACCCAAGATCACCT-1\\_1 & Mesenchyme & 0.4966959\\\\\n",
       "\tAAACCCAAGCAGGGAG-1\\_1 & Epicardium & 0.3182463\\\\\n",
       "\tAAACCCAAGCGCAATG-1\\_1 & Mesenchyme & 0.4039795\\\\\n",
       "\tAAACCCAAGCTGGTGA-1\\_1 & Allantois  & 0.8356926\\\\\n",
       "\tAAACCCAAGGGCCAAT-1\\_1 & EMP        & 0.8512432\\\\\n",
       "\\end{tabular}\n"
      ],
      "text/markdown": [
       "\n",
       "A data.frame: 6 × 2\n",
       "\n",
       "| <!--/--> | v10k_pca100_predicted.id &lt;chr&gt; | v10k_pca100_prediction.score.max &lt;dbl&gt; |\n",
       "|---|---|---|\n",
       "| AAACCCAAGAATTCAG-1_1 | PGC        | 0.4662698 |\n",
       "| AAACCCAAGATCACCT-1_1 | Mesenchyme | 0.4966959 |\n",
       "| AAACCCAAGCAGGGAG-1_1 | Epicardium | 0.3182463 |\n",
       "| AAACCCAAGCGCAATG-1_1 | Mesenchyme | 0.4039795 |\n",
       "| AAACCCAAGCTGGTGA-1_1 | Allantois  | 0.8356926 |\n",
       "| AAACCCAAGGGCCAAT-1_1 | EMP        | 0.8512432 |\n",
       "\n"
      ],
      "text/plain": [
       "                     v10k_pca100_predicted.id v10k_pca100_prediction.score.max\n",
       "AAACCCAAGAATTCAG-1_1 PGC                      0.4662698                       \n",
       "AAACCCAAGATCACCT-1_1 Mesenchyme               0.4966959                       \n",
       "AAACCCAAGCAGGGAG-1_1 Epicardium               0.3182463                       \n",
       "AAACCCAAGCGCAATG-1_1 Mesenchyme               0.4039795                       \n",
       "AAACCCAAGCTGGTGA-1_1 Allantois                0.8356926                       \n",
       "AAACCCAAGGGCCAAT-1_1 EMP                      0.8512432                       "
      ]
     },
     "metadata": {},
     "output_type": "display_data"
    }
   ],
   "source": [
    "predictions_short <- predictions[, c('predicted.id','prediction.score.max')]\n",
    "colnames(predictions_short) <- paste0(listmap$pca_name2, colnames(predictions_short))\n",
    "head(predictions_short)"
   ]
  },
  {
   "cell_type": "code",
   "execution_count": 155,
   "id": "865e3589-dbec-45b2-84b3-00b5fa6226f4",
   "metadata": {
    "vscode": {
     "languageId": "r"
    }
   },
   "outputs": [],
   "source": [
    "seurat_query <- AddMetaData(seurat_query, metadata = predictions_short)"
   ]
  },
  {
   "cell_type": "code",
   "execution_count": null,
   "id": "a4ae93e2",
   "metadata": {
    "vscode": {
     "languageId": "r"
    }
   },
   "outputs": [],
   "source": [
    "# make sure your UMAP reduction name is correct\n",
    "reduction_to_plot <- listmap$umap    # or \"pca_harmony_umap_1\" if that really is your slot\n",
    "\n",
    "# get all the unique extended‐type labels (including NA if present)\n",
    "conditions <- unique(seurat_query@meta.data[,listmap$mapped_id])\n",
    "\n",
    "Idents(seurat_query) <- listmap$mapped_id\n",
    "\n",
    "options(repr.plot.width=8, repr.plot.height=6)\n",
    "for (cond in conditions) {\n",
    "\t# skip NA if you don't care to plot it\n",
    "\tif (is.na(cond)) next\n",
    "\t\n",
    "\t# grab the cells of that type\n",
    "\tcells_of_interest <- WhichCells(\n",
    "\t\tobject    = seurat_query,\n",
    "\t\t idents =  cond\n",
    "\t)\n",
    "\t\n",
    "\t# make the plot\n",
    "\tp <- DimPlot(\n",
    "\t\tobject          = seurat_query,\n",
    "\t\treduction       = reduction_to_plot,\n",
    "\t\tcells.highlight = cells_of_interest,\n",
    "\t\tcols.highlight  = \"firebrick\",   # or any color you like\n",
    "\t\tcols            = \"lightgrey\",   # background cells\n",
    "\t\tpt.size         = 0.5, alpha = 0.5\n",
    "\t) +\n",
    "\t\tNoAxes()+NoLegend() +\n",
    "\t\tggtitle(cond)\n",
    "\t\n",
    "\tprint(p)\n",
    "}"
   ]
  },
  {
   "cell_type": "code",
   "execution_count": 157,
   "id": "d34a5bdf-71e5-4ab7-969f-2ec1f9ff22b2",
   "metadata": {
    "vscode": {
     "languageId": "r"
    }
   },
   "outputs": [
    {
     "data": {
      "image/png": "[encoded data removed]",
      "text/plain": [
       "Plot with title \"Histogram of predictions_short[, listmap$mapped_score]\""
      ]
     },
     "metadata": {
      "image/png": {
       "height": 360,
       "width": 480
      }
     },
     "output_type": "display_data"
    }
   ],
   "source": [
    "options(repr.plot.width=8, repr.plot.height=6)\n",
    "hist(predictions_short[,listmap$mapped_score],breaks = 500)"
   ]
  },
  {
   "cell_type": "code",
   "execution_count": 158,
   "id": "4ccf3606-ae97-40a7-a231-24223f00fb82",
   "metadata": {
    "vscode": {
     "languageId": "r"
    }
   },
   "outputs": [],
   "source": [
    "saveRDS(predictions, paste0(listmap$pca_name2,'predictions.rds'))"
   ]
  },
  {
   "cell_type": "code",
   "execution_count": 159,
   "id": "c94e261a-c73d-4c28-8d82-57858f8e0dff",
   "metadata": {
    "vscode": {
     "languageId": "r"
    }
   },
   "outputs": [],
   "source": [
    "saveRDS(anchors, paste0(listmap$pca_name2,'anchors.rds'))"
   ]
  },
  {
   "cell_type": "markdown",
   "id": "41660e1d-834b-441f-b1b3-72f60b7acdd9",
   "metadata": {},
   "source": [
    "# Adding to obj"
   ]
  },
  {
   "cell_type": "code",
   "execution_count": 161,
   "id": "cf7a6900-b80f-4509-92b5-446c5c231be5",
   "metadata": {
    "vscode": {
     "languageId": "r"
    }
   },
   "outputs": [
    {
     "data": {
      "text/plain": [
       "An object of class Seurat \n",
       "27998 features across 71107 samples within 1 assay \n",
       "Active assay: RNA (27998 features, 0 variable features)\n",
       " 2 layers present: counts, data\n",
       " 6 dimensional reductions calculated: OLDPCA, OLDUMAP, OLDTSNE, PCA, UMAP, UMAP3D"
      ]
     },
     "metadata": {},
     "output_type": "display_data"
    }
   ],
   "source": [
    "obj <- readRDS('../../cmoy2_reup.RDS')\n",
    "obj"
   ]
  },
  {
   "cell_type": "code",
   "execution_count": 163,
   "id": "d8cc6f8a-3892-422e-9879-cebff14f36a1",
   "metadata": {
    "vscode": {
     "languageId": "r"
    }
   },
   "outputs": [
    {
     "data": {
      "text/html": [
       "<style>\n",
       ".list-inline {list-style: none; margin:0; padding: 0}\n",
       ".list-inline>li {display: inline-block}\n",
       ".list-inline>li:not(:last-child)::after {content: \"\\00b7\"; padding: 0 .5ex}\n",
       "</style>\n",
       "<ol class=list-inline><li>71107</li><li>61</li></ol>\n"
      ],
      "text/latex": [
       "\\begin{enumerate*}\n",
       "\\item 71107\n",
       "\\item 61\n",
       "\\end{enumerate*}\n"
      ],
      "text/markdown": [
       "1. 71107\n",
       "2. 61\n",
       "\n",
       "\n"
      ],
      "text/plain": [
       "[1] 71107    61"
      ]
     },
     "metadata": {},
     "output_type": "display_data"
    }
   ],
   "source": [
    "dim(seurat_query@meta.data)"
   ]
  },
  {
   "cell_type": "code",
   "execution_count": null,
   "id": "3314b887-3c46-4550-85f3-14f614dc523e",
   "metadata": {
    "vscode": {
     "languageId": "r"
    }
   },
   "outputs": [],
   "source": []
  },
  {
   "cell_type": "code",
   "execution_count": null,
   "id": "493f456f-ab11-4714-b0bf-30c274a0435b",
   "metadata": {
    "vscode": {
     "languageId": "r"
    }
   },
   "outputs": [],
   "source": []
  },
  {
   "cell_type": "code",
   "execution_count": null,
   "id": "3bde30ba-140a-4daf-9846-d746c9165386",
   "metadata": {
    "vscode": {
     "languageId": "r"
    }
   },
   "outputs": [],
   "source": []
  },
  {
   "cell_type": "code",
   "execution_count": 168,
   "id": "94f6fd9e-62ac-4f49-9136-7ded9d177a7e",
   "metadata": {
    "vscode": {
     "languageId": "r"
    }
   },
   "outputs": [
    {
     "data": {
      "text/html": [
       "<style>\n",
       ".list-inline {list-style: none; margin:0; padding: 0}\n",
       ".list-inline>li {display: inline-block}\n",
       ".list-inline>li:not(:last-child)::after {content: \"\\00b7\"; padding: 0 .5ex}\n",
       "</style>\n",
       "<ol class=list-inline><li>'v4k_pca50_predicted.id'</li><li>'v4k_pca50_prediction.score.max'</li><li>'v4k_pca75_predicted.id'</li><li>'v4k_pca75_prediction.score.max'</li><li>'v4k_pca100_predicted.id'</li><li>'v4k_pca100_prediction.score.max'</li><li>'v7k_pca50_predicted.id'</li><li>'v7k_pca50_prediction.score.max'</li><li>'v7k_pca75_predicted.id'</li><li>'v7k_pca75_prediction.score.max'</li><li>'v7k_pca100_predicted.id'</li><li>'v7k_pca100_prediction.score.max'</li><li>'v10k_pca50_predicted.id'</li><li>'v10k_pca50_prediction.score.max'</li><li>'v10k_pca75_predicted.id'</li><li>'v10k_pca75_prediction.score.max'</li><li>'v10k_pca100_predicted.id'</li><li>'v10k_pca100_prediction.score.max'</li></ol>\n"
      ],
      "text/latex": [
       "\\begin{enumerate*}\n",
       "\\item 'v4k\\_pca50\\_predicted.id'\n",
       "\\item 'v4k\\_pca50\\_prediction.score.max'\n",
       "\\item 'v4k\\_pca75\\_predicted.id'\n",
       "\\item 'v4k\\_pca75\\_prediction.score.max'\n",
       "\\item 'v4k\\_pca100\\_predicted.id'\n",
       "\\item 'v4k\\_pca100\\_prediction.score.max'\n",
       "\\item 'v7k\\_pca50\\_predicted.id'\n",
       "\\item 'v7k\\_pca50\\_prediction.score.max'\n",
       "\\item 'v7k\\_pca75\\_predicted.id'\n",
       "\\item 'v7k\\_pca75\\_prediction.score.max'\n",
       "\\item 'v7k\\_pca100\\_predicted.id'\n",
       "\\item 'v7k\\_pca100\\_prediction.score.max'\n",
       "\\item 'v10k\\_pca50\\_predicted.id'\n",
       "\\item 'v10k\\_pca50\\_prediction.score.max'\n",
       "\\item 'v10k\\_pca75\\_predicted.id'\n",
       "\\item 'v10k\\_pca75\\_prediction.score.max'\n",
       "\\item 'v10k\\_pca100\\_predicted.id'\n",
       "\\item 'v10k\\_pca100\\_prediction.score.max'\n",
       "\\end{enumerate*}\n"
      ],
      "text/markdown": [
       "1. 'v4k_pca50_predicted.id'\n",
       "2. 'v4k_pca50_prediction.score.max'\n",
       "3. 'v4k_pca75_predicted.id'\n",
       "4. 'v4k_pca75_prediction.score.max'\n",
       "5. 'v4k_pca100_predicted.id'\n",
       "6. 'v4k_pca100_prediction.score.max'\n",
       "7. 'v7k_pca50_predicted.id'\n",
       "8. 'v7k_pca50_prediction.score.max'\n",
       "9. 'v7k_pca75_predicted.id'\n",
       "10. 'v7k_pca75_prediction.score.max'\n",
       "11. 'v7k_pca100_predicted.id'\n",
       "12. 'v7k_pca100_prediction.score.max'\n",
       "13. 'v10k_pca50_predicted.id'\n",
       "14. 'v10k_pca50_prediction.score.max'\n",
       "15. 'v10k_pca75_predicted.id'\n",
       "16. 'v10k_pca75_prediction.score.max'\n",
       "17. 'v10k_pca100_predicted.id'\n",
       "18. 'v10k_pca100_prediction.score.max'\n",
       "\n",
       "\n"
      ],
      "text/plain": [
       " [1] \"v4k_pca50_predicted.id\"           \"v4k_pca50_prediction.score.max\"  \n",
       " [3] \"v4k_pca75_predicted.id\"           \"v4k_pca75_prediction.score.max\"  \n",
       " [5] \"v4k_pca100_predicted.id\"          \"v4k_pca100_prediction.score.max\" \n",
       " [7] \"v7k_pca50_predicted.id\"           \"v7k_pca50_prediction.score.max\"  \n",
       " [9] \"v7k_pca75_predicted.id\"           \"v7k_pca75_prediction.score.max\"  \n",
       "[11] \"v7k_pca100_predicted.id\"          \"v7k_pca100_prediction.score.max\" \n",
       "[13] \"v10k_pca50_predicted.id\"          \"v10k_pca50_prediction.score.max\" \n",
       "[15] \"v10k_pca75_predicted.id\"          \"v10k_pca75_prediction.score.max\" \n",
       "[17] \"v10k_pca100_predicted.id\"         \"v10k_pca100_prediction.score.max\""
      ]
     },
     "metadata": {},
     "output_type": "display_data"
    }
   ],
   "source": [
    "colnames(seurat_query@meta.data[,44:61])"
   ]
  },
  {
   "cell_type": "code",
   "execution_count": 169,
   "id": "be5ae9b1-ea90-4cc9-ae96-b0452b94a022",
   "metadata": {
    "vscode": {
     "languageId": "r"
    }
   },
   "outputs": [],
   "source": [
    "df <- seurat_query@meta.data[,44:61]"
   ]
  },
  {
   "cell_type": "code",
   "execution_count": 170,
   "id": "fd77784a-8c41-4c49-9bd2-9520bc76d084",
   "metadata": {
    "vscode": {
     "languageId": "r"
    }
   },
   "outputs": [],
   "source": [
    "obj <- AddMetaData(obj, metadata = df)"
   ]
  },
  {
   "cell_type": "code",
   "execution_count": 171,
   "id": "e4ad9e6f-2fac-42ba-a70c-d11f7628e805",
   "metadata": {
    "vscode": {
     "languageId": "r"
    }
   },
   "outputs": [],
   "source": [
    "saveRDS(obj,'../../cmo_version3.rds', compress = FALSE)"
   ]
  },
  {
   "cell_type": "code",
   "execution_count": 172,
   "id": "f34338b5-5853-499c-8c80-2a2806f10f24",
   "metadata": {
    "vscode": {
     "languageId": "r"
    }
   },
   "outputs": [
    {
     "data": {
      "text/plain": [
       "R version 4.5.1 (2025-06-13)\n",
       "Platform: x86_64-pc-linux-gnu\n",
       "Running under: Debian GNU/Linux 12 (bookworm)\n",
       "\n",
       "Matrix products: default\n",
       "BLAS:   /usr/lib/x86_64-linux-gnu/openblas-pthread/libblas.so.3 \n",
       "LAPACK: /usr/lib/x86_64-linux-gnu/openblas-pthread/libopenblasp-r0.3.21.so;  LAPACK version 3.11.0\n",
       "\n",
       "locale:\n",
       " [1] LC_CTYPE=en_US.UTF-8       LC_NUMERIC=C              \n",
       " [3] LC_TIME=en_US.UTF-8        LC_COLLATE=en_US.UTF-8    \n",
       " [5] LC_MONETARY=en_US.UTF-8    LC_MESSAGES=en_US.UTF-8   \n",
       " [7] LC_PAPER=en_US.UTF-8       LC_NAME=C                 \n",
       " [9] LC_ADDRESS=C               LC_TELEPHONE=C            \n",
       "[11] LC_MEASUREMENT=en_US.UTF-8 LC_IDENTIFICATION=C       \n",
       "\n",
       "time zone: Europe/Amsterdam\n",
       "tzcode source: system (glibc)\n",
       "\n",
       "attached base packages:\n",
       "[1] parallel  stats4    stats     graphics  grDevices utils     datasets \n",
       "[8] methods   base     \n",
       "\n",
       "other attached packages:\n",
       " [1] future.apply_1.20.0         future_1.58.0              \n",
       " [3] argparse_2.2.5              stringr_1.5.1              \n",
       " [5] reticulate_1.42.0           dplyr_1.1.4                \n",
       " [7] purrr_1.0.4                 data.table_1.17.6          \n",
       " [9] ggrastr_1.0.2               RColorBrewer_1.1-3         \n",
       "[11] ggExtra_0.10.1              cowplot_1.1.3              \n",
       "[13] ggpubr_0.6.0                EnsDb.Mmusculus.v79_2.99.0 \n",
       "[15] ensembldb_2.32.0            AnnotationFilter_1.32.0    \n",
       "[17] GenomicFeatures_1.60.0      AnnotationDbi_1.70.0       \n",
       "[19] gprofiler2_0.2.3            batchelor_1.24.0           \n",
       "[21] edgeR_4.6.2                 limma_3.64.1               \n",
       "[23] scran_1.36.0                scater_1.36.0              \n",
       "[25] scuttle_1.18.0              scDblFinder_1.22.0         \n",
       "[27] clustree_0.5.1              ggraph_2.2.1               \n",
       "[29] ggplot2_3.5.2               SoupX_1.6.2                \n",
       "[31] Seurat_5.3.0                SeuratObject_5.1.0         \n",
       "[33] sp_2.2-0                    SingleCellExperiment_1.30.1\n",
       "[35] SummarizedExperiment_1.38.1 Biobase_2.68.0             \n",
       "[37] GenomicRanges_1.60.0        GenomeInfoDb_1.44.0        \n",
       "[39] IRanges_2.42.0              S4Vectors_0.46.0           \n",
       "[41] BiocGenerics_0.54.0         generics_0.1.4             \n",
       "[43] MatrixGenerics_1.20.0       matrixStats_1.5.0          \n",
       "\n",
       "loaded via a namespace (and not attached):\n",
       "  [1] ProtGenerics_1.40.0       spatstat.sparse_3.1-0    \n",
       "  [3] bitops_1.0-9              httr_1.4.7               \n",
       "  [5] repr_1.1.7                backports_1.5.0          \n",
       "  [7] tools_4.5.1               sctransform_0.4.2        \n",
       "  [9] R6_2.6.1.9000             ResidualMatrix_1.18.0    \n",
       " [11] lazyeval_0.2.2            uwot_0.2.3               \n",
       " [13] withr_3.0.2               gridExtra_2.3            \n",
       " [15] progressr_0.15.1          cli_3.6.5                \n",
       " [17] textshaping_1.0.1         Cairo_1.6-2              \n",
       " [19] spatstat.explore_3.4-3    fastDummies_1.7.5        \n",
       " [21] labeling_0.4.3            spatstat.data_3.1-6      \n",
       " [23] ggridges_0.5.6            pbapply_1.7-2            \n",
       " [25] Rsamtools_2.24.0          systemfonts_1.2.3        \n",
       " [27] pbdZMQ_0.3-14             dichromat_2.0-0.1        \n",
       " [29] parallelly_1.45.0         rstudioapi_0.17.1        \n",
       " [31] RSQLite_2.4.1             BiocIO_1.18.0            \n",
       " [33] ica_1.0-3                 spatstat.random_3.4-1    \n",
       " [35] car_3.1-3                 Matrix_1.7-3             \n",
       " [37] ggbeeswarm_0.7.2          abind_1.4-8              \n",
       " [39] lifecycle_1.0.4           yaml_2.3.10              \n",
       " [41] carData_3.0-5             SparseArray_1.8.0        \n",
       " [43] Rtsne_0.17                grid_4.5.1               \n",
       " [45] blob_1.2.4                promises_1.3.3           \n",
       " [47] dqrng_0.4.1               crayon_1.5.3             \n",
       " [49] miniUI_0.1.2              lattice_0.22-7           \n",
       " [51] beachmat_2.24.0           KEGGREST_1.48.0          \n",
       " [53] pillar_1.10.2             metapod_1.16.0           \n",
       " [55] rjson_0.2.23              xgboost_1.7.11.1         \n",
       " [57] codetools_0.2-20          glue_1.8.0               \n",
       " [59] spatstat.univar_3.1-3     vctrs_0.6.5              \n",
       " [61] png_0.1-8                 spam_2.11-1              \n",
       " [63] gtable_0.3.6              cachem_1.1.0             \n",
       " [65] S4Arrays_1.8.1            mime_0.13                \n",
       " [67] tidygraph_1.3.1           survival_3.8-3           \n",
       " [69] statmod_1.5.0             bluster_1.18.0           \n",
       " [71] fitdistrplus_1.2-2        ROCR_1.0-11              \n",
       " [73] nlme_3.1-168              bit64_4.6.0-1            \n",
       " [75] RcppAnnoy_0.0.22          irlba_2.3.5.1            \n",
       " [77] vipor_0.4.7               KernSmooth_2.23-26       \n",
       " [79] DBI_1.2.3                 tidyselect_1.2.1         \n",
       " [81] bit_4.6.0                 compiler_4.5.1           \n",
       " [83] curl_6.3.0                BiocNeighbors_2.2.0      \n",
       " [85] DelayedArray_0.34.1       plotly_4.10.4            \n",
       " [87] rtracklayer_1.68.0        scales_1.4.0             \n",
       " [89] lmtest_0.9-40             digest_0.6.37            \n",
       " [91] goftest_1.2-3             spatstat.utils_3.1-4     \n",
       " [93] XVector_0.48.0            htmltools_0.5.8.1        \n",
       " [95] pkgconfig_2.0.3           base64enc_0.1-3          \n",
       " [97] sparseMatrixStats_1.20.0  fastmap_1.2.0            \n",
       " [99] rlang_1.1.6               htmlwidgets_1.6.4        \n",
       "[101] UCSC.utils_1.4.0          shiny_1.10.0             \n",
       "[103] DelayedMatrixStats_1.30.0 farver_2.1.2             \n",
       "[105] zoo_1.8-14                jsonlite_2.0.0           \n",
       "[107] BiocParallel_1.42.1       BiocSingular_1.24.0      \n",
       "[109] RCurl_1.98-1.17           magrittr_2.0.3           \n",
       "[111] Formula_1.2-5             GenomeInfoDbData_1.2.14  \n",
       "[113] dotCall64_1.2             patchwork_1.3.0          \n",
       "[115] IRkernel_1.3.2            Rcpp_1.0.14              \n",
       "[117] viridis_0.6.5             stringi_1.8.7            \n",
       "[119] MASS_7.3-65               plyr_1.8.9               \n",
       "[121] listenv_0.9.1             ggrepel_0.9.6            \n",
       "[123] deldir_2.0-4              Biostrings_2.76.0        \n",
       "[125] graphlayouts_1.2.2        IRdisplay_1.1            \n",
       "[127] splines_4.5.1             tensor_1.5.1             \n",
       "[129] locfit_1.5-9.12           igraph_2.1.4             \n",
       "[131] uuid_1.2-1                spatstat.geom_3.4-1      \n",
       "[133] ggsignif_0.6.4            RcppHNSW_0.6.0           \n",
       "[135] reshape2_1.4.4            ScaledMatrix_1.16.0      \n",
       "[137] XML_3.99-0.18             evaluate_1.0.4           \n",
       "[139] tweenr_2.0.3              httpuv_1.6.16            \n",
       "[141] RANN_2.6.2                tidyr_1.3.1              \n",
       "[143] polyclip_1.10-7           scattermore_1.2          \n",
       "[145] ggforce_0.5.0             rsvd_1.0.5               \n",
       "[147] broom_1.0.8               xtable_1.8-4             \n",
       "[149] restfulr_0.0.15           RSpectra_0.16-2          \n",
       "[151] rstatix_0.7.2             later_1.4.2              \n",
       "[153] viridisLite_0.4.2         ragg_1.4.0               \n",
       "[155] tibble_3.3.0              memoise_2.0.1            \n",
       "[157] beeswarm_0.4.0            GenomicAlignments_1.44.0 \n",
       "[159] cluster_2.1.8.1           globals_0.18.0           "
      ]
     },
     "metadata": {},
     "output_type": "display_data"
    }
   ],
   "source": [
    "sessionInfo()"
   ]
  },
  {
   "cell_type": "code",
   "execution_count": null,
   "id": "884605a7-8098-4950-98cd-ddd14457a824",
   "metadata": {
    "vscode": {
     "languageId": "r"
    }
   },
   "outputs": [],
   "source": []
  }
 ],
 "metadata": {
  "kernelspec": {
   "display_name": "R",
   "language": "R",
   "name": "ir"
  },
  "language_info": {
   "codemirror_mode": "r",
   "file_extension": ".r",
   "mimetype": "text/x-r-source",
   "name": "R",
   "pygments_lexer": "r",
   "version": "4.5.1"
  }
 },
 "nbformat": 4,
 "nbformat_minor": 5
}
