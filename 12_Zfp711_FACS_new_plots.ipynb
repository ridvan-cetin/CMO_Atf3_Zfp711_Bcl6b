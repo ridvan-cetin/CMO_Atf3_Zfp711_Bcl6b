{
 "cells": [
  {
   "cell_type": "markdown",
   "id": "a4515701-c578-43fd-a3f7-1679ef32a4b8",
   "metadata": {},
   "source": [
    "# Zfp711 Facs Results"
   ]
  },
  {
   "cell_type": "code",
   "execution_count": 1,
   "id": "6a03169d-bac7-443e-9a1e-44ed08b1ebad",
   "metadata": {},
   "outputs": [],
   "source": [
    "# Load necessary libraries\n",
    "suppressPackageStartupMessages({\n",
    "library(ggplot2)\n",
    "library(dplyr)\n",
    "library(reshape2)\n",
    "library(lme4)\n",
    "library(lmerTest)\n",
    "library(tidyr)\n",
    "library(ggsignif)\n",
    "})"
   ]
  },
  {
   "cell_type": "code",
   "execution_count": 2,
   "id": "41533761-7bf3-44e1-9f9f-edb7f74eb2a7",
   "metadata": {},
   "outputs": [],
   "source": [
    "load(file = '../step8_Flow_Cytometry/results/Zfp711/rdata.rdata')"
   ]
  },
  {
   "cell_type": "code",
   "execution_count": 3,
   "id": "5ff5c5e9-479c-4fc0-ac6f-a6cb3e8ff889",
   "metadata": {},
   "outputs": [
    {
     "data": {
      "text/html": [
       "<style>\n",
       ".list-inline {list-style: none; margin:0; padding: 0}\n",
       ".list-inline>li {display: inline-block}\n",
       ".list-inline>li:not(:last-child)::after {content: \"\\00b7\"; padding: 0 .5ex}\n",
       "</style>\n",
       "<ol class=list-inline><li>'annotations_df'</li><li>'data'</li><li>'data_hr'</li><li>'data_melted_mixed'</li><li>'data_Zfp711_control'</li><li>'data_Zfp711_control_hr'</li><li>'data0'</li><li>'data1'</li><li>'data2'</li><li>'human_readable_names'</li><li>'humanreadble'</li><li>'measurement'</li><li>'measurement_cols'</li><li>'mixed_effects_results'</li><li>'mixed_effects_results_mixed'</li><li>'plot'</li><li>'r3dcol'</li><li>'replace_with_human_readable'</li><li>'result'</li><li>'run_mixed_effects'</li><li>'significance_threshold'</li><li>'significant_mixed_effects'</li><li>'singular_fit_measurements'</li></ol>\n"
      ],
      "text/latex": [
       "\\begin{enumerate*}\n",
       "\\item 'annotations\\_df'\n",
       "\\item 'data'\n",
       "\\item 'data\\_hr'\n",
       "\\item 'data\\_melted\\_mixed'\n",
       "\\item 'data\\_Zfp711\\_control'\n",
       "\\item 'data\\_Zfp711\\_control\\_hr'\n",
       "\\item 'data0'\n",
       "\\item 'data1'\n",
       "\\item 'data2'\n",
       "\\item 'human\\_readable\\_names'\n",
       "\\item 'humanreadble'\n",
       "\\item 'measurement'\n",
       "\\item 'measurement\\_cols'\n",
       "\\item 'mixed\\_effects\\_results'\n",
       "\\item 'mixed\\_effects\\_results\\_mixed'\n",
       "\\item 'plot'\n",
       "\\item 'r3dcol'\n",
       "\\item 'replace\\_with\\_human\\_readable'\n",
       "\\item 'result'\n",
       "\\item 'run\\_mixed\\_effects'\n",
       "\\item 'significance\\_threshold'\n",
       "\\item 'significant\\_mixed\\_effects'\n",
       "\\item 'singular\\_fit\\_measurements'\n",
       "\\end{enumerate*}\n"
      ],
      "text/markdown": [
       "1. 'annotations_df'\n",
       "2. 'data'\n",
       "3. 'data_hr'\n",
       "4. 'data_melted_mixed'\n",
       "5. 'data_Zfp711_control'\n",
       "6. 'data_Zfp711_control_hr'\n",
       "7. 'data0'\n",
       "8. 'data1'\n",
       "9. 'data2'\n",
       "10. 'human_readable_names'\n",
       "11. 'humanreadble'\n",
       "12. 'measurement'\n",
       "13. 'measurement_cols'\n",
       "14. 'mixed_effects_results'\n",
       "15. 'mixed_effects_results_mixed'\n",
       "16. 'plot'\n",
       "17. 'r3dcol'\n",
       "18. 'replace_with_human_readable'\n",
       "19. 'result'\n",
       "20. 'run_mixed_effects'\n",
       "21. 'significance_threshold'\n",
       "22. 'significant_mixed_effects'\n",
       "23. 'singular_fit_measurements'\n",
       "\n",
       "\n"
      ],
      "text/plain": [
       " [1] \"annotations_df\"              \"data\"                       \n",
       " [3] \"data_hr\"                     \"data_melted_mixed\"          \n",
       " [5] \"data_Zfp711_control\"         \"data_Zfp711_control_hr\"     \n",
       " [7] \"data0\"                       \"data1\"                      \n",
       " [9] \"data2\"                       \"human_readable_names\"       \n",
       "[11] \"humanreadble\"                \"measurement\"                \n",
       "[13] \"measurement_cols\"            \"mixed_effects_results\"      \n",
       "[15] \"mixed_effects_results_mixed\" \"plot\"                       \n",
       "[17] \"r3dcol\"                      \"replace_with_human_readable\"\n",
       "[19] \"result\"                      \"run_mixed_effects\"          \n",
       "[21] \"significance_threshold\"      \"significant_mixed_effects\"  \n",
       "[23] \"singular_fit_measurements\"  "
      ]
     },
     "metadata": {},
     "output_type": "display_data"
    }
   ],
   "source": [
    "ls()"
   ]
  },
  {
   "cell_type": "code",
   "execution_count": 5,
   "id": "dee62d77-8aa7-4d42-99a7-85b2da9ecccd",
   "metadata": {},
   "outputs": [
    {
     "data": {
      "text/html": [
       "<table class=\"dataframe\">\n",
       "<caption>A data.frame: 6 × 26</caption>\n",
       "<thead>\n",
       "\t<tr><th></th><th scope=col>Measurement_hr</th><th scope=col>Samples0</th><th scope=col>Samples1</th><th scope=col>Samples2</th><th scope=col>Samples3</th><th scope=col>Conditions</th><th scope=col>DifferentiationA</th><th scope=col>DifferentiationB</th><th scope=col>DifferentiationC</th><th scope=col>Value</th><th scope=col>⋯</th><th scope=col>Overall_Mean</th><th scope=col>SD</th><th scope=col>Median</th><th scope=col>IQR</th><th scope=col>AIC</th><th scope=col>BIC</th><th scope=col>Effect_Size</th><th scope=col>CI_Lower</th><th scope=col>CI_Upper</th><th scope=col>Significance</th></tr>\n",
       "\t<tr><th></th><th scope=col>&lt;fct&gt;</th><th scope=col>&lt;fct&gt;</th><th scope=col>&lt;fct&gt;</th><th scope=col>&lt;fct&gt;</th><th scope=col>&lt;fct&gt;</th><th scope=col>&lt;fct&gt;</th><th scope=col>&lt;fct&gt;</th><th scope=col>&lt;fct&gt;</th><th scope=col>&lt;fct&gt;</th><th scope=col>&lt;dbl&gt;</th><th scope=col>⋯</th><th scope=col>&lt;dbl&gt;</th><th scope=col>&lt;dbl&gt;</th><th scope=col>&lt;dbl&gt;</th><th scope=col>&lt;dbl&gt;</th><th scope=col>&lt;dbl&gt;</th><th scope=col>&lt;dbl&gt;</th><th scope=col>&lt;dbl&gt;</th><th scope=col>&lt;dbl&gt;</th><th scope=col>&lt;dbl&gt;</th><th scope=col>&lt;fct&gt;</th></tr>\n",
       "</thead>\n",
       "<tbody>\n",
       "\t<tr><th scope=row>1</th><td>CD41+</td><td>Zfp711_zG8 </td><td>Zfp711 c1</td><td>Zfp711 KO Clone 1</td><td>Zfp711 KO c1</td><td>Zfp711 KO</td><td>Differentiation 1</td><td>diff. 1</td><td>Diff. 1</td><td>12.6</td><td>⋯</td><td>14.33655</td><td>8.656201</td><td>12.6</td><td>11.09</td><td>180.8252</td><td>186.2943</td><td>2.245245</td><td>3.615402</td><td>6.253651</td><td>n.s.</td></tr>\n",
       "\t<tr><th scope=row>2</th><td>CD41+</td><td>Zfp711_zD9 </td><td>Zfp711 c2</td><td>Zfp711 KO Clone 2</td><td>Zfp711 KO c2</td><td>Zfp711 KO</td><td>Differentiation 1</td><td>diff. 1</td><td>Diff. 1</td><td>12.6</td><td>⋯</td><td>14.33655</td><td>8.656201</td><td>12.6</td><td>11.09</td><td>180.8252</td><td>186.2943</td><td>2.245245</td><td>3.615402</td><td>6.253651</td><td>n.s.</td></tr>\n",
       "\t<tr><th scope=row>3</th><td>CD41+</td><td>Zfp711_zD10</td><td>Zfp711 c3</td><td>Zfp711 KO Clone 3</td><td>Zfp711 KO c3</td><td>Zfp711 KO</td><td>Differentiation 1</td><td>diff. 1</td><td>Diff. 1</td><td>11.8</td><td>⋯</td><td>14.33655</td><td>8.656201</td><td>12.6</td><td>11.09</td><td>180.8252</td><td>186.2943</td><td>2.245245</td><td>3.615402</td><td>6.253651</td><td>n.s.</td></tr>\n",
       "\t<tr><th scope=row>4</th><td>CD41+</td><td>Zfp711_zB12</td><td>Zfp711 c4</td><td>Zfp711 KO Clone 4</td><td>Zfp711 KO c4</td><td>Zfp711 KO</td><td>Differentiation 1</td><td>diff. 1</td><td>Diff. 1</td><td>18.5</td><td>⋯</td><td>14.33655</td><td>8.656201</td><td>12.6</td><td>11.09</td><td>180.8252</td><td>186.2943</td><td>2.245245</td><td>3.615402</td><td>6.253651</td><td>n.s.</td></tr>\n",
       "\t<tr><th scope=row>5</th><td>CD41+</td><td>NT_ntZA5   </td><td>NT c1    </td><td>NT WT Clone 1    </td><td>NT WT c1    </td><td>NT WT    </td><td>Differentiation 1</td><td>diff. 1</td><td>Diff. 1</td><td>  NA</td><td>⋯</td><td>14.33655</td><td>8.656201</td><td>12.6</td><td>11.09</td><td>180.8252</td><td>186.2943</td><td>2.245245</td><td>3.615402</td><td>6.253651</td><td>n.s.</td></tr>\n",
       "\t<tr><th scope=row>6</th><td>CD41+</td><td>NT_ntZA3   </td><td>NT c2    </td><td>NT WT Clone 2    </td><td>NT WT c2    </td><td>NT WT    </td><td>Differentiation 1</td><td>diff. 1</td><td>Diff. 1</td><td>10.9</td><td>⋯</td><td>14.33655</td><td>8.656201</td><td>12.6</td><td>11.09</td><td>180.8252</td><td>186.2943</td><td>2.245245</td><td>3.615402</td><td>6.253651</td><td>n.s.</td></tr>\n",
       "</tbody>\n",
       "</table>\n"
      ],
      "text/latex": [
       "A data.frame: 6 × 26\n",
       "\\begin{tabular}{r|lllllllllllllllllllll}\n",
       "  & Measurement\\_hr & Samples0 & Samples1 & Samples2 & Samples3 & Conditions & DifferentiationA & DifferentiationB & DifferentiationC & Value & ⋯ & Overall\\_Mean & SD & Median & IQR & AIC & BIC & Effect\\_Size & CI\\_Lower & CI\\_Upper & Significance\\\\\n",
       "  & <fct> & <fct> & <fct> & <fct> & <fct> & <fct> & <fct> & <fct> & <fct> & <dbl> & ⋯ & <dbl> & <dbl> & <dbl> & <dbl> & <dbl> & <dbl> & <dbl> & <dbl> & <dbl> & <fct>\\\\\n",
       "\\hline\n",
       "\t1 & CD41+ & Zfp711\\_zG8  & Zfp711 c1 & Zfp711 KO Clone 1 & Zfp711 KO c1 & Zfp711 KO & Differentiation 1 & diff. 1 & Diff. 1 & 12.6 & ⋯ & 14.33655 & 8.656201 & 12.6 & 11.09 & 180.8252 & 186.2943 & 2.245245 & 3.615402 & 6.253651 & n.s.\\\\\n",
       "\t2 & CD41+ & Zfp711\\_zD9  & Zfp711 c2 & Zfp711 KO Clone 2 & Zfp711 KO c2 & Zfp711 KO & Differentiation 1 & diff. 1 & Diff. 1 & 12.6 & ⋯ & 14.33655 & 8.656201 & 12.6 & 11.09 & 180.8252 & 186.2943 & 2.245245 & 3.615402 & 6.253651 & n.s.\\\\\n",
       "\t3 & CD41+ & Zfp711\\_zD10 & Zfp711 c3 & Zfp711 KO Clone 3 & Zfp711 KO c3 & Zfp711 KO & Differentiation 1 & diff. 1 & Diff. 1 & 11.8 & ⋯ & 14.33655 & 8.656201 & 12.6 & 11.09 & 180.8252 & 186.2943 & 2.245245 & 3.615402 & 6.253651 & n.s.\\\\\n",
       "\t4 & CD41+ & Zfp711\\_zB12 & Zfp711 c4 & Zfp711 KO Clone 4 & Zfp711 KO c4 & Zfp711 KO & Differentiation 1 & diff. 1 & Diff. 1 & 18.5 & ⋯ & 14.33655 & 8.656201 & 12.6 & 11.09 & 180.8252 & 186.2943 & 2.245245 & 3.615402 & 6.253651 & n.s.\\\\\n",
       "\t5 & CD41+ & NT\\_ntZA5    & NT c1     & NT WT Clone 1     & NT WT c1     & NT WT     & Differentiation 1 & diff. 1 & Diff. 1 &   NA & ⋯ & 14.33655 & 8.656201 & 12.6 & 11.09 & 180.8252 & 186.2943 & 2.245245 & 3.615402 & 6.253651 & n.s.\\\\\n",
       "\t6 & CD41+ & NT\\_ntZA3    & NT c2     & NT WT Clone 2     & NT WT c2     & NT WT     & Differentiation 1 & diff. 1 & Diff. 1 & 10.9 & ⋯ & 14.33655 & 8.656201 & 12.6 & 11.09 & 180.8252 & 186.2943 & 2.245245 & 3.615402 & 6.253651 & n.s.\\\\\n",
       "\\end{tabular}\n"
      ],
      "text/markdown": [
       "\n",
       "A data.frame: 6 × 26\n",
       "\n",
       "| <!--/--> | Measurement_hr &lt;fct&gt; | Samples0 &lt;fct&gt; | Samples1 &lt;fct&gt; | Samples2 &lt;fct&gt; | Samples3 &lt;fct&gt; | Conditions &lt;fct&gt; | DifferentiationA &lt;fct&gt; | DifferentiationB &lt;fct&gt; | DifferentiationC &lt;fct&gt; | Value &lt;dbl&gt; | ⋯ ⋯ | Overall_Mean &lt;dbl&gt; | SD &lt;dbl&gt; | Median &lt;dbl&gt; | IQR &lt;dbl&gt; | AIC &lt;dbl&gt; | BIC &lt;dbl&gt; | Effect_Size &lt;dbl&gt; | CI_Lower &lt;dbl&gt; | CI_Upper &lt;dbl&gt; | Significance &lt;fct&gt; |\n",
       "|---|---|---|---|---|---|---|---|---|---|---|---|---|---|---|---|---|---|---|---|---|---|\n",
       "| 1 | CD41+ | Zfp711_zG8  | Zfp711 c1 | Zfp711 KO Clone 1 | Zfp711 KO c1 | Zfp711 KO | Differentiation 1 | diff. 1 | Diff. 1 | 12.6 | ⋯ | 14.33655 | 8.656201 | 12.6 | 11.09 | 180.8252 | 186.2943 | 2.245245 | 3.615402 | 6.253651 | n.s. |\n",
       "| 2 | CD41+ | Zfp711_zD9  | Zfp711 c2 | Zfp711 KO Clone 2 | Zfp711 KO c2 | Zfp711 KO | Differentiation 1 | diff. 1 | Diff. 1 | 12.6 | ⋯ | 14.33655 | 8.656201 | 12.6 | 11.09 | 180.8252 | 186.2943 | 2.245245 | 3.615402 | 6.253651 | n.s. |\n",
       "| 3 | CD41+ | Zfp711_zD10 | Zfp711 c3 | Zfp711 KO Clone 3 | Zfp711 KO c3 | Zfp711 KO | Differentiation 1 | diff. 1 | Diff. 1 | 11.8 | ⋯ | 14.33655 | 8.656201 | 12.6 | 11.09 | 180.8252 | 186.2943 | 2.245245 | 3.615402 | 6.253651 | n.s. |\n",
       "| 4 | CD41+ | Zfp711_zB12 | Zfp711 c4 | Zfp711 KO Clone 4 | Zfp711 KO c4 | Zfp711 KO | Differentiation 1 | diff. 1 | Diff. 1 | 18.5 | ⋯ | 14.33655 | 8.656201 | 12.6 | 11.09 | 180.8252 | 186.2943 | 2.245245 | 3.615402 | 6.253651 | n.s. |\n",
       "| 5 | CD41+ | NT_ntZA5    | NT c1     | NT WT Clone 1     | NT WT c1     | NT WT     | Differentiation 1 | diff. 1 | Diff. 1 |   NA | ⋯ | 14.33655 | 8.656201 | 12.6 | 11.09 | 180.8252 | 186.2943 | 2.245245 | 3.615402 | 6.253651 | n.s. |\n",
       "| 6 | CD41+ | NT_ntZA3    | NT c2     | NT WT Clone 2     | NT WT c2     | NT WT     | Differentiation 1 | diff. 1 | Diff. 1 | 10.9 | ⋯ | 14.33655 | 8.656201 | 12.6 | 11.09 | 180.8252 | 186.2943 | 2.245245 | 3.615402 | 6.253651 | n.s. |\n",
       "\n"
      ],
      "text/plain": [
       "  Measurement_hr Samples0    Samples1  Samples2          Samples3    \n",
       "1 CD41+          Zfp711_zG8  Zfp711 c1 Zfp711 KO Clone 1 Zfp711 KO c1\n",
       "2 CD41+          Zfp711_zD9  Zfp711 c2 Zfp711 KO Clone 2 Zfp711 KO c2\n",
       "3 CD41+          Zfp711_zD10 Zfp711 c3 Zfp711 KO Clone 3 Zfp711 KO c3\n",
       "4 CD41+          Zfp711_zB12 Zfp711 c4 Zfp711 KO Clone 4 Zfp711 KO c4\n",
       "5 CD41+          NT_ntZA5    NT c1     NT WT Clone 1     NT WT c1    \n",
       "6 CD41+          NT_ntZA3    NT c2     NT WT Clone 2     NT WT c2    \n",
       "  Conditions DifferentiationA  DifferentiationB DifferentiationC Value ⋯\n",
       "1 Zfp711 KO  Differentiation 1 diff. 1          Diff. 1          12.6  ⋯\n",
       "2 Zfp711 KO  Differentiation 1 diff. 1          Diff. 1          12.6  ⋯\n",
       "3 Zfp711 KO  Differentiation 1 diff. 1          Diff. 1          11.8  ⋯\n",
       "4 Zfp711 KO  Differentiation 1 diff. 1          Diff. 1          18.5  ⋯\n",
       "5 NT WT      Differentiation 1 diff. 1          Diff. 1            NA  ⋯\n",
       "6 NT WT      Differentiation 1 diff. 1          Diff. 1          10.9  ⋯\n",
       "  Overall_Mean SD       Median IQR   AIC      BIC      Effect_Size CI_Lower\n",
       "1 14.33655     8.656201 12.6   11.09 180.8252 186.2943 2.245245    3.615402\n",
       "2 14.33655     8.656201 12.6   11.09 180.8252 186.2943 2.245245    3.615402\n",
       "3 14.33655     8.656201 12.6   11.09 180.8252 186.2943 2.245245    3.615402\n",
       "4 14.33655     8.656201 12.6   11.09 180.8252 186.2943 2.245245    3.615402\n",
       "5 14.33655     8.656201 12.6   11.09 180.8252 186.2943 2.245245    3.615402\n",
       "6 14.33655     8.656201 12.6   11.09 180.8252 186.2943 2.245245    3.615402\n",
       "  CI_Upper Significance\n",
       "1 6.253651 n.s.        \n",
       "2 6.253651 n.s.        \n",
       "3 6.253651 n.s.        \n",
       "4 6.253651 n.s.        \n",
       "5 6.253651 n.s.        \n",
       "6 6.253651 n.s.        "
      ]
     },
     "metadata": {},
     "output_type": "display_data"
    }
   ],
   "source": [
    "head(data_melted_mixed)"
   ]
  },
  {
   "cell_type": "code",
   "execution_count": 7,
   "id": "8fcc299b-05d7-47fb-8452-dcb8ba34a0f9",
   "metadata": {},
   "outputs": [],
   "source": [
    "# Make sure Conditions is a factor and levels are correct:\n",
    "data_melted_mixed$Conditions <- factor(data_melted_mixed$Conditions)\n",
    "\n",
    "# Calculate y position above both boxes (use max value for either condition)\n",
    "annotations_df <- data_melted_mixed %>%\n",
    "  group_by(Measurement_hr) %>%\n",
    "  summarize(\n",
    "    y_position = max(Value, na.rm = TRUE) * 1.14,\n",
    "    Significance = first(Significance),    # Replace with your p-value/asterisk\n",
    "    .groups = \"drop\"\n",
    "  )\n",
    "\n",
    "# Get numeric positions for the two conditions\n",
    "cond_levels <- levels(data_melted_mixed$Conditions)\n",
    "x1 <- cond_levels[1]\n",
    "x2 <- cond_levels[2]\n"
   ]
  },
  {
   "cell_type": "code",
   "execution_count": 8,
   "id": "90f59521-5637-4cab-a4a6-4924ad5872bf",
   "metadata": {},
   "outputs": [],
   "source": [
    "library(dplyr)\n",
    "\n",
    "annotations_df <- data_melted_mixed %>%\n",
    "  group_by(Measurement_hr) %>%\n",
    "  summarize(\n",
    "    y_position = max(Value, na.rm = TRUE) + 10,\n",
    "    Significance = first(Significance),    # Replace with your actual test result if needed\n",
    "    .groups = \"drop\"\n",
    "  ) %>%\n",
    "  mutate(size = ifelse(Significance %in% c(\"n.s.\", \"ns\", \"NS\", \"N.S.\"), 3.5, 6))  # Adjust sizes as you like\n"
   ]
  },
  {
   "cell_type": "code",
   "execution_count": 9,
   "id": "81f71559-5bfb-473b-b937-2951a784e614",
   "metadata": {},
   "outputs": [
    {
     "data": {
      "text/html": [
       "<table class=\"dataframe\">\n",
       "<caption>A tibble: 41 × 4</caption>\n",
       "<thead>\n",
       "\t<tr><th scope=col>Measurement_hr</th><th scope=col>y_position</th><th scope=col>Significance</th><th scope=col>size</th></tr>\n",
       "\t<tr><th scope=col>&lt;fct&gt;</th><th scope=col>&lt;dbl&gt;</th><th scope=col>&lt;fct&gt;</th><th scope=col>&lt;dbl&gt;</th></tr>\n",
       "</thead>\n",
       "<tbody>\n",
       "\t<tr><td>Flk1+ Pdgfra+         </td><td> 53.00</td><td>n.s.</td><td>3.5</td></tr>\n",
       "\t<tr><td>Flk1+ Pdgfra-         </td><td> 53.00</td><td>n.s.</td><td>3.5</td></tr>\n",
       "\t<tr><td>Flk1- Pdgfra+ (Day4)  </td><td> 32.90</td><td>n.s.</td><td>3.5</td></tr>\n",
       "\t<tr><td>Flk1- Pdgfra-         </td><td> 60.30</td><td>n.s.</td><td>3.5</td></tr>\n",
       "\t<tr><td>Flk1+ (I)             </td><td> 87.60</td><td>n.s.</td><td>3.5</td></tr>\n",
       "\t<tr><td>Pdgfra+               </td><td> 60.60</td><td>n.s.</td><td>3.5</td></tr>\n",
       "\t<tr><td>Flk1+ Tek+            </td><td> 30.40</td><td>n.s.</td><td>3.5</td></tr>\n",
       "\t<tr><td>Flk1+ Tek-            </td><td> 67.70</td><td>*   </td><td>6.0</td></tr>\n",
       "\t<tr><td>Flk1- Tek+            </td><td> 29.90</td><td>n.s.</td><td>3.5</td></tr>\n",
       "\t<tr><td>Flk1- Tek-            </td><td> 57.10</td><td>n.s.</td><td>3.5</td></tr>\n",
       "\t<tr><td>Flk1+ Tek+ (I)        </td><td> 13.08</td><td>n.s.</td><td>3.5</td></tr>\n",
       "\t<tr><td>Flk1+ (II)            </td><td> 81.90</td><td>n.s.</td><td>3.5</td></tr>\n",
       "\t<tr><td>Tek+                  </td><td> 48.20</td><td>n.s.</td><td>3.5</td></tr>\n",
       "\t<tr><td>Icam2+ Cdh5+          </td><td> 12.12</td><td>*   </td><td>6.0</td></tr>\n",
       "\t<tr><td>Icam2+ Cdh5-          </td><td> 10.91</td><td>n.s.</td><td>3.5</td></tr>\n",
       "\t<tr><td>Icam2- Cdh5+          </td><td> 15.79</td><td>n.s.</td><td>3.5</td></tr>\n",
       "\t<tr><td>Icam2- Cdh5-          </td><td>106.80</td><td>n.s.</td><td>3.5</td></tr>\n",
       "\t<tr><td>Icam2+                </td><td> 12.74</td><td>n.s.</td><td>3.5</td></tr>\n",
       "\t<tr><td>Cdh5+                 </td><td> 15.86</td><td>n.s.</td><td>3.5</td></tr>\n",
       "\t<tr><td>CD45+ CD93+           </td><td> 11.07</td><td>**  </td><td>6.0</td></tr>\n",
       "\t<tr><td>CD45+ CD93-           </td><td> 23.70</td><td>n.s.</td><td>3.5</td></tr>\n",
       "\t<tr><td>CD45- CD93+           </td><td> 11.21</td><td>NA  </td><td>6.0</td></tr>\n",
       "\t<tr><td>CD45- CD93-           </td><td>107.30</td><td>n.s.</td><td>3.5</td></tr>\n",
       "\t<tr><td>CD45+                 </td><td> 24.00</td><td>n.s.</td><td>3.5</td></tr>\n",
       "\t<tr><td>CD93+                 </td><td> 11.88</td><td>*** </td><td>6.0</td></tr>\n",
       "\t<tr><td>CD45+ (II)            </td><td> 19.85</td><td>n.s.</td><td>3.5</td></tr>\n",
       "\t<tr><td>CD45+ (I)             </td><td> 14.99</td><td>n.s.</td><td>3.5</td></tr>\n",
       "\t<tr><td>Pdgfra+ Pdgfrab+ (I)  </td><td> 92.90</td><td>n.s.</td><td>3.5</td></tr>\n",
       "\t<tr><td>Pdgfra+ Pdgfrab+ (II) </td><td> 88.10</td><td>n.s.</td><td>3.5</td></tr>\n",
       "\t<tr><td>Pdgfra+ Pdgfrab+ (III)</td><td> 74.00</td><td>n.s.</td><td>3.5</td></tr>\n",
       "\t<tr><td>Pdgfra+ (Day7)        </td><td> 92.60</td><td>n.s.</td><td>3.5</td></tr>\n",
       "\t<tr><td>Pdgfrb+               </td><td> 97.90</td><td>n.s.</td><td>3.5</td></tr>\n",
       "\t<tr><td>CD71+                 </td><td> 39.40</td><td>n.s.</td><td>3.5</td></tr>\n",
       "\t<tr><td>CD41+                 </td><td> 46.40</td><td>n.s.</td><td>3.5</td></tr>\n",
       "\t<tr><td>CD41+ (I)             </td><td> 22.30</td><td>n.s.</td><td>3.5</td></tr>\n",
       "\t<tr><td>CD41+ (II)            </td><td> 33.90</td><td>n.s.</td><td>3.5</td></tr>\n",
       "\t<tr><td>CD41+ CD71+ (L)       </td><td> 40.40</td><td>n.s.</td><td>3.5</td></tr>\n",
       "\t<tr><td>CD41+ CD71+ (LA)      </td><td> 51.60</td><td>NA  </td><td>6.0</td></tr>\n",
       "\t<tr><td>CD41+ CD71            </td><td> 18.56</td><td>n.s.</td><td>3.5</td></tr>\n",
       "\t<tr><td>CD71+ CD41-           </td><td> 32.50</td><td>n.s.</td><td>3.5</td></tr>\n",
       "\t<tr><td>CD41+ CD71-           </td><td> 19.60</td><td>NA  </td><td>6.0</td></tr>\n",
       "</tbody>\n",
       "</table>\n"
      ],
      "text/latex": [
       "A tibble: 41 × 4\n",
       "\\begin{tabular}{llll}\n",
       " Measurement\\_hr & y\\_position & Significance & size\\\\\n",
       " <fct> & <dbl> & <fct> & <dbl>\\\\\n",
       "\\hline\n",
       "\t Flk1+ Pdgfra+          &  53.00 & n.s. & 3.5\\\\\n",
       "\t Flk1+ Pdgfra-          &  53.00 & n.s. & 3.5\\\\\n",
       "\t Flk1- Pdgfra+ (Day4)   &  32.90 & n.s. & 3.5\\\\\n",
       "\t Flk1- Pdgfra-          &  60.30 & n.s. & 3.5\\\\\n",
       "\t Flk1+ (I)              &  87.60 & n.s. & 3.5\\\\\n",
       "\t Pdgfra+                &  60.60 & n.s. & 3.5\\\\\n",
       "\t Flk1+ Tek+             &  30.40 & n.s. & 3.5\\\\\n",
       "\t Flk1+ Tek-             &  67.70 & *    & 6.0\\\\\n",
       "\t Flk1- Tek+             &  29.90 & n.s. & 3.5\\\\\n",
       "\t Flk1- Tek-             &  57.10 & n.s. & 3.5\\\\\n",
       "\t Flk1+ Tek+ (I)         &  13.08 & n.s. & 3.5\\\\\n",
       "\t Flk1+ (II)             &  81.90 & n.s. & 3.5\\\\\n",
       "\t Tek+                   &  48.20 & n.s. & 3.5\\\\\n",
       "\t Icam2+ Cdh5+           &  12.12 & *    & 6.0\\\\\n",
       "\t Icam2+ Cdh5-           &  10.91 & n.s. & 3.5\\\\\n",
       "\t Icam2- Cdh5+           &  15.79 & n.s. & 3.5\\\\\n",
       "\t Icam2- Cdh5-           & 106.80 & n.s. & 3.5\\\\\n",
       "\t Icam2+                 &  12.74 & n.s. & 3.5\\\\\n",
       "\t Cdh5+                  &  15.86 & n.s. & 3.5\\\\\n",
       "\t CD45+ CD93+            &  11.07 & **   & 6.0\\\\\n",
       "\t CD45+ CD93-            &  23.70 & n.s. & 3.5\\\\\n",
       "\t CD45- CD93+            &  11.21 & NA   & 6.0\\\\\n",
       "\t CD45- CD93-            & 107.30 & n.s. & 3.5\\\\\n",
       "\t CD45+                  &  24.00 & n.s. & 3.5\\\\\n",
       "\t CD93+                  &  11.88 & ***  & 6.0\\\\\n",
       "\t CD45+ (II)             &  19.85 & n.s. & 3.5\\\\\n",
       "\t CD45+ (I)              &  14.99 & n.s. & 3.5\\\\\n",
       "\t Pdgfra+ Pdgfrab+ (I)   &  92.90 & n.s. & 3.5\\\\\n",
       "\t Pdgfra+ Pdgfrab+ (II)  &  88.10 & n.s. & 3.5\\\\\n",
       "\t Pdgfra+ Pdgfrab+ (III) &  74.00 & n.s. & 3.5\\\\\n",
       "\t Pdgfra+ (Day7)         &  92.60 & n.s. & 3.5\\\\\n",
       "\t Pdgfrb+                &  97.90 & n.s. & 3.5\\\\\n",
       "\t CD71+                  &  39.40 & n.s. & 3.5\\\\\n",
       "\t CD41+                  &  46.40 & n.s. & 3.5\\\\\n",
       "\t CD41+ (I)              &  22.30 & n.s. & 3.5\\\\\n",
       "\t CD41+ (II)             &  33.90 & n.s. & 3.5\\\\\n",
       "\t CD41+ CD71+ (L)        &  40.40 & n.s. & 3.5\\\\\n",
       "\t CD41+ CD71+ (LA)       &  51.60 & NA   & 6.0\\\\\n",
       "\t CD41+ CD71             &  18.56 & n.s. & 3.5\\\\\n",
       "\t CD71+ CD41-            &  32.50 & n.s. & 3.5\\\\\n",
       "\t CD41+ CD71-            &  19.60 & NA   & 6.0\\\\\n",
       "\\end{tabular}\n"
      ],
      "text/markdown": [
       "\n",
       "A tibble: 41 × 4\n",
       "\n",
       "| Measurement_hr &lt;fct&gt; | y_position &lt;dbl&gt; | Significance &lt;fct&gt; | size &lt;dbl&gt; |\n",
       "|---|---|---|---|\n",
       "| Flk1+ Pdgfra+          |  53.00 | n.s. | 3.5 |\n",
       "| Flk1+ Pdgfra-          |  53.00 | n.s. | 3.5 |\n",
       "| Flk1- Pdgfra+ (Day4)   |  32.90 | n.s. | 3.5 |\n",
       "| Flk1- Pdgfra-          |  60.30 | n.s. | 3.5 |\n",
       "| Flk1+ (I)              |  87.60 | n.s. | 3.5 |\n",
       "| Pdgfra+                |  60.60 | n.s. | 3.5 |\n",
       "| Flk1+ Tek+             |  30.40 | n.s. | 3.5 |\n",
       "| Flk1+ Tek-             |  67.70 | *    | 6.0 |\n",
       "| Flk1- Tek+             |  29.90 | n.s. | 3.5 |\n",
       "| Flk1- Tek-             |  57.10 | n.s. | 3.5 |\n",
       "| Flk1+ Tek+ (I)         |  13.08 | n.s. | 3.5 |\n",
       "| Flk1+ (II)             |  81.90 | n.s. | 3.5 |\n",
       "| Tek+                   |  48.20 | n.s. | 3.5 |\n",
       "| Icam2+ Cdh5+           |  12.12 | *    | 6.0 |\n",
       "| Icam2+ Cdh5-           |  10.91 | n.s. | 3.5 |\n",
       "| Icam2- Cdh5+           |  15.79 | n.s. | 3.5 |\n",
       "| Icam2- Cdh5-           | 106.80 | n.s. | 3.5 |\n",
       "| Icam2+                 |  12.74 | n.s. | 3.5 |\n",
       "| Cdh5+                  |  15.86 | n.s. | 3.5 |\n",
       "| CD45+ CD93+            |  11.07 | **   | 6.0 |\n",
       "| CD45+ CD93-            |  23.70 | n.s. | 3.5 |\n",
       "| CD45- CD93+            |  11.21 | NA   | 6.0 |\n",
       "| CD45- CD93-            | 107.30 | n.s. | 3.5 |\n",
       "| CD45+                  |  24.00 | n.s. | 3.5 |\n",
       "| CD93+                  |  11.88 | ***  | 6.0 |\n",
       "| CD45+ (II)             |  19.85 | n.s. | 3.5 |\n",
       "| CD45+ (I)              |  14.99 | n.s. | 3.5 |\n",
       "| Pdgfra+ Pdgfrab+ (I)   |  92.90 | n.s. | 3.5 |\n",
       "| Pdgfra+ Pdgfrab+ (II)  |  88.10 | n.s. | 3.5 |\n",
       "| Pdgfra+ Pdgfrab+ (III) |  74.00 | n.s. | 3.5 |\n",
       "| Pdgfra+ (Day7)         |  92.60 | n.s. | 3.5 |\n",
       "| Pdgfrb+                |  97.90 | n.s. | 3.5 |\n",
       "| CD71+                  |  39.40 | n.s. | 3.5 |\n",
       "| CD41+                  |  46.40 | n.s. | 3.5 |\n",
       "| CD41+ (I)              |  22.30 | n.s. | 3.5 |\n",
       "| CD41+ (II)             |  33.90 | n.s. | 3.5 |\n",
       "| CD41+ CD71+ (L)        |  40.40 | n.s. | 3.5 |\n",
       "| CD41+ CD71+ (LA)       |  51.60 | NA   | 6.0 |\n",
       "| CD41+ CD71             |  18.56 | n.s. | 3.5 |\n",
       "| CD71+ CD41-            |  32.50 | n.s. | 3.5 |\n",
       "| CD41+ CD71-            |  19.60 | NA   | 6.0 |\n",
       "\n"
      ],
      "text/plain": [
       "   Measurement_hr         y_position Significance size\n",
       "1  Flk1+ Pdgfra+           53.00     n.s.         3.5 \n",
       "2  Flk1+ Pdgfra-           53.00     n.s.         3.5 \n",
       "3  Flk1- Pdgfra+ (Day4)    32.90     n.s.         3.5 \n",
       "4  Flk1- Pdgfra-           60.30     n.s.         3.5 \n",
       "5  Flk1+ (I)               87.60     n.s.         3.5 \n",
       "6  Pdgfra+                 60.60     n.s.         3.5 \n",
       "7  Flk1+ Tek+              30.40     n.s.         3.5 \n",
       "8  Flk1+ Tek-              67.70     *            6.0 \n",
       "9  Flk1- Tek+              29.90     n.s.         3.5 \n",
       "10 Flk1- Tek-              57.10     n.s.         3.5 \n",
       "11 Flk1+ Tek+ (I)          13.08     n.s.         3.5 \n",
       "12 Flk1+ (II)              81.90     n.s.         3.5 \n",
       "13 Tek+                    48.20     n.s.         3.5 \n",
       "14 Icam2+ Cdh5+            12.12     *            6.0 \n",
       "15 Icam2+ Cdh5-            10.91     n.s.         3.5 \n",
       "16 Icam2- Cdh5+            15.79     n.s.         3.5 \n",
       "17 Icam2- Cdh5-           106.80     n.s.         3.5 \n",
       "18 Icam2+                  12.74     n.s.         3.5 \n",
       "19 Cdh5+                   15.86     n.s.         3.5 \n",
       "20 CD45+ CD93+             11.07     **           6.0 \n",
       "21 CD45+ CD93-             23.70     n.s.         3.5 \n",
       "22 CD45- CD93+             11.21     NA           6.0 \n",
       "23 CD45- CD93-            107.30     n.s.         3.5 \n",
       "24 CD45+                   24.00     n.s.         3.5 \n",
       "25 CD93+                   11.88     ***          6.0 \n",
       "26 CD45+ (II)              19.85     n.s.         3.5 \n",
       "27 CD45+ (I)               14.99     n.s.         3.5 \n",
       "28 Pdgfra+ Pdgfrab+ (I)    92.90     n.s.         3.5 \n",
       "29 Pdgfra+ Pdgfrab+ (II)   88.10     n.s.         3.5 \n",
       "30 Pdgfra+ Pdgfrab+ (III)  74.00     n.s.         3.5 \n",
       "31 Pdgfra+ (Day7)          92.60     n.s.         3.5 \n",
       "32 Pdgfrb+                 97.90     n.s.         3.5 \n",
       "33 CD71+                   39.40     n.s.         3.5 \n",
       "34 CD41+                   46.40     n.s.         3.5 \n",
       "35 CD41+ (I)               22.30     n.s.         3.5 \n",
       "36 CD41+ (II)              33.90     n.s.         3.5 \n",
       "37 CD41+ CD71+ (L)         40.40     n.s.         3.5 \n",
       "38 CD41+ CD71+ (LA)        51.60     NA           6.0 \n",
       "39 CD41+ CD71              18.56     n.s.         3.5 \n",
       "40 CD71+ CD41-             32.50     n.s.         3.5 \n",
       "41 CD41+ CD71-             19.60     NA           6.0 "
      ]
     },
     "metadata": {},
     "output_type": "display_data"
    }
   ],
   "source": [
    "annotations_df"
   ]
  },
  {
   "cell_type": "code",
   "execution_count": 11,
   "id": "19ecbaeb-126a-4b86-a54d-3fb911c7855b",
   "metadata": {},
   "outputs": [],
   "source": [
    "library(dplyr)\n",
    "\n",
    "data_plot <- data_melted_mixed %>%\n",
    "  filter(!Measurement_hr %in% c())\n"
   ]
  },
  {
   "cell_type": "code",
   "execution_count": 12,
   "id": "9975506b-57b6-4c9d-acb0-bf8d7d2e47fa",
   "metadata": {},
   "outputs": [],
   "source": [
    "annotations_df <- data_plot %>%\n",
    "  group_by(Measurement_hr) %>%\n",
    "  summarize(\n",
    "    y_position = (max(Value, na.rm = TRUE) * 1.04)+2,\n",
    "    Significance = first(Significance),\n",
    "    .groups = \"drop\"\n",
    "  ) %>%\n",
    "  mutate(size = ifelse(Significance %in% c(\"n.s.\", \"ns\", \"NS\", \"N.S.\"), 3.5, 6))"
   ]
  },
  {
   "cell_type": "code",
   "execution_count": 13,
   "id": "63199161-f767-424b-a3d8-804daea3edbd",
   "metadata": {},
   "outputs": [],
   "source": [
    "# Drop unused levels after filtering\n",
    "data_plot <- data_plot %>% mutate(Measurement_hr = droplevels(factor(Measurement_hr)))\n",
    "annotations_df <- annotations_df %>% mutate(Measurement_hr = factor(Measurement_hr, levels = levels(data_plot$Measurement_hr)))\n"
   ]
  },
  {
   "cell_type": "code",
   "execution_count": 14,
   "id": "638f11f7-70a4-4d24-a0e8-b34c9a65e5a4",
   "metadata": {},
   "outputs": [],
   "source": [
    "custom_order <- c(\n",
    "  \"Flk1+ (I)\", \"Pdgfra+\", \"Flk1+ Pdgfra-\", \"Flk1+ Pdgfra+\", \"Flk1- Pdgfra+ (Day4)\",\n",
    "  \"Flk1+ Tek+\", \"Flk1+ Tek+ (I)\", \"Tek+\",\n",
    "  \"Pdgfra+ (Day7)\", \"Pdgfrb+\", \"Pdgfra+ Pdgfrab+ (I)\", \"Pdgfra+ Pdgfrab+ (II)\", \"Pdgfra+ Pdgfrab+ (III)\",\n",
    "  \"CD41+\", \"CD41+ (I)\", \"CD41+ (II)\", \"CD71+\", \"CD41+ CD71+ (L)\",\n",
    "  \"CD45+\", \"CD45+ (I)\", \"CD45+ (II)\",\n",
    "  \"CD93+\",\n",
    "  \"Icam2+\", \"Cdh5+\", \"Icam2+ Cdh5+\"\n",
    ")\n"
   ]
  },
  {
   "cell_type": "code",
   "execution_count": 15,
   "id": "d5dc4037-2c34-4026-ba71-ce3f2cd675b0",
   "metadata": {},
   "outputs": [],
   "source": [
    "data_plot_ordered <- data_plot %>%\n",
    "  filter(Measurement_hr %in% custom_order) %>%\n",
    "  mutate(Measurement_hr = factor(Measurement_hr, levels = custom_order))\n"
   ]
  },
  {
   "cell_type": "code",
   "execution_count": 16,
   "id": "4b0c9739-e3c4-4a3e-9809-d0108863df82",
   "metadata": {},
   "outputs": [],
   "source": [
    "annotations_df <- data_plot_ordered %>%\n",
    "  group_by(Measurement_hr) %>%\n",
    "  summarize(\n",
    "    y_position = (max(Value, na.rm = TRUE) * 1)+1,\n",
    "    Significance = first(Significance),\n",
    "    .groups = \"drop\"\n",
    "  ) %>%\n",
    "  mutate(size = ifelse(Significance %in% c(\"n.s.\", \"ns\", \"NS\", \"N.S.\"), 4, 9))"
   ]
  },
  {
   "cell_type": "code",
   "execution_count": 17,
   "id": "50fd1fd1-343a-48e1-9875-92c348738475",
   "metadata": {},
   "outputs": [
    {
     "name": "stderr",
     "output_type": "stream",
     "text": [
      "Warning message:\n",
      "“\u001b[1m\u001b[22mA numeric `legend.position` argument in `theme()` was deprecated in ggplot2\n",
      "3.5.0.\n",
      "\u001b[36mℹ\u001b[39m Please use the `legend.position.inside` argument of `theme()` instead.”\n",
      "Warning message:\n",
      "“\u001b[1m\u001b[22mRemoved 23 rows containing non-finite outside the scale range\n",
      "(`stat_boxplot()`).”\n"
     ]
    },
    {
     "data": {
      "image/png": "[encoded data removed]",
      "text/plain": [
       "plot without title"
      ]
     },
     "metadata": {
      "image/png": {
       "height": 300,
       "width": 1200
      }
     },
     "output_type": "display_data"
    }
   ],
   "source": [
    "options(repr.plot.width = 20, repr.plot.height = 5)\n",
    "ggplot(data_plot_ordered, aes(x = Measurement_hr, y = Value, fill = Conditions)) +\n",
    "  geom_boxplot(\n",
    "    position = position_dodge(width = 0.85),\n",
    "    outlier.shape = NA,\n",
    "    alpha = 1,\n",
    "    width = 0.7,\n",
    "    color = \"black\"\n",
    "  ) +\n",
    "  geom_text(\n",
    "    data = annotations_df,\n",
    "    aes(\n",
    "      x = Measurement_hr,\n",
    "      y = y_position * 1.0,\n",
    "      label = Significance,\n",
    "      size = size\n",
    "    ),\n",
    "    vjust = 0,\n",
    "    fontface = \"bold\",\n",
    "    inherit.aes = FALSE\n",
    "  ) +\n",
    "  scale_size_identity() +\n",
    "  scale_fill_manual(\n",
    "    values = c(\n",
    "      \"Zfp711 KO\" = \"#DA5A2A\",\n",
    "      \"NT WT\" = \"#CBCE91\"\n",
    "    )\n",
    "  ) +\n",
    "  scale_y_continuous(expand = expansion(mult = c(0, 0.10))) +\n",
    "  labs(\n",
    "    title = NULL,\n",
    "    y = NULL,\n",
    "    x = NULL\n",
    "  ) +\n",
    "  theme_classic(base_size = 14) +\n",
    "  theme(\n",
    "    axis.line = element_line(size = 0.7),\n",
    "    axis.ticks = element_line(size = 0.7),\n",
    "    axis.text.x = element_text(angle = 45, hjust = 1, size = 13, color = \"black\"),\n",
    "    axis.text.y = element_text(size = 13, color = \"black\"),\n",
    "    legend.position = c(1, 1),                    # Top right INSIDE\n",
    "    legend.justification = c(1, 1),               # Anchor to top right\n",
    "    legend.title = element_text(size = 13, face = \"bold\"),\n",
    "    legend.text = element_text(size = 16),\n",
    "    legend.background = element_rect(fill = alpha('white', 0.7)), # Optional: legend background for readability\n",
    "    legend.box.margin = margin(6, 6, 6, 6)        # Optional: add margin\n",
    "  ) +\n",
    "  guides(\n",
    "    fill = guide_legend(title = \"Conditions\", nrow = 1)\n",
    "  )\n"
   ]
  },
  {
   "cell_type": "code",
   "execution_count": null,
   "id": "10772741-318b-4e4c-819f-4632d67932d0",
   "metadata": {},
   "outputs": [],
   "source": []
  },
  {
   "cell_type": "code",
   "execution_count": 18,
   "id": "9fe6ac6f-bd51-4995-90f6-8269ff3631d5",
   "metadata": {},
   "outputs": [
    {
     "name": "stderr",
     "output_type": "stream",
     "text": [
      "Warning message:\n",
      "“\u001b[1m\u001b[22mRemoved 23 rows containing non-finite outside the scale range\n",
      "(`stat_boxplot()`).”\n"
     ]
    }
   ],
   "source": [
    "ggsave(filename = './zfp711_facs_selected.pdf',plot = last_plot(),width = 20, height = 5,units = 'in',dpi = 300)"
   ]
  },
  {
   "cell_type": "code",
   "execution_count": 19,
   "id": "a8190193-5d4b-4993-87f6-a68d79e0bebe",
   "metadata": {},
   "outputs": [
    {
     "name": "stderr",
     "output_type": "stream",
     "text": [
      "Warning message:\n",
      "“\u001b[1m\u001b[22mRemoved 23 rows containing non-finite outside the scale range\n",
      "(`stat_boxplot()`).”\n"
     ]
    }
   ],
   "source": [
    "ggsave(filename = './zfp711_facs_selected.png',plot = last_plot(),width = 20, height = 5,units = 'in',dpi = 300)"
   ]
  },
  {
   "cell_type": "code",
   "execution_count": 20,
   "id": "05273cd5-dbbc-4dbd-8791-1c5c2f5d3b54",
   "metadata": {},
   "outputs": [
    {
     "name": "stderr",
     "output_type": "stream",
     "text": [
      "Warning message:\n",
      "“\u001b[1m\u001b[22mRemoved 23 rows containing non-finite outside the scale range\n",
      "(`stat_boxplot()`).”\n"
     ]
    }
   ],
   "source": [
    "ggsave(filename = './zfp711_facs_selected.svg',plot = last_plot(),width = 20, height = 5,units = 'in',dpi = 300)"
   ]
  },
  {
   "cell_type": "code",
   "execution_count": 21,
   "id": "41ea93b1-4f47-4822-8ed2-5f807b68cbb9",
   "metadata": {},
   "outputs": [],
   "source": [
    "save.image(file = './new_plot_env_zfp711.RData', compress = FALSE)"
   ]
  },
  {
   "cell_type": "code",
   "execution_count": 22,
   "id": "6001e99b-7b31-4a36-8974-903dca7f06ed",
   "metadata": {},
   "outputs": [
    {
     "data": {
      "text/plain": [
       "R version 4.5.1 (2025-06-13)\n",
       "Platform: x86_64-pc-linux-gnu\n",
       "Running under: Debian GNU/Linux 12 (bookworm)\n",
       "\n",
       "Matrix products: default\n",
       "BLAS:   /usr/lib/x86_64-linux-gnu/openblas-pthread/libblas.so.3 \n",
       "LAPACK: /usr/lib/x86_64-linux-gnu/openblas-pthread/libopenblasp-r0.3.21.so;  LAPACK version 3.11.0\n",
       "\n",
       "locale:\n",
       " [1] LC_CTYPE=en_US.UTF-8       LC_NUMERIC=C              \n",
       " [3] LC_TIME=en_US.UTF-8        LC_COLLATE=en_US.UTF-8    \n",
       " [5] LC_MONETARY=en_US.UTF-8    LC_MESSAGES=en_US.UTF-8   \n",
       " [7] LC_PAPER=en_US.UTF-8       LC_NAME=C                 \n",
       " [9] LC_ADDRESS=C               LC_TELEPHONE=C            \n",
       "[11] LC_MEASUREMENT=en_US.UTF-8 LC_IDENTIFICATION=C       \n",
       "\n",
       "time zone: Europe/Amsterdam\n",
       "tzcode source: system (glibc)\n",
       "\n",
       "attached base packages:\n",
       "[1] stats     graphics  grDevices utils     datasets  methods   base     \n",
       "\n",
       "other attached packages:\n",
       "[1] ggsignif_0.6.4 tidyr_1.3.1    lmerTest_3.1-3 lme4_1.1-37    Matrix_1.7-3  \n",
       "[6] reshape2_1.4.4 dplyr_1.1.4    ggplot2_3.5.2 \n",
       "\n",
       "loaded via a namespace (and not attached):\n",
       " [1] generics_0.1.4      stringi_1.8.7       lattice_0.22-7     \n",
       " [4] digest_0.6.37       magrittr_2.0.3      evaluate_1.0.4     \n",
       " [7] grid_4.5.1          RColorBrewer_1.1-3  pbdZMQ_0.3-14      \n",
       "[10] fastmap_1.2.0       plyr_1.8.9          jsonlite_2.0.0     \n",
       "[13] purrr_1.0.4         scales_1.4.0        numDeriv_2016.8-1.1\n",
       "[16] textshaping_1.0.1   reformulas_0.4.1    Rdpack_2.6.4       \n",
       "[19] cli_3.6.5           rlang_1.1.6         crayon_1.5.3       \n",
       "[22] rbibutils_2.3       splines_4.5.1       base64enc_0.1-3    \n",
       "[25] withr_3.0.2         repr_1.1.7          tools_4.5.1        \n",
       "[28] uuid_1.2-1          nloptr_2.2.1        minqa_1.2.8        \n",
       "[31] boot_1.3-31         IRdisplay_1.1       vctrs_0.6.5        \n",
       "[34] R6_2.6.1.9000       lifecycle_1.0.4     stringr_1.5.1      \n",
       "[37] MASS_7.3-65         ragg_1.4.0          pkgconfig_2.0.3    \n",
       "[40] pillar_1.11.0       gtable_0.3.6        glue_1.8.0         \n",
       "[43] Rcpp_1.1.0          systemfonts_1.2.3   tibble_3.3.0       \n",
       "[46] tidyselect_1.2.1    rstudioapi_0.17.1   IRkernel_1.3.2     \n",
       "[49] dichromat_2.0-0.1   farver_2.1.2        htmltools_0.5.8.1  \n",
       "[52] nlme_3.1-168        svglite_2.2.1       labeling_0.4.3     \n",
       "[55] Cairo_1.6-2         compiler_4.5.1     "
      ]
     },
     "metadata": {},
     "output_type": "display_data"
    }
   ],
   "source": [
    "sessionInfo()"
   ]
  },
  {
   "cell_type": "code",
   "execution_count": null,
   "id": "871d5a5c-13ff-4d63-865c-72221ada4b10",
   "metadata": {},
   "outputs": [],
   "source": []
  }
 ],
 "metadata": {
  "kernelspec": {
   "display_name": "R",
   "language": "R",
   "name": "ir"
  },
  "language_info": {
   "codemirror_mode": "r",
   "file_extension": ".r",
   "mimetype": "text/x-r-source",
   "name": "R",
   "pygments_lexer": "r",
   "version": "4.5.1"
  }
 },
 "nbformat": 4,
 "nbformat_minor": 5
}
