{
 "cells": [
  {
   "cell_type": "markdown",
   "id": "80c328f1-9460-4170-b680-957a7ccb35fa",
   "metadata": {},
   "source": [
    "# General Setup"
   ]
  },
  {
   "cell_type": "markdown",
   "id": "a498b675-4032-4f74-b716-594627c26d87",
   "metadata": {},
   "source": [
    "The session crushed, so I have to redo certian parts. For this reason order of the code may not make a sense."
   ]
  },
  {
   "cell_type": "code",
   "execution_count": null,
   "id": "4d3a53ba-86a2-479d-8f41-49aabe30ca08",
   "metadata": {
    "vscode": {
     "languageId": "r"
    }
   },
   "outputs": [],
   "source": [
    "source(\"/home/ridvan/scRIPT/settings.R\")\n",
    "source(\"/home/ridvan/scRIPT/utils.R\")"
   ]
  },
  {
   "cell_type": "code",
   "execution_count": null,
   "id": "94a794ac-09da-4a4c-ad96-3b170a1a73d3",
   "metadata": {
    "vscode": {
     "languageId": "r"
    }
   },
   "outputs": [],
   "source": [
    "BPPARAM <- BiocParallel::bpparam()\n",
    "BPPARAM$workers = 20\n",
    "\n",
    "# Multi core using future - built in to seurat\n",
    "plan(\"multicore\", workers = 20)\n",
    "options(future.globals.maxSize = 200 * 1024 ^ 3) # for 200 Gb RAM\n",
    "\n",
    "getwd()"
   ]
  },
  {
   "cell_type": "code",
   "execution_count": null,
   "id": "e98d5413-91b6-40b7-8e64-a0ee3dfa32ce",
   "metadata": {
    "vscode": {
     "languageId": "r"
    }
   },
   "outputs": [],
   "source": [
    "obj <- readRDS('../../cmo_version3.rds')\n",
    "obj"
   ]
  },
  {
   "cell_type": "code",
   "execution_count": null,
   "id": "1e750fcb-08dd-426b-aaca-e1424d96d25c",
   "metadata": {
    "vscode": {
     "languageId": "r"
    }
   },
   "outputs": [],
   "source": [
    "io$output_rds_dir\n",
    "atlas <- readRDS(paste0(io$output_rds_dir, 'extended_atlas_cellranger_features_seurat.rds'))\n",
    "atlas"
   ]
  },
  {
   "cell_type": "markdown",
   "id": "6ec0ab38-c8e0-4b37-b2bb-340860b513c0",
   "metadata": {},
   "source": [
    "## Minor Adjustments for the ordering atlas features"
   ]
  },
  {
   "cell_type": "code",
   "execution_count": null,
   "id": "285fa236-def7-466f-8071-c61f02a57fc3",
   "metadata": {
    "vscode": {
     "languageId": "r"
    }
   },
   "outputs": [],
   "source": [
    "table(obj$v7k75pca_stage_predicted.id)"
   ]
  },
  {
   "cell_type": "code",
   "execution_count": null,
   "id": "d24bf32d-3587-4a1a-bcbc-966c9e1b96d2",
   "metadata": {
    "vscode": {
     "languageId": "r"
    }
   },
   "outputs": [],
   "source": [
    "# Specify the desired order of the levels\n",
    "stage_levels <- c(\n",
    "  \"E6.5\", \"E7.0\", \"E7.25\", \"E7.5\", \"E7.75\", \"E8.0\", \"E8.25\", \"E8.5\",\n",
    "  \"E8.75\", \"E9.0\", \"E9.25\", \"E9.5\", \"Mixed gastrulation\"\n",
    ")\n",
    "\n",
    "# Create a new factor column in your meta.data with the specified order\n",
    "obj@meta.data$v7k75pca_stage_predicted.id_num <-\n",
    "  factor(obj$v7k75pca_stage_predicted.id, levels = stage_levels)\n",
    "\n",
    "# Check that the levels are correct\n",
    "table(obj@meta.data$v7k75pca_stage_predicted.id_num, useNA = \"always\")\n"
   ]
  },
  {
   "cell_type": "code",
   "execution_count": null,
   "id": "2eeead0a-4a5a-4c25-b75f-26dd462497c4",
   "metadata": {
    "vscode": {
     "languageId": "r"
    }
   },
   "outputs": [],
   "source": [
    "obj$lv_stages <- obj@meta.data$v7k75pca_stage_predicted.id_num"
   ]
  },
  {
   "cell_type": "code",
   "execution_count": null,
   "id": "e7a124c1-7e31-46a9-83f0-f9398ea40cec",
   "metadata": {
    "vscode": {
     "languageId": "r"
    }
   },
   "outputs": [],
   "source": [
    "obj$lv_stages_score <- obj@meta.data$v7k75pca_stage_prediction.score.max"
   ]
  },
  {
   "cell_type": "code",
   "execution_count": null,
   "id": "e4ba69da-136d-48cc-92fd-3f26a0adca5a",
   "metadata": {
    "vscode": {
     "languageId": "r"
    }
   },
   "outputs": [],
   "source": [
    "obj$lv_stages_ch <- as.character(obj$lv_stages) "
   ]
  },
  {
   "cell_type": "code",
   "execution_count": null,
   "id": "a610e860-e8c0-464e-a357-1a9c4c561a82",
   "metadata": {
    "vscode": {
     "languageId": "r"
    }
   },
   "outputs": [],
   "source": [
    "table(obj$v7k75pca_anatomy_predicted.id)"
   ]
  },
  {
   "cell_type": "code",
   "execution_count": null,
   "id": "dc3535bc-3b4b-4ebc-8be7-5a9e8e0e7d5d",
   "metadata": {
    "vscode": {
     "languageId": "r"
    }
   },
   "outputs": [],
   "source": [
    "# Specify the desired order (spelling corrected and capitalized)\n",
    "anatomy_levels <- c(\n",
    "  \"Pooled\", \n",
    "  \"YS\", \n",
    "  \"EP\", \n",
    "  \"Anterior\", \n",
    "  \"Posterior\", \n",
    "  \"Anterior section\", \n",
    "  \"Medial section\", \n",
    "  \"Posterior section\"\n",
    ")\n",
    "\n",
    "# Create new factor column with ordered levels\n",
    "obj@meta.data$v7k75pca_anatomy_predicted.id_num <- factor(\n",
    "  obj$v7k75pca_anatomy_predicted.id,\n",
    "  levels = anatomy_levels\n",
    ")\n",
    "\n",
    "# Check the result\n",
    "table(obj@meta.data$v7k75pca_anatomy_predicted.id_num, useNA = \"always\")\n"
   ]
  },
  {
   "cell_type": "code",
   "execution_count": null,
   "id": "e0c2bb34-265f-4aa5-97db-2d28c37bed3f",
   "metadata": {
    "vscode": {
     "languageId": "r"
    }
   },
   "outputs": [],
   "source": [
    "obj$lv_anatomy <- obj@meta.data$v7k75pca_anatomy_predicted.id_num"
   ]
  },
  {
   "cell_type": "code",
   "execution_count": null,
   "id": "7c9d5712-9448-40ad-b1eb-d099cd219879",
   "metadata": {
    "vscode": {
     "languageId": "r"
    }
   },
   "outputs": [],
   "source": [
    "obj$lv_anatomy_score <- obj@meta.data$v7k75pca_anatomy_prediction.score.max"
   ]
  },
  {
   "cell_type": "code",
   "execution_count": null,
   "id": "0dc41a94-50e9-4f98-9613-b07936896609",
   "metadata": {
    "vscode": {
     "languageId": "r"
    }
   },
   "outputs": [],
   "source": [
    "obj$lv_anatomy_ch <- as.character(obj$lv_anatomy) "
   ]
  },
  {
   "cell_type": "code",
   "execution_count": null,
   "id": "9ed77f2a-93a1-4fc5-a627-185e15e7728d",
   "metadata": {
    "vscode": {
     "languageId": "r"
    }
   },
   "outputs": [],
   "source": [
    "table(obj$v7k75pca_somite_count_predicted.id)"
   ]
  },
  {
   "cell_type": "code",
   "execution_count": null,
   "id": "7d6c9db5-c2bd-4ddc-8715-16bfdc877f6c",
   "metadata": {
    "vscode": {
     "languageId": "r"
    }
   },
   "outputs": [],
   "source": [
    "# Specify the desired level order (numbers as characters, pooled last)\n",
    "somite_levels <- c(\n",
    "  \"6\", \"7\", \"8\", \"10\", \"12\", \"14\", \"15\", \"16\", \"18\", \n",
    "  \"20\", \"21\", \"22\", \"23\", \"24\", \"Pooled\"\n",
    ")\n",
    "\n",
    "# Create new factor column with ordered levels\n",
    "obj@meta.data$v7k75pca_somite_count_predicted.id_num <- factor(\n",
    "  obj$v7k75pca_somite_count_predicted.id,\n",
    "  levels = somite_levels\n",
    ")\n",
    "\n",
    "# Check the result\n",
    "table(obj@meta.data$v7k75pca_somite_count_predicted.id_num, useNA = \"always\")\n"
   ]
  },
  {
   "cell_type": "code",
   "execution_count": null,
   "id": "26a57c35-b81f-4deb-b8d1-14c7ec64db52",
   "metadata": {
    "vscode": {
     "languageId": "r"
    }
   },
   "outputs": [],
   "source": [
    "obj$lv_somite <- obj@meta.data$v7k75pca_somite_count_predicted.id_num"
   ]
  },
  {
   "cell_type": "code",
   "execution_count": null,
   "id": "a3388ae8-89f6-447f-a23e-734f91a8d179",
   "metadata": {
    "vscode": {
     "languageId": "r"
    }
   },
   "outputs": [],
   "source": [
    "obj$lv_somite_score <- obj@meta.data$v7k75pca_somite_count_prediction.score.max"
   ]
  },
  {
   "cell_type": "code",
   "execution_count": null,
   "id": "f95465fb-5193-4f9f-a681-f1ae33596038",
   "metadata": {
    "vscode": {
     "languageId": "r"
    }
   },
   "outputs": [],
   "source": [
    "obj$lv_somite_ch <- as.character(obj$lv_somite) "
   ]
  },
  {
   "cell_type": "code",
   "execution_count": null,
   "id": "69d65867-889a-4cdf-a7b2-64be890687d4",
   "metadata": {
    "vscode": {
     "languageId": "r"
    }
   },
   "outputs": [],
   "source": [
    "obj$lv_cell_type_score <- obj@meta.data$v7k_pca75_prediction.score.max"
   ]
  },
  {
   "cell_type": "code",
   "execution_count": null,
   "id": "5282a8b5-a7ec-4539-a03f-2fea82f09c13",
   "metadata": {
    "vscode": {
     "languageId": "r"
    }
   },
   "outputs": [],
   "source": [
    "obj$lv_cell_type <- obj@meta.data$v7k_pca75_predicted.id"
   ]
  },
  {
   "cell_type": "code",
   "execution_count": null,
   "id": "8297467d-a866-43d2-a1c2-09652d804c5c",
   "metadata": {
    "vscode": {
     "languageId": "r"
    }
   },
   "outputs": [],
   "source": [
    "obj$lv_cell_to_cell <- obj@meta.data$v7k75pca_cell_predicted.id\n",
    "obj$lv_cell_to_cell_score <- obj@meta.data$v7k75pca_cell_prediction.score.max"
   ]
  },
  {
   "cell_type": "markdown",
   "id": "5a34cf88-3cdb-4870-a78f-cca1804ca3f5",
   "metadata": {},
   "source": [
    "# Simplifiying the naming on CMO"
   ]
  },
  {
   "cell_type": "code",
   "execution_count": null,
   "id": "bddef55f-0472-40c7-8159-66482b5da3aa",
   "metadata": {
    "vscode": {
     "languageId": "r"
    }
   },
   "outputs": [],
   "source": [
    "table(obj$cell_type_clusters)"
   ]
  },
  {
   "cell_type": "code",
   "execution_count": null,
   "id": "adf0497f-aff6-44f9-87dc-853f5eca4327",
   "metadata": {
    "vscode": {
     "languageId": "r"
    }
   },
   "outputs": [],
   "source": [
    "table(obj$cell_type_groups)"
   ]
  },
  {
   "cell_type": "code",
   "execution_count": null,
   "id": "83d620ca-5468-490b-ae33-14461866a80a",
   "metadata": {
    "vscode": {
     "languageId": "r"
    }
   },
   "outputs": [],
   "source": [
    "table(obj$cell_type_clusters)"
   ]
  },
  {
   "cell_type": "code",
   "execution_count": null,
   "id": "f36a1cac-623c-4581-8274-984949a5a69f",
   "metadata": {
    "vscode": {
     "languageId": "r"
    }
   },
   "outputs": [],
   "source": [
    "obj\n",
    "lm_obj <- subset(obj, subset = cell_type_groups %in% \"Late_Mesoderm\" |  cell_type_clusters %in% 'Nascent Mesoderm')\n",
    "lm_obj"
   ]
  },
  {
   "cell_type": "code",
   "execution_count": null,
   "id": "1b368252-51ec-487c-918e-2ed5b66c19bf",
   "metadata": {
    "vscode": {
     "languageId": "r"
    }
   },
   "outputs": [],
   "source": [
    "DimPlot(lm_obj, reduction = \"UMAP\", cols = r3dcol$cols_46, group.by = 'cell_type_subclusters')"
   ]
  },
  {
   "cell_type": "code",
   "execution_count": null,
   "id": "a4eb4e85-9bf6-4726-b923-0cc0fa51c272",
   "metadata": {
    "vscode": {
     "languageId": "r"
    }
   },
   "outputs": [],
   "source": [
    "# Findvariable Features\n",
    "lm_obj <- FindVariableFeatures(object = lm_obj, nfeatures = 4000)"
   ]
  },
  {
   "cell_type": "code",
   "execution_count": null,
   "id": "e0834373-7e2a-4c16-b525-798156a3b210",
   "metadata": {
    "vscode": {
     "languageId": "r"
    }
   },
   "outputs": [],
   "source": [
    "lm_obj <- ScaleData(object = lm_obj, \n",
    "                          features = VariableFeatures(lm_obj),\n",
    "                          vars.to.regress = c(\"nFeature_RNA\", \"nCount_RNA\", \"percent.mt\", \"percent.ribo\", \"G2M.Score\", \"S.Score\"),\n",
    "                          block.size = 20000)"
   ]
  },
  {
   "cell_type": "code",
   "execution_count": null,
   "id": "1563af58-f93a-4f2b-a788-8eff91687af3",
   "metadata": {
    "scrolled": true,
    "vscode": {
     "languageId": "r"
    }
   },
   "outputs": [],
   "source": [
    "lm_obj <- RunPCA(lm_obj,npcs = 50, reduction.name = \"lm_pca\",\n",
    "                       features =  VariableFeatures(lm_obj)\n",
    "                      )"
   ]
  },
  {
   "cell_type": "code",
   "execution_count": null,
   "id": "84d124cd-79bd-425f-8cc1-6b21dcaea9fc",
   "metadata": {
    "scrolled": true,
    "vscode": {
     "languageId": "r"
    }
   },
   "outputs": [],
   "source": [
    "# New harmony Umap\n",
    "lm_obj <- RunUMAP(lm_obj, reduction = \"lm_pca\", dims = 1:50, n.components = 2L, local.connectivity = 1L,\n",
    "                  min.dist = 0.5, spread = 0.5,\n",
    "                     n.neighbors = 10,reduction.name = \"lm_umap1\")\n",
    "lm_obj <- RunUMAP(lm_obj, reduction = \"lm_pca\", dims = 1:50, n.components = 2L, local.connectivity = 1L,\n",
    "                  min.dist = 0.4, spread = 0.5,\n",
    "                     n.neighbors = 10,reduction.name = \"lm_umap2\")\n",
    "lm_obj <- RunUMAP(lm_obj, reduction = \"lm_pca\", dims = 1:50, n.components = 2L, local.connectivity = 1L,\n",
    "                  min.dist = 0.3, spread = 0.5,\n",
    "                     n.neighbors = 10,reduction.name = \"lm_umap3\")"
   ]
  },
  {
   "cell_type": "code",
   "execution_count": null,
   "id": "d4a863fa-06c1-4b87-aa85-caf1af792ea1",
   "metadata": {
    "scrolled": true,
    "vscode": {
     "languageId": "r"
    }
   },
   "outputs": [],
   "source": [
    "DimPlot(lm_obj, reduction = \"UMAP\", cols = r3dcol$cols_94, group.by = 'cell_type_subclusters')\n",
    "DimPlot(lm_obj, reduction = \"lm_umap1\", cols = r3dcol$cols_94, group.by = 'cell_type_subclusters')\n",
    "DimPlot(lm_obj, reduction = \"lm_umap2\", cols = r3dcol$cols_94, group.by = 'cell_type_subclusters')\n",
    "DimPlot(lm_obj, reduction = \"lm_umap3\", cols = r3dcol$cols_94, group.by = 'cell_type_subclusters')"
   ]
  },
  {
   "cell_type": "code",
   "execution_count": null,
   "id": "4186722d-ba75-47ed-8171-098f8fce5992",
   "metadata": {
    "vscode": {
     "languageId": "r"
    }
   },
   "outputs": [],
   "source": [
    "obj$lv_subclusters"
   ]
  },
  {
   "cell_type": "code",
   "execution_count": null,
   "id": "7a538054-6f69-4384-b559-a9617ebfbf10",
   "metadata": {
    "vscode": {
     "languageId": "r"
    }
   },
   "outputs": [],
   "source": [
    "DimPlot(lm_obj, reduction = \"UMAP\", cols = r3dcol$cols_94, group.by = 'lv_subclusters',label = TRUE) + NoLegend()\n",
    "DimPlot(lm_obj, reduction = \"lm_umap3\", cols = r3dcol$cols_94, group.by = 'lv_subclusters', label = TRUE) + NoLegend()"
   ]
  },
  {
   "cell_type": "code",
   "execution_count": null,
   "id": "9cfd9bc6-eae0-4d13-b15d-26b264b9cc2e",
   "metadata": {
    "vscode": {
     "languageId": "r"
    }
   },
   "outputs": [],
   "source": [
    "DimPlot(lm_obj, reduction = \"UMAP\", cols = r3dcol$cols_94, group.by = 'cell_type_subclusters',label = TRUE) + NoLegend()\n",
    "DimPlot(lm_obj, reduction = \"lm_umap3\", cols = r3dcol$cols_94, group.by = 'cell_type_subclusters', label = TRUE) + NoLegend()"
   ]
  },
  {
   "cell_type": "code",
   "execution_count": null,
   "id": "c2a26e39-2fe9-4a0f-bd61-d596fdea0cda",
   "metadata": {
    "vscode": {
     "languageId": "r"
    }
   },
   "outputs": [],
   "source": [
    "levels( obj$cell_type_subclusters)"
   ]
  },
  {
   "cell_type": "code",
   "execution_count": null,
   "id": "8bf7bacb-6edb-411e-9920-49304d7cbbee",
   "metadata": {
    "vscode": {
     "languageId": "r"
    }
   },
   "outputs": [],
   "source": [
    "new_names <- c(\n",
    "    \"Naive Pluripotency\",\"Epiblast\",\"Primitive Streak 1\",\"Amniotic Ectoderm 1\",\"Amniotic Ectoderm 2\",\"Amniotic Ectoderm 3\",\"PGC\",\"Primitive Streak 2\",\"Anterior Primitive Streak\",\n",
    "    \"Visceral Endoderm\",\"Nascent Mesoderm\",\"Lateral Plate Mesoderm\",\n",
    "    \"Epicardium 1\",\"Epicardium 2\",\n",
    "    \"Mesenchyme 1\",\"Mesenchyme 2\",\n",
    "    \"Epicardium 3\",\n",
    "    \"Limb Mesoderm 1\",\"Limb Mesoderm 2\",\n",
    "    \"Allantois 1\",\"Allantois 4\",\"Allantois 2\",\"Allantois 3\",\"Atf3-KO Enriched\",\"HEP/BP\",\"Erythroid 1\",\"Erythroid 2\",\"Erythroid 3\",\"Erythroid 4\",\"MkP 1\",\"MEP\",\"MkP 2\",\n",
    "    \"Endothelium 1\",\"Endothelium 2\",\"Endocardium\",\"Endothelium 3\",\"EMP 1\",\"EMP 2\",\"EMP 3\",\"EMP 4\"\n",
    "    ) "
   ]
  },
  {
   "cell_type": "code",
   "execution_count": null,
   "id": "15101dd0-6b77-40ad-a3b1-a665b7510b0e",
   "metadata": {
    "vscode": {
     "languageId": "r"
    }
   },
   "outputs": [],
   "source": [
    "Idents(obj) <- obj$lv_subclusters"
   ]
  },
  {
   "cell_type": "code",
   "execution_count": null,
   "id": "2b398a84-1beb-4a49-a759-723ccc5d4bef",
   "metadata": {
    "vscode": {
     "languageId": "r"
    }
   },
   "outputs": [],
   "source": [
    "levels(obj)"
   ]
  },
  {
   "cell_type": "code",
   "execution_count": null,
   "id": "758857bb-429c-40ac-acdc-b8a43a541dfd",
   "metadata": {
    "vscode": {
     "languageId": "r"
    }
   },
   "outputs": [],
   "source": [
    "names(new_names) <- levels(obj)"
   ]
  },
  {
   "cell_type": "code",
   "execution_count": null,
   "id": "43818b37-0bea-454e-881f-149616ad98ca",
   "metadata": {
    "vscode": {
     "languageId": "r"
    }
   },
   "outputs": [],
   "source": [
    "new_names"
   ]
  },
  {
   "cell_type": "code",
   "execution_count": null,
   "id": "e75bc76d-a155-49a8-8c1d-b92ddcf58f89",
   "metadata": {
    "vscode": {
     "languageId": "r"
    }
   },
   "outputs": [],
   "source": [
    "obj <- RenameIdents(obj, new_names)"
   ]
  },
  {
   "cell_type": "code",
   "execution_count": null,
   "id": "e48a8ab9-2645-40ac-beda-407da93f5394",
   "metadata": {
    "vscode": {
     "languageId": "r"
    }
   },
   "outputs": [],
   "source": [
    "obj$new_subclusters <- Idents(obj)"
   ]
  },
  {
   "cell_type": "code",
   "execution_count": null,
   "id": "bc075a7b-6279-4c99-a32d-d0f24ca4e9d6",
   "metadata": {
    "vscode": {
     "languageId": "r"
    }
   },
   "outputs": [],
   "source": [
    "obj$new_subclusters_ch <- as.character(obj$new_subclusters)"
   ]
  },
  {
   "cell_type": "code",
   "execution_count": null,
   "id": "d2e8a05b-6058-4bd1-98ff-36c5a5e77af8",
   "metadata": {
    "vscode": {
     "languageId": "r"
    }
   },
   "outputs": [],
   "source": [
    "options(repr.plot.width=25, repr.plot.height=15)\n",
    "DimPlot(obj, reduction = 'UMAP', group.by = 'new_subclusters', label = T,label.size = 10, alpha=0.7, cols = rev(r3dcol$cols_46), repel= TRUE, label.box = FALSE )"
   ]
  },
  {
   "cell_type": "code",
   "execution_count": null,
   "id": "9474828d-3ec3-4b6d-949a-4c7ab7b4ecbc",
   "metadata": {
    "vscode": {
     "languageId": "r"
    }
   },
   "outputs": [],
   "source": [
    "new_names <- c(\n",
    "    \"Naive Pluripotency\",\"Epiblast\",\"Primitive Streak\",\"Amniotic Ectoderm\",\"Amniotic Ectoderm\",\"Amniotic Ectoderm\",\"PGC\",\"Primitive Streak\",\"Anterior Primitive Streak\",\n",
    "    \"Visceral Endoderm\",\"Nascent Mesoderm\",\"Lateral Plate Mesoderm\",\n",
    "    \"Epicardium\",\"Epicardium\",\n",
    "    \"Mesenchyme\",\"Mesenchyme\",\n",
    "    \"Epicardium\",\n",
    "    \"Limb Mesoderm\",\"Limb Mesoderm\",\n",
    "    \"Allantois\",\"Allantois\",\"Allantois\",\"Allantois\",\"Atf3-KO Enriched\",\"HEP/BP\",\"Erythroid\",\"Erythroid\",\"Erythroid\",\"Erythroid\",\"MkP\",\"MEP\",\"MkP\",\n",
    "    \"Endothelium\",\"Endothelium\",\"Endocardium\",\"Endothelium\",\"EMP\",\"EMP\",\"EMP\",\"EMP\"\n",
    "    ) "
   ]
  },
  {
   "cell_type": "code",
   "execution_count": null,
   "id": "a7f62b74-44ad-4c98-b5d7-3432866385e2",
   "metadata": {
    "vscode": {
     "languageId": "r"
    }
   },
   "outputs": [],
   "source": [
    "Idents(obj) <- obj$lv_subclusters"
   ]
  },
  {
   "cell_type": "code",
   "execution_count": null,
   "id": "63bc9964-2012-4b22-bfd7-8300af847edf",
   "metadata": {
    "vscode": {
     "languageId": "r"
    }
   },
   "outputs": [],
   "source": [
    "levels(obj)"
   ]
  },
  {
   "cell_type": "code",
   "execution_count": null,
   "id": "a74e4121-22c0-4751-ad54-0d09f21e4546",
   "metadata": {
    "vscode": {
     "languageId": "r"
    }
   },
   "outputs": [],
   "source": [
    "names(new_names) <- levels(obj)"
   ]
  },
  {
   "cell_type": "code",
   "execution_count": null,
   "id": "9c9793cb-1ab0-4a99-aefa-cf79bccc98ed",
   "metadata": {
    "vscode": {
     "languageId": "r"
    }
   },
   "outputs": [],
   "source": [
    "new_names"
   ]
  },
  {
   "cell_type": "code",
   "execution_count": null,
   "id": "936cf073-029d-4544-a064-a3b761406441",
   "metadata": {
    "vscode": {
     "languageId": "r"
    }
   },
   "outputs": [],
   "source": [
    "obj <- RenameIdents(obj, new_names)"
   ]
  },
  {
   "cell_type": "code",
   "execution_count": null,
   "id": "6d86101b-d7a3-4c79-9c5e-7b8ef7837947",
   "metadata": {
    "vscode": {
     "languageId": "r"
    }
   },
   "outputs": [],
   "source": [
    "obj$new_subclusters_x <- Idents(obj)"
   ]
  },
  {
   "cell_type": "code",
   "execution_count": null,
   "id": "ff1d5d44-f2a1-4950-b236-dc72f16b4d1a",
   "metadata": {
    "vscode": {
     "languageId": "r"
    }
   },
   "outputs": [],
   "source": [
    "obj$new_subclusters_x_ch <- as.character(obj$new_subclusters)"
   ]
  },
  {
   "cell_type": "code",
   "execution_count": null,
   "id": "2e4a6f47-e8ec-4f3c-934c-f4ed3514bf56",
   "metadata": {
    "vscode": {
     "languageId": "r"
    }
   },
   "outputs": [],
   "source": [
    "options(repr.plot.width=25, repr.plot.height=15)\n",
    "DimPlot(obj, reduction = 'UMAP', group.by = 'new_subclusters_x', label = T,label.size = 10, alpha=0.7, cols = rev(r3dcol$cols_46), repel= TRUE, label.box = FALSE )"
   ]
  },
  {
   "cell_type": "code",
   "execution_count": null,
   "id": "ea4350c4-df64-4b41-8330-2bfb4ac44472",
   "metadata": {
    "vscode": {
     "languageId": "r"
    }
   },
   "outputs": [],
   "source": []
  },
  {
   "cell_type": "code",
   "execution_count": null,
   "id": "7b4e8e10-b826-4c3c-996f-7aa91c7bb000",
   "metadata": {
    "vscode": {
     "languageId": "r"
    }
   },
   "outputs": [],
   "source": []
  },
  {
   "cell_type": "code",
   "execution_count": null,
   "id": "1a5cfeb2-0f58-4b85-a60d-d811f7138e35",
   "metadata": {
    "vscode": {
     "languageId": "r"
    }
   },
   "outputs": [],
   "source": [
    "new_names <- c(\n",
    "    \"Naive Pluripotency\",\"Epiblast\",\"Primitive Streak\",\"Amniotic Ectoderm\",\"Amniotic Ectoderm\",\"Amniotic Ectoderm\",\"PGC\",\"Primitive Streak\",\"Visceral Endoderm\",\n",
    "    \"Visceral Endoderm\",\"Nascent Mesoderm\",\"Mesenchyme and Epicardium\",\n",
    "    \"Mesenchyme and Epicardium\",\"Mesenchyme and Epicardium\",\n",
    "    \"Mesenchyme and Epicardium\",\"Mesenchyme and Epicardium\",\n",
    "    \"Mesenchyme and Epicardium\",\n",
    "    \"Limb Mesoderm and Allantois\",\"Limb Mesoderm and Allantois\",\n",
    "    \"Limb Mesoderm and Allantois\",\"Limb Mesoderm and Allantois\",\"Limb Mesoderm and Allantois\",\"Limb Mesoderm and Allantois\",\"Atf3-KO Enriched\",\"HEP/BP\",\"Erythroid\",\"Erythroid\",\"Erythroid\",\"Erythroid\",\"MkP\",\"MkP\",\"MkP\",\n",
    "    \"Endothelium\",\"Endothelium\",\"Endothelium\",\"Endothelium\",\"EMP\",\"EMP\",\"EMP\",\"EMP\"\n",
    "    ) "
   ]
  },
  {
   "cell_type": "code",
   "execution_count": null,
   "id": "73360551-7e18-416f-a47f-72ed856cdf44",
   "metadata": {
    "vscode": {
     "languageId": "r"
    }
   },
   "outputs": [],
   "source": [
    "Idents(obj) <- obj$lv_subclusters"
   ]
  },
  {
   "cell_type": "code",
   "execution_count": null,
   "id": "ca35f3af-2d68-45ea-bdb9-ca537fdc05e0",
   "metadata": {
    "vscode": {
     "languageId": "r"
    }
   },
   "outputs": [],
   "source": [
    "levels(obj)"
   ]
  },
  {
   "cell_type": "code",
   "execution_count": null,
   "id": "ce7ee445-7344-440c-90b6-f2c4905bea3d",
   "metadata": {
    "vscode": {
     "languageId": "r"
    }
   },
   "outputs": [],
   "source": [
    "names(new_names) <- levels(obj)"
   ]
  },
  {
   "cell_type": "code",
   "execution_count": null,
   "id": "a0a6326a-eb57-4cf6-974d-145dfafee680",
   "metadata": {
    "vscode": {
     "languageId": "r"
    }
   },
   "outputs": [],
   "source": [
    "new_names"
   ]
  },
  {
   "cell_type": "code",
   "execution_count": null,
   "id": "ed8e0788-b56a-4287-9080-537869ffcfe4",
   "metadata": {
    "vscode": {
     "languageId": "r"
    }
   },
   "outputs": [],
   "source": [
    "obj <- RenameIdents(obj, new_names)"
   ]
  },
  {
   "cell_type": "code",
   "execution_count": null,
   "id": "00f9d80c-8b47-493e-a06a-6c27804ce68d",
   "metadata": {
    "vscode": {
     "languageId": "r"
    }
   },
   "outputs": [],
   "source": [
    "obj$new_clusters <- Idents(obj)"
   ]
  },
  {
   "cell_type": "code",
   "execution_count": null,
   "id": "245f90fc-8365-490e-97c8-34c96fefca13",
   "metadata": {
    "vscode": {
     "languageId": "r"
    }
   },
   "outputs": [],
   "source": [
    "obj$new_clustersch <- as.character(obj$new_subclusters)"
   ]
  },
  {
   "cell_type": "code",
   "execution_count": null,
   "id": "58bed861-10ad-4c5b-94ad-6ebbca656413",
   "metadata": {
    "vscode": {
     "languageId": "r"
    }
   },
   "outputs": [],
   "source": [
    "options(repr.plot.width=25, repr.plot.height=15)\n",
    "DimPlot(obj, reduction = 'UMAP', group.by = 'new_clusters', label = T,label.size = 10, alpha=0.7, cols = rev(r3dcol$cols_46), repel= TRUE, label.box = FALSE )"
   ]
  },
  {
   "cell_type": "code",
   "execution_count": null,
   "id": "c5ecd64d-5f8b-46df-b53b-adbd64515493",
   "metadata": {
    "vscode": {
     "languageId": "r"
    }
   },
   "outputs": [],
   "source": [
    "dim(obj@reductions$PCA)"
   ]
  },
  {
   "cell_type": "code",
   "execution_count": null,
   "id": "eca5106a-7a7c-42a7-9c6b-c8487cfe68ee",
   "metadata": {
    "scrolled": true,
    "vscode": {
     "languageId": "r"
    }
   },
   "outputs": [],
   "source": [
    "# New harmony Umap\n",
    "obj <- RunUMAP(obj, reduction = \"PCA\", dims = 1:75, n.components = 2L, local.connectivity = 1L,\n",
    "                  min.dist = 0.5, spread = 0.5,\n",
    "                     n.neighbors = 10,reduction.name = \"umap1\")\n",
    "obj <- RunUMAP(obj, reduction = \"PCA\", dims = 1:75, n.components = 2L, local.connectivity = 1L,\n",
    "                  min.dist = 0.4, spread = 0.5,\n",
    "                     n.neighbors = 10,reduction.name = \"umap2\")\n",
    "obj <- RunUMAP(obj, reduction = \"PCA\", dims = 1:75, n.components = 2L, local.connectivity = 1L,\n",
    "                  min.dist = 0.3, spread = 0.5,\n",
    "                     n.neighbors = 10,reduction.name = \"umap3\")"
   ]
  },
  {
   "cell_type": "code",
   "execution_count": null,
   "id": "86e8fcf5-e86e-4cbe-ae5d-a25cab2a12e5",
   "metadata": {
    "vscode": {
     "languageId": "r"
    }
   },
   "outputs": [],
   "source": [
    "options(repr.plot.width=25, repr.plot.height=15)\n",
    "DimPlot(obj, reduction = 'umap1', group.by = 'new_subclusters', label = T,label.size = 3, alpha=0.9, cols = rev(r3dcol$cols_46), repel= TRUE, label.box = FALSE )"
   ]
  },
  {
   "cell_type": "code",
   "execution_count": null,
   "id": "e565c059-1406-4252-b841-5c9657318bb8",
   "metadata": {
    "vscode": {
     "languageId": "r"
    }
   },
   "outputs": [],
   "source": [
    "options(repr.plot.width=25, repr.plot.height=15)\n",
    "DimPlot(obj, reduction = 'umap2', group.by = 'new_subclusters', label = T,label.size = 3, alpha=0.9, cols = rev(r3dcol$cols_46), repel= TRUE, label.box = FALSE )"
   ]
  },
  {
   "cell_type": "code",
   "execution_count": null,
   "id": "f48c4d1c-b907-48ab-9569-6177c7222b99",
   "metadata": {
    "vscode": {
     "languageId": "r"
    }
   },
   "outputs": [],
   "source": [
    "options(repr.plot.width=25, repr.plot.height=15)\n",
    "DimPlot(obj, reduction = 'umap3', group.by = 'new_subclusters', label = T,label.size = 3, alpha=0.9, cols = rev(r3dcol$cols_46), repel= TRUE, label.box = FALSE )"
   ]
  },
  {
   "cell_type": "code",
   "execution_count": null,
   "id": "e8b79b8b-9752-410e-8b2b-db86f1a8a4a4",
   "metadata": {
    "vscode": {
     "languageId": "r"
    }
   },
   "outputs": [],
   "source": [
    "saveRDS(obj, '../../cmo_version4.rds', compress = FALSE)"
   ]
  },
  {
   "cell_type": "code",
   "execution_count": null,
   "id": "f63875d7-15a4-4fa8-ac06-ccfa11e475fd",
   "metadata": {
    "vscode": {
     "languageId": "r"
    }
   },
   "outputs": [],
   "source": [
    "saveRDS(lm_obj, '../../cmo_latemesoderm.rds')"
   ]
  },
  {
   "cell_type": "code",
   "execution_count": null,
   "id": "bf78475b-3456-4d36-8274-68d8952ab76e",
   "metadata": {
    "vscode": {
     "languageId": "r"
    }
   },
   "outputs": [],
   "source": [
    "obj <- readRDS('../../cmo_version4.rds')"
   ]
  },
  {
   "cell_type": "code",
   "execution_count": null,
   "id": "c5169e02-76aa-4dfe-a11c-a9e786bec347",
   "metadata": {
    "vscode": {
     "languageId": "r"
    }
   },
   "outputs": [],
   "source": [
    "obj"
   ]
  },
  {
   "cell_type": "markdown",
   "id": "b81c48ab-b41e-4a08-8244-2d91d258f319",
   "metadata": {},
   "source": [
    "## Subsetting wt samples for the CMO object"
   ]
  },
  {
   "cell_type": "code",
   "execution_count": null,
   "id": "261944db-f17b-4255-827f-ee58656a0cec",
   "metadata": {
    "vscode": {
     "languageId": "r"
    }
   },
   "outputs": [],
   "source": [
    "table(obj$Conditions_lv)"
   ]
  },
  {
   "cell_type": "code",
   "execution_count": null,
   "id": "829fe587-a5fc-4913-bea5-042527e0900d",
   "metadata": {
    "vscode": {
     "languageId": "r"
    }
   },
   "outputs": [],
   "source": [
    "obj"
   ]
  },
  {
   "cell_type": "code",
   "execution_count": null,
   "id": "59567395-ca77-40f3-916c-0ef9d5f0572f",
   "metadata": {
    "vscode": {
     "languageId": "r"
    }
   },
   "outputs": [],
   "source": [
    "wt_obj <- subset(obj, subset = Conditions_lv %in% \"Control\" )"
   ]
  },
  {
   "cell_type": "code",
   "execution_count": null,
   "id": "a4d78e7c-8b6a-4199-b58b-5c1c5b463aca",
   "metadata": {
    "vscode": {
     "languageId": "r"
    }
   },
   "outputs": [],
   "source": [
    "wt_obj"
   ]
  },
  {
   "cell_type": "code",
   "execution_count": null,
   "id": "b6eee351-c44a-4314-b7ec-408b3fb6b9f0",
   "metadata": {
    "vscode": {
     "languageId": "r"
    }
   },
   "outputs": [],
   "source": [
    "table(wt_obj$new_subclusters_x)"
   ]
  },
  {
   "cell_type": "code",
   "execution_count": null,
   "id": "8f036967-5bb3-40d0-ab3e-144b04a3124d",
   "metadata": {
    "vscode": {
     "languageId": "r"
    }
   },
   "outputs": [],
   "source": [
    "Idents(wt_obj) <- wt_obj$new_subclusters_x"
   ]
  },
  {
   "cell_type": "code",
   "execution_count": null,
   "id": "a80ba87b-ba4f-4d9b-a00c-16dc667e15ef",
   "metadata": {
    "vscode": {
     "languageId": "r"
    }
   },
   "outputs": [],
   "source": [
    "options(repr.plot.width=5, repr.plot.height=10)\n",
    "DotPlot(wt_obj, features =  \"Atf3\", group.by = \"new_subclusters\")"
   ]
  },
  {
   "cell_type": "code",
   "execution_count": null,
   "id": "fac9b422-c8e4-4a22-8ab6-97e7682610ec",
   "metadata": {
    "vscode": {
     "languageId": "r"
    }
   },
   "outputs": [],
   "source": [
    "options(repr.plot.width=5, repr.plot.height=10)\n",
    "DotPlot(wt_obj, features =  \"Zfp711\", group.by = \"new_subclusters\")"
   ]
  },
  {
   "cell_type": "code",
   "execution_count": null,
   "id": "c6c591ce-27b4-4064-aac9-738142815c63",
   "metadata": {
    "vscode": {
     "languageId": "r"
    }
   },
   "outputs": [],
   "source": [
    "options(repr.plot.width=5, repr.plot.height=10)\n",
    "DotPlot(wt_obj, features =  \"Bcl6b\", group.by = \"new_subclusters\")"
   ]
  },
  {
   "cell_type": "markdown",
   "id": "8963553d-22c2-4355-8905-b6a0be06805c",
   "metadata": {},
   "source": [
    "# Heatmaps for the expression"
   ]
  },
  {
   "cell_type": "code",
   "execution_count": null,
   "id": "4793e972-3e26-4784-9dc2-252245c11981",
   "metadata": {
    "vscode": {
     "languageId": "r"
    }
   },
   "outputs": [],
   "source": [
    "library(pheatmap)"
   ]
  },
  {
   "cell_type": "markdown",
   "id": "dc3e4697-ede9-400c-ac21-0e0c134cd27d",
   "metadata": {},
   "source": [
    "## in vitro (CMO)"
   ]
  },
  {
   "cell_type": "code",
   "execution_count": null,
   "id": "df85d590-416f-4e6f-9749-da4160d7fe05",
   "metadata": {
    "vscode": {
     "languageId": "r"
    }
   },
   "outputs": [],
   "source": [
    "ko_genes <- c('Atf3')"
   ]
  },
  {
   "cell_type": "code",
   "execution_count": null,
   "id": "de350972-707f-4b85-9826-b2aba150147e",
   "metadata": {
    "vscode": {
     "languageId": "r"
    }
   },
   "outputs": [],
   "source": [
    "avg_ko <- AverageExpression(wt_obj,features = ko_genes, layer = 'counts',group.by =  'new_subclusters' )"
   ]
  },
  {
   "cell_type": "code",
   "execution_count": null,
   "id": "c1461ee6-c97f-4f10-a062-20af9d61f8af",
   "metadata": {
    "vscode": {
     "languageId": "r"
    }
   },
   "outputs": [],
   "source": [
    "avg_ko"
   ]
  },
  {
   "cell_type": "code",
   "execution_count": null,
   "id": "f1da2481-1a45-4cd9-a5aa-e29fc789cb31",
   "metadata": {
    "vscode": {
     "languageId": "r"
    }
   },
   "outputs": [],
   "source": [
    "dense_matrix<- as.matrix(avg_ko$RNA)"
   ]
  },
  {
   "cell_type": "code",
   "execution_count": null,
   "id": "8f7ca2bb-b476-4c82-8597-a6883ca8e31f",
   "metadata": {
    "vscode": {
     "languageId": "r"
    }
   },
   "outputs": [],
   "source": [
    "dense_matrix"
   ]
  },
  {
   "cell_type": "code",
   "execution_count": null,
   "id": "d6841ab4-5ae7-42ac-a4eb-0e2b7ea522a3",
   "metadata": {
    "vscode": {
     "languageId": "r"
    }
   },
   "outputs": [],
   "source": [
    "options(repr.plot.width=6.5, repr.plot.height=4)\n",
    "x <- pheatmap(\n",
    "  dense_matrix,\n",
    "  scale = \"row\",                        # Scale rows for normalization\n",
    "  clustering_distance_rows = \"euclidean\", # Cluster rows by Euclidean distance\n",
    "  cluster_rows = FALSE,                  # Enable row clustering\n",
    "  cluster_cols = FALSE,                 # Preserve column order\n",
    "  show_rownames = TRUE,                 # Display row names\n",
    "  show_colnames = TRUE,                 # Display column names\n",
    "  fontsize_row = 10,                     # Font size for row labels\n",
    "  fontsize_col = 10,                     # Font size for column labels\n",
    "  color = colorRampPalette(c(\"blue\", \"white\", \"red\"))(100),                 # Use viridis color palette\n",
    "  border_color = \"lightgrey\",                    # Remove cell borders for a cleaner look\n",
    "  cellwidth = 10,                       # Adjust cell width\n",
    "  cellheight = 12,                      # Adjust cell height\n",
    "  main = \"In vitro Average Expression of Atf3\" ,  # Add a title\n",
    ")"
   ]
  },
  {
   "cell_type": "code",
   "execution_count": null,
   "id": "796df8f9-0c12-43b0-84bb-56f2fa79d323",
   "metadata": {
    "vscode": {
     "languageId": "r"
    }
   },
   "outputs": [],
   "source": [
    "\n",
    "pdf(\"./figures_2/average_expression_Atf3_on_subclusters.pdf\",width = 6.5, height = 4)\n",
    "print(x)\n",
    "dev.off()   \n"
   ]
  },
  {
   "cell_type": "code",
   "execution_count": null,
   "id": "533fccfd-aaf0-4ee8-84c1-e8613c6b173a",
   "metadata": {
    "vscode": {
     "languageId": "r"
    }
   },
   "outputs": [],
   "source": [
    "png(\"./figures_2/average_expression_Atf3_on_subclusters.png\",width = 6.5, height = 4,units = 'in',res = 300)\n",
    "print(x)\n",
    "dev.off()   "
   ]
  },
  {
   "cell_type": "code",
   "execution_count": null,
   "id": "866409d5-3166-44e9-97d3-c18cde0719b6",
   "metadata": {
    "vscode": {
     "languageId": "r"
    }
   },
   "outputs": [],
   "source": []
  },
  {
   "cell_type": "code",
   "execution_count": null,
   "id": "65ff647f-3e7d-45b4-bf2a-784b2b9cc527",
   "metadata": {
    "vscode": {
     "languageId": "r"
    }
   },
   "outputs": [],
   "source": [
    "ko_genes <- c('Zfp711')"
   ]
  },
  {
   "cell_type": "code",
   "execution_count": null,
   "id": "5733e407-c10b-4b36-93a6-4ae448476601",
   "metadata": {
    "vscode": {
     "languageId": "r"
    }
   },
   "outputs": [],
   "source": [
    "avg_ko <- AverageExpression(wt_obj,features = ko_genes, layer = 'counts',group.by =  'new_subclusters' )"
   ]
  },
  {
   "cell_type": "code",
   "execution_count": null,
   "id": "8897bdc7-f615-4a01-a66c-9872f9395c19",
   "metadata": {
    "vscode": {
     "languageId": "r"
    }
   },
   "outputs": [],
   "source": [
    "avg_ko"
   ]
  },
  {
   "cell_type": "code",
   "execution_count": null,
   "id": "b6ab58e5-362e-4b19-a957-f4c116e51695",
   "metadata": {
    "vscode": {
     "languageId": "r"
    }
   },
   "outputs": [],
   "source": [
    "dense_matrix<- as.matrix(avg_ko$RNA)"
   ]
  },
  {
   "cell_type": "code",
   "execution_count": null,
   "id": "84686ddd-a682-4106-90ab-efa3a4ceeefc",
   "metadata": {
    "vscode": {
     "languageId": "r"
    }
   },
   "outputs": [],
   "source": [
    "dense_matrix"
   ]
  },
  {
   "cell_type": "code",
   "execution_count": null,
   "id": "7e02888c-8726-4ef7-8e29-9b2f3d4d4c93",
   "metadata": {
    "vscode": {
     "languageId": "r"
    }
   },
   "outputs": [],
   "source": [
    "options(repr.plot.width=6.5, repr.plot.height=4)\n",
    "x <- pheatmap(\n",
    "  dense_matrix,\n",
    "  scale = \"row\",                        # Scale rows for normalization\n",
    "  clustering_distance_rows = \"euclidean\", # Cluster rows by Euclidean distance\n",
    "  cluster_rows = FALSE,                  # Enable row clustering\n",
    "  cluster_cols = FALSE,                 # Preserve column order\n",
    "  show_rownames = TRUE,                 # Display row names\n",
    "  show_colnames = TRUE,                 # Display column names\n",
    "  fontsize_row = 10,                     # Font size for row labels\n",
    "  fontsize_col = 10,                     # Font size for column labels\n",
    "  color = colorRampPalette(c(\"blue\", \"white\", \"red\"))(100),                 # Use viridis color palette\n",
    "  border_color = \"lightgrey\",                    # Remove cell borders for a cleaner look\n",
    "  cellwidth = 10,                       # Adjust cell width\n",
    "  cellheight = 12,                      # Adjust cell height\n",
    "  main = \"In vitro Average Expression of Zfp711\" ,  # Add a title\n",
    ")"
   ]
  },
  {
   "cell_type": "code",
   "execution_count": null,
   "id": "9efb37a2-4dbe-4c3c-8470-c4436b4599e9",
   "metadata": {
    "vscode": {
     "languageId": "r"
    }
   },
   "outputs": [],
   "source": [
    "\n",
    "pdf(\"./figures_2/average_expression_Zfp711_on_subclusters.pdf\",width = 6.5, height = 4)\n",
    "print(x)\n",
    "dev.off()   \n"
   ]
  },
  {
   "cell_type": "code",
   "execution_count": null,
   "id": "e63d6cea-a8a0-446a-a839-92e19dc52508",
   "metadata": {
    "vscode": {
     "languageId": "r"
    }
   },
   "outputs": [],
   "source": [
    "png(\"./figures_2/average_expression_Zfp711_on_subclusters.png\",width = 6.5, height = 4,units = 'in',res = 300)\n",
    "print(x)\n",
    "dev.off()   "
   ]
  },
  {
   "cell_type": "code",
   "execution_count": null,
   "id": "e1a06cb3-96fd-442b-8d14-8f022a3c2216",
   "metadata": {
    "vscode": {
     "languageId": "r"
    }
   },
   "outputs": [],
   "source": [
    "ko_genes <- c('Bcl6b')"
   ]
  },
  {
   "cell_type": "code",
   "execution_count": null,
   "id": "60af94b8-a960-43a7-8be3-c40517966fc1",
   "metadata": {
    "vscode": {
     "languageId": "r"
    }
   },
   "outputs": [],
   "source": [
    "avg_ko <- AverageExpression(wt_obj,features = ko_genes, layer = 'counts',group.by =  'new_subclusters' )"
   ]
  },
  {
   "cell_type": "code",
   "execution_count": null,
   "id": "a62731fc-8321-455e-bfeb-f4e26d3c09be",
   "metadata": {
    "vscode": {
     "languageId": "r"
    }
   },
   "outputs": [],
   "source": [
    "avg_ko"
   ]
  },
  {
   "cell_type": "code",
   "execution_count": null,
   "id": "6537402c-e79c-4e6a-ade9-55d50856d267",
   "metadata": {
    "vscode": {
     "languageId": "r"
    }
   },
   "outputs": [],
   "source": [
    "dense_matrix<- as.matrix(avg_ko$RNA)"
   ]
  },
  {
   "cell_type": "code",
   "execution_count": null,
   "id": "d98181c3-a97f-4173-a064-43e1b4aac8c8",
   "metadata": {
    "vscode": {
     "languageId": "r"
    }
   },
   "outputs": [],
   "source": [
    "dense_matrix"
   ]
  },
  {
   "cell_type": "code",
   "execution_count": null,
   "id": "3d8988b7-4bf2-4b9b-9b9b-cc607087ba5e",
   "metadata": {
    "vscode": {
     "languageId": "r"
    }
   },
   "outputs": [],
   "source": [
    "options(repr.plot.width=6.5, repr.plot.height=4)\n",
    "x <- pheatmap(\n",
    "  dense_matrix,\n",
    "  scale = \"row\",                        # Scale rows for normalization\n",
    "  clustering_distance_rows = \"euclidean\", # Cluster rows by Euclidean distance\n",
    "  cluster_rows = FALSE,                  # Enable row clustering\n",
    "  cluster_cols = FALSE,                 # Preserve column order\n",
    "  show_rownames = TRUE,                 # Display row names\n",
    "  show_colnames = TRUE,                 # Display column names\n",
    "  fontsize_row = 10,                     # Font size for row labels\n",
    "  fontsize_col = 10,                     # Font size for column labels\n",
    "  color = colorRampPalette(c(\"blue\", \"white\", \"red\"))(100),                 # Use viridis color palette\n",
    "  border_color = \"lightgrey\",                    # Remove cell borders for a cleaner look\n",
    "  cellwidth = 10,                       # Adjust cell width\n",
    "  cellheight = 12,                      # Adjust cell height\n",
    "  main = \"In vitro Average Expression of Bcl6b\" ,  # Add a title\n",
    ")"
   ]
  },
  {
   "cell_type": "code",
   "execution_count": null,
   "id": "b82bd9c5-0a16-4ad3-abaa-f6b038d78ec7",
   "metadata": {
    "vscode": {
     "languageId": "r"
    }
   },
   "outputs": [],
   "source": [
    "\n",
    "pdf(\"./figures_2/average_expression_Bcl6b_on_subclusters.pdf\",width = 6.5, height = 4)\n",
    "print(x)\n",
    "dev.off()   \n"
   ]
  },
  {
   "cell_type": "code",
   "execution_count": null,
   "id": "076c8b76-ccd0-49e5-ad09-8a57bb8b2a53",
   "metadata": {
    "vscode": {
     "languageId": "r"
    }
   },
   "outputs": [],
   "source": [
    "png(\"./figures_2/average_expression_Bcl6b_on_subclusters.png\",width = 6.5, height = 4,units = 'in',res = 300)\n",
    "print(x)\n",
    "dev.off()   "
   ]
  },
  {
   "cell_type": "markdown",
   "id": "810c9d31-f9af-44ba-923f-a9ca15b69f92",
   "metadata": {},
   "source": [
    "### paralogs"
   ]
  },
  {
   "cell_type": "code",
   "execution_count": null,
   "id": "550fb774-3b11-41a4-a778-9ce1c954f539",
   "metadata": {
    "vscode": {
     "languageId": "r"
    }
   },
   "outputs": [],
   "source": [
    "# https://www.flyrnai.org/tools/paralogs/web/taxid/10090 (paralog and/ DIOPT score >=3)\n",
    "#https://www.genecards.org/#paralogs "
   ]
  },
  {
   "cell_type": "code",
   "execution_count": null,
   "id": "4da02ccb-9e5d-4346-8563-32b264e7332e",
   "metadata": {
    "vscode": {
     "languageId": "r"
    }
   },
   "outputs": [],
   "source": [
    "ko_genes <- c('Atf3','Jdp2','Batf3','Batf','Fosl1','Fosb','Fosl2')"
   ]
  },
  {
   "cell_type": "code",
   "execution_count": null,
   "id": "d42b483d-af60-40b1-8e9c-1ed39972a187",
   "metadata": {
    "vscode": {
     "languageId": "r"
    }
   },
   "outputs": [],
   "source": [
    "avg_ko <- AverageExpression(wt_obj,features = ko_genes, layer = 'counts',group.by =  'new_subclusters' )"
   ]
  },
  {
   "cell_type": "code",
   "execution_count": null,
   "id": "66dee574-14c7-484c-9d6d-fec0f125a913",
   "metadata": {
    "vscode": {
     "languageId": "r"
    }
   },
   "outputs": [],
   "source": [
    "avg_ko"
   ]
  },
  {
   "cell_type": "code",
   "execution_count": null,
   "id": "311497b9-343f-4677-92e7-bf0122a40262",
   "metadata": {
    "vscode": {
     "languageId": "r"
    }
   },
   "outputs": [],
   "source": [
    "dense_matrix<- as.matrix(avg_ko$RNA)"
   ]
  },
  {
   "cell_type": "code",
   "execution_count": null,
   "id": "f234fc0d-f1d5-4d94-a497-4ea7e621c62e",
   "metadata": {
    "vscode": {
     "languageId": "r"
    }
   },
   "outputs": [],
   "source": [
    "dense_matrix"
   ]
  },
  {
   "cell_type": "code",
   "execution_count": null,
   "id": "b37b39ff-c310-48d3-8f30-5811870dd3d5",
   "metadata": {
    "vscode": {
     "languageId": "r"
    }
   },
   "outputs": [],
   "source": [
    "options(repr.plot.width=6.5, repr.plot.height=4)\n",
    "x <- pheatmap(\n",
    "  dense_matrix,\n",
    "  scale = \"row\",                        # Scale rows for normalization\n",
    "  clustering_distance_rows = \"euclidean\", # Cluster rows by Euclidean distance\n",
    "  cluster_rows = FALSE,                  # Enable row clustering\n",
    "  cluster_cols = FALSE,                 # Preserve column order\n",
    "  show_rownames = TRUE,                 # Display row names\n",
    "  show_colnames = TRUE,                 # Display column names\n",
    "  fontsize_row = 10,                     # Font size for row labels\n",
    "  fontsize_col = 10,                     # Font size for column labels\n",
    "  color = colorRampPalette(c(\"blue\", \"white\", \"red\"))(100),                 # Use viridis color palette\n",
    "  border_color = \"lightgrey\",                    # Remove cell borders for a cleaner look\n",
    "  cellwidth = 10,                       # Adjust cell width\n",
    "  cellheight = 12,                      # Adjust cell height\n",
    "  main = \"In vitro Average Expression of Atf3 and Atf3 Paralogs\" ,  # Add a title\n",
    ")"
   ]
  },
  {
   "cell_type": "code",
   "execution_count": null,
   "id": "ec4f3b35-3d7c-4e33-8a19-1a9411be2820",
   "metadata": {
    "vscode": {
     "languageId": "r"
    }
   },
   "outputs": [],
   "source": [
    "\n",
    "pdf(\"./figures_2/average_expression_Atf3_and_Atf3_paralogs_on_subclusters.pdf\",width = 6.5, height = 4)\n",
    "print(x)\n",
    "dev.off()   \n"
   ]
  },
  {
   "cell_type": "code",
   "execution_count": null,
   "id": "c5ff8d4b-e922-456f-babf-dd7012cb8528",
   "metadata": {
    "vscode": {
     "languageId": "r"
    }
   },
   "outputs": [],
   "source": [
    "png(\"./figures_2/average_expression_Atf3_and_Atf3_paralogs_on_subclusters.png\",width = 6.5, height = 4,units = 'in',res = 300)\n",
    "print(x)\n",
    "dev.off()   "
   ]
  },
  {
   "cell_type": "code",
   "execution_count": null,
   "id": "4d99821c-564c-4295-9f10-419b4bbf03b4",
   "metadata": {
    "vscode": {
     "languageId": "r"
    }
   },
   "outputs": [],
   "source": []
  },
  {
   "cell_type": "code",
   "execution_count": null,
   "id": "90c4c86b-0b78-4ca3-a256-4cf59b83738b",
   "metadata": {
    "vscode": {
     "languageId": "r"
    }
   },
   "outputs": [],
   "source": [
    "ko_genes <- c('Zfp711','Zfy1','Zfy2','Zfx')"
   ]
  },
  {
   "cell_type": "code",
   "execution_count": null,
   "id": "740190f8-9510-4174-803d-4b85dee37184",
   "metadata": {
    "vscode": {
     "languageId": "r"
    }
   },
   "outputs": [],
   "source": [
    "avg_ko <- AverageExpression(wt_obj,features = ko_genes, layer = 'counts',group.by =  'new_subclusters' )"
   ]
  },
  {
   "cell_type": "code",
   "execution_count": null,
   "id": "859b44f2-cecc-48c9-8d71-d8fdd90db6be",
   "metadata": {
    "vscode": {
     "languageId": "r"
    }
   },
   "outputs": [],
   "source": [
    "avg_ko"
   ]
  },
  {
   "cell_type": "code",
   "execution_count": null,
   "id": "8dce1098-94ab-4b3e-bdee-5b35c9083968",
   "metadata": {
    "vscode": {
     "languageId": "r"
    }
   },
   "outputs": [],
   "source": [
    "dense_matrix<- as.matrix(avg_ko$RNA)"
   ]
  },
  {
   "cell_type": "code",
   "execution_count": null,
   "id": "feafadd4-5f05-46c7-855f-1979b27f6674",
   "metadata": {
    "vscode": {
     "languageId": "r"
    }
   },
   "outputs": [],
   "source": [
    "dense_matrix"
   ]
  },
  {
   "cell_type": "code",
   "execution_count": null,
   "id": "dcb4fec7-69ee-48d2-81fe-22a45e341e42",
   "metadata": {
    "vscode": {
     "languageId": "r"
    }
   },
   "outputs": [],
   "source": [
    "options(repr.plot.width=6.5, repr.plot.height=4)\n",
    "x <- pheatmap(\n",
    "  dense_matrix,\n",
    "  scale = \"row\",                        # Scale rows for normalization\n",
    "  clustering_distance_rows = \"euclidean\", # Cluster rows by Euclidean distance\n",
    "  cluster_rows = FALSE,                  # Enable row clustering\n",
    "  cluster_cols = FALSE,                 # Preserve column order\n",
    "  show_rownames = TRUE,                 # Display row names\n",
    "  show_colnames = TRUE,                 # Display column names\n",
    "  fontsize_row = 10,                     # Font size for row labels\n",
    "  fontsize_col = 10,                     # Font size for column labels\n",
    "  color = colorRampPalette(c(\"blue\", \"white\", \"red\"))(100),                 # Use viridis color palette\n",
    "  border_color = \"lightgrey\",                    # Remove cell borders for a cleaner look\n",
    "  cellwidth = 10,                       # Adjust cell width\n",
    "  cellheight = 12,                      # Adjust cell height\n",
    "  main = \"In vitro Average Expression of Zfp711 and Zfp711 Paralogs\" ,  # Add a title\n",
    ")"
   ]
  },
  {
   "cell_type": "code",
   "execution_count": null,
   "id": "8d2a3a4c-d625-49fc-ac78-62ef14cb13f9",
   "metadata": {
    "vscode": {
     "languageId": "r"
    }
   },
   "outputs": [],
   "source": [
    "\n",
    "pdf(\"./figures_2/average_expression_Zfp711_and_Zfp711_paralogs_on_subclusters.pdf\",width = 6.5, height = 4)\n",
    "print(x)\n",
    "dev.off()   \n"
   ]
  },
  {
   "cell_type": "code",
   "execution_count": null,
   "id": "acc15e99-6773-4af2-827c-b3ecb3a5e53a",
   "metadata": {
    "vscode": {
     "languageId": "r"
    }
   },
   "outputs": [],
   "source": [
    "png(\"./figures_2/average_expression_Zfp711_and_Zfp711_paralogs_on_subclusters.png\",width = 6.5, height = 4,units = 'in',res = 300)\n",
    "print(x)\n",
    "dev.off()   "
   ]
  },
  {
   "cell_type": "code",
   "execution_count": null,
   "id": "749a1289-0f36-49ac-a513-5bed2047f2e0",
   "metadata": {
    "vscode": {
     "languageId": "r"
    }
   },
   "outputs": [],
   "source": []
  },
  {
   "cell_type": "code",
   "execution_count": null,
   "id": "fa531661-8d9c-4737-8bd9-ad94c0d19eec",
   "metadata": {
    "vscode": {
     "languageId": "r"
    }
   },
   "outputs": [],
   "source": []
  },
  {
   "cell_type": "code",
   "execution_count": null,
   "id": "88ac198b-3ec7-4eb6-8144-df10398f0635",
   "metadata": {
    "vscode": {
     "languageId": "r"
    }
   },
   "outputs": [],
   "source": [
    "ko_genes <- c('Bcl6b','Bcl6')"
   ]
  },
  {
   "cell_type": "code",
   "execution_count": null,
   "id": "78601790-0850-4f05-b735-d1dfb087630d",
   "metadata": {
    "vscode": {
     "languageId": "r"
    }
   },
   "outputs": [],
   "source": [
    "avg_ko <- AverageExpression(wt_obj,features = ko_genes, layer = 'counts',group.by =  'new_subclusters' )"
   ]
  },
  {
   "cell_type": "code",
   "execution_count": null,
   "id": "3616b30e-70bf-43ab-8df9-3f4ff1062dd6",
   "metadata": {
    "vscode": {
     "languageId": "r"
    }
   },
   "outputs": [],
   "source": [
    "avg_ko"
   ]
  },
  {
   "cell_type": "code",
   "execution_count": null,
   "id": "a22a5a7e-4736-40be-bea9-8442cff01bf4",
   "metadata": {
    "vscode": {
     "languageId": "r"
    }
   },
   "outputs": [],
   "source": [
    "dense_matrix<- as.matrix(avg_ko$RNA)"
   ]
  },
  {
   "cell_type": "code",
   "execution_count": null,
   "id": "0bbf3b1a-2c09-4332-b793-39f958287232",
   "metadata": {
    "vscode": {
     "languageId": "r"
    }
   },
   "outputs": [],
   "source": [
    "dense_matrix"
   ]
  },
  {
   "cell_type": "code",
   "execution_count": null,
   "id": "915bed6e-55b1-4d5e-905c-1bfa45506770",
   "metadata": {
    "vscode": {
     "languageId": "r"
    }
   },
   "outputs": [],
   "source": [
    "options(repr.plot.width=6.5, repr.plot.height=4)\n",
    "x <- pheatmap(\n",
    "  dense_matrix,\n",
    "  scale = \"row\",                        # Scale rows for normalization\n",
    "  clustering_distance_rows = \"euclidean\", # Cluster rows by Euclidean distance\n",
    "  cluster_rows = FALSE,                  # Enable row clustering\n",
    "  cluster_cols = FALSE,                 # Preserve column order\n",
    "  show_rownames = TRUE,                 # Display row names\n",
    "  show_colnames = TRUE,                 # Display column names\n",
    "  fontsize_row = 10,                     # Font size for row labels\n",
    "  fontsize_col = 10,                     # Font size for column labels\n",
    "  color = colorRampPalette(c(\"blue\", \"white\", \"red\"))(100),                 # Use viridis color palette\n",
    "  border_color = \"lightgrey\",                    # Remove cell borders for a cleaner look\n",
    "  cellwidth = 10,                       # Adjust cell width\n",
    "  cellheight = 12,                      # Adjust cell height\n",
    "  main = \"In vitro Average Expression of Zfp711 and Zfp711 Paralogs\" ,  # Add a title\n",
    ")"
   ]
  },
  {
   "cell_type": "code",
   "execution_count": null,
   "id": "3c5b472f-f49d-4378-ac6d-0255d20dd984",
   "metadata": {
    "vscode": {
     "languageId": "r"
    }
   },
   "outputs": [],
   "source": [
    "\n",
    "pdf(\"./figures_2/average_expression_Bcl6b_and_Bcl6b_paralogs_on_subclusters.pdf\",width = 6.5, height = 4)\n",
    "print(x)\n",
    "dev.off()   \n"
   ]
  },
  {
   "cell_type": "code",
   "execution_count": null,
   "id": "8bf9a632-0f59-4cf1-8b64-a9cdb175cdbc",
   "metadata": {
    "vscode": {
     "languageId": "r"
    }
   },
   "outputs": [],
   "source": [
    "png(\"./figures_2/average_expression_Bcl6b_and_Bcl6b_paralogs_on_subclusters.png\",width = 6.5, height = 4,units = 'in',res = 300)\n",
    "print(x)\n",
    "dev.off()   "
   ]
  },
  {
   "cell_type": "markdown",
   "id": "141ade1f-774b-4c26-b633-e34f594abe7b",
   "metadata": {},
   "source": [
    "## in vivo (Atlas)"
   ]
  },
  {
   "cell_type": "code",
   "execution_count": null,
   "id": "a222dff8-d8e0-40b4-af0d-a7c8d19b85e1",
   "metadata": {
    "vscode": {
     "languageId": "r"
    }
   },
   "outputs": [],
   "source": [
    "atlas"
   ]
  },
  {
   "cell_type": "code",
   "execution_count": null,
   "id": "8ab0d253-2c8f-4a3e-a3a4-7d14d4c07658",
   "metadata": {
    "vscode": {
     "languageId": "r"
    }
   },
   "outputs": [],
   "source": [
    "ko_genes <- c('Atf3')"
   ]
  },
  {
   "cell_type": "code",
   "execution_count": null,
   "id": "aca59ce7-4141-4695-8070-dde19c63fadb",
   "metadata": {
    "vscode": {
     "languageId": "r"
    }
   },
   "outputs": [],
   "source": [
    "avg_ko <- AverageExpression(atlas,features = ko_genes, layer = 'counts',group.by =  'celltype_extended_atlas' )"
   ]
  },
  {
   "cell_type": "code",
   "execution_count": null,
   "id": "9a3089d1-7410-4fc6-94aa-1095424cfba8",
   "metadata": {
    "vscode": {
     "languageId": "r"
    }
   },
   "outputs": [],
   "source": [
    "avg_ko"
   ]
  },
  {
   "cell_type": "code",
   "execution_count": null,
   "id": "9e564f4f-7140-46d3-8859-e1c537fc424b",
   "metadata": {
    "vscode": {
     "languageId": "r"
    }
   },
   "outputs": [],
   "source": [
    "dense_matrix<- as.matrix(avg_ko$originalexp)"
   ]
  },
  {
   "cell_type": "code",
   "execution_count": null,
   "id": "53b71c87-7988-4cff-9dc5-faac27b16bfa",
   "metadata": {
    "vscode": {
     "languageId": "r"
    }
   },
   "outputs": [],
   "source": [
    "dense_matrix"
   ]
  },
  {
   "cell_type": "code",
   "execution_count": null,
   "id": "74406952-b9d9-4e83-a44b-b815e260eead",
   "metadata": {
    "vscode": {
     "languageId": "r"
    }
   },
   "outputs": [],
   "source": [
    "options(repr.plot.width = 14, repr.plot.height = 5 )\n",
    "x <- pheatmap(\n",
    "  dense_matrix,\n",
    "  scale = \"row\",                        # Scale rows for normalization\n",
    "  clustering_distance_rows = \"euclidean\", # Cluster rows by Euclidean distance\n",
    "  cluster_rows = FALSE,                  # Enable row clustering\n",
    "  cluster_cols = FALSE,                 # Preserve column order\n",
    "  show_rownames = TRUE,                 # Display row names\n",
    "  show_colnames = TRUE,                 # Display column names\n",
    "  fontsize_row = 10,                     # Font size for row labels\n",
    "  fontsize_col = 10,                     # Font size for column labels\n",
    "  color = colorRampPalette(c(\"blue\", \"white\", \"red\"))(100),                 # Use viridis color palette\n",
    "  border_color = \"lightgrey\",                    # Remove cell borders for a cleaner look\n",
    "  cellwidth = 10,                       # Adjust cell width\n",
    "  cellheight = 12,                      # Adjust cell height\n",
    "  main = \"In vivo Average Expression of Atf3\" ,  # Add a title\n",
    ")"
   ]
  },
  {
   "cell_type": "code",
   "execution_count": null,
   "id": "a6886081-8619-4e78-9e62-011ade73b32d",
   "metadata": {
    "vscode": {
     "languageId": "r"
    }
   },
   "outputs": [],
   "source": [
    "options(repr.plot.width = 14, repr.plot.height = 5 )\n",
    "print(x)"
   ]
  },
  {
   "cell_type": "code",
   "execution_count": null,
   "id": "c9c9dbd3-fa5a-486e-a3d8-a8e59c6fce27",
   "metadata": {
    "vscode": {
     "languageId": "r"
    }
   },
   "outputs": [],
   "source": [
    "\n",
    "pdf(\"./figures_2/average_expression_Atf3_atlas.pdf\",width = 14, height = 5)\n",
    "print(x)\n",
    "dev.off()   \n"
   ]
  },
  {
   "cell_type": "code",
   "execution_count": null,
   "id": "ba2a7674-31ac-446e-a716-5013270cf295",
   "metadata": {
    "vscode": {
     "languageId": "r"
    }
   },
   "outputs": [],
   "source": [
    "png(\"./figures_2/average_expression_Atf3_atlas.png\",width = 14, height = 5,units = 'in',res = 300)\n",
    "print(x)\n",
    "dev.off()   "
   ]
  },
  {
   "cell_type": "code",
   "execution_count": null,
   "id": "4c5c64e8-e465-489c-aa15-6d9394556d70",
   "metadata": {
    "vscode": {
     "languageId": "r"
    }
   },
   "outputs": [],
   "source": []
  },
  {
   "cell_type": "code",
   "execution_count": null,
   "id": "539e53e0-f9ae-45a5-86f6-69fa726e111e",
   "metadata": {
    "vscode": {
     "languageId": "r"
    }
   },
   "outputs": [],
   "source": [
    "ko_genes <- c('Zfp711')"
   ]
  },
  {
   "cell_type": "code",
   "execution_count": null,
   "id": "041b22c8-aba3-4799-8d9b-b623966319e5",
   "metadata": {
    "vscode": {
     "languageId": "r"
    }
   },
   "outputs": [],
   "source": [
    "avg_ko <- AverageExpression(atlas,features = ko_genes, layer = 'counts',group.by =  'celltype_extended_atlas' )"
   ]
  },
  {
   "cell_type": "code",
   "execution_count": null,
   "id": "0dbe12c9-6a31-41b3-a61c-6e859224abd8",
   "metadata": {
    "vscode": {
     "languageId": "r"
    }
   },
   "outputs": [],
   "source": [
    "avg_ko"
   ]
  },
  {
   "cell_type": "code",
   "execution_count": null,
   "id": "027d74cd-55d8-4280-b0cd-087c336613b9",
   "metadata": {
    "vscode": {
     "languageId": "r"
    }
   },
   "outputs": [],
   "source": [
    "dense_matrix<- as.matrix(avg_ko$originalexp)"
   ]
  },
  {
   "cell_type": "code",
   "execution_count": null,
   "id": "499493a5-8592-4f3c-8fd0-a34fc980eb38",
   "metadata": {
    "vscode": {
     "languageId": "r"
    }
   },
   "outputs": [],
   "source": [
    "dense_matrix"
   ]
  },
  {
   "cell_type": "code",
   "execution_count": null,
   "id": "df7ac9b0-c14e-417b-9994-a72059c747a1",
   "metadata": {
    "vscode": {
     "languageId": "r"
    }
   },
   "outputs": [],
   "source": [
    "options(repr.plot.width = 14, repr.plot.height = 5 )\n",
    "x <- pheatmap(\n",
    "  dense_matrix,\n",
    "  scale = \"row\",                        # Scale rows for normalization\n",
    "  clustering_distance_rows = \"euclidean\", # Cluster rows by Euclidean distance\n",
    "  cluster_rows = FALSE,                  # Enable row clustering\n",
    "  cluster_cols = FALSE,                 # Preserve column order\n",
    "  show_rownames = TRUE,                 # Display row names\n",
    "  show_colnames = TRUE,                 # Display column names\n",
    "  fontsize_row = 10,                     # Font size for row labels\n",
    "  fontsize_col = 10,                     # Font size for column labels\n",
    "  color = colorRampPalette(c(\"blue\", \"white\", \"red\"))(100),                 # Use viridis color palette\n",
    "  border_color = \"lightgrey\",                    # Remove cell borders for a cleaner look\n",
    "  cellwidth = 10,                       # Adjust cell width\n",
    "  cellheight = 12,                      # Adjust cell height\n",
    "  main = \"In vivo Average Expression of Zfp711\" ,  # Add a title\n",
    ")"
   ]
  },
  {
   "cell_type": "code",
   "execution_count": null,
   "id": "af56658f-46d3-40b2-b325-a642ed8bbc1e",
   "metadata": {
    "vscode": {
     "languageId": "r"
    }
   },
   "outputs": [],
   "source": [
    "options(repr.plot.width = 14, repr.plot.height = 5 )\n",
    "print(x)"
   ]
  },
  {
   "cell_type": "code",
   "execution_count": null,
   "id": "96815c93-8389-4621-a4ad-84fdbb3b82ef",
   "metadata": {
    "vscode": {
     "languageId": "r"
    }
   },
   "outputs": [],
   "source": [
    "\n",
    "pdf(\"./figures_2/average_expression_Zfp711_atlas.pdf\",width = 14, height = 5)\n",
    "print(x)\n",
    "dev.off()   \n"
   ]
  },
  {
   "cell_type": "code",
   "execution_count": null,
   "id": "6c26bcd6-3a95-461c-a3c9-df2b5485c268",
   "metadata": {
    "vscode": {
     "languageId": "r"
    }
   },
   "outputs": [],
   "source": [
    "png(\"./figures_2/average_expression_Zfp711_atlas.png\",width = 14, height = 5,units = 'in',res = 300)\n",
    "print(x)\n",
    "dev.off()   "
   ]
  },
  {
   "cell_type": "code",
   "execution_count": null,
   "id": "1a670d37-15cc-4618-b21d-9383e02a33bf",
   "metadata": {
    "vscode": {
     "languageId": "r"
    }
   },
   "outputs": [],
   "source": []
  },
  {
   "cell_type": "code",
   "execution_count": null,
   "id": "8c2c857e-f06a-40e2-9ccc-b61b99e28352",
   "metadata": {
    "vscode": {
     "languageId": "r"
    }
   },
   "outputs": [],
   "source": []
  },
  {
   "cell_type": "code",
   "execution_count": null,
   "id": "44b4acc0-b636-47b8-a813-81651a8ef3d4",
   "metadata": {
    "vscode": {
     "languageId": "r"
    }
   },
   "outputs": [],
   "source": [
    "ko_genes <- c('Bcl6b')"
   ]
  },
  {
   "cell_type": "code",
   "execution_count": null,
   "id": "4f83160c-5d46-4711-a0b0-872757570437",
   "metadata": {
    "vscode": {
     "languageId": "r"
    }
   },
   "outputs": [],
   "source": [
    "avg_ko <- AverageExpression(atlas,features = ko_genes, layer = 'counts',group.by =  'celltype_extended_atlas' )"
   ]
  },
  {
   "cell_type": "code",
   "execution_count": null,
   "id": "6788acc6-ca25-4ea6-b3b6-83981a5c49e9",
   "metadata": {
    "vscode": {
     "languageId": "r"
    }
   },
   "outputs": [],
   "source": [
    "avg_ko"
   ]
  },
  {
   "cell_type": "code",
   "execution_count": null,
   "id": "e4bee582-cdda-4406-b3a0-324c67acaa16",
   "metadata": {
    "vscode": {
     "languageId": "r"
    }
   },
   "outputs": [],
   "source": [
    "dense_matrix<- as.matrix(avg_ko$originalexp)"
   ]
  },
  {
   "cell_type": "code",
   "execution_count": null,
   "id": "0571a165-f9f3-4011-9907-cbcb9b0643fc",
   "metadata": {
    "vscode": {
     "languageId": "r"
    }
   },
   "outputs": [],
   "source": [
    "dense_matrix"
   ]
  },
  {
   "cell_type": "code",
   "execution_count": null,
   "id": "f75bc1d2-1855-4861-aa44-6803e019b208",
   "metadata": {
    "vscode": {
     "languageId": "r"
    }
   },
   "outputs": [],
   "source": [
    "options(repr.plot.width = 14, repr.plot.height = 5 )\n",
    "x <- pheatmap(\n",
    "  dense_matrix,\n",
    "  scale = \"row\",                        # Scale rows for normalization\n",
    "  clustering_distance_rows = \"euclidean\", # Cluster rows by Euclidean distance\n",
    "  cluster_rows = FALSE,                  # Enable row clustering\n",
    "  cluster_cols = FALSE,                 # Preserve column order\n",
    "  show_rownames = TRUE,                 # Display row names\n",
    "  show_colnames = TRUE,                 # Display column names\n",
    "  fontsize_row = 10,                     # Font size for row labels\n",
    "  fontsize_col = 10,                     # Font size for column labels\n",
    "  color = colorRampPalette(c(\"blue\", \"white\", \"red\"))(100),                 # Use viridis color palette\n",
    "  border_color = \"lightgrey\",                    # Remove cell borders for a cleaner look\n",
    "  cellwidth = 10,                       # Adjust cell width\n",
    "  cellheight = 12,                      # Adjust cell height\n",
    "  main = \"In vivo Average Expression of Bcl6b\" ,  # Add a title\n",
    ")"
   ]
  },
  {
   "cell_type": "code",
   "execution_count": null,
   "id": "a27c96bb-0e8d-4ad4-a687-b1d4e0396071",
   "metadata": {
    "vscode": {
     "languageId": "r"
    }
   },
   "outputs": [],
   "source": [
    "options(repr.plot.width = 14, repr.plot.height = 5 )\n",
    "print(x)"
   ]
  },
  {
   "cell_type": "code",
   "execution_count": null,
   "id": "c62622f4-fa26-4e78-a011-8be404bf037e",
   "metadata": {
    "vscode": {
     "languageId": "r"
    }
   },
   "outputs": [],
   "source": [
    "\n",
    "pdf(\"./figures_2/average_expression_Bcl6b_atlas.pdf\",width = 14, height = 5)\n",
    "print(x)\n",
    "dev.off()   \n"
   ]
  },
  {
   "cell_type": "code",
   "execution_count": null,
   "id": "8170d967-3241-42ef-af6e-40f6aa9bc037",
   "metadata": {
    "vscode": {
     "languageId": "r"
    }
   },
   "outputs": [],
   "source": [
    "png(\"./figures_2/average_expression_Bcl6b_atlas.png\",width = 14, height = 5,units = 'in',res = 300)\n",
    "print(x)\n",
    "dev.off()   "
   ]
  },
  {
   "cell_type": "markdown",
   "id": "03bed712-988b-492e-a2ff-346f54628717",
   "metadata": {},
   "source": [
    "### paralogs"
   ]
  },
  {
   "cell_type": "code",
   "execution_count": null,
   "id": "cff947fd-4d11-4695-9f9c-ff7a0376ac9a",
   "metadata": {
    "vscode": {
     "languageId": "r"
    }
   },
   "outputs": [],
   "source": [
    "ko_genes <- c('Atf3','Jdp2','Batf3','Batf','Fosl1','Fosb','Fosl2')"
   ]
  },
  {
   "cell_type": "code",
   "execution_count": null,
   "id": "75916da3-226c-4037-ade5-9df049af76f1",
   "metadata": {
    "vscode": {
     "languageId": "r"
    }
   },
   "outputs": [],
   "source": [
    "avg_ko <- AverageExpression(atlas,features = ko_genes, layer = 'counts',group.by =  'celltype_extended_atlas' )"
   ]
  },
  {
   "cell_type": "code",
   "execution_count": null,
   "id": "4209e43e-e61a-48e3-af65-87230c4f28b8",
   "metadata": {
    "scrolled": true,
    "vscode": {
     "languageId": "r"
    }
   },
   "outputs": [],
   "source": [
    "avg_ko"
   ]
  },
  {
   "cell_type": "code",
   "execution_count": null,
   "id": "527accc2-5fa2-469e-b24c-a1128cf1b9fa",
   "metadata": {
    "vscode": {
     "languageId": "r"
    }
   },
   "outputs": [],
   "source": [
    "dense_matrix<- as.matrix(avg_ko$originalexp)"
   ]
  },
  {
   "cell_type": "code",
   "execution_count": null,
   "id": "1d578b4c-5611-4ce5-9080-2c93e5232492",
   "metadata": {
    "vscode": {
     "languageId": "r"
    }
   },
   "outputs": [],
   "source": [
    "dense_matrix"
   ]
  },
  {
   "cell_type": "code",
   "execution_count": null,
   "id": "9013246b-efef-44f9-b843-23b7f4b18cd0",
   "metadata": {
    "vscode": {
     "languageId": "r"
    }
   },
   "outputs": [],
   "source": [
    "options(repr.plot.width = 14, repr.plot.height = 5 )\n",
    "x <- pheatmap(\n",
    "  dense_matrix,\n",
    "  scale = \"row\",                        # Scale rows for normalization\n",
    "  clustering_distance_rows = \"euclidean\", # Cluster rows by Euclidean distance\n",
    "  cluster_rows = FALSE,                  # Enable row clustering\n",
    "  cluster_cols = FALSE,                 # Preserve column order\n",
    "  show_rownames = TRUE,                 # Display row names\n",
    "  show_colnames = TRUE,                 # Display column names\n",
    "  fontsize_row = 10,                     # Font size for row labels\n",
    "  fontsize_col = 10,                     # Font size for column labels\n",
    "  color = colorRampPalette(c(\"blue\", \"white\", \"red\"))(100),                 # Use viridis color palette\n",
    "  border_color = \"lightgrey\",                    # Remove cell borders for a cleaner look\n",
    "  cellwidth = 10,                       # Adjust cell width\n",
    "  cellheight = 12,                      # Adjust cell height\n",
    "  main = \"In vivo Average Expression of Atf3 and Atf3 Paralogs\" ,  # Add a title\n",
    ")"
   ]
  },
  {
   "cell_type": "code",
   "execution_count": null,
   "id": "0c5e4467-8f74-44c4-829b-c68cb362d98f",
   "metadata": {
    "vscode": {
     "languageId": "r"
    }
   },
   "outputs": [],
   "source": [
    "options(repr.plot.width = 14, repr.plot.height = 5 )\n",
    "print(x)"
   ]
  },
  {
   "cell_type": "code",
   "execution_count": null,
   "id": "6bd37faa-f086-42a6-a754-cd169e197ec3",
   "metadata": {
    "vscode": {
     "languageId": "r"
    }
   },
   "outputs": [],
   "source": [
    "\n",
    "pdf(\"./figures_2/average_expression_Atf3_and_Atf3_paralogs_atlas.pdf\",width = 14, height = 5)\n",
    "print(x)\n",
    "dev.off()   \n"
   ]
  },
  {
   "cell_type": "code",
   "execution_count": null,
   "id": "4fd18d46-335e-49f2-ae9f-ede7c1004e7a",
   "metadata": {
    "vscode": {
     "languageId": "r"
    }
   },
   "outputs": [],
   "source": [
    "png(\"./figures_2/average_expression_Atf3_and_Atf3_paralogs_atlas.png\",width = 14, height = 5,units = 'in',res = 300)\n",
    "print(x)\n",
    "dev.off()   "
   ]
  },
  {
   "cell_type": "code",
   "execution_count": null,
   "id": "7fbb5e80-a9d5-4880-a706-49de2d3b4df4",
   "metadata": {
    "vscode": {
     "languageId": "r"
    }
   },
   "outputs": [],
   "source": []
  },
  {
   "cell_type": "code",
   "execution_count": null,
   "id": "6aed6bab-5c4e-4b4b-b3e8-d6f6d6682919",
   "metadata": {
    "vscode": {
     "languageId": "r"
    }
   },
   "outputs": [],
   "source": [
    "ko_genes <- c('Zfp711','Zfy1','Zfy2','Zfx')"
   ]
  },
  {
   "cell_type": "code",
   "execution_count": null,
   "id": "ae3e871a-07fc-4664-8da5-e2f20a266ec6",
   "metadata": {
    "vscode": {
     "languageId": "r"
    }
   },
   "outputs": [],
   "source": [
    "avg_ko <- AverageExpression(atlas,features = ko_genes, layer = 'counts',group.by =  'celltype_extended_atlas' )"
   ]
  },
  {
   "cell_type": "code",
   "execution_count": null,
   "id": "9878f194-a5cd-4e0b-bc69-a28b8012db60",
   "metadata": {
    "scrolled": true,
    "vscode": {
     "languageId": "r"
    }
   },
   "outputs": [],
   "source": [
    "avg_ko"
   ]
  },
  {
   "cell_type": "code",
   "execution_count": null,
   "id": "47aeca95-9012-443b-9a7a-5f4f9dbbb4f4",
   "metadata": {
    "vscode": {
     "languageId": "r"
    }
   },
   "outputs": [],
   "source": [
    "dense_matrix<- as.matrix(avg_ko$originalexp)"
   ]
  },
  {
   "cell_type": "code",
   "execution_count": null,
   "id": "d85c0a3e-1067-45fe-9248-2ff34feffef1",
   "metadata": {
    "vscode": {
     "languageId": "r"
    }
   },
   "outputs": [],
   "source": [
    "dense_matrix"
   ]
  },
  {
   "cell_type": "code",
   "execution_count": null,
   "id": "f6311a9f-9c19-4c44-8980-d4af7e23ea7e",
   "metadata": {
    "vscode": {
     "languageId": "r"
    }
   },
   "outputs": [],
   "source": [
    "options(repr.plot.width = 14, repr.plot.height = 5 )\n",
    "x <- pheatmap(\n",
    "  dense_matrix,\n",
    "  scale = \"row\",                        # Scale rows for normalization\n",
    "  clustering_distance_rows = \"euclidean\", # Cluster rows by Euclidean distance\n",
    "  cluster_rows = FALSE,                  # Enable row clustering\n",
    "  cluster_cols = FALSE,                 # Preserve column order\n",
    "  show_rownames = TRUE,                 # Display row names\n",
    "  show_colnames = TRUE,                 # Display column names\n",
    "  fontsize_row = 10,                     # Font size for row labels\n",
    "  fontsize_col = 10,                     # Font size for column labels\n",
    "  color = colorRampPalette(c(\"blue\", \"white\", \"red\"))(100),                 # Use viridis color palette\n",
    "  border_color = \"lightgrey\",                    # Remove cell borders for a cleaner look\n",
    "  cellwidth = 10,                       # Adjust cell width\n",
    "  cellheight = 12,                      # Adjust cell height\n",
    "  main = \"In vivo Average Expression of Zfp711 and Zfp711 Paralogs\" ,  # Add a title\n",
    ")"
   ]
  },
  {
   "cell_type": "code",
   "execution_count": null,
   "id": "4ec9b7cd-1d83-428f-8bb0-1faf614b7562",
   "metadata": {
    "vscode": {
     "languageId": "r"
    }
   },
   "outputs": [],
   "source": [
    "options(repr.plot.width = 14, repr.plot.height = 5 )\n",
    "print(x)"
   ]
  },
  {
   "cell_type": "code",
   "execution_count": null,
   "id": "61b007c8-14df-405b-a446-36bfd782a518",
   "metadata": {
    "vscode": {
     "languageId": "r"
    }
   },
   "outputs": [],
   "source": [
    "\n",
    "pdf(\"./figures_2/average_expression_Zfp711_and_Zfp711_paralogs_atlas.pdf\",width = 14, height = 5)\n",
    "print(x)\n",
    "dev.off()   \n"
   ]
  },
  {
   "cell_type": "code",
   "execution_count": null,
   "id": "f2e22b48-4c9f-4c9d-84d5-d8b577c5da94",
   "metadata": {
    "vscode": {
     "languageId": "r"
    }
   },
   "outputs": [],
   "source": [
    "png(\"./figures_2/average_expression_Zfp711_and_Zfp711_paralogs_atlas.png\",width = 14, height = 5,units = 'in',res = 300)\n",
    "print(x)\n",
    "dev.off()   "
   ]
  },
  {
   "cell_type": "code",
   "execution_count": null,
   "id": "9389a339-b5b6-449e-b578-975e12eec070",
   "metadata": {
    "vscode": {
     "languageId": "r"
    }
   },
   "outputs": [],
   "source": []
  },
  {
   "cell_type": "code",
   "execution_count": null,
   "id": "91f7e6e8-4fc7-48c8-a421-73074970954e",
   "metadata": {
    "vscode": {
     "languageId": "r"
    }
   },
   "outputs": [],
   "source": [
    "ko_genes <- c('Bcl6b','Bcl6')"
   ]
  },
  {
   "cell_type": "code",
   "execution_count": null,
   "id": "06691540-369a-4df8-8152-7a0c80713753",
   "metadata": {
    "vscode": {
     "languageId": "r"
    }
   },
   "outputs": [],
   "source": [
    "avg_ko <- AverageExpression(atlas,features = ko_genes, layer = 'counts',group.by =  'celltype_extended_atlas' )"
   ]
  },
  {
   "cell_type": "code",
   "execution_count": null,
   "id": "205c4efc-dba1-4336-97bd-46b547c053aa",
   "metadata": {
    "scrolled": true,
    "vscode": {
     "languageId": "r"
    }
   },
   "outputs": [],
   "source": [
    "avg_ko"
   ]
  },
  {
   "cell_type": "code",
   "execution_count": null,
   "id": "45361f9c-df37-475c-9ceb-372b40a81f08",
   "metadata": {
    "vscode": {
     "languageId": "r"
    }
   },
   "outputs": [],
   "source": [
    "dense_matrix<- as.matrix(avg_ko$originalexp)"
   ]
  },
  {
   "cell_type": "code",
   "execution_count": null,
   "id": "24589cf1-7cdb-43da-9836-66968b879ca0",
   "metadata": {
    "vscode": {
     "languageId": "r"
    }
   },
   "outputs": [],
   "source": [
    "dense_matrix"
   ]
  },
  {
   "cell_type": "code",
   "execution_count": null,
   "id": "b3db9a0b-b257-4d68-9e10-9ad901ad4eb6",
   "metadata": {
    "vscode": {
     "languageId": "r"
    }
   },
   "outputs": [],
   "source": [
    "options(repr.plot.width = 14, repr.plot.height = 5 )\n",
    "x <- pheatmap(\n",
    "  dense_matrix,\n",
    "  scale = \"row\",                        # Scale rows for normalization\n",
    "  clustering_distance_rows = \"euclidean\", # Cluster rows by Euclidean distance\n",
    "  cluster_rows = FALSE,                  # Enable row clustering\n",
    "  cluster_cols = FALSE,                 # Preserve column order\n",
    "  show_rownames = TRUE,                 # Display row names\n",
    "  show_colnames = TRUE,                 # Display column names\n",
    "  fontsize_row = 10,                     # Font size for row labels\n",
    "  fontsize_col = 10,                     # Font size for column labels\n",
    "  color = colorRampPalette(c(\"blue\", \"white\", \"red\"))(100),                 # Use viridis color palette\n",
    "  border_color = \"lightgrey\",                    # Remove cell borders for a cleaner look\n",
    "  cellwidth = 10,                       # Adjust cell width\n",
    "  cellheight = 12,                      # Adjust cell height\n",
    "  main = \"In vivo Average Expression of Bcl6b and Bcl6 Paralogs\" ,  # Add a title\n",
    ")"
   ]
  },
  {
   "cell_type": "code",
   "execution_count": null,
   "id": "44d81874-edf1-4945-8f0e-18b6c7454dc4",
   "metadata": {
    "vscode": {
     "languageId": "r"
    }
   },
   "outputs": [],
   "source": [
    "options(repr.plot.width = 14, repr.plot.height = 5 )\n",
    "print(x)"
   ]
  },
  {
   "cell_type": "code",
   "execution_count": null,
   "id": "d8e2b0c7-fe0b-4f76-aa43-575cd0a6aa33",
   "metadata": {
    "vscode": {
     "languageId": "r"
    }
   },
   "outputs": [],
   "source": [
    "\n",
    "pdf(\"./figures_2/average_expression_Bcl6b_and_Bcl6_paralogs_atlas.pdf\",width = 14, height = 5)\n",
    "print(x)\n",
    "dev.off()   \n"
   ]
  },
  {
   "cell_type": "code",
   "execution_count": null,
   "id": "045cb514-bdfb-41a7-9167-77dfac444e0d",
   "metadata": {
    "vscode": {
     "languageId": "r"
    }
   },
   "outputs": [],
   "source": [
    "png(\"./figures_2/average_expression_Bcl6b_and_Bcl6_paralogs_atlas.png\",width = 14, height = 5,units = 'in',res = 300)\n",
    "print(x)\n",
    "dev.off()   "
   ]
  },
  {
   "cell_type": "markdown",
   "id": "e8667869-f6c0-489f-a2ef-89b34fb9e9a1",
   "metadata": {},
   "source": [
    "# Stages, Somite and Anatomy (Atlas-in vivo)"
   ]
  },
  {
   "cell_type": "code",
   "execution_count": null,
   "id": "011d6fb3-769a-42c0-8a61-ca5e756e57cb",
   "metadata": {
    "vscode": {
     "languageId": "r"
    }
   },
   "outputs": [],
   "source": [
    "# Specify the desired order of the levels\n",
    "stage_levels <- c(\n",
    "  \"E6.5\", \"E7.0\", \"E7.25\", \"E7.5\", \"E7.75\", \"E8.0\", \"E8.25\", \"E8.5\",\n",
    "  \"E8.75\", \"E9.0\", \"E9.25\", \"E9.5\", \"Mixed gastrulation\"\n",
    ")"
   ]
  },
  {
   "cell_type": "code",
   "execution_count": null,
   "id": "cbf70bd4-ae4a-4c5e-9b56-e53cdfbd9f7f",
   "metadata": {
    "vscode": {
     "languageId": "r"
    }
   },
   "outputs": [],
   "source": [
    "atlas$stage_lv <-factor(atlas$stage, levels = stage_levels)\n",
    "\n",
    "# Check that the levels are correct\n",
    "table(atlas$stage_lv, useNA = \"always\")\n"
   ]
  },
  {
   "cell_type": "code",
   "execution_count": null,
   "id": "275d4a64-c783-4b53-b4a2-82dad8b652f4",
   "metadata": {
    "vscode": {
     "languageId": "r"
    }
   },
   "outputs": [],
   "source": [
    "# Specify the desired order (spelling corrected and capitalized)\n",
    "anatomy_levels <- c(\n",
    "  \"Pooled\", \n",
    "  \"YS\", \n",
    "  \"EP\", \n",
    "  \"Anterior\", \n",
    "  \"Posterior\", \n",
    "  \"Anterior section\", \n",
    "  \"Medial section\", \n",
    "  \"Posterior section\"\n",
    ")\n",
    "\n",
    "# Create new factor column with ordered levels\n",
    "atlas$anatomy_lv <- factor(\n",
    "  atlas$anatomy,\n",
    "  levels = anatomy_levels\n",
    ")\n",
    "\n",
    "# Check the result\n",
    "table(atlas$anatomy_lv , useNA = \"always\")\n"
   ]
  },
  {
   "cell_type": "code",
   "execution_count": null,
   "id": "d5f969f4-84ec-44bf-b86a-3d6eb60cbfeb",
   "metadata": {
    "vscode": {
     "languageId": "r"
    }
   },
   "outputs": [],
   "source": [
    "table(atlas$somite_count)"
   ]
  },
  {
   "cell_type": "code",
   "execution_count": null,
   "id": "8d1e0e15-b111-4895-9a68-6e96e26cde35",
   "metadata": {
    "vscode": {
     "languageId": "r"
    }
   },
   "outputs": [],
   "source": [
    "# Specify the desired level order (numbers as characters, pooled last)\n",
    "somite_levels <- c(\n",
    "  \"6\", \"7\", \"8\", \"10\", \"12\",\"13\", \"14\", \"15\", \"16\", \"18\", \n",
    "  \"20\", \"21\", \"22\", \"23\", \"24\", \"Pooled\"\n",
    ")\n",
    "\n",
    "# Create new factor column with ordered levels\n",
    "atlas$somite_count_lv <- factor(\n",
    "  atlas$somite_count,\n",
    "  levels = somite_levels\n",
    ")\n",
    "\n",
    "# Check the result\n",
    "table(atlas$somite_count_lv, useNA = \"always\")\n"
   ]
  },
  {
   "cell_type": "code",
   "execution_count": null,
   "id": "4d279303-49a3-4344-b844-357ff62bedf4",
   "metadata": {
    "vscode": {
     "languageId": "r"
    }
   },
   "outputs": [],
   "source": [
    "ko_genes <- \"Atf3\""
   ]
  },
  {
   "cell_type": "code",
   "execution_count": null,
   "id": "f3cf3970-c11d-4043-882e-86f6b76c0af9",
   "metadata": {
    "vscode": {
     "languageId": "r"
    }
   },
   "outputs": [],
   "source": [
    "avg_ko <- AverageExpression(atlas,features = ko_genes, layer = 'counts',group.by =  'stage_lv' )"
   ]
  },
  {
   "cell_type": "code",
   "execution_count": null,
   "id": "d7e5411b-9504-4ccf-9bb7-ee5f82d38668",
   "metadata": {
    "vscode": {
     "languageId": "r"
    }
   },
   "outputs": [],
   "source": [
    "avg_ko"
   ]
  },
  {
   "cell_type": "code",
   "execution_count": null,
   "id": "225a8cd4-e451-40d1-b41a-dd2ec832c274",
   "metadata": {
    "vscode": {
     "languageId": "r"
    }
   },
   "outputs": [],
   "source": [
    "dense_matrix<- as.matrix(avg_ko$originalexp)"
   ]
  },
  {
   "cell_type": "code",
   "execution_count": null,
   "id": "d1ecc22d-5084-4073-97f6-e7c3f850b96b",
   "metadata": {
    "vscode": {
     "languageId": "r"
    }
   },
   "outputs": [],
   "source": [
    "dense_matrix"
   ]
  },
  {
   "cell_type": "code",
   "execution_count": null,
   "id": "776b52ee-93c7-4829-be07-e24ae5e63d7d",
   "metadata": {
    "vscode": {
     "languageId": "r"
    }
   },
   "outputs": [],
   "source": [
    "x <- pheatmap(\n",
    "  dense_matrix,\n",
    "  scale = \"row\",                        # Scale rows for normalization\n",
    "  clustering_distance_rows = \"euclidean\", # Cluster rows by Euclidean distance\n",
    "  cluster_rows = FALSE,                  # Enable row clustering\n",
    "  cluster_cols = FALSE,                 # Preserve column order\n",
    "  show_rownames = TRUE,                 # Display row names\n",
    "  show_colnames = TRUE,                 # Display column names\n",
    "  fontsize_row = 10,                     # Font size for row labels\n",
    "  fontsize_col = 10,                     # Font size for column labels\n",
    "  color = colorRampPalette(c(\"blue\", \"white\", \"red\"))(100),                 # Use viridis color palette\n",
    "  border_color = \"lightgrey\",                    # Remove cell borders for a cleaner look\n",
    "  cellwidth = 10,                       # Adjust cell width\n",
    "  cellheight = 12,                      # Adjust cell height\n",
    "  main = \"In vivo Atf3 Average Expression\\n Embryonic Stage\" ,  # Add a title\n",
    ")"
   ]
  },
  {
   "cell_type": "code",
   "execution_count": null,
   "id": "90fd0d1e-dcaf-492e-a850-0e34f87d63a4",
   "metadata": {
    "vscode": {
     "languageId": "r"
    }
   },
   "outputs": [],
   "source": [
    "options(repr.plot.width = 6.4, repr.plot.height = 5 )\n",
    "print(x)"
   ]
  },
  {
   "cell_type": "code",
   "execution_count": null,
   "id": "cc29547d-dcca-4166-b4e0-2beb766ee18c",
   "metadata": {
    "vscode": {
     "languageId": "r"
    }
   },
   "outputs": [],
   "source": [
    "\n",
    "pdf(\"./figures_2/average_expression_atlas_Atf3_embryonic_stage.pdf\",width = 6.4, height = 5)\n",
    "print(x)\n",
    "dev.off()   \n"
   ]
  },
  {
   "cell_type": "code",
   "execution_count": null,
   "id": "2241bf8c-4595-41c9-beea-00694b5e1e84",
   "metadata": {
    "vscode": {
     "languageId": "r"
    }
   },
   "outputs": [],
   "source": [
    "\n",
    "png(\"./figures_2/average_expression_atlas_Atf3_embryonic_stage.png\",width = 6.4, height = 5,res = 300, units = 'in')\n",
    "print(x)\n",
    "dev.off()   \n"
   ]
  },
  {
   "cell_type": "code",
   "execution_count": null,
   "id": "2f8285d7-178e-4370-9790-bb9ab703ccbc",
   "metadata": {
    "vscode": {
     "languageId": "r"
    }
   },
   "outputs": [],
   "source": []
  },
  {
   "cell_type": "code",
   "execution_count": null,
   "id": "66f9d4e3-8d1d-414e-846d-e789ec4ec8fe",
   "metadata": {
    "vscode": {
     "languageId": "r"
    }
   },
   "outputs": [],
   "source": []
  },
  {
   "cell_type": "code",
   "execution_count": null,
   "id": "d4db2d69-86bb-40bf-a942-565dedb1e3c2",
   "metadata": {
    "vscode": {
     "languageId": "r"
    }
   },
   "outputs": [],
   "source": [
    "ko_genes <- \"Bcl6b\""
   ]
  },
  {
   "cell_type": "code",
   "execution_count": null,
   "id": "2604997f-ef45-41ec-8e8e-e75b7c5a58d5",
   "metadata": {
    "vscode": {
     "languageId": "r"
    }
   },
   "outputs": [],
   "source": [
    "avg_ko <- AverageExpression(atlas,features = ko_genes, layer = 'counts',group.by =  'stage_lv' )"
   ]
  },
  {
   "cell_type": "code",
   "execution_count": null,
   "id": "8c2b72ea-d645-4b9f-b992-941b92bcb7eb",
   "metadata": {
    "vscode": {
     "languageId": "r"
    }
   },
   "outputs": [],
   "source": [
    "avg_ko"
   ]
  },
  {
   "cell_type": "code",
   "execution_count": null,
   "id": "220fef29-a1f8-44dd-86cb-5c3b6177930d",
   "metadata": {
    "vscode": {
     "languageId": "r"
    }
   },
   "outputs": [],
   "source": [
    "dense_matrix<- as.matrix(avg_ko$originalexp)"
   ]
  },
  {
   "cell_type": "code",
   "execution_count": null,
   "id": "321d59d8-40f7-45f6-9328-f643a6c6c300",
   "metadata": {
    "vscode": {
     "languageId": "r"
    }
   },
   "outputs": [],
   "source": [
    "dense_matrix"
   ]
  },
  {
   "cell_type": "code",
   "execution_count": null,
   "id": "bff884c7-0889-45e6-8fc1-c9f2b78a93ed",
   "metadata": {
    "vscode": {
     "languageId": "r"
    }
   },
   "outputs": [],
   "source": [
    "x <- pheatmap(\n",
    "  dense_matrix,\n",
    "  scale = \"row\",                        # Scale rows for normalization\n",
    "  clustering_distance_rows = \"euclidean\", # Cluster rows by Euclidean distance\n",
    "  cluster_rows = FALSE,                  # Enable row clustering\n",
    "  cluster_cols = FALSE,                 # Preserve column order\n",
    "  show_rownames = TRUE,                 # Display row names\n",
    "  show_colnames = TRUE,                 # Display column names\n",
    "  fontsize_row = 10,                     # Font size for row labels\n",
    "  fontsize_col = 10,                     # Font size for column labels\n",
    "  color = colorRampPalette(c(\"blue\", \"white\", \"red\"))(100),                 # Use viridis color palette\n",
    "  border_color = \"lightgrey\",                    # Remove cell borders for a cleaner look\n",
    "  cellwidth = 10,                       # Adjust cell width\n",
    "  cellheight = 12,                      # Adjust cell height\n",
    "  main = \"In vivo Bcl6b Average Expression\\n Embryonic Stage\" ,  # Add a title\n",
    ")"
   ]
  },
  {
   "cell_type": "code",
   "execution_count": null,
   "id": "0b00eb6b-cfea-4733-bab2-da4eaa0bd771",
   "metadata": {
    "vscode": {
     "languageId": "r"
    }
   },
   "outputs": [],
   "source": [
    "options(repr.plot.width = 6.4, repr.plot.height = 5 )\n",
    "print(x)"
   ]
  },
  {
   "cell_type": "code",
   "execution_count": null,
   "id": "90805f7c-aa20-4ed1-b6db-de5c70a64303",
   "metadata": {
    "vscode": {
     "languageId": "r"
    }
   },
   "outputs": [],
   "source": [
    "\n",
    "pdf(\"./figures_2/average_expression_atlas_Bcl6b_embryonic_stage.pdf\",width = 6.4, height = 5)\n",
    "print(x)\n",
    "dev.off()   \n"
   ]
  },
  {
   "cell_type": "code",
   "execution_count": null,
   "id": "cbdc2440-e2ca-4664-8b81-c610f345858d",
   "metadata": {
    "vscode": {
     "languageId": "r"
    }
   },
   "outputs": [],
   "source": [
    "\n",
    "png(\"./figures_2/average_expression_atlas_Bcl6b_embryonic_stage.png\",width = 6.4, height = 5,res = 300, units = 'in')\n",
    "print(x)\n",
    "dev.off()   \n"
   ]
  },
  {
   "cell_type": "code",
   "execution_count": null,
   "id": "96c4ec03-0dc1-4d95-b62d-5ea46bda7adb",
   "metadata": {
    "vscode": {
     "languageId": "r"
    }
   },
   "outputs": [],
   "source": []
  },
  {
   "cell_type": "code",
   "execution_count": null,
   "id": "2d40443b-509d-4c29-875a-3d34f7627804",
   "metadata": {
    "vscode": {
     "languageId": "r"
    }
   },
   "outputs": [],
   "source": []
  },
  {
   "cell_type": "code",
   "execution_count": null,
   "id": "2d821e7a-6e67-4b27-b8e3-5ea4c7c0c24e",
   "metadata": {
    "vscode": {
     "languageId": "r"
    }
   },
   "outputs": [],
   "source": [
    "ko_genes <- \"Zfp711\""
   ]
  },
  {
   "cell_type": "code",
   "execution_count": null,
   "id": "aebdd572-aa4a-4a4f-b9cc-5449b1dd05bf",
   "metadata": {
    "vscode": {
     "languageId": "r"
    }
   },
   "outputs": [],
   "source": [
    "avg_ko <- AverageExpression(atlas,features = ko_genes, layer = 'counts',group.by =  'stage_lv' )"
   ]
  },
  {
   "cell_type": "code",
   "execution_count": null,
   "id": "5e6dd2e7-b676-4352-9eaf-bd88e828b8ab",
   "metadata": {
    "vscode": {
     "languageId": "r"
    }
   },
   "outputs": [],
   "source": [
    "avg_ko"
   ]
  },
  {
   "cell_type": "code",
   "execution_count": null,
   "id": "c20d70ac-928b-40c0-a8ee-243a9cd8605f",
   "metadata": {
    "vscode": {
     "languageId": "r"
    }
   },
   "outputs": [],
   "source": [
    "dense_matrix<- as.matrix(avg_ko$originalexp)"
   ]
  },
  {
   "cell_type": "code",
   "execution_count": null,
   "id": "dca6f656-836d-4fdc-b907-51eeb6a90474",
   "metadata": {
    "vscode": {
     "languageId": "r"
    }
   },
   "outputs": [],
   "source": [
    "dense_matrix"
   ]
  },
  {
   "cell_type": "code",
   "execution_count": null,
   "id": "1af88112-5523-49b0-ae39-471be0078c1e",
   "metadata": {
    "vscode": {
     "languageId": "r"
    }
   },
   "outputs": [],
   "source": [
    "x <- pheatmap(\n",
    "  dense_matrix,\n",
    "  scale = \"row\",                        # Scale rows for normalization\n",
    "  clustering_distance_rows = \"euclidean\", # Cluster rows by Euclidean distance\n",
    "  cluster_rows = FALSE,                  # Enable row clustering\n",
    "  cluster_cols = FALSE,                 # Preserve column order\n",
    "  show_rownames = TRUE,                 # Display row names\n",
    "  show_colnames = TRUE,                 # Display column names\n",
    "  fontsize_row = 10,                     # Font size for row labels\n",
    "  fontsize_col = 10,                     # Font size for column labels\n",
    "  color = colorRampPalette(c(\"blue\", \"white\", \"red\"))(100),                 # Use viridis color palette\n",
    "  border_color = \"lightgrey\",                    # Remove cell borders for a cleaner look\n",
    "  cellwidth = 10,                       # Adjust cell width\n",
    "  cellheight = 12,                      # Adjust cell height\n",
    "  main = \"In vivo Zfp711 Average Expression\\n Embryonic Stage\" ,  # Add a title\n",
    ")"
   ]
  },
  {
   "cell_type": "code",
   "execution_count": null,
   "id": "6e547361-2f6e-49c6-a267-11642d5a2efc",
   "metadata": {
    "vscode": {
     "languageId": "r"
    }
   },
   "outputs": [],
   "source": [
    "options(repr.plot.width = 6.4, repr.plot.height = 5 )\n",
    "print(x)"
   ]
  },
  {
   "cell_type": "code",
   "execution_count": null,
   "id": "dd987c18-7473-4f9d-b934-df934923e18d",
   "metadata": {
    "vscode": {
     "languageId": "r"
    }
   },
   "outputs": [],
   "source": [
    "\n",
    "pdf(\"./figures_2/average_expression_atlas_Zfp711_embryonic_stage.pdf\",width = 6.4, height = 5)\n",
    "print(x)\n",
    "dev.off()   \n"
   ]
  },
  {
   "cell_type": "code",
   "execution_count": null,
   "id": "c8606d1b-9b9f-4991-a62f-e184d1c0ae46",
   "metadata": {
    "vscode": {
     "languageId": "r"
    }
   },
   "outputs": [],
   "source": [
    "\n",
    "png(\"./figures_2/average_expression_atlas_Zfp711_embryonic_stage.png\",width = 6.4, height = 5,res = 300, units = 'in')\n",
    "print(x)\n",
    "dev.off()   \n"
   ]
  },
  {
   "cell_type": "code",
   "execution_count": null,
   "id": "1a004843-3048-4002-b882-5bdf2a7a893b",
   "metadata": {
    "vscode": {
     "languageId": "r"
    }
   },
   "outputs": [],
   "source": []
  },
  {
   "cell_type": "code",
   "execution_count": null,
   "id": "c1ef7dfc-08da-4caa-acb0-517777289d2b",
   "metadata": {
    "vscode": {
     "languageId": "r"
    }
   },
   "outputs": [],
   "source": [
    "ko_genes <- \"Atf3\""
   ]
  },
  {
   "cell_type": "code",
   "execution_count": null,
   "id": "1abfc7d4-b7bd-45bc-ba51-029141aefb10",
   "metadata": {
    "vscode": {
     "languageId": "r"
    }
   },
   "outputs": [],
   "source": [
    "avg_ko <- AverageExpression(atlas,features = ko_genes, layer = 'counts',group.by =  'anatomy_lv' )"
   ]
  },
  {
   "cell_type": "code",
   "execution_count": null,
   "id": "24e47658-fa40-40a8-8011-d879d6994820",
   "metadata": {
    "vscode": {
     "languageId": "r"
    }
   },
   "outputs": [],
   "source": [
    "avg_ko"
   ]
  },
  {
   "cell_type": "code",
   "execution_count": null,
   "id": "f9e518b9-1a39-40b4-b914-8feae0887ef4",
   "metadata": {
    "vscode": {
     "languageId": "r"
    }
   },
   "outputs": [],
   "source": [
    "dense_matrix<- as.matrix(avg_ko$originalexp)"
   ]
  },
  {
   "cell_type": "code",
   "execution_count": null,
   "id": "f16fa21e-cab1-4d54-9224-ff02bf21584e",
   "metadata": {
    "vscode": {
     "languageId": "r"
    }
   },
   "outputs": [],
   "source": [
    "dense_matrix"
   ]
  },
  {
   "cell_type": "code",
   "execution_count": null,
   "id": "595bc0a6-e70a-4bcf-bd92-10804a05a5df",
   "metadata": {
    "vscode": {
     "languageId": "r"
    }
   },
   "outputs": [],
   "source": [
    "x <- pheatmap(\n",
    "  dense_matrix,\n",
    "  scale = \"row\",                        # Scale rows for normalization\n",
    "  clustering_distance_rows = \"euclidean\", # Cluster rows by Euclidean distance\n",
    "  cluster_rows = FALSE,                  # Enable row clustering\n",
    "  cluster_cols = FALSE,                 # Preserve column order\n",
    "  show_rownames = TRUE,                 # Display row names\n",
    "  show_colnames = TRUE,                 # Display column names\n",
    "  fontsize_row = 10,                     # Font size for row labels\n",
    "  fontsize_col = 10,                     # Font size for column labels\n",
    "  color = colorRampPalette(c(\"blue\", \"white\", \"red\"))(100),                 # Use viridis color palette\n",
    "  border_color = \"lightgrey\",                    # Remove cell borders for a cleaner look\n",
    "  cellwidth = 10,                       # Adjust cell width\n",
    "  cellheight = 12,                      # Adjust cell height\n",
    "  main = \"In vivo Atf3 Average Expression\\n Anatomic Location\" ,  # Add a title\n",
    ")"
   ]
  },
  {
   "cell_type": "code",
   "execution_count": null,
   "id": "b757b7dc-746f-46ef-b24e-dc90f0cbe5f3",
   "metadata": {
    "vscode": {
     "languageId": "r"
    }
   },
   "outputs": [],
   "source": [
    "options(repr.plot.width = 6.4, repr.plot.height = 5 )\n",
    "print(x)"
   ]
  },
  {
   "cell_type": "code",
   "execution_count": null,
   "id": "dfb1bc8a-ea47-4ac4-89c7-e17d26ca6d27",
   "metadata": {
    "vscode": {
     "languageId": "r"
    }
   },
   "outputs": [],
   "source": [
    "\n",
    "pdf(\"./figures_2/average_expression_atlas_Atf3_anatomy.pdf\",width = 6.4, height = 5)\n",
    "print(x)\n",
    "dev.off()   \n"
   ]
  },
  {
   "cell_type": "code",
   "execution_count": null,
   "id": "9338f6bb-6ba3-49a0-86fc-9d8721d69336",
   "metadata": {
    "vscode": {
     "languageId": "r"
    }
   },
   "outputs": [],
   "source": [
    "\n",
    "png(\"./figures_2/average_expression_atlas_Atf3_anatomy.png\",width = 6.4, height = 5,res = 300, units = 'in')\n",
    "print(x)\n",
    "dev.off()   \n"
   ]
  },
  {
   "cell_type": "code",
   "execution_count": null,
   "id": "1c412f5e-668a-4720-bd8b-250e5a6d2c11",
   "metadata": {
    "vscode": {
     "languageId": "r"
    }
   },
   "outputs": [],
   "source": []
  },
  {
   "cell_type": "code",
   "execution_count": null,
   "id": "963671f9-a840-4ae7-8f2b-d78d5a1318b4",
   "metadata": {
    "vscode": {
     "languageId": "r"
    }
   },
   "outputs": [],
   "source": []
  },
  {
   "cell_type": "code",
   "execution_count": null,
   "id": "ee356975-7e5a-431c-95a9-702df5e17825",
   "metadata": {
    "vscode": {
     "languageId": "r"
    }
   },
   "outputs": [],
   "source": [
    "ko_genes <- \"Zfp711\""
   ]
  },
  {
   "cell_type": "code",
   "execution_count": null,
   "id": "3b856476-94f4-4dd1-b845-2929dc3882fa",
   "metadata": {
    "vscode": {
     "languageId": "r"
    }
   },
   "outputs": [],
   "source": [
    "avg_ko <- AverageExpression(atlas,features = ko_genes, layer = 'counts',group.by =  'anatomy_lv' )"
   ]
  },
  {
   "cell_type": "code",
   "execution_count": null,
   "id": "28d1eada-c570-42d6-b994-05b0843a22ee",
   "metadata": {
    "vscode": {
     "languageId": "r"
    }
   },
   "outputs": [],
   "source": [
    "avg_ko"
   ]
  },
  {
   "cell_type": "code",
   "execution_count": null,
   "id": "f4901a9d-8599-433e-b026-9cd599b261c0",
   "metadata": {
    "vscode": {
     "languageId": "r"
    }
   },
   "outputs": [],
   "source": [
    "dense_matrix<- as.matrix(avg_ko$originalexp)"
   ]
  },
  {
   "cell_type": "code",
   "execution_count": null,
   "id": "16dea45a-fd8e-4664-87cc-67837e048e54",
   "metadata": {
    "vscode": {
     "languageId": "r"
    }
   },
   "outputs": [],
   "source": [
    "dense_matrix"
   ]
  },
  {
   "cell_type": "code",
   "execution_count": null,
   "id": "67556437-e069-4652-aee3-b6c9048363f5",
   "metadata": {
    "vscode": {
     "languageId": "r"
    }
   },
   "outputs": [],
   "source": [
    "x <- pheatmap(\n",
    "  dense_matrix,\n",
    "  scale = \"row\",                        # Scale rows for normalization\n",
    "  clustering_distance_rows = \"euclidean\", # Cluster rows by Euclidean distance\n",
    "  cluster_rows = FALSE,                  # Enable row clustering\n",
    "  cluster_cols = FALSE,                 # Preserve column order\n",
    "  show_rownames = TRUE,                 # Display row names\n",
    "  show_colnames = TRUE,                 # Display column names\n",
    "  fontsize_row = 10,                     # Font size for row labels\n",
    "  fontsize_col = 10,                     # Font size for column labels\n",
    "  color = colorRampPalette(c(\"blue\", \"white\", \"red\"))(100),                 # Use viridis color palette\n",
    "  border_color = \"lightgrey\",                    # Remove cell borders for a cleaner look\n",
    "  cellwidth = 10,                       # Adjust cell width\n",
    "  cellheight = 12,                      # Adjust cell height\n",
    "  main = \"In vivo Zfp711 Average Expression\\n Anatomic Location\" ,  # Add a title\n",
    ")"
   ]
  },
  {
   "cell_type": "code",
   "execution_count": null,
   "id": "89666c3f-e380-433b-a5d8-d3fb72cee860",
   "metadata": {
    "vscode": {
     "languageId": "r"
    }
   },
   "outputs": [],
   "source": [
    "options(repr.plot.width = 6.4, repr.plot.height = 5 )\n",
    "print(x)"
   ]
  },
  {
   "cell_type": "code",
   "execution_count": null,
   "id": "5c8fa1f8-e31e-482b-b74c-445e9fa81495",
   "metadata": {
    "vscode": {
     "languageId": "r"
    }
   },
   "outputs": [],
   "source": [
    "\n",
    "pdf(\"./figures_2/average_expression_atlas_Zfp711_anatomy.pdf\",width = 6.4, height = 5)\n",
    "print(x)\n",
    "dev.off()   \n"
   ]
  },
  {
   "cell_type": "code",
   "execution_count": null,
   "id": "415f0a11-3ba7-45c3-855e-a11fcd281737",
   "metadata": {
    "vscode": {
     "languageId": "r"
    }
   },
   "outputs": [],
   "source": [
    "\n",
    "png(\"./figures_2/average_expression_atlas_Zfp711_anatomy.png\",width = 6.4, height = 5,res = 300, units = 'in')\n",
    "print(x)\n",
    "dev.off()   \n"
   ]
  },
  {
   "cell_type": "code",
   "execution_count": null,
   "id": "de8c082e-a57f-44b0-b25d-c8ca1c902ef5",
   "metadata": {
    "vscode": {
     "languageId": "r"
    }
   },
   "outputs": [],
   "source": []
  },
  {
   "cell_type": "code",
   "execution_count": null,
   "id": "03fd83b8-365c-4e3e-b642-c3efa1e5477d",
   "metadata": {
    "vscode": {
     "languageId": "r"
    }
   },
   "outputs": [],
   "source": [
    "ko_genes <- \"Bcl6b\""
   ]
  },
  {
   "cell_type": "code",
   "execution_count": null,
   "id": "e2b1d560-99e6-43f7-a7b6-000ac05c9133",
   "metadata": {
    "vscode": {
     "languageId": "r"
    }
   },
   "outputs": [],
   "source": [
    "avg_ko <- AverageExpression(atlas,features = ko_genes, layer = 'counts',group.by =  'anatomy_lv' )"
   ]
  },
  {
   "cell_type": "code",
   "execution_count": null,
   "id": "ea854e54-e1a7-4f93-9289-99776177315e",
   "metadata": {
    "vscode": {
     "languageId": "r"
    }
   },
   "outputs": [],
   "source": [
    "avg_ko"
   ]
  },
  {
   "cell_type": "code",
   "execution_count": null,
   "id": "81ed0be2-3c5f-493b-8876-d72dd0378264",
   "metadata": {
    "vscode": {
     "languageId": "r"
    }
   },
   "outputs": [],
   "source": [
    "dense_matrix<- as.matrix(avg_ko$originalexp)"
   ]
  },
  {
   "cell_type": "code",
   "execution_count": null,
   "id": "46331d4d-24c9-4586-a79b-c3eef8d4e24c",
   "metadata": {
    "vscode": {
     "languageId": "r"
    }
   },
   "outputs": [],
   "source": [
    "dense_matrix"
   ]
  },
  {
   "cell_type": "code",
   "execution_count": null,
   "id": "ef5fc038-01dd-486f-8c9e-161520e76b6a",
   "metadata": {
    "vscode": {
     "languageId": "r"
    }
   },
   "outputs": [],
   "source": [
    "x <- pheatmap(\n",
    "  dense_matrix,\n",
    "  scale = \"row\",                        # Scale rows for normalization\n",
    "  clustering_distance_rows = \"euclidean\", # Cluster rows by Euclidean distance\n",
    "  cluster_rows = FALSE,                  # Enable row clustering\n",
    "  cluster_cols = FALSE,                 # Preserve column order\n",
    "  show_rownames = TRUE,                 # Display row names\n",
    "  show_colnames = TRUE,                 # Display column names\n",
    "  fontsize_row = 10,                     # Font size for row labels\n",
    "  fontsize_col = 10,                     # Font size for column labels\n",
    "  color = colorRampPalette(c(\"blue\", \"white\", \"red\"))(100),                 # Use viridis color palette\n",
    "  border_color = \"lightgrey\",                    # Remove cell borders for a cleaner look\n",
    "  cellwidth = 10,                       # Adjust cell width\n",
    "  cellheight = 12,                      # Adjust cell height\n",
    "  main = \"In vivo Bcl6b Average Expression\\n Anatomic Location\" ,  # Add a title\n",
    ")"
   ]
  },
  {
   "cell_type": "code",
   "execution_count": null,
   "id": "0c6b1f1c-e734-4588-9e3c-5e6be8678676",
   "metadata": {
    "vscode": {
     "languageId": "r"
    }
   },
   "outputs": [],
   "source": [
    "options(repr.plot.width = 6.4, repr.plot.height = 5 )\n",
    "print(x)"
   ]
  },
  {
   "cell_type": "code",
   "execution_count": null,
   "id": "aa59f967-722a-4a99-b422-c3ad249c90ec",
   "metadata": {
    "vscode": {
     "languageId": "r"
    }
   },
   "outputs": [],
   "source": [
    "\n",
    "pdf(\"./figures_2/average_expression_atlas_Bcl6b_anatomy.pdf\",width = 6.4, height = 5)\n",
    "print(x)\n",
    "dev.off()   \n"
   ]
  },
  {
   "cell_type": "code",
   "execution_count": null,
   "id": "afe6da9d-080d-4d3a-8387-2330da7c7041",
   "metadata": {
    "vscode": {
     "languageId": "r"
    }
   },
   "outputs": [],
   "source": [
    "\n",
    "png(\"./figures_2/average_expression_atlas_Bcl6b_anatomy.png\",width = 6.4, height = 5,res = 300, units = 'in')\n",
    "print(x)\n",
    "dev.off()   \n"
   ]
  },
  {
   "cell_type": "code",
   "execution_count": null,
   "id": "5d62578b-50fe-43f7-9644-31a5a95a42b8",
   "metadata": {
    "vscode": {
     "languageId": "r"
    }
   },
   "outputs": [],
   "source": []
  },
  {
   "cell_type": "code",
   "execution_count": null,
   "id": "fb8bab0d-2c58-4e22-b258-a82fd1e1ffb0",
   "metadata": {
    "vscode": {
     "languageId": "r"
    }
   },
   "outputs": [],
   "source": [
    "ko_genes <- \"Atf3\""
   ]
  },
  {
   "cell_type": "code",
   "execution_count": null,
   "id": "cf290270-1b74-4220-a721-aa2fed4d88ce",
   "metadata": {
    "vscode": {
     "languageId": "r"
    }
   },
   "outputs": [],
   "source": [
    "avg_ko <- AverageExpression(atlas,features = ko_genes, layer = 'counts',group.by =  'somite_count_lv' )"
   ]
  },
  {
   "cell_type": "code",
   "execution_count": null,
   "id": "62cdfc55-b0b1-44d4-a5fb-0b4000885ea1",
   "metadata": {
    "vscode": {
     "languageId": "r"
    }
   },
   "outputs": [],
   "source": [
    "avg_ko"
   ]
  },
  {
   "cell_type": "code",
   "execution_count": null,
   "id": "fdc68981-a0cb-43e7-bcc8-e6586774b933",
   "metadata": {
    "vscode": {
     "languageId": "r"
    }
   },
   "outputs": [],
   "source": [
    "dense_matrix<- as.matrix(avg_ko$originalexp)"
   ]
  },
  {
   "cell_type": "code",
   "execution_count": null,
   "id": "78b35fdc-b20e-4433-ad42-8997ca433ca4",
   "metadata": {
    "vscode": {
     "languageId": "r"
    }
   },
   "outputs": [],
   "source": [
    "dense_matrix"
   ]
  },
  {
   "cell_type": "code",
   "execution_count": null,
   "id": "abcfcfa4-f266-4026-ab6d-deffd29fd5e1",
   "metadata": {
    "vscode": {
     "languageId": "r"
    }
   },
   "outputs": [],
   "source": [
    "x <- pheatmap(\n",
    "  dense_matrix,\n",
    "  scale = \"row\",                        # Scale rows for normalization\n",
    "  clustering_distance_rows = \"euclidean\", # Cluster rows by Euclidean distance\n",
    "  cluster_rows = FALSE,                  # Enable row clustering\n",
    "  cluster_cols = FALSE,                 # Preserve column order\n",
    "  show_rownames = TRUE,                 # Display row names\n",
    "  show_colnames = TRUE,                 # Display column names\n",
    "  fontsize_row = 10,                     # Font size for row labels\n",
    "  fontsize_col = 10,                     # Font size for column labels\n",
    "  color = colorRampPalette(c(\"blue\", \"white\", \"red\"))(100),                 # Use viridis color palette\n",
    "  border_color = \"lightgrey\",                    # Remove cell borders for a cleaner look\n",
    "  cellwidth = 10,                       # Adjust cell width\n",
    "  cellheight = 12,                      # Adjust cell height\n",
    "  main = \"In vivo Atf3 Average Expression\\n Somite Count\" ,  # Add a title\n",
    ")"
   ]
  },
  {
   "cell_type": "code",
   "execution_count": null,
   "id": "869964fd-5663-4069-b9f9-49c03b05ee8f",
   "metadata": {
    "vscode": {
     "languageId": "r"
    }
   },
   "outputs": [],
   "source": [
    "options(repr.plot.width = 6.4, repr.plot.height = 5 )\n",
    "print(x)"
   ]
  },
  {
   "cell_type": "code",
   "execution_count": null,
   "id": "ab58f92d-0a70-4372-a1a0-fa634c0afec1",
   "metadata": {
    "vscode": {
     "languageId": "r"
    }
   },
   "outputs": [],
   "source": [
    "\n",
    "pdf(\"./figures_2/average_expression_atlas_Atf3_somite_count.pdf\",width = 6.4, height = 5)\n",
    "print(x)\n",
    "dev.off()   \n"
   ]
  },
  {
   "cell_type": "code",
   "execution_count": null,
   "id": "488bb4d0-9599-44f6-b929-75611fd540c9",
   "metadata": {
    "vscode": {
     "languageId": "r"
    }
   },
   "outputs": [],
   "source": [
    "\n",
    "png(\"./figures_2/average_expression_atlas_Atf3_count.png\",width = 6.4, height = 5,res = 300, units = 'in')\n",
    "print(x)\n",
    "dev.off()   \n"
   ]
  },
  {
   "cell_type": "code",
   "execution_count": null,
   "id": "b8c86235-f1e6-49e5-944a-54c83347b15b",
   "metadata": {
    "vscode": {
     "languageId": "r"
    }
   },
   "outputs": [],
   "source": []
  },
  {
   "cell_type": "code",
   "execution_count": null,
   "id": "ec833236-bace-40d5-b0fb-d1f16ed51521",
   "metadata": {
    "vscode": {
     "languageId": "r"
    }
   },
   "outputs": [],
   "source": []
  },
  {
   "cell_type": "code",
   "execution_count": null,
   "id": "c52dd39d-3d69-424b-b3e1-3f07d5aa7e5b",
   "metadata": {
    "vscode": {
     "languageId": "r"
    }
   },
   "outputs": [],
   "source": [
    "ko_genes <- \"Zfp711\""
   ]
  },
  {
   "cell_type": "code",
   "execution_count": null,
   "id": "8653ce6e-c305-4cb4-84fa-d0caf24f5c86",
   "metadata": {
    "vscode": {
     "languageId": "r"
    }
   },
   "outputs": [],
   "source": [
    "avg_ko <- AverageExpression(atlas,features = ko_genes, layer = 'counts',group.by =  'somite_count_lv' )"
   ]
  },
  {
   "cell_type": "code",
   "execution_count": null,
   "id": "941774c5-3d08-4f7a-ab0e-be2aec5ac44d",
   "metadata": {
    "vscode": {
     "languageId": "r"
    }
   },
   "outputs": [],
   "source": [
    "avg_ko"
   ]
  },
  {
   "cell_type": "code",
   "execution_count": null,
   "id": "abb3c707-c54e-40b6-b9e4-f6d0cfd15924",
   "metadata": {
    "vscode": {
     "languageId": "r"
    }
   },
   "outputs": [],
   "source": [
    "dense_matrix<- as.matrix(avg_ko$originalexp)"
   ]
  },
  {
   "cell_type": "code",
   "execution_count": null,
   "id": "8416d732-f91b-47d9-909c-e5ce66ce1e1f",
   "metadata": {
    "vscode": {
     "languageId": "r"
    }
   },
   "outputs": [],
   "source": [
    "dense_matrix"
   ]
  },
  {
   "cell_type": "code",
   "execution_count": null,
   "id": "8bb47677-0972-4f8b-ac3a-393f5a959434",
   "metadata": {
    "vscode": {
     "languageId": "r"
    }
   },
   "outputs": [],
   "source": [
    "x <- pheatmap(\n",
    "  dense_matrix,\n",
    "  scale = \"row\",                        # Scale rows for normalization\n",
    "  clustering_distance_rows = \"euclidean\", # Cluster rows by Euclidean distance\n",
    "  cluster_rows = FALSE,                  # Enable row clustering\n",
    "  cluster_cols = FALSE,                 # Preserve column order\n",
    "  show_rownames = TRUE,                 # Display row names\n",
    "  show_colnames = TRUE,                 # Display column names\n",
    "  fontsize_row = 10,                     # Font size for row labels\n",
    "  fontsize_col = 10,                     # Font size for column labels\n",
    "  color = colorRampPalette(c(\"blue\", \"white\", \"red\"))(100),                 # Use viridis color palette\n",
    "  border_color = \"lightgrey\",                    # Remove cell borders for a cleaner look\n",
    "  cellwidth = 10,                       # Adjust cell width\n",
    "  cellheight = 12,                      # Adjust cell height\n",
    "  main = \"In vivo Zfp711 Average Expression\\n Somite Count\" ,  # Add a title\n",
    ")"
   ]
  },
  {
   "cell_type": "code",
   "execution_count": null,
   "id": "56ece0dc-72b6-4468-bc1b-a8fa3aed8841",
   "metadata": {
    "vscode": {
     "languageId": "r"
    }
   },
   "outputs": [],
   "source": [
    "options(repr.plot.width = 6.4, repr.plot.height = 5 )\n",
    "print(x)"
   ]
  },
  {
   "cell_type": "code",
   "execution_count": null,
   "id": "94c7d15c-458f-42c9-b65e-312df4205336",
   "metadata": {
    "vscode": {
     "languageId": "r"
    }
   },
   "outputs": [],
   "source": [
    "\n",
    "pdf(\"./figures_2/average_expression_atlas_Zfp711_somite_count.pdf\",width = 6.4, height = 5)\n",
    "print(x)\n",
    "dev.off()   \n"
   ]
  },
  {
   "cell_type": "code",
   "execution_count": null,
   "id": "5d682931-1e28-4020-91a5-f42cdabfa2b0",
   "metadata": {
    "vscode": {
     "languageId": "r"
    }
   },
   "outputs": [],
   "source": [
    "\n",
    "png(\"./figures_2/average_expression_atlas_Zfp711_count.png\",width = 6.4, height = 5,res = 300, units = 'in')\n",
    "print(x)\n",
    "dev.off()   \n"
   ]
  },
  {
   "cell_type": "code",
   "execution_count": null,
   "id": "d4573154-0631-46f5-bc31-0426adbd59fa",
   "metadata": {
    "vscode": {
     "languageId": "r"
    }
   },
   "outputs": [],
   "source": []
  },
  {
   "cell_type": "code",
   "execution_count": null,
   "id": "32fb70c2-3f90-484d-861a-3e6919e3c4ef",
   "metadata": {
    "vscode": {
     "languageId": "r"
    }
   },
   "outputs": [],
   "source": []
  },
  {
   "cell_type": "code",
   "execution_count": null,
   "id": "df264038-1250-46ec-adcd-4e5ece222852",
   "metadata": {
    "vscode": {
     "languageId": "r"
    }
   },
   "outputs": [],
   "source": [
    "ko_genes <- \"Bcl6b\""
   ]
  },
  {
   "cell_type": "code",
   "execution_count": null,
   "id": "fbe65fa3-4483-4889-9b7c-a4e07ac921af",
   "metadata": {
    "vscode": {
     "languageId": "r"
    }
   },
   "outputs": [],
   "source": [
    "avg_ko <- AverageExpression(atlas,features = ko_genes, layer = 'counts',group.by =  'somite_count_lv' )"
   ]
  },
  {
   "cell_type": "code",
   "execution_count": null,
   "id": "d36e17eb-f1b2-4a74-9d1c-b6339bc31c9f",
   "metadata": {
    "vscode": {
     "languageId": "r"
    }
   },
   "outputs": [],
   "source": [
    "avg_ko"
   ]
  },
  {
   "cell_type": "code",
   "execution_count": null,
   "id": "069b8e36-1369-4a52-966a-58fde18db1e8",
   "metadata": {
    "vscode": {
     "languageId": "r"
    }
   },
   "outputs": [],
   "source": [
    "dense_matrix<- as.matrix(avg_ko$originalexp)"
   ]
  },
  {
   "cell_type": "code",
   "execution_count": null,
   "id": "c8a0668d-c9f8-4f7e-9431-bba117af7693",
   "metadata": {
    "vscode": {
     "languageId": "r"
    }
   },
   "outputs": [],
   "source": [
    "dense_matrix"
   ]
  },
  {
   "cell_type": "code",
   "execution_count": null,
   "id": "5645fe11-96ef-4f18-8561-811f6de46864",
   "metadata": {
    "vscode": {
     "languageId": "r"
    }
   },
   "outputs": [],
   "source": [
    "x <- pheatmap(\n",
    "  dense_matrix,\n",
    "  scale = \"row\",                        # Scale rows for normalization\n",
    "  clustering_distance_rows = \"euclidean\", # Cluster rows by Euclidean distance\n",
    "  cluster_rows = FALSE,                  # Enable row clustering\n",
    "  cluster_cols = FALSE,                 # Preserve column order\n",
    "  show_rownames = TRUE,                 # Display row names\n",
    "  show_colnames = TRUE,                 # Display column names\n",
    "  fontsize_row = 10,                     # Font size for row labels\n",
    "  fontsize_col = 10,                     # Font size for column labels\n",
    "  color = colorRampPalette(c(\"blue\", \"white\", \"red\"))(100),                 # Use viridis color palette\n",
    "  border_color = \"lightgrey\",                    # Remove cell borders for a cleaner look\n",
    "  cellwidth = 10,                       # Adjust cell width\n",
    "  cellheight = 12,                      # Adjust cell height\n",
    "  main = \"In vivo Bcl6b Average Expression\\n Somite Count\" ,  # Add a title\n",
    ")"
   ]
  },
  {
   "cell_type": "code",
   "execution_count": null,
   "id": "3d087a06-9498-4d9d-abbb-47c2fb2bf0a1",
   "metadata": {
    "vscode": {
     "languageId": "r"
    }
   },
   "outputs": [],
   "source": [
    "options(repr.plot.width = 6.4, repr.plot.height = 5 )\n",
    "print(x)"
   ]
  },
  {
   "cell_type": "code",
   "execution_count": null,
   "id": "a529d28e-ab7f-4650-b0a5-c46d254e17ac",
   "metadata": {
    "vscode": {
     "languageId": "r"
    }
   },
   "outputs": [],
   "source": [
    "\n",
    "pdf(\"./figures_2/average_expression_atlas_Bcl6b_somite_count.pdf\",width = 6.4, height = 5)\n",
    "print(x)\n",
    "dev.off()   \n"
   ]
  },
  {
   "cell_type": "code",
   "execution_count": null,
   "id": "e8a98d9f-861f-4f68-a002-8d718d0b3e03",
   "metadata": {
    "vscode": {
     "languageId": "r"
    }
   },
   "outputs": [],
   "source": [
    "\n",
    "png(\"./figures_2/average_expression_atlas_Bcl6b_count.png\",width = 6.4, height = 5,res = 300, units = 'in')\n",
    "print(x)\n",
    "dev.off()   \n"
   ]
  },
  {
   "cell_type": "code",
   "execution_count": null,
   "id": "c66026b8-2f6c-4626-99fb-3f310991ba4f",
   "metadata": {
    "vscode": {
     "languageId": "r"
    }
   },
   "outputs": [],
   "source": []
  },
  {
   "cell_type": "markdown",
   "id": "93d3d0ef-6568-442a-b982-c2012fb49f4f",
   "metadata": {},
   "source": [
    "#  Pseudotime"
   ]
  },
  {
   "cell_type": "markdown",
   "id": "6dc7d5e4-b5ce-45fe-8e82-9ee030dfbbec",
   "metadata": {},
   "source": [
    "## Trying everything in one go (FAILES)"
   ]
  },
  {
   "cell_type": "code",
   "execution_count": null,
   "id": "7cb72019-120c-41d8-ac6c-4271a6f72836",
   "metadata": {
    "vscode": {
     "languageId": "r"
    }
   },
   "outputs": [],
   "source": [
    "atlas"
   ]
  },
  {
   "cell_type": "code",
   "execution_count": null,
   "id": "e9e5e00c-b2e4-48e7-bc7a-84d559b191a3",
   "metadata": {
    "vscode": {
     "languageId": "r"
    }
   },
   "outputs": [],
   "source": [
    "Idents(atlas) <- \"celltype_extended_atlas\""
   ]
  },
  {
   "cell_type": "code",
   "execution_count": null,
   "id": "2338c490-22b4-48c0-bdf8-1689a4976a99",
   "metadata": {
    "scrolled": true,
    "vscode": {
     "languageId": "r"
    }
   },
   "outputs": [],
   "source": [
    "table(atlas$celltype_extended_atlas)"
   ]
  },
  {
   "cell_type": "code",
   "execution_count": null,
   "id": "fda8dddd-568f-4fee-9cad-d1e0451671ad",
   "metadata": {
    "vscode": {
     "languageId": "r"
    }
   },
   "outputs": [],
   "source": [
    "endodermal_lineages <- c(\n",
    "  \"ExE endoderm\",\n",
    "  \"Foregut\",\n",
    "  \"Gut tube\",\n",
    "  \"Hindgut\",\n",
    "  \"Parietal endoderm\",\n",
    "  \"Pharyngeal endoderm\",\n",
    "  \"Thyroid primordium\",\n",
    "  \"Visceral endoderm\"\n",
    ")\n",
    "\n",
    "ectodermal_lineages <- c(\n",
    "  \"Amniotic ectoderm\",\n",
    "  \"Branchial arch neural crest\",\n",
    "  \"Dorsal hindbrain progenitors\",\n",
    "  \"Dorsal midbrain neurons\",\n",
    "  \"Dorsal spinal cord progenitors\",\n",
    "  \"Early dorsal forebrain progenitors\",\n",
    "  \"Ectoderm\",\n",
    "  \"Epidermis\",\n",
    "  \"ExE ectoderm\",\n",
    "  \"Hindbrain floor plate\",\n",
    "  \"Hindbrain neural progenitors\",\n",
    "  \"Late dorsal forebrain progenitors\",\n",
    "  \"Limb ectoderm\",\n",
    "  \"Midbrain progenitors\",\n",
    "  \"Midbrain/Hindbrain boundary\",\n",
    "  \"Migratory neural crest\",\n",
    "  \"Neural tube\",\n",
    "  \"Non-neural ectoderm\",\n",
    "  \"Optic vesicle\",\n",
    "  \"Otic neural progenitors\",\n",
    "  \"Otic placode\",\n",
    "  \"Placodal ectoderm\",\n",
    "  \"Spinal cord progenitors\",\n",
    "  \"Surface ectoderm\",\n",
    "  \"Ventral forebrain progenitors\",\n",
    "  \"Ventral hindbrain progenitors\"\n",
    ")"
   ]
  },
  {
   "cell_type": "code",
   "execution_count": null,
   "id": "1f08e14d-da8f-4a7d-b9b1-bb62c8fa2b4b",
   "metadata": {
    "vscode": {
     "languageId": "r"
    }
   },
   "outputs": [],
   "source": []
  },
  {
   "cell_type": "code",
   "execution_count": null,
   "id": "2a49b382-3aec-4008-99b9-bb31311eacd5",
   "metadata": {
    "vscode": {
     "languageId": "r"
    }
   },
   "outputs": [],
   "source": [
    "others <- c(\n",
    "    \"Anterior Primitive Streak\",\n",
    "    \"Caudal epiblast\",\n",
    "    \"Caudal mesoderm\",\n",
    "    \"Cranial mesoderm\",\n",
    "    \"Frontonasal mesenchyme\",\n",
    "    \"Midgut\",\n",
    "    \"NMPs\",\n",
    "    \"NMPs/Mesoderm-biased\",\n",
    "    \"Node\",\n",
    "    \"Notochord\",\n",
    "    \"PGC\",\n",
    "    \"YS mesothelium-derived endothelial progenitors\",\n",
    "    \"Chorioallantoic-derived erythroid progenitors\"\n",
    "    )\n",
    "    "
   ]
  },
  {
   "cell_type": "code",
   "execution_count": null,
   "id": "9fa9fef1-7a6c-4fd1-ad42-f509f8ce6629",
   "metadata": {
    "vscode": {
     "languageId": "r"
    }
   },
   "outputs": [],
   "source": [
    "endo_ecto <- c(endodermal_lineages,ectodermal_lineages,others)"
   ]
  },
  {
   "cell_type": "code",
   "execution_count": null,
   "id": "2e8858c9-4539-4039-b47b-ffb25334d79a",
   "metadata": {
    "vscode": {
     "languageId": "r"
    }
   },
   "outputs": [],
   "source": [
    "df <- subset(atlas, subset =  celltype_extended_atlas %in% endo_ecto, invert = TRUE )\n",
    "df"
   ]
  },
  {
   "cell_type": "code",
   "execution_count": null,
   "id": "d46ee93d-973e-432e-ab24-c7537ec850cb",
   "metadata": {
    "vscode": {
     "languageId": "r"
    }
   },
   "outputs": [],
   "source": [
    "table(df$celltype_extended_atlas)"
   ]
  },
  {
   "cell_type": "code",
   "execution_count": null,
   "id": "e6d783ac-0241-4f60-93e6-8ca94c70884a",
   "metadata": {
    "vscode": {
     "languageId": "r"
    }
   },
   "outputs": [],
   "source": [
    "mean(table(df$celltype_extended_atlas))"
   ]
  },
  {
   "cell_type": "code",
   "execution_count": null,
   "id": "b0cea009-a70b-4200-ba9f-e5e8cd39d8c1",
   "metadata": {
    "vscode": {
     "languageId": "r"
    }
   },
   "outputs": [],
   "source": [
    "median(table(df$celltype_extended_atlas))"
   ]
  },
  {
   "cell_type": "code",
   "execution_count": null,
   "id": "4a37a68a-de84-4289-851e-4dc15d9c0c32",
   "metadata": {
    "vscode": {
     "languageId": "r"
    }
   },
   "outputs": [],
   "source": [
    "dim(df)"
   ]
  },
  {
   "cell_type": "code",
   "execution_count": null,
   "id": "b1849171-688e-4eb4-b072-bda9a47249f1",
   "metadata": {
    "vscode": {
     "languageId": "r"
    }
   },
   "outputs": [],
   "source": [
    "dfx <- subset(df,downsample = 3475  )"
   ]
  },
  {
   "cell_type": "code",
   "execution_count": null,
   "id": "3905e3e6-d161-486d-b59c-3a466fb93976",
   "metadata": {
    "vscode": {
     "languageId": "r"
    }
   },
   "outputs": [],
   "source": [
    "Idents(df) <- \"celltype_extended_atlas\""
   ]
  },
  {
   "cell_type": "code",
   "execution_count": null,
   "id": "81813db8-eaab-401b-94f9-e7ca152cc852",
   "metadata": {
    "vscode": {
     "languageId": "r"
    }
   },
   "outputs": [],
   "source": [
    "options(repr.plot.width = 10, repr.plot.height = 10 )\n",
    "DimPlot(df, reduction = 'UMAP')+NoLegend()"
   ]
  },
  {
   "cell_type": "code",
   "execution_count": null,
   "id": "6fc9b9e7-d473-4d34-8ee2-41f0391d518f",
   "metadata": {
    "vscode": {
     "languageId": "r"
    }
   },
   "outputs": [],
   "source": [
    "options(repr.plot.width = 10, repr.plot.height = 10 )\n",
    "DimPlot(dfx, reduction = 'UMAP')+NoLegend()"
   ]
  },
  {
   "cell_type": "code",
   "execution_count": null,
   "id": "ea8fd3ce-d04c-457e-bfaf-1a7efc78c456",
   "metadata": {
    "vscode": {
     "languageId": "r"
    }
   },
   "outputs": [],
   "source": [
    "source(\"../step11_slingshot_trails/slingshot_utils.R\")"
   ]
  },
  {
   "cell_type": "code",
   "execution_count": null,
   "id": "31e0af29-289d-4686-bf37-9a64ec3d80f8",
   "metadata": {
    "vscode": {
     "languageId": "r"
    }
   },
   "outputs": [],
   "source": [
    "suppressPackageStartupMessages({\n",
    "  library(Seurat)\n",
    "  library(plotly)\n",
    "  options(rgl.printRglwidget = TRUE)\n",
    "  library(Matrix)\n",
    "  library(sparseMatrixStats)\n",
    "  library(slingshot)\n",
    "  library(tradeSeq)\n",
    "  library(patchwork)\n",
    "})\n"
   ]
  },
  {
   "cell_type": "code",
   "execution_count": null,
   "id": "f14dccf7-c25c-451c-bc78-7e242fbd17e1",
   "metadata": {
    "scrolled": true,
    "vscode": {
     "languageId": "r"
    }
   },
   "outputs": [],
   "source": [
    "df <- RunUMAP(df, reduction = \"PCA\",dims = 1:75, reduction.name = 'df_umap_2d')\n",
    "dfx <- RunUMAP(dfx, reduction = \"PCA\",dims = 1:75, reduction.name = 'dfx_umap_2d')\n",
    "df <- RunUMAP(df, reduction = \"PCA\",dims = 1:75,n.components = 3L, reduction.name = 'df_umap_3d')\n",
    "dfx <- RunUMAP(dfx, reduction = \"PCA\",dims = 1:75,n.components = 3L, reduction.name = 'dfx_umap_3d')"
   ]
  },
  {
   "cell_type": "code",
   "execution_count": null,
   "id": "f3310623-9dbd-44b2-8b49-99ef0ea1c541",
   "metadata": {
    "vscode": {
     "languageId": "r"
    }
   },
   "outputs": [],
   "source": [
    "set.seed(1)\n",
    "lineages_df_old_umap <- as.SlingshotDataSet(getLineages(\n",
    "  data           = df@reductions$UMAP@cell.embeddings,\n",
    "  clusterLabels  = df$celltype_extended_atlas,\n",
    "  dist.method    = \"slingshot\", # It can be: \"simple\", \"scaled.full\", \"scaled.diag\", \"slingshot\" or \"mnn\"\n",
    " # end.clus       = ENDS, # You can also define the ENDS!\n",
    "  start.clus     = \"Epiblast\"# define where to START the trajectories\n",
    ")) \n",
    "\n",
    "set.seed(1)\n",
    "lineages_df_umap_2d <- as.SlingshotDataSet(getLineages(\n",
    "  data           = df@reductions$df_umap_2d@cell.embeddings,\n",
    "  clusterLabels  = df$celltype_extended_atlas,\n",
    "  dist.method    = \"slingshot\", # It can be: \"simple\", \"scaled.full\", \"scaled.diag\", \"slingshot\" or \"mnn\"\n",
    " # end.clus       = ENDS, # You can also define the ENDS!\n",
    "  start.clus     = \"Epiblast\"# define where to START the trajectories\n",
    ")) \n",
    "\n",
    "set.seed(1)\n",
    "lineages_df_umap_3d <- as.SlingshotDataSet(getLineages(\n",
    "  data           = df@reductions$df_umap_3d@cell.embeddings,\n",
    "  clusterLabels  = df$celltype_extended_atlas,\n",
    "  dist.method    = \"slingshot\", # It can be: \"simple\", \"scaled.full\", \"scaled.diag\", \"slingshot\" or \"mnn\"\n",
    " # end.clus       = ENDS, # You can also define the ENDS!\n",
    "  start.clus     = \"Epiblast\"# define where to START the trajectories\n",
    ")) "
   ]
  },
  {
   "cell_type": "code",
   "execution_count": null,
   "id": "b5e693cc-3e81-44b9-8377-56df03eaa8cd",
   "metadata": {
    "vscode": {
     "languageId": "r"
    }
   },
   "outputs": [],
   "source": [
    "set.seed(1)\n",
    "lineages_dfx_old_umap <- as.SlingshotDataSet(getLineages(\n",
    "  data           = dfx@reductions$UMAP@cell.embeddings,\n",
    "  clusterLabels  = dfx$celltype_extended_atlas,\n",
    "  dist.method    = \"slingshot\", # It can be: \"simple\", \"scaled.full\", \"scaled.diag\", \"slingshot\" or \"mnn\"\n",
    " # end.clus       = ENDS, # You can also define the ENDS!\n",
    "  start.clus     = \"Epiblast\"# define where to START the trajectories\n",
    ")) \n",
    "\n",
    "set.seed(1)\n",
    "lineages_dfx_umap_2d <- as.SlingshotDataSet(getLineages(\n",
    "  data           = dfx@reductions$dfx_umap_2d@cell.embeddings,\n",
    "  clusterLabels  = dfx$celltype_extended_atlas,\n",
    "  dist.method    = \"slingshot\", # It can be: \"simple\", \"scaled.full\", \"scaled.diag\", \"slingshot\" or \"mnn\"\n",
    " # end.clus       = ENDS, # You can also define the ENDS!\n",
    "  start.clus     = \"Epiblast\"# define where to START the trajectories\n",
    ")) \n",
    "\n",
    "set.seed(1)\n",
    "lineages_dfx_umap_3d <- as.SlingshotDataSet(getLineages(\n",
    "  data           = dfx@reductions$dfx_umap_3d@cell.embeddings,\n",
    "  clusterLabels  = dfx$celltype_extended_atlas,\n",
    "  dist.method    = \"slingshot\", # It can be: \"simple\", \"scaled.full\", \"scaled.diag\", \"slingshot\" or \"mnn\"\n",
    " # end.clus       = ENDS, # You can also define the ENDS!\n",
    "  start.clus     = \"Epiblast\"# define where to START the trajectories\n",
    ")) "
   ]
  },
  {
   "cell_type": "code",
   "execution_count": null,
   "id": "85a77389-ac1b-45a9-9c39-05891e62beaf",
   "metadata": {
    "vscode": {
     "languageId": "r"
    }
   },
   "outputs": [],
   "source": [
    "set.seed(1)\n",
    "lineages_df_old_umap_mnn <- as.SlingshotDataSet(getLineages(\n",
    "  data           = df@reductions$UMAP@cell.embeddings,\n",
    "  clusterLabels  = df$celltype_extended_atlas,\n",
    "  dist.method    = \"mnn\", # It can be: \"simple\", \"scaled.full\", \"scaled.diag\", \"slingshot\" or \"mnn\"\n",
    " # end.clus       = ENDS, # You can also define the ENDS!\n",
    "  start.clus     = \"Epiblast\"# define where to START the trajectories\n",
    ")) \n",
    "\n",
    "set.seed(1)\n",
    "lineages_df_umap_2d_mnn <- as.SlingshotDataSet(getLineages(\n",
    "  data           = df@reductions$df_umap_2d@cell.embeddings,\n",
    "  clusterLabels  = df$celltype_extended_atlas,\n",
    "  dist.method    = \"mnn\", # It can be: \"simple\", \"scaled.full\", \"scaled.diag\", \"slingshot\" or \"mnn\"\n",
    " # end.clus       = ENDS, # You can also define the ENDS!\n",
    "  start.clus     = \"Epiblast\"# define where to START the trajectories\n",
    ")) \n",
    "\n",
    "set.seed(1)\n",
    "lineages_df_umap_3d_mnn <- as.SlingshotDataSet(getLineages(\n",
    "  data           = df@reductions$df_umap_3d@cell.embeddings,\n",
    "  clusterLabels  = df$celltype_extended_atlas,\n",
    "  dist.method    = \"mnn\", # It can be: \"simple\", \"scaled.full\", \"scaled.diag\", \"slingshot\" or \"mnn\"\n",
    " # end.clus       = ENDS, # You can also define the ENDS!\n",
    "  start.clus     = \"Epiblast\"# define where to START the trajectories\n",
    ")) "
   ]
  },
  {
   "cell_type": "code",
   "execution_count": null,
   "id": "5f7721c1-9d1a-46f5-9146-9fe0d16f383a",
   "metadata": {
    "vscode": {
     "languageId": "r"
    }
   },
   "outputs": [],
   "source": [
    "set.seed(1)\n",
    "lineages_dfx_old_umap_mnn <- as.SlingshotDataSet(getLineages(\n",
    "  data           = dfx@reductions$UMAP@cell.embeddings,\n",
    "  clusterLabels  = dfx$celltype_extended_atlas,\n",
    "  dist.method    = \"mnn\", # It can be: \"simple\", \"scaled.full\", \"scaled.diag\", \"slingshot\" or \"mnn\"\n",
    " # end.clus       = ENDS, # You can also define the ENDS!\n",
    "  start.clus     = \"Epiblast\"# define where to START the trajectories\n",
    ")) \n",
    "\n",
    "set.seed(1)\n",
    "lineages_dfx_umap_2d_mnn <- as.SlingshotDataSet(getLineages(\n",
    "  data           = dfx@reductions$dfx_umap_2d@cell.embeddings,\n",
    "  clusterLabels  = dfx$celltype_extended_atlas,\n",
    "  dist.method    = \"mnn\", # It can be: \"simple\", \"scaled.full\", \"scaled.diag\", \"slingshot\" or \"mnn\"\n",
    " # end.clus       = ENDS, # You can also define the ENDS!\n",
    "  start.clus     = \"Epiblast\"# define where to START the trajectories\n",
    ")) \n",
    "\n",
    "set.seed(1)\n",
    "lineages_dfx_umap_3d_mnn <- as.SlingshotDataSet(getLineages(\n",
    "  data           = dfx@reductions$dfx_umap_3d@cell.embeddings,\n",
    "  clusterLabels  = dfx$celltype_extended_atlas,\n",
    "  dist.method    = \"mnn\", # It can be: \"simple\", \"scaled.full\", \"scaled.diag\", \"slingshot\" or \"mnn\"\n",
    " # end.clus       = ENDS, # You can also define the ENDS!\n",
    "  start.clus     = \"Epiblast\"# define where to START the trajectories\n",
    ")) "
   ]
  },
  {
   "cell_type": "code",
   "execution_count": null,
   "id": "d83abd98-9d76-45df-9086-d19360f4e82c",
   "metadata": {
    "vscode": {
     "languageId": "r"
    }
   },
   "outputs": [],
   "source": [
    "# Define curves\n",
    "curves_df_old_umap <- as.SlingshotDataSet(getCurves(data = lineages_df_old_umap))"
   ]
  },
  {
   "cell_type": "code",
   "execution_count": null,
   "id": "d62ef616-500d-4353-9646-49ee2ae20c9a",
   "metadata": {
    "vscode": {
     "languageId": "r"
    }
   },
   "outputs": [],
   "source": [
    "curves_df_umap_2d <- as.SlingshotDataSet(getCurves(data = lineages_df_umap_2d))"
   ]
  },
  {
   "cell_type": "code",
   "execution_count": null,
   "id": "aeb81b10-598c-420a-9642-9f92e03aa941",
   "metadata": {
    "vscode": {
     "languageId": "r"
    }
   },
   "outputs": [],
   "source": [
    "curves_df_umap_3d <- as.SlingshotDataSet(getCurves(data = lineages_df_umap_3d))"
   ]
  },
  {
   "cell_type": "code",
   "execution_count": null,
   "id": "0376ceb7-ae94-4fe7-a447-cca645c03769",
   "metadata": {
    "vscode": {
     "languageId": "r"
    }
   },
   "outputs": [],
   "source": [
    "curves_df_old_umap_mnn <- as.SlingshotDataSet(getCurves(data = lineages_df_old_umap_mnn))"
   ]
  },
  {
   "cell_type": "code",
   "execution_count": null,
   "id": "6d86d82c-8ea4-477d-bfab-d5dd78e5e870",
   "metadata": {
    "vscode": {
     "languageId": "r"
    }
   },
   "outputs": [],
   "source": [
    "curves_df_umap_2d_mnn <- as.SlingshotDataSet(getCurves(data = lineages_df_umap_2d_mnn))"
   ]
  },
  {
   "cell_type": "code",
   "execution_count": null,
   "id": "cc688619-8bcd-43f8-86c5-b53353c97775",
   "metadata": {
    "vscode": {
     "languageId": "r"
    }
   },
   "outputs": [],
   "source": [
    "curves_df_umap_3d_mnn <- as.SlingshotDataSet(getCurves(data = lineages_df_umap_3d_mnn))"
   ]
  },
  {
   "cell_type": "code",
   "execution_count": null,
   "id": "1010d7ff-8ab8-4b2e-86df-c54fb28dbc0d",
   "metadata": {
    "vscode": {
     "languageId": "r"
    }
   },
   "outputs": [],
   "source": [
    "# Define curves\n",
    "curves_dfx_old_umap <- as.SlingshotDataSet(getCurves(data = lineages_dfx_old_umap))"
   ]
  },
  {
   "cell_type": "code",
   "execution_count": null,
   "id": "d23574bd-9efa-4091-b0c8-e6d06a50326d",
   "metadata": {
    "vscode": {
     "languageId": "r"
    }
   },
   "outputs": [],
   "source": [
    "curves_dfx_umap_2d <- as.SlingshotDataSet(getCurves(data = lineages_dfx_umap_2d))"
   ]
  },
  {
   "cell_type": "code",
   "execution_count": null,
   "id": "17dab9c0-73f5-4c4e-8386-0c8cec68fec8",
   "metadata": {
    "vscode": {
     "languageId": "r"
    }
   },
   "outputs": [],
   "source": [
    "curves_dfx_umap_3d <- as.SlingshotDataSet(getCurves(data = lineages_dfx_umap_3d))"
   ]
  },
  {
   "cell_type": "code",
   "execution_count": null,
   "id": "f2f5014c-d85d-411c-bdbc-0882cea14e40",
   "metadata": {
    "vscode": {
     "languageId": "r"
    }
   },
   "outputs": [],
   "source": [
    "curves_dfx_old_umap_mnn <- as.SlingshotDataSet(getCurves(data = lineages_dfx_old_umap_mnn))\n"
   ]
  },
  {
   "cell_type": "code",
   "execution_count": null,
   "id": "b03718bd-1d00-42b3-a120-40c097db571a",
   "metadata": {
    "vscode": {
     "languageId": "r"
    }
   },
   "outputs": [],
   "source": [
    "curves_dfx_umap_2d_mnn <- as.SlingshotDataSet(getCurves(data = lineages_dfx_umap_2d_mnn))"
   ]
  },
  {
   "cell_type": "code",
   "execution_count": null,
   "id": "c3ad94f8-bbf5-42cb-b461-e5104d6e22c1",
   "metadata": {
    "vscode": {
     "languageId": "r"
    }
   },
   "outputs": [],
   "source": [
    "curves_dfx_umap_3d_mnn <- as.SlingshotDataSet(getCurves(data = lineages_dfx_umap_3d_mnn))"
   ]
  },
  {
   "cell_type": "code",
   "execution_count": null,
   "id": "bf406f3a-7913-4657-a1d9-cfadbed06569",
   "metadata": {
    "vscode": {
     "languageId": "r"
    }
   },
   "outputs": [],
   "source": [
    "ls()"
   ]
  },
  {
   "cell_type": "code",
   "execution_count": null,
   "id": "795001f4-09dd-4812-95a0-43c1acd6f05b",
   "metadata": {
    "vscode": {
     "languageId": "r"
    }
   },
   "outputs": [],
   "source": [
    "plot_umap_with_curves"
   ]
  },
  {
   "cell_type": "code",
   "execution_count": null,
   "id": "4dc5c412-4a8f-4172-a5ec-d197f0a2081b",
   "metadata": {
    "vscode": {
     "languageId": "r"
    }
   },
   "outputs": [],
   "source": [
    "markers_emp_tf <- markers_emp[rownames(markers_emp) %in% tf_list$Symbol,]"
   ]
  },
  {
   "cell_type": "code",
   "execution_count": null,
   "id": "c9cc8735-5a17-49d8-9899-48e0fd6c57b5",
   "metadata": {
    "vscode": {
     "languageId": "r"
    }
   },
   "outputs": [],
   "source": [
    "df$cell_type_subclusters <- df$celltype_extended_atlas"
   ]
  },
  {
   "cell_type": "code",
   "execution_count": null,
   "id": "e5ea2fa9-0d1f-41d6-a8c6-982f29d65850",
   "metadata": {
    "vscode": {
     "languageId": "r"
    }
   },
   "outputs": [],
   "source": [
    "df@meta.data$seurat_clusters <- df$celltype_extended_atlas"
   ]
  },
  {
   "cell_type": "code",
   "execution_count": null,
   "id": "d406cf85-7349-4c3f-873a-cf34537d4331",
   "metadata": {
    "vscode": {
     "languageId": "r"
    }
   },
   "outputs": [],
   "source": [
    "library(ggplot2)\n",
    "library(slingshot)\n",
    "library(Seurat)\n",
    "library(mgcv)\n",
    "\n",
    "# Extract pseudotime for Lineage1 from curves object\n",
    "pseudotime_lineage1 <- slingPseudotime(curves_df_old_umap, na = FALSE)[, \"Lineage1\"]\n",
    "\n",
    "# Get ATF3 expression from your Seurat object\n",
    "# Assuming your Seurat object is named 'seurat_obj' - adjust if different\n",
    "atf3_expression <- GetAssayData(df, slot = \"data\")[\"Atf3\", ]\n",
    "\n",
    "# Create a data frame for plotting (including zero expression)\n",
    "plot_data <- data.frame(\n",
    "  pseudotime = pseudotime_lineage1,\n",
    "  expression = atf3_expression[names(pseudotime_lineage1)]\n",
    ")\n",
    "\n",
    "# Remove only NA values (keep zeros)\n",
    "plot_data <- plot_data[complete.cases(plot_data), ]\n",
    "\n",
    "# Create the trend-only plot\n",
    "p <- ggplot(plot_data, aes(x = pseudotime, y = expression)) +\n",
    "  geom_smooth(method = \"gam\", formula = y ~ s(x, bs = \"cs\"), \n",
    "              se = TRUE, color = \"red\", fill = \"lightcoral\", \n",
    "              linewidth = 1.2, alpha = 0.3) +\n",
    "  labs(\n",
    "    title = \"ATF3 Expression Trend Along Lineage1\",\n",
    "    x = \"Pseudotime\",\n",
    "    y = \"ATF3 Expression\",\n",
    "    subtitle = paste0(\"Trend line based on \", nrow(plot_data), \" cells (including zero expression)\")\n",
    "  ) +\n",
    "  theme_classic() +\n",
    "  theme(\n",
    "    plot.title = element_text(size = 14, hjust = 0.5, face = \"bold\"),\n",
    "    plot.subtitle = element_text(size = 12, hjust = 0.5),\n",
    "    axis.title = element_text(size = 12),\n",
    "    axis.text = element_text(size = 10),\n",
    "    panel.grid.major.y = element_line(color = \"grey90\", linewidth = 0.5)\n",
    "  )\n",
    "\n",
    "# Display the plot\n",
    "print(p)\n",
    "\n",
    "# Optional: Save the plot\n",
    "# ggsave(\"ATF3_Lineage1_trend.pdf\", plot = p, width = 8, height = 6)"
   ]
  },
  {
   "cell_type": "code",
   "execution_count": null,
   "id": "00f6d6b5-53d3-4a06-8edd-94861a6d49ff",
   "metadata": {
    "vscode": {
     "languageId": "r"
    }
   },
   "outputs": [],
   "source": [
    "seurat_obj = df"
   ]
  },
  {
   "cell_type": "code",
   "execution_count": null,
   "id": "0a3d9ce4-3c36-4a15-8f54-a9f5a2b34c04",
   "metadata": {
    "vscode": {
     "languageId": "r"
    }
   },
   "outputs": [],
   "source": [
    "library(ggplot2)\n",
    "library(slingshot)\n",
    "library(Seurat)\n",
    "library(mgcv)\n",
    "library(dplyr)\n",
    "\n",
    "# Extract pseudotime for Lineage1 from curves object\n",
    "pseudotime_lineage1 <- slingPseudotime(curves_df_old_umap, na = FALSE)[, \"Lineage2\"]\n",
    "\n",
    "# Get ATF3 expression from your Seurat object\n",
    "# Assuming your Seurat object is named 'seurat_obj' - adjust if different\n",
    "atf3_expression <- GetAssayData(seurat_obj, slot = \"data\")[\"Atf3\", ]\n",
    "\n",
    "# Get cell type information from seurat_clusters\n",
    "cell_types <- seurat_obj$seurat_clusters[names(pseudotime_lineage1)]\n",
    "\n",
    "# Create a data frame for plotting (including zero expression)\n",
    "plot_data <- data.frame(\n",
    "  pseudotime = pseudotime_lineage1,\n",
    "  expression = atf3_expression[names(pseudotime_lineage1)],\n",
    "  cell_type = cell_types\n",
    ")\n",
    "\n",
    "# Remove only NA values (keep zeros)\n",
    "plot_data <- plot_data[complete.cases(plot_data), ]\n",
    "\n",
    "# Count cells per cell type and group small cell types\n",
    "cell_type_counts <- table(plot_data$cell_type)\n",
    "small_cell_types <- names(cell_type_counts[cell_type_counts < 100])\n",
    "\n",
    "# Create a new column for plotting - group small cell types as \"Other\"\n",
    "plot_data$cell_type_plot <- as.character(plot_data$cell_type)\n",
    "plot_data$cell_type_plot[plot_data$cell_type %in% small_cell_types] <- \"Other (< 50 cells)\"\n",
    "\n",
    "# Order cell types by their median pseudotime\n",
    "cell_type_order <- plot_data %>%\n",
    "  group_by(cell_type_plot) %>%\n",
    "  summarise(median_pseudotime = median(pseudotime, na.rm = TRUE)) %>%\n",
    "  arrange(median_pseudotime) %>%\n",
    "  pull(cell_type_plot)\n",
    "\n",
    "plot_data$cell_type_plot <- factor(plot_data$cell_type_plot, levels = cell_type_order)\n",
    "\n",
    "# Create pseudotime bins to determine dominant cell type in each region\n",
    "n_bins <- 50  # Number of bins along pseudotime\n",
    "pseudotime_range <- range(plot_data$pseudotime, na.rm = TRUE)\n",
    "bin_breaks <- seq(pseudotime_range[1], pseudotime_range[2], length.out = n_bins + 1)\n",
    "plot_data$pseudotime_bin <- cut(plot_data$pseudotime, breaks = bin_breaks, include.lowest = TRUE)\n",
    "\n",
    "# Find dominant cell type in each bin (excluding small cell types)\n",
    "dominant_celltype <- plot_data %>%\n",
    "  filter(cell_type_plot != \"Other (< 50 cells)\") %>%  # Exclude small cell types\n",
    "  group_by(pseudotime_bin) %>%\n",
    "  count(cell_type_plot) %>%\n",
    "  slice_max(n, n = 1, with_ties = FALSE) %>%\n",
    "  ungroup() %>%\n",
    "  select(pseudotime_bin, dominant_type = cell_type_plot)\n",
    "\n",
    "# Create bin centers for plotting\n",
    "bin_centers <- (bin_breaks[-1] + bin_breaks[-length(bin_breaks)]) / 2\n",
    "dominant_celltype$pseudotime_center <- bin_centers[as.numeric(dominant_celltype$pseudotime_bin)]\n",
    "\n",
    "# Fit GAM model to get smooth predictions\n",
    "gam_model <- gam(expression ~ s(pseudotime, bs = \"cs\"), data = plot_data)\n",
    "smooth_data <- data.frame(\n",
    "  pseudotime = bin_centers\n",
    ")\n",
    "smooth_data$expression <- predict(gam_model, newdata = smooth_data)\n",
    "\n",
    "# Merge with dominant cell types\n",
    "smooth_data <- merge(smooth_data, \n",
    "                     dominant_celltype[, c(\"pseudotime_center\", \"dominant_type\")], \n",
    "                     by.x = \"pseudotime\", by.y = \"pseudotime_center\", all.x = TRUE)\n",
    "\n",
    "# Create segment groups to break lines when cell type changes or has gaps\n",
    "smooth_data <- smooth_data[order(smooth_data$pseudotime), ]\n",
    "smooth_data$segment_group <- cumsum(c(TRUE, smooth_data$dominant_type[-1] != smooth_data$dominant_type[-nrow(smooth_data)] | \n",
    "                                     is.na(smooth_data$dominant_type[-1]) | is.na(smooth_data$dominant_type[-nrow(smooth_data)])))\n",
    "\n",
    "# Remove rows with NA dominant_type (bins with no major cell types)\n",
    "smooth_data <- smooth_data[!is.na(smooth_data$dominant_type), ]\n",
    "\n",
    "# Set up colors (only for major cell types)\n",
    "major_cell_types <- levels(plot_data$cell_type_plot)[levels(plot_data$cell_type_plot) != \"Other (< 50 cells)\"]\n",
    "colors <- character(length(major_cell_types))\n",
    "names(colors) <- major_cell_types\n",
    "\n",
    "# Assign colors only to major cell types\n",
    "if(exists(\"r3dcol\") && !is.null(r3dcol$cols_94) && length(r3dcol$cols_94) > 0) {\n",
    "  colors[major_cell_types] <- r3dcol$cols_94[1:length(major_cell_types)]\n",
    "} else {\n",
    "  colors[major_cell_types] <- rainbow(length(major_cell_types))\n",
    "}\n",
    "\n",
    "# Create the trend plot with cell-type-colored segments\n",
    "p <- ggplot() +\n",
    "  # Add confidence interval using original data\n",
    "  geom_smooth(data = plot_data, aes(x = pseudotime, y = expression),\n",
    "              method = \"gam\", formula = y ~ s(x, bs = \"cs\"), \n",
    "              se = TRUE, color = NA, fill = \"darkgrey\", alpha = 0.5) +\n",
    "  # Add colored line segments based on dominant cell type (broken into segments)\n",
    "  geom_path(data = smooth_data, aes(x = pseudotime, y = expression, \n",
    "                                    color = dominant_type, group = segment_group), \n",
    "            linewidth = 2) +\n",
    "  scale_color_manual(values = colors, name = \"Dominant Cell Type\") +\n",
    "  labs(\n",
    "    title = \"ATF3 Expression Trend Along Lineage2\",\n",
    "    x = \"Pseudotime\",\n",
    "    y = \"ATF3 Expression\",\n",
    "    subtitle = paste0(\"Line colored by dominant cell type in each pseudotime region (n = \", nrow(plot_data), \" cells)\")\n",
    "  ) +\n",
    "  theme_classic() +\n",
    "  theme(\n",
    "    plot.title = element_text(size = 14, hjust = 0.5, face = \"bold\"),\n",
    "    plot.subtitle = element_text(size = 11, hjust = 0.5),\n",
    "    axis.title = element_text(size = 12),\n",
    "    axis.text = element_text(size = 10),\n",
    "    legend.title = element_text(size = 11),\n",
    "    legend.text = element_text(size = 9),\n",
    "    panel.grid.major.y = element_line(color = \"grey90\", linewidth = 0.5)\n",
    "  ) +\n",
    "  guides(color = guide_legend(override.aes = list(linewidth = 3)))\n",
    "\n",
    "# Display the plot\n",
    "print(p)\n",
    "\n",
    "# Optional: Save the plot\n",
    "# ggsave(\"ATF3_Lineage1_trend.pdf\", plot = p, width = 8, height = 6)"
   ]
  },
  {
   "cell_type": "code",
   "execution_count": null,
   "id": "b94d1062-75f6-400e-8481-f47c850ad458",
   "metadata": {
    "vscode": {
     "languageId": "r"
    }
   },
   "outputs": [],
   "source": [
    "library(ggplot2)\n",
    "library(slingshot)\n",
    "library(Seurat)\n",
    "library(mgcv)\n",
    "library(dplyr)\n",
    "\n",
    "#' Diagnostic function to check pseudotime data\n",
    "#'\n",
    "#' @param seurat_obj Seurat object\n",
    "#' @param curves_obj Slingshot curves object\n",
    "#' @param cell_type_column Character. Column name for cell types\n",
    "#'\n",
    "check_pseudotime_data <- function(seurat_obj, curves_obj, cell_type_column = \"seurat_clusters\") {\n",
    "  \n",
    "  cat(\"=== PSEUDOTIME DATA DIAGNOSTIC ===\\n\")\n",
    "  \n",
    "  # Check available lineages\n",
    "  lineages <- colnames(slingPseudotime(curves_obj))\n",
    "  cat(\"Available lineages:\", paste(lineages, collapse = \", \"), \"\\n\")\n",
    "  \n",
    "  # Check pseudotime data for each lineage\n",
    "  pseudotime_matrix <- slingPseudotime(curves_obj, na = FALSE)\n",
    "  \n",
    "  for (lineage in lineages) {\n",
    "    pseudotime_values <- pseudotime_matrix[, lineage]\n",
    "    n_total <- length(pseudotime_values)\n",
    "    n_finite <- sum(is.finite(pseudotime_values))\n",
    "    n_na <- sum(is.na(pseudotime_values))\n",
    "    \n",
    "    cat(\"\\n\", lineage, \":\\n\")\n",
    "    cat(\"  Total cells:\", n_total, \"\\n\")\n",
    "    cat(\"  Finite values:\", n_finite, \"\\n\")\n",
    "    cat(\"  NA values:\", n_na, \"\\n\")\n",
    "    \n",
    "    if (n_finite > 0) {\n",
    "      cat(\"  Range:\", round(range(pseudotime_values, na.rm = TRUE), 3), \"\\n\")\n",
    "    }\n",
    "  }\n",
    "  \n",
    "  # Check cell name overlap\n",
    "  curve_cells <- rownames(pseudotime_matrix)\n",
    "  seurat_cells <- colnames(seurat_obj)\n",
    "  overlap <- intersect(curve_cells, seurat_cells)\n",
    "  \n",
    "  cat(\"\\n=== CELL NAME OVERLAP ===\\n\")\n",
    "  cat(\"Cells in curves object:\", length(curve_cells), \"\\n\")\n",
    "  cat(\"Cells in Seurat object:\", length(seurat_cells), \"\\n\")\n",
    "  cat(\"Overlapping cells:\", length(overlap), \"\\n\")\n",
    "  \n",
    "  if (length(overlap) == 0) {\n",
    "    cat(\"WARNING: No overlapping cell names found!\\n\")\n",
    "    cat(\"First 5 curve cell names:\", head(curve_cells, 5), \"\\n\")\n",
    "    cat(\"First 5 Seurat cell names:\", head(seurat_cells, 5), \"\\n\")\n",
    "  }\n",
    "  \n",
    "  return(invisible(NULL))\n",
    "}\n",
    "\n",
    "#' Plot Gene Expression Along Pseudotime with Cell Type Coloring\n",
    "#'\n",
    "#' This function creates a trend plot showing gene expression along a specific lineage\n",
    "#' pseudotime trajectory, with the trend line colored by dominant cell types in each region.\n",
    "#'\n",
    "#' @param seurat_obj Seurat object containing gene expression data\n",
    "#' @param curves_obj Slingshot curves object containing pseudotime information\n",
    "#' @param gene_name Character. Name of the gene to plot (must match gene names in Seurat object)\n",
    "#' @param lineage_name Character. Name of the lineage to plot (e.g., \"Lineage1\", \"Lineage2\")\n",
    "#' @param min_cells Numeric. Minimum number of cells required for a cell type to be considered major (default: 50)\n",
    "#' @param n_bins Numeric. Number of bins to divide pseudotime axis for determining dominant cell types (default: 50)\n",
    "#' @param color_palette Character vector. Colors to use for major cell types. If NULL, uses rainbow colors (default: NULL)\n",
    "#' @param cell_type_column Character. Column name in Seurat object metadata containing cell type information (default: \"seurat_clusters\")\n",
    "#' @param expression_slot Character. Which slot to use for gene expression (\"data\", \"counts\", or \"scale.data\") (default: \"data\")\n",
    "#' @param save_plot Logical. Whether to save the plot (default: FALSE)\n",
    "#' @param filename Character. Filename for saving plot (default: NULL)\n",
    "#' @param plot_width Numeric. Width for saved plot (default: 10)\n",
    "#' @param plot_height Numeric. Height for saved plot (default: 6)\n",
    "#'\n",
    "#' @return ggplot object\n",
    "#'\n",
    "plot_gene_pseudotime <- function(seurat_obj,\n",
    "                                curves_obj,\n",
    "                                gene_name,\n",
    "                                lineage_name,\n",
    "                                min_cells = 50,\n",
    "                                n_bins = 50,\n",
    "                                color_palette = NULL,\n",
    "                                cell_type_column = \"seurat_clusters\",\n",
    "                                expression_slot = \"data\",\n",
    "                                save_plot = FALSE,\n",
    "                                filename = NULL,\n",
    "                                plot_width = 10,\n",
    "                                plot_height = 6) {\n",
    "  \n",
    "  # Input validation\n",
    "  message(\"=== STARTING INPUT VALIDATION ===\")\n",
    "  \n",
    "  if (!gene_name %in% rownames(seurat_obj)) {\n",
    "    stop(paste(\"Gene\", gene_name, \"not found in Seurat object\"))\n",
    "  }\n",
    "  message(\"✓ Gene found in Seurat object\")\n",
    "  \n",
    "  if (!lineage_name %in% colnames(slingPseudotime(curves_obj))) {\n",
    "    available_lineages <- colnames(slingPseudotime(curves_obj))\n",
    "    stop(paste(\"Lineage\", lineage_name, \"not found. Available lineages:\", paste(available_lineages, collapse = \", \")))\n",
    "  }\n",
    "  message(\"✓ Lineage found in curves object\")\n",
    "  \n",
    "  if (!cell_type_column %in% colnames(seurat_obj@meta.data)) {\n",
    "    stop(paste(\"Cell type column\", cell_type_column, \"not found in Seurat object metadata\"))\n",
    "  }\n",
    "  message(\"✓ Cell type column found in metadata\")\n",
    "  \n",
    "  message(\"=== EXTRACTING DATA ===\")\n",
    "  \n",
    "  # Extract pseudotime for specified lineage\n",
    "  pseudotime_matrix <- slingPseudotime(curves_obj)\n",
    "  pseudotime_data <- pseudotime_matrix[, lineage_name]\n",
    "  \n",
    "  message(paste(\"Extracted pseudotime for\", lineage_name, \"- length:\", length(pseudotime_data)))\n",
    "  message(paste(\"Number of NA values:\", sum(is.na(pseudotime_data))))\n",
    "  message(paste(\"Number of finite values:\", sum(is.finite(pseudotime_data))))\n",
    "  if(sum(is.finite(pseudotime_data)) > 0) {\n",
    "    message(paste(\"Pseudotime range:\", paste(range(pseudotime_data, na.rm = TRUE), collapse = \" to \")))\n",
    "  }\n",
    "  \n",
    "  # Get gene expression\n",
    "  gene_expression <- GetAssayData(seurat_obj, slot = expression_slot)[gene_name, ]\n",
    "  message(paste(\"Extracted expression for\", gene_name, \"- length:\", length(gene_expression)))\n",
    "  \n",
    "  # Get cell type information\n",
    "  cell_types <- seurat_obj@meta.data[names(pseudotime_data), cell_type_column]\n",
    "  message(paste(\"Extracted cell types - length:\", length(cell_types)))\n",
    "  message(paste(\"Number of NA cell types:\", sum(is.na(cell_types))))\n",
    "  message(paste(\"First few cell types:\", paste(head(cell_types, na.rm = TRUE), collapse = \", \")))\n",
    "  \n",
    "  # Create data frame\n",
    "  plot_data <- data.frame(\n",
    "    pseudotime = pseudotime_data,\n",
    "    expression = gene_expression[names(pseudotime_data)],\n",
    "    cell_type = cell_types\n",
    "  )\n",
    "  \n",
    "  message(paste(\"Created plot_data with\", nrow(plot_data), \"rows\"))\n",
    "  message(paste(\"Complete cases before filtering:\", sum(complete.cases(plot_data))))\n",
    "  \n",
    "  # Remove NA values\n",
    "  plot_data <- plot_data[complete.cases(plot_data), ]\n",
    "  \n",
    "  message(paste(\"Complete cases after filtering:\", nrow(plot_data)))\n",
    "  \n",
    "  # Check if we have any valid data after removing NAs\n",
    "  if (nrow(plot_data) == 0) {\n",
    "    message(\"=== DEBUGGING INFO ===\")\n",
    "    message(\"Original pseudotime_data length:\", length(pseudotime_data))\n",
    "    message(\"Original gene_expression length:\", length(gene_expression))\n",
    "    message(\"Original cell_types length:\", length(cell_types))\n",
    "    message(\"Names match between pseudotime and expression:\", \n",
    "            identical(names(pseudotime_data), names(gene_expression[names(pseudotime_data)])))\n",
    "    message(\"Sample of pseudotime names:\", paste(head(names(pseudotime_data)), collapse = \", \"))\n",
    "    message(\"Sample of expression names:\", paste(head(names(gene_expression)), collapse = \", \"))\n",
    "    stop(paste(\"No valid data found for\", lineage_name, \". Check if the lineage exists and has valid pseudotime values.\"))\n",
    "  }\n",
    "  \n",
    "  # Check if pseudotime values are finite\n",
    "  if (!all(is.finite(plot_data$pseudotime))) {\n",
    "    stop(\"Non-finite pseudotime values found. Please check your slingshot curves object.\")\n",
    "  }\n",
    "  \n",
    "  message(paste(\"Found\", nrow(plot_data), \"cells with valid pseudotime and expression data for\", lineage_name))\n",
    "  \n",
    "  # Count cells per cell type and identify small cell types\n",
    "  cell_type_counts <- table(plot_data$cell_type)\n",
    "  small_cell_types <- names(cell_type_counts[cell_type_counts < min_cells])\n",
    "  \n",
    "  message(paste(\"Cell type counts:\"))\n",
    "  print(cell_type_counts)\n",
    "  message(paste(\"Small cell types (< \", min_cells, \" cells):\", paste(small_cell_types, collapse = \", \")))\n",
    "  \n",
    "  # Group small cell types\n",
    "  plot_data$cell_type_plot <- as.character(plot_data$cell_type)\n",
    "  plot_data$cell_type_plot[plot_data$cell_type %in% small_cell_types] <- paste0(\"Other (< \", min_cells, \" cells)\")\n",
    "  \n",
    "  # Order cell types by median pseudotime\n",
    "  cell_type_order <- plot_data %>%\n",
    "    group_by(cell_type_plot) %>%\n",
    "    summarise(median_pseudotime = median(pseudotime, na.rm = TRUE), .groups = 'drop') %>%\n",
    "    arrange(median_pseudotime) %>%\n",
    "    pull(cell_type_plot)\n",
    "  \n",
    "  plot_data$cell_type_plot <- factor(plot_data$cell_type_plot, levels = cell_type_order)\n",
    "  \n",
    "  # Create pseudotime bins\n",
    "  pseudotime_range <- range(plot_data$pseudotime, na.rm = TRUE)\n",
    "  bin_breaks <- seq(pseudotime_range[1], pseudotime_range[2], length.out = n_bins + 1)\n",
    "  plot_data$pseudotime_bin <- cut(plot_data$pseudotime, breaks = bin_breaks, include.lowest = TRUE)\n",
    "  \n",
    "  # Find dominant cell type in each bin (excluding small cell types)\n",
    "  dominant_celltype <- plot_data %>%\n",
    "    filter(cell_type_plot != paste0(\"Other (< \", min_cells, \" cells)\")) %>%\n",
    "    group_by(pseudotime_bin) %>%\n",
    "    count(cell_type_plot) %>%\n",
    "    slice_max(n, n = 1, with_ties = FALSE) %>%\n",
    "    ungroup() %>%\n",
    "    select(pseudotime_bin, dominant_type = cell_type_plot)\n",
    "  \n",
    "  # Create bin centers\n",
    "  bin_centers <- (bin_breaks[-1] + bin_breaks[-length(bin_breaks)]) / 2\n",
    "  dominant_celltype$pseudotime_center <- bin_centers[as.numeric(dominant_celltype$pseudotime_bin)]\n",
    "  \n",
    "  # Fit GAM model for smooth predictions\n",
    "  gam_model <- gam(expression ~ s(pseudotime, bs = \"cs\"), data = plot_data)\n",
    "  smooth_data <- data.frame(pseudotime = bin_centers)\n",
    "  smooth_data$expression <- predict(gam_model, newdata = smooth_data)\n",
    "  \n",
    "  # Merge with dominant cell types\n",
    "  smooth_data <- merge(smooth_data, \n",
    "                       dominant_celltype[, c(\"pseudotime_center\", \"dominant_type\")], \n",
    "                       by.x = \"pseudotime\", by.y = \"pseudotime_center\", all.x = TRUE)\n",
    "  \n",
    "  # Create segment groups to break lines\n",
    "  smooth_data <- smooth_data[order(smooth_data$pseudotime), ]\n",
    "  smooth_data$segment_group <- cumsum(c(TRUE, smooth_data$dominant_type[-1] != smooth_data$dominant_type[-nrow(smooth_data)] | \n",
    "                                       is.na(smooth_data$dominant_type[-1]) | is.na(smooth_data$dominant_type[-nrow(smooth_data)])))\n",
    "  \n",
    "  # Remove rows with NA dominant_type\n",
    "  smooth_data <- smooth_data[!is.na(smooth_data$dominant_type), ]\n",
    "  \n",
    "  # Set up colors\n",
    "  major_cell_types <- levels(plot_data$cell_type_plot)[levels(plot_data$cell_type_plot) != paste0(\"Other (< \", min_cells, \" cells)\")]\n",
    "  \n",
    "  if (is.null(color_palette)) {\n",
    "    colors <- rainbow(length(major_cell_types))\n",
    "  } else {\n",
    "    if (length(color_palette) < length(major_cell_types)) {\n",
    "      warning(\"Not enough colors in palette. Recycling colors.\")\n",
    "      colors <- rep(color_palette, length.out = length(major_cell_types))\n",
    "    } else {\n",
    "      colors <- color_palette[1:length(major_cell_types)]\n",
    "    }\n",
    "  }\n",
    "  names(colors) <- major_cell_types\n",
    "  \n",
    "  # Create plot\n",
    "  p <- ggplot() +\n",
    "    # Add confidence interval\n",
    "    geom_smooth(data = plot_data, aes(x = pseudotime, y = expression),\n",
    "                method = \"gam\", formula = y ~ s(x, bs = \"cs\"), \n",
    "                se = TRUE, color = NA, fill = \"darkgrey\", alpha = 0.5) +\n",
    "    # Add colored line segments\n",
    "    geom_path(data = smooth_data, aes(x = pseudotime, y = expression, \n",
    "                                      color = dominant_type, group = segment_group), \n",
    "              linewidth = 2) +\n",
    "    scale_color_manual(values = colors, name = \"Dominant Cell Type\") +\n",
    "    labs(\n",
    "      title = paste(gene_name, \"Expression Trend Along\", lineage_name),\n",
    "      x = \"Pseudotime\",\n",
    "      y = paste(gene_name, \"Expression\"),\n",
    "      subtitle = paste0(\"Line colored by dominant cell type in each pseudotime region (n = \", \n",
    "                       nrow(plot_data), \" cells, min_cells = \", min_cells, \", bins = \", n_bins, \")\")\n",
    "    ) +\n",
    "    theme_classic() +\n",
    "    theme(\n",
    "      plot.title = element_text(size = 14, hjust = 0.5, face = \"bold\"),\n",
    "      plot.subtitle = element_text(size = 11, hjust = 0.5),\n",
    "      axis.title = element_text(size = 12),\n",
    "      axis.text = element_text(size = 10),\n",
    "      legend.title = element_text(size = 11),\n",
    "      legend.text = element_text(size = 9),\n",
    "      panel.grid.major.y = element_line(color = \"grey90\", linewidth = 0.5)\n",
    "    ) +\n",
    "    guides(color = guide_legend(override.aes = list(linewidth = 3)))\n",
    "  \n",
    "  # Save plot if requested\n",
    "  if (save_plot) {\n",
    "    if (is.null(filename)) {\n",
    "      filename <- paste0(gene_name, \"_\", lineage_name, \"_pseudotime_trend.pdf\")\n",
    "    }\n",
    "    ggsave(filename, plot = p, width = plot_width, height = plot_height)\n",
    "    message(paste(\"Plot saved as:\", filename))\n",
    "  }\n",
    "  \n",
    "  return(p)\n",
    "}\n",
    "\n",
    "# Example usage:\n",
    "# p <- plot_gene_pseudotime(seurat_obj, curves_df_old_umap, \"Atf3\", \"Lineage1\")"
   ]
  },
  {
   "cell_type": "code",
   "execution_count": null,
   "id": "c28fedb2-4b26-48a0-9e09-ed89846f1084",
   "metadata": {
    "vscode": {
     "languageId": "r"
    }
   },
   "outputs": [],
   "source": [
    "p <- plot_gene_pseudotime(\n",
    "   seurat_obj = df,\n",
    "   curves_obj = curves_df_old_umap,\n",
    "   gene_name = \"Atf3\",\n",
    "   lineage_name = \"Lineage1\",\n",
    "   min_cells = 100,\n",
    "   n_bins = 100,\n",
    "   color_palette = r3dcol$cols_94,\n",
    "   cell_type_column = \"seurat_clusters\"\n",
    ")\n",
    "options(repr.plot.width = 10, repr.plot.height = 5)\n",
    "print(p)"
   ]
  },
  {
   "cell_type": "code",
   "execution_count": null,
   "id": "b3ce3426-5145-446c-b6e1-70db173f573a",
   "metadata": {
    "vscode": {
     "languageId": "r"
    }
   },
   "outputs": [],
   "source": [
    "curves_df_old_umap"
   ]
  },
  {
   "cell_type": "code",
   "execution_count": null,
   "id": "78a9b0ba-ed08-41c9-b535-592044de9674",
   "metadata": {
    "vscode": {
     "languageId": "r"
    }
   },
   "outputs": [],
   "source": [
    "curves_df_old_umap@lineages$Lineage6"
   ]
  },
  {
   "cell_type": "code",
   "execution_count": null,
   "id": "426de1d8-b61c-4485-b2b4-3741cca90da5",
   "metadata": {
    "vscode": {
     "languageId": "r"
    }
   },
   "outputs": [],
   "source": [
    "curves_df_old_umap@lineages$Lineage5"
   ]
  },
  {
   "cell_type": "code",
   "execution_count": null,
   "id": "5a77d108-0932-478a-a584-981ece5f8ef2",
   "metadata": {
    "vscode": {
     "languageId": "r"
    }
   },
   "outputs": [],
   "source": []
  },
  {
   "cell_type": "code",
   "execution_count": null,
   "id": "a34941d6-70ec-4500-a7f0-257ca5a42bbf",
   "metadata": {
    "scrolled": true,
    "vscode": {
     "languageId": "r"
    }
   },
   "outputs": [],
   "source": [
    "options(repr.plot.width = 10, repr.plot.height = 10)\n",
    "plot_umap_pseudotime_and_centroids(\n",
    "  seurat_obj = df,\n",
    "  curves = curves,\n",
    "  embedding = \"UMAP\",\n",
    " cluster_col = \"orig.ident\",\n",
    "  color_vector = r3dcol$cols_94,   # Or your own color palette\n",
    "  point_cex = 0.4,\n",
    "  label_cex = 1,\n",
    "  legend_title = \"Pseudotime\",\n",
    "  legend_mar = 4\n",
    ")\n"
   ]
  },
  {
   "cell_type": "code",
   "execution_count": null,
   "id": "1058af6d-e5c9-4535-9c75-3a72a3c849b1",
   "metadata": {
    "vscode": {
     "languageId": "r"
    }
   },
   "outputs": [],
   "source": [
    "df$cell_type_subclusters <- df$celltype_extended_atlas"
   ]
  },
  {
   "cell_type": "code",
   "execution_count": null,
   "id": "d357f1a2-8b9c-4b16-a243-00595f9e1911",
   "metadata": {
    "vscode": {
     "languageId": "r"
    }
   },
   "outputs": [],
   "source": []
  },
  {
   "cell_type": "code",
   "execution_count": null,
   "id": "091ab00f-e8c3-4d97-96b8-27e3e13127c5",
   "metadata": {
    "vscode": {
     "languageId": "r"
    }
   },
   "outputs": [],
   "source": []
  },
  {
   "cell_type": "code",
   "execution_count": null,
   "id": "0f6717ba-8f68-44de-a10d-233fba6ef5bd",
   "metadata": {
    "scrolled": true,
    "vscode": {
     "languageId": "r"
    }
   },
   "outputs": [],
   "source": [
    "options(repr.plot.width = 20, repr.plot.height = 20)\n",
    "plot_umap_with_curves(seurat_obj = dfx,\n",
    "  reduction = \"dfx_umap_3d\",\n",
    "  cluster_col = \"celltype_extended_atlas\",\n",
    "  color_vector = rep(r3dcol$cols_46,2),\n",
    "  curves = curves_dfx_umap_3d_mnn,        # or 'curves' object from Slingshot\n",
    "  label_cex = 1,\n",
    "  point_pch = 16,\n",
    "  point_cex = 1,\n",
    "  line_lwd = 2\n",
    ")"
   ]
  },
  {
   "cell_type": "code",
   "execution_count": null,
   "id": "a60b4f20-8ce3-4ec5-9b8f-2d4a52d479c2",
   "metadata": {
    "scrolled": true,
    "vscode": {
     "languageId": "r"
    }
   },
   "outputs": [],
   "source": [
    "curves_dfx_umap_3d_mnn"
   ]
  },
  {
   "cell_type": "code",
   "execution_count": null,
   "id": "fed993de-ec10-48c2-99b8-ebb6449332a3",
   "metadata": {
    "vscode": {
     "languageId": "r"
    }
   },
   "outputs": [],
   "source": [
    "options(repr.plot.width = 20, repr.plot.height = 20)\n",
    "plot_umap_with_curves(seurat_obj = dfx,\n",
    "  reduction = \"dfx_umap_2d\",\n",
    "  cluster_col = \"celltype_extended_atlas\",\n",
    "  color_vector = rep(r3dcol$cols_46,2),\n",
    "  curves = curves_dfx_umap_2d_mnn,        # or 'curves' object from Slingshot\n",
    "  label_cex = 1,\n",
    "  point_pch = 16,\n",
    "  point_cex = 1,\n",
    "  line_lwd = 2\n",
    ")"
   ]
  },
  {
   "cell_type": "code",
   "execution_count": null,
   "id": "7ac7d933-0f8f-428e-b2c4-740cc966b23a",
   "metadata": {
    "vscode": {
     "languageId": "r"
    }
   },
   "outputs": [],
   "source": [
    "curves_dfx_umap_2d_mnn"
   ]
  },
  {
   "cell_type": "code",
   "execution_count": null,
   "id": "eb1d40b4-6cf9-40db-8529-26ccb36e6f80",
   "metadata": {
    "vscode": {
     "languageId": "r"
    }
   },
   "outputs": [],
   "source": [
    "options(repr.plot.width = 20, repr.plot.height = 20)\n",
    "plot_umap_with_curves(seurat_obj = dfx,\n",
    "  reduction = \"UMAP\",\n",
    "  cluster_col = \"celltype_extended_atlas\",\n",
    "  color_vector = rep(r3dcol$cols_46,2),\n",
    "  curves = curves_dfx_old_umap_mnn,        # or 'curves' object from Slingshot\n",
    "  label_cex = 1,\n",
    "  point_pch = 16,\n",
    "  point_cex = 1,\n",
    "  line_lwd = 2\n",
    ")"
   ]
  },
  {
   "cell_type": "code",
   "execution_count": null,
   "id": "1c4bc713-8b08-43bb-95c3-cad937b685bc",
   "metadata": {
    "vscode": {
     "languageId": "r"
    }
   },
   "outputs": [],
   "source": [
    "curves_dfx_old_umap_mnn"
   ]
  },
  {
   "cell_type": "code",
   "execution_count": null,
   "id": "e443f10f-482b-42d9-abd4-6c5d1c482467",
   "metadata": {
    "vscode": {
     "languageId": "r"
    }
   },
   "outputs": [],
   "source": [
    "options(repr.plot.width = 20, repr.plot.height = 20)\n",
    "plot_umap_with_curves(seurat_obj = dfx,\n",
    "  reduction = \"dfx_umap_3d\",\n",
    "  cluster_col = \"celltype_extended_atlas\",\n",
    "  color_vector = rep(r3dcol$cols_46,2),\n",
    "  curves = curves_dfx_umap_3d,        # or 'curves' object from Slingshot\n",
    "  label_cex = 1,\n",
    "  point_pch = 16,\n",
    "  point_cex = 1,\n",
    "  line_lwd = 2\n",
    ")"
   ]
  },
  {
   "cell_type": "code",
   "execution_count": null,
   "id": "324e6585-7fe8-46ff-9ec9-388fb3f076e4",
   "metadata": {
    "vscode": {
     "languageId": "r"
    }
   },
   "outputs": [],
   "source": [
    "curves_dfx_umap_3d"
   ]
  },
  {
   "cell_type": "code",
   "execution_count": null,
   "id": "abd6e496-a801-475f-bc0c-c9c7938ba746",
   "metadata": {
    "vscode": {
     "languageId": "r"
    }
   },
   "outputs": [],
   "source": [
    "options(repr.plot.width = 20, repr.plot.height = 20)\n",
    "plot_umap_with_curves(seurat_obj = dfx,\n",
    "  reduction = \"dfx_umap_2d\",\n",
    "  cluster_col = \"celltype_extended_atlas\",\n",
    "  color_vector = rep(r3dcol$cols_46,2),\n",
    "  curves = curves_dfx_umap_2d,        # or 'curves' object from Slingshot\n",
    "  label_cex = 1,\n",
    "  point_pch = 16,\n",
    "  point_cex = 1,\n",
    "  line_lwd = 2\n",
    ")"
   ]
  },
  {
   "cell_type": "code",
   "execution_count": null,
   "id": "ff749bed-9a02-4fe7-bffb-25a8b9baf931",
   "metadata": {
    "vscode": {
     "languageId": "r"
    }
   },
   "outputs": [],
   "source": [
    "curves_dfx_umap_2d"
   ]
  },
  {
   "cell_type": "code",
   "execution_count": null,
   "id": "c99b95cf-ef6f-4dbe-bcc1-2cb64f71a199",
   "metadata": {
    "vscode": {
     "languageId": "r"
    }
   },
   "outputs": [],
   "source": [
    "options(repr.plot.width = 20, repr.plot.height = 20)\n",
    "plot_umap_with_curves(seurat_obj = dfx,\n",
    "  reduction = \"UMAP\",\n",
    "  cluster_col = \"celltype_extended_atlas\",\n",
    "  color_vector = rep(r3dcol$cols_46,2),\n",
    "  curves = curves_dfx_old_umap,        # or 'curves' object from Slingshot\n",
    "  label_cex = 1,\n",
    "  point_pch = 16,\n",
    "  point_cex = 1,\n",
    "  line_lwd = 2\n",
    ")"
   ]
  },
  {
   "cell_type": "code",
   "execution_count": null,
   "id": "36d57d02-ac8c-419d-8b9f-7301b23d5567",
   "metadata": {
    "vscode": {
     "languageId": "r"
    }
   },
   "outputs": [],
   "source": [
    "curves_dfx_old_umap"
   ]
  },
  {
   "cell_type": "code",
   "execution_count": null,
   "id": "de9a4c40-27b1-41f3-9b44-1f1dec22673a",
   "metadata": {
    "vscode": {
     "languageId": "r"
    }
   },
   "outputs": [],
   "source": [
    "options(repr.plot.width = 20, repr.plot.height = 20)\n",
    "plot_umap_with_curves(seurat_obj = df,\n",
    "  reduction = \"df_umap_3d\",\n",
    "  cluster_col = \"celltype_extended_atlas\",\n",
    "  color_vector = rep(r3dcol$cols_46,2),\n",
    "  curves = curves_df_umap_3d_mnn,        # or 'curves' object from Slingshot\n",
    "  label_cex = 1,\n",
    "  point_pch = 16,\n",
    "  point_cex = 1,\n",
    "  line_lwd = 2\n",
    ")"
   ]
  },
  {
   "cell_type": "code",
   "execution_count": null,
   "id": "7106ccc2-65ba-432d-9205-d5f2a2427261",
   "metadata": {
    "vscode": {
     "languageId": "r"
    }
   },
   "outputs": [],
   "source": [
    "curves_df_umap_3d_mnn"
   ]
  },
  {
   "cell_type": "code",
   "execution_count": null,
   "id": "f37aa820-b7c0-45f5-af71-8aef31881a20",
   "metadata": {
    "vscode": {
     "languageId": "r"
    }
   },
   "outputs": [],
   "source": [
    "options(repr.plot.width = 20, repr.plot.height = 20)\n",
    "plot_umap_with_curves(seurat_obj = df,\n",
    "  reduction = \"df_umap_2d\",\n",
    "  cluster_col = \"celltype_extended_atlas\",\n",
    "  color_vector = rep(r3dcol$cols_46,2),\n",
    "  curves = curves_df_umap_2d_mnn,        # or 'curves' object from Slingshot\n",
    "  label_cex = 1,\n",
    "  point_pch = 16,\n",
    "  point_cex = 1,\n",
    "  line_lwd = 2\n",
    ")"
   ]
  },
  {
   "cell_type": "code",
   "execution_count": null,
   "id": "35d09050-74d0-41e6-8033-474667f6bf32",
   "metadata": {
    "vscode": {
     "languageId": "r"
    }
   },
   "outputs": [],
   "source": [
    "curves_df_umap_2d_mnn"
   ]
  },
  {
   "cell_type": "code",
   "execution_count": null,
   "id": "b7da6b24-7fcc-46bf-87ad-3b44a71d86a2",
   "metadata": {
    "vscode": {
     "languageId": "r"
    }
   },
   "outputs": [],
   "source": [
    "options(repr.plot.width = 20, repr.plot.height = 20)\n",
    "plot_umap_with_curves(seurat_obj = df,\n",
    "  reduction = \"UMAP\",\n",
    "  cluster_col = \"celltype_extended_atlas\",\n",
    "  color_vector = rep(r3dcol$cols_46,2),\n",
    "  curves = curves_df_old_umap_mnn,        # or 'curves' object from Slingshot\n",
    "  label_cex = 1,\n",
    "  point_pch = 16,\n",
    "  point_cex = 1,\n",
    "  line_lwd = 2\n",
    ")"
   ]
  },
  {
   "cell_type": "code",
   "execution_count": null,
   "id": "2171bee6-7678-44cc-9c2a-813667547bc1",
   "metadata": {
    "vscode": {
     "languageId": "r"
    }
   },
   "outputs": [],
   "source": [
    "curves_df_old_umap_mnn"
   ]
  },
  {
   "cell_type": "code",
   "execution_count": null,
   "id": "08ae7e97-37ae-4e92-80ed-3260750f74d6",
   "metadata": {
    "vscode": {
     "languageId": "r"
    }
   },
   "outputs": [],
   "source": [
    "options(repr.plot.width = 20, repr.plot.height = 20)\n",
    "plot_umap_with_curves(seurat_obj = df,\n",
    "  reduction = \"df_umap_3d\",\n",
    "  cluster_col = \"celltype_extended_atlas\",\n",
    "  color_vector = rep(r3dcol$cols_46,2),\n",
    "  curves = curves_df_umap_3d,        # or 'curves' object from Slingshot\n",
    "  label_cex = 1,\n",
    "  point_pch = 16,\n",
    "  point_cex = 1,\n",
    "  line_lwd = 2\n",
    ")"
   ]
  },
  {
   "cell_type": "code",
   "execution_count": null,
   "id": "e41479a0-2837-4e2b-8ed8-d93943e15075",
   "metadata": {
    "vscode": {
     "languageId": "r"
    }
   },
   "outputs": [],
   "source": [
    "curves_df_umap_3d"
   ]
  },
  {
   "cell_type": "code",
   "execution_count": null,
   "id": "689b5f56-5b5c-459e-a648-1bfd92394f4e",
   "metadata": {
    "vscode": {
     "languageId": "r"
    }
   },
   "outputs": [],
   "source": [
    "options(repr.plot.width = 20, repr.plot.height = 20)\n",
    "plot_umap_with_curves(seurat_obj = df,\n",
    "  reduction = \"df_umap_2d\",\n",
    "  cluster_col = \"celltype_extended_atlas\",\n",
    "  color_vector = rep(r3dcol$cols_46,2),\n",
    "  curves = curves_df_umap_2d,        # or 'curves' object from Slingshot\n",
    "  label_cex = 1,\n",
    "  point_pch = 16,\n",
    "  point_cex = 1,\n",
    "  line_lwd = 2\n",
    ")"
   ]
  },
  {
   "cell_type": "code",
   "execution_count": null,
   "id": "dc866520-115a-420d-b13c-85866c9c54a8",
   "metadata": {
    "vscode": {
     "languageId": "r"
    }
   },
   "outputs": [],
   "source": [
    "curves_df_umap_2d"
   ]
  },
  {
   "cell_type": "code",
   "execution_count": null,
   "id": "fb6fb91d-18bb-46d3-a46b-1263af89657c",
   "metadata": {
    "vscode": {
     "languageId": "r"
    }
   },
   "outputs": [],
   "source": [
    "options(repr.plot.width = 20, repr.plot.height = 20)\n",
    "plot_umap_with_curves(seurat_obj = df,\n",
    "  reduction = \"UMAP\",\n",
    "  cluster_col = \"celltype_extended_atlas\",\n",
    "  color_vector = rep(r3dcol$cols_46,2),\n",
    "  curves = curves_df_old_umap,        # or 'curves' object from Slingshot\n",
    "  label_cex = 1,\n",
    "  point_pch = 16,\n",
    "  point_cex = 1,\n",
    "  line_lwd = 2\n",
    ")"
   ]
  },
  {
   "cell_type": "code",
   "execution_count": null,
   "id": "ba73fdc6-e66f-4f8a-ba8d-ba0b42a69dd1",
   "metadata": {
    "vscode": {
     "languageId": "r"
    }
   },
   "outputs": [],
   "source": [
    "curves_df_old_umap"
   ]
  },
  {
   "cell_type": "markdown",
   "id": "9b4d47a6-e42b-4625-b7c7-12360eddd8eb",
   "metadata": {},
   "source": [
    "### Notes"
   ]
  },
  {
   "cell_type": "markdown",
   "id": "62828453-dbec-4c0d-8f5a-e248e90f210c",
   "metadata": {},
   "source": [
    "It didn't work, I will try to do it more lineage specified mannar."
   ]
  },
  {
   "cell_type": "code",
   "execution_count": null,
   "id": "3a67de3d-5700-4242-b560-4d4e3bd04c1f",
   "metadata": {
    "vscode": {
     "languageId": "r"
    }
   },
   "outputs": [],
   "source": [
    "ls()"
   ]
  },
  {
   "cell_type": "code",
   "execution_count": null,
   "id": "5ff59f69-a9d3-4257-993d-be76040ea28e",
   "metadata": {
    "vscode": {
     "languageId": "r"
    }
   },
   "outputs": [],
   "source": [
    "rm(lm_obj)"
   ]
  },
  {
   "cell_type": "code",
   "execution_count": null,
   "id": "91a496b2-2683-4624-9a1a-bd5e136e8da5",
   "metadata": {
    "vscode": {
     "languageId": "r"
    }
   },
   "outputs": [],
   "source": [
    "rm(wt_obj)"
   ]
  },
  {
   "cell_type": "code",
   "execution_count": null,
   "id": "222dfd1d-ceaf-47e8-8189-a963cd46c0ae",
   "metadata": {
    "vscode": {
     "languageId": "r"
    }
   },
   "outputs": [],
   "source": [
    "ls()"
   ]
  },
  {
   "cell_type": "code",
   "execution_count": null,
   "id": "5f701d90-375f-4309-b36b-8be4d216ecc2",
   "metadata": {
    "vscode": {
     "languageId": "r"
    }
   },
   "outputs": [],
   "source": [
    "gc()"
   ]
  },
  {
   "cell_type": "markdown",
   "id": "842f19cd-ada7-4ef3-af4a-bdd75e3bb8dd",
   "metadata": {},
   "source": [
    "## In vitro (CMO)"
   ]
  },
  {
   "cell_type": "code",
   "execution_count": null,
   "id": "52aab487-6fa1-47aa-8514-1b620bb634c8",
   "metadata": {
    "vscode": {
     "languageId": "r"
    }
   },
   "outputs": [],
   "source": [
    "obj"
   ]
  },
  {
   "cell_type": "code",
   "execution_count": null,
   "id": "6bac3329-6b35-4885-a9ef-58aca54d6c46",
   "metadata": {
    "vscode": {
     "languageId": "r"
    }
   },
   "outputs": [],
   "source": [
    "table(obj$new_subclusters_x)"
   ]
  },
  {
   "cell_type": "markdown",
   "id": "671fb93d-a1bc-4574-add9-6b2cbca15d14",
   "metadata": {},
   "source": [
    "### Late Mesoderm"
   ]
  },
  {
   "cell_type": "code",
   "execution_count": null,
   "id": "cde922ee-6969-4313-a8f4-614cfd4ed952",
   "metadata": {
    "vscode": {
     "languageId": "r"
    }
   },
   "outputs": [],
   "source": [
    "xobj <- subset(obj, subset = new_subclusters_x %in% c('Naive Pluripotency','Epiblast','Primitive Streak','Nascent Mesoderm','Lateral Plate Mesoderm','Epicardium','Mesenchyme','Limb Mesoderm','Allantois'))"
   ]
  },
  {
   "cell_type": "markdown",
   "id": "f0dc125a-92c8-44af-a831-e80aea43e98f",
   "metadata": {},
   "source": [
    "#### Epicardium"
   ]
  },
  {
   "cell_type": "code",
   "execution_count": null,
   "id": "417eaa0f-cabf-4f78-b87a-29fbc65da936",
   "metadata": {
    "vscode": {
     "languageId": "r"
    }
   },
   "outputs": [],
   "source": [
    "xobj <- subset(obj, subset = new_subclusters_x %in% c('Naive Pluripotency','Epiblast','Primitive Streak','Nascent Mesoderm','Lateral Plate Mesoderm','Epicardium'))"
   ]
  },
  {
   "cell_type": "code",
   "execution_count": null,
   "id": "bfabb74e-7626-4b9a-9e8d-c486503cbc36",
   "metadata": {
    "vscode": {
     "languageId": "r"
    }
   },
   "outputs": [],
   "source": [
    "xobj"
   ]
  },
  {
   "cell_type": "code",
   "execution_count": null,
   "id": "e2fb68cb-0417-470f-b076-b6d6f86ba08d",
   "metadata": {
    "vscode": {
     "languageId": "r"
    }
   },
   "outputs": [],
   "source": [
    "table(obj$Conditions_lv)"
   ]
  },
  {
   "cell_type": "code",
   "execution_count": null,
   "id": "b7f3004b-00dc-4ca3-88cf-77bf097b2ed4",
   "metadata": {
    "vscode": {
     "languageId": "r"
    }
   },
   "outputs": [],
   "source": [
    "xobj <- subset(xobj, subset = Conditions_lv %in% \"Control\")\n",
    "xobj"
   ]
  },
  {
   "cell_type": "code",
   "execution_count": null,
   "id": "1d1d76f5-6447-4105-90b2-c22d0ea51d60",
   "metadata": {
    "vscode": {
     "languageId": "r"
    }
   },
   "outputs": [],
   "source": [
    "DimPlot(xobj, reduction = \"UMAP\")"
   ]
  },
  {
   "cell_type": "code",
   "execution_count": null,
   "id": "b35dd0e1-876a-4ba8-9e82-591b09cf7f99",
   "metadata": {
    "scrolled": true,
    "vscode": {
     "languageId": "r"
    }
   },
   "outputs": [],
   "source": [
    "# New harmony Umap\n",
    "xobj <- RunUMAP(xobj, reduction = \"PCA\", dims = 1:50, n.components = 2L,\n",
    "                     n.neighbors = 10,reduction.name = \"xobj_umap0\")\n",
    "xobj <- RunUMAP(xobj, reduction = \"PCA\", dims = 1:50, n.components = 2L, local.connectivity = 1L,\n",
    "                  min.dist = 0.5, spread = 0.5,\n",
    "                     n.neighbors = 10,reduction.name = \"xobj_umap1\")\n",
    "xobj <- RunUMAP(xobj, reduction = \"PCA\", dims = 1:50, n.components = 2L, local.connectivity = 1L,\n",
    "                  min.dist = 0.4, spread = 0.5,\n",
    "                     n.neighbors = 10,reduction.name = \"xobj_umap2\")\n",
    "xobj <- RunUMAP(xobj, reduction = \"PCA\", dims = 1:50, n.components = 2L, local.connectivity = 1L,\n",
    "                  min.dist = 0.3, spread = 0.5,\n",
    "                     n.neighbors = 10,reduction.name = \"xobj_umap3\")"
   ]
  },
  {
   "cell_type": "code",
   "execution_count": null,
   "id": "a162708e-ab51-403c-b3f2-4af37d623148",
   "metadata": {
    "vscode": {
     "languageId": "r"
    }
   },
   "outputs": [],
   "source": [
    "options(repr.plot.width = 12, repr.plot.height = 8)\n",
    "DimPlot(xobj, reduction = \"UMAP\", cols = r3dcol$cols_94, group.by = 'new_subclusters_x')\n",
    "DimPlot(xobj, reduction = \"xobj_umap0\", cols = r3dcol$cols_94, group.by = 'new_subclusters_x')\n",
    "DimPlot(xobj, reduction = \"xobj_umap1\", cols = r3dcol$cols_94, group.by = 'new_subclusters_x')\n",
    "DimPlot(xobj, reduction = \"xobj_umap2\", cols = r3dcol$cols_94, group.by = 'new_subclusters_x')\n",
    "DimPlot(xobj, reduction = \"xobj_umap3\", cols = r3dcol$cols_94, group.by = 'new_subclusters_x')"
   ]
  },
  {
   "cell_type": "code",
   "execution_count": null,
   "id": "56a70148-6599-49fa-9576-cb4fb05e534a",
   "metadata": {
    "vscode": {
     "languageId": "r"
    }
   },
   "outputs": [],
   "source": [
    "options(repr.plot.width = 12, repr.plot.height = 8)\n",
    "DimPlot(xobj, reduction = \"xobj_umap0\", cols = r3dcol$cols_94, group.by = 'new_subclusters', label = TRUE)"
   ]
  },
  {
   "cell_type": "code",
   "execution_count": null,
   "id": "93f4a823-2186-4417-a991-d439f85c3727",
   "metadata": {
    "vscode": {
     "languageId": "r"
    }
   },
   "outputs": [],
   "source": [
    "set.seed(1)\n",
    "lineages_xobj <- as.SlingshotDataSet(getLineages(\n",
    "  data           = xobj@reductions$xobj_umap0@cell.embeddings,\n",
    "  clusterLabels  = xobj$new_subclusters,\n",
    "  dist.method    = \"slingshot\", # It can be: \"simple\", \"scaled.full\", \"scaled.diag\", \"slingshot\" or \"mnn\"\n",
    "  end.clus       = c(\"Epicardium 3\"),\n",
    "  start.clus     = \"Naive Pluripotency\"# define where to START the trajectories\n",
    ")) "
   ]
  },
  {
   "cell_type": "code",
   "execution_count": null,
   "id": "b165d5d6-5126-44c8-a8e1-49cb7963ddfd",
   "metadata": {
    "vscode": {
     "languageId": "r"
    }
   },
   "outputs": [],
   "source": [
    "# Define curves\n",
    "curves_xobj <- as.SlingshotDataSet(getCurves(data = lineages_xobj,approx_points = 1000))"
   ]
  },
  {
   "cell_type": "code",
   "execution_count": null,
   "id": "eadc94d9-6cfc-412b-91d2-adda8aa4c448",
   "metadata": {
    "vscode": {
     "languageId": "r"
    }
   },
   "outputs": [],
   "source": [
    "curves_xobj"
   ]
  },
  {
   "cell_type": "code",
   "execution_count": null,
   "id": "3d3a6742-d4be-4370-b808-40336d4baaea",
   "metadata": {
    "vscode": {
     "languageId": "r"
    }
   },
   "outputs": [],
   "source": [
    "options(repr.plot.width = 12, repr.plot.height = 12)\n",
    "p_curves <-plot_umap_with_curves(seurat_obj = xobj,\n",
    "  reduction = \"xobj_umap0\",\n",
    "  cluster_col = \"new_subclusters\",\n",
    "  color_vector = rep(r3dcol$cols_46,2),\n",
    "  curves = curves_xobj,        # or 'curves' object from Slingshot\n",
    "  label_cex = 1,\n",
    "  point_pch = 16,\n",
    "  point_cex = 1,\n",
    "  line_lwd = 2\n",
    ")\n",
    "p_curves"
   ]
  },
  {
   "cell_type": "code",
   "execution_count": null,
   "id": "3ff226db-60f3-4181-8ed7-cf0da77377c3",
   "metadata": {
    "vscode": {
     "languageId": "r"
    }
   },
   "outputs": [],
   "source": [
    "options(repr.plot.width = 5, repr.plot.height = 5)\n",
    "p_pseudo <- plot_umap_pseudotime_and_centroids(\n",
    "  seurat_obj = xobj,\n",
    "  curves = curves_xobj,\n",
    "  embedding = \"xobj_umap0\",\n",
    " cluster_col = \"new_subclusters\",\n",
    "  color_vector = r3dcol$cols_94,   # Or your own color palette\n",
    "  point_cex = 0.4,\n",
    "  label_cex = 1,\n",
    "  legend_title = \"Pseudotime\",\n",
    "  legend_mar = 2\n",
    ")\n",
    "p_pseudo"
   ]
  },
  {
   "cell_type": "code",
   "execution_count": null,
   "id": "afcd0371-d4c7-4437-9e60-8f8cf7d10d0b",
   "metadata": {
    "vscode": {
     "languageId": "r"
    }
   },
   "outputs": [],
   "source": [
    "curves_xobj"
   ]
  },
  {
   "cell_type": "code",
   "execution_count": null,
   "id": "7da2ca5c-36f8-4dda-b8a3-7c6aa1971160",
   "metadata": {
    "scrolled": true,
    "vscode": {
     "languageId": "r"
    }
   },
   "outputs": [],
   "source": [
    "p_epicardium <- plot_gene_pseudotime(\n",
    "   seurat_obj = xobj,\n",
    "   curves_obj = curves_xobj,\n",
    "   gene_name = \"Atf3\",\n",
    "   lineage_name = \"Lineage1\",\n",
    "   min_cells = 100,\n",
    "   n_bins = 200,\n",
    "   color_palette = r3dcol$cols_94,\n",
    "   cell_type_column = \"new_subclusters_x\"\n",
    ")"
   ]
  },
  {
   "cell_type": "code",
   "execution_count": null,
   "id": "1725e5cf-f0e0-4c05-9de4-7a4cbe411497",
   "metadata": {
    "vscode": {
     "languageId": "r"
    }
   },
   "outputs": [],
   "source": [
    "options(repr.plot.width = 10, repr.plot.height = 5)\n",
    "print(p_epicardium)"
   ]
  },
  {
   "cell_type": "code",
   "execution_count": null,
   "id": "0a7af508-65d8-4082-81bc-6f4792bb9160",
   "metadata": {
    "vscode": {
     "languageId": "r"
    }
   },
   "outputs": [],
   "source": []
  },
  {
   "cell_type": "code",
   "execution_count": null,
   "id": "42db0119-3334-437d-bfdb-9f778436523f",
   "metadata": {
    "vscode": {
     "languageId": "r"
    }
   },
   "outputs": [],
   "source": [
    "saveRDS(xobj, \"./cmo_v3_latemesoderm_epicardium_lineage.rds\")"
   ]
  },
  {
   "cell_type": "code",
   "execution_count": null,
   "id": "43a8be48-d88f-4eeb-a498-568e02e7384d",
   "metadata": {
    "vscode": {
     "languageId": "r"
    }
   },
   "outputs": [],
   "source": [
    "saveRDS(lineages_xobj, './cmo_v3_latemesoderm_epicardium_slingshot_lin.rds')\n",
    "saveRDS(curves_xobj, './cmo_v3_latemesoderm_epicardium_slingshot_curves.rds')"
   ]
  },
  {
   "cell_type": "code",
   "execution_count": null,
   "id": "bb36f6c9-5b81-4bba-8b8d-e5d9f06dac0f",
   "metadata": {
    "vscode": {
     "languageId": "r"
    }
   },
   "outputs": [],
   "source": [
    "cmo_lm_epicardium_xobj <-xobj\n",
    "lineages_cmo_lm_epicardium <-lineages_xobj\n",
    "curves_cmo_lm_epicardium <- curves_xobj"
   ]
  },
  {
   "cell_type": "code",
   "execution_count": null,
   "id": "d8263e39-1930-4a53-a125-06dad0b444dd",
   "metadata": {
    "vscode": {
     "languageId": "r"
    }
   },
   "outputs": [],
   "source": []
  },
  {
   "cell_type": "markdown",
   "id": "602a8966-e5ee-4aa9-bc62-48e020b032be",
   "metadata": {},
   "source": [
    "#### Limb Mesoderm"
   ]
  },
  {
   "cell_type": "code",
   "execution_count": null,
   "id": "5854196a-ed3b-4976-a123-f711ecea18c6",
   "metadata": {
    "vscode": {
     "languageId": "r"
    }
   },
   "outputs": [],
   "source": [
    "xobj <- subset(obj, subset = new_subclusters_x %in% c('Naive Pluripotency','Epiblast','Primitive Streak','Nascent Mesoderm','Lateral Plate Mesoderm','Limb Mesoderm'))"
   ]
  },
  {
   "cell_type": "code",
   "execution_count": null,
   "id": "8367875e-463d-4d44-a41e-3e88fb5d2980",
   "metadata": {
    "vscode": {
     "languageId": "r"
    }
   },
   "outputs": [],
   "source": [
    "xobj"
   ]
  },
  {
   "cell_type": "code",
   "execution_count": null,
   "id": "4493977b-e281-49aa-b03c-e4f1db27dcea",
   "metadata": {
    "vscode": {
     "languageId": "r"
    }
   },
   "outputs": [],
   "source": [
    "table(xobj$new_subclusters_x)"
   ]
  },
  {
   "cell_type": "code",
   "execution_count": null,
   "id": "ece541b0-6831-4f90-95c9-3c29bc29f4ef",
   "metadata": {
    "vscode": {
     "languageId": "r"
    }
   },
   "outputs": [],
   "source": [
    "table(obj$Conditions_lv)"
   ]
  },
  {
   "cell_type": "code",
   "execution_count": null,
   "id": "3e7bcb41-37fa-426c-8964-6835e681e6ce",
   "metadata": {
    "vscode": {
     "languageId": "r"
    }
   },
   "outputs": [],
   "source": [
    "xobj <- subset(xobj, subset = Conditions_lv %in% \"Control\")\n",
    "xobj"
   ]
  },
  {
   "cell_type": "code",
   "execution_count": null,
   "id": "f6af49e7-5e6d-4c8d-8edb-b03c23e0361d",
   "metadata": {
    "vscode": {
     "languageId": "r"
    }
   },
   "outputs": [],
   "source": [
    "DimPlot(xobj, reduction = \"UMAP\")"
   ]
  },
  {
   "cell_type": "code",
   "execution_count": null,
   "id": "8bbb5169-99dd-44c7-a649-f5b7feabd50f",
   "metadata": {
    "scrolled": true,
    "vscode": {
     "languageId": "r"
    }
   },
   "outputs": [],
   "source": [
    "# New harmony Umap\n",
    "xobj <- RunUMAP(xobj, reduction = \"PCA\", dims = 1:50, n.components = 2L,\n",
    "                     n.neighbors = 10,reduction.name = \"xobj_umap0\")\n",
    "xobj <- RunUMAP(xobj, reduction = \"PCA\", dims = 1:50, n.components = 2L, local.connectivity = 1L,\n",
    "                  min.dist = 0.5, spread = 0.5,\n",
    "                     n.neighbors = 10,reduction.name = \"xobj_umap1\")\n",
    "xobj <- RunUMAP(xobj, reduction = \"PCA\", dims = 1:50, n.components = 2L, local.connectivity = 1L,\n",
    "                  min.dist = 0.4, spread = 0.5,\n",
    "                     n.neighbors = 10,reduction.name = \"xobj_umap2\")\n",
    "xobj <- RunUMAP(xobj, reduction = \"PCA\", dims = 1:50, n.components = 2L, local.connectivity = 1L,\n",
    "                  min.dist = 0.3, spread = 0.5,\n",
    "                     n.neighbors = 10,reduction.name = \"xobj_umap3\")"
   ]
  },
  {
   "cell_type": "code",
   "execution_count": null,
   "id": "18b23e9d-827c-4743-b1c1-489a90dd01db",
   "metadata": {
    "vscode": {
     "languageId": "r"
    }
   },
   "outputs": [],
   "source": [
    "options(repr.plot.width = 12, repr.plot.height = 8)\n",
    "DimPlot(xobj, reduction = \"UMAP\", cols = r3dcol$cols_94, group.by = 'new_subclusters_x')\n",
    "DimPlot(xobj, reduction = \"xobj_umap0\", cols = r3dcol$cols_94, group.by = 'new_subclusters_x')\n",
    "DimPlot(xobj, reduction = \"xobj_umap1\", cols = r3dcol$cols_94, group.by = 'new_subclusters_x')\n",
    "DimPlot(xobj, reduction = \"xobj_umap2\", cols = r3dcol$cols_94, group.by = 'new_subclusters_x')\n",
    "DimPlot(xobj, reduction = \"xobj_umap3\", cols = r3dcol$cols_94, group.by = 'new_subclusters_x')"
   ]
  },
  {
   "cell_type": "code",
   "execution_count": null,
   "id": "be592410-ac64-4684-8613-49b25735bfdd",
   "metadata": {
    "vscode": {
     "languageId": "r"
    }
   },
   "outputs": [],
   "source": [
    "options(repr.plot.width = 12, repr.plot.height = 8)\n",
    "DimPlot(xobj, reduction = \"xobj_umap0\", cols = r3dcol$cols_94, group.by = 'new_subclusters', label = TRUE)"
   ]
  },
  {
   "cell_type": "code",
   "execution_count": null,
   "id": "44f78bd5-ba2a-4b39-9be5-0de0e304d154",
   "metadata": {
    "vscode": {
     "languageId": "r"
    }
   },
   "outputs": [],
   "source": [
    "set.seed(1)\n",
    "lineages_xobj <- as.SlingshotDataSet(getLineages(\n",
    "  data           = xobj@reductions$xobj_umap0@cell.embeddings,\n",
    "  clusterLabels  = xobj$new_subclusters,\n",
    "  dist.method    = \"slingshot\", # It can be: \"simple\", \"scaled.full\", \"scaled.diag\", \"slingshot\" or \"mnn\"\n",
    "  end.clus       = c(\"Limb Mesoderm 2\"),\n",
    "  start.clus     = \"Naive Pluripotency\"# define where to START the trajectories\n",
    ")) "
   ]
  },
  {
   "cell_type": "code",
   "execution_count": null,
   "id": "ec248547-dd02-4535-b717-539449ae08ec",
   "metadata": {
    "vscode": {
     "languageId": "r"
    }
   },
   "outputs": [],
   "source": [
    "# Define curves\n",
    "curves_xobj <- as.SlingshotDataSet(getCurves(data = lineages_xobj,approx_points = 1000))"
   ]
  },
  {
   "cell_type": "code",
   "execution_count": null,
   "id": "65d5f95e-2ced-4277-85bc-d5ce9cb2d3e6",
   "metadata": {
    "vscode": {
     "languageId": "r"
    }
   },
   "outputs": [],
   "source": [
    "options(repr.plot.width = 12, repr.plot.height = 12)\n",
    "p_curves <-plot_umap_with_curves(seurat_obj = xobj,\n",
    "  reduction = \"xobj_umap0\",\n",
    "  cluster_col = \"new_subclusters\",\n",
    "  color_vector = rep(r3dcol$cols_46,2),\n",
    "  curves = curves_xobj,        # or 'curves' object from Slingshot\n",
    "  label_cex = 1,\n",
    "  point_pch = 16,\n",
    "  point_cex = 1,\n",
    "  line_lwd = 2\n",
    ")\n",
    "p_curves"
   ]
  },
  {
   "cell_type": "code",
   "execution_count": null,
   "id": "0cf2368d-e43d-419c-8c8e-eac4e614e998",
   "metadata": {
    "vscode": {
     "languageId": "r"
    }
   },
   "outputs": [],
   "source": [
    "options(repr.plot.width = 5, repr.plot.height = 5)\n",
    "p_pseudo <- plot_umap_pseudotime_and_centroids(\n",
    "  seurat_obj = xobj,\n",
    "  curves = curves_xobj,\n",
    "  embedding = \"xobj_umap0\",\n",
    " cluster_col = \"new_subclusters\",\n",
    "  color_vector = r3dcol$cols_94,   # Or your own color palette\n",
    "  point_cex = 0.4,\n",
    "  label_cex = 1,\n",
    "  legend_title = \"Pseudotime\",\n",
    "  legend_mar = 2\n",
    ")\n",
    "p_pseudo"
   ]
  },
  {
   "cell_type": "code",
   "execution_count": null,
   "id": "21db3edf-2fb6-4fe8-a486-4933cfb325df",
   "metadata": {
    "vscode": {
     "languageId": "r"
    }
   },
   "outputs": [],
   "source": [
    "curves_xobj"
   ]
  },
  {
   "cell_type": "code",
   "execution_count": null,
   "id": "d6abc963-124e-4c2e-8823-2c66936d82bd",
   "metadata": {
    "scrolled": true,
    "vscode": {
     "languageId": "r"
    }
   },
   "outputs": [],
   "source": [
    "p_limb_mesoderm <- plot_gene_pseudotime(\n",
    "   seurat_obj = xobj,\n",
    "   curves_obj = curves_xobj,\n",
    "   gene_name = \"Atf3\",\n",
    "   lineage_name = \"Lineage1\",\n",
    "   min_cells = 100,\n",
    "   n_bins = 200,\n",
    "   color_palette = r3dcol$cols_94,\n",
    "   cell_type_column = \"new_subclusters_x\"\n",
    ")"
   ]
  },
  {
   "cell_type": "code",
   "execution_count": null,
   "id": "c0cc0bce-3aec-48b0-b646-a8be5d24d9c3",
   "metadata": {
    "vscode": {
     "languageId": "r"
    }
   },
   "outputs": [],
   "source": [
    "options(repr.plot.width = 10, repr.plot.height = 5)\n",
    "print(p_limb_mesoderm)"
   ]
  },
  {
   "cell_type": "code",
   "execution_count": null,
   "id": "e48eaefd-b2cd-4ede-b623-0470536d14d9",
   "metadata": {
    "vscode": {
     "languageId": "r"
    }
   },
   "outputs": [],
   "source": []
  },
  {
   "cell_type": "code",
   "execution_count": null,
   "id": "ea532676-4844-47fd-aad8-74bb5c6130d5",
   "metadata": {
    "vscode": {
     "languageId": "r"
    }
   },
   "outputs": [],
   "source": [
    "saveRDS(xobj, \"./cmo_v3_latemesoderm_limb_mesoderm_lineage.rds\")"
   ]
  },
  {
   "cell_type": "code",
   "execution_count": null,
   "id": "85531cd9-2705-45b9-a2ce-c81633e38314",
   "metadata": {
    "vscode": {
     "languageId": "r"
    }
   },
   "outputs": [],
   "source": [
    "saveRDS(lineages_xobj, './cmo_v3_latemesoderm_limb_mesoderm_slingshot_lin.rds')\n",
    "saveRDS(curves_xobj, './cmo_v3_latemesoderm_limb_mesoderm_slingshot_curves.rds')"
   ]
  },
  {
   "cell_type": "code",
   "execution_count": null,
   "id": "d15a39bf-ee8f-4cfe-855d-4f5879a7959c",
   "metadata": {
    "vscode": {
     "languageId": "r"
    }
   },
   "outputs": [],
   "source": [
    "cmo_lm_limb_mesoderm_xobj <-xobj\n",
    "lineages_cmo_lm_limb_mesoderm <-lineages_xobj\n",
    "curves_cmo_lm_limb_mesoderm <- curves_xobj"
   ]
  },
  {
   "cell_type": "code",
   "execution_count": null,
   "id": "e5ebad77-6716-49be-85b5-686241ed5448",
   "metadata": {
    "vscode": {
     "languageId": "r"
    }
   },
   "outputs": [],
   "source": []
  },
  {
   "cell_type": "markdown",
   "id": "34167c22-231c-4b5c-8618-754c263ecf2a",
   "metadata": {},
   "source": [
    "#### Mesenchyme"
   ]
  },
  {
   "cell_type": "code",
   "execution_count": null,
   "id": "24caa5a1-0f5d-4007-b177-187ee6463690",
   "metadata": {
    "vscode": {
     "languageId": "r"
    }
   },
   "outputs": [],
   "source": [
    "xobj <- subset(obj, subset = new_subclusters_x %in% c('Naive Pluripotency','Epiblast','Primitive Streak','Nascent Mesoderm','Lateral Plate Mesoderm','Mesenchyme'))"
   ]
  },
  {
   "cell_type": "code",
   "execution_count": null,
   "id": "a3f9f80e-3a6a-408c-b814-a47b339eed3f",
   "metadata": {
    "vscode": {
     "languageId": "r"
    }
   },
   "outputs": [],
   "source": [
    "xobj"
   ]
  },
  {
   "cell_type": "code",
   "execution_count": null,
   "id": "0ea0dee9-b527-4a6e-8b7c-976d10e26c7a",
   "metadata": {
    "vscode": {
     "languageId": "r"
    }
   },
   "outputs": [],
   "source": [
    "table(xobj$new_subclusters_x)"
   ]
  },
  {
   "cell_type": "code",
   "execution_count": null,
   "id": "1d1394a5-2525-4150-b7ad-a88f49795cc6",
   "metadata": {
    "vscode": {
     "languageId": "r"
    }
   },
   "outputs": [],
   "source": [
    "table(obj$Conditions_lv)"
   ]
  },
  {
   "cell_type": "code",
   "execution_count": null,
   "id": "d94d238b-7b25-41f0-a318-fa912f49387e",
   "metadata": {
    "vscode": {
     "languageId": "r"
    }
   },
   "outputs": [],
   "source": [
    "xobj <- subset(xobj, subset = Conditions_lv %in% \"Control\")\n",
    "xobj"
   ]
  },
  {
   "cell_type": "code",
   "execution_count": null,
   "id": "230d54cc-d9fe-45d9-b6aa-4d3e7a51abb8",
   "metadata": {
    "vscode": {
     "languageId": "r"
    }
   },
   "outputs": [],
   "source": [
    "DimPlot(xobj, reduction = \"UMAP\")"
   ]
  },
  {
   "cell_type": "code",
   "execution_count": null,
   "id": "b8f5d617-35d5-4d40-8067-ca18c53d0307",
   "metadata": {
    "scrolled": true,
    "vscode": {
     "languageId": "r"
    }
   },
   "outputs": [],
   "source": [
    "# New harmony Umap\n",
    "xobj <- RunUMAP(xobj, reduction = \"PCA\", dims = 1:50, n.components = 2L,\n",
    "                     n.neighbors = 10,reduction.name = \"xobj_umap0\")\n",
    "xobj <- RunUMAP(xobj, reduction = \"PCA\", dims = 1:50, n.components = 2L, local.connectivity = 1L,\n",
    "                  min.dist = 0.5, spread = 0.5,\n",
    "                     n.neighbors = 10,reduction.name = \"xobj_umap1\")\n",
    "xobj <- RunUMAP(xobj, reduction = \"PCA\", dims = 1:50, n.components = 2L, local.connectivity = 1L,\n",
    "                  min.dist = 0.4, spread = 0.5,\n",
    "                     n.neighbors = 10,reduction.name = \"xobj_umap2\")\n",
    "xobj <- RunUMAP(xobj, reduction = \"PCA\", dims = 1:50, n.components = 2L, local.connectivity = 1L,\n",
    "                  min.dist = 0.3, spread = 0.5,\n",
    "                     n.neighbors = 10,reduction.name = \"xobj_umap3\")"
   ]
  },
  {
   "cell_type": "code",
   "execution_count": null,
   "id": "f4d37349-1c59-4be9-8c79-2785dc341bb1",
   "metadata": {
    "vscode": {
     "languageId": "r"
    }
   },
   "outputs": [],
   "source": [
    "options(repr.plot.width = 12, repr.plot.height = 8)\n",
    "DimPlot(xobj, reduction = \"UMAP\", cols = r3dcol$cols_94, group.by = 'new_subclusters_x')\n",
    "DimPlot(xobj, reduction = \"xobj_umap0\", cols = r3dcol$cols_94, group.by = 'new_subclusters_x')\n",
    "DimPlot(xobj, reduction = \"xobj_umap1\", cols = r3dcol$cols_94, group.by = 'new_subclusters_x')\n",
    "DimPlot(xobj, reduction = \"xobj_umap2\", cols = r3dcol$cols_94, group.by = 'new_subclusters_x')\n",
    "DimPlot(xobj, reduction = \"xobj_umap3\", cols = r3dcol$cols_94, group.by = 'new_subclusters_x')"
   ]
  },
  {
   "cell_type": "code",
   "execution_count": null,
   "id": "68ec4f49-fa2f-443a-b81c-f5257d367bf3",
   "metadata": {
    "vscode": {
     "languageId": "r"
    }
   },
   "outputs": [],
   "source": [
    "options(repr.plot.width = 12, repr.plot.height = 8)\n",
    "DimPlot(xobj, reduction = \"xobj_umap0\", cols = r3dcol$cols_94, group.by = 'new_subclusters', label = TRUE)"
   ]
  },
  {
   "cell_type": "code",
   "execution_count": null,
   "id": "58b0b883-a06f-4b81-9af7-7c6d74c2327f",
   "metadata": {
    "vscode": {
     "languageId": "r"
    }
   },
   "outputs": [],
   "source": [
    "set.seed(1)\n",
    "lineages_xobj <- as.SlingshotDataSet(getLineages(\n",
    "  data           = xobj@reductions$xobj_umap0@cell.embeddings,\n",
    "  clusterLabels  = xobj$new_subclusters,\n",
    "  dist.method    = \"slingshot\", # It can be: \"simple\", \"scaled.full\", \"scaled.diag\", \"slingshot\" or \"mnn\"\n",
    "  end.clus       = c(\"Mesenchyme 2\"),\n",
    "  start.clus     = \"Naive Pluripotency\"# define where to START the trajectories\n",
    ")) "
   ]
  },
  {
   "cell_type": "code",
   "execution_count": null,
   "id": "6946b94f-e3f2-412c-894e-9542e10337cb",
   "metadata": {
    "vscode": {
     "languageId": "r"
    }
   },
   "outputs": [],
   "source": [
    "# Define curves\n",
    "curves_xobj <- as.SlingshotDataSet(getCurves(data = lineages_xobj,approx_points = 1000))"
   ]
  },
  {
   "cell_type": "code",
   "execution_count": null,
   "id": "b8da3de1-3791-4a2e-9a5f-7624d5b498e2",
   "metadata": {
    "vscode": {
     "languageId": "r"
    }
   },
   "outputs": [],
   "source": [
    "options(repr.plot.width = 12, repr.plot.height = 12)\n",
    "p_curves <-plot_umap_with_curves(seurat_obj = xobj,\n",
    "  reduction = \"xobj_umap0\",\n",
    "  cluster_col = \"new_subclusters\",\n",
    "  color_vector = rep(r3dcol$cols_46,2),\n",
    "  curves = curves_xobj,        # or 'curves' object from Slingshot\n",
    "  label_cex = 1,\n",
    "  point_pch = 16,\n",
    "  point_cex = 1,\n",
    "  line_lwd = 2\n",
    ")\n",
    "p_curves"
   ]
  },
  {
   "cell_type": "code",
   "execution_count": null,
   "id": "097547a5-a6e4-43d2-ba54-7bfa65ded73d",
   "metadata": {
    "vscode": {
     "languageId": "r"
    }
   },
   "outputs": [],
   "source": [
    "options(repr.plot.width = 5, repr.plot.height = 5)\n",
    "p_pseudo <- plot_umap_pseudotime_and_centroids(\n",
    "  seurat_obj = xobj,\n",
    "  curves = curves_xobj,\n",
    "  embedding = \"xobj_umap0\",\n",
    " cluster_col = \"new_subclusters\",\n",
    "  color_vector = r3dcol$cols_94,   # Or your own color palette\n",
    "  point_cex = 0.4,\n",
    "  label_cex = 1,\n",
    "  legend_title = \"Pseudotime\",\n",
    "  legend_mar = 2\n",
    ")\n",
    "p_pseudo"
   ]
  },
  {
   "cell_type": "code",
   "execution_count": null,
   "id": "04473479-82cb-4bd4-aede-4ebb2cbaa5f7",
   "metadata": {
    "vscode": {
     "languageId": "r"
    }
   },
   "outputs": [],
   "source": [
    "curves_xobj"
   ]
  },
  {
   "cell_type": "code",
   "execution_count": null,
   "id": "e6dbeaf6-8094-446b-830c-beb74acaeb31",
   "metadata": {
    "scrolled": true,
    "vscode": {
     "languageId": "r"
    }
   },
   "outputs": [],
   "source": [
    "p_mesenchyme <- plot_gene_pseudotime(\n",
    "   seurat_obj = xobj,\n",
    "   curves_obj = curves_xobj,\n",
    "   gene_name = \"Atf3\",\n",
    "   lineage_name = \"Lineage1\",\n",
    "   min_cells = 100,\n",
    "   n_bins = 200,\n",
    "   color_palette = r3dcol$cols_94,\n",
    "   cell_type_column = \"new_subclusters_x\"\n",
    ")"
   ]
  },
  {
   "cell_type": "code",
   "execution_count": null,
   "id": "0a2ed2ef-aeba-4804-9746-93f465ada947",
   "metadata": {
    "vscode": {
     "languageId": "r"
    }
   },
   "outputs": [],
   "source": [
    "options(repr.plot.width = 10, repr.plot.height = 5)\n",
    "print(p_mesenchyme)"
   ]
  },
  {
   "cell_type": "code",
   "execution_count": null,
   "id": "9f07df12-81ef-452d-a328-cf682ac3de79",
   "metadata": {
    "vscode": {
     "languageId": "r"
    }
   },
   "outputs": [],
   "source": []
  },
  {
   "cell_type": "code",
   "execution_count": null,
   "id": "c7257ece-004d-4eaf-ae15-dd3af9d69be9",
   "metadata": {
    "vscode": {
     "languageId": "r"
    }
   },
   "outputs": [],
   "source": [
    "saveRDS(xobj, \"./cmo_v3_latemesoderm_mesenchyme_lineage.rds\")"
   ]
  },
  {
   "cell_type": "code",
   "execution_count": null,
   "id": "a14f2ab2-823a-469e-acc7-88ce714aa68b",
   "metadata": {
    "vscode": {
     "languageId": "r"
    }
   },
   "outputs": [],
   "source": [
    "saveRDS(lineages_xobj, './cmo_v3_latemesoderm_mesenchyme_slingshot_lin.rds')\n",
    "saveRDS(curves_xobj, './cmo_v3_latemesoderm_mesenchyme_slingshot_curves.rds')"
   ]
  },
  {
   "cell_type": "code",
   "execution_count": null,
   "id": "52a72560-3fd8-429f-8627-4a84a35aea3d",
   "metadata": {
    "vscode": {
     "languageId": "r"
    }
   },
   "outputs": [],
   "source": [
    "cmo_lm_mesenchyme_xobj <-xobj\n",
    "lineages_cmo_lm_mesenchyme <-lineages_xobj\n",
    "curves_cmo_lm_mesenchyme <- curves_xobj"
   ]
  },
  {
   "cell_type": "code",
   "execution_count": null,
   "id": "c4deb764-56e7-4595-be69-75ef441554ec",
   "metadata": {
    "vscode": {
     "languageId": "r"
    }
   },
   "outputs": [],
   "source": []
  },
  {
   "cell_type": "code",
   "execution_count": null,
   "id": "af13241c-532a-4236-be61-2e81ebaa98f7",
   "metadata": {
    "vscode": {
     "languageId": "r"
    }
   },
   "outputs": [],
   "source": []
  },
  {
   "cell_type": "markdown",
   "id": "0d07d799-4942-4b04-b060-dc66c5273533",
   "metadata": {},
   "source": [
    "#### Allantois"
   ]
  },
  {
   "cell_type": "code",
   "execution_count": null,
   "id": "19f54b13-53ba-42da-9dd5-3b53806603ce",
   "metadata": {
    "vscode": {
     "languageId": "r"
    }
   },
   "outputs": [],
   "source": [
    "xobj <- subset(obj, subset = new_subclusters_x %in% c('Naive Pluripotency','Epiblast','Primitive Streak','Nascent Mesoderm','Lateral Plate Mesoderm','Allantois', 'Epicardium', 'Mesenchyme'))"
   ]
  },
  {
   "cell_type": "code",
   "execution_count": null,
   "id": "1c9ca741-0ac8-47cd-bd99-8cddd9f8a308",
   "metadata": {
    "vscode": {
     "languageId": "r"
    }
   },
   "outputs": [],
   "source": [
    "xobj"
   ]
  },
  {
   "cell_type": "code",
   "execution_count": null,
   "id": "93adaec3-aa6b-48d2-aae0-66e97edfc21f",
   "metadata": {
    "vscode": {
     "languageId": "r"
    }
   },
   "outputs": [],
   "source": [
    "table(xobj$new_subclusters_x)"
   ]
  },
  {
   "cell_type": "code",
   "execution_count": null,
   "id": "1da3f4bf-7eac-486a-8314-a8768d876ec2",
   "metadata": {
    "vscode": {
     "languageId": "r"
    }
   },
   "outputs": [],
   "source": [
    "table(obj$Conditions_lv)"
   ]
  },
  {
   "cell_type": "code",
   "execution_count": null,
   "id": "9765708b-d3d8-4a0b-9c5d-298743f804a3",
   "metadata": {
    "vscode": {
     "languageId": "r"
    }
   },
   "outputs": [],
   "source": [
    "xobj <- subset(xobj, subset = Conditions_lv %in% \"Control\")\n",
    "xobj"
   ]
  },
  {
   "cell_type": "code",
   "execution_count": null,
   "id": "3cade09a-a065-4d21-ae93-5a55865f5a92",
   "metadata": {
    "scrolled": true,
    "vscode": {
     "languageId": "r"
    }
   },
   "outputs": [],
   "source": [
    "# New harmony Umap\n",
    "xobj <- RunUMAP(xobj, reduction = \"PCA\", dims = 1:50, n.components = 2L,\n",
    "                     n.neighbors = 10,reduction.name = \"xobj_umap0\")\n",
    "xobj <- RunUMAP(xobj, reduction = \"PCA\", dims = 1:50, n.components = 2L, local.connectivity = 1L,\n",
    "                  min.dist = 0.5, spread = 0.5,\n",
    "                     n.neighbors = 10,reduction.name = \"xobj_umap1\")\n",
    "xobj <- RunUMAP(xobj, reduction = \"PCA\", dims = 1:50, n.components = 2L, local.connectivity = 1L,\n",
    "                  min.dist = 0.4, spread = 0.5,\n",
    "                     n.neighbors = 10,reduction.name = \"xobj_umap2\")\n",
    "xobj <- RunUMAP(xobj, reduction = \"PCA\", dims = 1:50, n.components = 2L, local.connectivity = 1L,\n",
    "                  min.dist = 0.3, spread = 0.5,\n",
    "                     n.neighbors = 10,reduction.name = \"xobj_umap3\")"
   ]
  },
  {
   "cell_type": "code",
   "execution_count": null,
   "id": "d0c1e389-83c2-4438-a4d6-df77e20aad43",
   "metadata": {
    "vscode": {
     "languageId": "r"
    }
   },
   "outputs": [],
   "source": [
    "options(repr.plot.width = 12, repr.plot.height = 8)\n",
    "DimPlot(xobj, reduction = \"UMAP\", cols = r3dcol$cols_94, group.by = 'new_subclusters')\n",
    "DimPlot(xobj, reduction = \"xobj_umap0\", cols = r3dcol$cols_94, group.by = 'new_subclusters')\n",
    "DimPlot(xobj, reduction = \"xobj_umap1\", cols = r3dcol$cols_94, group.by = 'new_subclusters')\n",
    "DimPlot(xobj, reduction = \"xobj_umap2\", cols = r3dcol$cols_94, group.by = 'new_subclusters')\n",
    "DimPlot(xobj, reduction = \"xobj_umap3\", cols = r3dcol$cols_94, group.by = 'new_subclusters')"
   ]
  },
  {
   "cell_type": "code",
   "execution_count": null,
   "id": "759fede1-d6dc-4475-9a80-6ebb5b7a8f77",
   "metadata": {
    "vscode": {
     "languageId": "r"
    }
   },
   "outputs": [],
   "source": [
    "options(repr.plot.width = 12, repr.plot.height = 8)\n",
    "DimPlot(xobj, reduction = \"xobj_umap3\", cols = r3dcol$cols_94, group.by = 'new_subclusters', label = TRUE)"
   ]
  },
  {
   "cell_type": "code",
   "execution_count": null,
   "id": "df7fc606-ca02-4847-bb31-de112f47eb1c",
   "metadata": {
    "vscode": {
     "languageId": "r"
    }
   },
   "outputs": [],
   "source": [
    "set.seed(1)\n",
    "lineages_xobj <- as.SlingshotDataSet(getLineages(\n",
    "  data           = xobj@reductions$xobj_umap3@cell.embeddings,\n",
    "  clusterLabels  = xobj$new_subclusters,\n",
    "  dist.method    = \"slingshot\", # It can be: \"simple\", \"scaled.full\", \"scaled.diag\", \"slingshot\" or \"mnn\"\n",
    " end.clus       = c(\"Allantois 4\"),\n",
    "  start.clus     = \"Naive Pluripotency\"# define where to START the trajectories\n",
    ")) "
   ]
  },
  {
   "cell_type": "code",
   "execution_count": null,
   "id": "d0fe3697-0df0-48f7-920a-1cf4101c8c20",
   "metadata": {
    "vscode": {
     "languageId": "r"
    }
   },
   "outputs": [],
   "source": [
    "# Define curves\n",
    "curves_xobj <- as.SlingshotDataSet(getCurves(data = lineages_xobj,approx_points = 1000))"
   ]
  },
  {
   "cell_type": "code",
   "execution_count": null,
   "id": "96e93536-b571-48cd-96f7-09439dce323a",
   "metadata": {
    "vscode": {
     "languageId": "r"
    }
   },
   "outputs": [],
   "source": [
    "curves_xobj"
   ]
  },
  {
   "cell_type": "code",
   "execution_count": null,
   "id": "681b8d50-552d-4131-90cd-6d8dee43a64c",
   "metadata": {
    "vscode": {
     "languageId": "r"
    }
   },
   "outputs": [],
   "source": [
    "options(repr.plot.width = 12, repr.plot.height = 12)\n",
    "p_curves <-plot_umap_with_curves(seurat_obj = xobj,\n",
    "  reduction = \"xobj_umap3\",\n",
    "  cluster_col = \"new_subclusters\",\n",
    "  color_vector = rep(r3dcol$cols_46,2),\n",
    "  curves = curves_xobj,        # or 'curves' object from Slingshot\n",
    "  label_cex = 1,\n",
    "  point_pch = 16,\n",
    "  point_cex = 1,\n",
    "  line_lwd = 2\n",
    ")\n",
    "p_curves"
   ]
  },
  {
   "cell_type": "code",
   "execution_count": null,
   "id": "ef5885d8-56d4-4297-8ff6-3475c8c1bd95",
   "metadata": {
    "vscode": {
     "languageId": "r"
    }
   },
   "outputs": [],
   "source": [
    "options(repr.plot.width = 5, repr.plot.height = 5)\n",
    "p_pseudo <- plot_umap_pseudotime_and_centroids(\n",
    "  seurat_obj = xobj,\n",
    "  curves = curves_xobj,\n",
    "  embedding = \"xobj_umap3\",\n",
    " cluster_col = \"new_subclusters\",\n",
    "  color_vector = r3dcol$cols_94,   # Or your own color palette\n",
    "  point_cex = 0.4,\n",
    "  label_cex = 1,\n",
    "  legend_title = \"Pseudotime\",\n",
    "  legend_mar = 2\n",
    ")\n",
    "p_pseudo"
   ]
  },
  {
   "cell_type": "code",
   "execution_count": null,
   "id": "57dad8dd-82ab-465c-a6e8-83a633e25af4",
   "metadata": {
    "vscode": {
     "languageId": "r"
    }
   },
   "outputs": [],
   "source": [
    "curves_xobj"
   ]
  },
  {
   "cell_type": "code",
   "execution_count": null,
   "id": "696c8984-6875-4434-8234-f1bd9f3ece11",
   "metadata": {
    "scrolled": true,
    "vscode": {
     "languageId": "r"
    }
   },
   "outputs": [],
   "source": [
    "p_allantois <- plot_gene_pseudotime(\n",
    "   seurat_obj = xobj,\n",
    "   curves_obj = curves_xobj,\n",
    "   gene_name = \"Atf3\",\n",
    "   lineage_name = \"Lineage1\",\n",
    "   min_cells = 100,\n",
    "   n_bins = 200,\n",
    "   color_palette = r3dcol$cols_94,\n",
    "   cell_type_column = \"new_subclusters_x\"\n",
    ")"
   ]
  },
  {
   "cell_type": "code",
   "execution_count": null,
   "id": "3c5db655-02af-4db4-8300-998850069ceb",
   "metadata": {
    "vscode": {
     "languageId": "r"
    }
   },
   "outputs": [],
   "source": [
    "options(repr.plot.width = 10, repr.plot.height = 5)\n",
    "print(p_allantois)"
   ]
  },
  {
   "cell_type": "code",
   "execution_count": null,
   "id": "31326011-93cc-4879-b699-4c242a49dd30",
   "metadata": {
    "vscode": {
     "languageId": "r"
    }
   },
   "outputs": [],
   "source": [
    "saveRDS(xobj, \"./cmo_v3_latemesoderm_allantois_lineage.rds\")"
   ]
  },
  {
   "cell_type": "code",
   "execution_count": null,
   "id": "dee95055-bc08-4df6-b821-9b5853387306",
   "metadata": {
    "vscode": {
     "languageId": "r"
    }
   },
   "outputs": [],
   "source": [
    "saveRDS(lineages_xobj, './cmo_v3_latemesoderm_allantois_slingshot_lin.rds')\n",
    "saveRDS(curves_xobj, './cmo_v3_latemesoderm_allantois_slingshot_curves.rds')"
   ]
  },
  {
   "cell_type": "code",
   "execution_count": null,
   "id": "3192ddb9-97ba-4800-8b1a-3755c8f3aedf",
   "metadata": {
    "vscode": {
     "languageId": "r"
    }
   },
   "outputs": [],
   "source": [
    "cmo_lm_allantois_xobj <-xobj\n",
    "lineages_cmo_lm_allantois <-lineages_xobj\n",
    "curves_cmo_lm_allantois <- curves_xobj"
   ]
  },
  {
   "cell_type": "markdown",
   "id": "1dd43e04-7ea7-4e9f-9071-d714737f8ccd",
   "metadata": {},
   "source": [
    "### Bloood"
   ]
  },
  {
   "cell_type": "code",
   "execution_count": null,
   "id": "6284b88c-b34b-49e5-a5f8-6b6f0dba7573",
   "metadata": {
    "vscode": {
     "languageId": "r"
    }
   },
   "outputs": [],
   "source": [
    "obj"
   ]
  },
  {
   "cell_type": "code",
   "execution_count": null,
   "id": "6562cdb2-82af-48b8-8e94-404eee2d75d9",
   "metadata": {
    "vscode": {
     "languageId": "r"
    }
   },
   "outputs": [],
   "source": [
    "table(obj$new_subclusters_x)"
   ]
  },
  {
   "cell_type": "code",
   "execution_count": null,
   "id": "f331b150-2e15-4a11-9231-a1cf8f5b78d8",
   "metadata": {
    "vscode": {
     "languageId": "r"
    }
   },
   "outputs": [],
   "source": [
    "xobj <- subset(obj, subset = new_subclusters_x %in% c('Naive Pluripotency','Epiblast','Primitive Streak','Nascent Mesoderm','Lateral Plate Mesoderm','HEP/BP','Erythroid', 'MkP','MEP','Endothelium','Endocardium','EMP'))"
   ]
  },
  {
   "cell_type": "code",
   "execution_count": null,
   "id": "ae4647c7-7353-48d9-a2bd-9253666dac6f",
   "metadata": {
    "vscode": {
     "languageId": "r"
    }
   },
   "outputs": [],
   "source": [
    "xobj"
   ]
  },
  {
   "cell_type": "code",
   "execution_count": null,
   "id": "b07b91c9-bd6c-4445-8970-5dd05e3e846b",
   "metadata": {
    "vscode": {
     "languageId": "r"
    }
   },
   "outputs": [],
   "source": [
    "table(obj$Conditions_lv)"
   ]
  },
  {
   "cell_type": "code",
   "execution_count": null,
   "id": "3cb58dd8-368e-4371-aa0d-0f01f8ee02f9",
   "metadata": {
    "vscode": {
     "languageId": "r"
    }
   },
   "outputs": [],
   "source": [
    "xobj <- subset(xobj, subset = Conditions_lv %in% \"Control\")\n",
    "xobj"
   ]
  },
  {
   "cell_type": "code",
   "execution_count": null,
   "id": "61608aaa-393e-41da-a596-2240434c69c5",
   "metadata": {
    "vscode": {
     "languageId": "r"
    }
   },
   "outputs": [],
   "source": [
    "DimPlot(xobj, reduction = \"UMAP\")"
   ]
  },
  {
   "cell_type": "code",
   "execution_count": null,
   "id": "0167704d-efff-4418-b88c-27bba6c11b5f",
   "metadata": {
    "vscode": {
     "languageId": "r"
    }
   },
   "outputs": [],
   "source": [
    "# Findvariable Features\n",
    "xobj <- FindVariableFeatures(object = xobj, nfeatures = 4000)"
   ]
  },
  {
   "cell_type": "code",
   "execution_count": null,
   "id": "05903ac3-09df-4cd5-ab54-3891f4eb7d5b",
   "metadata": {
    "vscode": {
     "languageId": "r"
    }
   },
   "outputs": [],
   "source": [
    "xobj <- ScaleData(object = xobj, \n",
    "                          features = VariableFeatures(xobj),\n",
    "                          vars.to.regress = c(\"nFeature_RNA\", \"nCount_RNA\", \"percent.mt\", \"percent.ribo\", \"G2M.Score\", \"S.Score\"),\n",
    "                          block.size = 20000)"
   ]
  },
  {
   "cell_type": "code",
   "execution_count": null,
   "id": "beeec12e-33c8-491b-95d7-3027fce0075d",
   "metadata": {
    "scrolled": true,
    "vscode": {
     "languageId": "r"
    }
   },
   "outputs": [],
   "source": [
    "xobj <- RunPCA(xobj,npcs = 50, reduction.name = \"xobj_pca\",\n",
    "                       features =  VariableFeatures(xobj)\n",
    "                      )"
   ]
  },
  {
   "cell_type": "code",
   "execution_count": null,
   "id": "0865de58-70d8-4596-9a73-2b2e72d7d1de",
   "metadata": {
    "scrolled": true,
    "vscode": {
     "languageId": "r"
    }
   },
   "outputs": [],
   "source": [
    "# New harmony Umap\n",
    "xobj <- RunUMAP(xobj, reduction = \"xobj_pca\", dims = 1:50, n.components = 2L,\n",
    "                     n.neighbors = 10,reduction.name = \"xobj_umap0\")\n",
    "xobj <- RunUMAP(xobj, reduction = \"xobj_pca\", dims = 1:50, n.components = 2L, local.connectivity = 1L,\n",
    "                  min.dist = 0.5, spread = 0.5,\n",
    "                     n.neighbors = 10,reduction.name = \"xobj_umap1\")\n",
    "xobj <- RunUMAP(xobj, reduction = \"xobj_pca\", dims = 1:50, n.components = 2L, local.connectivity = 1L,\n",
    "                  min.dist = 0.4, spread = 0.5,\n",
    "                     n.neighbors = 10,reduction.name = \"xobj_umap2\")\n",
    "xobj <- RunUMAP(xobj, reduction = \"xobj_pca\", dims = 1:50, n.components = 2L, local.connectivity = 1L,\n",
    "                  min.dist = 0.3, spread = 0.5,\n",
    "                     n.neighbors = 10,reduction.name = \"xobj_umap3\")"
   ]
  },
  {
   "cell_type": "code",
   "execution_count": null,
   "id": "f21a913f-a71b-43bf-9816-e2c2361b675c",
   "metadata": {
    "scrolled": true,
    "vscode": {
     "languageId": "r"
    }
   },
   "outputs": [],
   "source": [
    "DimPlot(xobj, reduction = \"UMAP\", cols = r3dcol$cols_94, group.by = 'new_subclusters_x')\n",
    "DimPlot(xobj, reduction = \"xobj_umap0\", cols = r3dcol$cols_94, group.by = 'new_subclusters_x')\n",
    "DimPlot(xobj, reduction = \"xobj_umap1\", cols = r3dcol$cols_94, group.by = 'new_subclusters_x')\n",
    "DimPlot(xobj, reduction = \"xobj_umap2\", cols = r3dcol$cols_94, group.by = 'new_subclusters_x')\n",
    "DimPlot(xobj, reduction = \"xobj_umap3\", cols = r3dcol$cols_94, group.by = 'new_subclusters_x')"
   ]
  },
  {
   "cell_type": "code",
   "execution_count": null,
   "id": "864d8497-0c02-433d-ac15-ce836536b13c",
   "metadata": {
    "vscode": {
     "languageId": "r"
    }
   },
   "outputs": [],
   "source": [
    "DimPlot(xobj, reduction = \"xobj_umap3\", cols = r3dcol$cols_94,label = TRUE, group.by = 'new_subclusters')"
   ]
  },
  {
   "cell_type": "code",
   "execution_count": null,
   "id": "1f03f89f-b668-454f-92c8-40afb1d5cac5",
   "metadata": {
    "vscode": {
     "languageId": "r"
    }
   },
   "outputs": [],
   "source": [
    "set.seed(1)\n",
    "lineages_xobj <- as.SlingshotDataSet(getLineages(\n",
    "  data           = xobj@reductions$xobj_umap3@cell.embeddings,\n",
    "  clusterLabels  = xobj$new_subclusters,\n",
    "  dist.method    = \"slingshot\", # It can be: \"simple\", \"scaled.full\", \"scaled.diag\", \"slingshot\" or \"mnn\"\n",
    "  end.clus       = c(\"Erythroid 4\",\"MkP 2\",\"MEP\",\"Endothelium 2\",\"Endocardium\",\"EMP 4\"),\n",
    "  start.clus     = \"Naive Pluripotency\"# define where to START the trajectories\n",
    ")) "
   ]
  },
  {
   "cell_type": "code",
   "execution_count": null,
   "id": "84b64a81-20fd-4746-800d-bbdb1391f3f5",
   "metadata": {
    "vscode": {
     "languageId": "r"
    }
   },
   "outputs": [],
   "source": []
  },
  {
   "cell_type": "code",
   "execution_count": null,
   "id": "881e2da0-6a95-4642-af11-b422c9fe3d4f",
   "metadata": {
    "vscode": {
     "languageId": "r"
    }
   },
   "outputs": [],
   "source": [
    "# Define curves\n",
    "curves_xobj <- as.SlingshotDataSet(getCurves(data = lineages_xobj,approx_points = 1000))"
   ]
  },
  {
   "cell_type": "code",
   "execution_count": null,
   "id": "1ace3a09-736a-4942-b691-678c311b2c25",
   "metadata": {
    "vscode": {
     "languageId": "r"
    }
   },
   "outputs": [],
   "source": [
    "options(repr.plot.width = 10, repr.plot.height = 10)\n",
    "p_curves <-plot_umap_with_curves(seurat_obj = xobj,\n",
    "  reduction = \"xobj_umap3\",\n",
    "  cluster_col = \"new_subclusters\",\n",
    "  color_vector = rep(r3dcol$cols_46,2),\n",
    "  curves = curves_xobj,        # or 'curves' object from Slingshot\n",
    "  label_cex = 1,\n",
    "  point_pch = 16,\n",
    "  point_cex = 1,\n",
    "  line_lwd = 2\n",
    ")\n",
    "p_curves"
   ]
  },
  {
   "cell_type": "code",
   "execution_count": null,
   "id": "044f7769-5b27-47d5-8087-9aecc1015b23",
   "metadata": {
    "vscode": {
     "languageId": "r"
    }
   },
   "outputs": [],
   "source": [
    "curves_xobj"
   ]
  },
  {
   "cell_type": "code",
   "execution_count": null,
   "id": "10230145-7520-4ef5-8a54-bb3e54d738b7",
   "metadata": {
    "vscode": {
     "languageId": "r"
    }
   },
   "outputs": [],
   "source": [
    "options(repr.plot.width = 5, repr.plot.height = 5)\n",
    "p_pseudo <- plot_umap_pseudotime_and_centroids(\n",
    "  seurat_obj = xobj,\n",
    "  curves = curves_xobj,\n",
    "  embedding = \"xobj_umap3\",\n",
    " cluster_col = \"new_subclusters\",\n",
    "  color_vector = r3dcol$cols_94,   # Or your own color palette\n",
    "  point_cex = 0.4,\n",
    "  label_cex = 1,\n",
    "  legend_title = \"Pseudotime\",\n",
    "  legend_mar = 2\n",
    ")\n",
    "p_pseudo"
   ]
  },
  {
   "cell_type": "code",
   "execution_count": null,
   "id": "53b10fbe-5ed6-456c-b150-63e86d1af5a9",
   "metadata": {
    "vscode": {
     "languageId": "r"
    }
   },
   "outputs": [],
   "source": [
    "curves_xobj"
   ]
  },
  {
   "cell_type": "code",
   "execution_count": null,
   "id": "90828ade-aff6-4565-b05a-8e8a3dfabda0",
   "metadata": {
    "scrolled": true,
    "vscode": {
     "languageId": "r"
    }
   },
   "outputs": [],
   "source": [
    "p_emp <- plot_gene_pseudotime(\n",
    "   seurat_obj = xobj,\n",
    "   curves_obj = curves_xobj,\n",
    "   gene_name = \"Atf3\",\n",
    "   lineage_name = \"Lineage1\",\n",
    "   min_cells = 100,\n",
    "   n_bins = 200,\n",
    "   color_palette = r3dcol$cols_94,\n",
    "   cell_type_column = \"new_subclusters_x\"\n",
    ")"
   ]
  },
  {
   "cell_type": "code",
   "execution_count": null,
   "id": "a37e46eb-8c5d-43f2-9157-c7c62d33572c",
   "metadata": {
    "vscode": {
     "languageId": "r"
    }
   },
   "outputs": [],
   "source": [
    "options(repr.plot.width = 10, repr.plot.height = 5)\n",
    "print(p_emp)"
   ]
  },
  {
   "cell_type": "code",
   "execution_count": null,
   "id": "196b5ed1-3125-4424-b659-8944c9b38133",
   "metadata": {
    "scrolled": true,
    "vscode": {
     "languageId": "r"
    }
   },
   "outputs": [],
   "source": [
    "p_mkp <- plot_gene_pseudotime(\n",
    "   seurat_obj = xobj,\n",
    "   curves_obj = curves_xobj,\n",
    "   gene_name = \"Atf3\",\n",
    "   lineage_name = \"Lineage2\",\n",
    "   min_cells = 100,\n",
    "   n_bins = 200,\n",
    "   color_palette = r3dcol$cols_94,\n",
    "   cell_type_column = \"new_subclusters_x\"\n",
    ")"
   ]
  },
  {
   "cell_type": "code",
   "execution_count": null,
   "id": "eda84db0-bdbf-4858-a120-2b5115da8b7a",
   "metadata": {
    "vscode": {
     "languageId": "r"
    }
   },
   "outputs": [],
   "source": [
    "options(repr.plot.width = 10, repr.plot.height = 5)\n",
    "print(p_mkp)"
   ]
  },
  {
   "cell_type": "code",
   "execution_count": null,
   "id": "9d12ef15-0c4d-4654-9698-9598cfb89a52",
   "metadata": {
    "scrolled": true,
    "vscode": {
     "languageId": "r"
    }
   },
   "outputs": [],
   "source": [
    "p_erythroid <- plot_gene_pseudotime(\n",
    "   seurat_obj = xobj,\n",
    "   curves_obj = curves_xobj,\n",
    "   gene_name = \"Atf3\",\n",
    "   lineage_name = \"Lineage3\",\n",
    "   min_cells = 100,\n",
    "   n_bins = 200,\n",
    "   color_palette = r3dcol$cols_94,\n",
    "   cell_type_column = \"new_subclusters_x\"\n",
    ")"
   ]
  },
  {
   "cell_type": "code",
   "execution_count": null,
   "id": "6ca2c0a4-b67b-4dde-9abd-7fd9dc393618",
   "metadata": {
    "vscode": {
     "languageId": "r"
    }
   },
   "outputs": [],
   "source": [
    "options(repr.plot.width = 10, repr.plot.height = 5)\n",
    "print(p_erythroid)"
   ]
  },
  {
   "cell_type": "code",
   "execution_count": null,
   "id": "f1bb8302-df9c-43d1-b777-f2b859faea9a",
   "metadata": {
    "scrolled": true,
    "vscode": {
     "languageId": "r"
    }
   },
   "outputs": [],
   "source": [
    "p_endothelium <- plot_gene_pseudotime(\n",
    "   seurat_obj = xobj,\n",
    "   curves_obj = curves_xobj,\n",
    "   gene_name = \"Atf3\",\n",
    "   lineage_name = \"Lineage4\",\n",
    "   min_cells = 100,\n",
    "   n_bins = 200,\n",
    "   color_palette = r3dcol$cols_94,\n",
    "   cell_type_column = \"new_subclusters_x\"\n",
    ")"
   ]
  },
  {
   "cell_type": "code",
   "execution_count": null,
   "id": "392f6413-f450-46e8-abc8-a0327f5e92bf",
   "metadata": {
    "vscode": {
     "languageId": "r"
    }
   },
   "outputs": [],
   "source": [
    "options(repr.plot.width = 10, repr.plot.height = 5)\n",
    "print(p_endothelium)"
   ]
  },
  {
   "cell_type": "code",
   "execution_count": null,
   "id": "720d0d45-4885-4633-b1ab-fbd64786bbbc",
   "metadata": {
    "vscode": {
     "languageId": "r"
    }
   },
   "outputs": [],
   "source": [
    "p_MEP <- plot_gene_pseudotime(\n",
    "   seurat_obj = xobj,\n",
    "   curves_obj = curves_xobj,\n",
    "   gene_name = \"Atf3\",\n",
    "   lineage_name = \"Lineage5\",\n",
    "   min_cells = 100,\n",
    "   n_bins = 200,\n",
    "   color_palette = r3dcol$cols_94,\n",
    "   cell_type_column = \"new_subclusters_x\"\n",
    ")"
   ]
  },
  {
   "cell_type": "code",
   "execution_count": null,
   "id": "2d1cb8e8-930d-4548-a765-fbc2c90a161c",
   "metadata": {
    "vscode": {
     "languageId": "r"
    }
   },
   "outputs": [],
   "source": [
    "p_MEP"
   ]
  },
  {
   "cell_type": "code",
   "execution_count": null,
   "id": "761e6f28-8525-4e29-b524-acc7b7192bf1",
   "metadata": {
    "scrolled": true,
    "vscode": {
     "languageId": "r"
    }
   },
   "outputs": [],
   "source": [
    "p_ery2<- plot_gene_pseudotime(\n",
    "   seurat_obj = xobj,\n",
    "   curves_obj = curves_xobj,\n",
    "   gene_name = \"Atf3\",\n",
    "   lineage_name = \"Lineage6\",\n",
    "   min_cells = 100,\n",
    "   n_bins = 200,\n",
    "   color_palette = r3dcol$cols_94,\n",
    "   cell_type_column = \"new_subclusters_x\"\n",
    ")"
   ]
  },
  {
   "cell_type": "code",
   "execution_count": null,
   "id": "23084e69-62b5-42f2-a1f0-9b01b3cd6d1d",
   "metadata": {
    "vscode": {
     "languageId": "r"
    }
   },
   "outputs": [],
   "source": [
    "p_ery2"
   ]
  },
  {
   "cell_type": "code",
   "execution_count": null,
   "id": "37ed79fb-c76e-44d6-9410-f7fe7ca23b51",
   "metadata": {
    "scrolled": true,
    "vscode": {
     "languageId": "r"
    }
   },
   "outputs": [],
   "source": [
    "p_endocardium <- plot_gene_pseudotime(\n",
    "   seurat_obj = xobj,\n",
    "   curves_obj = curves_xobj,\n",
    "   gene_name = \"Atf3\",\n",
    "   lineage_name = \"Lineage7\",\n",
    "   min_cells = 100,\n",
    "   n_bins = 200,\n",
    "   color_palette = r3dcol$cols_94,\n",
    "   cell_type_column = \"new_subclusters_x\"\n",
    ")"
   ]
  },
  {
   "cell_type": "code",
   "execution_count": null,
   "id": "e7683dff-067d-41b3-8acc-8171f2ea5b78",
   "metadata": {
    "vscode": {
     "languageId": "r"
    }
   },
   "outputs": [],
   "source": [
    "p_endocardium"
   ]
  },
  {
   "cell_type": "code",
   "execution_count": null,
   "id": "01ae5a1e-4966-4dcc-90ec-5856a282baf5",
   "metadata": {
    "vscode": {
     "languageId": "r"
    }
   },
   "outputs": [],
   "source": [
    "saveRDS(xobj, \"./cmo_v3_HEP_lineage.rds\")"
   ]
  },
  {
   "cell_type": "code",
   "execution_count": null,
   "id": "e602813d-d80f-42cb-9cc3-4f18eaddfa89",
   "metadata": {
    "vscode": {
     "languageId": "r"
    }
   },
   "outputs": [],
   "source": [
    "saveRDS(lineages_xobj, './cmo_v3_hep_slingshot_lin.rds')\n",
    "saveRDS(curves_xobj, './cmo_v3_hep_slingshot_curves.rds')"
   ]
  },
  {
   "cell_type": "code",
   "execution_count": null,
   "id": "7ed550ee-78fd-4a2f-95af-2846e9d83aee",
   "metadata": {
    "vscode": {
     "languageId": "r"
    }
   },
   "outputs": [],
   "source": [
    "# after crush\n",
    "cmo_hep_xobj <- readRDS('./cmo_v3_HEP_lineage.rds') # it should be v4 actually.\n",
    "lineages_cmo_hep <- readRDS('./cmo_v3_hep_slingshot_lin.rds')\n",
    "curves_cmo_hep <- readRDS('./cmo_v3_hep_slingshot_curves.rds')"
   ]
  },
  {
   "cell_type": "code",
   "execution_count": null,
   "id": "0e0fbf75-ce04-4a8d-8bb3-8eeadff2c833",
   "metadata": {
    "vscode": {
     "languageId": "r"
    }
   },
   "outputs": [],
   "source": [
    "cmo_hep_xobj"
   ]
  },
  {
   "cell_type": "code",
   "execution_count": null,
   "id": "af06917c-8ab8-4645-8718-a016a5946f06",
   "metadata": {
    "vscode": {
     "languageId": "r"
    }
   },
   "outputs": [],
   "source": [
    "lineages_cmo_hep"
   ]
  },
  {
   "cell_type": "code",
   "execution_count": null,
   "id": "6b43a78e-9c0a-4f20-8cbc-86de21ba8260",
   "metadata": {
    "vscode": {
     "languageId": "r"
    }
   },
   "outputs": [],
   "source": [
    "curves_cmo_hep"
   ]
  },
  {
   "cell_type": "markdown",
   "id": "5e8b8a63-1269-4fbe-a7f1-4162ce4cbbbe",
   "metadata": {},
   "source": [
    "## In vivo (Atlas)"
   ]
  },
  {
   "cell_type": "markdown",
   "id": "e92fa2ef-b058-478a-8274-20cdeb1429f4",
   "metadata": {},
   "source": [
    "### Late Mesoderm (Epicardium, Mesenchyme, Allantois, Limb mesoderm)"
   ]
  },
  {
   "cell_type": "code",
   "execution_count": null,
   "id": "3f83d764-de4b-4a06-ace4-df93d038d26b",
   "metadata": {
    "vscode": {
     "languageId": "r"
    }
   },
   "outputs": [],
   "source": [
    "atlas"
   ]
  },
  {
   "cell_type": "code",
   "execution_count": null,
   "id": "df05869f-1151-4277-bb04-a03222c7cef6",
   "metadata": {
    "scrolled": true,
    "vscode": {
     "languageId": "r"
    }
   },
   "outputs": [],
   "source": [
    "table(atlas$celltype_extended_atlas)"
   ]
  },
  {
   "cell_type": "code",
   "execution_count": null,
   "id": "454736cd-6028-4301-8352-be569f22f74a",
   "metadata": {
    "vscode": {
     "languageId": "r"
    }
   },
   "outputs": [],
   "source": [
    "xobj <- subset(atlas, subset = celltype_extended_atlas %in% c('Epiblast','Primitive Streak','Nascent mesoderm','Lateral plate mesoderm','Epicardium','Allantois','Mesenchyme','Limb mesoderm'))"
   ]
  },
  {
   "cell_type": "code",
   "execution_count": null,
   "id": "771aa506-d45c-491c-ba3d-eb86576657ec",
   "metadata": {
    "vscode": {
     "languageId": "r"
    }
   },
   "outputs": [],
   "source": [
    "xobj"
   ]
  },
  {
   "cell_type": "code",
   "execution_count": null,
   "id": "ea6a33d9-7013-43a5-a5e7-fcaa362a90c7",
   "metadata": {
    "vscode": {
     "languageId": "r"
    }
   },
   "outputs": [],
   "source": [
    "table(xobj$celltype_extended_atlas)"
   ]
  },
  {
   "cell_type": "code",
   "execution_count": null,
   "id": "0e57aef1-28fa-4346-8d22-3a25a1b9839f",
   "metadata": {
    "vscode": {
     "languageId": "r"
    }
   },
   "outputs": [],
   "source": [
    "Idents(xobj) <- xobj$celltype_extended_atlas"
   ]
  },
  {
   "cell_type": "code",
   "execution_count": null,
   "id": "1d6b0d6a-c5d0-46f6-819f-5895f3d19f1c",
   "metadata": {
    "vscode": {
     "languageId": "r"
    }
   },
   "outputs": [],
   "source": [
    "xobj <- subset(xobj, downsample = 2000)\n",
    "xobj"
   ]
  },
  {
   "cell_type": "code",
   "execution_count": null,
   "id": "42fea5ef-0c18-49fe-9962-09ceac29f2e7",
   "metadata": {
    "vscode": {
     "languageId": "r"
    }
   },
   "outputs": [],
   "source": [
    "DimPlot(xobj, reduction = \"UMAP\")"
   ]
  },
  {
   "cell_type": "code",
   "execution_count": null,
   "id": "bbd669bf-6561-4ea2-aac2-75e0490cdce5",
   "metadata": {
    "vscode": {
     "languageId": "r"
    }
   },
   "outputs": [],
   "source": [
    "# Findvariable Features\n",
    "xobj <- FindVariableFeatures(object = xobj, nfeatures = 4000)"
   ]
  },
  {
   "cell_type": "code",
   "execution_count": null,
   "id": "6a216391-9f04-4ed7-8898-ae2cfe474527",
   "metadata": {
    "vscode": {
     "languageId": "r"
    }
   },
   "outputs": [],
   "source": [
    "xobj <- ScaleData(object = xobj, \n",
    "                          features = VariableFeatures(xobj),\n",
    "                          vars.to.regress = c(\"nFeature_originalexp\", \"nCount_originalexp\", \"G2M_score\", \"S_score\"),\n",
    "                          block.size = 20000)"
   ]
  },
  {
   "cell_type": "code",
   "execution_count": null,
   "id": "afdfdd31-7d28-470a-ab63-8251a4ebf910",
   "metadata": {
    "scrolled": true,
    "vscode": {
     "languageId": "r"
    }
   },
   "outputs": [],
   "source": [
    "xobj <- RunPCA(xobj,npcs = 50, reduction.name = \"xobj_pca\",\n",
    "                       features =  VariableFeatures(xobj)\n",
    "                      )"
   ]
  },
  {
   "cell_type": "code",
   "execution_count": null,
   "id": "f5ec47a6-121b-4a0b-93db-93467a6b7cc2",
   "metadata": {
    "scrolled": true,
    "vscode": {
     "languageId": "r"
    }
   },
   "outputs": [],
   "source": [
    "# New harmony Umap\n",
    "xobj <- RunUMAP(xobj, reduction = \"xobj_pca\", dims = 1:50, n.components = 2L,\n",
    "                     n.neighbors = 10,reduction.name = \"xobj_umap0\")\n",
    "xobj <- RunUMAP(xobj, reduction = \"xobj_pca\", dims = 1:50, n.components = 2L, local.connectivity = 1L,\n",
    "                  min.dist = 0.5, spread = 0.5,\n",
    "                     n.neighbors = 10,reduction.name = \"xobj_umap1\")\n",
    "xobj <- RunUMAP(xobj, reduction = \"xobj_pca\", dims = 1:50, n.components = 2L, local.connectivity = 1L,\n",
    "                  min.dist = 0.4, spread = 0.5,\n",
    "                     n.neighbors = 10,reduction.name = \"xobj_umap2\")\n",
    "xobj <- RunUMAP(xobj, reduction = \"xobj_pca\", dims = 1:50, n.components = 2L, local.connectivity = 1L,\n",
    "                  min.dist = 0.3, spread = 0.5,\n",
    "                     n.neighbors = 10,reduction.name = \"xobj_umap3\")"
   ]
  },
  {
   "cell_type": "code",
   "execution_count": null,
   "id": "6168024f-80a0-4cfa-93d8-9568d4089f0e",
   "metadata": {
    "vscode": {
     "languageId": "r"
    }
   },
   "outputs": [],
   "source": [
    "DimPlot(xobj, reduction = \"UMAP\", cols = r3dcol$cols_94, group.by = 'celltype_extended_atlas')\n",
    "DimPlot(xobj, reduction = \"xobj_umap0\", cols = r3dcol$cols_94, group.by = 'celltype_extended_atlas')\n",
    "DimPlot(xobj, reduction = \"xobj_umap1\", cols = r3dcol$cols_94, group.by = 'celltype_extended_atlas')\n",
    "DimPlot(xobj, reduction = \"xobj_umap2\", cols = r3dcol$cols_94, group.by = 'celltype_extended_atlas')\n",
    "DimPlot(xobj, reduction = \"xobj_umap3\", cols = r3dcol$cols_94, group.by = 'celltype_extended_atlas')"
   ]
  },
  {
   "cell_type": "code",
   "execution_count": null,
   "id": "7227b6ae-fc69-4826-9810-de875d217e81",
   "metadata": {
    "scrolled": true,
    "vscode": {
     "languageId": "r"
    }
   },
   "outputs": [],
   "source": [
    "# New harmony Umap\n",
    "xobj <- RunUMAP(xobj, reduction = \"PCA\", dims = 1:75, n.components = 2L,\n",
    "                     n.neighbors = 10,reduction.name = \"xobj_umap0_int\")\n",
    "xobj <- RunUMAP(xobj, reduction = \"PCA\", dims = 1:75, n.components = 2L, local.connectivity = 1L,\n",
    "                  min.dist = 0.5, spread = 0.5,\n",
    "                     n.neighbors = 10,reduction.name = \"xobj_umap1_int\")\n",
    "xobj <- RunUMAP(xobj, reduction = \"PCA\", dims = 1:75, n.components = 2L, local.connectivity = 1L,\n",
    "                  min.dist = 0.4, spread = 0.5,\n",
    "                     n.neighbors = 10,reduction.name = \"xobj_umap2_int\")\n",
    "xobj <- RunUMAP(xobj, reduction = \"PCA\", dims = 1:75, n.components = 2L, local.connectivity = 1L,\n",
    "                  min.dist = 0.3, spread = 0.5,\n",
    "                     n.neighbors = 10,reduction.name = \"xobj_umap3_int\")"
   ]
  },
  {
   "cell_type": "code",
   "execution_count": null,
   "id": "b61031df-604e-438c-b1f1-9bce1154cf9d",
   "metadata": {
    "vscode": {
     "languageId": "r"
    }
   },
   "outputs": [],
   "source": [
    "DimPlot(xobj, reduction = \"UMAP\", cols = r3dcol$cols_94, group.by = 'celltype_extended_atlas')\n",
    "DimPlot(xobj, reduction = \"xobj_umap0_int\", cols = r3dcol$cols_94, group.by = 'celltype_extended_atlas')\n",
    "DimPlot(xobj, reduction = \"xobj_umap1_int\", cols = r3dcol$cols_94, group.by = 'celltype_extended_atlas')\n",
    "DimPlot(xobj, reduction = \"xobj_umap2_int\", cols = r3dcol$cols_94, group.by = 'celltype_extended_atlas')\n",
    "DimPlot(xobj, reduction = \"xobj_umap3_int\", cols = r3dcol$cols_94, group.by = 'celltype_extended_atlas')"
   ]
  },
  {
   "cell_type": "code",
   "execution_count": null,
   "id": "93e9f79d-f5a5-4fee-878d-b4c20f0b4ee0",
   "metadata": {
    "vscode": {
     "languageId": "r"
    }
   },
   "outputs": [],
   "source": [
    "DimPlot(xobj, reduction = \"xobj_umap1_int\", cols = r3dcol$cols_94, group.by = 'celltype_extended_atlas')"
   ]
  },
  {
   "cell_type": "code",
   "execution_count": null,
   "id": "05fda9fb-bc3b-4acd-8873-5201e617a2e9",
   "metadata": {
    "vscode": {
     "languageId": "r"
    }
   },
   "outputs": [],
   "source": [
    "set.seed(1)\n",
    "lineages_xobj <- as.SlingshotDataSet(getLineages(\n",
    "  data           = xobj@reductions$xobj_umap1_int@cell.embeddings,\n",
    "  clusterLabels  = xobj$celltype_extended_atlas,\n",
    "  dist.method    = \"slingshot\", # It can be: \"simple\", \"scaled.full\", \"scaled.diag\", \"slingshot\" or \"mnn\"\n",
    "  end.clus       = c('Limb mesoderm','Mesenchyme','Epicardium','Allantois'),\n",
    "  start.clus     = \"Epiblast\"# define where to START the trajectories\n",
    ")) "
   ]
  },
  {
   "cell_type": "code",
   "execution_count": null,
   "id": "c94e9e3a-0306-41fe-a4cb-e363ca794495",
   "metadata": {
    "vscode": {
     "languageId": "r"
    }
   },
   "outputs": [],
   "source": [
    "# Define curves\n",
    "curves_xobj <- as.SlingshotDataSet(getCurves(data = lineages_xobj,approx_points = 1000))"
   ]
  },
  {
   "cell_type": "code",
   "execution_count": null,
   "id": "c4be6639-3c5e-4cf0-8b0e-98c019f36c8f",
   "metadata": {
    "vscode": {
     "languageId": "r"
    }
   },
   "outputs": [],
   "source": [
    "options(repr.plot.width = 10, repr.plot.height = 10)\n",
    "p_curves <-plot_umap_with_curves(seurat_obj = xobj,\n",
    "  reduction = \"xobj_umap1_int\",\n",
    "  cluster_col = \"celltype_extended_atlas\",\n",
    "  color_vector = rep(r3dcol$cols_46,2),\n",
    "  curves = curves_xobj,        # or 'curves' object from Slingshot\n",
    "  label_cex = 1,\n",
    "  point_pch = 16,\n",
    "  point_cex = 1,\n",
    "  line_lwd = 2\n",
    ")\n",
    "p_curves"
   ]
  },
  {
   "cell_type": "code",
   "execution_count": null,
   "id": "f47d7ef9-5426-4b7c-878d-c3034497387f",
   "metadata": {
    "vscode": {
     "languageId": "r"
    }
   },
   "outputs": [],
   "source": [
    "curves_xobj"
   ]
  },
  {
   "cell_type": "code",
   "execution_count": null,
   "id": "b77d6d3a-2a2a-447d-80d4-4516fd3127f6",
   "metadata": {
    "vscode": {
     "languageId": "r"
    }
   },
   "outputs": [],
   "source": [
    "options(repr.plot.width = 5, repr.plot.height = 5)\n",
    "p_pseudo <- plot_umap_pseudotime_and_centroids(\n",
    "  seurat_obj = xobj,\n",
    "  curves = curves_xobj,\n",
    "  embedding = \"xobj_umap3\",\n",
    " cluster_col = \"new_subclusters\",\n",
    "  color_vector = r3dcol$cols_94,   # Or your own color palette\n",
    "  point_cex = 0.4,\n",
    "  label_cex = 1,\n",
    "  legend_title = \"Pseudotime\",\n",
    "  legend_mar = 2\n",
    ")\n",
    "p_pseudo"
   ]
  },
  {
   "cell_type": "code",
   "execution_count": null,
   "id": "9867112d-019c-480f-94ed-296d8ad9cca5",
   "metadata": {
    "vscode": {
     "languageId": "r"
    }
   },
   "outputs": [],
   "source": [
    "library(ggplot2)\n",
    "library(slingshot)\n",
    "library(Seurat)\n",
    "library(mgcv)\n",
    "library(dplyr)\n",
    "\n",
    "#' Diagnostic function to check pseudotime data\n",
    "#'\n",
    "#' @param seurat_obj Seurat object\n",
    "#' @param curves_obj Slingshot curves object\n",
    "#' @param cell_type_column Character. Column name for cell types\n",
    "#'\n",
    "check_pseudotime_data <- function(seurat_obj, curves_obj, cell_type_column = \"seurat_clusters\") {\n",
    "  \n",
    "  cat(\"=== PSEUDOTIME DATA DIAGNOSTIC ===\\n\")\n",
    "  \n",
    "  # Check available lineages\n",
    "  lineages <- colnames(slingPseudotime(curves_obj))\n",
    "  cat(\"Available lineages:\", paste(lineages, collapse = \", \"), \"\\n\")\n",
    "  \n",
    "  # Check pseudotime data for each lineage\n",
    "  pseudotime_matrix <- slingPseudotime(curves_obj, na = FALSE)\n",
    "  \n",
    "  for (lineage in lineages) {\n",
    "    pseudotime_values <- pseudotime_matrix[, lineage]\n",
    "    n_total <- length(pseudotime_values)\n",
    "    n_finite <- sum(is.finite(pseudotime_values))\n",
    "    n_na <- sum(is.na(pseudotime_values))\n",
    "    \n",
    "    cat(\"\\n\", lineage, \":\\n\")\n",
    "    cat(\"  Total cells:\", n_total, \"\\n\")\n",
    "    cat(\"  Finite values:\", n_finite, \"\\n\")\n",
    "    cat(\"  NA values:\", n_na, \"\\n\")\n",
    "    \n",
    "    if (n_finite > 0) {\n",
    "      cat(\"  Range:\", round(range(pseudotime_values, na.rm = TRUE), 3), \"\\n\")\n",
    "    }\n",
    "  }\n",
    "  \n",
    "  # Check cell name overlap\n",
    "  curve_cells <- rownames(pseudotime_matrix)\n",
    "  seurat_cells <- colnames(seurat_obj)\n",
    "  overlap <- intersect(curve_cells, seurat_cells)\n",
    "  \n",
    "  cat(\"\\n=== CELL NAME OVERLAP ===\\n\")\n",
    "  cat(\"Cells in curves object:\", length(curve_cells), \"\\n\")\n",
    "  cat(\"Cells in Seurat object:\", length(seurat_cells), \"\\n\")\n",
    "  cat(\"Overlapping cells:\", length(overlap), \"\\n\")\n",
    "  \n",
    "  if (length(overlap) == 0) {\n",
    "    cat(\"WARNING: No overlapping cell names found!\\n\")\n",
    "    cat(\"First 5 curve cell names:\", head(curve_cells, 5), \"\\n\")\n",
    "    cat(\"First 5 Seurat cell names:\", head(seurat_cells, 5), \"\\n\")\n",
    "  }\n",
    "  \n",
    "  return(invisible(NULL))\n",
    "}\n",
    "\n",
    "#' Plot Gene Expression Along Pseudotime with Cell Type Coloring\n",
    "#'\n",
    "#' This function creates a trend plot showing gene expression along a specific lineage\n",
    "#' pseudotime trajectory, with the trend line colored by dominant cell types in each region.\n",
    "#'\n",
    "#' @param seurat_obj Seurat object containing gene expression data\n",
    "#' @param curves_obj Slingshot curves object containing pseudotime information\n",
    "#' @param gene_name Character. Name of the gene to plot (must match gene names in Seurat object)\n",
    "#' @param lineage_name Character. Name of the lineage to plot (e.g., \"Lineage1\", \"Lineage2\")\n",
    "#' @param min_cells Numeric. Minimum number of cells required for a cell type to be considered major (default: 50)\n",
    "#' @param n_bins Numeric. Number of bins to divide pseudotime axis for determining dominant cell types (default: 50)\n",
    "#' @param color_palette Character vector. Colors to use for major cell types. If NULL, uses rainbow colors (default: NULL)\n",
    "#' @param cell_type_column Character. Column name in Seurat object metadata containing cell type information (default: \"seurat_clusters\")\n",
    "#' @param expression_slot Character. Which slot to use for gene expression (\"data\", \"counts\", or \"scale.data\") (default: \"data\")\n",
    "#' @param ylim Numeric vector of length 2. Y-axis limits c(min, max). If NULL, uses automatic limits (default: NULL)\n",
    "#' @param lineage_destination Character. Optional destination/endpoint name for the lineage (e.g., \"Erythroid\", \"Neural\"). If provided, will be added to plot title (default: NULL)\n",
    "#' @param save_plot Logical. Whether to save the plot (default: FALSE)\n",
    "#' @param filename Character. Filename for saving plot (default: NULL)\n",
    "#' @param plot_width Numeric. Width for saved plot (default: 10)\n",
    "#' @param plot_height Numeric. Height for saved plot (default: 6)\n",
    "#'\n",
    "#' @return ggplot object\n",
    "#'\n",
    "plot_gene_pseudotime <- function(seurat_obj,\n",
    "                                curves_obj,\n",
    "                                gene_name,\n",
    "                                lineage_name,\n",
    "                                min_cells = 50,\n",
    "                                n_bins = 50,\n",
    "                                color_palette = NULL,\n",
    "                                cell_type_column = \"seurat_clusters\",\n",
    "                                expression_slot = \"data\",\n",
    "                                ylim = NULL,\n",
    "                                lineage_destination = NULL,\n",
    "                                save_plot = FALSE,\n",
    "                                filename = NULL,\n",
    "                                plot_width = 10,\n",
    "                                plot_height = 6) {\n",
    "  \n",
    "  # Input validation\n",
    "  message(\"=== STARTING INPUT VALIDATION ===\")\n",
    "  \n",
    "  if (!gene_name %in% rownames(seurat_obj)) {\n",
    "    stop(paste(\"Gene\", gene_name, \"not found in Seurat object\"))\n",
    "  }\n",
    "  message(\"✓ Gene found in Seurat object\")\n",
    "  \n",
    "  if (!lineage_name %in% colnames(slingPseudotime(curves_obj))) {\n",
    "    available_lineages <- colnames(slingPseudotime(curves_obj))\n",
    "    stop(paste(\"Lineage\", lineage_name, \"not found. Available lineages:\", paste(available_lineages, collapse = \", \")))\n",
    "  }\n",
    "  message(\"✓ Lineage found in curves object\")\n",
    "  \n",
    "  if (!cell_type_column %in% colnames(seurat_obj@meta.data)) {\n",
    "    stop(paste(\"Cell type column\", cell_type_column, \"not found in Seurat object metadata\"))\n",
    "  }\n",
    "  message(\"✓ Cell type column found in metadata\")\n",
    "  \n",
    "  message(\"=== EXTRACTING DATA ===\")\n",
    "  \n",
    "  # Extract pseudotime for specified lineage\n",
    "  pseudotime_matrix <- slingPseudotime(curves_obj)\n",
    "  pseudotime_data <- pseudotime_matrix[, lineage_name]\n",
    "  \n",
    "  message(paste(\"Extracted pseudotime for\", lineage_name, \"- length:\", length(pseudotime_data)))\n",
    "  message(paste(\"Number of NA values:\", sum(is.na(pseudotime_data))))\n",
    "  message(paste(\"Number of finite values:\", sum(is.finite(pseudotime_data))))\n",
    "  if(sum(is.finite(pseudotime_data)) > 0) {\n",
    "    message(paste(\"Pseudotime range:\", paste(range(pseudotime_data, na.rm = TRUE), collapse = \" to \")))\n",
    "  }\n",
    "  \n",
    "  # Get gene expression\n",
    "  gene_expression <- GetAssayData(seurat_obj, slot = expression_slot)[gene_name, ]\n",
    "  message(paste(\"Extracted expression for\", gene_name, \"- length:\", length(gene_expression)))\n",
    "  \n",
    "  # Get cell type information\n",
    "  cell_types <- seurat_obj@meta.data[names(pseudotime_data), cell_type_column]\n",
    "  message(paste(\"Extracted cell types - length:\", length(cell_types)))\n",
    "  message(paste(\"Number of NA cell types:\", sum(is.na(cell_types))))\n",
    "  message(paste(\"First few cell types:\", paste(head(cell_types, na.rm = TRUE), collapse = \", \")))\n",
    "  \n",
    "  # Create data frame\n",
    "  plot_data <- data.frame(\n",
    "    pseudotime = pseudotime_data,\n",
    "    expression = gene_expression[names(pseudotime_data)],\n",
    "    cell_type = cell_types\n",
    "  )\n",
    "  \n",
    "  message(paste(\"Created plot_data with\", nrow(plot_data), \"rows\"))\n",
    "  message(paste(\"Complete cases before filtering:\", sum(complete.cases(plot_data))))\n",
    "  \n",
    "  # Remove NA values\n",
    "  plot_data <- plot_data[complete.cases(plot_data), ]\n",
    "  \n",
    "  message(paste(\"Complete cases after filtering:\", nrow(plot_data)))\n",
    "  \n",
    "  # Check if we have any valid data after removing NAs\n",
    "  if (nrow(plot_data) == 0) {\n",
    "    message(\"=== DEBUGGING INFO ===\")\n",
    "    message(\"Original pseudotime_data length:\", length(pseudotime_data))\n",
    "    message(\"Original gene_expression length:\", length(gene_expression))\n",
    "    message(\"Original cell_types length:\", length(cell_types))\n",
    "    message(\"Names match between pseudotime and expression:\", \n",
    "            identical(names(pseudotime_data), names(gene_expression[names(pseudotime_data)])))\n",
    "    message(\"Sample of pseudotime names:\", paste(head(names(pseudotime_data)), collapse = \", \"))\n",
    "    message(\"Sample of expression names:\", paste(head(names(gene_expression)), collapse = \", \"))\n",
    "    stop(paste(\"No valid data found for\", lineage_name, \". Check if the lineage exists and has valid pseudotime values.\"))\n",
    "  }\n",
    "  \n",
    "  # Check if pseudotime values are finite\n",
    "  if (!all(is.finite(plot_data$pseudotime))) {\n",
    "    stop(\"Non-finite pseudotime values found. Please check your slingshot curves object.\")\n",
    "  }\n",
    "  \n",
    "  message(paste(\"Found\", nrow(plot_data), \"cells with valid pseudotime and expression data for\", lineage_name))\n",
    "  \n",
    "  # Count cells per cell type and identify small cell types\n",
    "  cell_type_counts <- table(plot_data$cell_type)\n",
    "  small_cell_types <- names(cell_type_counts[cell_type_counts < min_cells])\n",
    "  \n",
    "  message(paste(\"Cell type counts:\"))\n",
    "  print(cell_type_counts)\n",
    "  message(paste(\"Small cell types (< \", min_cells, \" cells):\", paste(small_cell_types, collapse = \", \")))\n",
    "  \n",
    "  # Group small cell types\n",
    "  plot_data$cell_type_plot <- as.character(plot_data$cell_type)\n",
    "  plot_data$cell_type_plot[plot_data$cell_type %in% small_cell_types] <- paste0(\"Other (< \", min_cells, \" cells)\")\n",
    "  \n",
    "  # Order cell types by median pseudotime\n",
    "  cell_type_order <- plot_data %>%\n",
    "    group_by(cell_type_plot) %>%\n",
    "    summarise(median_pseudotime = median(pseudotime, na.rm = TRUE), .groups = 'drop') %>%\n",
    "    arrange(median_pseudotime) %>%\n",
    "    pull(cell_type_plot)\n",
    "  \n",
    "  plot_data$cell_type_plot <- factor(plot_data$cell_type_plot, levels = cell_type_order)\n",
    "  \n",
    "  # Create pseudotime bins\n",
    "  pseudotime_range <- range(plot_data$pseudotime, na.rm = TRUE)\n",
    "  bin_breaks <- seq(pseudotime_range[1], pseudotime_range[2], length.out = n_bins + 1)\n",
    "  plot_data$pseudotime_bin <- cut(plot_data$pseudotime, breaks = bin_breaks, include.lowest = TRUE)\n",
    "  \n",
    "  # Find dominant cell type in each bin (excluding small cell types)\n",
    "  dominant_celltype <- plot_data %>%\n",
    "    filter(cell_type_plot != paste0(\"Other (< \", min_cells, \" cells)\")) %>%\n",
    "    group_by(pseudotime_bin) %>%\n",
    "    count(cell_type_plot) %>%\n",
    "    slice_max(n, n = 1, with_ties = FALSE) %>%\n",
    "    ungroup() %>%\n",
    "    select(pseudotime_bin, dominant_type = cell_type_plot)\n",
    "  \n",
    "  # Create bin centers\n",
    "  bin_centers <- (bin_breaks[-1] + bin_breaks[-length(bin_breaks)]) / 2\n",
    "  dominant_celltype$pseudotime_center <- bin_centers[as.numeric(dominant_celltype$pseudotime_bin)]\n",
    "  \n",
    "  # Fit GAM model for smooth predictions\n",
    "  gam_model <- gam(expression ~ s(pseudotime, bs = \"cs\"), data = plot_data)\n",
    "  smooth_data <- data.frame(pseudotime = bin_centers)\n",
    "  smooth_data$expression <- predict(gam_model, newdata = smooth_data)\n",
    "  \n",
    "  # Merge with dominant cell types\n",
    "  smooth_data <- merge(smooth_data, \n",
    "                       dominant_celltype[, c(\"pseudotime_center\", \"dominant_type\")], \n",
    "                       by.x = \"pseudotime\", by.y = \"pseudotime_center\", all.x = TRUE)\n",
    "  \n",
    "  # Create segment groups to break lines\n",
    "  smooth_data <- smooth_data[order(smooth_data$pseudotime), ]\n",
    "  smooth_data$segment_group <- cumsum(c(TRUE, smooth_data$dominant_type[-1] != smooth_data$dominant_type[-nrow(smooth_data)] | \n",
    "                                       is.na(smooth_data$dominant_type[-1]) | is.na(smooth_data$dominant_type[-nrow(smooth_data)])))\n",
    "  \n",
    "  # Remove rows with NA dominant_type\n",
    "  smooth_data <- smooth_data[!is.na(smooth_data$dominant_type), ]\n",
    "  \n",
    "  # Set up colors\n",
    "  major_cell_types <- levels(plot_data$cell_type_plot)[levels(plot_data$cell_type_plot) != paste0(\"Other (< \", min_cells, \" cells)\")]\n",
    "  \n",
    "  if (is.null(color_palette)) {\n",
    "    colors <- rainbow(length(major_cell_types))\n",
    "  } else {\n",
    "    if (length(color_palette) < length(major_cell_types)) {\n",
    "      warning(\"Not enough colors in palette. Recycling colors.\")\n",
    "      colors <- rep(color_palette, length.out = length(major_cell_types))\n",
    "    } else {\n",
    "      colors <- color_palette[1:length(major_cell_types)]\n",
    "    }\n",
    "  }\n",
    "  names(colors) <- major_cell_types\n",
    "  \n",
    "  # Create plot title with optional destination\n",
    "  plot_title <- paste(gene_name, \"Expression Trend Along\", lineage_name)\n",
    "  if (!is.null(lineage_destination)) {\n",
    "    plot_title <- paste(gene_name, \"Expression Trend Along\", lineage_name, \"-\", lineage_destination)\n",
    "  }\n",
    "  \n",
    "  # Create plot\n",
    "  p <- ggplot() +\n",
    "    # Add confidence interval\n",
    "    geom_smooth(data = plot_data, aes(x = pseudotime, y = expression),\n",
    "                method = \"gam\", formula = y ~ s(x, bs = \"cs\"), \n",
    "                se = TRUE, color = NA, fill = \"darkgrey\", alpha = 0.5) +\n",
    "    # Add colored line segments\n",
    "    geom_path(data = smooth_data, aes(x = pseudotime, y = expression, \n",
    "                                      color = dominant_type, group = segment_group), \n",
    "              linewidth = 2) +\n",
    "    scale_color_manual(values = colors, name = \"Dominant Cell Type\") +\n",
    "    labs(\n",
    "      title = plot_title,\n",
    "      x = \"Pseudotime\",\n",
    "      y = paste(gene_name, \"Expression\"),\n",
    "      subtitle = paste0(\"Line colored by dominant cell type in each pseudotime region (n = \", \n",
    "                       nrow(plot_data), \" cells, min_cells = \", min_cells, \", bins = \", n_bins, \")\")\n",
    "    ) +\n",
    "    theme_classic() +\n",
    "    theme(\n",
    "      plot.title = element_text(size = 14, hjust = 0.5, face = \"bold\"),\n",
    "      plot.subtitle = element_text(size = 11, hjust = 0.5),\n",
    "      axis.title = element_text(size = 12),\n",
    "      axis.text = element_text(size = 10),\n",
    "      legend.title = element_text(size = 11),\n",
    "      legend.text = element_text(size = 9),\n",
    "      panel.grid.major.y = element_line(color = \"grey90\", linewidth = 0.5)\n",
    "    ) +\n",
    "    guides(color = guide_legend(override.aes = list(linewidth = 3)))\n",
    "  \n",
    "  # Add custom y-axis limits if provided\n",
    "  if (!is.null(ylim)) {\n",
    "    if (length(ylim) != 2 || !is.numeric(ylim)) {\n",
    "      warning(\"ylim should be a numeric vector of length 2. Using automatic limits.\")\n",
    "    } else {\n",
    "      p <- p + coord_cartesian(ylim = ylim)\n",
    "    }\n",
    "  }\n",
    "  \n",
    "  # Save plot if requested\n",
    "  if (save_plot) {\n",
    "    if (is.null(filename)) {\n",
    "      filename <- paste0(gene_name, \"_\", lineage_name, \"_pseudotime_trend.pdf\")\n",
    "    }\n",
    "    ggsave(filename, plot = p, width = plot_width, height = plot_height)\n",
    "    message(paste(\"Plot saved as:\", filename))\n",
    "  }\n",
    "  \n",
    "  return(p)\n",
    "}\n",
    "\n",
    "#' # With y-axis limits\n",
    "#' p <- plot_gene_pseudotime(seurat_obj, curves_df_old_umap, \"Atf3\", \"Lineage1\",\n",
    "#'                          ylim = c(0, 5))\n",
    "#' \n",
    "#' # With lineage destination in title\n",
    "#' p <- plot_gene_pseudotime(seurat_obj, curves_df_old_umap, \"Atf3\", \"Lineage7\",\n",
    "#'                          lineage_destination = \"Erythroid\")\n",
    "#' \n",
    "#' # With both options\n",
    "#' p <- plot_gene_pseudotime(seurat_obj, curves_df_old_umap, \"Sox2\", \"Lineage2\",\n",
    "#'                          ylim = c(0, 3), lineage_destination = \"Neural\")"
   ]
  },
  {
   "cell_type": "code",
   "execution_count": null,
   "id": "fc07a7ff-34e8-41e7-a753-3bb4f0047eec",
   "metadata": {
    "scrolled": true,
    "vscode": {
     "languageId": "r"
    }
   },
   "outputs": [],
   "source": [
    "p_Mesenchyme   <- plot_gene_pseudotime(\n",
    "   seurat_obj = xobj,\n",
    "   curves_obj = curves_xobj,\n",
    "   gene_name = \"Atf3\",\n",
    "   lineage_name = \"Lineage1\",\n",
    "   min_cells = 100,\n",
    "   n_bins = 200,\n",
    "   color_palette = r3dcol$cols_94,\n",
    "   cell_type_column = \"celltype_extended_atlas\"\n",
    ")"
   ]
  },
  {
   "cell_type": "code",
   "execution_count": null,
   "id": "921b230e-f9b8-4b68-9537-9783304b33a9",
   "metadata": {
    "vscode": {
     "languageId": "r"
    }
   },
   "outputs": [],
   "source": [
    "options(repr.plot.width = 10, repr.plot.height = 5)\n",
    "print(p_Mesenchyme)"
   ]
  },
  {
   "cell_type": "code",
   "execution_count": null,
   "id": "2bcd4897-b5c2-4440-b743-37fa254dd563",
   "metadata": {
    "scrolled": true,
    "vscode": {
     "languageId": "r"
    }
   },
   "outputs": [],
   "source": [
    "p_Allantois   <- plot_gene_pseudotime(\n",
    "   seurat_obj = xobj,\n",
    "   curves_obj = curves_xobj,\n",
    "   gene_name = \"Atf3\",\n",
    "   lineage_name = \"Lineage2\",\n",
    "   min_cells = 100,\n",
    "   n_bins = 200,\n",
    "   color_palette = r3dcol$cols_94,\n",
    "   cell_type_column = \"celltype_extended_atlas\"\n",
    ")"
   ]
  },
  {
   "cell_type": "code",
   "execution_count": null,
   "id": "bd460b5d-c755-42cf-9a3f-6d5df37ec4b1",
   "metadata": {
    "vscode": {
     "languageId": "r"
    }
   },
   "outputs": [],
   "source": [
    "p_Allantois"
   ]
  },
  {
   "cell_type": "code",
   "execution_count": null,
   "id": "9e7baeb8-e9b7-451f-a52f-92b115542e79",
   "metadata": {
    "scrolled": true,
    "vscode": {
     "languageId": "r"
    }
   },
   "outputs": [],
   "source": [
    "p_Epicardium   <- plot_gene_pseudotime(\n",
    "   seurat_obj = xobj,\n",
    "   curves_obj = curves_xobj,\n",
    "   gene_name = \"Atf3\",\n",
    "   lineage_name = \"Lineage3\",\n",
    "   min_cells = 100,\n",
    "   n_bins = 200,\n",
    "   color_palette = r3dcol$cols_94,\n",
    "   cell_type_column = \"celltype_extended_atlas\"\n",
    ")"
   ]
  },
  {
   "cell_type": "code",
   "execution_count": null,
   "id": "57fef23a-41c3-4854-830a-c3f6a0cae1cb",
   "metadata": {
    "vscode": {
     "languageId": "r"
    }
   },
   "outputs": [],
   "source": [
    "p_Epicardium"
   ]
  },
  {
   "cell_type": "code",
   "execution_count": null,
   "id": "dc0d9e67-350c-469a-a0e2-bd973ea2177f",
   "metadata": {
    "scrolled": true,
    "vscode": {
     "languageId": "r"
    }
   },
   "outputs": [],
   "source": [
    "p_limb   <- plot_gene_pseudotime(\n",
    "   seurat_obj = xobj,\n",
    "   curves_obj = curves_xobj,\n",
    "   gene_name = \"Atf3\",\n",
    "   lineage_name = \"Lineage4\",\n",
    "   min_cells = 100,\n",
    "   n_bins = 200,\n",
    "   color_palette = r3dcol$cols_94,\n",
    "   cell_type_column = \"celltype_extended_atlas\"\n",
    ")"
   ]
  },
  {
   "cell_type": "code",
   "execution_count": null,
   "id": "159d7d2b-7aa6-4d0b-9aee-2ee71ad3580e",
   "metadata": {
    "vscode": {
     "languageId": "r"
    }
   },
   "outputs": [],
   "source": [
    "p_limb"
   ]
  },
  {
   "cell_type": "code",
   "execution_count": null,
   "id": "03ed6af9-fd8d-427c-8e8d-ff65dcf079ef",
   "metadata": {
    "vscode": {
     "languageId": "r"
    }
   },
   "outputs": [],
   "source": [
    "options(repr.plot.width = 5, repr.plot.height = 5)\n",
    "p_pseudo <- plot_umap_pseudotime_and_centroids(\n",
    "  seurat_obj = xobj,\n",
    "  curves = curves_xobj,\n",
    "  embedding = \"xobj_umap1_int\",\n",
    " cluster_col = \"celltype_extended_atlas\",\n",
    "  color_vector = r3dcol$cols_94,   # Or your own color palette\n",
    "  point_cex = 0.4,\n",
    "  label_cex = 1,\n",
    "  legend_title = \"Pseudotime\",\n",
    "  legend_mar = 2\n",
    ")\n",
    "p_pseudo"
   ]
  },
  {
   "cell_type": "code",
   "execution_count": null,
   "id": "ec3c57ad-4e67-447d-bb7d-4c2b75087ed2",
   "metadata": {
    "vscode": {
     "languageId": "r"
    }
   },
   "outputs": [],
   "source": []
  },
  {
   "cell_type": "code",
   "execution_count": null,
   "id": "c7e635a9-63fb-42c9-aec9-15325668324a",
   "metadata": {
    "vscode": {
     "languageId": "r"
    }
   },
   "outputs": [],
   "source": [
    "saveRDS(xobj, \"./atlas_latemesoderm_lineage.rds\")"
   ]
  },
  {
   "cell_type": "code",
   "execution_count": null,
   "id": "98aa4973-acb1-4338-9f38-9cfc3478c699",
   "metadata": {
    "vscode": {
     "languageId": "r"
    }
   },
   "outputs": [],
   "source": [
    "saveRDS(lineages_xobj, './atlas_late_Mesoderm_slingshot_lin.rds')\n",
    "saveRDS(curves_xobj, './atlas_late_mesoderm_slingshot_curves.rds')"
   ]
  },
  {
   "cell_type": "code",
   "execution_count": null,
   "id": "38be48e1-ec4d-4a53-abae-7f505d67cbdb",
   "metadata": {
    "vscode": {
     "languageId": "r"
    }
   },
   "outputs": [],
   "source": [
    "atlas_late_mesoderm <- xobj\n",
    "atlas_late_mesoderm_lineages <- lineages_xobj\n",
    "atlas_late_mesoderm_curves <- curves_xobj"
   ]
  },
  {
   "cell_type": "code",
   "execution_count": null,
   "id": "bbe03895-98b5-4cb3-8f6a-bc45e520aa13",
   "metadata": {
    "vscode": {
     "languageId": "r"
    }
   },
   "outputs": [],
   "source": [
    "# after crush\n",
    "atlas_lm_xobj <- readRDS('./atlas_latemesoderm_lineage.rds') # it should be v4 actually.\n",
    "lineages_atlas_lm <- readRDS('./atlas_late_Mesoderm_slingshot_lin.rds')\n",
    "curves_atlas_lm <- readRDS('./atlas_late_mesoderm_slingshot_curves.rds')"
   ]
  },
  {
   "cell_type": "code",
   "execution_count": null,
   "id": "d4badbc2-86b4-4db3-b216-af6fac20ccaa",
   "metadata": {
    "vscode": {
     "languageId": "r"
    }
   },
   "outputs": [],
   "source": [
    "atlas_lm_xobj"
   ]
  },
  {
   "cell_type": "code",
   "execution_count": null,
   "id": "cd853262-ae39-4a9b-afc5-0dceb8af7d58",
   "metadata": {
    "vscode": {
     "languageId": "r"
    }
   },
   "outputs": [],
   "source": [
    "lineages_atlas_lm"
   ]
  },
  {
   "cell_type": "code",
   "execution_count": null,
   "id": "477b8891-dfe1-449e-820e-7c557ad97fa6",
   "metadata": {
    "vscode": {
     "languageId": "r"
    }
   },
   "outputs": [],
   "source": [
    "curves_atlas_lm"
   ]
  },
  {
   "cell_type": "markdown",
   "id": "c0b99ba0-0670-4bd1-bc1e-5043c51af021",
   "metadata": {},
   "source": [
    "### Cardiac Lineages"
   ]
  },
  {
   "cell_type": "markdown",
   "id": "501cb6e9-207e-415d-961a-ef4db043e74c",
   "metadata": {},
   "source": [
    "I tried with doing first and second heart fields together, but it didn't worked very well,now I am  doing them seperately."
   ]
  },
  {
   "cell_type": "markdown",
   "id": "03e15b95-5e43-4047-9a19-84fae40f77dd",
   "metadata": {},
   "source": [
    "#### FHF"
   ]
  },
  {
   "cell_type": "code",
   "execution_count": null,
   "id": "eea84e0a-b976-4613-b48f-9ed5527a26e9",
   "metadata": {
    "vscode": {
     "languageId": "r"
    }
   },
   "outputs": [],
   "source": [
    "atlas"
   ]
  },
  {
   "cell_type": "code",
   "execution_count": null,
   "id": "95edf26f-8787-40a4-8f1f-a19e12d2fafd",
   "metadata": {
    "scrolled": true,
    "vscode": {
     "languageId": "r"
    }
   },
   "outputs": [],
   "source": [
    "table(atlas$celltype_extended_atlas)"
   ]
  },
  {
   "cell_type": "code",
   "execution_count": null,
   "id": "97c6394d-0854-4e1c-88fb-0322060c47db",
   "metadata": {
    "vscode": {
     "languageId": "r"
    }
   },
   "outputs": [],
   "source": [
    "xobj <- subset(atlas, subset = celltype_extended_atlas %in% c('Epiblast','Primitive Streak','Nascent mesoderm','Lateral plate mesoderm','Cardiopharyngeal progenitors FHF','Cardiopharyngeal progenitors',\n",
    "                                                              'Pharyngeal mesoderm','Anterior cardiopharyngeal progenitors','Cardiomyocytes FHF 1','Cardiomyocytes FHF 2' ))"
   ]
  },
  {
   "cell_type": "code",
   "execution_count": null,
   "id": "38bb5718-5b2a-4158-95f4-8d05b4fcb905",
   "metadata": {
    "vscode": {
     "languageId": "r"
    }
   },
   "outputs": [],
   "source": [
    "xobj"
   ]
  },
  {
   "cell_type": "code",
   "execution_count": null,
   "id": "c228f5ac-19bc-4d2f-862f-db464c318896",
   "metadata": {
    "vscode": {
     "languageId": "r"
    }
   },
   "outputs": [],
   "source": [
    "table(xobj$celltype_extended_atlas)"
   ]
  },
  {
   "cell_type": "code",
   "execution_count": null,
   "id": "37f1eb33-5e69-46de-ab9f-bbd2cf08367f",
   "metadata": {
    "vscode": {
     "languageId": "r"
    }
   },
   "outputs": [],
   "source": [
    "Idents(xobj) <- xobj$celltype_extended_atlas"
   ]
  },
  {
   "cell_type": "code",
   "execution_count": null,
   "id": "df1da750-1f0c-4771-9611-f2de177de327",
   "metadata": {
    "vscode": {
     "languageId": "r"
    }
   },
   "outputs": [],
   "source": [
    "xobj <- subset(xobj, downsample = 2000)\n",
    "xobj"
   ]
  },
  {
   "cell_type": "code",
   "execution_count": null,
   "id": "a7ea1ce9-a052-4c1b-94d4-a6e0f10fc923",
   "metadata": {
    "vscode": {
     "languageId": "r"
    }
   },
   "outputs": [],
   "source": [
    "options(repr.plot.width = 15, repr.plot.height = 5)\n",
    "DimPlot(xobj, reduction = \"UMAP\")"
   ]
  },
  {
   "cell_type": "code",
   "execution_count": null,
   "id": "fc006d17-c8db-40c9-8a8e-b06fd280af0b",
   "metadata": {
    "scrolled": true,
    "vscode": {
     "languageId": "r"
    }
   },
   "outputs": [],
   "source": [
    "# New harmony Umap\n",
    "xobj <- RunUMAP(xobj, reduction = \"PCA\", dims = 1:75, n.components = 2L,\n",
    "                     n.neighbors = 10,reduction.name = \"xobj_umap0_int\")\n",
    "xobj <- RunUMAP(xobj, reduction = \"PCA\", dims = 1:75, n.components = 2L, local.connectivity = 1L,\n",
    "                  min.dist = 0.5, spread = 0.5,\n",
    "                     n.neighbors = 10,reduction.name = \"xobj_umap1_int\")\n",
    "xobj <- RunUMAP(xobj, reduction = \"PCA\", dims = 1:75, n.components = 2L, local.connectivity = 1L,\n",
    "                  min.dist = 0.4, spread = 0.5,\n",
    "                     n.neighbors = 10,reduction.name = \"xobj_umap2_int\")\n",
    "xobj <- RunUMAP(xobj, reduction = \"PCA\", dims = 1:75, n.components = 2L, local.connectivity = 1L,\n",
    "                  min.dist = 0.3, spread = 0.5,\n",
    "                     n.neighbors = 10,reduction.name = \"xobj_umap3_int\")"
   ]
  },
  {
   "cell_type": "code",
   "execution_count": null,
   "id": "2b171228-1810-4211-81fb-0424e1435fdd",
   "metadata": {
    "vscode": {
     "languageId": "r"
    }
   },
   "outputs": [],
   "source": [
    "DimPlot(xobj, reduction = \"UMAP\", cols = r3dcol$cols_94, group.by = 'celltype_extended_atlas')\n",
    "DimPlot(xobj, reduction = \"xobj_umap0_int\", cols = r3dcol$cols_94, group.by = 'celltype_extended_atlas')\n",
    "DimPlot(xobj, reduction = \"xobj_umap1_int\", cols = r3dcol$cols_94, group.by = 'celltype_extended_atlas')\n",
    "DimPlot(xobj, reduction = \"xobj_umap2_int\", cols = r3dcol$cols_94, group.by = 'celltype_extended_atlas')\n",
    "DimPlot(xobj, reduction = \"xobj_umap3_int\", cols = r3dcol$cols_94, group.by = 'celltype_extended_atlas')"
   ]
  },
  {
   "cell_type": "code",
   "execution_count": null,
   "id": "0404fec5-5cc3-4182-9a52-0a0eb26082a3",
   "metadata": {
    "vscode": {
     "languageId": "r"
    }
   },
   "outputs": [],
   "source": [
    "options(repr.plot.width = 15, repr.plot.height = 10)\n",
    "DimPlot(xobj, reduction = \"xobj_umap1_int\", cols = r3dcol$cols_94, group.by = 'celltype_extended_atlas',label = TRUE)"
   ]
  },
  {
   "cell_type": "code",
   "execution_count": null,
   "id": "3bedced0-7f5e-4c82-b888-aa17f4afea6a",
   "metadata": {
    "vscode": {
     "languageId": "r"
    }
   },
   "outputs": [],
   "source": [
    "set.seed(1)\n",
    "lineages_xobj <- as.SlingshotDataSet(getLineages(\n",
    "  data           = xobj@reductions$xobj_umap1_int@cell.embeddings,\n",
    "  clusterLabels  = xobj$celltype_extended_atlas,\n",
    "  dist.method    = \"slingshot\", # It can be: \"simple\", \"scaled.full\", \"scaled.diag\", \"slingshot\" or \"mnn\"\n",
    "  end.clus       = c('Cardiomyocytes FHF 2'),\n",
    "  start.clus     = \"Epiblast\"# define where to START the trajectories\n",
    ")) "
   ]
  },
  {
   "cell_type": "code",
   "execution_count": null,
   "id": "a249ff30-6155-4cd9-8362-dac14feea425",
   "metadata": {
    "vscode": {
     "languageId": "r"
    }
   },
   "outputs": [],
   "source": [
    "# Define curves\n",
    "curves_xobj <- as.SlingshotDataSet(getCurves(data = lineages_xobj,approx_points = 1000))"
   ]
  },
  {
   "cell_type": "code",
   "execution_count": null,
   "id": "6d3f49e5-db03-44bd-ac55-14ce47d21dbb",
   "metadata": {
    "vscode": {
     "languageId": "r"
    }
   },
   "outputs": [],
   "source": [
    "options(repr.plot.width = 10, repr.plot.height = 10)\n",
    "p_curves <-plot_umap_with_curves(seurat_obj = xobj,\n",
    "  reduction = \"xobj_umap1_int\",\n",
    "  cluster_col = \"celltype_extended_atlas\",\n",
    "  color_vector = rep(r3dcol$cols_46,2),\n",
    "  curves = curves_xobj,        # or 'curves' object from Slingshot\n",
    "  label_cex = 1,\n",
    "  point_pch = 16,\n",
    "  point_cex = 1,\n",
    "  line_lwd = 2\n",
    ")\n",
    "p_curves"
   ]
  },
  {
   "cell_type": "code",
   "execution_count": null,
   "id": "26aeea29-5356-4f7b-a177-8431351f3a61",
   "metadata": {
    "vscode": {
     "languageId": "r"
    }
   },
   "outputs": [],
   "source": [
    "curves_xobj"
   ]
  },
  {
   "cell_type": "code",
   "execution_count": null,
   "id": "cb0cfc3e-4e56-4c41-8f6c-6e399d396303",
   "metadata": {
    "vscode": {
     "languageId": "r"
    }
   },
   "outputs": [],
   "source": [
    "options(repr.plot.width = 5, repr.plot.height = 5)\n",
    "p_pseudo <- plot_umap_pseudotime_and_centroids(\n",
    "  seurat_obj = xobj,\n",
    "  curves = curves_xobj,\n",
    "  embedding = \"xobj_umap1_int\",\n",
    " cluster_col = \"celltype_extended_atlas\",\n",
    "  color_vector = r3dcol$cols_94,   # Or your own color palette\n",
    "  point_cex = 0.4,\n",
    "  label_cex = 1,\n",
    "  legend_title = \"Pseudotime\",\n",
    "  legend_mar = 2\n",
    ")\n",
    "p_pseudo"
   ]
  },
  {
   "cell_type": "code",
   "execution_count": null,
   "id": "1c345ade-b314-4c7b-8088-386e54166e49",
   "metadata": {
    "scrolled": true,
    "vscode": {
     "languageId": "r"
    }
   },
   "outputs": [],
   "source": [
    "p_cardiac_fhf   <- plot_gene_pseudotime(\n",
    "   seurat_obj = xobj,\n",
    "   curves_obj = curves_xobj,\n",
    "   gene_name = \"Atf3\",\n",
    "   lineage_name = \"Lineage1\",\n",
    "   min_cells = 100,\n",
    "   n_bins = 200,\n",
    "   color_palette = r3dcol$cols_94,\n",
    "   cell_type_column = \"celltype_extended_atlas\"\n",
    ")"
   ]
  },
  {
   "cell_type": "code",
   "execution_count": null,
   "id": "8ac2a73f-9bde-47d6-a4e9-8f140a203dfd",
   "metadata": {
    "scrolled": true,
    "vscode": {
     "languageId": "r"
    }
   },
   "outputs": [],
   "source": [
    "options(repr.plot.width = 10, repr.plot.height = 5)\n",
    "print(p_cardiac_fhf)"
   ]
  },
  {
   "cell_type": "code",
   "execution_count": null,
   "id": "958495b4-bf71-4021-81ec-9b29ac7ab1b9",
   "metadata": {
    "vscode": {
     "languageId": "r"
    }
   },
   "outputs": [],
   "source": []
  },
  {
   "cell_type": "code",
   "execution_count": null,
   "id": "47db63d2-acaa-4bd5-96d5-0cb2cdda3d1c",
   "metadata": {
    "vscode": {
     "languageId": "r"
    }
   },
   "outputs": [],
   "source": [
    "saveRDS(xobj, \"./atlas_cardiac_fhf_lineage.rds\")"
   ]
  },
  {
   "cell_type": "code",
   "execution_count": null,
   "id": "33663a87-f1ee-44be-83e4-e5849649faba",
   "metadata": {
    "vscode": {
     "languageId": "r"
    }
   },
   "outputs": [],
   "source": [
    "saveRDS(lineages_xobj, './atlas_cardiac_fhf_slingshot_lin.rds')\n",
    "saveRDS(curves_xobj, './atlas_cardiac_fhf_slingshot_curves.rds')"
   ]
  },
  {
   "cell_type": "code",
   "execution_count": null,
   "id": "1203dac9-2b76-4279-848b-d345535bd61a",
   "metadata": {
    "vscode": {
     "languageId": "r"
    }
   },
   "outputs": [],
   "source": [
    "# after crush\n",
    "atlas_fhf_xobj <- readRDS('./atlas_cardiac_fhf_lineage.rds') # it should be v4 actually.\n",
    "lineages_atlas_fhf <- readRDS('./atlas_cardiac_fhf_slingshot_lin.rds')\n",
    "curves_atlas_fhf <- readRDS('./atlas_cardiac_fhf_slingshot_curves.rds')"
   ]
  },
  {
   "cell_type": "code",
   "execution_count": null,
   "id": "df39fafb-706a-4310-bcea-270912660b0d",
   "metadata": {
    "vscode": {
     "languageId": "r"
    }
   },
   "outputs": [],
   "source": [
    "atlas_fhf_xobj"
   ]
  },
  {
   "cell_type": "code",
   "execution_count": null,
   "id": "05c6ccb1-3923-4e14-8353-10f6ac7a15f0",
   "metadata": {
    "vscode": {
     "languageId": "r"
    }
   },
   "outputs": [],
   "source": [
    "lineages_atlas_fhf"
   ]
  },
  {
   "cell_type": "code",
   "execution_count": null,
   "id": "fc5bf479-8e11-4a40-97fd-9d43fd580cdb",
   "metadata": {
    "vscode": {
     "languageId": "r"
    }
   },
   "outputs": [],
   "source": [
    "curves_atlas_fhf"
   ]
  },
  {
   "cell_type": "markdown",
   "id": "c16c8157-32ea-4f8b-8f25-6cde86c59b63",
   "metadata": {},
   "source": [
    "#### SHF"
   ]
  },
  {
   "cell_type": "code",
   "execution_count": null,
   "id": "d29f207f-e2a5-4f19-bb58-968807e2cdb0",
   "metadata": {
    "vscode": {
     "languageId": "r"
    }
   },
   "outputs": [],
   "source": [
    "atlas"
   ]
  },
  {
   "cell_type": "code",
   "execution_count": null,
   "id": "9bb0deb0-2886-44ed-8e7a-5e128dec96ab",
   "metadata": {
    "scrolled": true,
    "vscode": {
     "languageId": "r"
    }
   },
   "outputs": [],
   "source": [
    "table(atlas$celltype_extended_atlas)"
   ]
  },
  {
   "cell_type": "code",
   "execution_count": null,
   "id": "c3f1d418-2264-4678-857b-d2af8a536eff",
   "metadata": {
    "vscode": {
     "languageId": "r"
    }
   },
   "outputs": [],
   "source": [
    "xobj <- subset(atlas, subset = celltype_extended_atlas %in% c('Epiblast','Primitive Streak','Nascent mesoderm','Lateral plate mesoderm','Cardiopharyngeal progenitors SHF','Cardiopharyngeal progenitors',\n",
    "                                                              'Pharyngeal mesoderm','Anterior cardiopharyngeal progenitors','Cardiomyocytes SHF 1','Cardiomyocytes SHF 2' ))"
   ]
  },
  {
   "cell_type": "code",
   "execution_count": null,
   "id": "3fc7cb42-213d-496a-96eb-be7af74d9b40",
   "metadata": {
    "vscode": {
     "languageId": "r"
    }
   },
   "outputs": [],
   "source": [
    "xobj"
   ]
  },
  {
   "cell_type": "code",
   "execution_count": null,
   "id": "50b03941-b5d4-4b34-8494-7a6ec919549a",
   "metadata": {
    "vscode": {
     "languageId": "r"
    }
   },
   "outputs": [],
   "source": [
    "table(xobj$celltype_extended_atlas)"
   ]
  },
  {
   "cell_type": "code",
   "execution_count": null,
   "id": "942703bd-391d-4d26-8541-1983a34a8b7c",
   "metadata": {
    "vscode": {
     "languageId": "r"
    }
   },
   "outputs": [],
   "source": [
    "Idents(xobj) <- xobj$celltype_extended_atlas"
   ]
  },
  {
   "cell_type": "code",
   "execution_count": null,
   "id": "7c2d3ccf-07f0-4956-8113-8bc59b047184",
   "metadata": {
    "vscode": {
     "languageId": "r"
    }
   },
   "outputs": [],
   "source": [
    "xobj <- subset(xobj, downsample = 2000)\n",
    "xobj"
   ]
  },
  {
   "cell_type": "code",
   "execution_count": null,
   "id": "9860a50c-e964-43a9-911d-1d65d2930059",
   "metadata": {
    "vscode": {
     "languageId": "r"
    }
   },
   "outputs": [],
   "source": [
    "options(repr.plot.width = 15, repr.plot.height = 5)\n",
    "DimPlot(xobj, reduction = \"UMAP\")"
   ]
  },
  {
   "cell_type": "code",
   "execution_count": null,
   "id": "1bef9bcd-254f-4480-9d47-415b90348fe3",
   "metadata": {
    "scrolled": true,
    "vscode": {
     "languageId": "r"
    }
   },
   "outputs": [],
   "source": [
    "# New harmony Umap\n",
    "xobj <- RunUMAP(xobj, reduction = \"PCA\", dims = 1:75, n.components = 2L,\n",
    "                     n.neighbors = 10,reduction.name = \"xobj_umap0_int\")\n",
    "xobj <- RunUMAP(xobj, reduction = \"PCA\", dims = 1:75, n.components = 2L, local.connectivity = 1L,\n",
    "                  min.dist = 0.5, spread = 0.5,\n",
    "                     n.neighbors = 10,reduction.name = \"xobj_umap1_int\")\n",
    "xobj <- RunUMAP(xobj, reduction = \"PCA\", dims = 1:75, n.components = 2L, local.connectivity = 1L,\n",
    "                  min.dist = 0.4, spread = 0.5,\n",
    "                     n.neighbors = 10,reduction.name = \"xobj_umap2_int\")\n",
    "xobj <- RunUMAP(xobj, reduction = \"PCA\", dims = 1:75, n.components = 2L, local.connectivity = 1L,\n",
    "                  min.dist = 0.3, spread = 0.5,\n",
    "                     n.neighbors = 10,reduction.name = \"xobj_umap3_int\")"
   ]
  },
  {
   "cell_type": "code",
   "execution_count": null,
   "id": "781877a3-bd4d-48a1-a4ee-049a71071c92",
   "metadata": {
    "vscode": {
     "languageId": "r"
    }
   },
   "outputs": [],
   "source": [
    "DimPlot(xobj, reduction = \"UMAP\", cols = r3dcol$cols_94, group.by = 'celltype_extended_atlas')\n",
    "DimPlot(xobj, reduction = \"xobj_umap0_int\", cols = r3dcol$cols_94, group.by = 'celltype_extended_atlas')\n",
    "DimPlot(xobj, reduction = \"xobj_umap1_int\", cols = r3dcol$cols_94, group.by = 'celltype_extended_atlas')\n",
    "DimPlot(xobj, reduction = \"xobj_umap2_int\", cols = r3dcol$cols_94, group.by = 'celltype_extended_atlas')\n",
    "DimPlot(xobj, reduction = \"xobj_umap3_int\", cols = r3dcol$cols_94, group.by = 'celltype_extended_atlas')"
   ]
  },
  {
   "cell_type": "code",
   "execution_count": null,
   "id": "2d5adcc7-a7e2-47f8-90ff-046588a4daf4",
   "metadata": {
    "vscode": {
     "languageId": "r"
    }
   },
   "outputs": [],
   "source": [
    "options(repr.plot.width = 15, repr.plot.height = 10)\n",
    "DimPlot(xobj, reduction = \"UMAP\", cols = r3dcol$cols_94, group.by = 'celltype_extended_atlas',label = TRUE)"
   ]
  },
  {
   "cell_type": "code",
   "execution_count": null,
   "id": "7c1333f8-c229-473b-b962-802c0cd2f997",
   "metadata": {
    "vscode": {
     "languageId": "r"
    }
   },
   "outputs": [],
   "source": [
    "set.seed(1)\n",
    "lineages_xobj <- as.SlingshotDataSet(getLineages(\n",
    "  data           = xobj@reductions$xobj_umap1_int@cell.embeddings,\n",
    "  clusterLabels  = xobj$celltype_extended_atlas,\n",
    "  dist.method    = \"slingshot\", # It can be: \"simple\", \"scaled.full\", \"scaled.diag\", \"slingshot\" or \"mnn\"\n",
    "  end.clus       = c('Cardiomyocytes SHF 2'),\n",
    "  start.clus     = \"Epiblast\"# define where to START the trajectories\n",
    ")) "
   ]
  },
  {
   "cell_type": "code",
   "execution_count": null,
   "id": "05a01c85-121d-49c0-89e6-230c0a2aa349",
   "metadata": {
    "vscode": {
     "languageId": "r"
    }
   },
   "outputs": [],
   "source": [
    "# Define curves\n",
    "curves_xobj <- as.SlingshotDataSet(getCurves(data = lineages_xobj,approx_points = 1000))"
   ]
  },
  {
   "cell_type": "code",
   "execution_count": null,
   "id": "5709d664-2b49-4a40-874e-59b05ecb5917",
   "metadata": {
    "vscode": {
     "languageId": "r"
    }
   },
   "outputs": [],
   "source": [
    "options(repr.plot.width = 10, repr.plot.height = 10)\n",
    "p_curves <-plot_umap_with_curves(seurat_obj = xobj,\n",
    "  reduction = \"xobj_umap1_int\",\n",
    "  cluster_col = \"celltype_extended_atlas\",\n",
    "  color_vector = rep(r3dcol$cols_46,2),\n",
    "  curves = curves_xobj,        # or 'curves' object from Slingshot\n",
    "  label_cex = 1,\n",
    "  point_pch = 16,\n",
    "  point_cex = 1,\n",
    "  line_lwd = 2\n",
    ")\n",
    "p_curves"
   ]
  },
  {
   "cell_type": "code",
   "execution_count": null,
   "id": "8dca3f05-dcdf-4342-b998-b2e251c1f074",
   "metadata": {
    "vscode": {
     "languageId": "r"
    }
   },
   "outputs": [],
   "source": [
    "curves_xobj"
   ]
  },
  {
   "cell_type": "code",
   "execution_count": null,
   "id": "3aecfa82-9488-4694-9810-5a99b6e0934a",
   "metadata": {
    "vscode": {
     "languageId": "r"
    }
   },
   "outputs": [],
   "source": [
    "options(repr.plot.width = 10, repr.plot.height = 10)\n",
    "p_pseudo <- plot_umap_pseudotime_and_centroids(\n",
    "  seurat_obj = xobj,\n",
    "  curves = curves_xobj,\n",
    "  embedding = \"xobj_umap1_int\",\n",
    " cluster_col = \"celltype_extended_atlas\",\n",
    "  color_vector = r3dcol$cols_94,   # Or your own color palette\n",
    "  point_cex = 0.4,\n",
    "  label_cex = 1,\n",
    "  legend_title = \"Pseudotime\",\n",
    "  legend_mar = 2\n",
    ")\n",
    "p_pseudo"
   ]
  },
  {
   "cell_type": "code",
   "execution_count": null,
   "id": "873a85c8-5851-4841-9363-f11c46913a47",
   "metadata": {
    "scrolled": true,
    "vscode": {
     "languageId": "r"
    }
   },
   "outputs": [],
   "source": [
    "p_cardiac_shf   <- plot_gene_pseudotime(\n",
    "   seurat_obj = xobj,\n",
    "   curves_obj = curves_xobj,\n",
    "   gene_name = \"Atf3\",\n",
    "   lineage_name = \"Lineage1\",\n",
    "   min_cells = 100,\n",
    "   n_bins = 200,\n",
    "   color_palette = r3dcol$cols_94,\n",
    "   cell_type_column = \"celltype_extended_atlas\"\n",
    ")"
   ]
  },
  {
   "cell_type": "code",
   "execution_count": null,
   "id": "bca83cb6-3795-4c5d-b54e-156e538abd61",
   "metadata": {
    "vscode": {
     "languageId": "r"
    }
   },
   "outputs": [],
   "source": [
    "options(repr.plot.width = 10, repr.plot.height = 5)\n",
    "print(p_cardiac_shf)"
   ]
  },
  {
   "cell_type": "code",
   "execution_count": null,
   "id": "3bb86703-b46c-4552-964b-46569aa9395d",
   "metadata": {
    "vscode": {
     "languageId": "r"
    }
   },
   "outputs": [],
   "source": []
  },
  {
   "cell_type": "code",
   "execution_count": null,
   "id": "9d58b467-cd25-47e1-86eb-364ac0dbcdae",
   "metadata": {
    "vscode": {
     "languageId": "r"
    }
   },
   "outputs": [],
   "source": [
    "saveRDS(xobj, \"./atlas_cardiac_shf_lineage.rds\")"
   ]
  },
  {
   "cell_type": "code",
   "execution_count": null,
   "id": "c8114448-d75a-4d94-b264-73c67b4fcfc8",
   "metadata": {
    "vscode": {
     "languageId": "r"
    }
   },
   "outputs": [],
   "source": [
    "saveRDS(lineages_xobj, './atlas_cardiac_shf_slingshot_lin.rds')\n",
    "saveRDS(curves_xobj, './atlas_cardiac_shf_slingshot_curves.rds')"
   ]
  },
  {
   "cell_type": "code",
   "execution_count": null,
   "id": "6b17b0c6-ca49-4583-ba7e-cf2da0f281e2",
   "metadata": {
    "vscode": {
     "languageId": "r"
    }
   },
   "outputs": [],
   "source": [
    "# after crush\n",
    "atlas_shf_xobj <- readRDS('./atlas_cardiac_shf_lineage.rds') \n",
    "lineages_atlas_shf <- readRDS('./atlas_cardiac_shf_slingshot_lin.rds')\n",
    "curves_atlas_shf <- readRDS('./atlas_cardiac_shf_slingshot_curves.rds')"
   ]
  },
  {
   "cell_type": "code",
   "execution_count": null,
   "id": "55244b6a-6cc2-4cf9-895e-d728552694cd",
   "metadata": {
    "vscode": {
     "languageId": "r"
    }
   },
   "outputs": [],
   "source": [
    "atlas_shf_xobj"
   ]
  },
  {
   "cell_type": "code",
   "execution_count": null,
   "id": "5fc61bbd-6232-40aa-9ebd-9a3678982be7",
   "metadata": {
    "vscode": {
     "languageId": "r"
    }
   },
   "outputs": [],
   "source": [
    "lineages_atlas_shf"
   ]
  },
  {
   "cell_type": "code",
   "execution_count": null,
   "id": "d5b3409a-38e3-4fe9-9efc-c863bada85ff",
   "metadata": {
    "vscode": {
     "languageId": "r"
    }
   },
   "outputs": [],
   "source": [
    "curves_atlas_shf"
   ]
  },
  {
   "cell_type": "code",
   "execution_count": null,
   "id": "1e640732-5986-4211-8f53-07fc28406962",
   "metadata": {
    "vscode": {
     "languageId": "r"
    }
   },
   "outputs": [],
   "source": []
  },
  {
   "cell_type": "code",
   "execution_count": null,
   "id": "3d604892-1b5c-4fd0-8dd0-25fa5eae2771",
   "metadata": {
    "vscode": {
     "languageId": "r"
    }
   },
   "outputs": [],
   "source": []
  },
  {
   "cell_type": "code",
   "execution_count": null,
   "id": "567d3003-a9f5-43eb-aa62-647e38907aac",
   "metadata": {
    "vscode": {
     "languageId": "r"
    }
   },
   "outputs": [],
   "source": []
  },
  {
   "cell_type": "markdown",
   "id": "a0ff7516-16e3-41c6-bbfa-aa2f983b5d2f",
   "metadata": {},
   "source": [
    "## Blood"
   ]
  },
  {
   "cell_type": "markdown",
   "id": "f2f15990-5691-4137-8773-7ebc9721bd38",
   "metadata": {},
   "source": [
    "I tried with first and second wave together and it didn't worked. so i will do it with subsetting."
   ]
  },
  {
   "cell_type": "markdown",
   "id": "954e41b7-caf2-431a-8971-6a059d0edbca",
   "metadata": {},
   "source": [
    "### Erythroid"
   ]
  },
  {
   "cell_type": "code",
   "execution_count": null,
   "id": "d961fc54-43c4-4972-9c59-0f69e41f1ed9",
   "metadata": {
    "vscode": {
     "languageId": "r"
    }
   },
   "outputs": [],
   "source": [
    "atlas"
   ]
  },
  {
   "cell_type": "code",
   "execution_count": null,
   "id": "cd4886a5-bf16-4622-a76b-f7235e0926bc",
   "metadata": {
    "scrolled": true,
    "vscode": {
     "languageId": "r"
    }
   },
   "outputs": [],
   "source": [
    "table(atlas$celltype_extended_atlas)"
   ]
  },
  {
   "cell_type": "code",
   "execution_count": null,
   "id": "7555e61f-5a5a-479e-a4e5-cc288c6aaf26",
   "metadata": {
    "vscode": {
     "languageId": "r"
    }
   },
   "outputs": [],
   "source": [
    "xobj <- subset(atlas, subset = celltype_extended_atlas %in% c('Epiblast','Primitive Streak','Nascent mesoderm',\n",
    "                                                              'Haematoendothelial progenitors', 'Blood progenitors', 'Erythroid'                                                        \n",
    "                                                          ))"
   ]
  },
  {
   "cell_type": "code",
   "execution_count": null,
   "id": "54365285-3699-4612-ad59-b2ce57c425a3",
   "metadata": {
    "vscode": {
     "languageId": "r"
    }
   },
   "outputs": [],
   "source": [
    "xobj"
   ]
  },
  {
   "cell_type": "code",
   "execution_count": null,
   "id": "3431820a-a7fd-4bac-a0db-5e4144bc0694",
   "metadata": {
    "vscode": {
     "languageId": "r"
    }
   },
   "outputs": [],
   "source": [
    "table(xobj$celltype_extended_atlas)"
   ]
  },
  {
   "cell_type": "code",
   "execution_count": null,
   "id": "94014305-79d5-4d53-adec-76c3f3ac5ebe",
   "metadata": {
    "vscode": {
     "languageId": "r"
    }
   },
   "outputs": [],
   "source": [
    "Idents(xobj) <- xobj$celltype_extended_atlas"
   ]
  },
  {
   "cell_type": "code",
   "execution_count": null,
   "id": "5da599f9-3465-47e5-b63c-65a9e6af6a84",
   "metadata": {
    "vscode": {
     "languageId": "r"
    }
   },
   "outputs": [],
   "source": [
    "xobj <- subset(xobj, downsample = 2000)\n",
    "xobj"
   ]
  },
  {
   "cell_type": "code",
   "execution_count": null,
   "id": "4c3e7984-a281-472e-a4c6-3f64d5fff119",
   "metadata": {
    "vscode": {
     "languageId": "r"
    }
   },
   "outputs": [],
   "source": [
    "DimPlot(xobj, reduction = \"UMAP\")"
   ]
  },
  {
   "cell_type": "code",
   "execution_count": null,
   "id": "3e2e84f6-26fe-4197-a978-4b6a3f52e067",
   "metadata": {
    "scrolled": true,
    "vscode": {
     "languageId": "r"
    }
   },
   "outputs": [],
   "source": [
    "# New harmony Umap\n",
    "xobj <- RunUMAP(xobj, reduction = \"PCA\", dims = 1:75, n.components = 2L,\n",
    "                     n.neighbors = 10,reduction.name = \"xobj_umap0_int\")\n",
    "xobj <- RunUMAP(xobj, reduction = \"PCA\", dims = 1:75, n.components = 2L, local.connectivity = 1L,\n",
    "                  min.dist = 0.5, spread = 0.5,\n",
    "                     n.neighbors = 10,reduction.name = \"xobj_umap1_int\")\n",
    "xobj <- RunUMAP(xobj, reduction = \"PCA\", dims = 1:75, n.components = 2L, local.connectivity = 1L,\n",
    "                  min.dist = 0.4, spread = 0.5,\n",
    "                     n.neighbors = 10,reduction.name = \"xobj_umap2_int\")\n",
    "xobj <- RunUMAP(xobj, reduction = \"PCA\", dims = 1:75, n.components = 2L, local.connectivity = 1L,\n",
    "                  min.dist = 0.3, spread = 0.5,\n",
    "                     n.neighbors = 10,reduction.name = \"xobj_umap3_int\")"
   ]
  },
  {
   "cell_type": "code",
   "execution_count": null,
   "id": "589cb4cf-4a44-496e-b213-a37a955bf9bb",
   "metadata": {
    "vscode": {
     "languageId": "r"
    }
   },
   "outputs": [],
   "source": [
    "options(repr.plot.width = 8, repr.plot.height = 6)\n",
    "DimPlot(xobj, reduction = \"UMAP\", cols = r3dcol$cols_94, group.by = 'celltype_extended_atlas')\n",
    "DimPlot(xobj, reduction = \"xobj_umap0_int\", cols = r3dcol$cols_94, group.by = 'celltype_extended_atlas')\n",
    "DimPlot(xobj, reduction = \"xobj_umap1_int\", cols = r3dcol$cols_94, group.by = 'celltype_extended_atlas')\n",
    "DimPlot(xobj, reduction = \"xobj_umap2_int\", cols = r3dcol$cols_94, group.by = 'celltype_extended_atlas')\n",
    "DimPlot(xobj, reduction = \"xobj_umap3_int\", cols = r3dcol$cols_94, group.by = 'celltype_extended_atlas')"
   ]
  },
  {
   "cell_type": "code",
   "execution_count": null,
   "id": "122400e8-d11d-4cc2-82c6-a6d6c06c2fcc",
   "metadata": {
    "vscode": {
     "languageId": "r"
    }
   },
   "outputs": [],
   "source": [
    "options(repr.plot.width = 6, repr.plot.height = 6)\n",
    "DimPlot(xobj, reduction = \"xobj_umap1_int\", cols = r3dcol$cols_94, group.by = 'celltype_extended_atlas', label = TRUE)+NoLegend()"
   ]
  },
  {
   "cell_type": "code",
   "execution_count": null,
   "id": "cafba82c-92cb-49cc-a902-9588079e6d4c",
   "metadata": {
    "vscode": {
     "languageId": "r"
    }
   },
   "outputs": [],
   "source": [
    "set.seed(1)\n",
    "lineages_xobj <- as.SlingshotDataSet(getLineages(\n",
    "  data           = xobj@reductions$xobj_umap1_int@cell.embeddings,\n",
    "  clusterLabels  = xobj$celltype_extended_atlas,\n",
    "  dist.method    = \"slingshot\", # It can be: \"simple\", \"scaled.full\", \"scaled.diag\", \"slingshot\" or \"mnn\"\n",
    "  end.clus       = c('Erythroid'),\n",
    "  start.clus     = \"Epiblast\"# define where to START the trajectories\n",
    ")) "
   ]
  },
  {
   "cell_type": "code",
   "execution_count": null,
   "id": "dd9c2900-3c7b-4178-9033-1175ba7d7661",
   "metadata": {
    "vscode": {
     "languageId": "r"
    }
   },
   "outputs": [],
   "source": [
    "# Define curves\n",
    "curves_xobj <- as.SlingshotDataSet(getCurves(data = lineages_xobj,approx_points = 1000))"
   ]
  },
  {
   "cell_type": "code",
   "execution_count": null,
   "id": "6399b2fd-4980-45a1-ba21-3885be858a43",
   "metadata": {
    "vscode": {
     "languageId": "r"
    }
   },
   "outputs": [],
   "source": [
    "options(repr.plot.width = 10, repr.plot.height = 10)\n",
    "p_curves <-plot_umap_with_curves(seurat_obj = xobj,\n",
    "  reduction = \"xobj_umap1_int\",\n",
    "  cluster_col = \"celltype_extended_atlas\",\n",
    "  color_vector = rep(r3dcol$cols_46,2),\n",
    "  curves = curves_xobj,        # or 'curves' object from Slingshot\n",
    "  label_cex = 1,\n",
    "  point_pch = 16,\n",
    "  point_cex = 1,\n",
    "  line_lwd = 2\n",
    ")\n",
    "p_curves"
   ]
  },
  {
   "cell_type": "code",
   "execution_count": null,
   "id": "ffac2370-25c9-4593-be1a-4adb1d014395",
   "metadata": {
    "vscode": {
     "languageId": "r"
    }
   },
   "outputs": [],
   "source": [
    "curves_xobj"
   ]
  },
  {
   "cell_type": "code",
   "execution_count": null,
   "id": "ec68e14f-9045-47c5-b7f8-70d20b2a77fe",
   "metadata": {
    "vscode": {
     "languageId": "r"
    }
   },
   "outputs": [],
   "source": []
  },
  {
   "cell_type": "code",
   "execution_count": null,
   "id": "62d05537-702b-4a01-b327-73aef4845139",
   "metadata": {
    "vscode": {
     "languageId": "r"
    }
   },
   "outputs": [],
   "source": [
    "options(repr.plot.width = 5, repr.plot.height = 5)\n",
    "p_pseudo <- plot_umap_pseudotime_and_centroids(\n",
    "  seurat_obj = xobj,\n",
    "  curves = curves_xobj,\n",
    "  embedding = \"xobj_umap1_int\",\n",
    " cluster_col = \"celltype_extended_atlas\",\n",
    "  color_vector = r3dcol$cols_94,   # Or your own color palette\n",
    "  point_cex = 0.4,\n",
    "  label_cex = 1,\n",
    "  legend_title = \"Pseudotime\",\n",
    "  legend_mar = 2\n",
    ")\n",
    "p_pseudo"
   ]
  },
  {
   "cell_type": "code",
   "execution_count": null,
   "id": "65e725d9-7e58-42bb-baaf-fc6816a8f5ce",
   "metadata": {
    "scrolled": true,
    "vscode": {
     "languageId": "r"
    }
   },
   "outputs": [],
   "source": [
    "p_Erythroid   <- plot_gene_pseudotime(\n",
    "   seurat_obj = xobj,\n",
    "   curves_obj = curves_xobj,\n",
    "   gene_name = \"Atf3\",\n",
    "   lineage_name = \"Lineage1\",\n",
    "   min_cells = 100,\n",
    "   n_bins = 200,\n",
    "   color_palette = r3dcol$cols_94,\n",
    "   cell_type_column = \"celltype_extended_atlas\"\n",
    ")"
   ]
  },
  {
   "cell_type": "code",
   "execution_count": null,
   "id": "6a0af0e0-e337-4913-a279-cd503af78fdf",
   "metadata": {
    "vscode": {
     "languageId": "r"
    }
   },
   "outputs": [],
   "source": [
    "options(repr.plot.width = 10, repr.plot.height = 5)\n",
    "print(p_Erythroid)"
   ]
  },
  {
   "cell_type": "code",
   "execution_count": null,
   "id": "e2f717b1-eac4-45ef-a08a-193b9a90b5ac",
   "metadata": {
    "vscode": {
     "languageId": "r"
    }
   },
   "outputs": [],
   "source": [
    "getwd()"
   ]
  },
  {
   "cell_type": "code",
   "execution_count": null,
   "id": "2a80df31-9226-47df-9ed8-82eec4941a2d",
   "metadata": {
    "vscode": {
     "languageId": "r"
    }
   },
   "outputs": [],
   "source": [
    "saveRDS(xobj, \"./atlas_erythroid_lineage.rds\")"
   ]
  },
  {
   "cell_type": "code",
   "execution_count": null,
   "id": "4cce2394-c1a8-49da-ba0b-3675299c1925",
   "metadata": {
    "vscode": {
     "languageId": "r"
    }
   },
   "outputs": [],
   "source": [
    "saveRDS(lineages_xobj, './atlas_erythroid_slingshot_lin.rds')\n",
    "saveRDS(curves_xobj, './atlas_erythroid_slingshot_curves.rds')"
   ]
  },
  {
   "cell_type": "code",
   "execution_count": null,
   "id": "b4ded281-ea51-49e6-bef4-0d42f58b7406",
   "metadata": {
    "vscode": {
     "languageId": "r"
    }
   },
   "outputs": [],
   "source": [
    "atlas_erythroid_xobj <- xobj\n",
    "lineages_atlas_erythroid <- lineages_xobj\n",
    "curves_atlas_erythroid <- curves_xobj"
   ]
  },
  {
   "cell_type": "code",
   "execution_count": null,
   "id": "bf3036ab-a91e-4def-b594-f5d868675235",
   "metadata": {
    "vscode": {
     "languageId": "r"
    }
   },
   "outputs": [],
   "source": [
    "atlas_erythroid_xobj"
   ]
  },
  {
   "cell_type": "code",
   "execution_count": null,
   "id": "85e1afbd-5f5c-4283-bf20-20ee74985677",
   "metadata": {
    "vscode": {
     "languageId": "r"
    }
   },
   "outputs": [],
   "source": [
    "lineages_atlas_erythroid"
   ]
  },
  {
   "cell_type": "code",
   "execution_count": null,
   "id": "622dee2e-a9ac-43df-b1e3-ede9bd91e93a",
   "metadata": {
    "vscode": {
     "languageId": "r"
    }
   },
   "outputs": [],
   "source": [
    "curves_atlas_erythroid"
   ]
  },
  {
   "cell_type": "code",
   "execution_count": null,
   "id": "0b9e1417-c64f-4969-8072-d9938f5fdfde",
   "metadata": {
    "vscode": {
     "languageId": "r"
    }
   },
   "outputs": [],
   "source": []
  },
  {
   "cell_type": "markdown",
   "id": "c768ead3-f91a-4d87-b3d9-5df21c0c8b36",
   "metadata": {},
   "source": [
    "### Endothelium"
   ]
  },
  {
   "cell_type": "code",
   "execution_count": null,
   "id": "ecc2b965-5c00-42ed-9b9a-7994f91392f4",
   "metadata": {
    "vscode": {
     "languageId": "r"
    }
   },
   "outputs": [],
   "source": [
    "atlas"
   ]
  },
  {
   "cell_type": "code",
   "execution_count": null,
   "id": "b2ecc788-c966-403a-bf32-c0fd0405d874",
   "metadata": {
    "scrolled": true,
    "vscode": {
     "languageId": "r"
    }
   },
   "outputs": [],
   "source": [
    "table(atlas$celltype_extended_atlas)"
   ]
  },
  {
   "cell_type": "code",
   "execution_count": null,
   "id": "52fb0a8f-69e8-4231-a98e-dc94383a3968",
   "metadata": {
    "vscode": {
     "languageId": "r"
    }
   },
   "outputs": [],
   "source": [
    "xobj <- subset(atlas, subset = celltype_extended_atlas %in% c('Epiblast','Primitive Streak','Nascent mesoderm',\n",
    "                                                              'Haematoendothelial progenitors', 'Venous endothelium','YS endothelium' ,'Embryo proper endothelium'                                                       \n",
    "                                                          ))"
   ]
  },
  {
   "cell_type": "code",
   "execution_count": null,
   "id": "bcda2861-4904-4058-ac12-27375dd29ed8",
   "metadata": {
    "vscode": {
     "languageId": "r"
    }
   },
   "outputs": [],
   "source": [
    "xobj"
   ]
  },
  {
   "cell_type": "code",
   "execution_count": null,
   "id": "420c4663-0e3b-44d7-9f71-9635e3c7bbac",
   "metadata": {
    "vscode": {
     "languageId": "r"
    }
   },
   "outputs": [],
   "source": [
    "table(xobj$celltype_extended_atlas)"
   ]
  },
  {
   "cell_type": "code",
   "execution_count": null,
   "id": "710af049-5022-4f4b-9261-99ac9e56b431",
   "metadata": {
    "vscode": {
     "languageId": "r"
    }
   },
   "outputs": [],
   "source": [
    "Idents(xobj) <- xobj$celltype_extended_atlas"
   ]
  },
  {
   "cell_type": "code",
   "execution_count": null,
   "id": "13d3cef8-2a13-4189-8a51-5d3d26467736",
   "metadata": {
    "vscode": {
     "languageId": "r"
    }
   },
   "outputs": [],
   "source": [
    "xobj <- subset(xobj, downsample = 2000)\n",
    "xobj"
   ]
  },
  {
   "cell_type": "code",
   "execution_count": null,
   "id": "23b67078-e6ef-4c2d-bfc1-be8eb37a92a7",
   "metadata": {
    "vscode": {
     "languageId": "r"
    }
   },
   "outputs": [],
   "source": [
    "DimPlot(xobj, reduction = \"UMAP\")"
   ]
  },
  {
   "cell_type": "code",
   "execution_count": null,
   "id": "6d9e48c2-f23e-4f39-8a3d-7c467edecc91",
   "metadata": {
    "scrolled": true,
    "vscode": {
     "languageId": "r"
    }
   },
   "outputs": [],
   "source": [
    "# New harmony Umap\n",
    "xobj <- RunUMAP(xobj, reduction = \"PCA\", dims = 1:75, n.components = 2L,\n",
    "                     n.neighbors = 10,reduction.name = \"xobj_umap0_int\")\n",
    "xobj <- RunUMAP(xobj, reduction = \"PCA\", dims = 1:75, n.components = 2L, local.connectivity = 1L,\n",
    "                  min.dist = 0.5, spread = 0.5,\n",
    "                     n.neighbors = 10,reduction.name = \"xobj_umap1_int\")\n",
    "xobj <- RunUMAP(xobj, reduction = \"PCA\", dims = 1:75, n.components = 2L, local.connectivity = 1L,\n",
    "                  min.dist = 0.4, spread = 0.5,\n",
    "                     n.neighbors = 10,reduction.name = \"xobj_umap2_int\")\n",
    "xobj <- RunUMAP(xobj, reduction = \"PCA\", dims = 1:75, n.components = 2L, local.connectivity = 1L,\n",
    "                  min.dist = 0.3, spread = 0.5,\n",
    "                     n.neighbors = 10,reduction.name = \"xobj_umap3_int\")"
   ]
  },
  {
   "cell_type": "code",
   "execution_count": null,
   "id": "ef09dc5e-9eb5-43fa-949d-bc0f9abcea91",
   "metadata": {
    "vscode": {
     "languageId": "r"
    }
   },
   "outputs": [],
   "source": [
    "options(repr.plot.width = 8, repr.plot.height = 6)\n",
    "DimPlot(xobj, reduction = \"UMAP\", cols = r3dcol$cols_94, group.by = 'celltype_extended_atlas')\n",
    "DimPlot(xobj, reduction = \"xobj_umap0_int\", cols = r3dcol$cols_94, group.by = 'celltype_extended_atlas')\n",
    "DimPlot(xobj, reduction = \"xobj_umap1_int\", cols = r3dcol$cols_94, group.by = 'celltype_extended_atlas')\n",
    "DimPlot(xobj, reduction = \"xobj_umap2_int\", cols = r3dcol$cols_94, group.by = 'celltype_extended_atlas')\n",
    "DimPlot(xobj, reduction = \"xobj_umap3_int\", cols = r3dcol$cols_94, group.by = 'celltype_extended_atlas')"
   ]
  },
  {
   "cell_type": "code",
   "execution_count": null,
   "id": "572f198f-99ae-4506-8a7c-e1a7b5d484bd",
   "metadata": {
    "vscode": {
     "languageId": "r"
    }
   },
   "outputs": [],
   "source": [
    "options(repr.plot.width = 6, repr.plot.height = 6)\n",
    "DimPlot(xobj, reduction = \"xobj_umap1_int\", cols = r3dcol$cols_94, group.by = 'celltype_extended_atlas', label = TRUE)+NoLegend()"
   ]
  },
  {
   "cell_type": "code",
   "execution_count": null,
   "id": "3b4a945e-07db-4538-8692-370f65298baf",
   "metadata": {
    "vscode": {
     "languageId": "r"
    }
   },
   "outputs": [],
   "source": [
    "set.seed(1)\n",
    "lineages_xobj <- as.SlingshotDataSet(getLineages(\n",
    "  data           = xobj@reductions$xobj_umap1_int@cell.embeddings,\n",
    "  clusterLabels  = xobj$celltype_extended_atlas,\n",
    "  dist.method    = \"slingshot\", # It can be: \"simple\", \"scaled.full\", \"scaled.diag\", \"slingshot\" or \"mnn\"\n",
    "  end.clus       = c('YS endothelium'),\n",
    "  start.clus     = \"Epiblast\"# define where to START the trajectories\n",
    ")) "
   ]
  },
  {
   "cell_type": "code",
   "execution_count": null,
   "id": "0c4fb449-ee73-446f-9dba-00c0584efe66",
   "metadata": {
    "vscode": {
     "languageId": "r"
    }
   },
   "outputs": [],
   "source": [
    "# Define curves\n",
    "curves_xobj <- as.SlingshotDataSet(getCurves(data = lineages_xobj,approx_points = 1000))"
   ]
  },
  {
   "cell_type": "code",
   "execution_count": null,
   "id": "c54247a4-019e-4396-918e-a5f6263ebff2",
   "metadata": {
    "vscode": {
     "languageId": "r"
    }
   },
   "outputs": [],
   "source": [
    "options(repr.plot.width = 10, repr.plot.height = 10)\n",
    "p_curves <-plot_umap_with_curves(seurat_obj = xobj,\n",
    "  reduction = \"xobj_umap1_int\",\n",
    "  cluster_col = \"celltype_extended_atlas\",\n",
    "  color_vector = rep(r3dcol$cols_46,2),\n",
    "  curves = curves_xobj,        # or 'curves' object from Slingshot\n",
    "  label_cex = 1,\n",
    "  point_pch = 16,\n",
    "  point_cex = 1,\n",
    "  line_lwd = 2\n",
    ")\n",
    "p_curves"
   ]
  },
  {
   "cell_type": "code",
   "execution_count": null,
   "id": "5c68fae4-04f1-481f-9a2c-6f32020c6b38",
   "metadata": {
    "vscode": {
     "languageId": "r"
    }
   },
   "outputs": [],
   "source": [
    "curves_xobj"
   ]
  },
  {
   "cell_type": "code",
   "execution_count": null,
   "id": "cb8d0aab-3c4c-4b6f-a58d-a766a00b00dc",
   "metadata": {
    "vscode": {
     "languageId": "r"
    }
   },
   "outputs": [],
   "source": [
    "options(repr.plot.width = 5, repr.plot.height = 5)\n",
    "p_pseudo <- plot_umap_pseudotime_and_centroids(\n",
    "  seurat_obj = xobj,\n",
    "  curves = curves_xobj,\n",
    "  embedding = \"xobj_umap1_int\",\n",
    " cluster_col = \"celltype_extended_atlas\",\n",
    "  color_vector = r3dcol$cols_94,   # Or your own color palette\n",
    "  point_cex = 0.4,\n",
    "  label_cex = 1,\n",
    "  legend_title = \"Pseudotime\",\n",
    "  legend_mar = 2\n",
    ")\n",
    "p_pseudo"
   ]
  },
  {
   "cell_type": "code",
   "execution_count": null,
   "id": "eb1683fb-4524-4d9f-b3db-bd733b93ed73",
   "metadata": {
    "scrolled": true,
    "vscode": {
     "languageId": "r"
    }
   },
   "outputs": [],
   "source": [
    "p_endothelium   <- plot_gene_pseudotime(\n",
    "   seurat_obj = xobj,\n",
    "   curves_obj = curves_xobj,\n",
    "   gene_name = \"Atf3\",\n",
    "   lineage_name = \"Lineage1\",\n",
    "   min_cells = 100,\n",
    "   n_bins = 200,\n",
    "   color_palette = r3dcol$cols_94,\n",
    "   cell_type_column = \"celltype_extended_atlas\"\n",
    ")"
   ]
  },
  {
   "cell_type": "code",
   "execution_count": null,
   "id": "95487509-e81f-46f2-a0a6-eace730fa027",
   "metadata": {
    "vscode": {
     "languageId": "r"
    }
   },
   "outputs": [],
   "source": [
    "options(repr.plot.width = 10, repr.plot.height = 5)\n",
    "print(p_endothelium)"
   ]
  },
  {
   "cell_type": "code",
   "execution_count": null,
   "id": "d197e6a7-5ca0-403c-8a57-849c5cf8757c",
   "metadata": {
    "vscode": {
     "languageId": "r"
    }
   },
   "outputs": [],
   "source": [
    "getwd()"
   ]
  },
  {
   "cell_type": "code",
   "execution_count": null,
   "id": "1b470b36-899f-4a5d-a933-6e4b4d417074",
   "metadata": {
    "vscode": {
     "languageId": "r"
    }
   },
   "outputs": [],
   "source": [
    "saveRDS(xobj, \"./atlas_endothelium_lineage.rds\")"
   ]
  },
  {
   "cell_type": "code",
   "execution_count": null,
   "id": "c0aaa699-4c8a-4c31-aaf7-a40b558cbf9f",
   "metadata": {
    "vscode": {
     "languageId": "r"
    }
   },
   "outputs": [],
   "source": [
    "saveRDS(lineages_xobj, './atlas_endothelium_slingshot_lin.rds')\n",
    "saveRDS(curves_xobj, './atlas_endothelium_slingshot_curves.rds')"
   ]
  },
  {
   "cell_type": "code",
   "execution_count": null,
   "id": "bd64d0c0-5477-4915-b04d-e5f19d994065",
   "metadata": {
    "vscode": {
     "languageId": "r"
    }
   },
   "outputs": [],
   "source": [
    "atlas_endothelium_xobj <- xobj\n",
    "lineages_atlas_endothelium <- lineages_xobj\n",
    "curves_atlas_endothelium <- curves_xobj"
   ]
  },
  {
   "cell_type": "code",
   "execution_count": null,
   "id": "0b16db82-37e4-4f31-8059-675d366919b6",
   "metadata": {
    "vscode": {
     "languageId": "r"
    }
   },
   "outputs": [],
   "source": [
    "atlas_endothelium_xobj"
   ]
  },
  {
   "cell_type": "code",
   "execution_count": null,
   "id": "2a5dc80f-9e41-4a80-b859-e996bb7040ec",
   "metadata": {
    "vscode": {
     "languageId": "r"
    }
   },
   "outputs": [],
   "source": [
    "lineages_atlas_endothelium"
   ]
  },
  {
   "cell_type": "code",
   "execution_count": null,
   "id": "3b1a9092-70d4-4874-baff-ed23b8c5decc",
   "metadata": {
    "vscode": {
     "languageId": "r"
    }
   },
   "outputs": [],
   "source": [
    "atlas_endothelium_xobj"
   ]
  },
  {
   "cell_type": "markdown",
   "id": "b2257e62-eb8f-46b2-969d-81ed5cfe0647",
   "metadata": {},
   "source": [
    "### EMP"
   ]
  },
  {
   "cell_type": "code",
   "execution_count": null,
   "id": "b5081ce7-7786-4d00-b1f5-53e957f2993a",
   "metadata": {
    "vscode": {
     "languageId": "r"
    }
   },
   "outputs": [],
   "source": []
  },
  {
   "cell_type": "code",
   "execution_count": null,
   "id": "bb301eaf-a475-4f4a-a557-6b1c1c13b933",
   "metadata": {
    "vscode": {
     "languageId": "r"
    }
   },
   "outputs": [],
   "source": [
    "atlas"
   ]
  },
  {
   "cell_type": "code",
   "execution_count": null,
   "id": "26d4ea03-8289-475c-af54-25c6e6153568",
   "metadata": {
    "scrolled": true,
    "vscode": {
     "languageId": "r"
    }
   },
   "outputs": [],
   "source": [
    "table(atlas$celltype_extended_atlas)"
   ]
  },
  {
   "cell_type": "code",
   "execution_count": null,
   "id": "0f55aa37-f30f-460d-9319-b73f681cee81",
   "metadata": {
    "vscode": {
     "languageId": "r"
    }
   },
   "outputs": [],
   "source": [
    "xobj <- subset(atlas, subset = celltype_extended_atlas %in% c('Epiblast','Primitive Streak','Nascent mesoderm',\n",
    "                                                              'Haematoendothelial progenitors', 'Venous endothelium','YS endothelium' ,'Embryo proper endothelium','EMP'\n",
    "                                                             ))"
   ]
  },
  {
   "cell_type": "code",
   "execution_count": null,
   "id": "93f369c4-e63f-44f0-8645-b1ef31036a82",
   "metadata": {
    "vscode": {
     "languageId": "r"
    }
   },
   "outputs": [],
   "source": [
    "xobj"
   ]
  },
  {
   "cell_type": "code",
   "execution_count": null,
   "id": "5c96d111-169f-459e-95ef-b34a5d4f2c13",
   "metadata": {
    "vscode": {
     "languageId": "r"
    }
   },
   "outputs": [],
   "source": [
    "table(xobj$celltype_extended_atlas)"
   ]
  },
  {
   "cell_type": "code",
   "execution_count": null,
   "id": "dee48c13-7b12-4ce7-91a4-bb7371c3263d",
   "metadata": {
    "vscode": {
     "languageId": "r"
    }
   },
   "outputs": [],
   "source": [
    "Idents(xobj) <- xobj$celltype_extended_atlas"
   ]
  },
  {
   "cell_type": "code",
   "execution_count": null,
   "id": "8d8b459d-b138-42cb-8dd0-4cad47a6d452",
   "metadata": {
    "vscode": {
     "languageId": "r"
    }
   },
   "outputs": [],
   "source": [
    "xobj <- subset(xobj, downsample = 2000)\n",
    "xobj"
   ]
  },
  {
   "cell_type": "code",
   "execution_count": null,
   "id": "76f92787-e6f0-4c7f-92d1-23df332b48a2",
   "metadata": {
    "vscode": {
     "languageId": "r"
    }
   },
   "outputs": [],
   "source": [
    "DimPlot(xobj, reduction = \"UMAP\")"
   ]
  },
  {
   "cell_type": "code",
   "execution_count": null,
   "id": "5db1da9f-4c9f-42e4-a827-906ad1a4440e",
   "metadata": {
    "scrolled": true,
    "vscode": {
     "languageId": "r"
    }
   },
   "outputs": [],
   "source": [
    "# New harmony Umap\n",
    "xobj <- RunUMAP(xobj, reduction = \"PCA\", dims = 1:75, n.components = 2L,\n",
    "                     n.neighbors = 10,reduction.name = \"xobj_umap0_int\")\n",
    "xobj <- RunUMAP(xobj, reduction = \"PCA\", dims = 1:75, n.components = 2L, local.connectivity = 1L,\n",
    "                  min.dist = 0.5, spread = 0.5,\n",
    "                     n.neighbors = 10,reduction.name = \"xobj_umap1_int\")\n",
    "xobj <- RunUMAP(xobj, reduction = \"PCA\", dims = 1:75, n.components = 2L, local.connectivity = 1L,\n",
    "                  min.dist = 0.4, spread = 0.5,\n",
    "                     n.neighbors = 10,reduction.name = \"xobj_umap2_int\")\n",
    "xobj <- RunUMAP(xobj, reduction = \"PCA\", dims = 1:75, n.components = 2L, local.connectivity = 1L,\n",
    "                  min.dist = 0.3, spread = 0.5,\n",
    "                     n.neighbors = 10,reduction.name = \"xobj_umap3_int\")"
   ]
  },
  {
   "cell_type": "code",
   "execution_count": null,
   "id": "47e48af2-413d-4ebe-bc93-0ef09f4ecc48",
   "metadata": {
    "vscode": {
     "languageId": "r"
    }
   },
   "outputs": [],
   "source": [
    "options(repr.plot.width = 8, repr.plot.height = 6)\n",
    "DimPlot(xobj, reduction = \"UMAP\", cols = r3dcol$cols_94, group.by = 'celltype_extended_atlas')\n",
    "DimPlot(xobj, reduction = \"xobj_umap0_int\", cols = r3dcol$cols_94, group.by = 'celltype_extended_atlas')\n",
    "DimPlot(xobj, reduction = \"xobj_umap1_int\", cols = r3dcol$cols_94, group.by = 'celltype_extended_atlas')\n",
    "DimPlot(xobj, reduction = \"xobj_umap2_int\", cols = r3dcol$cols_94, group.by = 'celltype_extended_atlas')\n",
    "DimPlot(xobj, reduction = \"xobj_umap3_int\", cols = r3dcol$cols_94, group.by = 'celltype_extended_atlas')"
   ]
  },
  {
   "cell_type": "code",
   "execution_count": null,
   "id": "f5d54cc5-83da-47a6-ac35-74719ceece9c",
   "metadata": {
    "vscode": {
     "languageId": "r"
    }
   },
   "outputs": [],
   "source": [
    "options(repr.plot.width = 6, repr.plot.height = 6)\n",
    "DimPlot(xobj, reduction = \"xobj_umap1_int\", cols = r3dcol$cols_94, group.by = 'celltype_extended_atlas', label = TRUE)+NoLegend()"
   ]
  },
  {
   "cell_type": "code",
   "execution_count": null,
   "id": "ff181d55-e6d9-45f8-9803-75781ee387f9",
   "metadata": {
    "vscode": {
     "languageId": "r"
    }
   },
   "outputs": [],
   "source": [
    "set.seed(1)\n",
    "lineages_xobj <- as.SlingshotDataSet(getLineages(\n",
    "  data           = xobj@reductions$xobj_umap1_int@cell.embeddings,\n",
    "  clusterLabels  = xobj$celltype_extended_atlas,\n",
    "  dist.method    = \"mnn\", # It can be: \"simple\", \"scaled.full\", \"scaled.diag\", \"slingshot\" or \"mnn\"\n",
    "  end.clus       = c('EMP'),\n",
    "  start.clus     = \"Epiblast\"# define where to START the trajectories\n",
    ")) "
   ]
  },
  {
   "cell_type": "code",
   "execution_count": null,
   "id": "f756a71c-05fc-4434-ad8b-2d4feb0673f0",
   "metadata": {
    "vscode": {
     "languageId": "r"
    }
   },
   "outputs": [],
   "source": [
    "# Define curves\n",
    "curves_xobj <- as.SlingshotDataSet(getCurves(data = lineages_xobj,approx_points = 1000, thresh = 1))"
   ]
  },
  {
   "cell_type": "code",
   "execution_count": null,
   "id": "3b759f92-f0fe-4d60-8849-3ebc6defe6f7",
   "metadata": {
    "vscode": {
     "languageId": "r"
    }
   },
   "outputs": [],
   "source": [
    "options(repr.plot.width = 10, repr.plot.height = 10)\n",
    "p_curves <-plot_umap_with_curves(seurat_obj = xobj,\n",
    "  reduction = \"xobj_umap1_int\",\n",
    "  cluster_col = \"celltype_extended_atlas\",\n",
    "  color_vector = rep(r3dcol$cols_46,2),\n",
    "  curves = curves_xobj,        # or 'curves' object from Slingshot\n",
    "  label_cex = 1,\n",
    "  point_pch = 16,\n",
    "  point_cex = 1,\n",
    "  line_lwd = 2\n",
    ")\n",
    "p_curves"
   ]
  },
  {
   "cell_type": "code",
   "execution_count": null,
   "id": "3e4f905a-bf3e-4e19-b818-dc78b2e2cde2",
   "metadata": {
    "vscode": {
     "languageId": "r"
    }
   },
   "outputs": [],
   "source": [
    "curves_xobj"
   ]
  },
  {
   "cell_type": "code",
   "execution_count": null,
   "id": "a404a5c2-11b0-43be-b754-ce80b9fce775",
   "metadata": {
    "vscode": {
     "languageId": "r"
    }
   },
   "outputs": [],
   "source": [
    "options(repr.plot.width = 5, repr.plot.height = 5)\n",
    "p_pseudo <- plot_umap_pseudotime_and_centroids(\n",
    "  seurat_obj = xobj,\n",
    "  curves = curves_xobj,\n",
    "  embedding = \"xobj_umap1_int\",\n",
    " cluster_col = \"celltype_extended_atlas\",\n",
    "  color_vector = r3dcol$cols_94,   # Or your own color palette\n",
    "  point_cex = 0.4,\n",
    "  label_cex = 1,\n",
    "  legend_title = \"Pseudotime\",\n",
    "  legend_mar = 2\n",
    ")\n",
    "p_pseudo"
   ]
  },
  {
   "cell_type": "code",
   "execution_count": null,
   "id": "7ce3d6b3-e082-4b0c-9cbb-511c5cbe7942",
   "metadata": {
    "scrolled": true,
    "vscode": {
     "languageId": "r"
    }
   },
   "outputs": [],
   "source": [
    "p_emp   <- plot_gene_pseudotime(\n",
    "   seurat_obj = xobj,\n",
    "   curves_obj = curves_xobj,\n",
    "   gene_name = \"Atf3\",\n",
    "   lineage_name = \"Lineage1\",\n",
    "   min_cells = 100,\n",
    "   n_bins = 200,\n",
    "   color_palette = r3dcol$cols_94,\n",
    "   cell_type_column = \"celltype_extended_atlas\"\n",
    ")"
   ]
  },
  {
   "cell_type": "code",
   "execution_count": null,
   "id": "14ce221b-4982-4a16-9ea3-aa2aa566b354",
   "metadata": {
    "vscode": {
     "languageId": "r"
    }
   },
   "outputs": [],
   "source": [
    "options(repr.plot.width = 10, repr.plot.height = 5)\n",
    "print(p_emp)"
   ]
  },
  {
   "cell_type": "code",
   "execution_count": null,
   "id": "29f89daf-3322-48a3-b1a6-b931bf8d9ef7",
   "metadata": {
    "vscode": {
     "languageId": "r"
    }
   },
   "outputs": [],
   "source": [
    "getwd()"
   ]
  },
  {
   "cell_type": "code",
   "execution_count": null,
   "id": "679db9f6-4bfc-422f-aa49-0e09d094eb1c",
   "metadata": {
    "vscode": {
     "languageId": "r"
    }
   },
   "outputs": [],
   "source": [
    "saveRDS(xobj, \"./atlas_emp_lineage.rds\")"
   ]
  },
  {
   "cell_type": "code",
   "execution_count": null,
   "id": "c344d528-1747-4c4d-aaa5-cf7437c5e3b1",
   "metadata": {
    "vscode": {
     "languageId": "r"
    }
   },
   "outputs": [],
   "source": [
    "saveRDS(lineages_xobj, './atlas_emp_slingshot_lin.rds')\n",
    "saveRDS(curves_xobj, './atlas_emp_slingshot_curves.rds')"
   ]
  },
  {
   "cell_type": "code",
   "execution_count": null,
   "id": "fc546c71-e26e-4a50-bfd9-7a0f7b9369bb",
   "metadata": {
    "vscode": {
     "languageId": "r"
    }
   },
   "outputs": [],
   "source": [
    "atlas_emp_xobj <- xobj\n",
    "lineages_atlas_emp <- lineages_xobj\n",
    "curves_atlas_emp <- curves_xobj"
   ]
  },
  {
   "cell_type": "code",
   "execution_count": null,
   "id": "be7c92b7-5c9e-4a97-8730-a6b6b66fdd45",
   "metadata": {
    "vscode": {
     "languageId": "r"
    }
   },
   "outputs": [],
   "source": [
    "atlas_endothelium_xobj"
   ]
  },
  {
   "cell_type": "code",
   "execution_count": null,
   "id": "b5361894-a1c6-40f5-9e95-1c9eaf23134a",
   "metadata": {
    "vscode": {
     "languageId": "r"
    }
   },
   "outputs": [],
   "source": [
    "lineages_atlas_endothelium"
   ]
  },
  {
   "cell_type": "code",
   "execution_count": null,
   "id": "426d25ce-a075-4a07-96d3-68b1b6489b2a",
   "metadata": {
    "vscode": {
     "languageId": "r"
    }
   },
   "outputs": [],
   "source": [
    "atlas_endothelium_xobj"
   ]
  },
  {
   "cell_type": "code",
   "execution_count": null,
   "id": "e6234445-af56-46b7-bbe4-9125bf1217c5",
   "metadata": {
    "vscode": {
     "languageId": "r"
    }
   },
   "outputs": [],
   "source": []
  },
  {
   "cell_type": "code",
   "execution_count": null,
   "id": "b046b260-5581-414a-a7cd-4b66e5350b48",
   "metadata": {
    "vscode": {
     "languageId": "r"
    }
   },
   "outputs": [],
   "source": []
  },
  {
   "cell_type": "code",
   "execution_count": null,
   "id": "2a9a6808-faf0-497c-8bb0-f1fe45018388",
   "metadata": {
    "vscode": {
     "languageId": "r"
    }
   },
   "outputs": [],
   "source": []
  },
  {
   "cell_type": "code",
   "execution_count": null,
   "id": "586e12ee-1acb-4240-8885-9d4a0962984e",
   "metadata": {
    "vscode": {
     "languageId": "r"
    }
   },
   "outputs": [],
   "source": []
  },
  {
   "cell_type": "code",
   "execution_count": null,
   "id": "68507be2-48d2-41e8-addf-2859be8037a1",
   "metadata": {
    "vscode": {
     "languageId": "r"
    }
   },
   "outputs": [],
   "source": []
  },
  {
   "cell_type": "code",
   "execution_count": null,
   "id": "9a00ce2e-977b-4fdc-8a48-c8da9ecb7fb2",
   "metadata": {
    "vscode": {
     "languageId": "r"
    }
   },
   "outputs": [],
   "source": []
  },
  {
   "cell_type": "markdown",
   "id": "ee057291-fa63-41f4-aea9-193d0ab96d89",
   "metadata": {},
   "source": [
    "# plotting code"
   ]
  },
  {
   "cell_type": "code",
   "execution_count": null,
   "id": "a588aa04-0158-4c42-a5ca-33db5f22acab",
   "metadata": {
    "vscode": {
     "languageId": "r"
    }
   },
   "outputs": [],
   "source": [
    "library(ggplot2)\n",
    "library(slingshot)\n",
    "library(Seurat)\n",
    "library(mgcv)\n",
    "library(dplyr)\n",
    "\n",
    "#' Utility function to extract lineage endpoint from curves object\n",
    "#'\n",
    "#' @param curves_obj Slingshot curves object\n",
    "#' @param lineage_name Character. Name of the lineage\n",
    "#' @param seurat_obj Seurat object for cell type information\n",
    "#' @param cell_type_column Character. Column name for cell types\n",
    "#'\n",
    "get_lineage_endpoint <- function(curves_obj, lineage_name, seurat_obj, cell_type_column) {\n",
    "  tryCatch({\n",
    "    # Method 1: Try to get endpoint from slingshot lineages\n",
    "    if (exists(\"slingLineages\", where = \"package:slingshot\")) {\n",
    "      lineages <- slingLineages(curves_obj)\n",
    "      if (lineage_name %in% names(lineages)) {\n",
    "        lineage_clusters <- lineages[[lineage_name]]\n",
    "        endpoint_cluster <- lineage_clusters[length(lineage_clusters)]\n",
    "        return(paste(\"Cluster\", endpoint_cluster))\n",
    "      }\n",
    "    }\n",
    "    \n",
    "    # Method 2: Find endpoint based on maximum pseudotime\n",
    "    pseudotime_data <- slingPseudotime(curves_obj)[, lineage_name]\n",
    "    \n",
    "    # Get cells at the end of pseudotime (top 5% of pseudotime values)\n",
    "    max_pseudotime <- max(pseudotime_data, na.rm = TRUE)\n",
    "    high_pseudotime_threshold <- max_pseudotime * 0.95\n",
    "    \n",
    "    endpoint_cells <- names(pseudotime_data)[pseudotime_data >= high_pseudotime_threshold & !is.na(pseudotime_data)]\n",
    "    \n",
    "    if (length(endpoint_cells) > 0) {\n",
    "      # Get cell types of endpoint cells\n",
    "      endpoint_cell_types <- seurat_obj@meta.data[endpoint_cells, cell_type_column]\n",
    "      \n",
    "      # Find most common cell type at endpoint\n",
    "      cell_type_counts <- table(endpoint_cell_types)\n",
    "      most_common_endpoint <- names(cell_type_counts)[which.max(cell_type_counts)]\n",
    "      \n",
    "      return(most_common_endpoint)\n",
    "    }\n",
    "    \n",
    "    return(NULL)\n",
    "    \n",
    "  }, error = function(e) {\n",
    "    message(\"Could not automatically determine lineage endpoint: \", e$message)\n",
    "    return(NULL)\n",
    "  })\n",
    "}\n",
    "#'\n",
    "#' @param seurat_obj Seurat object\n",
    "#' @param curves_obj Slingshot curves object\n",
    "#' @param cell_type_column Character. Column name for cell types\n",
    "#'\n",
    "check_pseudotime_data <- function(seurat_obj, curves_obj, cell_type_column = \"seurat_clusters\") {\n",
    "  \n",
    "  cat(\"=== PSEUDOTIME DATA DIAGNOSTIC ===\\n\")\n",
    "  \n",
    "  # Check available lineages\n",
    "  lineages <- colnames(slingPseudotime(curves_obj))\n",
    "  cat(\"Available lineages:\", paste(lineages, collapse = \", \"), \"\\n\")\n",
    "  \n",
    "  # Check pseudotime data for each lineage\n",
    "  pseudotime_matrix <- slingPseudotime(curves_obj, na = FALSE)\n",
    "  \n",
    "  for (lineage in lineages) {\n",
    "    pseudotime_values <- pseudotime_matrix[, lineage]\n",
    "    n_total <- length(pseudotime_values)\n",
    "    n_finite <- sum(is.finite(pseudotime_values))\n",
    "    n_na <- sum(is.na(pseudotime_values))\n",
    "    \n",
    "    cat(\"\\n\", lineage, \":\\n\")\n",
    "    cat(\"  Total cells:\", n_total, \"\\n\")\n",
    "    cat(\"  Finite values:\", n_finite, \"\\n\")\n",
    "    cat(\"  NA values:\", n_na, \"\\n\")\n",
    "    \n",
    "    if (n_finite > 0) {\n",
    "      cat(\"  Range:\", round(range(pseudotime_values, na.rm = TRUE), 3), \"\\n\")\n",
    "    }\n",
    "  }\n",
    "  \n",
    "  # Check cell name overlap\n",
    "  curve_cells <- rownames(pseudotime_matrix)\n",
    "  seurat_cells <- colnames(seurat_obj)\n",
    "  overlap <- intersect(curve_cells, seurat_cells)\n",
    "  \n",
    "  cat(\"\\n=== CELL NAME OVERLAP ===\\n\")\n",
    "  cat(\"Cells in curves object:\", length(curve_cells), \"\\n\")\n",
    "  cat(\"Cells in Seurat object:\", length(seurat_cells), \"\\n\")\n",
    "  cat(\"Overlapping cells:\", length(overlap), \"\\n\")\n",
    "  \n",
    "  if (length(overlap) == 0) {\n",
    "    cat(\"WARNING: No overlapping cell names found!\\n\")\n",
    "    cat(\"First 5 curve cell names:\", head(curve_cells, 5), \"\\n\")\n",
    "    cat(\"First 5 Seurat cell names:\", head(seurat_cells, 5), \"\\n\")\n",
    "  }\n",
    "  \n",
    "  return(invisible(NULL))\n",
    "}\n",
    "\n",
    "#' Plot Gene Expression Along Pseudotime with Cell Type Coloring\n",
    "#'\n",
    "#' This function creates a trend plot showing gene expression along a specific lineage\n",
    "#' pseudotime trajectory, with the trend line colored by dominant cell types in each region.\n",
    "#'\n",
    "#' @param seurat_obj Seurat object containing gene expression data\n",
    "#' @param curves_obj Slingshot curves object containing pseudotime information\n",
    "#' @param gene_name Character. Name of the gene to plot (must match gene names in Seurat object)\n",
    "#' @param lineage_name Character. Name of the lineage to plot (e.g., \"Lineage1\", \"Lineage2\")\n",
    "#' @param min_cells Numeric. Minimum number of cells required for a cell type to be considered major (default: 50)\n",
    "#' @param n_bins Numeric. Number of bins to divide pseudotime axis for determining dominant cell types (default: 50)\n",
    "#' @param color_palette Character vector. Colors to use for major cell types. If NULL, uses rainbow colors (default: NULL)\n",
    "#' @param cell_type_column Character. Column name in Seurat object metadata containing cell type information (default: \"seurat_clusters\")\n",
    "#' @param expression_slot Character. Which slot to use for gene expression (\"data\", \"counts\", or \"scale.data\") (default: \"data\")\n",
    "#' @param ylim Numeric vector of length 2. Y-axis limits c(min, max). If NULL, uses automatic limits (default: NULL)\n",
    "#' @param lineage_destination Character. Optional destination/endpoint name for the lineage (e.g., \"Erythroid\", \"Neural\"). If NULL, function will attempt to automatically determine from curves object. Set to FALSE to disable endpoint detection (default: NULL)\n",
    "#' @param save_plot Logical. Whether to save the plot (default: FALSE)\n",
    "#' @param filename Character. Filename for saving plot (default: NULL)\n",
    "#' @param plot_width Numeric. Width for saved plot (default: 10)\n",
    "#' @param plot_height Numeric. Height for saved plot (default: 6)\n",
    "#'\n",
    "#' @return ggplot object\n",
    "#'\n",
    "plot_gene_pseudotime <- function(seurat_obj,\n",
    "                                curves_obj,\n",
    "                                gene_name,\n",
    "                                lineage_name,\n",
    "                                min_cells = 50,\n",
    "                                n_bins = 50,\n",
    "                                color_palette = NULL,\n",
    "                                cell_type_column = \"seurat_clusters\",\n",
    "                                expression_slot = \"data\",\n",
    "                                ylim = NULL,\n",
    "                                lineage_destination = NULL,\n",
    "                                save_plot = FALSE,\n",
    "                                filename = NULL,\n",
    "                                plot_width = 10,\n",
    "                                plot_height = 6) {\n",
    "  \n",
    "  # Input validation\n",
    "  message(\"=== STARTING INPUT VALIDATION ===\")\n",
    "  \n",
    "  if (!gene_name %in% rownames(seurat_obj)) {\n",
    "    stop(paste(\"Gene\", gene_name, \"not found in Seurat object\"))\n",
    "  }\n",
    "  message(\"✓ Gene found in Seurat object\")\n",
    "  \n",
    "  if (!lineage_name %in% colnames(slingPseudotime(curves_obj))) {\n",
    "    available_lineages <- colnames(slingPseudotime(curves_obj))\n",
    "    stop(paste(\"Lineage\", lineage_name, \"not found. Available lineages:\", paste(available_lineages, collapse = \", \")))\n",
    "  }\n",
    "  message(\"✓ Lineage found in curves object\")\n",
    "  \n",
    "  if (!cell_type_column %in% colnames(seurat_obj@meta.data)) {\n",
    "    stop(paste(\"Cell type column\", cell_type_column, \"not found in Seurat object metadata\"))\n",
    "  }\n",
    "  message(\"✓ Cell type column found in metadata\")\n",
    "  \n",
    "  message(\"=== EXTRACTING DATA ===\")\n",
    "  \n",
    "  # Extract pseudotime for specified lineage\n",
    "  pseudotime_matrix <- slingPseudotime(curves_obj)\n",
    "  pseudotime_data <- pseudotime_matrix[, lineage_name]\n",
    "  \n",
    "  message(paste(\"Extracted pseudotime for\", lineage_name, \"- length:\", length(pseudotime_data)))\n",
    "  message(paste(\"Number of NA values:\", sum(is.na(pseudotime_data))))\n",
    "  message(paste(\"Number of finite values:\", sum(is.finite(pseudotime_data))))\n",
    "  if(sum(is.finite(pseudotime_data)) > 0) {\n",
    "    message(paste(\"Pseudotime range:\", paste(range(pseudotime_data, na.rm = TRUE), collapse = \" to \")))\n",
    "  }\n",
    "  \n",
    "  # Get gene expression\n",
    "  gene_expression <- GetAssayData(seurat_obj, slot = expression_slot)[gene_name, ]\n",
    "  message(paste(\"Extracted expression for\", gene_name, \"- length:\", length(gene_expression)))\n",
    "  \n",
    "  # Get cell type information\n",
    "  cell_types <- seurat_obj@meta.data[names(pseudotime_data), cell_type_column]\n",
    "  message(paste(\"Extracted cell types - length:\", length(cell_types)))\n",
    "  message(paste(\"Number of NA cell types:\", sum(is.na(cell_types))))\n",
    "  message(paste(\"First few cell types:\", paste(head(cell_types, na.rm = TRUE), collapse = \", \")))\n",
    "  \n",
    "  # Create data frame\n",
    "  plot_data <- data.frame(\n",
    "    pseudotime = pseudotime_data,\n",
    "    expression = gene_expression[names(pseudotime_data)],\n",
    "    cell_type = cell_types\n",
    "  )\n",
    "  \n",
    "  message(paste(\"Created plot_data with\", nrow(plot_data), \"rows\"))\n",
    "  message(paste(\"Complete cases before filtering:\", sum(complete.cases(plot_data))))\n",
    "  \n",
    "  # Remove NA values\n",
    "  plot_data <- plot_data[complete.cases(plot_data), ]\n",
    "  \n",
    "  message(paste(\"Complete cases after filtering:\", nrow(plot_data)))\n",
    "  \n",
    "  # Check if we have any valid data after removing NAs\n",
    "  if (nrow(plot_data) == 0) {\n",
    "    message(\"=== DEBUGGING INFO ===\")\n",
    "    message(\"Original pseudotime_data length:\", length(pseudotime_data))\n",
    "    message(\"Original gene_expression length:\", length(gene_expression))\n",
    "    message(\"Original cell_types length:\", length(cell_types))\n",
    "    message(\"Names match between pseudotime and expression:\", \n",
    "            identical(names(pseudotime_data), names(gene_expression[names(pseudotime_data)])))\n",
    "    message(\"Sample of pseudotime names:\", paste(head(names(pseudotime_data)), collapse = \", \"))\n",
    "    message(\"Sample of expression names:\", paste(head(names(gene_expression)), collapse = \", \"))\n",
    "    stop(paste(\"No valid data found for\", lineage_name, \". Check if the lineage exists and has valid pseudotime values.\"))\n",
    "  }\n",
    "  \n",
    "  # Check if pseudotime values are finite\n",
    "  if (!all(is.finite(plot_data$pseudotime))) {\n",
    "    stop(\"Non-finite pseudotime values found. Please check your slingshot curves object.\")\n",
    "  }\n",
    "  \n",
    "  message(paste(\"Found\", nrow(plot_data), \"cells with valid pseudotime and expression data for\", lineage_name))\n",
    "  \n",
    "  # Count cells per cell type and identify small cell types\n",
    "  cell_type_counts <- table(plot_data$cell_type)\n",
    "  small_cell_types <- names(cell_type_counts[cell_type_counts < min_cells])\n",
    "  \n",
    "  message(paste(\"Cell type counts:\"))\n",
    "  print(cell_type_counts)\n",
    "  message(paste(\"Small cell types (< \", min_cells, \" cells):\", paste(small_cell_types, collapse = \", \")))\n",
    "  \n",
    "  # Group small cell types\n",
    "  plot_data$cell_type_plot <- as.character(plot_data$cell_type)\n",
    "  plot_data$cell_type_plot[plot_data$cell_type %in% small_cell_types] <- paste0(\"Other (< \", min_cells, \" cells)\")\n",
    "  \n",
    "  # Order cell types by median pseudotime\n",
    "  cell_type_order <- plot_data %>%\n",
    "    group_by(cell_type_plot) %>%\n",
    "    summarise(median_pseudotime = median(pseudotime, na.rm = TRUE), .groups = 'drop') %>%\n",
    "    arrange(median_pseudotime) %>%\n",
    "    pull(cell_type_plot)\n",
    "  \n",
    "  plot_data$cell_type_plot <- factor(plot_data$cell_type_plot, levels = cell_type_order)\n",
    "  \n",
    "  # Create pseudotime bins\n",
    "  pseudotime_range <- range(plot_data$pseudotime, na.rm = TRUE)\n",
    "  bin_breaks <- seq(pseudotime_range[1], pseudotime_range[2], length.out = n_bins + 1)\n",
    "  plot_data$pseudotime_bin <- cut(plot_data$pseudotime, breaks = bin_breaks, include.lowest = TRUE)\n",
    "  \n",
    "  # Find dominant cell type in each bin (excluding small cell types)\n",
    "  dominant_celltype <- plot_data %>%\n",
    "    filter(cell_type_plot != paste0(\"Other (< \", min_cells, \" cells)\")) %>%\n",
    "    group_by(pseudotime_bin) %>%\n",
    "    count(cell_type_plot) %>%\n",
    "    slice_max(n, n = 1, with_ties = FALSE) %>%\n",
    "    ungroup() %>%\n",
    "    select(pseudotime_bin, dominant_type = cell_type_plot)\n",
    "  \n",
    "  # Create bin centers\n",
    "  bin_centers <- (bin_breaks[-1] + bin_breaks[-length(bin_breaks)]) / 2\n",
    "  dominant_celltype$pseudotime_center <- bin_centers[as.numeric(dominant_celltype$pseudotime_bin)]\n",
    "  \n",
    "  # Fit GAM model for smooth predictions\n",
    "  gam_model <- gam(expression ~ s(pseudotime, bs = \"cs\"), data = plot_data)\n",
    "  smooth_data <- data.frame(pseudotime = bin_centers)\n",
    "  smooth_data$expression <- predict(gam_model, newdata = smooth_data)\n",
    "  \n",
    "  # Merge with dominant cell types\n",
    "  smooth_data <- merge(smooth_data, \n",
    "                       dominant_celltype[, c(\"pseudotime_center\", \"dominant_type\")], \n",
    "                       by.x = \"pseudotime\", by.y = \"pseudotime_center\", all.x = TRUE)\n",
    "  \n",
    "  # Create segment groups to break lines\n",
    "  smooth_data <- smooth_data[order(smooth_data$pseudotime), ]\n",
    "  smooth_data$segment_group <- cumsum(c(TRUE, smooth_data$dominant_type[-1] != smooth_data$dominant_type[-nrow(smooth_data)] | \n",
    "                                       is.na(smooth_data$dominant_type[-1]) | is.na(smooth_data$dominant_type[-nrow(smooth_data)])))\n",
    "  \n",
    "  # Remove rows with NA dominant_type\n",
    "  smooth_data <- smooth_data[!is.na(smooth_data$dominant_type), ]\n",
    "  \n",
    "  # Set up colors\n",
    "  major_cell_types <- levels(plot_data$cell_type_plot)[levels(plot_data$cell_type_plot) != paste0(\"Other (< \", min_cells, \" cells)\")]\n",
    "  \n",
    "  if (is.null(color_palette)) {\n",
    "    colors <- rainbow(length(major_cell_types))\n",
    "  } else {\n",
    "    if (length(color_palette) < length(major_cell_types)) {\n",
    "      warning(\"Not enough colors in palette. Recycling colors.\")\n",
    "      colors <- rep(color_palette, length.out = length(major_cell_types))\n",
    "    } else {\n",
    "      colors <- color_palette[1:length(major_cell_types)]\n",
    "    }\n",
    "  }\n",
    "  names(colors) <- major_cell_types\n",
    "  \n",
    "  message(\"=== DETERMINING LINEAGE ENDPOINT ===\")\n",
    "  \n",
    "  # Determine lineage endpoint\n",
    "  endpoint_name <- NULL\n",
    "  if (is.null(lineage_destination)) {\n",
    "    # Try to automatically determine endpoint\n",
    "    endpoint_name <- get_lineage_endpoint(curves_obj, lineage_name, seurat_obj, cell_type_column)\n",
    "    if (!is.null(endpoint_name)) {\n",
    "      message(paste(\"✓ Automatically detected endpoint:\", endpoint_name))\n",
    "    } else {\n",
    "      message(\"✗ Could not automatically determine endpoint\")\n",
    "    }\n",
    "  } else if (lineage_destination != FALSE) {\n",
    "    # Use provided endpoint\n",
    "    endpoint_name <- lineage_destination\n",
    "    message(paste(\"✓ Using provided endpoint:\", endpoint_name))\n",
    "  } else {\n",
    "    # Explicitly disabled endpoint detection\n",
    "    message(\"✓ Endpoint detection disabled\")\n",
    "  }\n",
    "  \n",
    "  # Create plot title with optional destination\n",
    "  plot_title <- paste(gene_name, \"Expression Trend Along\", lineage_name)\n",
    "  if (!is.null(endpoint_name)) {\n",
    "    plot_title <- paste(gene_name, \"Expression Trend Along\", lineage_name, \"-\", endpoint_name)\n",
    "  }\n",
    "  \n",
    "  # Create plot\n",
    "  p <- ggplot() +\n",
    "    # Add confidence interval\n",
    "    geom_smooth(data = plot_data, aes(x = pseudotime, y = expression),\n",
    "                method = \"gam\", formula = y ~ s(x, bs = \"cs\"), \n",
    "                se = TRUE, color = NA, fill = \"darkgrey\", alpha = 0.5) +\n",
    "    # Add colored line segments\n",
    "    geom_path(data = smooth_data, aes(x = pseudotime, y = expression, \n",
    "                                      color = dominant_type, group = segment_group), \n",
    "              linewidth = 2) +\n",
    "    scale_color_manual(values = colors, name = \"Dominant Cell Type\") +\n",
    "    labs(\n",
    "      title = plot_title,\n",
    "      x = \"Pseudotime\",\n",
    "      y = paste(gene_name, \"Expression\"),\n",
    "      subtitle = paste0(\"Line colored by dominant cell type in each pseudotime region (n = \", \n",
    "                       nrow(plot_data), \" cells, min_cells = \", min_cells, \", bins = \", n_bins, \")\")\n",
    "    ) +\n",
    "    theme_classic() +\n",
    "    theme(\n",
    "      plot.title = element_text(size = 14, hjust = 0.5, face = \"bold\"),\n",
    "      plot.subtitle = element_text(size = 11, hjust = 0.5),\n",
    "      axis.title = element_text(size = 12),\n",
    "      axis.text = element_text(size = 10),\n",
    "      legend.title = element_text(size = 11),\n",
    "      legend.text = element_text(size = 9),\n",
    "      panel.grid.major.y = element_line(color = \"grey90\", linewidth = 0.5)\n",
    "    ) +\n",
    "    guides(color = guide_legend(override.aes = list(linewidth = 3)))\n",
    "  \n",
    "  # Add custom y-axis limits if provided\n",
    "  if (!is.null(ylim)) {\n",
    "    if (length(ylim) != 2 || !is.numeric(ylim)) {\n",
    "      warning(\"ylim should be a numeric vector of length 2. Using automatic limits.\")\n",
    "    } else {\n",
    "      p <- p + coord_cartesian(ylim = ylim)\n",
    "    }\n",
    "  }\n",
    "  \n",
    "  # Save plot if requested\n",
    "  if (save_plot) {\n",
    "    if (is.null(filename)) {\n",
    "      filename <- paste0(gene_name, \"_\", lineage_name, \"_pseudotime_trend.pdf\")\n",
    "    }\n",
    "    ggsave(filename, plot = p, width = plot_width, height = plot_height)\n",
    "    message(paste(\"Plot saved as:\", filename))\n",
    "  }\n",
    "  \n",
    "  return(p)\n",
    "}\n",
    "\n",
    "#' # Complete usage example with all parameters\n",
    "#' p <- plot_gene_pseudotime(\n",
    "#'   seurat_obj = df,                                    # Your Seurat object\n",
    "#'   curves_obj = curves_df_old_umap,                   # Your slingshot curves object\n",
    "#'   gene_name = \"Atf3\",                                # Gene to plot\n",
    "#'   lineage_name = \"Lineage2\",                         # Which lineage trajectory\n",
    "#'   min_cells = 100,                                   # Minimum cells for major cell types\n",
    "#'   n_bins = 30,                                       # Number of pseudotime bins\n",
    "#'   color_palette = r3dcol$cols_94,                    # Custom color palette\n",
    "#'   cell_type_column = \"celltype_PijuanSala2019\",      # Cell type annotation column\n",
    "#'   expression_slot = \"data\",                          # Expression data slot\n",
    "#'   ylim = c(0, 4),                                    # Y-axis limits\n",
    "#'   lineage_destination = \"Neural Crest\",              # Override auto-detected endpoint\n",
    "#'   save_plot = TRUE,                                  # Save the plot\n",
    "#'   filename = \"Atf3_Lineage2_neural_crest.pdf\",      # Custom filename\n",
    "#'   plot_width = 12,                                   # Plot width in inches\n",
    "#'   plot_height = 8                                    # Plot height in inches\n",
    "#' )\n",
    "#' \n",
    "#' # Minimal usage (uses all defaults)\n",
    "#' p_minimal <- plot_gene_pseudotime(df, curves_df_old_umap, \"Atf3\", \"Lineage1\")"
   ]
  },
  {
   "cell_type": "code",
   "execution_count": null,
   "id": "62111c34-5172-49b2-ae1a-fec92575a48f",
   "metadata": {
    "vscode": {
     "languageId": "r"
    }
   },
   "outputs": [],
   "source": [
    "xobj$seurat_clusters <- xobj$celltype_extended_atlas"
   ]
  },
  {
   "cell_type": "code",
   "execution_count": null,
   "id": "469f8fd9-f82d-44f2-a649-5cdaa93041ea",
   "metadata": {
    "scrolled": true,
    "vscode": {
     "languageId": "r"
    }
   },
   "outputs": [],
   "source": [
    "p <- plot_gene_pseudotime(\n",
    "  # === REQUIRED PARAMETERS ===\n",
    "  seurat_obj = xobj,                                    # Your Seurat object\n",
    "  curves_obj = curves_xobj,                   # Your slingshot curves object  \n",
    "  gene_name = \"Atf3\",                                # Gene to plot\n",
    "  lineage_name = \"Lineage1\",                         # Which lineage trajectory\n",
    "  \n",
    "  # === ANALYSIS PARAMETERS ===\n",
    "  min_cells = 100,                                   # Minimum cells for major cell types\n",
    "  n_bins = 200,                                       # Number of pseudotime bins\n",
    "  cell_type_column = \"celltype_extended_atlas\",      # Cell type annotation column\n",
    "  expression_slot = \"data\",                          # Expression data slot (\"data\", \"counts\", \"scale.data\")\n",
    "  \n",
    "  # === VISUALIZATION PARAMETERS ===\n",
    "  color_palette = r3dcol$cols_94,                    # Custom color palette\n",
    " # ylim = c(0, 4),                                    # Y-axis limits [min, max]\n",
    " # lineage_destination = \"Neural Crest\",              # Override auto-detected endpoint\n",
    "  \n",
    "  # === OUTPUT PARAMETERS ===\n",
    "  save_plot = FALSE,                                  # Save the plot automatically\n",
    "  filename = \"Atf3_Lineage2_neural_crest.pdf\",      # Custom filename  \n",
    "  plot_width = 12,                                   # Plot width in inches\n",
    "  plot_height = 8                                    # Plot height in inches\n",
    ")"
   ]
  },
  {
   "cell_type": "code",
   "execution_count": null,
   "id": "e4dfb78b-fbaa-42dc-8e01-1b8554c4ebca",
   "metadata": {
    "scrolled": true,
    "vscode": {
     "languageId": "r"
    }
   },
   "outputs": [],
   "source": [
    "options(repr.plot.width = 10, repr.plot.height = 5)\n",
    "print(p)"
   ]
  },
  {
   "cell_type": "markdown",
   "id": "cfa2ec86-ec5d-4e45-a4af-2ae3cb05cf4a",
   "metadata": {},
   "source": [
    "## v30"
   ]
  },
  {
   "cell_type": "code",
   "execution_count": null,
   "id": "a81f574d-1eed-447d-8e18-4c17673d3a4a",
   "metadata": {
    "vscode": {
     "languageId": "r"
    }
   },
   "outputs": [],
   "source": [
    "library(ggplot2)\n",
    "library(slingshot)\n",
    "library(Seurat)\n",
    "library(mgcv)\n",
    "library(dplyr)\n",
    "\n",
    "#' Utility function to extract lineage endpoint from curves object\n",
    "#'\n",
    "#' @param curves_obj Slingshot curves object\n",
    "#' @param lineage_name Character. Name of the lineage\n",
    "#' @param seurat_obj Seurat object for cell type information\n",
    "#' @param cell_type_column Character. Column name for cell types\n",
    "#'\n",
    "get_lineage_endpoint <- function(curves_obj, lineage_name, seurat_obj, cell_type_column) {\n",
    "  tryCatch({\n",
    "    # Method 1: Try to get endpoint from slingshot lineages\n",
    "    if (exists(\"slingLineages\", where = \"package:slingshot\")) {\n",
    "      lineages <- slingLineages(curves_obj)\n",
    "      if (lineage_name %in% names(lineages)) {\n",
    "        lineage_clusters <- lineages[[lineage_name]]\n",
    "        endpoint_cluster <- lineage_clusters[length(lineage_clusters)]\n",
    "        return(paste(\"Cluster\", endpoint_cluster))\n",
    "      }\n",
    "    }\n",
    "    \n",
    "    # Method 2: Find endpoint based on maximum pseudotime\n",
    "    pseudotime_data <- slingPseudotime(curves_obj)[, lineage_name]\n",
    "    \n",
    "    # Get cells at the end of pseudotime (top 5% of pseudotime values)\n",
    "    max_pseudotime <- max(pseudotime_data, na.rm = TRUE)\n",
    "    high_pseudotime_threshold <- max_pseudotime * 0.95\n",
    "    \n",
    "    endpoint_cells <- names(pseudotime_data)[pseudotime_data >= high_pseudotime_threshold & !is.na(pseudotime_data)]\n",
    "    \n",
    "    if (length(endpoint_cells) > 0) {\n",
    "      # Get cell types of endpoint cells\n",
    "      endpoint_cell_types <- seurat_obj@meta.data[endpoint_cells, cell_type_column]\n",
    "      \n",
    "      # Find most common cell type at endpoint\n",
    "      cell_type_counts <- table(endpoint_cell_types)\n",
    "      most_common_endpoint <- names(cell_type_counts)[which.max(cell_type_counts)]\n",
    "      \n",
    "      return(most_common_endpoint)\n",
    "    }\n",
    "    \n",
    "    return(NULL)\n",
    "    \n",
    "  }, error = function(e) {\n",
    "    message(\"Could not automatically determine lineage endpoint: \", e$message)\n",
    "    return(NULL)\n",
    "  })\n",
    "}\n",
    "#'\n",
    "#' @param seurat_obj Seurat object\n",
    "#' @param curves_obj Slingshot curves object\n",
    "#' @param cell_type_column Character. Column name for cell types\n",
    "#'\n",
    "check_pseudotime_data <- function(seurat_obj, curves_obj, cell_type_column = \"seurat_clusters\") {\n",
    "  \n",
    "  cat(\"=== PSEUDOTIME DATA DIAGNOSTIC ===\\n\")\n",
    "  \n",
    "  # Check available lineages\n",
    "  lineages <- colnames(slingPseudotime(curves_obj))\n",
    "  cat(\"Available lineages:\", paste(lineages, collapse = \", \"), \"\\n\")\n",
    "  \n",
    "  # Check pseudotime data for each lineage\n",
    "  pseudotime_matrix <- slingPseudotime(curves_obj, na = FALSE)\n",
    "  \n",
    "  for (lineage in lineages) {\n",
    "    pseudotime_values <- pseudotime_matrix[, lineage]\n",
    "    n_total <- length(pseudotime_values)\n",
    "    n_finite <- sum(is.finite(pseudotime_values))\n",
    "    n_na <- sum(is.na(pseudotime_values))\n",
    "    \n",
    "    cat(\"\\n\", lineage, \":\\n\")\n",
    "    cat(\"  Total cells:\", n_total, \"\\n\")\n",
    "    cat(\"  Finite values:\", n_finite, \"\\n\")\n",
    "    cat(\"  NA values:\", n_na, \"\\n\")\n",
    "    \n",
    "    if (n_finite > 0) {\n",
    "      cat(\"  Range:\", round(range(pseudotime_values, na.rm = TRUE), 3), \"\\n\")\n",
    "    }\n",
    "  }\n",
    "  \n",
    "  # Check cell name overlap\n",
    "  curve_cells <- rownames(pseudotime_matrix)\n",
    "  seurat_cells <- colnames(seurat_obj)\n",
    "  overlap <- intersect(curve_cells, seurat_cells)\n",
    "  \n",
    "  cat(\"\\n=== CELL NAME OVERLAP ===\\n\")\n",
    "  cat(\"Cells in curves object:\", length(curve_cells), \"\\n\")\n",
    "  cat(\"Cells in Seurat object:\", length(seurat_cells), \"\\n\")\n",
    "  cat(\"Overlapping cells:\", length(overlap), \"\\n\")\n",
    "  \n",
    "  if (length(overlap) == 0) {\n",
    "    cat(\"WARNING: No overlapping cell names found!\\n\")\n",
    "    cat(\"First 5 curve cell names:\", head(curve_cells, 5), \"\\n\")\n",
    "    cat(\"First 5 Seurat cell names:\", head(seurat_cells, 5), \"\\n\")\n",
    "  }\n",
    "  \n",
    "  return(invisible(NULL))\n",
    "}\n",
    "\n",
    "#' Plot Gene Expression Along Pseudotime with Cell Type Coloring\n",
    "#'\n",
    "#' This function creates a trend plot showing gene expression along a specific lineage\n",
    "#' pseudotime trajectory, with the trend line colored by dominant cell types in each region.\n",
    "#'\n",
    "#' @param seurat_obj Seurat object containing gene expression data\n",
    "#' @param curves_obj Slingshot curves object containing pseudotime information\n",
    "#' @param gene_name Character. Name of the gene to plot (must match gene names in Seurat object)\n",
    "#' @param lineage_name Character. Name of the lineage to plot (e.g., \"Lineage1\", \"Lineage2\")\n",
    "#' @param min_cells Numeric. Minimum number of cells required for a cell type to be considered major (default: 50)\n",
    "#' @param n_bins Numeric. Number of bins to divide pseudotime axis for determining dominant cell types (default: 50)\n",
    "#' @param color_palette Character vector. Colors to use for major cell types. If NULL, uses rainbow colors (default: NULL)\n",
    "#' @param cell_type_column Character. Column name in Seurat object metadata containing cell type information (default: \"seurat_clusters\")\n",
    "#' @param expression_slot Character. Which slot to use for gene expression (\"data\", \"counts\", or \"scale.data\") (default: \"data\")\n",
    "#' @param exclude_cell_types Character vector. Cell types to completely remove from analysis and plotting (default: NULL)\n",
    "#' @param cell_type_order Character vector. Custom order for cell types. If NULL, uses pseudotime-based ordering (default: NULL)\n",
    "#' @param ylim Numeric vector of length 2. Y-axis limits c(min, max). If NULL, uses automatic limits (default: NULL)\n",
    "#' @param lineage_destination Character. Optional destination/endpoint name for the lineage (e.g., \"Erythroid\", \"Neural\"). If NULL, function will attempt to automatically determine from curves object. Set to FALSE to disable endpoint detection (default: NULL)\n",
    "#' @param show_subtitle Logical. Whether to show the subtitle with analysis details (default: TRUE)\n",
    "#' @param save_plot Logical. Whether to save the plot (default: FALSE)\n",
    "#' @param filename Character. Filename for saving plot (default: NULL)\n",
    "#' @param plot_width Numeric. Width for saved plot (default: 10)\n",
    "#' @param plot_height Numeric. Height for saved plot (default: 6)\n",
    "#'\n",
    "#' @return ggplot object\n",
    "#'\n",
    "plot_gene_pseudotime <- function(seurat_obj,\n",
    "                                curves_obj,\n",
    "                                gene_name,\n",
    "                                lineage_name,\n",
    "                                min_cells = 50,\n",
    "                                n_bins = 50,\n",
    "                                color_palette = NULL,\n",
    "                                cell_type_column = \"seurat_clusters\",\n",
    "                                expression_slot = \"data\",\n",
    "                                exclude_cell_types = NULL,\n",
    "                                cell_type_order = NULL,\n",
    "                                ylim = NULL,\n",
    "                                lineage_destination = NULL,\n",
    "                                show_subtitle = TRUE,\n",
    "                                save_plot = FALSE,\n",
    "                                filename = NULL,\n",
    "                                plot_width = 10,\n",
    "                                plot_height = 6) {\n",
    "  \n",
    "  # Input validation\n",
    "  message(\"=== STARTING INPUT VALIDATION ===\")\n",
    "  \n",
    "  if (!gene_name %in% rownames(seurat_obj)) {\n",
    "    stop(paste(\"Gene\", gene_name, \"not found in Seurat object\"))\n",
    "  }\n",
    "  message(\"✓ Gene found in Seurat object\")\n",
    "  \n",
    "  if (!lineage_name %in% colnames(slingPseudotime(curves_obj))) {\n",
    "    available_lineages <- colnames(slingPseudotime(curves_obj))\n",
    "    stop(paste(\"Lineage\", lineage_name, \"not found. Available lineages:\", paste(available_lineages, collapse = \", \")))\n",
    "  }\n",
    "  message(\"✓ Lineage found in curves object\")\n",
    "  \n",
    "  if (!cell_type_column %in% colnames(seurat_obj@meta.data)) {\n",
    "    stop(paste(\"Cell type column\", cell_type_column, \"not found in Seurat object metadata\"))\n",
    "  }\n",
    "  message(\"✓ Cell type column found in metadata\")\n",
    "  \n",
    "  message(\"=== EXTRACTING DATA ===\")\n",
    "  \n",
    "  # Extract pseudotime for specified lineage\n",
    "  pseudotime_matrix <- slingPseudotime(curves_obj)\n",
    "  pseudotime_data <- pseudotime_matrix[, lineage_name]\n",
    "  \n",
    "  message(paste(\"Extracted pseudotime for\", lineage_name, \"- length:\", length(pseudotime_data)))\n",
    "  message(paste(\"Number of NA values:\", sum(is.na(pseudotime_data))))\n",
    "  message(paste(\"Number of finite values:\", sum(is.finite(pseudotime_data))))\n",
    "  if(sum(is.finite(pseudotime_data)) > 0) {\n",
    "    message(paste(\"Pseudotime range:\", paste(range(pseudotime_data, na.rm = TRUE), collapse = \" to \")))\n",
    "  }\n",
    "  \n",
    "  # Get gene expression\n",
    "  gene_expression <- GetAssayData(seurat_obj, slot = expression_slot)[gene_name, ]\n",
    "  message(paste(\"Extracted expression for\", gene_name, \"- length:\", length(gene_expression)))\n",
    "  \n",
    "  # Get cell type information\n",
    "  cell_types <- seurat_obj@meta.data[names(pseudotime_data), cell_type_column]\n",
    "  message(paste(\"Extracted cell types - length:\", length(cell_types)))\n",
    "  message(paste(\"Number of NA cell types:\", sum(is.na(cell_types))))\n",
    "  message(paste(\"First few cell types:\", paste(head(cell_types, na.rm = TRUE), collapse = \", \")))\n",
    "  \n",
    "  # Create data frame\n",
    "  plot_data <- data.frame(\n",
    "    pseudotime = pseudotime_data,\n",
    "    expression = gene_expression[names(pseudotime_data)],\n",
    "    cell_type = cell_types\n",
    "  )\n",
    "  \n",
    "  message(paste(\"Created plot_data with\", nrow(plot_data), \"rows\"))\n",
    "  message(paste(\"Complete cases before filtering:\", sum(complete.cases(plot_data))))\n",
    "  \n",
    "  # Remove NA values\n",
    "  plot_data <- plot_data[complete.cases(plot_data), ]\n",
    "  \n",
    "  message(paste(\"Complete cases after filtering:\", nrow(plot_data)))\n",
    "  \n",
    "  # Check if we have any valid data after removing NAs\n",
    "  if (nrow(plot_data) == 0) {\n",
    "    message(\"=== DEBUGGING INFO ===\")\n",
    "    message(\"Original pseudotime_data length:\", length(pseudotime_data))\n",
    "    message(\"Original gene_expression length:\", length(gene_expression))\n",
    "    message(\"Original cell_types length:\", length(cell_types))\n",
    "    message(\"Names match between pseudotime and expression:\", \n",
    "            identical(names(pseudotime_data), names(gene_expression[names(pseudotime_data)])))\n",
    "    message(\"Sample of pseudotime names:\", paste(head(names(pseudotime_data)), collapse = \", \"))\n",
    "    message(\"Sample of expression names:\", paste(head(names(gene_expression)), collapse = \", \"))\n",
    "    stop(paste(\"No valid data found for\", lineage_name, \". Check if the lineage exists and has valid pseudotime values.\"))\n",
    "  }\n",
    "  \n",
    "  # Check if pseudotime values are finite\n",
    "  if (!all(is.finite(plot_data$pseudotime))) {\n",
    "    stop(\"Non-finite pseudotime values found. Please check your slingshot curves object.\")\n",
    "  }\n",
    "  \n",
    "  message(paste(\"Found\", nrow(plot_data), \"cells with valid pseudotime and expression data for\", lineage_name))\n",
    "  \n",
    "  # Remove excluded cell types completely\n",
    "  if (!is.null(exclude_cell_types)) {\n",
    "    n_before <- nrow(plot_data)\n",
    "    plot_data <- plot_data[!plot_data$cell_type %in% exclude_cell_types, ]\n",
    "    n_after <- nrow(plot_data)\n",
    "    n_removed <- n_before - n_after\n",
    "    \n",
    "    message(paste(\"Excluded cell types:\", paste(exclude_cell_types, collapse = \", \")))\n",
    "    message(paste(\"Removed\", n_removed, \"cells belonging to excluded cell types\"))\n",
    "    message(paste(\"Remaining cells for analysis:\", n_after))\n",
    "    \n",
    "    # Check if we still have data after exclusions\n",
    "    if (nrow(plot_data) == 0) {\n",
    "      stop(\"No cells remaining after excluding specified cell types.\")\n",
    "    }\n",
    "  }\n",
    "  \n",
    "  # Count cells per cell type and identify small cell types (after exclusions)\n",
    "  cell_type_counts <- table(plot_data$cell_type)\n",
    "  small_cell_types <- names(cell_type_counts[cell_type_counts < min_cells])\n",
    "  \n",
    "  message(paste(\"Cell type counts after exclusions:\"))\n",
    "  print(cell_type_counts)\n",
    "  message(paste(\"Small cell types (< \", min_cells, \" cells):\", paste(small_cell_types, collapse = \", \")))\n",
    "  \n",
    "  # Group only small cell types (excluded types are already removed)\n",
    "  plot_data$cell_type_plot <- as.character(plot_data$cell_type)\n",
    "  plot_data$cell_type_plot[plot_data$cell_type %in% small_cell_types] <- paste0(\"Other (< \", min_cells, \" cells)\")\n",
    "  \n",
    "  # Get major cell types after exclusions\n",
    "  major_cell_types_raw <- setdiff(unique(plot_data$cell_type_plot), paste0(\"Other (< \", min_cells, \" cells)\"))\n",
    "  \n",
    "  # Order cell types\n",
    "  if (!is.null(cell_type_order)) {\n",
    "    # Use custom ordering\n",
    "    # Check if all specified cell types exist (after exclusions)\n",
    "    available_major_types <- intersect(cell_type_order, major_cell_types_raw)\n",
    "    missing_types <- setdiff(cell_type_order, major_cell_types_raw)\n",
    "    extra_types <- setdiff(major_cell_types_raw, cell_type_order)\n",
    "    \n",
    "    if (length(missing_types) > 0) {\n",
    "      message(paste(\"Warning: Some cell types in custom order not found after exclusions:\", paste(missing_types, collapse = \", \")))\n",
    "    }\n",
    "    if (length(extra_types) > 0) {\n",
    "      message(paste(\"Note: Adding unspecified major cell types at end:\", paste(extra_types, collapse = \", \")))\n",
    "    }\n",
    "    \n",
    "    # Create final ordering\n",
    "    cell_type_order_final <- c(available_major_types, extra_types)\n",
    "    \n",
    "    # Add \"Other\" category if it exists\n",
    "    if (paste0(\"Other (< \", min_cells, \" cells)\") %in% plot_data$cell_type_plot) {\n",
    "      cell_type_order_final <- c(cell_type_order_final, paste0(\"Other (< \", min_cells, \" cells)\"))\n",
    "    }\n",
    "    \n",
    "    message(paste(\"Using custom cell type order:\", paste(cell_type_order_final, collapse = \" -> \")))\n",
    "    \n",
    "  } else {\n",
    "    # Use pseudotime-based ordering (default behavior)\n",
    "    cell_type_order_final <- plot_data %>%\n",
    "      group_by(cell_type_plot) %>%\n",
    "      summarise(median_pseudotime = median(pseudotime, na.rm = TRUE), .groups = 'drop') %>%\n",
    "      arrange(median_pseudotime) %>%\n",
    "      pull(cell_type_plot)\n",
    "    \n",
    "    message(paste(\"Using pseudotime-based cell type order:\", paste(cell_type_order_final, collapse = \" -> \")))\n",
    "  }\n",
    "  \n",
    "  plot_data$cell_type_plot <- factor(plot_data$cell_type_plot, levels = cell_type_order_final)\n",
    "  \n",
    "  # Create pseudotime bins\n",
    "  pseudotime_range <- range(plot_data$pseudotime, na.rm = TRUE)\n",
    "  bin_breaks <- seq(pseudotime_range[1], pseudotime_range[2], length.out = n_bins + 1)\n",
    "  plot_data$pseudotime_bin <- cut(plot_data$pseudotime, breaks = bin_breaks, include.lowest = TRUE)\n",
    "  \n",
    "  # Find dominant cell type in each bin (excluding small cell types)\n",
    "  dominant_celltype <- plot_data %>%\n",
    "    filter(cell_type_plot != paste0(\"Other (< \", min_cells, \" cells)\")) %>%\n",
    "    group_by(pseudotime_bin) %>%\n",
    "    count(cell_type_plot) %>%\n",
    "    slice_max(n, n = 1, with_ties = FALSE) %>%\n",
    "    ungroup() %>%\n",
    "    select(pseudotime_bin, dominant_type = cell_type_plot)\n",
    "  \n",
    "  # Create bin centers\n",
    "  bin_centers <- (bin_breaks[-1] + bin_breaks[-length(bin_breaks)]) / 2\n",
    "  dominant_celltype$pseudotime_center <- bin_centers[as.numeric(dominant_celltype$pseudotime_bin)]\n",
    "  \n",
    "  # Fit GAM model for smooth predictions\n",
    "  gam_model <- gam(expression ~ s(pseudotime, bs = \"cs\"), data = plot_data)\n",
    "  smooth_data <- data.frame(pseudotime = bin_centers)\n",
    "  smooth_data$expression <- predict(gam_model, newdata = smooth_data)\n",
    "  \n",
    "  # Merge with dominant cell types\n",
    "  smooth_data <- merge(smooth_data, \n",
    "                       dominant_celltype[, c(\"pseudotime_center\", \"dominant_type\")], \n",
    "                       by.x = \"pseudotime\", by.y = \"pseudotime_center\", all.x = TRUE)\n",
    "  \n",
    "  # Create segment groups to break lines\n",
    "  smooth_data <- smooth_data[order(smooth_data$pseudotime), ]\n",
    "  smooth_data$segment_group <- cumsum(c(TRUE, smooth_data$dominant_type[-1] != smooth_data$dominant_type[-nrow(smooth_data)] | \n",
    "                                       is.na(smooth_data$dominant_type[-1]) | is.na(smooth_data$dominant_type[-nrow(smooth_data)])))\n",
    "  \n",
    "  # Remove rows with NA dominant_type\n",
    "  smooth_data <- smooth_data[!is.na(smooth_data$dominant_type), ]\n",
    "  \n",
    "  # Set up colors\n",
    "  major_cell_types <- levels(plot_data$cell_type_plot)[levels(plot_data$cell_type_plot) != paste0(\"Other (< \", min_cells, \" cells)\")]\n",
    "  \n",
    "  if (is.null(color_palette)) {\n",
    "    colors <- rainbow(length(major_cell_types))\n",
    "    names(colors) <- major_cell_types\n",
    "  } else {\n",
    "    # Check if color_palette is a named vector\n",
    "    if (is.null(names(color_palette))) {\n",
    "      # Unnamed vector - assign colors sequentially\n",
    "      if (length(color_palette) < length(major_cell_types)) {\n",
    "        warning(\"Not enough colors in palette. Recycling colors.\")\n",
    "        colors <- rep(color_palette, length.out = length(major_cell_types))\n",
    "      } else {\n",
    "        colors <- color_palette[1:length(major_cell_types)]\n",
    "      }\n",
    "      names(colors) <- major_cell_types\n",
    "    } else {\n",
    "      # Named vector - match cell types to their specific colors\n",
    "      colors <- character(length(major_cell_types))\n",
    "      names(colors) <- major_cell_types\n",
    "      \n",
    "      # Assign colors for matched cell types\n",
    "      matched_types <- intersect(major_cell_types, names(color_palette))\n",
    "      colors[matched_types] <- color_palette[matched_types]\n",
    "      \n",
    "      # Assign colors for unmatched cell types\n",
    "      unmatched_types <- setdiff(major_cell_types, names(color_palette))\n",
    "      if (length(unmatched_types) > 0) {\n",
    "        # Use unused colors from the palette\n",
    "        used_colors <- color_palette[matched_types]\n",
    "        unused_colors <- setdiff(color_palette, used_colors)\n",
    "        \n",
    "        if (length(unused_colors) >= length(unmatched_types)) {\n",
    "          colors[unmatched_types] <- unused_colors[1:length(unmatched_types)]\n",
    "        } else {\n",
    "          # Not enough unused colors, use remaining colors and recycle if needed\n",
    "          all_remaining <- c(unused_colors, color_palette)\n",
    "          colors[unmatched_types] <- all_remaining[1:length(unmatched_types)]\n",
    "        }\n",
    "        \n",
    "        message(paste(\"Warning: Cell types not found in color palette, assigned available colors:\"))\n",
    "        for (i in 1:length(unmatched_types)) {\n",
    "          message(paste(\"  \", unmatched_types[i], \"->\", colors[unmatched_types[i]]))\n",
    "        }\n",
    "      }\n",
    "    }\n",
    "  }\n",
    "  \n",
    "  message(paste(\"Final color assignment for major cell types:\"))\n",
    "  for (i in 1:length(major_cell_types)) {\n",
    "    message(paste(\"  \", i, \":\", major_cell_types[i], \"->\", colors[major_cell_types[i]]))\n",
    "  }\n",
    "  \n",
    "  message(\"=== DETERMINING LINEAGE ENDPOINT ===\")\n",
    "  \n",
    "  # Determine lineage endpoint\n",
    "  endpoint_name <- NULL\n",
    "  if (is.null(lineage_destination)) {\n",
    "    # Try to automatically determine endpoint\n",
    "    endpoint_name <- get_lineage_endpoint(curves_obj, lineage_name, seurat_obj, cell_type_column)\n",
    "    if (!is.null(endpoint_name)) {\n",
    "      message(paste(\"✓ Automatically detected endpoint:\", endpoint_name))\n",
    "    } else {\n",
    "      message(\"✗ Could not automatically determine endpoint\")\n",
    "    }\n",
    "  } else if (lineage_destination != FALSE) {\n",
    "    # Use provided endpoint\n",
    "    endpoint_name <- lineage_destination\n",
    "    message(paste(\"✓ Using provided endpoint:\", endpoint_name))\n",
    "  } else {\n",
    "    # Explicitly disabled endpoint detection\n",
    "    message(\"✓ Endpoint detection disabled\")\n",
    "  }\n",
    "  \n",
    "  # Create plot title with optional destination\n",
    "  plot_title <- paste(gene_name, \"Expression Trend Along\", lineage_name)\n",
    "  if (!is.null(endpoint_name)) {\n",
    "    plot_title <- paste(gene_name, \"Expression Trend Along\", lineage_name, \"-\", endpoint_name)\n",
    "  }\n",
    "  \n",
    "  # Create plot\n",
    "  p <- ggplot() +\n",
    "    # Add confidence interval\n",
    "    geom_smooth(data = plot_data, aes(x = pseudotime, y = expression),\n",
    "                method = \"gam\", formula = y ~ s(x, bs = \"cs\"), \n",
    "                se = TRUE, color = NA, fill = \"darkgrey\", alpha = 0.5) +\n",
    "    # Add colored line segments\n",
    "    geom_path(data = smooth_data, aes(x = pseudotime, y = expression, \n",
    "                                      color = dominant_type, group = segment_group), \n",
    "              linewidth = 2) +\n",
    "    scale_color_manual(values = colors, name = \"Dominant Cell Type\") +\n",
    "    labs(\n",
    "      title = plot_title,\n",
    "      x = \"Pseudotime\",\n",
    "      y = paste(gene_name, \"Expression\"),\n",
    "      subtitle = if (show_subtitle) {\n",
    "        paste0(\"Line colored by dominant cell type in each pseudotime region (n = \", \n",
    "               nrow(plot_data), \" cells, min_cells = \", min_cells, \", bins = \", n_bins, \")\")\n",
    "      } else {\n",
    "        NULL\n",
    "      }\n",
    "    ) +\n",
    "    theme_classic() +\n",
    "    theme(\n",
    "      plot.title = element_text(size = 14, hjust = 0.5, face = \"bold\"),\n",
    "      plot.subtitle = element_text(size = 11, hjust = 0.5),\n",
    "      axis.title = element_text(size = 12),\n",
    "      axis.text = element_text(size = 10),\n",
    "      legend.title = element_text(size = 11),\n",
    "      legend.text = element_text(size = 9),\n",
    "      panel.grid.major.y = element_line(color = \"grey90\", linewidth = 0.5)\n",
    "    ) +\n",
    "    guides(color = guide_legend(override.aes = list(linewidth = 3)))\n",
    "  \n",
    "  # Add custom y-axis limits if provided\n",
    "  if (!is.null(ylim)) {\n",
    "    if (length(ylim) != 2 || !is.numeric(ylim)) {\n",
    "      warning(\"ylim should be a numeric vector of length 2. Using automatic limits.\")\n",
    "    } else {\n",
    "      p <- p + coord_cartesian(ylim = ylim)\n",
    "    }\n",
    "  }\n",
    "  \n",
    "  # Save plot if requested\n",
    "  if (save_plot) {\n",
    "    if (is.null(filename)) {\n",
    "      filename <- paste0(gene_name, \"_\", lineage_name, \"_pseudotime_trend.pdf\")\n",
    "    }\n",
    "    ggsave(filename, plot = p, width = plot_width, height = plot_height)\n",
    "    message(paste(\"Plot saved as:\", filename))\n",
    "  }\n",
    "  \n",
    "  return(p)\n",
    "}\n",
    "\n",
    "#' # Remove subtitle for cleaner plots\n",
    "#' p <- plot_gene_pseudotime(df, curves_df_old_umap, \"Atf3\", \"Lineage2\",\n",
    "#'                          show_subtitle = FALSE)\n",
    "#' \n",
    "#' # Clean plot for publication with custom colors and no subtitle\n",
    "#' p <- plot_gene_pseudotime(df, curves_df_old_umap, \"Atf3\", \"Lineage2\",\n",
    "#'                          color_palette = atlas_color_palette,\n",
    "#'                          show_subtitle = FALSE,\n",
    "#'                          lineage_destination = FALSE)\n",
    "#' \n",
    "#' # Complete usage example with subtitle control\n",
    "#' p <- plot_gene_pseudotime(\n",
    "#'   seurat_obj = df,                                    \n",
    "#'   curves_obj = curves_df_old_umap,                   \n",
    "#'   gene_name = \"Atf3\",                                \n",
    "#'   lineage_name = \"Lineage2\",                         \n",
    "#'   min_cells = 100,                                   \n",
    "#'   n_bins = 30,                                       \n",
    "#'   color_palette = r3dcol$cols_94,                    \n",
    "#'   cell_type_column = \"celltype_PijuanSala2019\",      \n",
    "#'   expression_slot = \"data\",\n",
    "#'   exclude_cell_types = c(\"ExE endoderm\", \"Visceral endoderm\"),\n",
    "#'   cell_type_order = c(\"Epiblast\", \"Primitive Streak\"),\n",
    "#'   ylim = c(0, 4),                                    \n",
    "#'   lineage_destination = \"Neural Crest\",\n",
    "#'   show_subtitle = FALSE,                             # NEW: Remove subtitle\n",
    "#'   save_plot = TRUE,                                  \n",
    "#'   filename = \"Atf3_Lineage2_clean.pdf\",      \n",
    "#'   plot_width = 12,                                   \n",
    "#'   plot_height = 8                                    \n",
    "#' )"
   ]
  },
  {
   "cell_type": "markdown",
   "id": "0ee5dcc0-90d8-42c6-9355-caee094d75e1",
   "metadata": {},
   "source": [
    "### Color match"
   ]
  },
  {
   "cell_type": "code",
   "execution_count": null,
   "id": "83a26fee-d08e-464d-aff7-004798c03410",
   "metadata": {
    "scrolled": true,
    "vscode": {
     "languageId": "r"
    }
   },
   "outputs": [],
   "source": [
    "# Color palette\n",
    "r3dcol_cols_94 <- c(\n",
    "  '#F0E442', '#1CE6FF', '#FF34FF', '#FF4A46', '#008941', '#006FA6', '#A30059', '#FFDBE5',\n",
    "  '#7A4900', '#0089A3', '#63FFAC', '#B79762', '#004D43', '#8FB0FF', '#997D87', '#809693',\n",
    "  '#6A3A4C', '#b4b701', '#4FC601', '#3B5DFF', '#FF2F80', '#61615A', '#BA0900', '#6B7900',\n",
    "  '#00C2A0', '#FFAA92', '#FF90C9', '#B903AA', '#D16100', '#922329', '#7B4F4B', '#A1C299',\n",
    "  '#0AA6D8', '#00846F', '#FFB500', '#C2FFED', '#A079BF', '#CC0744', '#C0B9B2', '#C2FF99',\n",
    "  '#00489C', '#6F0062', '#0CBD66', '#EEC3FF', '#456D75', '#B77B68', '#7A87A1', '#788D66',\n",
    "  '#885578', '#FAD09F', '#FF8A9A', '#D157A0', '#BEC459', '#456648', '#0086ED', '#886F4C',\n",
    "  '#34362D', '#B4A8BD', '#00A6AA', '#452C2C', '#636375', '#A3C8C9', '#FF913F', '#938A81',\n",
    "  '#575329', '#00FECF', '#B05B6F', '#8CD0FF', '#3B9700', '#04F757', '#C8A1A1', '#1E6E00',\n",
    "  '#7900D7', '#A77500', '#6367A9', '#A05837', '#6B002C', '#772600', '#D790FF', '#9B9700',\n",
    "  '#549E79', '#FFF69F', '#201625', '#72418F', '#BC23FF', '#99ADC0', '#3A2465', '#DDEFFF',\n",
    "  '#5B4534', '#FDE8DC', '#404E55', '#CB7E98', '#A4E804', '#324E72'\n",
    ")\n",
    "\n",
    "# Dataset 1: atlas$celltype_extended_atlas (excluding neural/neuroectodermal types)\n",
    "atlas_celltypes <- c(\n",
    "  'Epiblast', 'Primitive Streak', 'ExE ectoderm', 'Visceral endoderm', 'ExE endoderm',\n",
    "  'Non-neural ectoderm', 'Nascent mesoderm', 'Ectoderm', 'Blood progenitors', 'Paraxial mesoderm',\n",
    "  'Caudal epiblast', 'Lateral plate mesoderm', 'Intermediate mesoderm', 'Cardiopharyngeal progenitors FHF',\n",
    "  'PGC', 'Mesenchyme', 'Haematoendothelial progenitors', 'Gut tube', 'Cardiomyocytes FHF 1',\n",
    "  'Allantois endothelium', 'Node', 'Erythroid', 'Embryo proper endothelium', 'Anterior somitic tissues',\n",
    "  'Endotome', 'Amniotic ectoderm', 'Parietal endoderm', 'Anterior Primitive Streak', 'Presomitic mesoderm',\n",
    "  'Allantois', 'Limb ectoderm', 'EMP', 'Anterior cardiopharyngeal progenitors', 'Pharyngeal mesoderm',\n",
    "  'Limb mesoderm', 'Midgut', 'Venous endothelium', 'Pharyngeal endoderm', 'Hindgut', 'Notochord',\n",
    "  'Epicardium', 'Posterior somitic tissues', 'Somitic mesoderm', 'Caudal mesoderm', 'Thyroid primordium',\n",
    "  'Dermomyotome', 'Cardiomyocytes SHF 1', 'NMPs', 'Cardiomyocytes FHF 2', 'Cardiopharyngeal progenitors SHF',\n",
    "  'Foregut', 'Surface ectoderm', 'YS mesothelium', 'Embryo proper mesothelium', 'Sclerotome',\n",
    "  'Cardiomyocytes SHF 2', 'YS endothelium', 'NMPs/Mesoderm-biased', 'Kidney primordium', 'Endocardium',\n",
    "  'MEP', 'Epidermis', 'Cranial mesoderm', 'Megakaryocyte progenitors', 'Cardiopharyngeal progenitors',\n",
    "  'Chorioallantoic-derived erythroid progenitors', 'Frontonasal mesenchyme', 'YS mesothelium-derived endothelial progenitors',\n",
    "  'Forelimb'\n",
    ")\n",
    "\n",
    "# Dataset 2: obj$new_subclusters_x\n",
    "obj_celltypes <- c(\n",
    "  'Naive Pluripotency', 'Epicardium', 'Limb Mesoderm', 'Allantois', 'EMP', 'Primitive Streak',\n",
    "  'Mesenchyme', 'Nascent Mesoderm', 'Erythroid', 'Endocardium', 'Lateral Plate Mesoderm', 'PGC',\n",
    "  'Epiblast', 'Amniotic Ectoderm', 'HEP/BP', 'Endothelium', 'Anterior Primitive Streak', 'MkP',\n",
    "  'MEP', 'Visceral Endoderm', 'Atf3-KO Enriched'\n",
    ")\n",
    "\n",
    "# Define exact matches between datasets (same biological cell types get same color)\n",
    "cell_type_matches <- list(\n",
    "  # Direct matches (identical names or clear equivalents)\n",
    "  \"Epiblast\" = list(atlas = \"Epiblast\", obj = \"Epiblast\", color = r3dcol_cols_94[1]),\n",
    "  \"Primitive Streak\" = list(atlas = \"Primitive Streak\", obj = \"Primitive Streak\", color = r3dcol_cols_94[4]),\n",
    "  \"Anterior Primitive Streak\" = list(atlas = \"Anterior Primitive Streak\", obj = \"Anterior Primitive Streak\", color = r3dcol_cols_94[29]),\n",
    "  \"Nascent Mesoderm\" = list(atlas = \"Nascent mesoderm\", obj = \"Nascent Mesoderm\", color = r3dcol_cols_94[5]),  # Keep #008941 (dark teal)\n",
    "  \"Lateral Plate Mesoderm\" = list(atlas = \"Lateral plate mesoderm\", obj = \"Lateral Plate Mesoderm\", color = r3dcol_cols_94[74]), # Changed to #A77500 (golden brown)\n",
    "  \"Limb Mesoderm\" = list(atlas = \"Limb mesoderm\", obj = \"Limb Mesoderm\", color = r3dcol_cols_94[52]), # Changed to #D157A0 (magenta/purple)\n",
    "  \"PGC\" = list(atlas = \"PGC\", obj = \"PGC\", color = r3dcol_cols_94[70]),\n",
    "  \"Mesenchyme\" = list(atlas = \"Mesenchyme\", obj = \"Mesenchyme\", color = r3dcol_cols_94[15]),\n",
    "  \"Erythroid\" = list(atlas = \"Erythroid\", obj = \"Erythroid\", color = r3dcol_cols_94[23]),\n",
    "  \"EMP\" = list(atlas = \"EMP\", obj = \"EMP\", color = r3dcol_cols_94[30]),\n",
    "  \"MEP\" = list(atlas = \"MEP\", obj = \"MEP\", color = r3dcol_cols_94[38]),\n",
    "  \"Epicardium\" = list(atlas = \"Epicardium\", obj = \"Epicardium\", color = r3dcol_cols_94[3]),\n",
    "  \"Endocardium\" = list(atlas = \"Endocardium\", obj = \"Endocardium\", color = r3dcol_cols_94[28]),\n",
    "  \"Allantois\" = list(atlas = \"Allantois\", obj = \"Allantois\", color = r3dcol_cols_94[35]), # Changed from 11 to 35 (bright orange)\n",
    "  \"Visceral Endoderm\" = list(atlas = \"Visceral endoderm\", obj = \"Visceral Endoderm\", color = r3dcol_cols_94[9]),\n",
    "  \"Amniotic Ectoderm\" = list(atlas = \"Amniotic ectoderm\", obj = \"Amniotic Ectoderm\", color = r3dcol_cols_94[8]),\n",
    "  \n",
    "  # Functional matches (same biological function, different names)\n",
    "  \"Hematopoietic Progenitors\" = list(atlas = c(\"Blood progenitors\", \"Haematoendothelial progenitors\"), \n",
    "                                    obj = \"HEP/BP\", color = r3dcol_cols_94[76]),\n",
    "  \"Megakaryocyte Progenitors\" = list(atlas = \"Megakaryocyte progenitors\", obj = \"MkP\", color = r3dcol_cols_94[78]),\n",
    "  \"Endothelium\" = list(atlas = c(\"Embryo proper endothelium\", \"Venous endothelium\", \"YS endothelium\", \n",
    "                                \"Allantois endothelium\", \"YS mesothelium-derived endothelial progenitors\"), \n",
    "                      obj = \"Endothelium\", color = r3dcol_cols_94[2])\n",
    ")\n",
    "\n",
    "# Create color vectors for both datasets\n",
    "create_matched_color_vectors <- function(atlas_types, obj_types, matches, color_palette) {\n",
    "  \n",
    "  # Initialize color vectors\n",
    "  atlas_colors <- character(length(atlas_types))\n",
    "  names(atlas_colors) <- atlas_types\n",
    "  \n",
    "  obj_colors <- character(length(obj_types))\n",
    "  names(obj_colors) <- obj_types\n",
    "  \n",
    "  # Track used colors\n",
    "  used_colors <- character(0)\n",
    "  \n",
    "  # Assign matched colors first\n",
    "  for (match_name in names(matches)) {\n",
    "    match_info <- matches[[match_name]]\n",
    "    color <- match_info$color\n",
    "    used_colors <- c(used_colors, color)\n",
    "    \n",
    "    # Assign to atlas types\n",
    "    if (\"atlas\" %in% names(match_info)) {\n",
    "      atlas_matches <- intersect(match_info$atlas, atlas_types)\n",
    "      if (length(atlas_matches) > 0) {\n",
    "        atlas_colors[atlas_matches] <- color\n",
    "      }\n",
    "    }\n",
    "    \n",
    "    # Assign to obj types  \n",
    "    if (\"obj\" %in% names(match_info)) {\n",
    "      obj_matches <- intersect(match_info$obj, obj_types)\n",
    "      if (length(obj_matches) > 0) {\n",
    "        obj_colors[obj_matches] <- color\n",
    "      }\n",
    "    }\n",
    "  }\n",
    "  \n",
    "  # Get remaining colors for unmatched cell types\n",
    "  remaining_colors <- setdiff(color_palette, used_colors)\n",
    "  color_index <- 1\n",
    "  \n",
    "  # Assign colors to unmatched atlas cell types\n",
    "  atlas_unmatched <- names(atlas_colors)[atlas_colors == \"\"]\n",
    "  for (cell_type in atlas_unmatched) {\n",
    "    if (color_index <= length(remaining_colors)) {\n",
    "      atlas_colors[cell_type] <- remaining_colors[color_index]\n",
    "      color_index <- color_index + 1\n",
    "    }\n",
    "  }\n",
    "  \n",
    "  # Assign colors to unmatched obj cell types\n",
    "  obj_unmatched <- names(obj_colors)[obj_colors == \"\"]\n",
    "  for (cell_type in obj_unmatched) {\n",
    "    if (color_index <= length(remaining_colors)) {\n",
    "      obj_colors[cell_type] <- remaining_colors[color_index]\n",
    "      color_index <- color_index + 1\n",
    "    }\n",
    "  }\n",
    "  \n",
    "  return(list(atlas = atlas_colors, obj = obj_colors))\n",
    "}\n",
    "\n",
    "# Generate the color mappings\n",
    "color_mappings <- create_matched_color_vectors(atlas_celltypes, obj_celltypes, \n",
    "                                             cell_type_matches, r3dcol_cols_94)\n",
    "\n",
    "# Extract the final color vectors\n",
    "atlas_color_palette <- color_mappings$atlas\n",
    "obj_color_palette <- color_mappings$obj\n",
    "\n",
    "# Print the results\n",
    "cat(\"=== ATLAS DATASET COLOR MAPPING ===\\n\")\n",
    "for (i in 1:length(atlas_color_palette)) {\n",
    "  cat(sprintf(\"%-40s -> %s\\n\", names(atlas_color_palette)[i], atlas_color_palette[i]))\n",
    "}\n",
    "\n",
    "cat(\"\\n=== OBJ DATASET COLOR MAPPING ===\\n\")\n",
    "for (i in 1:length(obj_color_palette)) {\n",
    "  cat(sprintf(\"%-25s -> %s\\n\", names(obj_color_palette)[i], obj_color_palette[i]))\n",
    "}\n",
    "\n",
    "cat(\"\\n=== MATCHED CELL TYPES (SAME COLORS) ===\\n\")\n",
    "for (match_name in names(cell_type_matches)) {\n",
    "  match_info <- cell_type_matches[[match_name]]\n",
    "  cat(sprintf(\"%-25s: %s\\n\", match_name, match_info$color))\n",
    "  if (length(match_info$atlas) == 1) {\n",
    "    cat(sprintf(\"  Atlas: %s\\n\", match_info$atlas))\n",
    "  } else {\n",
    "    cat(sprintf(\"  Atlas: %s\\n\", paste(match_info$atlas, collapse = \", \")))\n",
    "  }\n",
    "  cat(sprintf(\"  Obj:   %s\\n\\n\", match_info$obj))\n",
    "}\n",
    "\n",
    "# Usage in your plotting function:\n",
    "cat(\"\\n=== USAGE EXAMPLES ===\\n\")\n",
    "cat(\"# For atlas dataset:\\n\")\n",
    "cat(\"p1 <- plot_gene_pseudotime(atlas_seurat, curves_obj, 'Atf3', 'Lineage1',\\n\")\n",
    "cat(\"                           color_palette = atlas_color_palette)\\n\\n\")\n",
    "cat(\"# For obj dataset:\\n\") \n",
    "cat(\"p2 <- plot_gene_pseudotime(obj_seurat, curves_obj, 'Atf3', 'Lineage1',\\n\")\n",
    "cat(\"                           color_palette = obj_color_palette)\\n\\n\")\n",
    "cat(\"# Now p1 and p2 will have matching colors for equivalent cell types!\\n\")"
   ]
  },
  {
   "cell_type": "code",
   "execution_count": null,
   "id": "63361cf3-70e8-466e-876d-87fe8be50d97",
   "metadata": {
    "vscode": {
     "languageId": "r"
    }
   },
   "outputs": [],
   "source": [
    "r3dcol_cols_94"
   ]
  },
  {
   "cell_type": "markdown",
   "id": "e7cf9b1f-0b0f-479e-ab2b-713b1bb77749",
   "metadata": {},
   "source": [
    "# Atf3 - LM"
   ]
  },
  {
   "cell_type": "markdown",
   "id": "7211073d-67b0-4a5d-8a93-26c35b56e2ef",
   "metadata": {},
   "source": [
    "## in vitro lm"
   ]
  },
  {
   "cell_type": "code",
   "execution_count": null,
   "id": "01f1b775-e31b-4042-9be7-f487657785fa",
   "metadata": {
    "vscode": {
     "languageId": "r"
    }
   },
   "outputs": [],
   "source": [
    "cmo_lm_xobj <- readRDS('./cmo_v3_latemesoderm_lineage.rds')\n",
    "curves_cmo_lm <- readRDS('./cmo_v3_latemesoderm_slingshot_curves.rds')"
   ]
  },
  {
   "cell_type": "code",
   "execution_count": null,
   "id": "4e52030c-5799-40ba-bf7f-fb0dc6d6f8b2",
   "metadata": {
    "vscode": {
     "languageId": "r"
    }
   },
   "outputs": [],
   "source": [
    "curves_cmo_lm_mesenchyme"
   ]
  },
  {
   "cell_type": "code",
   "execution_count": null,
   "id": "2e9a5075-8dcc-4202-9bfe-17555b3e7c87",
   "metadata": {
    "scrolled": true,
    "vscode": {
     "languageId": "r"
    }
   },
   "outputs": [],
   "source": [
    "p_Atf3_cmo_lm_mesenchyme <- plot_gene_pseudotime(\n",
    "  # === REQUIRED PARAMETERS ===\n",
    "  seurat_obj = cmo_lm_mesenchyme_xobj,                                    # Your Seurat object\n",
    "  curves_obj = curves_cmo_lm_mesenchyme,                   # Your slingshot curves object  \n",
    "  gene_name = \"Atf3\",                                # Gene to plot\n",
    "  lineage_name = \"Lineage1\",                         # Which lineage trajectory\n",
    "  \n",
    "  # === ANALYSIS PARAMETERS ===\n",
    "  min_cells = 100,                                   # Minimum cells for major cell types\n",
    "  n_bins = 200,                                       # Number of pseudotime bins\n",
    "  cell_type_column = \"new_subclusters_x\",      # Cell type annotation column\n",
    "  expression_slot = \"data\",                          # Expression data slot (\"data\", \"counts\", \"scale.data\")\n",
    "  \n",
    "  # === VISUALIZATION PARAMETERS ===\n",
    "  color_palette = obj_color_palette,                    # Custom color palette\n",
    "  ylim = c(0, 1.2),                                    # Y-axis limits [min, max]\n",
    " # lineage_destination = \"Neural Crest\",              # Override auto-detected endpoint\n",
    "\n",
    "  exclude_cell_types = c(\"Naive Pluripotency\"),\n",
    " # cell_type_order = c(\"Epiblast\", \"Primitive Streak\"),\n",
    "        show_subtitle = FALSE,\n",
    "  \n",
    "  # === OUTPUT PARAMETERS ===\n",
    "  save_plot = FALSE,                                  # Save the plot automatically\n",
    "  filename = \"Atf3_Lineage2_neural_crest.pdf\",      # Custom filename  \n",
    "  plot_width = 12,                                   # Plot width in inches\n",
    "  plot_height = 8                                    # Plot height in inches\n",
    ")"
   ]
  },
  {
   "cell_type": "code",
   "execution_count": null,
   "id": "b54e4b3d-fb09-418d-976b-94d83a9f20b1",
   "metadata": {
    "vscode": {
     "languageId": "r"
    }
   },
   "outputs": [],
   "source": [
    "curves_cmo_lm_limb_mesoderm"
   ]
  },
  {
   "cell_type": "code",
   "execution_count": null,
   "id": "771b2660-5ab8-405b-9290-443b70f6bcf7",
   "metadata": {
    "scrolled": true,
    "vscode": {
     "languageId": "r"
    }
   },
   "outputs": [],
   "source": [
    "p_Atf3_cmo_lm_limb_mesoderm <- plot_gene_pseudotime(\n",
    "  # === REQUIRED PARAMETERS ===\n",
    "  seurat_obj = cmo_lm_limb_mesoderm_xobj,                                    # Your Seurat object\n",
    "  curves_obj = curves_cmo_lm_limb_mesoderm,                   # Your slingshot curves object  \n",
    "  gene_name = \"Atf3\",                                # Gene to plot\n",
    "  lineage_name = \"Lineage1\",                         # Which lineage trajectory\n",
    "  \n",
    "  # === ANALYSIS PARAMETERS ===\n",
    "  min_cells = 100,                                   # Minimum cells for major cell types\n",
    "  n_bins = 200,                                       # Number of pseudotime bins\n",
    "  cell_type_column = \"new_subclusters_x\",      # Cell type annotation column\n",
    "  expression_slot = \"data\",                          # Expression data slot (\"data\", \"counts\", \"scale.data\")\n",
    "  \n",
    "  # === VISUALIZATION PARAMETERS ===\n",
    "  color_palette = obj_color_palette,                    # Custom color palette\n",
    "  ylim = c(0, 1.2),                                    # Y-axis limits [min, max]\n",
    " # lineage_destination = \"Neural Crest\",              # Override auto-detected endpoint\n",
    " \n",
    " exclude_cell_types = c(\"Naive Pluripotency\"),\n",
    " # cell_type_order = c(\"Epiblast\", \"Primitive Streak\"),\n",
    "        show_subtitle = FALSE,\n",
    "  \n",
    "  # === OUTPUT PARAMETERS ===\n",
    "  save_plot = FALSE,                                  # Save the plot automatically\n",
    "  filename = \"Atf3_Lineage2_neural_crest.pdf\",      # Custom filename  \n",
    "  plot_width = 12,                                   # Plot width in inches\n",
    "  plot_height = 8                                    # Plot height in inches\n",
    ")"
   ]
  },
  {
   "cell_type": "code",
   "execution_count": null,
   "id": "483a5191-7d81-4f52-b638-af0b1fd5d5ef",
   "metadata": {
    "vscode": {
     "languageId": "r"
    }
   },
   "outputs": [],
   "source": [
    "curves_cmo_lm_allantois"
   ]
  },
  {
   "cell_type": "code",
   "execution_count": null,
   "id": "5226df54-3d06-4db2-86aa-01f797afa37b",
   "metadata": {
    "scrolled": true,
    "vscode": {
     "languageId": "r"
    }
   },
   "outputs": [],
   "source": [
    "p_Atf3_cmo_lm_allantois <- plot_gene_pseudotime(\n",
    "  # === REQUIRED PARAMETERS ===\n",
    "  seurat_obj = cmo_lm_allantois_xobj,                                    # Your Seurat object\n",
    "  curves_obj = curves_cmo_lm_allantois,                   # Your slingshot curves object  \n",
    "  gene_name = \"Atf3\",                                # Gene to plot\n",
    "  lineage_name = \"Lineage1\",                         # Which lineage trajectory\n",
    "  \n",
    "  # === ANALYSIS PARAMETERS ===\n",
    "  min_cells = 100,                                   # Minimum cells for major cell types\n",
    "  n_bins = 200,                                       # Number of pseudotime bins\n",
    "  cell_type_column = \"new_subclusters_x\",      # Cell type annotation column\n",
    "  expression_slot = \"data\",                          # Expression data slot (\"data\", \"counts\", \"scale.data\")\n",
    "  \n",
    "  # === VISUALIZATION PARAMETERS ===\n",
    "  color_palette = obj_color_palette,                    # Custom color palette\n",
    "  ylim = c(0, 1.2),                                    # Y-axis limits [min, max]\n",
    " # lineage_destination = \"Neural Crest\",              # Override auto-detected endpoint\n",
    "\n",
    "  exclude_cell_types = c(\"Naive Pluripotency\"),\n",
    " # cell_type_order = c(\"Epiblast\", \"Primitive Streak\"),\n",
    "        show_subtitle = FALSE,\n",
    "    \n",
    "  # === OUTPUT PARAMETERS ===\n",
    "  save_plot = FALSE,                                  # Save the plot automatically\n",
    "  filename = \"Atf3_Lineage2_neural_crest.pdf\",      # Custom filename  \n",
    "  plot_width = 12,                                   # Plot width in inches\n",
    "  plot_height = 8                                    # Plot height in inches\n",
    ")"
   ]
  },
  {
   "cell_type": "code",
   "execution_count": null,
   "id": "66b62260-41c2-4471-b429-0b654d7a2948",
   "metadata": {
    "vscode": {
     "languageId": "r"
    }
   },
   "outputs": [],
   "source": [
    "curves_cmo_lm_epicardium"
   ]
  },
  {
   "cell_type": "code",
   "execution_count": null,
   "id": "bec3ba2b-4339-4579-91e6-ea977db7ed83",
   "metadata": {
    "vscode": {
     "languageId": "r"
    }
   },
   "outputs": [],
   "source": [
    "p_Atf3_cmo_lm_epicardium <- plot_gene_pseudotime(\n",
    "  # === REQUIRED PARAMETERS ===\n",
    "  seurat_obj = cmo_lm_epicardium_xobj,                                    # Your Seurat object\n",
    "  curves_obj = curves_cmo_lm_epicardium,                   # Your slingshot curves object  \n",
    "  gene_name = \"Atf3\",                                # Gene to plot\n",
    "  lineage_name = \"Lineage1\",                         # Which lineage trajectory\n",
    "  \n",
    "  # === ANALYSIS PARAMETERS ===\n",
    "  min_cells = 100,                                   # Minimum cells for major cell types\n",
    "  n_bins = 200,                                       # Number of pseudotime bins\n",
    "  cell_type_column = \"new_subclusters_x\",      # Cell type annotation column\n",
    "  expression_slot = \"data\",                          # Expression data slot (\"data\", \"counts\", \"scale.data\")\n",
    "  \n",
    "  # === VISUALIZATION PARAMETERS ===\n",
    "  color_palette = obj_color_palette,                    # Custom color palette\n",
    "  ylim = c(0, 1.2),                                    # Y-axis limits [min, max]\n",
    " # lineage_destination = \"Neural Crest\",              # Override auto-detected endpoint\n",
    "\n",
    "  exclude_cell_types = c(\"Naive Pluripotency\"),\n",
    " # cell_type_order = c(\"Epiblast\", \"Primitive Streak\"),\n",
    "        show_subtitle = FALSE,\n",
    "    \n",
    "  # === OUTPUT PARAMETERS ===\n",
    "  save_plot = FALSE,                                  # Save the plot automatically\n",
    "  filename = \"Atf3_Lineage2_neural_crest.pdf\",      # Custom filename  \n",
    "  plot_width = 12,                                   # Plot width in inches\n",
    "  plot_height = 8                                    # Plot height in inches\n",
    ")"
   ]
  },
  {
   "cell_type": "code",
   "execution_count": null,
   "id": "085f5063-c917-44b6-8b22-2f3c9081183f",
   "metadata": {
    "vscode": {
     "languageId": "r"
    }
   },
   "outputs": [],
   "source": [
    "options(repr.plot.width = 10, repr.plot.height = 5)\n",
    "print(p_Atf3_cmo_lm_epicardium)\n",
    "print(p_Atf3_cmo_lm_allantois)\n",
    "print(p_Atf3_cmo_lm_limb_mesoderm)\n",
    "print(p_Atf3_cmo_lm_mesenchyme)"
   ]
  },
  {
   "cell_type": "markdown",
   "id": "7c31351b-32cf-4d21-a25f-7bbd38b0a7d3",
   "metadata": {},
   "source": [
    "## in vivo lm"
   ]
  },
  {
   "cell_type": "code",
   "execution_count": null,
   "id": "e82f3241-2bc0-4749-95a4-14671ad73e2f",
   "metadata": {
    "vscode": {
     "languageId": "r"
    }
   },
   "outputs": [],
   "source": [
    "# after crush\n",
    "atlas_lm_xobj <- readRDS('./atlas_latemesoderm_lineage.rds') # it should be v4 actually.\n",
    "lineages_atlas_lm <- readRDS('./atlas_late_Mesoderm_slingshot_lin.rds')\n",
    "curves_atlas_lm <- readRDS('./atlas_late_mesoderm_slingshot_curves.rds')"
   ]
  },
  {
   "cell_type": "code",
   "execution_count": null,
   "id": "504ce769-f1e5-46b9-9563-9eafcdadb02d",
   "metadata": {
    "vscode": {
     "languageId": "r"
    }
   },
   "outputs": [],
   "source": [
    "atlas_lm_xobj"
   ]
  },
  {
   "cell_type": "code",
   "execution_count": null,
   "id": "bc78d1c1-7118-4e52-94bb-ab0d7109f6df",
   "metadata": {
    "vscode": {
     "languageId": "r"
    }
   },
   "outputs": [],
   "source": [
    "curves_atlas_lm"
   ]
  },
  {
   "cell_type": "code",
   "execution_count": null,
   "id": "9c44bd2a-e369-4aef-90da-7d5728b537be",
   "metadata": {
    "scrolled": true,
    "vscode": {
     "languageId": "r"
    }
   },
   "outputs": [],
   "source": [
    "p_Atf3_atlas_lm_mesenchyme <- plot_gene_pseudotime(\n",
    "  # === REQUIRED PARAMETERS ===\n",
    "  seurat_obj = atlas_lm_xobj,                                    # Your Seurat object\n",
    "  curves_obj = curves_atlas_lm,                 # Your slingshot curves object  \n",
    "  gene_name = \"Atf3\",                                # Gene to plot\n",
    "  lineage_name = \"Lineage1\",                         # Which lineage trajectory\n",
    "  \n",
    "  # === ANALYSIS PARAMETERS ===\n",
    "  min_cells = 100,                                   # Minimum cells for major cell types\n",
    "  n_bins = 200,                                       # Number of pseudotime bins\n",
    "  cell_type_column = \"celltype_extended_atlas\",      # Cell type annotation column\n",
    "  expression_slot = \"data\",                          # Expression data slot (\"data\", \"counts\", \"scale.data\")\n",
    "  \n",
    "  # === VISUALIZATION PARAMETERS ===\n",
    "  color_palette = atlas_color_palette,                    # Custom color palette\n",
    "  ylim = c(0, 0.5),                                    # Y-axis limits [min, max]\n",
    " # lineage_destination = \"Neural Crest\",              # Override auto-detected endpoint\n",
    "        show_subtitle = FALSE,\n",
    "  \n",
    "  # === OUTPUT PARAMETERS ===\n",
    "  save_plot = FALSE,                                  # Save the plot automatically\n",
    "  filename = \"Atf3_Lineage2_neural_crest.pdf\",      # Custom filename  \n",
    "  plot_width = 12,                                   # Plot width in inches\n",
    "  plot_height = 8                                    # Plot height in inches\n",
    ")"
   ]
  },
  {
   "cell_type": "code",
   "execution_count": null,
   "id": "c7dc5f1c-7d65-4d33-ae70-31274d266363",
   "metadata": {
    "scrolled": true,
    "vscode": {
     "languageId": "r"
    }
   },
   "outputs": [],
   "source": [
    "p_Atf3_atlas_lm_limb_mesoderm <- plot_gene_pseudotime(\n",
    "  # === REQUIRED PARAMETERS ===\n",
    "  seurat_obj = atlas_lm_xobj,                                    # Your Seurat object\n",
    "  curves_obj = curves_atlas_lm,                 # Your slingshot curves object  \n",
    "  gene_name = \"Atf3\",                                # Gene to plot\n",
    "  lineage_name = \"Lineage4\",                         # Which lineage trajectory\n",
    "  \n",
    "  # === ANALYSIS PARAMETERS ===\n",
    "  min_cells = 100,                                   # Minimum cells for major cell types\n",
    "  n_bins = 200,                                       # Number of pseudotime bins\n",
    "  cell_type_column = \"celltype_extended_atlas\",      # Cell type annotation column\n",
    "  expression_slot = \"data\",                          # Expression data slot (\"data\", \"counts\", \"scale.data\")\n",
    "  \n",
    "  # === VISUALIZATION PARAMETERS ===\n",
    "  color_palette = atlas_color_palette,                    # Custom color palette\n",
    "  ylim = c(0, 0.5),                                    # Y-axis limits [min, max]\n",
    " # lineage_destination = \"Neural Crest\",              # Override auto-detected endpoint\n",
    "        show_subtitle = FALSE,\n",
    "  \n",
    "  # === OUTPUT PARAMETERS ===\n",
    "  save_plot = FALSE,                                  # Save the plot automatically\n",
    "  filename = \"Atf3_Lineage2_neural_crest.pdf\",      # Custom filename  \n",
    "  plot_width = 12,                                   # Plot width in inches\n",
    "  plot_height = 8                                    # Plot height in inches\n",
    ")"
   ]
  },
  {
   "cell_type": "code",
   "execution_count": null,
   "id": "8f1c00d5-cd74-4867-a96c-e8c7b22fa2fe",
   "metadata": {
    "scrolled": true,
    "vscode": {
     "languageId": "r"
    }
   },
   "outputs": [],
   "source": [
    "p_Atf3_atlas_lm_allantois <- plot_gene_pseudotime(\n",
    "  # === REQUIRED PARAMETERS ===\n",
    "  seurat_obj = atlas_lm_xobj,                                    # Your Seurat object\n",
    "  curves_obj = curves_atlas_lm,                  # Your slingshot curves object  \n",
    "  gene_name = \"Atf3\",                                # Gene to plot\n",
    "  lineage_name = \"Lineage2\",                         # Which lineage trajectory\n",
    "  \n",
    "  # === ANALYSIS PARAMETERS ===\n",
    "  min_cells = 100,                                   # Minimum cells for major cell types\n",
    "  n_bins = 200,                                       # Number of pseudotime bins\n",
    "  cell_type_column = \"celltype_extended_atlas\",      # Cell type annotation column\n",
    "  expression_slot = \"data\",                          # Expression data slot (\"data\", \"counts\", \"scale.data\")\n",
    "  \n",
    "  # === VISUALIZATION PARAMETERS ===\n",
    "  color_palette = atlas_color_palette,                    # Custom color palette\n",
    "  ylim = c(0, 0.5),                                    # Y-axis limits [min, max]\n",
    " # lineage_destination = \"Neural Crest\",              # Override auto-detected endpoint\n",
    "        show_subtitle = FALSE,\n",
    "  \n",
    "  # === OUTPUT PARAMETERS ===\n",
    "  save_plot = FALSE,                                  # Save the plot automatically\n",
    "  filename = \"Atf3_Lineage2_neural_crest.pdf\",      # Custom filename  \n",
    "  plot_width = 12,                                   # Plot width in inches\n",
    "  plot_height = 8                                    # Plot height in inches\n",
    ")"
   ]
  },
  {
   "cell_type": "code",
   "execution_count": null,
   "id": "2e7f412c-1e5d-45a4-aa7c-c20f1c0f620d",
   "metadata": {
    "vscode": {
     "languageId": "r"
    }
   },
   "outputs": [],
   "source": [
    "p_Atf3_atlas_lm_epicardium <- plot_gene_pseudotime(\n",
    "  # === REQUIRED PARAMETERS ===\n",
    "  seurat_obj = atlas_lm_xobj,                                    # Your Seurat object\n",
    "  curves_obj = curves_atlas_lm,                   # Your slingshot curves object  \n",
    "  gene_name = \"Atf3\",                                # Gene to plot\n",
    "  lineage_name = \"Lineage3\",                         # Which lineage trajectory\n",
    "  \n",
    "  # === ANALYSIS PARAMETERS ===\n",
    "  min_cells = 100,                                   # Minimum cells for major cell types\n",
    "  n_bins = 200,                                       # Number of pseudotime bins\n",
    "  cell_type_column = \"celltype_extended_atlas\",      # Cell type annotation column\n",
    "  expression_slot = \"data\",                          # Expression data slot (\"data\", \"counts\", \"scale.data\")\n",
    "  \n",
    "  # === VISUALIZATION PARAMETERS ===\n",
    "  color_palette = atlas_color_palette,                    # Custom color palette\n",
    "  ylim = c(0, 0.5),                                    # Y-axis limits [min, max]\n",
    " # lineage_destination = \"Neural Crest\",              # Override auto-detected endpoint\n",
    "        show_subtitle = FALSE,\n",
    "  \n",
    "  # === OUTPUT PARAMETERS ===\n",
    "  save_plot = FALSE,                                  # Save the plot automatically\n",
    "  filename = \"Atf3_Lineage2_neural_crest.pdf\",      # Custom filename  \n",
    "  plot_width = 12,                                   # Plot width in inches\n",
    "  plot_height = 8                                    # Plot height in inches\n",
    ")"
   ]
  },
  {
   "cell_type": "code",
   "execution_count": null,
   "id": "2ff32184-d2f0-4d4b-8ebb-dc43f60ea368",
   "metadata": {
    "vscode": {
     "languageId": "r"
    }
   },
   "outputs": [],
   "source": [
    "options(repr.plot.width = 10, repr.plot.height = 5)\n",
    "print(p_Atf3_atlas_lm_epicardium)\n",
    "print(p_Atf3_atlas_lm_allantois)\n",
    "print(p_Atf3_atlas_lm_limb_mesoderm)\n",
    "print(p_Atf3_atlas_lm_mesenchyme)"
   ]
  },
  {
   "cell_type": "markdown",
   "id": "4b9b94f0-e0c4-48f2-b904-ae4e1b6047c5",
   "metadata": {},
   "source": [
    "## lM"
   ]
  },
  {
   "cell_type": "code",
   "execution_count": null,
   "id": "e59376c7-0924-40d4-b9a0-89e7973ec33c",
   "metadata": {
    "vscode": {
     "languageId": "r"
    }
   },
   "outputs": [],
   "source": [
    "options(repr.plot.width = 30, repr.plot.height = 9)\n",
    "plot_grid(\n",
    "    p_Atf3_atlas_lm_allantois,p_Atf3_atlas_lm_epicardium, p_Atf3_atlas_lm_limb_mesoderm, p_Atf3_atlas_lm_mesenchyme,\n",
    "    p_Atf3_cmo_lm_allantois, p_Atf3_cmo_lm_epicardium, p_Atf3_cmo_lm_limb_mesoderm, p_Atf3_cmo_lm_mesenchyme,\n",
    "    ncol =  4\n",
    ")"
   ]
  },
  {
   "cell_type": "code",
   "execution_count": null,
   "id": "bbdd8854-430a-4121-910e-8d93afdd817a",
   "metadata": {
    "vscode": {
     "languageId": "r"
    }
   },
   "outputs": [],
   "source": []
  },
  {
   "cell_type": "code",
   "execution_count": null,
   "id": "e85681ac-94ee-4c37-a514-49b33ea80123",
   "metadata": {
    "vscode": {
     "languageId": "r"
    }
   },
   "outputs": [],
   "source": [
    "obj <- readRDS('../../cmo_version4.rds')\n",
    "obj"
   ]
  },
  {
   "cell_type": "code",
   "execution_count": null,
   "id": "b1ddd142-3fce-4e8d-b54f-7fe466393105",
   "metadata": {
    "vscode": {
     "languageId": "r"
    }
   },
   "outputs": [],
   "source": [
    "DotPlot(obj, features = 'Tbx4', group.by = 'new_subclusters_x' )"
   ]
  },
  {
   "cell_type": "code",
   "execution_count": null,
   "id": "bd1192f5-9c75-4add-b5d1-7dd143db868c",
   "metadata": {
    "vscode": {
     "languageId": "r"
    }
   },
   "outputs": [],
   "source": []
  },
  {
   "cell_type": "code",
   "execution_count": null,
   "id": "bf3b3522-894a-4755-afbb-acbd23ab251c",
   "metadata": {
    "vscode": {
     "languageId": "r"
    }
   },
   "outputs": [],
   "source": []
  },
  {
   "cell_type": "code",
   "execution_count": null,
   "id": "44346343-d550-4e52-8c78-148c5f8f7b30",
   "metadata": {
    "vscode": {
     "languageId": "r"
    }
   },
   "outputs": [],
   "source": []
  },
  {
   "cell_type": "markdown",
   "id": "0a41df2d-8865-41bc-bfc0-508985638e70",
   "metadata": {},
   "source": [
    "# Zfp711 - LM"
   ]
  },
  {
   "cell_type": "markdown",
   "id": "6d4a054c-3f47-4d2b-ac8b-1b6901b50a07",
   "metadata": {},
   "source": [
    "## in vitro lm"
   ]
  },
  {
   "cell_type": "code",
   "execution_count": null,
   "id": "326f3520-e656-4596-9e8e-6f08c397c899",
   "metadata": {
    "scrolled": true,
    "vscode": {
     "languageId": "r"
    }
   },
   "outputs": [],
   "source": [
    "p_Zfp711_cmo_lm_mesenchyme <- plot_gene_pseudotime(\n",
    "  # === REQUIRED PARAMETERS ===\n",
    "  seurat_obj = cmo_lm_mesenchyme_xobj,                                    # Your Seurat object\n",
    "  curves_obj = curves_cmo_lm_mesenchyme,                   # Your slingshot curves object  \n",
    "  gene_name = \"Zfp711\",                                # Gene to plot\n",
    "  lineage_name = \"Lineage1\",                         # Which lineage trajectory\n",
    "  \n",
    "  # === ANALYSIS PARAMETERS ===\n",
    "  min_cells = 100,                                   # Minimum cells for major cell types\n",
    "  n_bins = 200,                                       # Number of pseudotime bins\n",
    "  cell_type_column = \"new_subclusters_x\",      # Cell type annotation column\n",
    "  expression_slot = \"data\",                          # Expression data slot (\"data\", \"counts\", \"scale.data\")\n",
    "  \n",
    "  # === VISUALIZATION PARAMETERS ===\n",
    "  color_palette = obj_color_palette,                    # Custom color palette\n",
    "  ylim = c(0, 1.2),                                    # Y-axis limits [min, max]\n",
    " # lineage_destination = \"Neural Crest\",              # Override auto-detected endpoint\n",
    "\n",
    "  exclude_cell_types = c(\"Naive Pluripotency\"),\n",
    " # cell_type_order = c(\"Epiblast\", \"Primitive Streak\"),\n",
    "        show_subtitle = FALSE,\n",
    "  \n",
    "  # === OUTPUT PARAMETERS ===\n",
    "  save_plot = FALSE,                                  # Save the plot automatically\n",
    "  filename = \"Zfp711_Lineage2_neural_crest.pdf\",      # Custom filename  \n",
    "  plot_width = 12,                                   # Plot width in inches\n",
    "  plot_height = 8                                    # Plot height in inches\n",
    ")"
   ]
  },
  {
   "cell_type": "code",
   "execution_count": null,
   "id": "969f7915-b4a7-469d-a2a1-c1c3416201e2",
   "metadata": {
    "vscode": {
     "languageId": "r"
    }
   },
   "outputs": [],
   "source": [
    "curves_cmo_lm_limb_mesoderm"
   ]
  },
  {
   "cell_type": "code",
   "execution_count": null,
   "id": "54d3a122-59c3-4710-93b8-3009d5c1d817",
   "metadata": {
    "scrolled": true,
    "vscode": {
     "languageId": "r"
    }
   },
   "outputs": [],
   "source": [
    "p_Zfp711_cmo_lm_limb_mesoderm <- plot_gene_pseudotime(\n",
    "  # === REQUIRED PARAMETERS ===\n",
    "  seurat_obj = cmo_lm_limb_mesoderm_xobj,                                    # Your Seurat object\n",
    "  curves_obj = curves_cmo_lm_limb_mesoderm,                   # Your slingshot curves object  \n",
    "  gene_name = \"Zfp711\",                                # Gene to plot\n",
    "  lineage_name = \"Lineage1\",                         # Which lineage trajectory\n",
    "  \n",
    "  # === ANALYSIS PARAMETERS ===\n",
    "  min_cells = 100,                                   # Minimum cells for major cell types\n",
    "  n_bins = 200,                                       # Number of pseudotime bins\n",
    "  cell_type_column = \"new_subclusters_x\",      # Cell type annotation column\n",
    "  expression_slot = \"data\",                          # Expression data slot (\"data\", \"counts\", \"scale.data\")\n",
    "  \n",
    "  # === VISUALIZATION PARAMETERS ===\n",
    "  color_palette = obj_color_palette,                    # Custom color palette\n",
    "  ylim = c(0, 1.2),                                    # Y-axis limits [min, max]\n",
    " # lineage_destination = \"Neural Crest\",              # Override auto-detected endpoint\n",
    " \n",
    " exclude_cell_types = c(\"Naive Pluripotency\"),\n",
    " # cell_type_order = c(\"Epiblast\", \"Primitive Streak\"),\n",
    "        show_subtitle = FALSE,\n",
    "  \n",
    "  # === OUTPUT PARAMETERS ===\n",
    "  save_plot = FALSE,                                  # Save the plot automatically\n",
    "  filename = \"Zfp711_Lineage2_neural_crest.pdf\",      # Custom filename  \n",
    "  plot_width = 12,                                   # Plot width in inches\n",
    "  plot_height = 8                                    # Plot height in inches\n",
    ")"
   ]
  },
  {
   "cell_type": "code",
   "execution_count": null,
   "id": "d2e410ef-3334-4ee1-86db-1422adda5dcc",
   "metadata": {
    "vscode": {
     "languageId": "r"
    }
   },
   "outputs": [],
   "source": [
    "curves_cmo_lm_allantois"
   ]
  },
  {
   "cell_type": "code",
   "execution_count": null,
   "id": "d25702e2-aa3b-46ce-9514-11653b711b70",
   "metadata": {
    "scrolled": true,
    "vscode": {
     "languageId": "r"
    }
   },
   "outputs": [],
   "source": [
    "p_Zfp711_cmo_lm_allantois <- plot_gene_pseudotime(\n",
    "  # === REQUIRED PARAMETERS ===\n",
    "  seurat_obj = cmo_lm_allantois_xobj,                                    # Your Seurat object\n",
    "  curves_obj = curves_cmo_lm_allantois,                   # Your slingshot curves object  \n",
    "  gene_name = \"Zfp711\",                                # Gene to plot\n",
    "  lineage_name = \"Lineage1\",                         # Which lineage trajectory\n",
    "  \n",
    "  # === ANALYSIS PARAMETERS ===\n",
    "  min_cells = 100,                                   # Minimum cells for major cell types\n",
    "  n_bins = 200,                                       # Number of pseudotime bins\n",
    "  cell_type_column = \"new_subclusters_x\",      # Cell type annotation column\n",
    "  expression_slot = \"data\",                          # Expression data slot (\"data\", \"counts\", \"scale.data\")\n",
    "  \n",
    "  # === VISUALIZATION PARAMETERS ===\n",
    "  color_palette = obj_color_palette,                    # Custom color palette\n",
    "  ylim = c(0, 1.2),                                    # Y-axis limits [min, max]\n",
    " # lineage_destination = \"Neural Crest\",              # Override auto-detected endpoint\n",
    "\n",
    "  exclude_cell_types = c(\"Naive Pluripotency\"),\n",
    " # cell_type_order = c(\"Epiblast\", \"Primitive Streak\"),\n",
    "        show_subtitle = FALSE,\n",
    "    \n",
    "  # === OUTPUT PARAMETERS ===\n",
    "  save_plot = FALSE,                                  # Save the plot automatically\n",
    "  filename = \"Zfp711_Lineage2_neural_crest.pdf\",      # Custom filename  \n",
    "  plot_width = 12,                                   # Plot width in inches\n",
    "  plot_height = 8                                    # Plot height in inches\n",
    ")"
   ]
  },
  {
   "cell_type": "code",
   "execution_count": null,
   "id": "07dd2d6d-9357-4e8d-adda-398cf4bc86a7",
   "metadata": {
    "vscode": {
     "languageId": "r"
    }
   },
   "outputs": [],
   "source": [
    "curves_cmo_lm_epicardium"
   ]
  },
  {
   "cell_type": "code",
   "execution_count": null,
   "id": "223774bd-9901-4ab0-9d55-5a919bc7aefc",
   "metadata": {
    "vscode": {
     "languageId": "r"
    }
   },
   "outputs": [],
   "source": [
    "p_Zfp711_cmo_lm_epicardium <- plot_gene_pseudotime(\n",
    "  # === REQUIRED PARAMETERS ===\n",
    "  seurat_obj = cmo_lm_epicardium_xobj,                                    # Your Seurat object\n",
    "  curves_obj = curves_cmo_lm_epicardium,                   # Your slingshot curves object  \n",
    "  gene_name = \"Zfp711\",                                # Gene to plot\n",
    "  lineage_name = \"Lineage1\",                         # Which lineage trajectory\n",
    "  \n",
    "  # === ANALYSIS PARAMETERS ===\n",
    "  min_cells = 100,                                   # Minimum cells for major cell types\n",
    "  n_bins = 200,                                       # Number of pseudotime bins\n",
    "  cell_type_column = \"new_subclusters_x\",      # Cell type annotation column\n",
    "  expression_slot = \"data\",                          # Expression data slot (\"data\", \"counts\", \"scale.data\")\n",
    "  \n",
    "  # === VISUALIZATION PARAMETERS ===\n",
    "  color_palette = obj_color_palette,                    # Custom color palette\n",
    "  ylim = c(0, 1.2),                                    # Y-axis limits [min, max]\n",
    " # lineage_destination = \"Neural Crest\",              # Override auto-detected endpoint\n",
    "\n",
    "  exclude_cell_types = c(\"Naive Pluripotency\"),\n",
    " # cell_type_order = c(\"Epiblast\", \"Primitive Streak\"),\n",
    "        show_subtitle = FALSE,\n",
    "    \n",
    "  # === OUTPUT PARAMETERS ===\n",
    "  save_plot = FALSE,                                  # Save the plot automatically\n",
    "  filename = \"Zfp711_Lineage2_neural_crest.pdf\",      # Custom filename  \n",
    "  plot_width = 12,                                   # Plot width in inches\n",
    "  plot_height = 8                                    # Plot height in inches\n",
    ")"
   ]
  },
  {
   "cell_type": "code",
   "execution_count": null,
   "id": "5b1fcb4e-0659-4291-983d-0c007107ac77",
   "metadata": {
    "vscode": {
     "languageId": "r"
    }
   },
   "outputs": [],
   "source": [
    "options(repr.plot.width = 10, repr.plot.height = 5)\n",
    "print(p_Zfp711_cmo_lm_epicardium)\n",
    "print(p_Zfp711_cmo_lm_allantois)\n",
    "print(p_Zfp711_cmo_lm_limb_mesoderm)\n",
    "print(p_Zfp711_cmo_lm_mesenchyme)"
   ]
  },
  {
   "cell_type": "markdown",
   "id": "331d1425-6b43-4bd3-bd06-6f76446ae162",
   "metadata": {},
   "source": [
    "## in vivo lm"
   ]
  },
  {
   "cell_type": "code",
   "execution_count": null,
   "id": "56198600-d86e-43df-81f5-cb13cf1e831b",
   "metadata": {
    "vscode": {
     "languageId": "r"
    }
   },
   "outputs": [],
   "source": [
    "# after crush\n",
    "atlas_lm_xobj <- readRDS('./atlas_latemesoderm_lineage.rds') # it should be v4 actually.\n",
    "lineages_atlas_lm <- readRDS('./atlas_late_Mesoderm_slingshot_lin.rds')\n",
    "curves_atlas_lm <- readRDS('./atlas_late_mesoderm_slingshot_curves.rds')"
   ]
  },
  {
   "cell_type": "code",
   "execution_count": null,
   "id": "7833f7c0-d24c-46f0-8630-89e11e6cd56b",
   "metadata": {
    "vscode": {
     "languageId": "r"
    }
   },
   "outputs": [],
   "source": [
    "atlas_lm_xobj"
   ]
  },
  {
   "cell_type": "code",
   "execution_count": null,
   "id": "fe4a97a9-da46-48d3-a71e-22a6ffc7df1a",
   "metadata": {
    "vscode": {
     "languageId": "r"
    }
   },
   "outputs": [],
   "source": [
    "curves_atlas_lm"
   ]
  },
  {
   "cell_type": "code",
   "execution_count": null,
   "id": "295dbe71-c4ed-4de7-ba98-2d59a85d9c36",
   "metadata": {
    "scrolled": true,
    "vscode": {
     "languageId": "r"
    }
   },
   "outputs": [],
   "source": [
    "p_Zfp711_atlas_lm_mesenchyme <- plot_gene_pseudotime(\n",
    "  # === REQUIRED PARAMETERS ===\n",
    "  seurat_obj = atlas_lm_xobj,                                    # Your Seurat object\n",
    "  curves_obj = curves_atlas_lm,                 # Your slingshot curves object  \n",
    "  gene_name = \"Zfp711\",                                # Gene to plot\n",
    "  lineage_name = \"Lineage1\",                         # Which lineage trajectory\n",
    "  \n",
    "  # === ANALYSIS PARAMETERS ===\n",
    "  min_cells = 100,                                   # Minimum cells for major cell types\n",
    "  n_bins = 200,                                       # Number of pseudotime bins\n",
    "  cell_type_column = \"celltype_extended_atlas\",      # Cell type annotation column\n",
    "  expression_slot = \"data\",                          # Expression data slot (\"data\", \"counts\", \"scale.data\")\n",
    "  \n",
    "  # === VISUALIZATION PARAMETERS ===\n",
    "  color_palette = atlas_color_palette,                    # Custom color palette\n",
    "  ylim = c(0, 0.5),                                    # Y-axis limits [min, max]\n",
    " # lineage_destination = \"Neural Crest\",              # Override auto-detected endpoint\n",
    "        show_subtitle = FALSE,\n",
    "  \n",
    "  # === OUTPUT PARAMETERS ===\n",
    "  save_plot = FALSE,                                  # Save the plot automatically\n",
    "  filename = \"Zfp711_Lineage2_neural_crest.pdf\",      # Custom filename  \n",
    "  plot_width = 12,                                   # Plot width in inches\n",
    "  plot_height = 8                                    # Plot height in inches\n",
    ")"
   ]
  },
  {
   "cell_type": "code",
   "execution_count": null,
   "id": "6d432f88-79d6-4fd7-a88a-a9860b547989",
   "metadata": {
    "scrolled": true,
    "vscode": {
     "languageId": "r"
    }
   },
   "outputs": [],
   "source": [
    "p_Zfp711_atlas_lm_limb_mesoderm <- plot_gene_pseudotime(\n",
    "  # === REQUIRED PARAMETERS ===\n",
    "  seurat_obj = atlas_lm_xobj,                                    # Your Seurat object\n",
    "  curves_obj = curves_atlas_lm,                 # Your slingshot curves object  \n",
    "  gene_name = \"Zfp711\",                                # Gene to plot\n",
    "  lineage_name = \"Lineage4\",                         # Which lineage trajectory\n",
    "  \n",
    "  # === ANALYSIS PARAMETERS ===\n",
    "  min_cells = 100,                                   # Minimum cells for major cell types\n",
    "  n_bins = 200,                                       # Number of pseudotime bins\n",
    "  cell_type_column = \"celltype_extended_atlas\",      # Cell type annotation column\n",
    "  expression_slot = \"data\",                          # Expression data slot (\"data\", \"counts\", \"scale.data\")\n",
    "  \n",
    "  # === VISUALIZATION PARAMETERS ===\n",
    "  color_palette = atlas_color_palette,                    # Custom color palette\n",
    "  ylim = c(0, 0.5),                                    # Y-axis limits [min, max]\n",
    " # lineage_destination = \"Neural Crest\",              # Override auto-detected endpoint\n",
    "        show_subtitle = FALSE,\n",
    "  \n",
    "  # === OUTPUT PARAMETERS ===\n",
    "  save_plot = FALSE,                                  # Save the plot automatically\n",
    "  filename = \"Zfp711_Lineage2_neural_crest.pdf\",      # Custom filename  \n",
    "  plot_width = 12,                                   # Plot width in inches\n",
    "  plot_height = 8                                    # Plot height in inches\n",
    ")"
   ]
  },
  {
   "cell_type": "code",
   "execution_count": null,
   "id": "436e3549-c1f1-4cfe-927b-b631c8a82824",
   "metadata": {
    "scrolled": true,
    "vscode": {
     "languageId": "r"
    }
   },
   "outputs": [],
   "source": [
    "p_Zfp711_atlas_lm_allantois <- plot_gene_pseudotime(\n",
    "  # === REQUIRED PARAMETERS ===\n",
    "  seurat_obj = atlas_lm_xobj,                                    # Your Seurat object\n",
    "  curves_obj = curves_atlas_lm,                  # Your slingshot curves object  \n",
    "  gene_name = \"Zfp711\",                                # Gene to plot\n",
    "  lineage_name = \"Lineage2\",                         # Which lineage trajectory\n",
    "  \n",
    "  # === ANALYSIS PARAMETERS ===\n",
    "  min_cells = 100,                                   # Minimum cells for major cell types\n",
    "  n_bins = 200,                                       # Number of pseudotime bins\n",
    "  cell_type_column = \"celltype_extended_atlas\",      # Cell type annotation column\n",
    "  expression_slot = \"data\",                          # Expression data slot (\"data\", \"counts\", \"scale.data\")\n",
    "  \n",
    "  # === VISUALIZATION PARAMETERS ===\n",
    "  color_palette = atlas_color_palette,                    # Custom color palette\n",
    "  ylim = c(0, 0.5),                                    # Y-axis limits [min, max]\n",
    " # lineage_destination = \"Neural Crest\",              # Override auto-detected endpoint\n",
    "        show_subtitle = FALSE,\n",
    "  \n",
    "  # === OUTPUT PARAMETERS ===\n",
    "  save_plot = FALSE,                                  # Save the plot automatically\n",
    "  filename = \"Zfp711_Lineage2_neural_crest.pdf\",      # Custom filename  \n",
    "  plot_width = 12,                                   # Plot width in inches\n",
    "  plot_height = 8                                    # Plot height in inches\n",
    ")"
   ]
  },
  {
   "cell_type": "code",
   "execution_count": null,
   "id": "18f0df9e-6a68-4439-93b1-d43f5ef90a53",
   "metadata": {
    "vscode": {
     "languageId": "r"
    }
   },
   "outputs": [],
   "source": [
    "p_Zfp711_atlas_lm_epicardium <- plot_gene_pseudotime(\n",
    "  # === REQUIRED PARAMETERS ===\n",
    "  seurat_obj = atlas_lm_xobj,                                    # Your Seurat object\n",
    "  curves_obj = curves_atlas_lm,                   # Your slingshot curves object  \n",
    "  gene_name = \"Zfp711\",                                # Gene to plot\n",
    "  lineage_name = \"Lineage3\",                         # Which lineage trajectory\n",
    "  \n",
    "  # === ANALYSIS PARAMETERS ===\n",
    "  min_cells = 100,                                   # Minimum cells for major cell types\n",
    "  n_bins = 200,                                       # Number of pseudotime bins\n",
    "  cell_type_column = \"celltype_extended_atlas\",      # Cell type annotation column\n",
    "  expression_slot = \"data\",                          # Expression data slot (\"data\", \"counts\", \"scale.data\")\n",
    "  \n",
    "  # === VISUALIZATION PARAMETERS ===\n",
    "  color_palette = atlas_color_palette,                    # Custom color palette\n",
    "  ylim = c(0, 0.5),                                    # Y-axis limits [min, max]\n",
    " # lineage_destination = \"Neural Crest\",              # Override auto-detected endpoint\n",
    "        show_subtitle = FALSE,\n",
    "  \n",
    "  # === OUTPUT PARAMETERS ===\n",
    "  save_plot = FALSE,                                  # Save the plot automatically\n",
    "  filename = \"Zfp711_Lineage2_neural_crest.pdf\",      # Custom filename  \n",
    "  plot_width = 12,                                   # Plot width in inches\n",
    "  plot_height = 8                                    # Plot height in inches\n",
    ")"
   ]
  },
  {
   "cell_type": "code",
   "execution_count": null,
   "id": "f052003a-eb6c-4eb0-a6ff-7608dc642e56",
   "metadata": {
    "vscode": {
     "languageId": "r"
    }
   },
   "outputs": [],
   "source": [
    "options(repr.plot.width = 10, repr.plot.height = 5)\n",
    "print(p_Zfp711_atlas_lm_epicardium)\n",
    "print(p_Zfp711_atlas_lm_allantois)\n",
    "print(p_Zfp711_atlas_lm_limb_mesoderm)\n",
    "print(p_Zfp711_atlas_lm_mesenchyme)"
   ]
  },
  {
   "cell_type": "markdown",
   "id": "1471052c-7ca0-4ea0-982e-69467f416ca1",
   "metadata": {},
   "source": [
    "## lM"
   ]
  },
  {
   "cell_type": "code",
   "execution_count": null,
   "id": "ff5cb1a9-7212-4f93-adfa-6ba53eefcb48",
   "metadata": {
    "vscode": {
     "languageId": "r"
    }
   },
   "outputs": [],
   "source": [
    "options(repr.plot.width = 30, repr.plot.height = 9)\n",
    "plot_grid(\n",
    "    p_Zfp711_atlas_lm_allantois,p_Zfp711_atlas_lm_epicardium, p_Zfp711_atlas_lm_limb_mesoderm, p_Zfp711_atlas_lm_mesenchyme,\n",
    "    p_Zfp711_cmo_lm_allantois, p_Zfp711_cmo_lm_epicardium, p_Zfp711_cmo_lm_limb_mesoderm, p_Zfp711_cmo_lm_mesenchyme,\n",
    "    ncol =  4\n",
    ")"
   ]
  },
  {
   "cell_type": "code",
   "execution_count": null,
   "id": "7994a7f3-21b1-425b-8bb3-edafcced25d7",
   "metadata": {
    "vscode": {
     "languageId": "r"
    }
   },
   "outputs": [],
   "source": []
  },
  {
   "cell_type": "markdown",
   "id": "22222315-0614-4a66-9d81-7a35329715ad",
   "metadata": {},
   "source": [
    "# Bcl6b - LM"
   ]
  },
  {
   "cell_type": "markdown",
   "id": "e91587a9-a0cf-4453-9e0e-16e74c6dd9f5",
   "metadata": {},
   "source": [
    "## in vitro lm"
   ]
  },
  {
   "cell_type": "code",
   "execution_count": null,
   "id": "55da4431-1306-4be6-b5ff-a534dea4af0c",
   "metadata": {
    "vscode": {
     "languageId": "r"
    }
   },
   "outputs": [],
   "source": [
    "curves_cmo_lm_mesenchyme"
   ]
  },
  {
   "cell_type": "code",
   "execution_count": null,
   "id": "54fc6713-a2ee-440b-b037-0e0ccccb80a8",
   "metadata": {
    "scrolled": true,
    "vscode": {
     "languageId": "r"
    }
   },
   "outputs": [],
   "source": [
    "p_Bcl6b_cmo_lm_mesenchyme <- plot_gene_pseudotime(\n",
    "  # === REQUIRED PARAMETERS ===\n",
    "  seurat_obj = cmo_lm_mesenchyme_xobj,                                    # Your Seurat object\n",
    "  curves_obj = curves_cmo_lm_mesenchyme,                   # Your slingshot curves object  \n",
    "  gene_name = \"Bcl6b\",                                # Gene to plot\n",
    "  lineage_name = \"Lineage1\",                         # Which lineage trajectory\n",
    "  \n",
    "  # === ANALYSIS PARAMETERS ===\n",
    "  min_cells = 100,                                   # Minimum cells for major cell types\n",
    "  n_bins = 200,                                       # Number of pseudotime bins\n",
    "  cell_type_column = \"new_subclusters_x\",      # Cell type annotation column\n",
    "  expression_slot = \"data\",                          # Expression data slot (\"data\", \"counts\", \"scale.data\")\n",
    "  \n",
    "  # === VISUALIZATION PARAMETERS ===\n",
    "  color_palette = obj_color_palette,                    # Custom color palette\n",
    "  ylim = c(0, 1.2),                                    # Y-axis limits [min, max]\n",
    " # lineage_destination = \"Neural Crest\",              # Override auto-detected endpoint\n",
    "\n",
    "  exclude_cell_types = c(\"Naive Pluripotency\"),\n",
    " # cell_type_order = c(\"Epiblast\", \"Primitive Streak\"),\n",
    "        show_subtitle = FALSE,\n",
    "  \n",
    "  # === OUTPUT PARAMETERS ===\n",
    "  save_plot = FALSE,                                  # Save the plot automatically\n",
    "  filename = \"Bcl6b_Lineage2_neural_crest.pdf\",      # Custom filename  \n",
    "  plot_width = 12,                                   # Plot width in inches\n",
    "  plot_height = 8                                    # Plot height in inches\n",
    ")"
   ]
  },
  {
   "cell_type": "code",
   "execution_count": null,
   "id": "c0bc9201-6b00-4187-ada6-0ab17626a196",
   "metadata": {
    "vscode": {
     "languageId": "r"
    }
   },
   "outputs": [],
   "source": [
    "curves_cmo_lm_limb_mesoderm"
   ]
  },
  {
   "cell_type": "code",
   "execution_count": null,
   "id": "51c66eb3-dc9f-4844-8375-94891a427d34",
   "metadata": {
    "scrolled": true,
    "vscode": {
     "languageId": "r"
    }
   },
   "outputs": [],
   "source": [
    "p_Bcl6b_cmo_lm_limb_mesoderm <- plot_gene_pseudotime(\n",
    "  # === REQUIRED PARAMETERS ===\n",
    "  seurat_obj = cmo_lm_limb_mesoderm_xobj,                                    # Your Seurat object\n",
    "  curves_obj = curves_cmo_lm_limb_mesoderm,                   # Your slingshot curves object  \n",
    "  gene_name = \"Bcl6b\",                                # Gene to plot\n",
    "  lineage_name = \"Lineage1\",                         # Which lineage trajectory\n",
    "  \n",
    "  # === ANALYSIS PARAMETERS ===\n",
    "  min_cells = 100,                                   # Minimum cells for major cell types\n",
    "  n_bins = 200,                                       # Number of pseudotime bins\n",
    "  cell_type_column = \"new_subclusters_x\",      # Cell type annotation column\n",
    "  expression_slot = \"data\",                          # Expression data slot (\"data\", \"counts\", \"scale.data\")\n",
    "  \n",
    "  # === VISUALIZATION PARAMETERS ===\n",
    "  color_palette = obj_color_palette,                    # Custom color palette\n",
    "  ylim = c(0, 1.2),                                    # Y-axis limits [min, max]\n",
    " # lineage_destination = \"Neural Crest\",              # Override auto-detected endpoint\n",
    " \n",
    " exclude_cell_types = c(\"Naive Pluripotency\"),\n",
    " # cell_type_order = c(\"Epiblast\", \"Primitive Streak\"),\n",
    "        show_subtitle = FALSE,\n",
    "  \n",
    "  # === OUTPUT PARAMETERS ===\n",
    "  save_plot = FALSE,                                  # Save the plot automatically\n",
    "  filename = \"Bcl6b_Lineage2_neural_crest.pdf\",      # Custom filename  \n",
    "  plot_width = 12,                                   # Plot width in inches\n",
    "  plot_height = 8                                    # Plot height in inches\n",
    ")"
   ]
  },
  {
   "cell_type": "code",
   "execution_count": null,
   "id": "8be0d374-bfdb-46f7-8ed2-6de211cc9440",
   "metadata": {
    "vscode": {
     "languageId": "r"
    }
   },
   "outputs": [],
   "source": [
    "curves_cmo_lm_allantois"
   ]
  },
  {
   "cell_type": "code",
   "execution_count": null,
   "id": "6f8d7ec8-a509-4a6b-8a00-3990ed82c515",
   "metadata": {
    "scrolled": true,
    "vscode": {
     "languageId": "r"
    }
   },
   "outputs": [],
   "source": [
    "p_Bcl6b_cmo_lm_allantois <- plot_gene_pseudotime(\n",
    "  # === REQUIRED PARAMETERS ===\n",
    "  seurat_obj = cmo_lm_allantois_xobj,                                    # Your Seurat object\n",
    "  curves_obj = curves_cmo_lm_allantois,                   # Your slingshot curves object  \n",
    "  gene_name = \"Bcl6b\",                                # Gene to plot\n",
    "  lineage_name = \"Lineage1\",                         # Which lineage trajectory\n",
    "  \n",
    "  # === ANALYSIS PARAMETERS ===\n",
    "  min_cells = 100,                                   # Minimum cells for major cell types\n",
    "  n_bins = 200,                                       # Number of pseudotime bins\n",
    "  cell_type_column = \"new_subclusters_x\",      # Cell type annotation column\n",
    "  expression_slot = \"data\",                          # Expression data slot (\"data\", \"counts\", \"scale.data\")\n",
    "  \n",
    "  # === VISUALIZATION PARAMETERS ===\n",
    "  color_palette = obj_color_palette,                    # Custom color palette\n",
    "  ylim = c(0, 1.2),                                    # Y-axis limits [min, max]\n",
    " # lineage_destination = \"Neural Crest\",              # Override auto-detected endpoint\n",
    "\n",
    "  exclude_cell_types = c(\"Naive Pluripotency\"),\n",
    " # cell_type_order = c(\"Epiblast\", \"Primitive Streak\"),\n",
    "        show_subtitle = FALSE,\n",
    "    \n",
    "  # === OUTPUT PARAMETERS ===\n",
    "  save_plot = FALSE,                                  # Save the plot automatically\n",
    "  filename = \"Bcl6b_Lineage2_neural_crest.pdf\",      # Custom filename  \n",
    "  plot_width = 12,                                   # Plot width in inches\n",
    "  plot_height = 8                                    # Plot height in inches\n",
    ")"
   ]
  },
  {
   "cell_type": "code",
   "execution_count": null,
   "id": "caf6823b-3dcf-4dda-b06c-43fbd1c23694",
   "metadata": {
    "vscode": {
     "languageId": "r"
    }
   },
   "outputs": [],
   "source": [
    "curves_cmo_lm_epicardium"
   ]
  },
  {
   "cell_type": "code",
   "execution_count": null,
   "id": "35736386-25f9-4039-9270-1c69c7a7fd2f",
   "metadata": {
    "vscode": {
     "languageId": "r"
    }
   },
   "outputs": [],
   "source": [
    "p_Bcl6b_cmo_lm_epicardium <- plot_gene_pseudotime(\n",
    "  # === REQUIRED PARAMETERS ===\n",
    "  seurat_obj = cmo_lm_epicardium_xobj,                                    # Your Seurat object\n",
    "  curves_obj = curves_cmo_lm_epicardium,                   # Your slingshot curves object  \n",
    "  gene_name = \"Bcl6b\",                                # Gene to plot\n",
    "  lineage_name = \"Lineage1\",                         # Which lineage trajectory\n",
    "  \n",
    "  # === ANALYSIS PARAMETERS ===\n",
    "  min_cells = 100,                                   # Minimum cells for major cell types\n",
    "  n_bins = 200,                                       # Number of pseudotime bins\n",
    "  cell_type_column = \"new_subclusters_x\",      # Cell type annotation column\n",
    "  expression_slot = \"data\",                          # Expression data slot (\"data\", \"counts\", \"scale.data\")\n",
    "  \n",
    "  # === VISUALIZATION PARAMETERS ===\n",
    "  color_palette = obj_color_palette,                    # Custom color palette\n",
    "  ylim = c(0, 1.2),                                    # Y-axis limits [min, max]\n",
    " # lineage_destination = \"Neural Crest\",              # Override auto-detected endpoint\n",
    "\n",
    "  exclude_cell_types = c(\"Naive Pluripotency\"),\n",
    " # cell_type_order = c(\"Epiblast\", \"Primitive Streak\"),\n",
    "        show_subtitle = FALSE,\n",
    "    \n",
    "  # === OUTPUT PARAMETERS ===\n",
    "  save_plot = FALSE,                                  # Save the plot automatically\n",
    "  filename = \"Bcl6b_Lineage2_neural_crest.pdf\",      # Custom filename  \n",
    "  plot_width = 12,                                   # Plot width in inches\n",
    "  plot_height = 8                                    # Plot height in inches\n",
    ")"
   ]
  },
  {
   "cell_type": "code",
   "execution_count": null,
   "id": "10bd792b-3d37-43cd-8184-53702d969692",
   "metadata": {
    "vscode": {
     "languageId": "r"
    }
   },
   "outputs": [],
   "source": [
    "options(repr.plot.width = 10, repr.plot.height = 5)\n",
    "print(p_Bcl6b_cmo_lm_epicardium)\n",
    "print(p_Bcl6b_cmo_lm_allantois)\n",
    "print(p_Bcl6b_cmo_lm_limb_mesoderm)\n",
    "print(p_Bcl6b_cmo_lm_mesenchyme)"
   ]
  },
  {
   "cell_type": "markdown",
   "id": "3aa0f918-0d28-4f3e-9432-e9d487feace1",
   "metadata": {},
   "source": [
    "## in vivo lm"
   ]
  },
  {
   "cell_type": "code",
   "execution_count": null,
   "id": "4d59e7e4-d554-4dc0-9ffd-3a42e35dd15c",
   "metadata": {
    "vscode": {
     "languageId": "r"
    }
   },
   "outputs": [],
   "source": [
    "# after crush\n",
    "atlas_lm_xobj <- readRDS('./atlas_latemesoderm_lineage.rds') # it should be v4 actually.\n",
    "lineages_atlas_lm <- readRDS('./atlas_late_Mesoderm_slingshot_lin.rds')\n",
    "curves_atlas_lm <- readRDS('./atlas_late_mesoderm_slingshot_curves.rds')"
   ]
  },
  {
   "cell_type": "code",
   "execution_count": null,
   "id": "2e75d2f4-ae06-45b2-bafb-54a7d884cfe0",
   "metadata": {
    "vscode": {
     "languageId": "r"
    }
   },
   "outputs": [],
   "source": [
    "atlas_lm_xobj"
   ]
  },
  {
   "cell_type": "code",
   "execution_count": null,
   "id": "76f91da1-4785-4099-a8c9-3123f5771d6e",
   "metadata": {
    "vscode": {
     "languageId": "r"
    }
   },
   "outputs": [],
   "source": [
    "curves_atlas_lm"
   ]
  },
  {
   "cell_type": "code",
   "execution_count": null,
   "id": "9e0c8dcd-7653-4da5-9df3-64660a69e8ed",
   "metadata": {
    "scrolled": true,
    "vscode": {
     "languageId": "r"
    }
   },
   "outputs": [],
   "source": [
    "p_Bcl6b_atlas_lm_mesenchyme <- plot_gene_pseudotime(\n",
    "  # === REQUIRED PARAMETERS ===\n",
    "  seurat_obj = atlas_lm_xobj,                                    # Your Seurat object\n",
    "  curves_obj = curves_atlas_lm,                 # Your slingshot curves object  \n",
    "  gene_name = \"Bcl6b\",                                # Gene to plot\n",
    "  lineage_name = \"Lineage1\",                         # Which lineage trajectory\n",
    "  \n",
    "  # === ANALYSIS PARAMETERS ===\n",
    "  min_cells = 100,                                   # Minimum cells for major cell types\n",
    "  n_bins = 200,                                       # Number of pseudotime bins\n",
    "  cell_type_column = \"celltype_extended_atlas\",      # Cell type annotation column\n",
    "  expression_slot = \"data\",                          # Expression data slot (\"data\", \"counts\", \"scale.data\")\n",
    "  \n",
    "  # === VISUALIZATION PARAMETERS ===\n",
    "  color_palette = atlas_color_palette,                    # Custom color palette\n",
    "  ylim = c(0, 0.5),                                    # Y-axis limits [min, max]\n",
    " # lineage_destination = \"Neural Crest\",              # Override auto-detected endpoint\n",
    "        show_subtitle = FALSE,\n",
    "  \n",
    "  # === OUTPUT PARAMETERS ===\n",
    "  save_plot = FALSE,                                  # Save the plot automatically\n",
    "  filename = \"Bcl6b_Lineage2_neural_crest.pdf\",      # Custom filename  \n",
    "  plot_width = 12,                                   # Plot width in inches\n",
    "  plot_height = 8                                    # Plot height in inches\n",
    ")"
   ]
  },
  {
   "cell_type": "code",
   "execution_count": null,
   "id": "1b6bb650-8295-49bb-9d94-9a174ac5d8e5",
   "metadata": {
    "scrolled": true,
    "vscode": {
     "languageId": "r"
    }
   },
   "outputs": [],
   "source": [
    "p_Bcl6b_atlas_lm_limb_mesoderm <- plot_gene_pseudotime(\n",
    "  # === REQUIRED PARAMETERS ===\n",
    "  seurat_obj = atlas_lm_xobj,                                    # Your Seurat object\n",
    "  curves_obj = curves_atlas_lm,                 # Your slingshot curves object  \n",
    "  gene_name = \"Bcl6b\",                                # Gene to plot\n",
    "  lineage_name = \"Lineage4\",                         # Which lineage trajectory\n",
    "  \n",
    "  # === ANALYSIS PARAMETERS ===\n",
    "  min_cells = 100,                                   # Minimum cells for major cell types\n",
    "  n_bins = 200,                                       # Number of pseudotime bins\n",
    "  cell_type_column = \"celltype_extended_atlas\",      # Cell type annotation column\n",
    "  expression_slot = \"data\",                          # Expression data slot (\"data\", \"counts\", \"scale.data\")\n",
    "  \n",
    "  # === VISUALIZATION PARAMETERS ===\n",
    "  color_palette = atlas_color_palette,                    # Custom color palette\n",
    "  ylim = c(0, 0.5),                                    # Y-axis limits [min, max]\n",
    " # lineage_destination = \"Neural Crest\",              # Override auto-detected endpoint\n",
    "        show_subtitle = FALSE,\n",
    "  \n",
    "  # === OUTPUT PARAMETERS ===\n",
    "  save_plot = FALSE,                                  # Save the plot automatically\n",
    "  filename = \"Bcl6b_Lineage2_neural_crest.pdf\",      # Custom filename  \n",
    "  plot_width = 12,                                   # Plot width in inches\n",
    "  plot_height = 8                                    # Plot height in inches\n",
    ")"
   ]
  },
  {
   "cell_type": "code",
   "execution_count": null,
   "id": "8a444781-c97c-4b24-831f-86dbeb1c78f8",
   "metadata": {
    "scrolled": true,
    "vscode": {
     "languageId": "r"
    }
   },
   "outputs": [],
   "source": [
    "p_Bcl6b_atlas_lm_allantois <- plot_gene_pseudotime(\n",
    "  # === REQUIRED PARAMETERS ===\n",
    "  seurat_obj = atlas_lm_xobj,                                    # Your Seurat object\n",
    "  curves_obj = curves_atlas_lm,                  # Your slingshot curves object  \n",
    "  gene_name = \"Bcl6b\",                                # Gene to plot\n",
    "  lineage_name = \"Lineage2\",                         # Which lineage trajectory\n",
    "  \n",
    "  # === ANALYSIS PARAMETERS ===\n",
    "  min_cells = 100,                                   # Minimum cells for major cell types\n",
    "  n_bins = 200,                                       # Number of pseudotime bins\n",
    "  cell_type_column = \"celltype_extended_atlas\",      # Cell type annotation column\n",
    "  expression_slot = \"data\",                          # Expression data slot (\"data\", \"counts\", \"scale.data\")\n",
    "  \n",
    "  # === VISUALIZATION PARAMETERS ===\n",
    "  color_palette = atlas_color_palette,                    # Custom color palette\n",
    "  ylim = c(0, 0.5),                                    # Y-axis limits [min, max]\n",
    " # lineage_destination = \"Neural Crest\",              # Override auto-detected endpoint\n",
    "        show_subtitle = FALSE,\n",
    "  \n",
    "  # === OUTPUT PARAMETERS ===\n",
    "  save_plot = FALSE,                                  # Save the plot automatically\n",
    "  filename = \"Bcl6b_Lineage2_neural_crest.pdf\",      # Custom filename  \n",
    "  plot_width = 12,                                   # Plot width in inches\n",
    "  plot_height = 8                                    # Plot height in inches\n",
    ")"
   ]
  },
  {
   "cell_type": "code",
   "execution_count": null,
   "id": "bfc55b8f-3ea9-4f8d-bfcd-bb8a926c531c",
   "metadata": {
    "vscode": {
     "languageId": "r"
    }
   },
   "outputs": [],
   "source": [
    "p_Bcl6b_atlas_lm_epicardium <- plot_gene_pseudotime(\n",
    "  # === REQUIRED PARAMETERS ===\n",
    "  seurat_obj = atlas_lm_xobj,                                    # Your Seurat object\n",
    "  curves_obj = curves_atlas_lm,                   # Your slingshot curves object  \n",
    "  gene_name = \"Bcl6b\",                                # Gene to plot\n",
    "  lineage_name = \"Lineage3\",                         # Which lineage trajectory\n",
    "  \n",
    "  # === ANALYSIS PARAMETERS ===\n",
    "  min_cells = 100,                                   # Minimum cells for major cell types\n",
    "  n_bins = 200,                                       # Number of pseudotime bins\n",
    "  cell_type_column = \"celltype_extended_atlas\",      # Cell type annotation column\n",
    "  expression_slot = \"data\",                          # Expression data slot (\"data\", \"counts\", \"scale.data\")\n",
    "  \n",
    "  # === VISUALIZATION PARAMETERS ===\n",
    "  color_palette = atlas_color_palette,                    # Custom color palette\n",
    "  ylim = c(0, 0.5),                                    # Y-axis limits [min, max]\n",
    " # lineage_destination = \"Neural Crest\",              # Override auto-detected endpoint\n",
    "        show_subtitle = FALSE,\n",
    "  \n",
    "  # === OUTPUT PARAMETERS ===\n",
    "  save_plot = FALSE,                                  # Save the plot automatically\n",
    "  filename = \"Bcl6b_Lineage2_neural_crest.pdf\",      # Custom filename  \n",
    "  plot_width = 12,                                   # Plot width in inches\n",
    "  plot_height = 8                                    # Plot height in inches\n",
    ")"
   ]
  },
  {
   "cell_type": "code",
   "execution_count": null,
   "id": "7c950c3f-ff4a-4192-9850-ac432701229c",
   "metadata": {
    "vscode": {
     "languageId": "r"
    }
   },
   "outputs": [],
   "source": [
    "options(repr.plot.width = 10, repr.plot.height = 5)\n",
    "print(p_Bcl6b_atlas_lm_epicardium)\n",
    "print(p_Bcl6b_atlas_lm_allantois)\n",
    "print(p_Bcl6b_atlas_lm_limb_mesoderm)\n",
    "print(p_Bcl6b_atlas_lm_mesenchyme)"
   ]
  },
  {
   "cell_type": "markdown",
   "id": "9460e8dd-049f-42c3-8c85-21e451ba9b46",
   "metadata": {},
   "source": [
    "## lM"
   ]
  },
  {
   "cell_type": "code",
   "execution_count": null,
   "id": "871670b9-3dc6-4e73-ada8-ea19ac049388",
   "metadata": {
    "vscode": {
     "languageId": "r"
    }
   },
   "outputs": [],
   "source": [
    "options(repr.plot.width = 30, repr.plot.height = 9)\n",
    "plot_grid(\n",
    "    p_Bcl6b_atlas_lm_allantois,p_Bcl6b_atlas_lm_epicardium, p_Bcl6b_atlas_lm_limb_mesoderm, p_Bcl6b_atlas_lm_mesenchyme,\n",
    "    p_Bcl6b_cmo_lm_allantois, p_Bcl6b_cmo_lm_epicardium, p_Bcl6b_cmo_lm_limb_mesoderm, p_Bcl6b_cmo_lm_mesenchyme,\n",
    "    ncol =  4\n",
    ")"
   ]
  },
  {
   "cell_type": "code",
   "execution_count": null,
   "id": "a09a0aa9-507c-41eb-ad43-800ae71e2fe3",
   "metadata": {
    "vscode": {
     "languageId": "r"
    }
   },
   "outputs": [],
   "source": []
  },
  {
   "cell_type": "markdown",
   "id": "61ba59d1-1aae-4642-a754-fc574898fe1f",
   "metadata": {},
   "source": [
    "# Atf3 -Blood"
   ]
  },
  {
   "cell_type": "markdown",
   "id": "36c9ab35-e1a8-4ecf-be75-4c9091ca1c5c",
   "metadata": {},
   "source": [
    "## in vitro lm"
   ]
  },
  {
   "cell_type": "code",
   "execution_count": null,
   "id": "fbb93d50-5aa9-4d72-ac75-a0c5dc229445",
   "metadata": {
    "vscode": {
     "languageId": "r"
    }
   },
   "outputs": [],
   "source": [
    "cmo_hep_xobj <- readRDS('./cmo_v3_HEP_lineage.rds')\n",
    "curves_cmo_hep <- readRDS('./cmo_v3_hep_slingshot_curves.rds')"
   ]
  },
  {
   "cell_type": "code",
   "execution_count": null,
   "id": "167b302b-23cf-4ac6-a171-c5e477f13b9d",
   "metadata": {
    "vscode": {
     "languageId": "r"
    }
   },
   "outputs": [],
   "source": [
    "curves_cmo_hep"
   ]
  },
  {
   "cell_type": "code",
   "execution_count": null,
   "id": "38dd50d5-81e7-426a-bce7-787f5500087a",
   "metadata": {
    "vscode": {
     "languageId": "r"
    }
   },
   "outputs": [],
   "source": [
    "p_Atf3_endothelium <- plot_gene_pseudotime(\n",
    "  # === REQUIRED PARAMETERS ===\n",
    "  seurat_obj = cmo_hep_xobj,                                    # Your Seurat object\n",
    "  curves_obj = curves_cmo_hep,                   # Your slingshot curves object  \n",
    "  gene_name = \"Atf3\",                                # Gene to plot\n",
    "  lineage_name = \"Lineage4\",                         # Which lineage trajectory\n",
    "  \n",
    "  # === ANALYSIS PARAMETERS ===\n",
    "  min_cells = 100,                                   # Minimum cells for major cell types\n",
    "  n_bins = 200,                                       # Number of pseudotime bins\n",
    "  cell_type_column = \"new_subclusters_x\",      # Cell type annotation column\n",
    "  expression_slot = \"data\",                          # Expression data slot (\"data\", \"counts\", \"scale.data\")\n",
    "  \n",
    "  # === VISUALIZATION PARAMETERS ===\n",
    "  color_palette = obj_color_palette,                    # Custom color palette\n",
    "  ylim = c(0, 2.25),                                    # Y-axis limits [min, max]\n",
    " # lineage_destination = \"Neural Crest\",              # Override auto-detected endpoint\n",
    "\n",
    "  exclude_cell_types = c(\"Naive Pluripotency\"),\n",
    " # cell_type_order = c(\"Epiblast\", \"Primitive Streak\"),\n",
    "        show_subtitle = FALSE,\n",
    "  \n",
    "  # === OUTPUT PARAMETERS ===\n",
    "  save_plot = FALSE,                                  # Save the plot automatically\n",
    "  filename = \"Atf3_Lineage2_neural_crest.pdf\",      # Custom filename  \n",
    "  plot_width = 12,                                   # Plot width in inches\n",
    "  plot_height = 8                                    # Plot height in inches\n",
    ")"
   ]
  },
  {
   "cell_type": "code",
   "execution_count": null,
   "id": "9e3b8cfa-ade5-4901-ab5e-70dc28203803",
   "metadata": {
    "vscode": {
     "languageId": "r"
    }
   },
   "outputs": [],
   "source": [
    "p_Atf3_erythroid <- plot_gene_pseudotime(\n",
    "  # === REQUIRED PARAMETERS ===\n",
    "  seurat_obj = cmo_hep_xobj,                                    # Your Seurat object\n",
    "  curves_obj = curves_cmo_hep,                   # Your slingshot curves object  \n",
    "  gene_name = \"Atf3\",                                # Gene to plot\n",
    "  lineage_name = \"Lineage3\",                         # Which lineage trajectory\n",
    "  \n",
    "  # === ANALYSIS PARAMETERS ===\n",
    "  min_cells = 100,                                   # Minimum cells for major cell types\n",
    "  n_bins = 200,                                       # Number of pseudotime bins\n",
    "  cell_type_column = \"new_subclusters_x\",      # Cell type annotation column\n",
    "  expression_slot = \"data\",                          # Expression data slot (\"data\", \"counts\", \"scale.data\")\n",
    "  \n",
    "  # === VISUALIZATION PARAMETERS ===\n",
    "  color_palette = obj_color_palette,                    # Custom color palette\n",
    "  ylim = c(0, 2.25),                                    # Y-axis limits [min, max]\n",
    " # lineage_destination = \"Neural Crest\",              # Override auto-detected endpoint\n",
    "\n",
    "  exclude_cell_types = c(\"Naive Pluripotency\"),\n",
    " # cell_type_order = c(\"Epiblast\", \"Primitive Streak\"),\n",
    "        show_subtitle = FALSE,\n",
    "  \n",
    "  # === OUTPUT PARAMETERS ===\n",
    "  save_plot = FALSE,                                  # Save the plot automatically\n",
    "  filename = \"Atf3_Lineage2_neural_crest.pdf\",      # Custom filename  \n",
    "  plot_width = 12,                                   # Plot width in inches\n",
    "  plot_height = 8                                    # Plot height in inches\n",
    ")"
   ]
  },
  {
   "cell_type": "code",
   "execution_count": null,
   "id": "5f517a8f-e497-467e-bce7-94b8ccf29928",
   "metadata": {
    "scrolled": true,
    "vscode": {
     "languageId": "r"
    }
   },
   "outputs": [],
   "source": [
    "p_Atf3_emp <- plot_gene_pseudotime(\n",
    "  # === REQUIRED PARAMETERS ===\n",
    "  seurat_obj = cmo_hep_xobj,                                    # Your Seurat object\n",
    "  curves_obj = curves_cmo_hep,                   # Your slingshot curves object  \n",
    "  gene_name = \"Atf3\",                                # Gene to plot\n",
    "  lineage_name = \"Lineage1\",                         # Which lineage trajectory\n",
    "  \n",
    "  # === ANALYSIS PARAMETERS ===\n",
    "  min_cells = 100,                                   # Minimum cells for major cell types\n",
    "  n_bins = 200,                                       # Number of pseudotime bins\n",
    "  cell_type_column = \"new_subclusters_x\",      # Cell type annotation column\n",
    "  expression_slot = \"data\",                          # Expression data slot (\"data\", \"counts\", \"scale.data\")\n",
    "  \n",
    "  # === VISUALIZATION PARAMETERS ===\n",
    "  color_palette = obj_color_palette,                    # Custom color palette\n",
    "  ylim = c(0, 2.25),                                    # Y-axis limits [min, max]\n",
    " # lineage_destination = \"Neural Crest\",              # Override auto-detected endpoint\n",
    "\n",
    "  exclude_cell_types = c(\"Naive Pluripotency\"),\n",
    " # cell_type_order = c(\"Epiblast\", \"Primitive Streak\"),\n",
    "        show_subtitle = FALSE,\n",
    "  \n",
    "  # === OUTPUT PARAMETERS ===\n",
    "  save_plot = FALSE,                                  # Save the plot automatically\n",
    "  filename = \"Atf3_Lineage2_neural_crest.pdf\",      # Custom filename  \n",
    "  plot_width = 12,                                   # Plot width in inches\n",
    "  plot_height = 8                                    # Plot height in inches\n",
    ")"
   ]
  },
  {
   "cell_type": "code",
   "execution_count": null,
   "id": "89bfebc0-e2e9-4f42-b78d-39f19189ac6d",
   "metadata": {
    "vscode": {
     "languageId": "r"
    }
   },
   "outputs": [],
   "source": [
    "options(repr.plot.width = 10, repr.plot.height = 5)\n",
    "print(p_Atf3_emp)\n",
    "print(p_Atf3_endothelium)\n",
    "print(p_Atf3_erythroid)"
   ]
  },
  {
   "cell_type": "markdown",
   "id": "ac2d5084-ecaf-4cea-83d5-cf5f744fb028",
   "metadata": {},
   "source": [
    "## in vivo lm"
   ]
  },
  {
   "cell_type": "code",
   "execution_count": null,
   "id": "a1bc656d-d716-451a-b291-4f955506940a",
   "metadata": {
    "vscode": {
     "languageId": "r"
    }
   },
   "outputs": [],
   "source": [
    "# after crush\n",
    "atlas_emp_xobj <- readRDS('./atlas_emp_lineage.rds') # it should be v4 actually.\n",
    "curves_atlas_emp <- readRDS('./atlas_emp_slingshot_curves.rds')"
   ]
  },
  {
   "cell_type": "code",
   "execution_count": null,
   "id": "c64e8c8f-9cbb-4da4-888b-655a7f99b969",
   "metadata": {
    "vscode": {
     "languageId": "r"
    }
   },
   "outputs": [],
   "source": [
    "curves_atlas_emp"
   ]
  },
  {
   "cell_type": "code",
   "execution_count": null,
   "id": "c2ea9a18-cac2-4df0-afd7-21e63c237a36",
   "metadata": {
    "scrolled": true,
    "vscode": {
     "languageId": "r"
    }
   },
   "outputs": [],
   "source": [
    "p_Atf3_atlas_emp <- plot_gene_pseudotime(\n",
    "  # === REQUIRED PARAMETERS ===\n",
    "  seurat_obj = atlas_emp_xobj,                                    # Your Seurat object\n",
    "  curves_obj = curves_atlas_emp,                 # Your slingshot curves object  \n",
    "  gene_name = \"Atf3\",                                # Gene to plot\n",
    "  lineage_name = \"Lineage1\",                         # Which lineage trajectory\n",
    "  \n",
    "  # === ANALYSIS PARAMETERS ===\n",
    "  min_cells = 100,                                   # Minimum cells for major cell types\n",
    "  n_bins = 200,                                       # Number of pseudotime bins\n",
    "  cell_type_column = \"celltype_extended_atlas\",      # Cell type annotation column\n",
    "  expression_slot = \"data\",                          # Expression data slot (\"data\", \"counts\", \"scale.data\")\n",
    "  \n",
    "  # === VISUALIZATION PARAMETERS ===\n",
    "  color_palette = atlas_color_palette,                    # Custom color palette\n",
    "  ylim = c(0, 0.9),                                    # Y-axis limits [min, max]\n",
    " # lineage_destination = \"Neural Crest\",              # Override auto-detected endpoint\n",
    "        show_subtitle = FALSE,\n",
    "  \n",
    "  # === OUTPUT PARAMETERS ===\n",
    "  save_plot = FALSE,                                  # Save the plot automatically\n",
    "  filename = \"Atf3_Lineage2_neural_crest.pdf\",      # Custom filename  \n",
    "  plot_width = 12,                                   # Plot width in inches\n",
    "  plot_height = 8                                    # Plot height in inches\n",
    ")"
   ]
  },
  {
   "cell_type": "code",
   "execution_count": null,
   "id": "cc89a0d1-39b1-453c-b49c-0211f579feac",
   "metadata": {
    "vscode": {
     "languageId": "r"
    }
   },
   "outputs": [],
   "source": [
    "# after crush\n",
    "atlas_endothelium_xobj <- readRDS('./atlas_endothelium_lineage.rds') # it should be v4 actually.\n",
    "curves_atlas_endothelium <- readRDS('./atlas_endothelium_slingshot_curves.rds')"
   ]
  },
  {
   "cell_type": "code",
   "execution_count": null,
   "id": "16bf6f11-12ba-4034-9ed5-aeec227137a3",
   "metadata": {
    "vscode": {
     "languageId": "r"
    }
   },
   "outputs": [],
   "source": [
    "curves_atlas_endothelium"
   ]
  },
  {
   "cell_type": "code",
   "execution_count": null,
   "id": "91654622-775b-4269-b4b7-a414517725c4",
   "metadata": {
    "scrolled": true,
    "vscode": {
     "languageId": "r"
    }
   },
   "outputs": [],
   "source": [
    "p_Atf3_atlas_endothelium <- plot_gene_pseudotime(\n",
    "  # === REQUIRED PARAMETERS ===\n",
    "  seurat_obj = atlas_endothelium_xobj,                                    # Your Seurat object\n",
    "  curves_obj = curves_atlas_endothelium,                 # Your slingshot curves object  \n",
    "  gene_name = \"Atf3\",                                # Gene to plot\n",
    "  lineage_name = \"Lineage1\",                         # Which lineage trajectory\n",
    "  \n",
    "  # === ANALYSIS PARAMETERS ===\n",
    "  min_cells = 100,                                   # Minimum cells for major cell types\n",
    "  n_bins = 200,                                       # Number of pseudotime bins\n",
    "  cell_type_column = \"celltype_extended_atlas\",      # Cell type annotation column\n",
    "  expression_slot = \"data\",                          # Expression data slot (\"data\", \"counts\", \"scale.data\")\n",
    "  \n",
    "  # === VISUALIZATION PARAMETERS ===\n",
    "  color_palette = atlas_color_palette,                    # Custom color palette\n",
    "  ylim = c(0, 0.9),                                    # Y-axis limits [min, max]\n",
    " # lineage_destination = \"Neural Crest\",              # Override auto-detected endpoint\n",
    "        show_subtitle = FALSE,\n",
    "  \n",
    "  # === OUTPUT PARAMETERS ===\n",
    "  save_plot = FALSE,                                  # Save the plot automatically\n",
    "  filename = \"Atf3_Lineage2_neural_crest.pdf\",      # Custom filename  \n",
    "  plot_width = 12,                                   # Plot width in inches\n",
    "  plot_height = 8                                    # Plot height in inches\n",
    ")"
   ]
  },
  {
   "cell_type": "code",
   "execution_count": null,
   "id": "6c74ba82-82d0-4d28-8fad-04800a2d3be4",
   "metadata": {
    "vscode": {
     "languageId": "r"
    }
   },
   "outputs": [],
   "source": []
  },
  {
   "cell_type": "code",
   "execution_count": null,
   "id": "4201c9c6-1e99-4dbc-887d-c5ace516948d",
   "metadata": {
    "vscode": {
     "languageId": "r"
    }
   },
   "outputs": [],
   "source": [
    "# after crush\n",
    "atlas_erythroid_xobj <- readRDS('./atlas_erythroid_lineage.rds') # it should be v4 actually.\n",
    "curves_atlas_erythroid <- readRDS('./atlas_erythroid_slingshot_curves.rds')"
   ]
  },
  {
   "cell_type": "code",
   "execution_count": null,
   "id": "200bb206-1c4c-4391-8d6e-0c261f259432",
   "metadata": {
    "vscode": {
     "languageId": "r"
    }
   },
   "outputs": [],
   "source": [
    "curves_atlas_erythroid"
   ]
  },
  {
   "cell_type": "code",
   "execution_count": null,
   "id": "048576a4-1408-4c1a-baae-e4597cb4d463",
   "metadata": {
    "scrolled": true,
    "vscode": {
     "languageId": "r"
    }
   },
   "outputs": [],
   "source": [
    "p_Atf3_atlas_erythroid <- plot_gene_pseudotime(\n",
    "  # === REQUIRED PARAMETERS ===\n",
    "  seurat_obj = atlas_erythroid_xobj,                                    # Your Seurat object\n",
    "  curves_obj = curves_atlas_erythroid,                 # Your slingshot curves object  \n",
    "  gene_name = \"Atf3\",                                # Gene to plot\n",
    "  lineage_name = \"Lineage1\",                         # Which lineage trajectory\n",
    "  \n",
    "  # === ANALYSIS PARAMETERS ===\n",
    "  min_cells = 100,                                   # Minimum cells for major cell types\n",
    "  n_bins = 200,                                       # Number of pseudotime bins\n",
    "  cell_type_column = \"celltype_extended_atlas\",      # Cell type annotation column\n",
    "  expression_slot = \"data\",                          # Expression data slot (\"data\", \"counts\", \"scale.data\")\n",
    "  \n",
    "  # === VISUALIZATION PARAMETERS ===\n",
    "  color_palette = atlas_color_palette,                    # Custom color palette\n",
    "  ylim = c(0, 0.9),                                    # Y-axis limits [min, max]\n",
    " # lineage_destination = \"Neural Crest\",              # Override auto-detected endpoint\n",
    "        show_subtitle = FALSE,\n",
    "  \n",
    "  # === OUTPUT PARAMETERS ===\n",
    "  save_plot = FALSE,                                  # Save the plot automatically\n",
    "  filename = \"Atf3_Lineage2_neural_crest.pdf\",      # Custom filename  \n",
    "  plot_width = 12,                                   # Plot width in inches\n",
    "  plot_height = 8                                    # Plot height in inches\n",
    ")"
   ]
  },
  {
   "cell_type": "code",
   "execution_count": null,
   "id": "d4dea616-9880-40ca-a88f-1184e34efd85",
   "metadata": {
    "vscode": {
     "languageId": "r"
    }
   },
   "outputs": [],
   "source": []
  },
  {
   "cell_type": "code",
   "execution_count": null,
   "id": "d67569d2-b741-4d81-95ca-860594f0eaa4",
   "metadata": {
    "vscode": {
     "languageId": "r"
    }
   },
   "outputs": [],
   "source": [
    "options(repr.plot.width = 10, repr.plot.height = 5)\n",
    "print(p_Atf3_atlas_endothelium)\n",
    "print(p_Atf3_atlas_emp)\n",
    "print(p_Atf3_atlas_erythroid)"
   ]
  },
  {
   "cell_type": "markdown",
   "id": "ac3fd133-5707-4ea8-bcc9-7b389c3ce443",
   "metadata": {},
   "source": [
    "## lM"
   ]
  },
  {
   "cell_type": "code",
   "execution_count": null,
   "id": "6097b6be-446a-4698-946e-b5e67589b9c1",
   "metadata": {
    "vscode": {
     "languageId": "r"
    }
   },
   "outputs": [],
   "source": [
    "options(repr.plot.width = 20, repr.plot.height = 9)\n",
    "plot_grid(\n",
    "    p_Atf3_atlas_endothelium,p_Atf3_atlas_erythroid, p_Atf3_atlas_emp,\n",
    "    p_Atf3_endothelium, p_Atf3_erythroid, p_Atf3_emp, \n",
    "    ncol =  3\n",
    ")"
   ]
  },
  {
   "cell_type": "code",
   "execution_count": null,
   "id": "a2f9a1be-894a-435f-9e93-9e05113800d3",
   "metadata": {
    "vscode": {
     "languageId": "r"
    }
   },
   "outputs": [],
   "source": []
  },
  {
   "cell_type": "code",
   "execution_count": null,
   "id": "432961a6-7e6e-4dea-b28f-096499f90777",
   "metadata": {
    "vscode": {
     "languageId": "r"
    }
   },
   "outputs": [],
   "source": []
  },
  {
   "cell_type": "markdown",
   "id": "45286881-668a-4b44-bc00-ca0eef7a701b",
   "metadata": {},
   "source": [
    "# Zfp711 -Blood"
   ]
  },
  {
   "cell_type": "markdown",
   "id": "ae01d804-896c-4610-b81e-38872dc39e8f",
   "metadata": {},
   "source": [
    "## in vitro lm"
   ]
  },
  {
   "cell_type": "code",
   "execution_count": null,
   "id": "2862dba2-b8fe-4b67-92cc-27ca4167c691",
   "metadata": {
    "vscode": {
     "languageId": "r"
    }
   },
   "outputs": [],
   "source": [
    "cmo_hep_xobj <- readRDS('./cmo_v3_HEP_lineage.rds')\n",
    "curves_cmo_hep <- readRDS('./cmo_v3_hep_slingshot_curves.rds')"
   ]
  },
  {
   "cell_type": "code",
   "execution_count": null,
   "id": "bb44bdb7-c583-4581-893b-dcd461d2fb6b",
   "metadata": {
    "vscode": {
     "languageId": "r"
    }
   },
   "outputs": [],
   "source": [
    "curves_cmo_hep"
   ]
  },
  {
   "cell_type": "code",
   "execution_count": null,
   "id": "b073b689-1779-4e0e-99b0-a10eb730126d",
   "metadata": {
    "vscode": {
     "languageId": "r"
    }
   },
   "outputs": [],
   "source": [
    "p_Zfp711_endothelium <- plot_gene_pseudotime(\n",
    "  # === REQUIRED PARAMETERS ===\n",
    "  seurat_obj = cmo_hep_xobj,                                    # Your Seurat object\n",
    "  curves_obj = curves_cmo_hep,                   # Your slingshot curves object  \n",
    "  gene_name = \"Zfp711\",                                # Gene to plot\n",
    "  lineage_name = \"Lineage4\",                         # Which lineage trajectory\n",
    "  \n",
    "  # === ANALYSIS PARAMETERS ===\n",
    "  min_cells = 100,                                   # Minimum cells for major cell types\n",
    "  n_bins = 200,                                       # Number of pseudotime bins\n",
    "  cell_type_column = \"new_subclusters_x\",      # Cell type annotation column\n",
    "  expression_slot = \"data\",                          # Expression data slot (\"data\", \"counts\", \"scale.data\")\n",
    "  \n",
    "  # === VISUALIZATION PARAMETERS ===\n",
    "  color_palette = obj_color_palette,                    # Custom color palette\n",
    "  ylim = c(0, 0.9),                                    # Y-axis limits [min, max]\n",
    " # lineage_destination = \"Neural Crest\",              # Override auto-detected endpoint\n",
    "\n",
    "  exclude_cell_types = c(\"Naive Pluripotency\"),\n",
    " # cell_type_order = c(\"Epiblast\", \"Primitive Streak\"),\n",
    "        show_subtitle = FALSE,\n",
    "  \n",
    "  # === OUTPUT PARAMETERS ===\n",
    "  save_plot = FALSE,                                  # Save the plot automatically\n",
    "  filename = \"Zfp711_Lineage2_neural_crest.pdf\",      # Custom filename  \n",
    "  plot_width = 12,                                   # Plot width in inches\n",
    "  plot_height = 8                                    # Plot height in inches\n",
    ")"
   ]
  },
  {
   "cell_type": "code",
   "execution_count": null,
   "id": "c07d996b-4d7f-4841-aed6-a415d81c2f76",
   "metadata": {
    "vscode": {
     "languageId": "r"
    }
   },
   "outputs": [],
   "source": [
    "p_Zfp711_erythroid <- plot_gene_pseudotime(\n",
    "  # === REQUIRED PARAMETERS ===\n",
    "  seurat_obj = cmo_hep_xobj,                                    # Your Seurat object\n",
    "  curves_obj = curves_cmo_hep,                   # Your slingshot curves object  \n",
    "  gene_name = \"Zfp711\",                                # Gene to plot\n",
    "  lineage_name = \"Lineage3\",                         # Which lineage trajectory\n",
    "  \n",
    "  # === ANALYSIS PARAMETERS ===\n",
    "  min_cells = 100,                                   # Minimum cells for major cell types\n",
    "  n_bins = 200,                                       # Number of pseudotime bins\n",
    "  cell_type_column = \"new_subclusters_x\",      # Cell type annotation column\n",
    "  expression_slot = \"data\",                          # Expression data slot (\"data\", \"counts\", \"scale.data\")\n",
    "  \n",
    "  # === VISUALIZATION PARAMETERS ===\n",
    "  color_palette = obj_color_palette,                    # Custom color palette\n",
    "  ylim = c(0, 0.9),                                    # Y-axis limits [min, max]\n",
    " # lineage_destination = \"Neural Crest\",              # Override auto-detected endpoint\n",
    "\n",
    "  exclude_cell_types = c(\"Naive Pluripotency\"),\n",
    " # cell_type_order = c(\"Epiblast\", \"Primitive Streak\"),\n",
    "        show_subtitle = FALSE,\n",
    "  \n",
    "  # === OUTPUT PARAMETERS ===\n",
    "  save_plot = FALSE,                                  # Save the plot automatically\n",
    "  filename = \"Zfp711_Lineage2_neural_crest.pdf\",      # Custom filename  \n",
    "  plot_width = 12,                                   # Plot width in inches\n",
    "  plot_height = 8                                    # Plot height in inches\n",
    ")"
   ]
  },
  {
   "cell_type": "code",
   "execution_count": null,
   "id": "001f24ce-80be-42de-9cbb-1bfe1c7a2a86",
   "metadata": {
    "scrolled": true,
    "vscode": {
     "languageId": "r"
    }
   },
   "outputs": [],
   "source": [
    "p_Zfp711_emp <- plot_gene_pseudotime(\n",
    "  # === REQUIRED PARAMETERS ===\n",
    "  seurat_obj = cmo_hep_xobj,                                    # Your Seurat object\n",
    "  curves_obj = curves_cmo_hep,                   # Your slingshot curves object  \n",
    "  gene_name = \"Zfp711\",                                # Gene to plot\n",
    "  lineage_name = \"Lineage1\",                         # Which lineage trajectory\n",
    "  \n",
    "  # === ANALYSIS PARAMETERS ===\n",
    "  min_cells = 100,                                   # Minimum cells for major cell types\n",
    "  n_bins = 200,                                       # Number of pseudotime bins\n",
    "  cell_type_column = \"new_subclusters_x\",      # Cell type annotation column\n",
    "  expression_slot = \"data\",                          # Expression data slot (\"data\", \"counts\", \"scale.data\")\n",
    "  \n",
    "  # === VISUALIZATION PARAMETERS ===\n",
    "  color_palette = obj_color_palette,                    # Custom color palette\n",
    "  ylim = c(0, 0.9),                                    # Y-axis limits [min, max]\n",
    " # lineage_destination = \"Neural Crest\",              # Override auto-detected endpoint\n",
    "\n",
    "  exclude_cell_types = c(\"Naive Pluripotency\"),\n",
    " # cell_type_order = c(\"Epiblast\", \"Primitive Streak\"),\n",
    "        show_subtitle = FALSE,\n",
    "  \n",
    "  # === OUTPUT PARAMETERS ===\n",
    "  save_plot = FALSE,                                  # Save the plot automatically\n",
    "  filename = \"Zfp711_Lineage2_neural_crest.pdf\",      # Custom filename  \n",
    "  plot_width = 12,                                   # Plot width in inches\n",
    "  plot_height = 8                                    # Plot height in inches\n",
    ")"
   ]
  },
  {
   "cell_type": "code",
   "execution_count": null,
   "id": "19c644a8-6721-4202-8eb4-863b6b83383d",
   "metadata": {
    "vscode": {
     "languageId": "r"
    }
   },
   "outputs": [],
   "source": [
    "options(repr.plot.width = 10, repr.plot.height = 5)\n",
    "print(p_Zfp711_emp)\n",
    "print(p_Zfp711_endothelium)\n",
    "print(p_Zfp711_erythroid)"
   ]
  },
  {
   "cell_type": "markdown",
   "id": "1dcaf791-f379-468c-aaf4-986bd0620c8b",
   "metadata": {},
   "source": [
    "## in vivo lm"
   ]
  },
  {
   "cell_type": "code",
   "execution_count": null,
   "id": "f48b7135-c4e3-4492-bfe5-08dc4374f7bc",
   "metadata": {
    "vscode": {
     "languageId": "r"
    }
   },
   "outputs": [],
   "source": [
    "# after crush\n",
    "atlas_emp_xobj <- readRDS('./atlas_emp_lineage.rds') # it should be v4 actually.\n",
    "curves_atlas_emp <- readRDS('./atlas_emp_slingshot_curves.rds')"
   ]
  },
  {
   "cell_type": "code",
   "execution_count": null,
   "id": "7d20ef8b-0821-4486-b1c9-ce62d422db8d",
   "metadata": {
    "vscode": {
     "languageId": "r"
    }
   },
   "outputs": [],
   "source": [
    "curves_atlas_emp"
   ]
  },
  {
   "cell_type": "code",
   "execution_count": null,
   "id": "c7f50d56-6ba5-4461-aa6c-ed891beed5a9",
   "metadata": {
    "scrolled": true,
    "vscode": {
     "languageId": "r"
    }
   },
   "outputs": [],
   "source": [
    "p_Zfp711_atlas_emp <- plot_gene_pseudotime(\n",
    "  # === REQUIRED PARAMETERS ===\n",
    "  seurat_obj = atlas_emp_xobj,                                    # Your Seurat object\n",
    "  curves_obj = curves_atlas_emp,                 # Your slingshot curves object  \n",
    "  gene_name = \"Zfp711\",                                # Gene to plot\n",
    "  lineage_name = \"Lineage1\",                         # Which lineage trajectory\n",
    "  \n",
    "  # === ANALYSIS PARAMETERS ===\n",
    "  min_cells = 100,                                   # Minimum cells for major cell types\n",
    "  n_bins = 200,                                       # Number of pseudotime bins\n",
    "  cell_type_column = \"celltype_extended_atlas\",      # Cell type annotation column\n",
    "  expression_slot = \"data\",                          # Expression data slot (\"data\", \"counts\", \"scale.data\")\n",
    "  \n",
    "  # === VISUALIZATION PARAMETERS ===\n",
    "  color_palette = atlas_color_palette,                    # Custom color palette\n",
    "  ylim = c(0, 1.6),                                    # Y-axis limits [min, max]\n",
    " # lineage_destination = \"Neural Crest\",              # Override auto-detected endpoint\n",
    "        show_subtitle = FALSE,\n",
    "  \n",
    "  # === OUTPUT PARAMETERS ===\n",
    "  save_plot = FALSE,                                  # Save the plot automatically\n",
    "  filename = \"Zfp711_Lineage2_neural_crest.pdf\",      # Custom filename  \n",
    "  plot_width = 12,                                   # Plot width in inches\n",
    "  plot_height = 8                                    # Plot height in inches\n",
    ")"
   ]
  },
  {
   "cell_type": "code",
   "execution_count": null,
   "id": "40aa1478-8712-4297-971b-b0a349ecf611",
   "metadata": {
    "vscode": {
     "languageId": "r"
    }
   },
   "outputs": [],
   "source": [
    "# after crush\n",
    "atlas_endothelium_xobj <- readRDS('./atlas_endothelium_lineage.rds') # it should be v4 actually.\n",
    "curves_atlas_endothelium <- readRDS('./atlas_endothelium_slingshot_curves.rds')"
   ]
  },
  {
   "cell_type": "code",
   "execution_count": null,
   "id": "07bf0a21-c985-411d-81b3-2094963582c5",
   "metadata": {
    "vscode": {
     "languageId": "r"
    }
   },
   "outputs": [],
   "source": [
    "curves_atlas_endothelium"
   ]
  },
  {
   "cell_type": "code",
   "execution_count": null,
   "id": "b71b3ab1-a8f9-4b59-99ef-75236a986fb3",
   "metadata": {
    "scrolled": true,
    "vscode": {
     "languageId": "r"
    }
   },
   "outputs": [],
   "source": [
    "p_Zfp711_atlas_endothelium <- plot_gene_pseudotime(\n",
    "  # === REQUIRED PARAMETERS ===\n",
    "  seurat_obj = atlas_endothelium_xobj,                                    # Your Seurat object\n",
    "  curves_obj = curves_atlas_endothelium,                 # Your slingshot curves object  \n",
    "  gene_name = \"Zfp711\",                                # Gene to plot\n",
    "  lineage_name = \"Lineage1\",                         # Which lineage trajectory\n",
    "  \n",
    "  # === ANALYSIS PARAMETERS ===\n",
    "  min_cells = 100,                                   # Minimum cells for major cell types\n",
    "  n_bins = 200,                                       # Number of pseudotime bins\n",
    "  cell_type_column = \"celltype_extended_atlas\",      # Cell type annotation column\n",
    "  expression_slot = \"data\",                          # Expression data slot (\"data\", \"counts\", \"scale.data\")\n",
    "  \n",
    "  # === VISUALIZATION PARAMETERS ===\n",
    "  color_palette = atlas_color_palette,                    # Custom color palette\n",
    "  ylim = c(0, 1.6),                                    # Y-axis limits [min, max]\n",
    " # lineage_destination = \"Neural Crest\",              # Override auto-detected endpoint\n",
    "        show_subtitle = FALSE,\n",
    "  \n",
    "  # === OUTPUT PARAMETERS ===\n",
    "  save_plot = FALSE,                                  # Save the plot automatically\n",
    "  filename = \"Zfp711_Lineage2_neural_crest.pdf\",      # Custom filename  \n",
    "  plot_width = 12,                                   # Plot width in inches\n",
    "  plot_height = 8                                    # Plot height in inches\n",
    ")"
   ]
  },
  {
   "cell_type": "code",
   "execution_count": null,
   "id": "a17c3c0c-677e-448e-8e2c-8da06aea5822",
   "metadata": {
    "vscode": {
     "languageId": "r"
    }
   },
   "outputs": [],
   "source": []
  },
  {
   "cell_type": "code",
   "execution_count": null,
   "id": "061c1fc8-15c5-4845-bb2d-6c4abe99f549",
   "metadata": {
    "vscode": {
     "languageId": "r"
    }
   },
   "outputs": [],
   "source": [
    "# after crush\n",
    "atlas_erythroid_xobj <- readRDS('./atlas_erythroid_lineage.rds') # it should be v4 actually.\n",
    "curves_atlas_erythroid <- readRDS('./atlas_erythroid_slingshot_curves.rds')"
   ]
  },
  {
   "cell_type": "code",
   "execution_count": null,
   "id": "8e889b8d-b395-4241-92ce-141269660faa",
   "metadata": {
    "vscode": {
     "languageId": "r"
    }
   },
   "outputs": [],
   "source": [
    "curves_atlas_erythroid"
   ]
  },
  {
   "cell_type": "code",
   "execution_count": null,
   "id": "89d4f789-5aa2-4932-b219-03b42c00640e",
   "metadata": {
    "scrolled": true,
    "vscode": {
     "languageId": "r"
    }
   },
   "outputs": [],
   "source": [
    "p_Zfp711_atlas_erythroid <- plot_gene_pseudotime(\n",
    "  # === REQUIRED PARAMETERS ===\n",
    "  seurat_obj = atlas_erythroid_xobj,                                    # Your Seurat object\n",
    "  curves_obj = curves_atlas_erythroid,                 # Your slingshot curves object  \n",
    "  gene_name = \"Zfp711\",                                # Gene to plot\n",
    "  lineage_name = \"Lineage1\",                         # Which lineage trajectory\n",
    "  \n",
    "  # === ANALYSIS PARAMETERS ===\n",
    "  min_cells = 100,                                   # Minimum cells for major cell types\n",
    "  n_bins = 200,                                       # Number of pseudotime bins\n",
    "  cell_type_column = \"celltype_extended_atlas\",      # Cell type annotation column\n",
    "  expression_slot = \"data\",                          # Expression data slot (\"data\", \"counts\", \"scale.data\")\n",
    "  \n",
    "  # === VISUALIZATION PARAMETERS ===\n",
    "  color_palette = atlas_color_palette,                    # Custom color palette\n",
    "  ylim = c(0, 1.6),                                    # Y-axis limits [min, max]\n",
    " # lineage_destination = \"Neural Crest\",              # Override auto-detected endpoint\n",
    "        show_subtitle = FALSE,\n",
    "  \n",
    "  # === OUTPUT PARAMETERS ===\n",
    "  save_plot = FALSE,                                  # Save the plot automatically\n",
    "  filename = \"Zfp711_Lineage2_neural_crest.pdf\",      # Custom filename  \n",
    "  plot_width = 12,                                   # Plot width in inches\n",
    "  plot_height = 8                                    # Plot height in inches\n",
    ")"
   ]
  },
  {
   "cell_type": "code",
   "execution_count": null,
   "id": "0a13e5f5-be23-4661-902d-373397f51b4c",
   "metadata": {
    "vscode": {
     "languageId": "r"
    }
   },
   "outputs": [],
   "source": []
  },
  {
   "cell_type": "code",
   "execution_count": null,
   "id": "49320ea2-a77e-4726-84f9-cebf9760c286",
   "metadata": {
    "vscode": {
     "languageId": "r"
    }
   },
   "outputs": [],
   "source": [
    "options(repr.plot.width = 10, repr.plot.height = 5)\n",
    "print(p_Zfp711_atlas_endothelium)\n",
    "print(p_Zfp711_atlas_emp)\n",
    "print(p_Zfp711_atlas_erythroid)"
   ]
  },
  {
   "cell_type": "markdown",
   "id": "e0d7c311-0926-492f-892e-2b337058c5d7",
   "metadata": {},
   "source": [
    "## lM"
   ]
  },
  {
   "cell_type": "code",
   "execution_count": null,
   "id": "1ace94de-6844-46c6-8cd2-141bbb0e89b3",
   "metadata": {
    "vscode": {
     "languageId": "r"
    }
   },
   "outputs": [],
   "source": [
    "options(repr.plot.width = 20, repr.plot.height = 9)\n",
    "plot_grid(\n",
    "    p_Zfp711_atlas_endothelium,p_Zfp711_atlas_erythroid, p_Zfp711_atlas_emp,\n",
    "    p_Zfp711_endothelium, p_Zfp711_erythroid, p_Zfp711_emp, \n",
    "    ncol =  3\n",
    ")"
   ]
  },
  {
   "cell_type": "code",
   "execution_count": null,
   "id": "92e675c5-503b-42f2-96fc-52d32a466d3b",
   "metadata": {
    "vscode": {
     "languageId": "r"
    }
   },
   "outputs": [],
   "source": []
  },
  {
   "cell_type": "code",
   "execution_count": null,
   "id": "e7bff285-1a1c-4c13-9b6d-f80007fd892c",
   "metadata": {
    "vscode": {
     "languageId": "r"
    }
   },
   "outputs": [],
   "source": []
  },
  {
   "cell_type": "code",
   "execution_count": null,
   "id": "be3178ed-fca6-4a7e-ae31-8016745df7b1",
   "metadata": {
    "vscode": {
     "languageId": "r"
    }
   },
   "outputs": [],
   "source": []
  },
  {
   "cell_type": "markdown",
   "id": "d375baf9-6e1f-47ab-b202-c61f02ca5ab2",
   "metadata": {},
   "source": [
    "# Bcl6b -Blood"
   ]
  },
  {
   "cell_type": "markdown",
   "id": "fdbd649c-9df3-4a06-a500-66b8ef90a1a0",
   "metadata": {},
   "source": [
    "## in vitro lm"
   ]
  },
  {
   "cell_type": "code",
   "execution_count": null,
   "id": "b563d164-568c-4490-bd15-c3ad06be56c6",
   "metadata": {
    "vscode": {
     "languageId": "r"
    }
   },
   "outputs": [],
   "source": [
    "cmo_hep_xobj <- readRDS('./cmo_v3_HEP_lineage.rds')\n",
    "curves_cmo_hep <- readRDS('./cmo_v3_hep_slingshot_curves.rds')"
   ]
  },
  {
   "cell_type": "code",
   "execution_count": null,
   "id": "7605f977-6827-4b10-beea-d8ac45352124",
   "metadata": {
    "vscode": {
     "languageId": "r"
    }
   },
   "outputs": [],
   "source": [
    "curves_cmo_hep"
   ]
  },
  {
   "cell_type": "code",
   "execution_count": null,
   "id": "5beb2d64-c70c-4c17-bc68-9562f78b8d42",
   "metadata": {
    "vscode": {
     "languageId": "r"
    }
   },
   "outputs": [],
   "source": [
    "p_Bcl6b_endothelium <- plot_gene_pseudotime(\n",
    "  # === REQUIRED PARAMETERS ===\n",
    "  seurat_obj = cmo_hep_xobj,                                    # Your Seurat object\n",
    "  curves_obj = curves_cmo_hep,                   # Your slingshot curves object  \n",
    "  gene_name = \"Bcl6b\",                                # Gene to plot\n",
    "  lineage_name = \"Lineage4\",                         # Which lineage trajectory\n",
    "  \n",
    "  # === ANALYSIS PARAMETERS ===\n",
    "  min_cells = 100,                                   # Minimum cells for major cell types\n",
    "  n_bins = 200,                                       # Number of pseudotime bins\n",
    "  cell_type_column = \"new_subclusters_x\",      # Cell type annotation column\n",
    "  expression_slot = \"data\",                          # Expression data slot (\"data\", \"counts\", \"scale.data\")\n",
    "  \n",
    "  # === VISUALIZATION PARAMETERS ===\n",
    "  color_palette = obj_color_palette,                    # Custom color palette\n",
    "  ylim = c(0, 0.5),                                    # Y-axis limits [min, max]\n",
    " # lineage_destination = \"Neural Crest\",              # Override auto-detected endpoint\n",
    "\n",
    "  exclude_cell_types = c(\"Naive Pluripotency\"),\n",
    " # cell_type_order = c(\"Epiblast\", \"Primitive Streak\"),\n",
    "        show_subtitle = FALSE,\n",
    "  \n",
    "  # === OUTPUT PARAMETERS ===\n",
    "  save_plot = FALSE,                                  # Save the plot automatically\n",
    "  filename = \"Bcl6b_Lineage2_neural_crest.pdf\",      # Custom filename  \n",
    "  plot_width = 12,                                   # Plot width in inches\n",
    "  plot_height = 8                                    # Plot height in inches\n",
    ")"
   ]
  },
  {
   "cell_type": "code",
   "execution_count": null,
   "id": "79e9c6f0-ca3c-43a4-b213-abbcb60f5590",
   "metadata": {
    "vscode": {
     "languageId": "r"
    }
   },
   "outputs": [],
   "source": [
    "p_Bcl6b_erythroid <- plot_gene_pseudotime(\n",
    "  # === REQUIRED PARAMETERS ===\n",
    "  seurat_obj = cmo_hep_xobj,                                    # Your Seurat object\n",
    "  curves_obj = curves_cmo_hep,                   # Your slingshot curves object  \n",
    "  gene_name = \"Bcl6b\",                                # Gene to plot\n",
    "  lineage_name = \"Lineage3\",                         # Which lineage trajectory\n",
    "  \n",
    "  # === ANALYSIS PARAMETERS ===\n",
    "  min_cells = 100,                                   # Minimum cells for major cell types\n",
    "  n_bins = 200,                                       # Number of pseudotime bins\n",
    "  cell_type_column = \"new_subclusters_x\",      # Cell type annotation column\n",
    "  expression_slot = \"data\",                          # Expression data slot (\"data\", \"counts\", \"scale.data\")\n",
    "  \n",
    "  # === VISUALIZATION PARAMETERS ===\n",
    "  color_palette = obj_color_palette,                    # Custom color palette\n",
    "  ylim = c(0, 0.5),                                    # Y-axis limits [min, max]\n",
    " # lineage_destination = \"Neural Crest\",              # Override auto-detected endpoint\n",
    "\n",
    "  exclude_cell_types = c(\"Naive Pluripotency\"),\n",
    " # cell_type_order = c(\"Epiblast\", \"Primitive Streak\"),\n",
    "        show_subtitle = FALSE,\n",
    "  \n",
    "  # === OUTPUT PARAMETERS ===\n",
    "  save_plot = FALSE,                                  # Save the plot automatically\n",
    "  filename = \"Bcl6b_Lineage2_neural_crest.pdf\",      # Custom filename  \n",
    "  plot_width = 12,                                   # Plot width in inches\n",
    "  plot_height = 8                                    # Plot height in inches\n",
    ")"
   ]
  },
  {
   "cell_type": "code",
   "execution_count": null,
   "id": "45b9d870-408e-4c81-bbd1-f46473458fa6",
   "metadata": {
    "scrolled": true,
    "vscode": {
     "languageId": "r"
    }
   },
   "outputs": [],
   "source": [
    "p_Bcl6b_emp <- plot_gene_pseudotime(\n",
    "  # === REQUIRED PARAMETERS ===\n",
    "  seurat_obj = cmo_hep_xobj,                                    # Your Seurat object\n",
    "  curves_obj = curves_cmo_hep,                   # Your slingshot curves object  \n",
    "  gene_name = \"Bcl6b\",                                # Gene to plot\n",
    "  lineage_name = \"Lineage1\",                         # Which lineage trajectory\n",
    "  \n",
    "  # === ANALYSIS PARAMETERS ===\n",
    "  min_cells = 100,                                   # Minimum cells for major cell types\n",
    "  n_bins = 200,                                       # Number of pseudotime bins\n",
    "  cell_type_column = \"new_subclusters_x\",      # Cell type annotation column\n",
    "  expression_slot = \"data\",                          # Expression data slot (\"data\", \"counts\", \"scale.data\")\n",
    "  \n",
    "  # === VISUALIZATION PARAMETERS ===\n",
    "  color_palette = obj_color_palette,                    # Custom color palette\n",
    "  ylim = c(0, 0.5),                                    # Y-axis limits [min, max]\n",
    " # lineage_destination = \"Neural Crest\",              # Override auto-detected endpoint\n",
    "\n",
    "  exclude_cell_types = c(\"Naive Pluripotency\"),\n",
    " # cell_type_order = c(\"Epiblast\", \"Primitive Streak\"),\n",
    "        show_subtitle = FALSE,\n",
    "  \n",
    "  # === OUTPUT PARAMETERS ===\n",
    "  save_plot = FALSE,                                  # Save the plot automatically\n",
    "  filename = \"Bcl6b_Lineage2_neural_crest.pdf\",      # Custom filename  \n",
    "  plot_width = 12,                                   # Plot width in inches\n",
    "  plot_height = 8                                    # Plot height in inches\n",
    ")"
   ]
  },
  {
   "cell_type": "code",
   "execution_count": null,
   "id": "1daf5e75-4c09-4c60-bd8c-d60cfdd3d9d2",
   "metadata": {
    "vscode": {
     "languageId": "r"
    }
   },
   "outputs": [],
   "source": [
    "options(repr.plot.width = 10, repr.plot.height = 5)\n",
    "print(p_Bcl6b_emp)\n",
    "print(p_Bcl6b_endothelium)\n",
    "print(p_Bcl6b_erythroid)"
   ]
  },
  {
   "cell_type": "markdown",
   "id": "9e3f7e21-fe38-4be5-bbb6-1d64d80bfa51",
   "metadata": {},
   "source": [
    "## in vivo lm"
   ]
  },
  {
   "cell_type": "code",
   "execution_count": null,
   "id": "42f9033f-dd75-43bb-8f94-b90444eae31c",
   "metadata": {
    "vscode": {
     "languageId": "r"
    }
   },
   "outputs": [],
   "source": [
    "# after crush\n",
    "atlas_emp_xobj <- readRDS('./atlas_emp_lineage.rds') # it should be v4 actually.\n",
    "curves_atlas_emp <- readRDS('./atlas_emp_slingshot_curves.rds')"
   ]
  },
  {
   "cell_type": "code",
   "execution_count": null,
   "id": "a1594953-b481-43e7-acdc-b1389d9074d3",
   "metadata": {
    "vscode": {
     "languageId": "r"
    }
   },
   "outputs": [],
   "source": [
    "curves_atlas_emp"
   ]
  },
  {
   "cell_type": "code",
   "execution_count": null,
   "id": "cda029fa-7b1d-4244-b68b-aefe6552d78d",
   "metadata": {
    "scrolled": true,
    "vscode": {
     "languageId": "r"
    }
   },
   "outputs": [],
   "source": [
    "p_Bcl6b_atlas_emp <- plot_gene_pseudotime(\n",
    "  # === REQUIRED PARAMETERS ===\n",
    "  seurat_obj = atlas_emp_xobj,                                    # Your Seurat object\n",
    "  curves_obj = curves_atlas_emp,                 # Your slingshot curves object  \n",
    "  gene_name = \"Bcl6b\",                                # Gene to plot\n",
    "  lineage_name = \"Lineage1\",                         # Which lineage trajectory\n",
    "  \n",
    "  # === ANALYSIS PARAMETERS ===\n",
    "  min_cells = 100,                                   # Minimum cells for major cell types\n",
    "  n_bins = 200,                                       # Number of pseudotime bins\n",
    "  cell_type_column = \"celltype_extended_atlas\",      # Cell type annotation column\n",
    "  expression_slot = \"data\",                          # Expression data slot (\"data\", \"counts\", \"scale.data\")\n",
    "  \n",
    "  # === VISUALIZATION PARAMETERS ===\n",
    "  color_palette = atlas_color_palette,                    # Custom color palette\n",
    "  ylim = c(0, 0.75),                                    # Y-axis limits [min, max]\n",
    " # lineage_destination = \"Neural Crest\",              # Override auto-detected endpoint\n",
    "        show_subtitle = FALSE,\n",
    "  \n",
    "  # === OUTPUT PARAMETERS ===\n",
    "  save_plot = FALSE,                                  # Save the plot automatically\n",
    "  filename = \"Bcl6b_Lineage2_neural_crest.pdf\",      # Custom filename  \n",
    "  plot_width = 12,                                   # Plot width in inches\n",
    "  plot_height = 8                                    # Plot height in inches\n",
    ")"
   ]
  },
  {
   "cell_type": "code",
   "execution_count": null,
   "id": "b03b1092-e3b7-4bf5-8f61-c5b6fee8c8f9",
   "metadata": {
    "vscode": {
     "languageId": "r"
    }
   },
   "outputs": [],
   "source": [
    "# after crush\n",
    "atlas_endothelium_xobj <- readRDS('./atlas_endothelium_lineage.rds') # it should be v4 actually.\n",
    "curves_atlas_endothelium <- readRDS('./atlas_endothelium_slingshot_curves.rds')"
   ]
  },
  {
   "cell_type": "code",
   "execution_count": null,
   "id": "f1d60639-61e7-4e55-8afa-1f189348618d",
   "metadata": {
    "vscode": {
     "languageId": "r"
    }
   },
   "outputs": [],
   "source": [
    "curves_atlas_endothelium"
   ]
  },
  {
   "cell_type": "code",
   "execution_count": null,
   "id": "2db848bb-fd02-4ce7-abe0-50348ce84f7b",
   "metadata": {
    "scrolled": true,
    "vscode": {
     "languageId": "r"
    }
   },
   "outputs": [],
   "source": [
    "p_Bcl6b_atlas_endothelium <- plot_gene_pseudotime(\n",
    "  # === REQUIRED PARAMETERS ===\n",
    "  seurat_obj = atlas_endothelium_xobj,                                    # Your Seurat object\n",
    "  curves_obj = curves_atlas_endothelium,                 # Your slingshot curves object  \n",
    "  gene_name = \"Bcl6b\",                                # Gene to plot\n",
    "  lineage_name = \"Lineage1\",                         # Which lineage trajectory\n",
    "  \n",
    "  # === ANALYSIS PARAMETERS ===\n",
    "  min_cells = 100,                                   # Minimum cells for major cell types\n",
    "  n_bins = 200,                                       # Number of pseudotime bins\n",
    "  cell_type_column = \"celltype_extended_atlas\",      # Cell type annotation column\n",
    "  expression_slot = \"data\",                          # Expression data slot (\"data\", \"counts\", \"scale.data\")\n",
    "  \n",
    "  # === VISUALIZATION PARAMETERS ===\n",
    "  color_palette = atlas_color_palette,                    # Custom color palette\n",
    "  ylim = c(0, 0.75),                                    # Y-axis limits [min, max]\n",
    " # lineage_destination = \"Neural Crest\",              # Override auto-detected endpoint\n",
    "        show_subtitle = FALSE,\n",
    "  \n",
    "  # === OUTPUT PARAMETERS ===\n",
    "  save_plot = FALSE,                                  # Save the plot automatically\n",
    "  filename = \"Bcl6b_Lineage2_neural_crest.pdf\",      # Custom filename  \n",
    "  plot_width = 12,                                   # Plot width in inches\n",
    "  plot_height = 8                                    # Plot height in inches\n",
    ")"
   ]
  },
  {
   "cell_type": "code",
   "execution_count": null,
   "id": "022521ca-a448-4462-84a1-b000f2be6151",
   "metadata": {
    "vscode": {
     "languageId": "r"
    }
   },
   "outputs": [],
   "source": []
  },
  {
   "cell_type": "code",
   "execution_count": null,
   "id": "c5909d08-a17b-4fb2-86b4-bc41f254e283",
   "metadata": {
    "vscode": {
     "languageId": "r"
    }
   },
   "outputs": [],
   "source": [
    "# after crush\n",
    "atlas_erythroid_xobj <- readRDS('./atlas_erythroid_lineage.rds') # it should be v4 actually.\n",
    "curves_atlas_erythroid <- readRDS('./atlas_erythroid_slingshot_curves.rds')"
   ]
  },
  {
   "cell_type": "code",
   "execution_count": null,
   "id": "0830e077-1462-4367-b3d7-c8981aee9054",
   "metadata": {
    "vscode": {
     "languageId": "r"
    }
   },
   "outputs": [],
   "source": [
    "curves_atlas_erythroid"
   ]
  },
  {
   "cell_type": "code",
   "execution_count": null,
   "id": "b233f66e-cc4b-43b0-97e1-47c01e1603c0",
   "metadata": {
    "scrolled": true,
    "vscode": {
     "languageId": "r"
    }
   },
   "outputs": [],
   "source": [
    "p_Bcl6b_atlas_erythroid <- plot_gene_pseudotime(\n",
    "  # === REQUIRED PARAMETERS ===\n",
    "  seurat_obj = atlas_erythroid_xobj,                                    # Your Seurat object\n",
    "  curves_obj = curves_atlas_erythroid,                 # Your slingshot curves object  \n",
    "  gene_name = \"Bcl6b\",                                # Gene to plot\n",
    "  lineage_name = \"Lineage1\",                         # Which lineage trajectory\n",
    "  \n",
    "  # === ANALYSIS PARAMETERS ===\n",
    "  min_cells = 100,                                   # Minimum cells for major cell types\n",
    "  n_bins = 200,                                       # Number of pseudotime bins\n",
    "  cell_type_column = \"celltype_extended_atlas\",      # Cell type annotation column\n",
    "  expression_slot = \"data\",                          # Expression data slot (\"data\", \"counts\", \"scale.data\")\n",
    "  \n",
    "  # === VISUALIZATION PARAMETERS ===\n",
    "  color_palette = atlas_color_palette,                    # Custom color palette\n",
    "  ylim = c(0, 0.9),                                    # Y-axis limits [min, max]\n",
    " # lineage_destination = \"Neural Crest\",              # Override auto-detected endpoint\n",
    "        show_subtitle = FALSE,\n",
    "  \n",
    "  # === OUTPUT PARAMETERS ===\n",
    "  save_plot = FALSE,                                  # Save the plot automatically\n",
    "  filename = \"Bcl6b_Lineage2_neural_crest.pdf\",      # Custom filename  \n",
    "  plot_width = 12,                                   # Plot width in inches\n",
    "  plot_height = 8                                    # Plot height in inches\n",
    ")"
   ]
  },
  {
   "cell_type": "code",
   "execution_count": null,
   "id": "a61f84cc-9a69-4721-a225-0d8361784a21",
   "metadata": {
    "vscode": {
     "languageId": "r"
    }
   },
   "outputs": [],
   "source": []
  },
  {
   "cell_type": "code",
   "execution_count": null,
   "id": "dd547c08-2437-480c-a912-9a984c572490",
   "metadata": {
    "vscode": {
     "languageId": "r"
    }
   },
   "outputs": [],
   "source": [
    "options(repr.plot.width = 10, repr.plot.height = 5)\n",
    "print(p_Bcl6b_atlas_endothelium)\n",
    "print(p_Bcl6b_atlas_emp)\n",
    "print(p_Bcl6b_atlas_erythroid)"
   ]
  },
  {
   "cell_type": "markdown",
   "id": "1441d25e-7cb1-4dce-bcc6-1c1e3a4bedb1",
   "metadata": {},
   "source": [
    "## lM"
   ]
  },
  {
   "cell_type": "code",
   "execution_count": null,
   "id": "4e80d26b-058c-4e7b-a875-771b57a1e617",
   "metadata": {
    "vscode": {
     "languageId": "r"
    }
   },
   "outputs": [],
   "source": [
    "options(repr.plot.width = 30, repr.plot.height = 9)\n",
    "plot_grid(\n",
    "    p_Bcl6b_atlas_endothelium,p_Bcl6b_atlas_erythroid, p_Bcl6b_atlas_emp,\n",
    "    p_Bcl6b_endothelium, p_Bcl6b_erythroid, p_Bcl6b_emp, \n",
    "    ncol =  3\n",
    ")"
   ]
  },
  {
   "cell_type": "markdown",
   "id": "249bb69f-0276-4ff6-9d85-7290d06346d2",
   "metadata": {},
   "source": [
    "# Cardiac"
   ]
  },
  {
   "cell_type": "markdown",
   "id": "3e66d52b-de58-4be1-82ea-aa85a2350ddf",
   "metadata": {},
   "source": [
    "## FHF"
   ]
  },
  {
   "cell_type": "code",
   "execution_count": null,
   "id": "e133ffdd-633e-4e85-9a1d-61fb65433ac9",
   "metadata": {
    "vscode": {
     "languageId": "r"
    }
   },
   "outputs": [],
   "source": [
    "# after crush\n",
    "atlas_fhf_xobj <- readRDS('./atlas_cardiac_fhf_lineage.rds') # it should be v4 actually.\n",
    "curves_atlas_fhf <- readRDS('./atlas_cardiac_fhf_slingshot_curves.rds')"
   ]
  },
  {
   "cell_type": "code",
   "execution_count": null,
   "id": "ab4e586f-7e6a-4f0f-9503-760bf642f26c",
   "metadata": {
    "vscode": {
     "languageId": "r"
    }
   },
   "outputs": [],
   "source": [
    "curves_atlas_fhf"
   ]
  },
  {
   "cell_type": "code",
   "execution_count": null,
   "id": "e47a45d0-0304-4294-b66b-c4d74dbda73e",
   "metadata": {
    "scrolled": true,
    "vscode": {
     "languageId": "r"
    }
   },
   "outputs": [],
   "source": [
    "p_Atf3_atlas_fhf <- plot_gene_pseudotime(\n",
    "  # === REQUIRED PARAMETERS ===\n",
    "  seurat_obj = atlas_fhf_xobj,                                    # Your Seurat object\n",
    "  curves_obj = curves_atlas_fhf,                 # Your slingshot curves object  \n",
    "  gene_name = \"Atf3\",                                # Gene to plot\n",
    "  lineage_name = \"Lineage1\",                         # Which lineage trajectory\n",
    "  \n",
    "  # === ANALYSIS PARAMETERS ===\n",
    "  min_cells = 100,                                   # Minimum cells for major cell types\n",
    "  n_bins = 200,                                       # Number of pseudotime bins\n",
    "  cell_type_column = \"celltype_extended_atlas\",      # Cell type annotation column\n",
    "  expression_slot = \"data\",                          # Expression data slot (\"data\", \"counts\", \"scale.data\")\n",
    "  \n",
    "  # === VISUALIZATION PARAMETERS ===\n",
    "  color_palette = atlas_color_palette,                    # Custom color palette\n",
    "  ylim = c(0, 0.75),                                    # Y-axis limits [min, max]\n",
    " # lineage_destination = \"Neural Crest\",              # Override auto-detected endpoint\n",
    "        show_subtitle = FALSE,\n",
    "  \n",
    "  # === OUTPUT PARAMETERS ===\n",
    "  save_plot = FALSE,                                  # Save the plot automatically\n",
    "  filename = \"Bcl6b_Lineage2_neural_crest.pdf\",      # Custom filename  \n",
    "  plot_width = 12,                                   # Plot width in inches\n",
    "  plot_height = 8                                    # Plot height in inches\n",
    ")"
   ]
  },
  {
   "cell_type": "code",
   "execution_count": null,
   "id": "08b6dbda-a079-468e-b0b5-60bd69ede010",
   "metadata": {
    "scrolled": true,
    "vscode": {
     "languageId": "r"
    }
   },
   "outputs": [],
   "source": [
    "p_Zfp711_atlas_fhf <- plot_gene_pseudotime(\n",
    "  # === REQUIRED PARAMETERS ===\n",
    "  seurat_obj = atlas_fhf_xobj,                                    # Your Seurat object\n",
    "  curves_obj = curves_atlas_fhf,                 # Your slingshot curves object  \n",
    "  gene_name = \"Zfp711\",                                # Gene to plot\n",
    "  lineage_name = \"Lineage1\",                         # Which lineage trajectory\n",
    "  \n",
    "  # === ANALYSIS PARAMETERS ===\n",
    "  min_cells = 100,                                   # Minimum cells for major cell types\n",
    "  n_bins = 200,                                       # Number of pseudotime bins\n",
    "  cell_type_column = \"celltype_extended_atlas\",      # Cell type annotation column\n",
    "  expression_slot = \"data\",                          # Expression data slot (\"data\", \"counts\", \"scale.data\")\n",
    "  \n",
    "  # === VISUALIZATION PARAMETERS ===\n",
    "  color_palette = atlas_color_palette,                    # Custom color palette\n",
    "  ylim = c(0, 0.75),                                    # Y-axis limits [min, max]\n",
    " # lineage_destination = \"Neural Crest\",              # Override auto-detected endpoint\n",
    "        show_subtitle = FALSE,\n",
    "  \n",
    "  # === OUTPUT PARAMETERS ===\n",
    "  save_plot = FALSE,                                  # Save the plot automatically\n",
    "  filename = \"Bcl6b_Lineage2_neural_crest.pdf\",      # Custom filename  \n",
    "  plot_width = 12,                                   # Plot width in inches\n",
    "  plot_height = 8                                    # Plot height in inches\n",
    ")"
   ]
  },
  {
   "cell_type": "code",
   "execution_count": null,
   "id": "90cac686-63b0-4c74-b72f-582fac091479",
   "metadata": {
    "scrolled": true,
    "vscode": {
     "languageId": "r"
    }
   },
   "outputs": [],
   "source": [
    "p_Bcl6b_atlas_fhf <- plot_gene_pseudotime(\n",
    "  # === REQUIRED PARAMETERS ===\n",
    "  seurat_obj = atlas_fhf_xobj,                                    # Your Seurat object\n",
    "  curves_obj = curves_atlas_fhf,                 # Your slingshot curves object  \n",
    "  gene_name = \"Bcl6b\",                                # Gene to plot\n",
    "  lineage_name = \"Lineage1\",                         # Which lineage trajectory\n",
    "  \n",
    "  # === ANALYSIS PARAMETERS ===\n",
    "  min_cells = 100,                                   # Minimum cells for major cell types\n",
    "  n_bins = 200,                                       # Number of pseudotime bins\n",
    "  cell_type_column = \"celltype_extended_atlas\",      # Cell type annotation column\n",
    "  expression_slot = \"data\",                          # Expression data slot (\"data\", \"counts\", \"scale.data\")\n",
    "  \n",
    "  # === VISUALIZATION PARAMETERS ===\n",
    "  color_palette = atlas_color_palette,                    # Custom color palette\n",
    "  ylim = c(0, 0.75),                                    # Y-axis limits [min, max]\n",
    " # lineage_destination = \"Neural Crest\",              # Override auto-detected endpoint\n",
    "        show_subtitle = FALSE,\n",
    "  \n",
    "  # === OUTPUT PARAMETERS ===\n",
    "  save_plot = FALSE,                                  # Save the plot automatically\n",
    "  filename = \"Bcl6b_Lineage2_neural_crest.pdf\",      # Custom filename  \n",
    "  plot_width = 12,                                   # Plot width in inches\n",
    "  plot_height = 8                                    # Plot height in inches\n",
    ")"
   ]
  },
  {
   "cell_type": "code",
   "execution_count": null,
   "id": "e0eb7244-42da-4aec-9736-fd9f6f45c30e",
   "metadata": {
    "vscode": {
     "languageId": "r"
    }
   },
   "outputs": [],
   "source": []
  },
  {
   "cell_type": "markdown",
   "id": "066a8ab0-77ac-4866-9eaa-1cc91b1125f0",
   "metadata": {},
   "source": [
    "## SHF"
   ]
  },
  {
   "cell_type": "code",
   "execution_count": null,
   "id": "cf4a0efb-e03e-4e24-8aee-a750f89fb670",
   "metadata": {
    "vscode": {
     "languageId": "r"
    }
   },
   "outputs": [],
   "source": [
    "# after crush\n",
    "atlas_shf_xobj <- readRDS('./atlas_cardiac_shf_lineage.rds') # it should be v4 actually.\n",
    "curves_atlas_shf <- readRDS('./atlas_cardiac_shf_slingshot_curves.rds')"
   ]
  },
  {
   "cell_type": "code",
   "execution_count": null,
   "id": "d58cb4df-d162-4848-923f-7ec2c23b972c",
   "metadata": {
    "vscode": {
     "languageId": "r"
    }
   },
   "outputs": [],
   "source": [
    "curves_atlas_shf"
   ]
  },
  {
   "cell_type": "code",
   "execution_count": null,
   "id": "bf51b9a2",
   "metadata": {
    "vscode": {
     "languageId": "r"
    }
   },
   "outputs": [],
   "source": [
    "p_Atf3_atlas_shf <- plot_gene_pseudotime(\n",
    "  # === REQUIRED PARAMETERS ===\n",
    "  seurat_obj = atlas_shf_xobj,                                    # Your Seurat object\n",
    "  curves_obj = curves_atlas_shf,                 # Your slingshot curves object  \n",
    "  gene_name = \"Atf3\",                                # Gene to plot\n",
    "  lineage_name = \"Lineage1\",                         # Which lineage trajectory\n",
    "  \n",
    "  # === ANALYSIS PARAMETERS ===\n",
    "  min_cells = 100,                                   # Minimum cells for major cell types\n",
    "  n_bins = 200,                                       # Number of pseudotime bins\n",
    "  cell_type_column = \"celltype_extended_atlas\",      # Cell type annotation column\n",
    "  expression_slot = \"data\",                          # Expression data slot (\"data\", \"counts\", \"scale.data\")\n",
    "  \n",
    "  # === VISUALIZATION PARAMETERS ===\n",
    "  color_palette = atlas_color_palette,                    # Custom color palette\n",
    "  ylim = c(0, 0.75),                                    # Y-axis limits [min, max]\n",
    " # lineage_destination = \"Neural Crest\",              # Override auto-detected endpoint\n",
    "        show_subtitle = FALSE,\n",
    "  \n",
    "  # === OUTPUT PARAMETERS ===\n",
    "  save_plot = FALSE,                                  # Save the plot automatically\n",
    "  filename = \"Bcl6b_Lineage2_neural_crest.pdf\",      # Custom filename  \n",
    "  plot_width = 12,                                   # Plot width in inches\n",
    "  plot_height = 8                                    # Plot height in inches\n",
    ")"
   ]
  },
  {
   "cell_type": "code",
   "execution_count": null,
   "id": "8589d09b",
   "metadata": {
    "vscode": {
     "languageId": "r"
    }
   },
   "outputs": [],
   "source": [
    "p_Zfp711_atlas_shf <- plot_gene_pseudotime(\n",
    "  # === REQUIRED PARAMETERS ===\n",
    "  seurat_obj = atlas_shf_xobj,                                    # Your Seurat object\n",
    "  curves_obj = curves_atlas_shf,                 # Your slingshot curves object  \n",
    "  gene_name = \"Zfp711\",                                # Gene to plot\n",
    "  lineage_name = \"Lineage1\",                         # Which lineage trajectory\n",
    "  \n",
    "  # === ANALYSIS PARAMETERS ===\n",
    "  min_cells = 100,                                   # Minimum cells for major cell types\n",
    "  n_bins = 200,                                       # Number of pseudotime bins\n",
    "  cell_type_column = \"celltype_extended_atlas\",      # Cell type annotation column\n",
    "  expression_slot = \"data\",                          # Expression data slot (\"data\", \"counts\", \"scale.data\")\n",
    "  \n",
    "  # === VISUALIZATION PARAMETERS ===\n",
    "  color_palette = atlas_color_palette,                    # Custom color palette\n",
    "  ylim = c(0, 0.75),                                    # Y-axis limits [min, max]\n",
    " # lineage_destination = \"Neural Crest\",              # Override auto-detected endpoint\n",
    "        show_subtitle = FALSE,\n",
    "  \n",
    "  # === OUTPUT PARAMETERS ===\n",
    "  save_plot = FALSE,                                  # Save the plot automatically\n",
    "  filename = \"Bcl6b_Lineage2_neural_crest.pdf\",      # Custom filename  \n",
    "  plot_width = 12,                                   # Plot width in inches\n",
    "  plot_height = 8                                    # Plot height in inches\n",
    ")"
   ]
  },
  {
   "cell_type": "code",
   "execution_count": null,
   "id": "14e75b68",
   "metadata": {
    "vscode": {
     "languageId": "r"
    }
   },
   "outputs": [],
   "source": [
    "p_Bcl6b_atlas_shf <- plot_gene_pseudotime(\n",
    "  # === REQUIRED PARAMETERS ===\n",
    "  seurat_obj = atlas_shf_xobj,                                    # Your Seurat object\n",
    "  curves_obj = curves_atlas_shf,                 # Your slingshot curves object  \n",
    "  gene_name = \"Bcl6b\",                                # Gene to plot\n",
    "  lineage_name = \"Lineage1\",                         # Which lineage trajectory\n",
    "  \n",
    "  # === ANALYSIS PARAMETERS ===\n",
    "  min_cells = 100,                                   # Minimum cells for major cell types\n",
    "  n_bins = 200,                                       # Number of pseudotime bins\n",
    "  cell_type_column = \"celltype_extended_atlas\",      # Cell type annotation column\n",
    "  expression_slot = \"data\",                          # Expression data slot (\"data\", \"counts\", \"scale.data\")\n",
    "  \n",
    "  # === VISUALIZATION PARAMETERS ===\n",
    "  color_palette = atlas_color_palette,                    # Custom color palette\n",
    "  ylim = c(0, 0.75),                                    # Y-axis limits [min, max]\n",
    " # lineage_destination = \"Neural Crest\",              # Override auto-detected endpoint\n",
    "        show_subtitle = FALSE,\n",
    "  \n",
    "  # === OUTPUT PARAMETERS ===\n",
    "  save_plot = FALSE,                                  # Save the plot automatically\n",
    "  filename = \"Bcl6b_Lineage2_neural_crest.pdf\",      # Custom filename  \n",
    "  plot_width = 12,                                   # Plot width in inches\n",
    "  plot_height = 8                                    # Plot height in inches\n",
    ")"
   ]
  },
  {
   "cell_type": "markdown",
   "id": "f9d815d0-a8f8-4003-8f8c-0abad9fb566d",
   "metadata": {},
   "source": [
    "## IM"
   ]
  },
  {
   "cell_type": "code",
   "execution_count": null,
   "id": "f8631d8d",
   "metadata": {
    "vscode": {
     "languageId": "r"
    }
   },
   "outputs": [],
   "source": [
    "options(repr.plot.width = 30, repr.plot.height = 4.5)\n",
    "plot_grid(\n",
    "p_Atf3_atlas_fhf,p_Zfp711_atlas_fhf,p_Bcl6b_atlas_fhf,\n",
    "    ncol=3\n",
    ")"
   ]
  },
  {
   "cell_type": "code",
   "execution_count": null,
   "id": "235a4a13",
   "metadata": {
    "vscode": {
     "languageId": "r"
    }
   },
   "outputs": [],
   "source": [
    "options(repr.plot.width = 30, repr.plot.height = 4.5)\n",
    "plot_grid(\n",
    "    p_Atf3_atlas_shf,p_Zfp711_atlas_shf,p_Bcl6b_atlas_shf, \n",
    "    ncol=3\n",
    ")"
   ]
  },
  {
   "cell_type": "code",
   "execution_count": null,
   "id": "144624c7-0ebb-449b-afbd-9b3014c200da",
   "metadata": {
    "vscode": {
     "languageId": "r"
    }
   },
   "outputs": [],
   "source": []
  },
  {
   "cell_type": "markdown",
   "id": "8ae13272-45c2-4160-b91a-f33adda0dd54",
   "metadata": {},
   "source": [
    "# Plot - Atf3"
   ]
  },
  {
   "cell_type": "code",
   "execution_count": null,
   "id": "a296e940-824c-445e-89af-acf9e20f30f3",
   "metadata": {
    "vscode": {
     "languageId": "r"
    }
   },
   "outputs": [],
   "source": [
    "options(repr.plot.width = 25, repr.plot.height = 9)\n",
    "p_atf3_1 <- \n",
    "plot_grid(\n",
    "    p_Atf3_atlas_lm_allantois,p_Atf3_atlas_lm_epicardium, p_Atf3_atlas_lm_limb_mesoderm,\n",
    "    p_Atf3_cmo_lm_allantois, p_Atf3_cmo_lm_epicardium, p_Atf3_cmo_lm_limb_mesoderm,\n",
    "    ncol =  3\n",
    ")\n",
    "p_atf3_1"
   ]
  },
  {
   "cell_type": "code",
   "execution_count": null,
   "id": "a3f32651",
   "metadata": {
    "vscode": {
     "languageId": "r"
    }
   },
   "outputs": [],
   "source": [
    "options(repr.plot.width = 8.3, repr.plot.height = 9)\n",
    "p_atf3_2 <-\n",
    "plot_grid(\n",
    "    p_Atf3_atlas_lm_limb_mesoderm,\n",
    "    p_Atf3_cmo_lm_limb_mesoderm,\n",
    "    ncol =  1\n",
    ")\n",
    "p_atf3_2"
   ]
  },
  {
   "cell_type": "code",
   "execution_count": null,
   "id": "46ae0feb-96d4-439e-9dc6-c94a68700d70",
   "metadata": {
    "vscode": {
     "languageId": "r"
    }
   },
   "outputs": [],
   "source": [
    "\n",
    "options(repr.plot.width = 25, repr.plot.height = 9)\n",
    "p_atf3_3 <- plot_grid(\n",
    "    p_Atf3_atlas_endothelium,p_Atf3_atlas_erythroid, p_Atf3_atlas_emp,\n",
    "    p_Atf3_endothelium, p_Atf3_erythroid, p_Atf3_emp, \n",
    "    ncol =  3\n",
    ")\n",
    "p_atf3_3"
   ]
  },
  {
   "cell_type": "code",
   "execution_count": null,
   "id": "86f747bb-30b7-4b14-808a-d1f7fae7630c",
   "metadata": {
    "vscode": {
     "languageId": "r"
    }
   },
   "outputs": [],
   "source": [
    "options(repr.plot.width = 16.6, repr.plot.height = 4.5)\n",
    "p_atf3_4 <-\n",
    "plot_grid(\n",
    "    p_Atf3_atlas_fhf,\n",
    "    p_Atf3_atlas_shf,\n",
    "    ncol =  2\n",
    ")\n",
    "p_atf3_4"
   ]
  },
  {
   "cell_type": "code",
   "execution_count": null,
   "id": "12438137",
   "metadata": {
    "vscode": {
     "languageId": "r"
    }
   },
   "outputs": [],
   "source": [
    "options(repr.plot.width = 25, repr.plot.height = 9)\n",
    "p_atf3_2_4 <-\n",
    "plot_grid(\n",
    "    p_Atf3_atlas_lm_limb_mesoderm,p_Atf3_atlas_fhf,p_Atf3_atlas_shf,\n",
    "    p_Atf3_cmo_lm_limb_mesoderm, NULL, NULL,\n",
    "    ncol =  3\n",
    ")\n",
    "p_atf3_2_4"
   ]
  },
  {
   "cell_type": "code",
   "execution_count": null,
   "id": "435e6f5f",
   "metadata": {
    "vscode": {
     "languageId": "r"
    }
   },
   "outputs": [],
   "source": [
    "options(repr.plot.width = 25, repr.plot.height = 27)\n",
    "\n",
    "p_atf3_combined <-\n",
    "plot_grid(\n",
    "    p_atf3_3,p_atf3_1,p_atf3_2_4,\n",
    "\n",
    "    ncol =  1\n",
    ")\n",
    "p_atf3_combined"
   ]
  },
  {
   "cell_type": "code",
   "execution_count": null,
   "id": "f2bd9965-8273-49a4-8005-6312d9389879",
   "metadata": {
    "vscode": {
     "languageId": "r"
    }
   },
   "outputs": [],
   "source": [
    "pdf(file = './figures_3/atf3_pseudotime_combined.pdf',width = 25, height = 27)\n",
    "p_atf3_combined\n",
    "dev.off()"
   ]
  },
  {
   "cell_type": "code",
   "execution_count": null,
   "id": "abc898c1-f049-4d34-85bf-67c9d2006789",
   "metadata": {
    "vscode": {
     "languageId": "r"
    }
   },
   "outputs": [],
   "source": [
    "png(file = './figures_3/atf3_pseudotime_combined.png',width = 25, height = 27,units = 'in',res = 300)\n",
    "p_atf3_combined\n",
    "dev.off()"
   ]
  },
  {
   "cell_type": "code",
   "execution_count": null,
   "id": "7308d61c-c08a-4922-b170-a8c7ddafdb38",
   "metadata": {
    "vscode": {
     "languageId": "r"
    }
   },
   "outputs": [],
   "source": [
    "png(file = './figures_3/atf3_pseudotime_combined.png',width = 25, height = 27,units = 'in',res = 300)\n",
    "p_atf3_combined\n",
    "dev.off()"
   ]
  },
  {
   "cell_type": "code",
   "execution_count": null,
   "id": "66a03c3b-e6f1-483a-8a43-c71efb2a62b5",
   "metadata": {
    "vscode": {
     "languageId": "r"
    }
   },
   "outputs": [],
   "source": [
    "svg(file = './figures_3/atf3_pseudotime_combined.svg',width = 25, height = 27)\n",
    "p_atf3_combined\n",
    "dev.off()"
   ]
  },
  {
   "cell_type": "markdown",
   "id": "b397e957-24d7-46bc-9dff-2e2e3156c2fa",
   "metadata": {},
   "source": [
    "# Plot-Zfp711"
   ]
  },
  {
   "cell_type": "code",
   "execution_count": null,
   "id": "40bad147-93cc-427d-b5f1-af21b5bf4582",
   "metadata": {
    "vscode": {
     "languageId": "r"
    }
   },
   "outputs": [],
   "source": []
  },
  {
   "cell_type": "code",
   "execution_count": null,
   "id": "c9a2ff0d-b596-43d5-b1c7-2d2097c7f3bb",
   "metadata": {
    "vscode": {
     "languageId": "r"
    }
   },
   "outputs": [],
   "source": [
    "options(repr.plot.width = 25, repr.plot.height = 9)\n",
    "p_Zfp711_1 <- \n",
    "plot_grid(\n",
    "    p_Zfp711_atlas_lm_allantois,p_Zfp711_atlas_lm_epicardium, p_Zfp711_atlas_lm_limb_mesoderm,\n",
    "    p_Zfp711_cmo_lm_allantois, p_Zfp711_cmo_lm_epicardium, p_Zfp711_cmo_lm_limb_mesoderm,\n",
    "    ncol =  3\n",
    ")\n",
    "p_Zfp711_1"
   ]
  },
  {
   "cell_type": "code",
   "execution_count": null,
   "id": "b8e977f4",
   "metadata": {
    "vscode": {
     "languageId": "r"
    }
   },
   "outputs": [],
   "source": [
    "options(repr.plot.width = 8.3, repr.plot.height = 9)\n",
    "p_Zfp711_2 <-\n",
    "plot_grid(\n",
    "    p_Zfp711_atlas_lm_limb_mesoderm,\n",
    "    p_Zfp711_cmo_lm_limb_mesoderm,\n",
    "    ncol =  1\n",
    ")\n",
    "p_Zfp711_2"
   ]
  },
  {
   "cell_type": "code",
   "execution_count": null,
   "id": "5f40f3ed",
   "metadata": {
    "vscode": {
     "languageId": "r"
    }
   },
   "outputs": [],
   "source": [
    "options(repr.plot.width = 20, repr.plot.height = 11)\n",
    "p_second_wave <- plot_grid(\n",
    "    p_dfa_emp_st_atf3,p_dfa_emp_st_zfp711,p_dfa_emp_st_bcl6b,\n",
    "    p_dfc_emp_st_atf3,p_dfc_emp_st_zfp711,p_dfc_emp_st_bcl6b,\n",
    "    \n",
    "ncol = 3)\n",
    "p_second_wave"
   ]
  },
  {
   "cell_type": "code",
   "execution_count": null,
   "id": "b8e7474e-4ce5-4615-827c-8f82e53cd0ee",
   "metadata": {
    "vscode": {
     "languageId": "r"
    }
   },
   "outputs": [],
   "source": [
    "\n"
   ]
  },
  {
   "cell_type": "code",
   "execution_count": null,
   "id": "4a3e7789",
   "metadata": {
    "vscode": {
     "languageId": "r"
    }
   },
   "outputs": [],
   "source": [
    "options(repr.plot.width = 25, repr.plot.height = 9)\n",
    "p_Zfp711_3 <- plot_grid(\n",
    "    p_Zfp711_atlas_endothelium,p_Zfp711_atlas_erythroid, p_Zfp711_atlas_emp,\n",
    "    p_Zfp711_endothelium, p_Zfp711_erythroid, p_Zfp711_emp, \n",
    "    ncol =  3\n",
    ")\n",
    "p_Zfp711_3"
   ]
  },
  {
   "cell_type": "code",
   "execution_count": null,
   "id": "d0cd1c5a-a057-455a-aa16-a525a719ea78",
   "metadata": {
    "vscode": {
     "languageId": "r"
    }
   },
   "outputs": [],
   "source": []
  },
  {
   "cell_type": "code",
   "execution_count": null,
   "id": "5609d49c",
   "metadata": {
    "vscode": {
     "languageId": "r"
    }
   },
   "outputs": [],
   "source": [
    "options(repr.plot.width = 16.6, repr.plot.height = 4.5)\n",
    "p_Zfp711_4 <-\n",
    "plot_grid(\n",
    "    p_Zfp711_atlas_fhf,\n",
    "    p_Zfp711_atlas_shf,\n",
    "    ncol =  2\n",
    ")\n",
    "p_Zfp711_4"
   ]
  },
  {
   "cell_type": "code",
   "execution_count": null,
   "id": "23e24cd6",
   "metadata": {
    "vscode": {
     "languageId": "r"
    }
   },
   "outputs": [],
   "source": [
    "options(repr.plot.width = 25, repr.plot.height = 9)\n",
    "p_Zfp711_2_4 <-\n",
    "plot_grid(\n",
    "    p_Zfp711_atlas_lm_limb_mesoderm,p_Zfp711_atlas_fhf,p_Zfp711_atlas_shf,\n",
    "    p_Zfp711_cmo_lm_limb_mesoderm, NULL, NULL,\n",
    "    ncol =  3\n",
    ")\n",
    "p_Zfp711_2_4"
   ]
  },
  {
   "cell_type": "code",
   "execution_count": null,
   "id": "6c8ffcd8",
   "metadata": {
    "vscode": {
     "languageId": "r"
    }
   },
   "outputs": [],
   "source": [
    "options(repr.plot.width = 25, repr.plot.height = 27)\n",
    "\n",
    "p_Zfp711_combined <-\n",
    "plot_grid(\n",
    "    p_Zfp711_3,p_Zfp711_1,p_Zfp711_2_4,\n",
    "\n",
    "    ncol =  1\n",
    ")\n",
    "p_Zfp711_combined"
   ]
  },
  {
   "cell_type": "code",
   "execution_count": null,
   "id": "0366a90f-32a6-4b1c-9fe2-6bc39e371451",
   "metadata": {
    "vscode": {
     "languageId": "r"
    }
   },
   "outputs": [],
   "source": [
    "pdf(file = './figures_3/Zfp711_pseudotime_combined.pdf',width = 25, height = 27)\n",
    "p_Zfp711_combined\n",
    "dev.off()"
   ]
  },
  {
   "cell_type": "code",
   "execution_count": null,
   "id": "0cf3c850-4475-421c-889f-2835dee4e5c9",
   "metadata": {
    "vscode": {
     "languageId": "r"
    }
   },
   "outputs": [],
   "source": [
    "png(file = './figures_3/Zfp711_pseudotime_combined.png',width = 25, height = 27,units = 'in',res = 300)\n",
    "p_Zfp711_combined\n",
    "dev.off()"
   ]
  },
  {
   "cell_type": "code",
   "execution_count": null,
   "id": "746692f9-f3d5-4264-b785-a7bfb8041c75",
   "metadata": {
    "vscode": {
     "languageId": "r"
    }
   },
   "outputs": [],
   "source": [
    "png(file = './figures_3/Zfp711_pseudotime_combined.png',width = 25, height = 27,units = 'in',res = 300)\n",
    "p_Zfp711_combined\n",
    "dev.off()"
   ]
  },
  {
   "cell_type": "code",
   "execution_count": null,
   "id": "905d9fc3-34f4-4bc3-86f0-e0d0caa8c18c",
   "metadata": {
    "vscode": {
     "languageId": "r"
    }
   },
   "outputs": [],
   "source": [
    "svg(file = './figures_3/Zfp711_pseudotime_combined.svg',width = 25, height = 27)\n",
    "p_Zfp711_combined\n",
    "dev.off()"
   ]
  },
  {
   "cell_type": "code",
   "execution_count": null,
   "id": "1e661382-0de5-4a14-9dc4-2e6f31bdf419",
   "metadata": {
    "vscode": {
     "languageId": "r"
    }
   },
   "outputs": [],
   "source": []
  },
  {
   "cell_type": "markdown",
   "id": "e9d750a6-0fc2-4e2a-a2af-8788f455c7f2",
   "metadata": {},
   "source": [
    "# Plot- Bcl6b"
   ]
  },
  {
   "cell_type": "code",
   "execution_count": null,
   "id": "50e2f462",
   "metadata": {
    "vscode": {
     "languageId": "r"
    }
   },
   "outputs": [],
   "source": [
    "options(repr.plot.width = 25, repr.plot.height = 9)\n",
    "p_Bcl6b_1 <- \n",
    "plot_grid(\n",
    "    p_Bcl6b_atlas_lm_allantois,p_Bcl6b_atlas_lm_epicardium, p_Bcl6b_atlas_lm_limb_mesoderm,\n",
    "    p_Bcl6b_cmo_lm_allantois, p_Bcl6b_cmo_lm_epicardium, p_Bcl6b_cmo_lm_limb_mesoderm,\n",
    "    ncol =  3\n",
    ")\n",
    "p_Bcl6b_1"
   ]
  },
  {
   "cell_type": "code",
   "execution_count": null,
   "id": "869e1e0f",
   "metadata": {
    "vscode": {
     "languageId": "r"
    }
   },
   "outputs": [],
   "source": [
    "options(repr.plot.width = 8.3, repr.plot.height = 9)\n",
    "p_Bcl6b_2 <-\n",
    "plot_grid(\n",
    "    p_Bcl6b_atlas_lm_limb_mesoderm,\n",
    "    p_Bcl6b_cmo_lm_limb_mesoderm,\n",
    "    ncol =  1\n",
    ")\n",
    "p_Bcl6b_2"
   ]
  },
  {
   "cell_type": "code",
   "execution_count": null,
   "id": "0b44cfc8-3d94-4919-a1e2-11104ab2978a",
   "metadata": {
    "vscode": {
     "languageId": "r"
    }
   },
   "outputs": [],
   "source": [
    "\n"
   ]
  },
  {
   "cell_type": "code",
   "execution_count": null,
   "id": "d68948a3",
   "metadata": {
    "vscode": {
     "languageId": "r"
    }
   },
   "outputs": [],
   "source": [
    "options(repr.plot.width = 25, repr.plot.height = 9)\n",
    "p_Bcl6b_3 <- plot_grid(\n",
    "    p_Bcl6b_atlas_endothelium,p_Bcl6b_atlas_erythroid, p_Bcl6b_atlas_emp,\n",
    "    p_Bcl6b_endothelium, p_Bcl6b_erythroid, p_Bcl6b_emp, \n",
    "    ncol =  3\n",
    ")\n",
    "p_Bcl6b_3"
   ]
  },
  {
   "cell_type": "code",
   "execution_count": null,
   "id": "23256301-b8e3-4828-9840-654b4cb9e688",
   "metadata": {
    "vscode": {
     "languageId": "r"
    }
   },
   "outputs": [],
   "source": []
  },
  {
   "cell_type": "code",
   "execution_count": null,
   "id": "ec2ce6df",
   "metadata": {
    "vscode": {
     "languageId": "r"
    }
   },
   "outputs": [],
   "source": [
    "options(repr.plot.width = 16.6, repr.plot.height = 4.5)\n",
    "p_Bcl6b_4 <-\n",
    "plot_grid(\n",
    "    p_Bcl6b_atlas_fhf,\n",
    "    p_Bcl6b_atlas_shf,\n",
    "    ncol =  2\n",
    ")\n",
    "p_Bcl6b_4"
   ]
  },
  {
   "cell_type": "code",
   "execution_count": null,
   "id": "46750545",
   "metadata": {
    "vscode": {
     "languageId": "r"
    }
   },
   "outputs": [],
   "source": [
    "options(repr.plot.width = 25, repr.plot.height = 9)\n",
    "p_Bcl6b_2_4 <-\n",
    "plot_grid(\n",
    "    p_Bcl6b_atlas_lm_limb_mesoderm,p_Bcl6b_atlas_fhf,p_Bcl6b_atlas_shf,\n",
    "    p_Bcl6b_cmo_lm_limb_mesoderm, NULL, NULL,\n",
    "    ncol =  3\n",
    ")\n",
    "p_Bcl6b_2_4"
   ]
  },
  {
   "cell_type": "code",
   "execution_count": null,
   "id": "c536250c",
   "metadata": {
    "vscode": {
     "languageId": "r"
    }
   },
   "outputs": [],
   "source": [
    "options(repr.plot.width = 25, repr.plot.height = 27)\n",
    "\n",
    "p_Bcl6b_combined <-\n",
    "plot_grid(\n",
    "    p_Bcl6b_3,p_Bcl6b_1,p_Bcl6b_2_4,\n",
    "\n",
    "    ncol =  1\n",
    ")\n",
    "p_Bcl6b_combined"
   ]
  },
  {
   "cell_type": "code",
   "execution_count": null,
   "id": "1a8d1f87-1b98-49ab-a20d-786ab70fac91",
   "metadata": {
    "vscode": {
     "languageId": "r"
    }
   },
   "outputs": [],
   "source": [
    "pdf(file = './figures_3/Bcl6b_pseudotime_combined.pdf',width = 25, height = 27)\n",
    "p_Bcl6b_combined\n",
    "dev.off()"
   ]
  },
  {
   "cell_type": "code",
   "execution_count": null,
   "id": "3911de3f-7d43-4bfc-873a-37f2a39f1f35",
   "metadata": {
    "vscode": {
     "languageId": "r"
    }
   },
   "outputs": [],
   "source": [
    "png(file = './figures_3/Bcl6b_pseudotime_combined.png',width = 25, height = 27,units = 'in',res = 300)\n",
    "p_Bcl6b_combined\n",
    "dev.off()"
   ]
  },
  {
   "cell_type": "code",
   "execution_count": null,
   "id": "71ef97d3-3a87-46cb-b0e2-75c4eee28e4e",
   "metadata": {
    "vscode": {
     "languageId": "r"
    }
   },
   "outputs": [],
   "source": [
    "png(file = './figures_3/Bcl6b_pseudotime_combined.png',width = 25, height = 27,units = 'in',res = 300)\n",
    "p_Bcl6b_combined\n",
    "dev.off()"
   ]
  },
  {
   "cell_type": "code",
   "execution_count": null,
   "id": "6b9e8f69-4a03-4e1d-96b2-a611c859f539",
   "metadata": {
    "vscode": {
     "languageId": "r"
    }
   },
   "outputs": [],
   "source": [
    "svg(file = './figures_3/Bcl6b_pseudotime_combined.svg',width = 25, height = 27)\n",
    "p_Bcl6b_combined\n",
    "dev.off()"
   ]
  },
  {
   "cell_type": "markdown",
   "id": "263dfb91-789c-4da2-80fa-63c170d4f0fc",
   "metadata": {},
   "source": [
    "# Figure different order"
   ]
  },
  {
   "cell_type": "code",
   "execution_count": null,
   "id": "3b02a0a9-5e56-4e7d-9f62-84b90f1b913b",
   "metadata": {
    "vscode": {
     "languageId": "r"
    }
   },
   "outputs": [],
   "source": [
    "   title = expression(paste(italic(\"In vitro\"), \" average \", italic(\"Bcl6b \"), \"expression: second wave\")),"
   ]
  },
  {
   "cell_type": "code",
   "execution_count": null,
   "id": "95d4d22a-d166-4a07-9e6f-51a12a3ca3cc",
   "metadata": {
    "vscode": {
     "languageId": "r"
    }
   },
   "outputs": [],
   "source": [
    "expression(paste(italic(\"In vivo\"), \" \", italic(\"Atf3 \"), \"expression: EMP Trajectory\"))"
   ]
  },
  {
   "cell_type": "code",
   "execution_count": null,
   "id": "30e5c643-c025-46f4-b451-1e703e3f27b5",
   "metadata": {
    "vscode": {
     "languageId": "r"
    }
   },
   "outputs": [],
   "source": [
    "p_Atf3_atlas_endothelium + ggtitle(expression(paste(italic(\"In vivo\"), \" \", italic(\"Atf3 \"), \"expression: endothelium trajectory\")),\n",
    "                                   subtitle = NULL) +\n",
    "  theme(plot.title = element_text(face = \"bold\", hjust = 0.5))  # hjust = 0.5 centers the title"
   ]
  },
  {
   "cell_type": "code",
   "execution_count": null,
   "id": "ff700b99",
   "metadata": {
    "vscode": {
     "languageId": "r"
    }
   },
   "outputs": [],
   "source": [
    "options(repr.plot.width = 30, repr.plot.height = 8)\n",
    "\n",
    "p_emp_combined <-\n",
    "plot_grid(\n",
    "    p_Atf3_atlas_emp + ggtitle(expression(paste(italic(\"In vivo\"), \" \", italic(\"Atf3 \"), \"expression: EMP trajectory\"))),\n",
    "    p_Zfp711_atlas_emp + ggtitle(expression(paste(italic(\"In vivo\"), \" \", italic(\"Zfp711 \"), \"expression: EMP trajectory\"))),\n",
    "    p_Bcl6b_atlas_emp  + ggtitle(expression(paste(italic(\"In vivo\"), \" \", italic(\"Bcl6b \"), \"expression: EMP trajectory\"))),\n",
    "    p_Atf3_emp + ggtitle(expression(paste(italic(\"In vitro\"), \" \", italic(\"Atf3 \"), \"expression: EMP trajectory\"))),\n",
    "    p_Zfp711_emp + ggtitle(expression(paste(italic(\"In vitro\"), \" \", italic(\"Zfp711 \"), \"expression: EMP trajectory\"))),\n",
    "    p_Bcl6b_emp + ggtitle(expression(paste(italic(\"In vitro\"), \" \", italic(\"Bcl6b \"), \"expression: EMP trajectory\"))),\n",
    "\n",
    "    ncol =  3\n",
    ")\n",
    "p_emp_combined"
   ]
  },
  {
   "cell_type": "code",
   "execution_count": null,
   "id": "1dbcbae0",
   "metadata": {
    "vscode": {
     "languageId": "r"
    }
   },
   "outputs": [],
   "source": [
    "options(repr.plot.width = 30, repr.plot.height = 8)\n",
    "\n",
    "p_endothelium_combined <-\n",
    "plot_grid(\n",
    "    p_Atf3_atlas_endothelium + ggtitle(expression(paste(italic(\"In vivo\"), \" \", italic(\"Atf3 \"), \"expression: endothelium rajectory\"))),\n",
    "    p_Zfp711_atlas_endothelium + ggtitle(expression(paste(italic(\"In vivo\"), \" \", italic(\"Zfp711 \"), \"expression: endothelium trajectory\"))),\n",
    "    p_Bcl6b_atlas_endothelium  + ggtitle(expression(paste(italic(\"In vivo\"), \" \", italic(\"Bcl6b \"), \"expression: endothelium trajectory\"))),\n",
    "    p_Atf3_endothelium + ggtitle(expression(paste(italic(\"In vitro\"), \" \", italic(\"Atf3 \"), \"expression: endothelium trajectory\"))),\n",
    "    p_Zfp711_endothelium + ggtitle(expression(paste(italic(\"In vitro\"), \" \", italic(\"Zfp711 \"), \"expression: endothelium trajectory\"))),\n",
    "    p_Bcl6b_endothelium + ggtitle(expression(paste(italic(\"In vitro\"), \" \", italic(\"Bcl6b \"), \"expression: endothelium trajectory\"))),\n",
    "\n",
    "    ncol =  3\n",
    ")\n",
    "p_endothelium_combined"
   ]
  },
  {
   "cell_type": "code",
   "execution_count": null,
   "id": "d9057d47",
   "metadata": {
    "vscode": {
     "languageId": "r"
    }
   },
   "outputs": [],
   "source": [
    "options(repr.plot.width = 30, repr.plot.height = 16)\n",
    "p_emp_endothelium <-\n",
    "plot_grid(\n",
    "    p_endothelium_combined,\n",
    "    p_emp_combined,\n",
    "    ncol= 1\n",
    ")\n",
    "p_emp_endothelium"
   ]
  },
  {
   "cell_type": "code",
   "execution_count": null,
   "id": "6d27c1b0-6578-4460-9f73-f77861fff55a",
   "metadata": {
    "vscode": {
     "languageId": "r"
    }
   },
   "outputs": [],
   "source": [
    "options(repr.plot.width = 30, repr.plot.height = 8)\n",
    "\n",
    "p_erythroid_combined <-\n",
    "plot_grid(\n",
    "    p_Atf3_atlas_erythroid + ggtitle(expression(paste(italic(\"In vivo\"), \" \", italic(\"Atf3 \"), \"expression: erythroid trajectory\"))),\n",
    "    p_Zfp711_atlas_erythroid + ggtitle(expression(paste(italic(\"In vivo\"), \" \", italic(\"Zfp711 \"), \"expression: erythroid trajectory\"))),\n",
    "    p_Bcl6b_atlas_erythroid  + ggtitle(expression(paste(italic(\"In vivo\"), \" \", italic(\"Bcl6b \"), \"expression: erythroid trajectory\"))),\n",
    "    p_Atf3_erythroid + ggtitle(expression(paste(italic(\"In vitro\"), \" \", italic(\"Atf3 \"), \"expression: erythroid trajectory\"))),\n",
    "    p_Zfp711_erythroid + ggtitle(expression(paste(italic(\"In vitro\"), \" \", italic(\"Zfp711 \"), \"expression: erythroid trajectory\"))),\n",
    "    p_Bcl6b_erythroid + ggtitle(expression(paste(italic(\"In vitro\"), \" \", italic(\"Bcl6b \"), \"expression: erythroid trajectory\"))),\n",
    "\n",
    "    ncol =  3\n",
    ")\n",
    "p_erythroid_combined"
   ]
  },
  {
   "cell_type": "markdown",
   "id": "08b4b007-88dc-45a4-bf23-d751760fe9bc",
   "metadata": {},
   "source": [
    "##### I am ready (pseudotime HEP lineages)"
   ]
  },
  {
   "cell_type": "code",
   "execution_count": null,
   "id": "a9396a4c",
   "metadata": {
    "vscode": {
     "languageId": "r"
    }
   },
   "outputs": [],
   "source": [
    "options(repr.plot.width = 30, repr.plot.height = 24)\n",
    "p_emp_endothelium_erythroid <-\n",
    "plot_grid(\n",
    "    p_endothelium_combined,\n",
    "    p_emp_combined,\n",
    "    p_erythroid_combined,\n",
    "    ncol= 1\n",
    ")\n",
    "p_emp_endothelium_erythroid"
   ]
  },
  {
   "cell_type": "code",
   "execution_count": null,
   "id": "5012aae5-9804-4ca7-b2c0-55db5a37bf45",
   "metadata": {
    "vscode": {
     "languageId": "r"
    }
   },
   "outputs": [],
   "source": []
  },
  {
   "cell_type": "code",
   "execution_count": null,
   "id": "a328331e-ee25-44c3-a417-c57c4f1a7ffa",
   "metadata": {
    "vscode": {
     "languageId": "r"
    }
   },
   "outputs": [],
   "source": [
    "pdf(file = './figures_3/plot_pseudotime_hep_lineages.pdf', width = 30, height = 24)\n",
    "p_emp_endothelium_erythroid\n",
    "dev.off()"
   ]
  },
  {
   "cell_type": "code",
   "execution_count": null,
   "id": "d6c3f9b5-9554-445b-9037-7ba8a469f566",
   "metadata": {
    "vscode": {
     "languageId": "r"
    }
   },
   "outputs": [],
   "source": [
    "svg(file = './figures_3/plot_pseudotime_hep_lineages.svg', width = 30, height = 24)\n",
    "p_emp_endothelium_erythroid\n",
    "dev.off()"
   ]
  },
  {
   "cell_type": "code",
   "execution_count": null,
   "id": "b6453482-a9a0-4888-8318-b32c91e773f0",
   "metadata": {
    "vscode": {
     "languageId": "r"
    }
   },
   "outputs": [],
   "source": [
    "png(file = './figures_3/plot_pseudotime_hep_lineages.png', width = 30, height = 24, units = 'in',res = 300)\n",
    "p_emp_endothelium_erythroid\n",
    "dev.off()"
   ]
  },
  {
   "cell_type": "code",
   "execution_count": null,
   "id": "aa26c34b-5086-48a8-b006-1ff4a4dfe0ba",
   "metadata": {
    "vscode": {
     "languageId": "r"
    }
   },
   "outputs": [],
   "source": []
  },
  {
   "cell_type": "code",
   "execution_count": null,
   "id": "6a0ba2b7-bc48-4d1e-a097-6d62d54d2d90",
   "metadata": {
    "vscode": {
     "languageId": "r"
    }
   },
   "outputs": [],
   "source": []
  },
  {
   "cell_type": "code",
   "execution_count": null,
   "id": "3d77cbe9",
   "metadata": {
    "vscode": {
     "languageId": "r"
    }
   },
   "outputs": [],
   "source": [
    "options(repr.plot.width = 30, repr.plot.height = 8)\n",
    "\n",
    "p_allantois_combined <-\n",
    "plot_grid(\n",
    "    p_Atf3_atlas_lm_allantois + ggtitle(expression(paste(italic(\"In vivo\"), \" \", italic(\"Atf3 \"), \"expression: allantois trajectory\"))),\n",
    "    p_Zfp711_atlas_lm_allantois + ggtitle(expression(paste(italic(\"In vivo\"), \" \", italic(\"Zfp711 \"), \"expression: allantois trajectory\"))),\n",
    "    p_Bcl6b_atlas_lm_allantois  + ggtitle(expression(paste(italic(\"In vivo\"), \" \", italic(\"Bcl6b \"), \"expression: allantois trajectory\"))),\n",
    "    p_Atf3_cmo_lm_allantois + ggtitle(expression(paste(italic(\"In vitro\"), \" \", italic(\"Atf3 \"), \"expression: allantois trajectory\"))),\n",
    "    p_Zfp711_cmo_lm_allantois + ggtitle(expression(paste(italic(\"In vitro\"), \" \", italic(\"Zfp711 \"), \"expression: allantois trajectory\"))),\n",
    "    p_Bcl6b_cmo_lm_allantois + ggtitle(expression(paste(italic(\"In vitro\"), \" \", italic(\"Bcl6b \"), \"expression: allantois trajectory\"))),\n",
    "\n",
    "    ncol =  3\n",
    ")\n",
    "p_allantois_combined"
   ]
  },
  {
   "cell_type": "code",
   "execution_count": null,
   "id": "f5c0bd4c",
   "metadata": {
    "vscode": {
     "languageId": "r"
    }
   },
   "outputs": [],
   "source": [
    "options(repr.plot.width = 30, repr.plot.height = 8)\n",
    "\n",
    "p_epicardium_combined <-\n",
    "plot_grid(\n",
    "    p_Atf3_atlas_lm_epicardium + ggtitle(expression(paste(italic(\"In vivo\"), \" \", italic(\"Atf3 \"), \"expression: epicardium trajectory\"))),\n",
    "    p_Zfp711_atlas_lm_epicardium + ggtitle(expression(paste(italic(\"In vivo\"), \" \", italic(\"Zfp711 \"), \"expression: epicardium trajectory\"))),\n",
    "    p_Bcl6b_atlas_lm_epicardium  + ggtitle(expression(paste(italic(\"In vivo\"), \" \", italic(\"Bcl6b \"), \"expression: epicardium trajectory\"))),\n",
    "    p_Atf3_cmo_lm_epicardium + ggtitle(expression(paste(italic(\"In vitro\"), \" \", italic(\"Atf3 \"), \"expression: epicardium trajectory\"))),\n",
    "    p_Zfp711_cmo_lm_epicardium + ggtitle(expression(paste(italic(\"In vitro\"), \" \", italic(\"Zfp711 \"), \"expression: epicardium trajectory\"))),\n",
    "    p_Bcl6b_cmo_lm_epicardium + ggtitle(expression(paste(italic(\"In vitro\"), \" \", italic(\"Bcl6b \"), \"expression: epicardium trajectory\"))),\n",
    "\n",
    "    ncol =  3\n",
    ")\n",
    "p_epicardium_combined"
   ]
  },
  {
   "cell_type": "code",
   "execution_count": null,
   "id": "da4e4536",
   "metadata": {
    "vscode": {
     "languageId": "r"
    }
   },
   "outputs": [],
   "source": [
    "options(repr.plot.width = 30, repr.plot.height = 8)\n",
    "\n",
    "p_mesenchyme_combined <-\n",
    "plot_grid(\n",
    "    p_Atf3_atlas_lm_mesenchyme + ggtitle(expression(paste(italic(\"In vivo\"), \" \", italic(\"Atf3 \"), \"expression: mesenchyme trajectory\"))),\n",
    "    p_Zfp711_atlas_lm_mesenchyme + ggtitle(expression(paste(italic(\"In vivo\"), \" \", italic(\"Zfp711 \"), \"expression: mesenchyme trajectory\"))),\n",
    "    p_Bcl6b_atlas_lm_mesenchyme  + ggtitle(expression(paste(italic(\"In vivo\"), \" \", italic(\"Bcl6b \"), \"expression: mesenchyme trajectory\"))),\n",
    "    p_Atf3_cmo_lm_mesenchyme + ggtitle(expression(paste(italic(\"In vitro\"), \" \", italic(\"Atf3 \"), \"expression: mesenchyme trajectory\"))),\n",
    "    p_Zfp711_cmo_lm_mesenchyme + ggtitle(expression(paste(italic(\"In vitro\"), \" \", italic(\"Zfp711 \"), \"expression: mesenchyme trajectory\"))),\n",
    "    p_Bcl6b_cmo_lm_mesenchyme + ggtitle(expression(paste(italic(\"In vitro\"), \" \", italic(\"Bcl6b \"), \"expression: mesenchyme trajectory\"))),\n",
    "\n",
    "    ncol =  3\n",
    ")\n",
    "p_mesenchyme_combined"
   ]
  },
  {
   "cell_type": "code",
   "execution_count": null,
   "id": "544f8df6",
   "metadata": {
    "vscode": {
     "languageId": "r"
    }
   },
   "outputs": [],
   "source": [
    "options(repr.plot.width = 30, repr.plot.height = 8)\n",
    "\n",
    "p_limb_mesoderm_combined <-\n",
    "plot_grid(\n",
    "    p_Atf3_atlas_lm_limb_mesoderm + ggtitle(expression(paste(italic(\"In vivo\"), \" \", italic(\"Atf3 \"), \"expression: limb mesoderm trajectory\"))),\n",
    "    p_Zfp711_atlas_lm_limb_mesoderm + ggtitle(expression(paste(italic(\"In vivo\"), \" \", italic(\"Zfp711 \"), \"expression: limb mesoderm trajectory\"))),\n",
    "    p_Bcl6b_atlas_lm_limb_mesoderm  + ggtitle(expression(paste(italic(\"In vivo\"), \" \", italic(\"Bcl6b \"), \"expression: limb mesoderm trajectory\"))),\n",
    "    p_Atf3_cmo_lm_limb_mesoderm + ggtitle(expression(paste(italic(\"In vitro\"), \" \", italic(\"Atf3 \"), \"expression: limb mesoderm trajectory\"))),\n",
    "    p_Zfp711_cmo_lm_limb_mesoderm + ggtitle(expression(paste(italic(\"In vitro\"), \" \", italic(\"Zfp711 \"), \"expression: limb mesoderm trajectory\"))),\n",
    "    p_Bcl6b_cmo_lm_limb_mesoderm + ggtitle(expression(paste(italic(\"In vitro\"), \" \", italic(\"Bcl6b \"), \"expression: limb mesoderm trajectory\"))),\n",
    "\n",
    "    ncol =  3\n",
    ")\n",
    "p_limb_mesoderm_combined"
   ]
  },
  {
   "cell_type": "code",
   "execution_count": null,
   "id": "721ab855",
   "metadata": {
    "vscode": {
     "languageId": "r"
    }
   },
   "outputs": [],
   "source": [
    "options(repr.plot.width = 30, repr.plot.height = 8)\n",
    "\n",
    "p_cardiac_combined <-\n",
    "plot_grid(\n",
    "    p_Atf3_atlas_fhf + ggtitle(expression(paste(italic(\"In vivo\"), \" \", italic(\"Atf3 \"), \"expression: first heart field trajectory\"))),\n",
    "    p_Zfp711_atlas_fhf + ggtitle(expression(paste(italic(\"In vivo\"), \" \", italic(\"Zfp711 \"), \"expression: first heart field trajectory\"))),\n",
    "    p_Bcl6b_atlas_fhf  + ggtitle(expression(paste(italic(\"In vivo\"), \" \", italic(\"Bcl6b \"), \"expression: first heart field trajectory\"))),\n",
    "    p_Atf3_atlas_shf + ggtitle(expression(paste(italic(\"In vitro\"), \" \", italic(\"Atf3 \"), \"expression: second heart field trajectory\"))),\n",
    "    p_Zfp711_atlas_shf + ggtitle(expression(paste(italic(\"In vitro\"), \" \", italic(\"Zfp711 \"), \"expression: second heart field trajectory\"))),\n",
    "    p_Bcl6b_atlas_shf + ggtitle(expression(paste(italic(\"In vitro\"), \" \", italic(\"Bcl6b \"), \"expression: second heart field trajectory\"))),\n",
    "\n",
    "    ncol =  3\n",
    ")\n",
    "p_cardiac_combined"
   ]
  },
  {
   "cell_type": "code",
   "execution_count": null,
   "id": "19b4cefe",
   "metadata": {
    "vscode": {
     "languageId": "r"
    }
   },
   "outputs": [],
   "source": [
    "options(repr.plot.width = 30, repr.plot.height = 24)\n",
    "p_epicardium_allantois_mesenchyme <-\n",
    "plot_grid(\n",
    "    p_epicardium_combined,\n",
    "    p_allantois_combined,\n",
    "    p_mesenchyme_combined,\n",
    "    ncol= 1\n",
    ")\n",
    "p_epicardium_allantois_mesenchyme"
   ]
  },
  {
   "cell_type": "code",
   "execution_count": null,
   "id": "e3cb89c2-f0f7-47d3-b33d-f7eb5056eea7",
   "metadata": {
    "vscode": {
     "languageId": "r"
    }
   },
   "outputs": [],
   "source": []
  },
  {
   "cell_type": "code",
   "execution_count": null,
   "id": "6dcf6963-cdef-48f8-85df-d7eff6515c05",
   "metadata": {
    "vscode": {
     "languageId": "r"
    }
   },
   "outputs": [],
   "source": [
    "pdf(file = './figures_3/plot_pseudotime_latemesoderm_lineages.pdf', width = 30, height = 24)\n",
    "p_epicardium_allantois_mesenchyme\n",
    "dev.off()"
   ]
  },
  {
   "cell_type": "code",
   "execution_count": null,
   "id": "a0559fae-73b9-4b98-bf39-eb49da31f185",
   "metadata": {
    "vscode": {
     "languageId": "r"
    }
   },
   "outputs": [],
   "source": [
    "svg(file = './figures_3/plot_pseudotime_latemesoderm_lineages.svg', width = 30, height = 24)\n",
    "p_epicardium_allantois_mesenchyme\n",
    "dev.off()"
   ]
  },
  {
   "cell_type": "code",
   "execution_count": null,
   "id": "ac0bf7b1-8219-4d01-b677-fb0fb875aa9a",
   "metadata": {
    "vscode": {
     "languageId": "r"
    }
   },
   "outputs": [],
   "source": [
    "png(file = './figures_3/plot_pseudotime_latemesoderm_lineages.png', width = 30, height = 24, units = 'in',res = 300)\n",
    "p_epicardium_allantois_mesenchyme\n",
    "dev.off()"
   ]
  },
  {
   "cell_type": "code",
   "execution_count": null,
   "id": "9b3e90b5-beaa-406e-b1ca-c1ae31a9bbbb",
   "metadata": {
    "vscode": {
     "languageId": "r"
    }
   },
   "outputs": [],
   "source": [
    "options(repr.plot.width = 30, repr.plot.height = 16)\n",
    "p_limbmesoderm_fhf_shf <-\n",
    "plot_grid(\n",
    "    p_limb_mesoderm_combined,\n",
    "    p_cardiac_combined,\n",
    "    ncol= 1\n",
    ")\n",
    "p_limbmesoderm_fhf_shf"
   ]
  },
  {
   "cell_type": "code",
   "execution_count": null,
   "id": "895c68d6-1e9d-4abb-819c-a91537922223",
   "metadata": {
    "vscode": {
     "languageId": "r"
    }
   },
   "outputs": [],
   "source": [
    "pdf(file = './figures_3/plot_pseudotime_latemesoderm_and_cardiac.pdf', width = 30, height = 16)\n",
    "p_limbmesoderm_fhf_shf\n",
    "dev.off()"
   ]
  },
  {
   "cell_type": "code",
   "execution_count": null,
   "id": "0602b5df-455d-4f53-835e-c20274184188",
   "metadata": {
    "vscode": {
     "languageId": "r"
    }
   },
   "outputs": [],
   "source": [
    "svg(file = './figures_3/plot_pseudotime_latemesoderm_and_cardiac.svg', width = 30, height = 16)\n",
    "p_limbmesoderm_fhf_shf\n",
    "dev.off()"
   ]
  },
  {
   "cell_type": "code",
   "execution_count": null,
   "id": "786ba94c-bdaa-4035-ab8b-0649a05b4961",
   "metadata": {
    "vscode": {
     "languageId": "r"
    }
   },
   "outputs": [],
   "source": [
    "png(file = './figures_3/plot_pseudotime_latemesoderm_and_cardiac.png', width = 30, height = 16, units = 'in',res = 300)\n",
    "p_limbmesoderm_fhf_shf\n",
    "dev.off()"
   ]
  },
  {
   "cell_type": "code",
   "execution_count": null,
   "id": "820ba9a7-5a2a-415e-9ef6-c65a29c643ef",
   "metadata": {
    "vscode": {
     "languageId": "r"
    }
   },
   "outputs": [],
   "source": []
  },
  {
   "cell_type": "code",
   "execution_count": null,
   "id": "32d6548a-3dbb-4226-b652-b79865e1a28d",
   "metadata": {
    "vscode": {
     "languageId": "r"
    }
   },
   "outputs": [],
   "source": []
  },
  {
   "cell_type": "markdown",
   "id": "642a1190-e972-40e4-b71b-4be166b5aad7",
   "metadata": {},
   "source": [
    "# Manual Pseudotime"
   ]
  },
  {
   "cell_type": "code",
   "execution_count": null,
   "id": "ca398b0c-e356-4cbf-9457-c2c88ee9dc3a",
   "metadata": {
    "vscode": {
     "languageId": "r"
    }
   },
   "outputs": [],
   "source": []
  },
  {
   "cell_type": "code",
   "execution_count": null,
   "id": "6351a1b3-1deb-48ca-b3d6-b33b1413c676",
   "metadata": {
    "vscode": {
     "languageId": "r"
    }
   },
   "outputs": [],
   "source": [
    "Atf3_paralogs <- c('Atf3','Jdp2','Batf3','Batf','Fosl1','Fosb','Fosl2')"
   ]
  },
  {
   "cell_type": "code",
   "execution_count": null,
   "id": "427bd188-6126-4cb8-87fd-2b50839cdca9",
   "metadata": {
    "vscode": {
     "languageId": "r"
    }
   },
   "outputs": [],
   "source": [
    "Zfp711_paralogs <- c('Zfp711','Zfy1','Zfy2','Zfx')"
   ]
  },
  {
   "cell_type": "code",
   "execution_count": null,
   "id": "ade3873c-fddb-4bc4-8a49-6373975227c6",
   "metadata": {
    "vscode": {
     "languageId": "r"
    }
   },
   "outputs": [],
   "source": [
    "Bcl6b_paralogs <-c('Bcl6b',\"Bcl6\")"
   ]
  },
  {
   "cell_type": "code",
   "execution_count": null,
   "id": "1a123045-1932-4376-b2bf-b2dd15c57509",
   "metadata": {
    "vscode": {
     "languageId": "r"
    }
   },
   "outputs": [],
   "source": [
    "KOs_and_paralogs <- c(Atf3_paralogs,Zfp711_paralogs,Bcl6b_paralogs)"
   ]
  },
  {
   "cell_type": "code",
   "execution_count": null,
   "id": "1ce2306e-c3c3-44ed-a6d2-854163b9c212",
   "metadata": {
    "vscode": {
     "languageId": "r"
    }
   },
   "outputs": [],
   "source": [
    "ps_atlas <- AverageExpression(object = atlas,features = KOs_and_paralogs, group.by = 'celltype_extended_atlas', layer = 'data'  )"
   ]
  },
  {
   "cell_type": "code",
   "execution_count": null,
   "id": "43812f16-e785-4db1-a055-70d1627abaa3",
   "metadata": {
    "scrolled": true,
    "vscode": {
     "languageId": "r"
    }
   },
   "outputs": [],
   "source": [
    "head(ps_atlas)"
   ]
  },
  {
   "cell_type": "code",
   "execution_count": null,
   "id": "8681fd76-6702-4916-aede-9c09316e2ed4",
   "metadata": {
    "vscode": {
     "languageId": "r"
    }
   },
   "outputs": [],
   "source": [
    "obj\n",
    "wt_obj <- subset(obj, subset = Conditions_lv %in% \"Control\")\n",
    "wt_obj"
   ]
  },
  {
   "cell_type": "code",
   "execution_count": null,
   "id": "18a198fe-678a-4de4-8c91-8f4d7e77f465",
   "metadata": {
    "vscode": {
     "languageId": "r"
    }
   },
   "outputs": [],
   "source": [
    "wt_obj$new_subclusters_x"
   ]
  },
  {
   "cell_type": "code",
   "execution_count": null,
   "id": "eeb40f34-1d34-4bd6-a73e-0c62e129815b",
   "metadata": {
    "vscode": {
     "languageId": "r"
    }
   },
   "outputs": [],
   "source": [
    "ps_wt_obj_x <- AverageExpression(object = wt_obj,features = KOs_and_paralogs, group.by = 'new_subclusters_x', layer = 'data'  )"
   ]
  },
  {
   "cell_type": "code",
   "execution_count": null,
   "id": "8ae2d4c1-47a7-41a4-8319-d76e447f59d0",
   "metadata": {
    "vscode": {
     "languageId": "r"
    }
   },
   "outputs": [],
   "source": [
    "ps_wt_obj <- AverageExpression(object = wt_obj,features = KOs_and_paralogs, group.by = 'new_subclusters', layer = 'data'  )"
   ]
  },
  {
   "cell_type": "code",
   "execution_count": null,
   "id": "f170ecb5-ae1a-471c-90bf-86f61647bddc",
   "metadata": {
    "vscode": {
     "languageId": "r"
    }
   },
   "outputs": [],
   "source": [
    "colnames(ps_wt_obj$RNA)"
   ]
  },
  {
   "cell_type": "code",
   "execution_count": null,
   "id": "6ee7aeb6-e630-4bc8-aeab-620d5f1d2949",
   "metadata": {
    "vscode": {
     "languageId": "r"
    }
   },
   "outputs": [],
   "source": [
    "colnames(ps_wt_obj_x$RNA)"
   ]
  },
  {
   "cell_type": "code",
   "execution_count": null,
   "id": "2afb3795-6d34-4d5e-a065-3d26eb53e996",
   "metadata": {
    "vscode": {
     "languageId": "r"
    }
   },
   "outputs": [],
   "source": [
    "colnames(ps_atlas$originalexp)"
   ]
  },
  {
   "cell_type": "code",
   "execution_count": null,
   "id": "fc17ff1c-a59e-406f-9a4a-c0ea03e55727",
   "metadata": {
    "vscode": {
     "languageId": "r"
    }
   },
   "outputs": [],
   "source": [
    "dfa <-as.data.frame(ps_atlas$originalexp)\n",
    "dfc  <- as.data.frame(ps_wt_obj$RNA)\n",
    "dfcx  <-as.data.frame( ps_wt_obj_x$RNA)"
   ]
  },
  {
   "cell_type": "markdown",
   "id": "01056858-70ea-4c75-8c75-b42898a48cd6",
   "metadata": {},
   "source": [
    "## EMP"
   ]
  },
  {
   "cell_type": "markdown",
   "id": "bddd57cd-2dca-4dc2-8258-c4b911abf659",
   "metadata": {},
   "source": [
    "### in vivo"
   ]
  },
  {
   "cell_type": "code",
   "execution_count": null,
   "id": "37361515-2e2d-42ff-96cb-43232c9c35d6",
   "metadata": {
    "vscode": {
     "languageId": "r"
    }
   },
   "outputs": [],
   "source": [
    "curves_atlas_emp"
   ]
  },
  {
   "cell_type": "code",
   "execution_count": null,
   "id": "defaa547-be0a-4253-836f-28de44266b83",
   "metadata": {
    "vscode": {
     "languageId": "r"
    }
   },
   "outputs": [],
   "source": [
    "unique(atlas$celltype_extended_atlas)"
   ]
  },
  {
   "cell_type": "code",
   "execution_count": null,
   "id": "f12e8384-6ead-4f3a-970e-06037cdaf5eb",
   "metadata": {
    "vscode": {
     "languageId": "r"
    }
   },
   "outputs": [],
   "source": [
    "emp_ct <- c('Epiblast', 'Primitive Streak',  'Nascent mesoderm',  'Haematoendothelial progenitors',  'Embryo proper endothelium', 'Allantois endothelium',\n",
    "            'Venous endothelium', 'Endocardium','YS endothelium',  'EMP', 'Megakaryocyte progenitors','MEP' )"
   ]
  },
  {
   "cell_type": "code",
   "execution_count": null,
   "id": "755ef2de-a79a-44cd-bc9c-ea8646afa1a4",
   "metadata": {
    "vscode": {
     "languageId": "r"
    }
   },
   "outputs": [],
   "source": [
    "head(dfa)"
   ]
  },
  {
   "cell_type": "code",
   "execution_count": null,
   "id": "40f18739-9d20-4ef7-bc3d-fe93688f1b3f",
   "metadata": {
    "vscode": {
     "languageId": "r"
    }
   },
   "outputs": [],
   "source": [
    "dfa_emp <- dfa[,colnames(dfa) %in% emp_ct]\n",
    "dim(dfa_emp)"
   ]
  },
  {
   "cell_type": "code",
   "execution_count": null,
   "id": "fbc7ca8c-7ecc-4204-bd78-11be31029ef1",
   "metadata": {
    "vscode": {
     "languageId": "r"
    }
   },
   "outputs": [],
   "source": [
    "head(dfa_emp)"
   ]
  },
  {
   "cell_type": "code",
   "execution_count": null,
   "id": "8d9c5463-58d1-4425-91ba-6c8947ddaa5c",
   "metadata": {
    "vscode": {
     "languageId": "r"
    }
   },
   "outputs": [],
   "source": [
    "dfa_emp <- dfa[, emp_ct]"
   ]
  },
  {
   "cell_type": "code",
   "execution_count": null,
   "id": "cabec254-52a1-4e51-abbc-0233cb17593c",
   "metadata": {
    "vscode": {
     "languageId": "r"
    }
   },
   "outputs": [],
   "source": [
    "head(dfa_emp)"
   ]
  },
  {
   "cell_type": "code",
   "execution_count": null,
   "id": "6068047c-4a8c-4235-8182-ab3681f1b711",
   "metadata": {
    "vscode": {
     "languageId": "r"
    }
   },
   "outputs": [],
   "source": [
    "dfa_emp_s <- dfa_emp[KOs_and_paralogs,]\n",
    "head(dfa_emp_s)"
   ]
  },
  {
   "cell_type": "code",
   "execution_count": null,
   "id": "b6ec0f4d-df8c-4217-bd0e-6e93328f7747",
   "metadata": {
    "vscode": {
     "languageId": "r"
    }
   },
   "outputs": [],
   "source": [
    "dfa_emp_st <- t(dfa_emp_s)"
   ]
  },
  {
   "cell_type": "code",
   "execution_count": null,
   "id": "a541deec-290d-4415-a7e1-44c0a2a5eff5",
   "metadata": {
    "vscode": {
     "languageId": "r"
    }
   },
   "outputs": [],
   "source": [
    "dfa_emp_st <- as.data.frame(dfa_emp_st)"
   ]
  },
  {
   "cell_type": "code",
   "execution_count": null,
   "id": "6f0c0199-3fbd-4e59-a106-1fe2ced50687",
   "metadata": {
    "vscode": {
     "languageId": "r"
    }
   },
   "outputs": [],
   "source": [
    "head(dfa_emp_st)"
   ]
  },
  {
   "cell_type": "code",
   "execution_count": null,
   "id": "92019f20-2cbf-4ae1-99bf-e8e09887240d",
   "metadata": {
    "vscode": {
     "languageId": "r"
    }
   },
   "outputs": [],
   "source": [
    "dfa_emp_st$cluster <- rownames(dfa_emp_st)"
   ]
  },
  {
   "cell_type": "code",
   "execution_count": null,
   "id": "0590c967-aa91-47d2-9ff5-66be292599fe",
   "metadata": {
    "vscode": {
     "languageId": "r"
    }
   },
   "outputs": [],
   "source": [
    "head(dfa_emp_st)"
   ]
  },
  {
   "cell_type": "code",
   "execution_count": null,
   "id": "4fb7beed-a2f3-4ca4-81c1-2d263cb3d506",
   "metadata": {
    "vscode": {
     "languageId": "r"
    }
   },
   "outputs": [],
   "source": [
    "str(dfa_emp_st)"
   ]
  },
  {
   "cell_type": "code",
   "execution_count": null,
   "id": "51a7e991-f178-4b5d-9b2f-51e33ebfe4ce",
   "metadata": {
    "vscode": {
     "languageId": "r"
    }
   },
   "outputs": [],
   "source": [
    "library(ggplot2)\n",
    "library(dplyr)\n",
    "options(repr.plot.width = 10, repr.plot.height = 6)\n",
    "\n",
    "# Reorder clusters according to emp_ct vector\n",
    "dfa_emp_st$cluster <- factor(dfa_emp_st$cluster, levels = emp_ct)\n",
    "\n",
    "# Improved version for scientific publication\n",
    "p_dfa_emp_st_atf3 <- ggplot(dfa_emp_st, aes(x = cluster, y = Atf3, group = 1)) +\n",
    "  geom_area(fill = \"#E8F4FD\", alpha = 0.3) +\n",
    "  geom_line(color = \"#1f77b4\", linewidth = 1.2) +  # Updated to linewidth\n",
    "  geom_point(color = \"#ff7f0e\", size = 3.5, stroke = 1.2, fill = \"white\", shape = 21) +\n",
    "  labs(\n",
    "   title = expression(paste(italic(\"In vivo\"), \" average \", italic(\"Atf3 \"), \"expression: second wave\")),\n",
    "    x = \"Ordered Developmental Stage - Cell Type\",\n",
    "    y = \"Average Expression Level (normalized counts)\"\n",
    "  ) +\n",
    "  theme_classic(base_size = 14) +  # Increased base font size\n",
    "  theme(\n",
    "    # Title improvements\n",
    "    plot.title = element_text(size = 16, face = \"bold\", hjust = 0.5, \n",
    "                             color = \"black\", margin = margin(b = 20)),\n",
    "    \n",
    "    # Axis improvements\n",
    "    axis.title.x = element_text(size = 12, face = \"bold\", color = \"black\",\n",
    "                               margin = margin(t = 15)),\n",
    "    axis.title.y = element_text(size = 12, face = \"bold\", color = \"black\",\n",
    "                               margin = margin(r = 15)),\n",
    "    axis.text.x = element_text(angle = 45, hjust = 1, size = 10, color = \"black\"),\n",
    "    axis.text.y = element_text(size = 10, color = \"black\"),\n",
    "    \n",
    "    # Clean axis lines\n",
    "    axis.line = element_line(color = \"black\", linewidth = 0.6),\n",
    "    axis.ticks = element_line(color = \"black\", linewidth = 0.5),\n",
    "    axis.ticks.length = unit(0.2, \"cm\"),\n",
    "    \n",
    "    # Background\n",
    "    plot.background = element_rect(fill = \"white\", color = NA),\n",
    "    panel.background = element_rect(fill = \"white\", color = NA),\n",
    "    \n",
    "    # Margins for better spacing\n",
    "    plot.margin = margin(20, 20, 20, 20),\n",
    "    \n",
    "    # Remove minor gridlines, keep major y-gridlines subtle\n",
    "    panel.grid.major.y = element_line(color = \"grey90\", linewidth = 0.3),\n",
    "    panel.grid.major.x = element_blank(),\n",
    "    panel.grid.minor = element_blank()\n",
    "  ) +\n",
    "  # Add subtle y-axis breaks\n",
    "  scale_y_continuous(expand = expansion(mult = c(0.02, 0.05)),\n",
    "                     breaks = scales::pretty_breaks(n = 6))\n",
    "\n",
    "# Display the plot\n",
    "print(p_dfa_emp_st_atf3)\n",
    "\n",
    "# Simple version without error bars or sample size annotations\n",
    "# This is the clean version for publication without statistical elements\n",
    "#p_final <- p_dfa_emp_st_atf3 +\n",
    "#  labs(caption = NULL)  # Remove caption if not needed\n",
    "\n",
    "#print(p_final)"
   ]
  },
  {
   "cell_type": "code",
   "execution_count": null,
   "id": "d9516835-2eee-4d80-a5bf-d41d763e0714",
   "metadata": {
    "vscode": {
     "languageId": "r"
    }
   },
   "outputs": [],
   "source": [
    "library(ggplot2)\n",
    "library(dplyr)\n",
    "options(repr.plot.width = 10, repr.plot.height = 6)\n",
    "\n",
    "# Reorder clusters according to emp_ct vector\n",
    "dfa_emp_st$cluster <- factor(dfa_emp_st$cluster, levels = emp_ct)\n",
    "\n",
    "# Improved version for scientific publication\n",
    "p_dfa_emp_st_zfp711 <- ggplot(dfa_emp_st, aes(x = cluster, y = Zfp711, group = 1)) +\n",
    "  geom_area(fill = \"#E8F4FD\", alpha = 0.3) +\n",
    "  geom_line(color = \"#1f77b4\", linewidth = 1.2) +  # Updated to linewidth\n",
    "  geom_point(color = \"#ff7f0e\", size = 3.5, stroke = 1.2, fill = \"white\", shape = 21) +\n",
    "  labs(\n",
    "   title = expression(paste(italic(\"In vivo\"), \" average \", italic(\"Zfp711 \"), \"expression: second wave\")),\n",
    "    x = \"Ordered Developmental Stage - Cell Type\",\n",
    "    y = \"Average Expression Level (normalized counts)\"\n",
    "  ) +\n",
    "  theme_classic(base_size = 14) +  # Increased base font size\n",
    "  theme(\n",
    "    # Title improvements\n",
    "    plot.title = element_text(size = 16, face = \"bold\", hjust = 0.5, \n",
    "                             color = \"black\", margin = margin(b = 20)),\n",
    "    \n",
    "    # Axis improvements\n",
    "    axis.title.x = element_text(size = 12, face = \"bold\", color = \"black\",\n",
    "                               margin = margin(t = 15)),\n",
    "    axis.title.y = element_text(size = 12, face = \"bold\", color = \"black\",\n",
    "                               margin = margin(r = 15)),\n",
    "    axis.text.x = element_text(angle = 45, hjust = 1, size = 10, color = \"black\"),\n",
    "    axis.text.y = element_text(size = 10, color = \"black\"),\n",
    "    \n",
    "    # Clean axis lines\n",
    "    axis.line = element_line(color = \"black\", linewidth = 0.6),\n",
    "    axis.ticks = element_line(color = \"black\", linewidth = 0.5),\n",
    "    axis.ticks.length = unit(0.2, \"cm\"),\n",
    "    \n",
    "    # Background\n",
    "    plot.background = element_rect(fill = \"white\", color = NA),\n",
    "    panel.background = element_rect(fill = \"white\", color = NA),\n",
    "    \n",
    "    # Margins for better spacing\n",
    "    plot.margin = margin(20, 20, 20, 20),\n",
    "    \n",
    "    # Remove minor gridlines, keep major y-gridlines subtle\n",
    "    panel.grid.major.y = element_line(color = \"grey90\", linewidth = 0.3),\n",
    "    panel.grid.major.x = element_blank(),\n",
    "    panel.grid.minor = element_blank()\n",
    "  ) +\n",
    "  # Add subtle y-axis breaks\n",
    "  scale_y_continuous(expand = expansion(mult = c(0.02, 0.05)),\n",
    "                     breaks = scales::pretty_breaks(n = 6))\n",
    "\n",
    "# Display the plot\n",
    "print(p_dfa_emp_st_zfp711)\n",
    "\n",
    "# Simple version without error bars or sample size annotations\n",
    "# This is the clean version for publication without statistical elements\n",
    "#p_final <- p_dfa_emp_st_atf3 +\n",
    "#  labs(caption = NULL)  # Remove caption if not needed\n",
    "\n",
    "#print(p_final)"
   ]
  },
  {
   "cell_type": "code",
   "execution_count": null,
   "id": "acb38707-c5f1-41ea-b380-b9ace2945ef9",
   "metadata": {
    "vscode": {
     "languageId": "r"
    }
   },
   "outputs": [],
   "source": [
    "library(ggplot2)\n",
    "library(dplyr)\n",
    "options(repr.plot.width = 10, repr.plot.height = 6)\n",
    "\n",
    "# Reorder clusters according to emp_ct vector\n",
    "dfa_emp_st$cluster <- factor(dfa_emp_st$cluster, levels = emp_ct)\n",
    "\n",
    "# Improved version for scientific publication\n",
    "p_dfa_emp_st_bcl6b <- ggplot(dfa_emp_st, aes(x = cluster, y = Bcl6b, group = 1)) +\n",
    "  geom_area(fill = \"#E8F4FD\", alpha = 0.3) +\n",
    "  geom_line(color = \"#1f77b4\", linewidth = 1.2) +  # Updated to linewidth\n",
    "  geom_point(color = \"#ff7f0e\", size = 3.5, stroke = 1.2, fill = \"white\", shape = 21) +\n",
    "  labs(\n",
    "   title = expression(paste(italic(\"In vivo\"), \" average \", italic(\"Bcl6b \"), \"expression: second wave\")),\n",
    "    x = \"Ordered Developmental Stage - Cell Type\",\n",
    "    y = \"Average Expression Level (normalized counts)\"\n",
    "  ) +\n",
    "  theme_classic(base_size = 14) +  # Increased base font size\n",
    "  theme(\n",
    "    # Title improvements\n",
    "    plot.title = element_text(size = 16, face = \"bold\", hjust = 0.5, \n",
    "                             color = \"black\", margin = margin(b = 20)),\n",
    "    \n",
    "    # Axis improvements\n",
    "    axis.title.x = element_text(size = 12, face = \"bold\", color = \"black\",\n",
    "                               margin = margin(t = 15)),\n",
    "    axis.title.y = element_text(size = 12, face = \"bold\", color = \"black\",\n",
    "                               margin = margin(r = 15)),\n",
    "    axis.text.x = element_text(angle = 45, hjust = 1, size = 10, color = \"black\"),\n",
    "    axis.text.y = element_text(size = 10, color = \"black\"),\n",
    "    \n",
    "    # Clean axis lines\n",
    "    axis.line = element_line(color = \"black\", linewidth = 0.6),\n",
    "    axis.ticks = element_line(color = \"black\", linewidth = 0.5),\n",
    "    axis.ticks.length = unit(0.2, \"cm\"),\n",
    "    \n",
    "    # Background\n",
    "    plot.background = element_rect(fill = \"white\", color = NA),\n",
    "    panel.background = element_rect(fill = \"white\", color = NA),\n",
    "    \n",
    "    # Margins for better spacing\n",
    "    plot.margin = margin(20, 20, 20, 20),\n",
    "    \n",
    "    # Remove minor gridlines, keep major y-gridlines subtle\n",
    "    panel.grid.major.y = element_line(color = \"grey90\", linewidth = 0.3),\n",
    "    panel.grid.major.x = element_blank(),\n",
    "    panel.grid.minor = element_blank()\n",
    "  ) +\n",
    "  # Add subtle y-axis breaks\n",
    "  scale_y_continuous(expand = expansion(mult = c(0.02, 0.05)),\n",
    "                     breaks = scales::pretty_breaks(n = 6))\n",
    "\n",
    "# Display the plot\n",
    "print(p_dfa_emp_st_bcl6b)\n",
    "\n",
    "# Simple version without error bars or sample size annotations\n",
    "# This is the clean version for publication without statistical elements\n",
    "#p_final <- p_dfa_emp_st_atf3 +\n",
    "#  labs(caption = NULL)  # Remove caption if not needed\n",
    "\n",
    "#print(p_final)"
   ]
  },
  {
   "cell_type": "markdown",
   "id": "8d62da59-fd6b-44bc-a8f8-b6008bab1c1d",
   "metadata": {
    "jp-MarkdownHeadingCollapsed": true
   },
   "source": [
    "### in vitro subcluster_x (simplifed) (stay in the old version, not gonna use)"
   ]
  },
  {
   "cell_type": "code",
   "execution_count": null,
   "id": "a564fc7e-9581-4d49-bcbe-19f3f49ef842",
   "metadata": {
    "vscode": {
     "languageId": "r"
    }
   },
   "outputs": [],
   "source": [
    "table(wt_obj$new_subclusters_x)"
   ]
  },
  {
   "cell_type": "code",
   "execution_count": null,
   "id": "ee871c0e-05d8-4a89-b7a8-8cf5a3af7a29",
   "metadata": {
    "vscode": {
     "languageId": "r"
    }
   },
   "outputs": [],
   "source": [
    "emp_ctx <- c('Epiblast', 'Primitive Streak',  'Nascent Mesoderm',  'HEP/BP',  'Endothelium', 'EMP')"
   ]
  },
  {
   "cell_type": "code",
   "execution_count": null,
   "id": "2e8cdae7-300d-432b-81f5-0e67b9c485e8",
   "metadata": {
    "vscode": {
     "languageId": "r"
    }
   },
   "outputs": [],
   "source": [
    "head(dfcx)"
   ]
  },
  {
   "cell_type": "code",
   "execution_count": null,
   "id": "69e3bbaa-bf7b-484a-b235-0900e7814da6",
   "metadata": {
    "vscode": {
     "languageId": "r"
    }
   },
   "outputs": [],
   "source": [
    "dfcx_emp <- dfcx[,colnames(dfcx) %in% emp_ctx]\n",
    "dim(dfcx_emp)"
   ]
  },
  {
   "cell_type": "code",
   "execution_count": null,
   "id": "247e49d2-4830-4ebf-ae99-7315cc8ac291",
   "metadata": {
    "vscode": {
     "languageId": "r"
    }
   },
   "outputs": [],
   "source": [
    "head(dfcx_emp)"
   ]
  },
  {
   "cell_type": "code",
   "execution_count": null,
   "id": "0e226910-880e-44d2-b2bb-62e14f271599",
   "metadata": {
    "vscode": {
     "languageId": "r"
    }
   },
   "outputs": [],
   "source": [
    "dfcx_emp <- dfcx_emp[, emp_ctx]"
   ]
  },
  {
   "cell_type": "code",
   "execution_count": null,
   "id": "621ac8cb-c081-4433-84d5-006d6576c08a",
   "metadata": {
    "vscode": {
     "languageId": "r"
    }
   },
   "outputs": [],
   "source": [
    "head(dfcx_emp)"
   ]
  },
  {
   "cell_type": "code",
   "execution_count": null,
   "id": "ba9dbda2-7cf9-48d8-abb8-76b199f30aa9",
   "metadata": {
    "vscode": {
     "languageId": "r"
    }
   },
   "outputs": [],
   "source": [
    "dfcx_emp_s <- dfcx_emp[KOs_and_paralogs,]\n",
    "head(dfcx_emp_s)"
   ]
  },
  {
   "cell_type": "code",
   "execution_count": null,
   "id": "f0612c18-2d20-46ae-9266-9de458bb5d72",
   "metadata": {
    "vscode": {
     "languageId": "r"
    }
   },
   "outputs": [],
   "source": [
    "dfcx_emp_st <- t(dfcx_emp_s)"
   ]
  },
  {
   "cell_type": "code",
   "execution_count": null,
   "id": "db2dcba5-a969-4d13-b503-8739df1f905f",
   "metadata": {
    "vscode": {
     "languageId": "r"
    }
   },
   "outputs": [],
   "source": [
    "dfcx_emp_st <- as.data.frame(dfcx_emp_st)"
   ]
  },
  {
   "cell_type": "code",
   "execution_count": null,
   "id": "c7a11c95-0701-4a3b-ba33-f23d4fd0bb41",
   "metadata": {
    "vscode": {
     "languageId": "r"
    }
   },
   "outputs": [],
   "source": [
    "head(dfcx_emp_st)"
   ]
  },
  {
   "cell_type": "code",
   "execution_count": null,
   "id": "635e62dc-7877-4907-a2bb-06354ee3ebb7",
   "metadata": {
    "vscode": {
     "languageId": "r"
    }
   },
   "outputs": [],
   "source": [
    "dfcx_emp_st$cluster <- rownames(dfcx_emp_st)"
   ]
  },
  {
   "cell_type": "code",
   "execution_count": null,
   "id": "c5727963-870d-482c-9c42-2489fe9ff0e4",
   "metadata": {
    "vscode": {
     "languageId": "r"
    }
   },
   "outputs": [],
   "source": [
    "head(dfcx_emp_st)"
   ]
  },
  {
   "cell_type": "code",
   "execution_count": null,
   "id": "04ca7faa-b2d1-4d99-aa59-ee032c27db65",
   "metadata": {
    "vscode": {
     "languageId": "r"
    }
   },
   "outputs": [],
   "source": [
    "str(dfcx_emp_st)"
   ]
  },
  {
   "cell_type": "code",
   "execution_count": null,
   "id": "a35e0268-ad82-4d04-bcf8-4e64ce5e73f4",
   "metadata": {
    "vscode": {
     "languageId": "r"
    }
   },
   "outputs": [],
   "source": [
    "library(ggplot2)\n",
    "library(dplyr)\n",
    "options(repr.plot.width = 8, repr.plot.height = 6)\n",
    "# Reorder clusters according to emp_ct vector\n",
    "dfcx_emp_st$cluster <- factor(dfcx_emp_st$cluster, levels = emp_ctx)\n",
    "\n",
    "\n",
    "# Alternative version with different styling\n",
    "p_dfcx_emp_st_atf3 <- ggplot(dfcx_emp_st, aes(x = cluster, y = Atf3, group = 1)) +\n",
    "  geom_area(fill = \"#E8F4FD\", alpha = 0.3) +\n",
    "  geom_line(color = \"#1f77b4\", size = 1.5) +\n",
    "  geom_point(color = \"#ff7f0e\", size = 4, stroke = 1.5, fill = \"white\", shape = 21) +\n",
    "  labs(\n",
    "    title = \"Atf3 Expression Profile\",\n",
    "    subtitle = \"Across developmental cell clusters\",\n",
    "    x = \"Developmental Stage\",\n",
    "    y = \"Expression Level (normalized counts)\"\n",
    "  ) +\n",
    "  theme_classic(base_size = 12) +\n",
    "  theme(\n",
    "    plot.title = element_text(size = 18, face = \"bold\", hjust = 0.5, color = \"#2c3e50\"),\n",
    "    plot.subtitle = element_text(size = 12, hjust = 0.5, color = \"gray50\"),\n",
    "    axis.text.x = element_text(angle = 30, hjust = 1, size = 11),\n",
    "    axis.title = element_text(size = 13, face = \"bold\"),\n",
    "    axis.line = element_line(color = \"#34495e\", size = 0.8),\n",
    "    plot.background = element_rect(fill = \"white\", color = NA),\n",
    "    panel.background = element_rect(fill = \"white\", color = NA)\n",
    "  )\n",
    "\n",
    "# Display alternative version\n",
    "print(p_dfcx_emp_st_atf3)"
   ]
  },
  {
   "cell_type": "code",
   "execution_count": null,
   "id": "7b4260de-0187-4a28-8f38-092698022530",
   "metadata": {
    "vscode": {
     "languageId": "r"
    }
   },
   "outputs": [],
   "source": [
    "# Alternative version with different styling\n",
    "p_dfcx_emp_st_zfp711 <- ggplot(dfcx_emp_st, aes(x = cluster, y = Zfp711, group = 1)) +\n",
    "  geom_area(fill = \"#E8F4FD\", alpha = 0.3) +\n",
    "  geom_line(color = \"#1f77b4\", size = 1.5) +\n",
    "  geom_point(color = \"#ff7f0e\", size = 4, stroke = 1.5, fill = \"white\", shape = 21) +\n",
    "  labs(\n",
    "    title = \"Zfp711 Expression Profile\",\n",
    "    subtitle = \"Across developmental cell clusters\",\n",
    "    x = \"Developmental Stage\",\n",
    "    y = \"Expression Level (normalized counts)\"\n",
    "  ) +\n",
    "  theme_classic(base_size = 12) +\n",
    "  theme(\n",
    "    plot.title = element_text(size = 18, face = \"bold\", hjust = 0.5, color = \"#2c3e50\"),\n",
    "    plot.subtitle = element_text(size = 12, hjust = 0.5, color = \"gray50\"),\n",
    "    axis.text.x = element_text(angle = 30, hjust = 1, size = 11),\n",
    "    axis.title = element_text(size = 13, face = \"bold\"),\n",
    "    axis.line = element_line(color = \"#34495e\", size = 0.8),\n",
    "    plot.background = element_rect(fill = \"white\", color = NA),\n",
    "    panel.background = element_rect(fill = \"white\", color = NA)\n",
    "  )\n",
    "\n",
    "# Display alternative version\n",
    "print(p_dfcx_emp_st_zfp711)"
   ]
  },
  {
   "cell_type": "code",
   "execution_count": null,
   "id": "064fa16b-a152-4b25-a426-7cb74c32fdc0",
   "metadata": {
    "vscode": {
     "languageId": "r"
    }
   },
   "outputs": [],
   "source": [
    "# Alternative version with different styling\n",
    "p_dfcx_emp_st_bcl6b <- ggplot(dfcx_emp_st, aes(x = cluster, y = Bcl6b, group = 1)) +\n",
    "  geom_area(fill = \"#E8F4FD\", alpha = 0.3) +\n",
    "  geom_line(color = \"#1f77b4\", size = 1.5) +\n",
    "  geom_point(color = \"#ff7f0e\", size = 4, stroke = 1.5, fill = \"white\", shape = 21) +\n",
    "  labs(\n",
    "    title = \"Bcl6b Expression Profile\",\n",
    "    subtitle = \"Across developmental cell clusters\",\n",
    "    x = \"Developmental Stage\",\n",
    "    y = \"Expression Level (normalized counts)\"\n",
    "  ) +\n",
    "  theme_classic(base_size = 12) +\n",
    "  theme(\n",
    "    plot.title = element_text(size = 18, face = \"bold\", hjust = 0.5, color = \"#2c3e50\"),\n",
    "    plot.subtitle = element_text(size = 12, hjust = 0.5, color = \"gray50\"),\n",
    "    axis.text.x = element_text(angle = 30, hjust = 1, size = 11),\n",
    "    axis.title = element_text(size = 13, face = \"bold\"),\n",
    "    axis.line = element_line(color = \"#34495e\", size = 0.8),\n",
    "    plot.background = element_rect(fill = \"white\", color = NA),\n",
    "    panel.background = element_rect(fill = \"white\", color = NA)\n",
    "  )\n",
    "\n",
    "# Display alternative version\n",
    "print(p_dfcx_emp_st_bcl6b)"
   ]
  },
  {
   "cell_type": "code",
   "execution_count": null,
   "id": "133f9aa7-74a6-41c8-9ede-91e708026726",
   "metadata": {
    "vscode": {
     "languageId": "r"
    }
   },
   "outputs": [],
   "source": []
  },
  {
   "cell_type": "markdown",
   "id": "426b0bc5-ac70-42c8-ab0a-0af17cf23a9f",
   "metadata": {},
   "source": [
    "### in vitro subclusters (Detailed)"
   ]
  },
  {
   "cell_type": "code",
   "execution_count": null,
   "id": "aab77098-b346-4d4f-b78a-e307065a298f",
   "metadata": {
    "vscode": {
     "languageId": "r"
    }
   },
   "outputs": [],
   "source": [
    "table(wt_obj$new_subclusters)"
   ]
  },
  {
   "cell_type": "code",
   "execution_count": null,
   "id": "b13cac01-c0df-4c35-8a4f-bf8bf6b95260",
   "metadata": {
    "vscode": {
     "languageId": "r"
    }
   },
   "outputs": [],
   "source": [
    "options(repr.plot.width = 15, repr.plot.height = 10)\n",
    "DimPlot(obj, reduction = \"UMAP\", group.by = 'new_subclusters', cols= r3dcol$cols_94)"
   ]
  },
  {
   "cell_type": "code",
   "execution_count": null,
   "id": "ef074c1e-34d7-408c-94bf-b443f51a694b",
   "metadata": {
    "vscode": {
     "languageId": "r"
    }
   },
   "outputs": [],
   "source": [
    "unique(obj$new_subclusters)"
   ]
  },
  {
   "cell_type": "code",
   "execution_count": null,
   "id": "49299190-437b-4525-8314-f289a186e47a",
   "metadata": {
    "vscode": {
     "languageId": "r"
    }
   },
   "outputs": [],
   "source": [
    "emp_cts <- c('Epiblast', 'Primitive Streak 1',  'Primitive Streak 2', 'Nascent Mesoderm',  'HEP/BP',  'Endothelium 1', 'Endocardium','Endothelium 2','EMP 1', 'EMP 2', 'EMP 3', 'EMP 4','MkP 1','MkP 2','MEP')"
   ]
  },
  {
   "cell_type": "code",
   "execution_count": null,
   "id": "f8c444f7-f45d-459e-bb31-158069a41d04",
   "metadata": {
    "vscode": {
     "languageId": "r"
    }
   },
   "outputs": [],
   "source": [
    "head(dfc)"
   ]
  },
  {
   "cell_type": "code",
   "execution_count": null,
   "id": "83f487da-d486-431a-9c5f-d127ea366d26",
   "metadata": {
    "vscode": {
     "languageId": "r"
    }
   },
   "outputs": [],
   "source": [
    "dfc_emp <- dfc[,colnames(dfc) %in% emp_cts]\n",
    "dim(dfc_emp)"
   ]
  },
  {
   "cell_type": "code",
   "execution_count": null,
   "id": "bb61bc01-3461-459c-adbe-d7d3243127e9",
   "metadata": {
    "vscode": {
     "languageId": "r"
    }
   },
   "outputs": [],
   "source": [
    "head(dfc_emp)"
   ]
  },
  {
   "cell_type": "code",
   "execution_count": null,
   "id": "05bae30b-cfca-4ca6-b95f-424e5c500284",
   "metadata": {
    "vscode": {
     "languageId": "r"
    }
   },
   "outputs": [],
   "source": [
    "dfc_emp <- dfc_emp[, emp_cts]"
   ]
  },
  {
   "cell_type": "code",
   "execution_count": null,
   "id": "b4e900e2-aa4c-45ae-bbe6-12a321220a3d",
   "metadata": {
    "vscode": {
     "languageId": "r"
    }
   },
   "outputs": [],
   "source": [
    "head(dfc_emp)"
   ]
  },
  {
   "cell_type": "code",
   "execution_count": null,
   "id": "0a2dd5b0-c042-4f91-aa6c-2a9ea43e9f97",
   "metadata": {
    "vscode": {
     "languageId": "r"
    }
   },
   "outputs": [],
   "source": [
    "dfc_emp_s <- dfc_emp[KOs_and_paralogs,]\n",
    "head(dfc_emp_s)"
   ]
  },
  {
   "cell_type": "code",
   "execution_count": null,
   "id": "6e52370b-c11f-4035-9522-9395e56bf81e",
   "metadata": {
    "vscode": {
     "languageId": "r"
    }
   },
   "outputs": [],
   "source": [
    "dfc_emp_st <- t(dfc_emp_s)"
   ]
  },
  {
   "cell_type": "code",
   "execution_count": null,
   "id": "33759c8f-f8f6-4923-b9b7-4be4c5d0c801",
   "metadata": {
    "vscode": {
     "languageId": "r"
    }
   },
   "outputs": [],
   "source": [
    "dfc_emp_st <- as.data.frame(dfc_emp_st)"
   ]
  },
  {
   "cell_type": "code",
   "execution_count": null,
   "id": "57bfeb53-044b-46f3-bfdb-04d8c17d621c",
   "metadata": {
    "vscode": {
     "languageId": "r"
    }
   },
   "outputs": [],
   "source": [
    "head(dfc_emp_st)"
   ]
  },
  {
   "cell_type": "code",
   "execution_count": null,
   "id": "e9652550-9407-494c-aac6-1bb396d7f8e2",
   "metadata": {
    "vscode": {
     "languageId": "r"
    }
   },
   "outputs": [],
   "source": [
    "dfc_emp_st$cluster <- rownames(dfc_emp_st)"
   ]
  },
  {
   "cell_type": "code",
   "execution_count": null,
   "id": "9b47f492-860e-4152-8401-d3d2263c7f42",
   "metadata": {
    "vscode": {
     "languageId": "r"
    }
   },
   "outputs": [],
   "source": [
    "head(dfc_emp_st)"
   ]
  },
  {
   "cell_type": "code",
   "execution_count": null,
   "id": "2a9e4607-f89d-41d7-8b7b-9f9fe866673e",
   "metadata": {
    "vscode": {
     "languageId": "r"
    }
   },
   "outputs": [],
   "source": [
    "str(dfc_emp_st)"
   ]
  },
  {
   "cell_type": "code",
   "execution_count": null,
   "id": "3bdc3d83-4b6f-43e4-9944-c02189160efc",
   "metadata": {
    "vscode": {
     "languageId": "r"
    }
   },
   "outputs": [],
   "source": [
    "library(ggplot2)\n",
    "library(dplyr)\n",
    "options(repr.plot.width = 10, repr.plot.height = 6)\n",
    "\n",
    "# Reorder clusters according to emp_ct vector\n",
    "dfc_emp_st$cluster <- factor(dfc_emp_st$cluster, levels = emp_cts)\n",
    "\n",
    "# Improved version for scientific publication\n",
    "p_dfc_emp_st_atf3 <- ggplot(dfc_emp_st, aes(x = cluster, y = Atf3, group = 1)) +\n",
    "  geom_area(fill = \"#E8F4FD\", alpha = 0.3) +\n",
    "  geom_line(color = \"#1f77b4\", linewidth = 1.2) +  # Updated to linewidth\n",
    "  geom_point(color = \"#ff7f0e\", size = 3.5, stroke = 1.2, fill = \"white\", shape = 21) +\n",
    "  labs(\n",
    "   title = expression(paste(italic(\"In vitro\"), \" average \", italic(\"Atf3 \"), \"expression: second wave\")),\n",
    "    x = \"Ordered Developmental Stage - Cell Type\",\n",
    "    y = \"Average Expression Level (normalized counts)\"\n",
    "  ) +\n",
    "  theme_classic(base_size = 14) +  # Increased base font size\n",
    "  theme(\n",
    "    # Title improvements\n",
    "    plot.title = element_text(size = 16, face = \"bold\", hjust = 0.5, \n",
    "                             color = \"black\", margin = margin(b = 20)),\n",
    "    \n",
    "    # Axis improvements\n",
    "    axis.title.x = element_text(size = 12, face = \"bold\", color = \"black\",\n",
    "                               margin = margin(t = 15)),\n",
    "    axis.title.y = element_text(size = 12, face = \"bold\", color = \"black\",\n",
    "                               margin = margin(r = 15)),\n",
    "    axis.text.x = element_text(angle = 45, hjust = 1, size = 10, color = \"black\"),\n",
    "    axis.text.y = element_text(size = 10, color = \"black\"),\n",
    "    \n",
    "    # Clean axis lines\n",
    "    axis.line = element_line(color = \"black\", linewidth = 0.6),\n",
    "    axis.ticks = element_line(color = \"black\", linewidth = 0.5),\n",
    "    axis.ticks.length = unit(0.2, \"cm\"),\n",
    "    \n",
    "    # Background\n",
    "    plot.background = element_rect(fill = \"white\", color = NA),\n",
    "    panel.background = element_rect(fill = \"white\", color = NA),\n",
    "    \n",
    "    # Margins for better spacing\n",
    "    plot.margin = margin(20, 20, 20, 20),\n",
    "    \n",
    "    # Remove minor gridlines, keep major y-gridlines subtle\n",
    "    panel.grid.major.y = element_line(color = \"grey90\", linewidth = 0.3),\n",
    "    panel.grid.major.x = element_blank(),\n",
    "    panel.grid.minor = element_blank()\n",
    "  ) +\n",
    "  # Add subtle y-axis breaks\n",
    "  scale_y_continuous(expand = expansion(mult = c(0.02, 0.05)),\n",
    "                     breaks = scales::pretty_breaks(n = 6))\n",
    "\n",
    "# Display the plot\n",
    "print(p_dfc_emp_st_atf3)\n",
    "\n",
    "# Simple version without error bars or sample size annotations\n",
    "# This is the clean version for publication without statistical elements\n",
    "#p_final <- p_dfc_emp_st_atf3 +\n",
    "#  labs(caption = NULL)  # Remove caption if not needed\n",
    "\n",
    "#print(p_final)"
   ]
  },
  {
   "cell_type": "code",
   "execution_count": null,
   "id": "4134b4f8-0614-4ef6-b902-00cb3fc5e24a",
   "metadata": {
    "vscode": {
     "languageId": "r"
    }
   },
   "outputs": [],
   "source": [
    "library(ggplot2)\n",
    "library(dplyr)\n",
    "options(repr.plot.width = 10, repr.plot.height = 6)\n",
    "\n",
    "# Reorder clusters according to emp_ct vector\n",
    "dfc_emp_st$cluster <- factor(dfc_emp_st$cluster, levels = emp_cts)\n",
    "\n",
    "# Improved version for scientific publication\n",
    "p_dfc_emp_st_zfp711 <- ggplot(dfc_emp_st, aes(x = cluster, y = Zfp711, group = 1)) +\n",
    "  geom_area(fill = \"#E8F4FD\", alpha = 0.3) +\n",
    "  geom_line(color = \"#1f77b4\", linewidth = 1.2) +  # Updated to linewidth\n",
    "  geom_point(color = \"#ff7f0e\", size = 3.5, stroke = 1.2, fill = \"white\", shape = 21) +\n",
    "  labs(\n",
    "    title = expression(paste(italic(\"In vitro\"), \" average \", italic(\"Zfp711\"), \"expression: second wave\")),\n",
    "    x = \"Ordered Developmental Stage - Cell Type\",\n",
    "    y = \"Average Expression Level (normalized counts)\"\n",
    "  ) +\n",
    "  theme_classic(base_size = 14) +  # Increased base font size\n",
    "  theme(\n",
    "    # Title improvements\n",
    "    plot.title = element_text(size = 16, face = \"bold\", hjust = 0.5, \n",
    "                             color = \"black\", margin = margin(b = 20)),\n",
    "    \n",
    "    # Axis improvements\n",
    "    axis.title.x = element_text(size = 12, face = \"bold\", color = \"black\",\n",
    "                               margin = margin(t = 15)),\n",
    "    axis.title.y = element_text(size = 12, face = \"bold\", color = \"black\",\n",
    "                               margin = margin(r = 15)),\n",
    "    axis.text.x = element_text(angle = 45, hjust = 1, size = 10, color = \"black\"),\n",
    "    axis.text.y = element_text(size = 10, color = \"black\"),\n",
    "    \n",
    "    # Clean axis lines\n",
    "    axis.line = element_line(color = \"black\", linewidth = 0.6),\n",
    "    axis.ticks = element_line(color = \"black\", linewidth = 0.5),\n",
    "    axis.ticks.length = unit(0.2, \"cm\"),\n",
    "    \n",
    "    # Background\n",
    "    plot.background = element_rect(fill = \"white\", color = NA),\n",
    "    panel.background = element_rect(fill = \"white\", color = NA),\n",
    "    \n",
    "    # Margins for better spacing\n",
    "    plot.margin = margin(20, 20, 20, 20),\n",
    "    \n",
    "    # Remove minor gridlines, keep major y-gridlines subtle\n",
    "    panel.grid.major.y = element_line(color = \"grey90\", linewidth = 0.3),\n",
    "    panel.grid.major.x = element_blank(),\n",
    "    panel.grid.minor = element_blank()\n",
    "  ) +\n",
    "  # Add subtle y-axis breaks\n",
    "  scale_y_continuous(expand = expansion(mult = c(0.02, 0.05)),\n",
    "                     breaks = scales::pretty_breaks(n = 6))\n",
    "\n",
    "# Display the plot\n",
    "print(p_dfc_emp_st_zfp711)\n",
    "\n",
    "# Simple version without error bars or sample size annotations\n",
    "# This is the clean version for publication without statistical elements\n",
    "#p_final <- p_dfc_emp_st_atf3 +\n",
    "#  labs(caption = NULL)  # Remove caption if not needed\n",
    "\n",
    "#print(p_final)"
   ]
  },
  {
   "cell_type": "code",
   "execution_count": null,
   "id": "ea3f70f6-8d7f-4954-a601-9aa3786c94bd",
   "metadata": {
    "vscode": {
     "languageId": "r"
    }
   },
   "outputs": [],
   "source": [
    "library(ggplot2)\n",
    "library(dplyr)\n",
    "options(repr.plot.width = 10, repr.plot.height = 6)\n",
    "\n",
    "# Reorder clusters according to emp_ct vector\n",
    "dfc_emp_st$cluster <- factor(dfc_emp_st$cluster, levels = emp_cts)\n",
    "\n",
    "# Improved version for scientific publication\n",
    "p_dfc_emp_st_bcl6b <- ggplot(dfc_emp_st, aes(x = cluster, y = Bcl6b, group = 1)) +\n",
    "  geom_area(fill = \"#E8F4FD\", alpha = 0.3) +\n",
    "  geom_line(color = \"#1f77b4\", linewidth = 1.2) +  # Updated to linewidth\n",
    "  geom_point(color = \"#ff7f0e\", size = 3.5, stroke = 1.2, fill = \"white\", shape = 21) +\n",
    "  labs(\n",
    "    title = expression(paste(italic(\"In vitro\"), \" average \", italic(\"Bcl6b \"), \"expression: second wave\")),\n",
    "    x = \"Ordered Developmental Stage - Cell Type\",\n",
    "    y = \"Average Expression Level (normalized counts)\"\n",
    "  ) +\n",
    "  theme_classic(base_size = 14) +  # Increased base font size\n",
    "  theme(\n",
    "    # Title improvements\n",
    "    plot.title = element_text(size = 16, face = \"bold\", hjust = 0.5, \n",
    "                             color = \"black\", margin = margin(b = 20)),\n",
    "    \n",
    "    # Axis improvements\n",
    "    axis.title.x = element_text(size = 12, face = \"bold\", color = \"black\",\n",
    "                               margin = margin(t = 15)),\n",
    "    axis.title.y = element_text(size = 12, face = \"bold\", color = \"black\",\n",
    "                               margin = margin(r = 15)),\n",
    "    axis.text.x = element_text(angle = 45, hjust = 1, size = 10, color = \"black\"),\n",
    "    axis.text.y = element_text(size = 10, color = \"black\"),\n",
    "    \n",
    "    # Clean axis lines\n",
    "    axis.line = element_line(color = \"black\", linewidth = 0.6),\n",
    "    axis.ticks = element_line(color = \"black\", linewidth = 0.5),\n",
    "    axis.ticks.length = unit(0.2, \"cm\"),\n",
    "    \n",
    "    # Background\n",
    "    plot.background = element_rect(fill = \"white\", color = NA),\n",
    "    panel.background = element_rect(fill = \"white\", color = NA),\n",
    "    \n",
    "    # Margins for better spacing\n",
    "    plot.margin = margin(20, 20, 20, 20),\n",
    "    \n",
    "    # Remove minor gridlines, keep major y-gridlines subtle\n",
    "    panel.grid.major.y = element_line(color = \"grey90\", linewidth = 0.3),\n",
    "    panel.grid.major.x = element_blank(),\n",
    "    panel.grid.minor = element_blank()\n",
    "  ) +\n",
    "  # Add subtle y-axis breaks\n",
    "  scale_y_continuous(expand = expansion(mult = c(0.02, 0.05)),\n",
    "                     breaks = scales::pretty_breaks(n = 6))\n",
    "\n",
    "# Display the plot\n",
    "print(p_dfc_emp_st_bcl6b)\n",
    "\n",
    "# Simple version without error bars or sample size annotations\n",
    "# This is the clean version for publication without statistical elements\n",
    "#p_final <- p_dfc_emp_st_atf3 +\n",
    "#  labs(caption = NULL)  # Remove caption if not needed\n",
    "\n",
    "#print(p_final)"
   ]
  },
  {
   "cell_type": "code",
   "execution_count": null,
   "id": "ac003b08-432b-4d69-9c8d-d6b5f38fb548",
   "metadata": {
    "vscode": {
     "languageId": "r"
    }
   },
   "outputs": [],
   "source": []
  },
  {
   "cell_type": "markdown",
   "id": "052e8ec5-3a87-4891-bcfa-06481d93819e",
   "metadata": {},
   "source": [
    "### combined"
   ]
  },
  {
   "cell_type": "code",
   "execution_count": null,
   "id": "a6351629",
   "metadata": {
    "vscode": {
     "languageId": "r"
    }
   },
   "outputs": [],
   "source": [
    "options(repr.plot.width = 20, repr.plot.height = 11)\n",
    "p_second_wave <- plot_grid(\n",
    "    p_dfa_emp_st_atf3,p_dfa_emp_st_zfp711,p_dfa_emp_st_bcl6b,\n",
    "    p_dfc_emp_st_atf3,p_dfc_emp_st_zfp711,p_dfc_emp_st_bcl6b,\n",
    "    \n",
    "ncol = 3)\n",
    "p_second_wave"
   ]
  },
  {
   "cell_type": "markdown",
   "id": "c832be9d-c2e4-4098-bd93-fe56eedba1c5",
   "metadata": {},
   "source": [
    "### Paralogs"
   ]
  },
  {
   "cell_type": "markdown",
   "id": "47af869a-ebfb-4cb1-8ddc-477983d4f6f5",
   "metadata": {},
   "source": [
    "#### in vivo"
   ]
  },
  {
   "cell_type": "code",
   "execution_count": null,
   "id": "9c46248b-dbb4-4f28-8ba3-9f8a1e5318c7",
   "metadata": {
    "vscode": {
     "languageId": "r"
    }
   },
   "outputs": [],
   "source": [
    "str(dfa_emp_st)"
   ]
  },
  {
   "cell_type": "code",
   "execution_count": null,
   "id": "27fbf429-44ed-48e4-a8a7-58d83a40cd40",
   "metadata": {
    "vscode": {
     "languageId": "r"
    }
   },
   "outputs": [],
   "source": [
    "Atf3_paralogs"
   ]
  },
  {
   "cell_type": "code",
   "execution_count": null,
   "id": "cb267ee3",
   "metadata": {
    "vscode": {
     "languageId": "r"
    }
   },
   "outputs": [],
   "source": [
    "library(ggplot2)\n",
    "library(dplyr)\n",
    "library(tidyr)\n",
    "\n",
    "# Reorder clusters according to emp_ct vector\n",
    "dfa_emp_st$cluster <- factor(dfa_emp_st$cluster, levels = emp_ct)\n",
    "\n",
    "# Reshape data to long format for ATF3 paralogs\n",
    "dfa_long <- dfa_emp_st %>%\n",
    "  pivot_longer(cols = all_of(Atf3_paralogs), \n",
    "               names_to = \"gene\", \n",
    "               values_to = \"expression\")\n",
    "\n",
    "# Create multi-gene line plot\n",
    "p_dfa_emp_st_atf3_paralogs <- ggplot(dfa_long, aes(x = cluster, y = expression, group = gene, color = gene)) +\n",
    "  geom_line(size = 1.5, alpha = 0.8) +\n",
    "  geom_point(size = 4, stroke = 1.2, fill = \"white\", shape = 21, \n",
    "             aes(fill = gene), alpha = 0.9) +\n",
    "  labs(\n",
    "    title = \"ATF3 Paralog Expression Profiles\",\n",
    "    subtitle = \"Across developmental cell clusters\",\n",
    "    x = \"Developmental Stage\",\n",
    "    y = \"Expression Level (normalized counts)\",\n",
    "    color = \"Gene\",\n",
    "    fill = \"Gene\"\n",
    "  ) +\n",
    "  scale_color_manual(values = c(\"Atf3\" = \"#1f77b4\", \"Jdp2\" = \"#ff7f0e\", \"Batf3\" = \"#2ca02c\", \n",
    "                                 \"Batf\" = \"#d62728\", \"Fosl1\" = \"#9467bd\", \"Fosb\" = \"#8c564b\", \n",
    "                                 \"Fosl2\" = \"#e377c2\")) +\n",
    "  scale_fill_manual(values = c(\"Atf3\" = \"#1f77b4\", \"Jdp2\" = \"#ff7f0e\", \"Batf3\" = \"#2ca02c\", \n",
    "                               \"Batf\" = \"#d62728\", \"Fosl1\" = \"#9467bd\", \"Fosb\" = \"#8c564b\", \n",
    "                               \"Fosl2\" = \"#e377c2\")) +\n",
    "  theme_classic(base_size = 12) +\n",
    "  theme(\n",
    "    plot.title = element_text(size = 18, face = \"bold\", hjust = 0.5, color = \"#2c3e50\"),\n",
    "    plot.subtitle = element_text(size = 12, hjust = 0.5, color = \"gray50\"),\n",
    "    axis.text.x = element_text(angle = 30, hjust = 1, size = 11),\n",
    "    axis.title = element_text(size = 13, face = \"bold\"),\n",
    "    axis.line = element_line(color = \"#34495e\", size = 0.8),\n",
    "    plot.background = element_rect(fill = \"white\", color = NA),\n",
    "    panel.background = element_rect(fill = \"white\", color = NA),\n",
    "    legend.position = \"right\",\n",
    "    legend.title = element_text(size = 12, face = \"bold\"),\n",
    "    legend.text = element_text(size = 11),\n",
    "    legend.background = element_rect(fill = \"white\", color = \"gray80\"),\n",
    "    legend.key = element_rect(fill = \"white\")\n",
    "  ) +\n",
    "  guides(color = guide_legend(override.aes = list(size = 3)),\n",
    "         fill = guide_legend(override.aes = list(size = 3)))\n",
    "\n",
    "# Display the plot\n",
    "print(p_dfa_emp_st_atf3_paralogs)\n"
   ]
  },
  {
   "cell_type": "code",
   "execution_count": null,
   "id": "d7320bed-f051-4729-b106-3fd3f15d7b77",
   "metadata": {
    "vscode": {
     "languageId": "r"
    }
   },
   "outputs": [],
   "source": [
    "Zfp711_paralogs"
   ]
  },
  {
   "cell_type": "code",
   "execution_count": null,
   "id": "0afc046f",
   "metadata": {
    "vscode": {
     "languageId": "r"
    }
   },
   "outputs": [],
   "source": [
    "library(ggplot2)\n",
    "library(dplyr)\n",
    "library(tidyr)\n",
    "\n",
    "# Reorder clusters according to emp_ct vector\n",
    "dfa_emp_st$cluster <- factor(dfa_emp_st$cluster, levels = emp_ct)\n",
    "\n",
    "# Reshape data to long format for ATF3 paralogs\n",
    "dfa_long <- dfa_emp_st %>%\n",
    "  pivot_longer(cols = all_of(Zfp711_paralogs), \n",
    "               names_to = \"gene\", \n",
    "               values_to = \"expression\")\n",
    "\n",
    "# Create multi-gene line plot\n",
    "p_dfa_emp_st_Zfp711_paralogs <- ggplot(dfa_long, aes(x = cluster, y = expression, group = gene, color = gene)) +\n",
    "  geom_line(size = 1.5, alpha = 0.8) +\n",
    "  geom_point(size = 4, stroke = 1.2, fill = \"white\", shape = 21, \n",
    "             aes(fill = gene), alpha = 0.9) +\n",
    "  labs(\n",
    "    title = \"Zfp711 Paralog Expression Profiles\",\n",
    "    subtitle = \"Across developmental cell clusters\",\n",
    "    x = \"Developmental Stage\",\n",
    "    y = \"Expression Level (normalized counts)\",\n",
    "    color = \"Gene\",\n",
    "    fill = \"Gene\"\n",
    "  ) +\n",
    "  scale_color_manual(values = c(\"Zfp711\" = \"#1f77b4\", \"Zfy1\" = \"#ff7f0e\", \"Zfy2\" = \"#2ca02c\", \n",
    "                                 \"Zfx\" = \"#d62728\")) +\n",
    "  scale_fill_manual(values = c(\"Zfp711\" = \"#1f77b4\", \"Zfy1\" = \"#ff7f0e\", \"Zfy2\" = \"#2ca02c\", \n",
    "                               \"Zfx\" = \"#d62728\")) +\n",
    "  theme_classic(base_size = 12) +\n",
    "  theme(\n",
    "    plot.title = element_text(size = 18, face = \"bold\", hjust = 0.5, color = \"#2c3e50\"),\n",
    "    plot.subtitle = element_text(size = 12, hjust = 0.5, color = \"gray50\"),\n",
    "    axis.text.x = element_text(angle = 30, hjust = 1, size = 11),\n",
    "    axis.title = element_text(size = 13, face = \"bold\"),\n",
    "    axis.line = element_line(color = \"#34495e\", size = 0.8),\n",
    "    plot.background = element_rect(fill = \"white\", color = NA),\n",
    "    panel.background = element_rect(fill = \"white\", color = NA),\n",
    "    legend.position = \"right\",\n",
    "    legend.title = element_text(size = 12, face = \"bold\"),\n",
    "    legend.text = element_text(size = 11),\n",
    "    legend.background = element_rect(fill = \"white\", color = \"gray80\"),\n",
    "    legend.key = element_rect(fill = \"white\")\n",
    "  ) +\n",
    "  guides(color = guide_legend(override.aes = list(size = 3)),\n",
    "         fill = guide_legend(override.aes = list(size = 3)))\n",
    "\n",
    "# Display the plot\n",
    "print(p_dfa_emp_st_Zfp711_paralogs)\n"
   ]
  },
  {
   "cell_type": "code",
   "execution_count": null,
   "id": "e6be8b34-857e-4d8e-be67-c2186caf5cfe",
   "metadata": {
    "vscode": {
     "languageId": "r"
    }
   },
   "outputs": [],
   "source": [
    "Bcl6b_paralogs"
   ]
  },
  {
   "cell_type": "code",
   "execution_count": null,
   "id": "c0c162cb",
   "metadata": {
    "vscode": {
     "languageId": "r"
    }
   },
   "outputs": [],
   "source": [
    "library(ggplot2)\n",
    "library(dplyr)\n",
    "library(tidyr)\n",
    "\n",
    "# Reorder clusters according to emp_ct vector\n",
    "dfa_emp_st$cluster <- factor(dfa_emp_st$cluster, levels = emp_ct)\n",
    "\n",
    "# Reshape data to long format for ATF3 paralogs\n",
    "dfa_long <- dfa_emp_st %>%\n",
    "  pivot_longer(cols = all_of(Bcl6b_paralogs), \n",
    "               names_to = \"gene\", \n",
    "               values_to = \"expression\")\n",
    "\n",
    "# Create multi-gene line plot\n",
    "p_dfa_emp_st_Bcl6b_paralogs <- ggplot(dfa_long, aes(x = cluster, y = expression, group = gene, color = gene)) +\n",
    "  geom_line(size = 1.5, alpha = 0.8) +\n",
    "  geom_point(size = 4, stroke = 1.2, fill = \"white\", shape = 21, \n",
    "             aes(fill = gene), alpha = 0.9) +\n",
    "  labs(\n",
    "    title = \"Bcl6b Paralog Expression Profiles\",\n",
    "    subtitle = \"Across developmental cell clusters\",\n",
    "    x = \"Developmental Stage\",\n",
    "    y = \"Expression Level (normalized counts)\",\n",
    "    color = \"Gene\",\n",
    "    fill = \"Gene\"\n",
    "  ) +\n",
    "  scale_color_manual(values = c(\"Bcl6b\" = \"#1f77b4\", \"Bcl6\" = \"#ff7f0e\")) +\n",
    "  scale_fill_manual(values = c(\"Bcl6b\" = \"#1f77b4\", \"Bcl6\" = \"#ff7f0e\")) +\n",
    "  theme_classic(base_size = 12) +\n",
    "  theme(\n",
    "    plot.title = element_text(size = 18, face = \"bold\", hjust = 0.5, color = \"#2c3e50\"),\n",
    "    plot.subtitle = element_text(size = 12, hjust = 0.5, color = \"gray50\"),\n",
    "    axis.text.x = element_text(angle = 30, hjust = 1, size = 11),\n",
    "    axis.title = element_text(size = 13, face = \"bold\"),\n",
    "    axis.line = element_line(color = \"#34495e\", size = 0.8),\n",
    "    plot.background = element_rect(fill = \"white\", color = NA),\n",
    "    panel.background = element_rect(fill = \"white\", color = NA),\n",
    "    legend.position = \"right\",\n",
    "    legend.title = element_text(size = 12, face = \"bold\"),\n",
    "    legend.text = element_text(size = 11),\n",
    "    legend.background = element_rect(fill = \"white\", color = \"gray80\"),\n",
    "    legend.key = element_rect(fill = \"white\")\n",
    "  ) +\n",
    "  guides(color = guide_legend(override.aes = list(size = 3)),\n",
    "         fill = guide_legend(override.aes = list(size = 3)))\n",
    "\n",
    "# Display the plot\n",
    "print(p_dfa_emp_st_Bcl6b_paralogs)\n"
   ]
  },
  {
   "cell_type": "code",
   "execution_count": null,
   "id": "cbcee292-e255-48b3-95f6-1f2e6b8eed1b",
   "metadata": {
    "vscode": {
     "languageId": "r"
    }
   },
   "outputs": [],
   "source": []
  },
  {
   "cell_type": "markdown",
   "id": "a1651f4b-6dbe-4d7a-aae6-1f04517ca841",
   "metadata": {},
   "source": [
    "#### in vitro simplified"
   ]
  },
  {
   "cell_type": "code",
   "execution_count": null,
   "id": "79e92c66-02b6-44fd-bb10-dfd5a649e904",
   "metadata": {
    "vscode": {
     "languageId": "r"
    }
   },
   "outputs": [],
   "source": [
    "str(dfcx_emp_st)"
   ]
  },
  {
   "cell_type": "code",
   "execution_count": null,
   "id": "4ef97451-2af6-42d9-b9cd-32eaab8d5805",
   "metadata": {
    "vscode": {
     "languageId": "r"
    }
   },
   "outputs": [],
   "source": [
    "Atf3_paralogs"
   ]
  },
  {
   "cell_type": "code",
   "execution_count": null,
   "id": "edf0ebb3",
   "metadata": {
    "vscode": {
     "languageId": "r"
    }
   },
   "outputs": [],
   "source": [
    "library(ggplot2)\n",
    "library(dplyr)\n",
    "library(tidyr)\n",
    "\n",
    "# Reorder clusters according to emp_ct vector\n",
    "dfcx_emp_st$cluster <- factor(dfcx_emp_st$cluster, levels = emp_ctx)\n",
    "\n",
    "# Reshape data to long format for ATF3 paralogs\n",
    "dfa_long <- dfcx_emp_st %>%\n",
    "  pivot_longer(cols = all_of(Atf3_paralogs), \n",
    "               names_to = \"gene\", \n",
    "               values_to = \"expression\")\n",
    "\n",
    "# Create multi-gene line plot\n",
    "p_dfcx_emp_st_atf3_paralogs <- ggplot(dfa_long, aes(x = cluster, y = expression, group = gene, color = gene)) +\n",
    "  geom_line(size = 1.5, alpha = 0.8) +\n",
    "  geom_point(size = 4, stroke = 1.2, fill = \"white\", shape = 21, \n",
    "             aes(fill = gene), alpha = 0.9) +\n",
    "  labs(\n",
    "    title = \"ATF3 Paralog Expression Profiles\",\n",
    "    subtitle = \"Across developmental cell clusters\",\n",
    "    x = \"Developmental Stage\",\n",
    "    y = \"Expression Level (normalized counts)\",\n",
    "    color = \"Gene\",\n",
    "    fill = \"Gene\"\n",
    "  ) +\n",
    "  scale_color_manual(values = c(\"Atf3\" = \"#1f77b4\", \"Jdp2\" = \"#ff7f0e\", \"Batf3\" = \"#2ca02c\", \n",
    "                                 \"Batf\" = \"#d62728\", \"Fosl1\" = \"#9467bd\", \"Fosb\" = \"#8c564b\", \n",
    "                                 \"Fosl2\" = \"#e377c2\")) +\n",
    "  scale_fill_manual(values = c(\"Atf3\" = \"#1f77b4\", \"Jdp2\" = \"#ff7f0e\", \"Batf3\" = \"#2ca02c\", \n",
    "                               \"Batf\" = \"#d62728\", \"Fosl1\" = \"#9467bd\", \"Fosb\" = \"#8c564b\", \n",
    "                               \"Fosl2\" = \"#e377c2\")) +\n",
    "  theme_classic(base_size = 12) +\n",
    "  theme(\n",
    "    plot.title = element_text(size = 18, face = \"bold\", hjust = 0.5, color = \"#2c3e50\"),\n",
    "    plot.subtitle = element_text(size = 12, hjust = 0.5, color = \"gray50\"),\n",
    "    axis.text.x = element_text(angle = 30, hjust = 1, size = 11),\n",
    "    axis.title = element_text(size = 13, face = \"bold\"),\n",
    "    axis.line = element_line(color = \"#34495e\", size = 0.8),\n",
    "    plot.background = element_rect(fill = \"white\", color = NA),\n",
    "    panel.background = element_rect(fill = \"white\", color = NA),\n",
    "    legend.position = \"right\",\n",
    "    legend.title = element_text(size = 12, face = \"bold\"),\n",
    "    legend.text = element_text(size = 11),\n",
    "    legend.background = element_rect(fill = \"white\", color = \"gray80\"),\n",
    "    legend.key = element_rect(fill = \"white\")\n",
    "  ) +\n",
    "  guides(color = guide_legend(override.aes = list(size = 3)),\n",
    "         fill = guide_legend(override.aes = list(size = 3)))\n",
    "\n",
    "# Display the plot\n",
    "print(p_dfcx_emp_st_atf3_paralogs)\n"
   ]
  },
  {
   "cell_type": "code",
   "execution_count": null,
   "id": "98f8c146-b1e5-4556-b1a4-d827ea8e591f",
   "metadata": {
    "vscode": {
     "languageId": "r"
    }
   },
   "outputs": [],
   "source": [
    "Zfp711_paralogs"
   ]
  },
  {
   "cell_type": "code",
   "execution_count": null,
   "id": "482fbeff",
   "metadata": {
    "vscode": {
     "languageId": "r"
    }
   },
   "outputs": [],
   "source": [
    "library(ggplot2)\n",
    "library(dplyr)\n",
    "library(tidyr)\n",
    "\n",
    "# Reorder clusters according to emp_ct vector\n",
    "dfcx_emp_st$cluster <- factor(dfcx_emp_st$cluster, levels = emp_ctx)\n",
    "\n",
    "# Reshape data to long format for ATF3 paralogs\n",
    "dfa_long <- dfcx_emp_st %>%\n",
    "  pivot_longer(cols = all_of(Zfp711_paralogs), \n",
    "               names_to = \"gene\", \n",
    "               values_to = \"expression\")\n",
    "\n",
    "# Create multi-gene line plot\n",
    "p_dfcx_emp_st_Zfp711_paralogs <- ggplot(dfa_long, aes(x = cluster, y = expression, group = gene, color = gene)) +\n",
    "  geom_line(size = 1.5, alpha = 0.8) +\n",
    "  geom_point(size = 4, stroke = 1.2, fill = \"white\", shape = 21, \n",
    "             aes(fill = gene), alpha = 0.9) +\n",
    "  labs(\n",
    "    title = \"Zfp711 Paralog Expression Profiles\",\n",
    "    subtitle = \"Across developmental cell clusters\",\n",
    "    x = \"Developmental Stage\",\n",
    "    y = \"Expression Level (normalized counts)\",\n",
    "    color = \"Gene\",\n",
    "    fill = \"Gene\"\n",
    "  ) +\n",
    "  scale_color_manual(values = c(\"Zfp711\" = \"#1f77b4\", \"Zfy1\" = \"#ff7f0e\", \"Zfy2\" = \"#2ca02c\", \n",
    "                                 \"Zfx\" = \"#d62728\")) +\n",
    "  scale_fill_manual(values = c(\"Zfp711\" = \"#1f77b4\", \"Zfy1\" = \"#ff7f0e\", \"Zfy2\" = \"#2ca02c\", \n",
    "                               \"Zfx\" = \"#d62728\")) +\n",
    "  theme_classic(base_size = 12) +\n",
    "  theme(\n",
    "    plot.title = element_text(size = 18, face = \"bold\", hjust = 0.5, color = \"#2c3e50\"),\n",
    "    plot.subtitle = element_text(size = 12, hjust = 0.5, color = \"gray50\"),\n",
    "    axis.text.x = element_text(angle = 30, hjust = 1, size = 11),\n",
    "    axis.title = element_text(size = 13, face = \"bold\"),\n",
    "    axis.line = element_line(color = \"#34495e\", size = 0.8),\n",
    "    plot.background = element_rect(fill = \"white\", color = NA),\n",
    "    panel.background = element_rect(fill = \"white\", color = NA),\n",
    "    legend.position = \"right\",\n",
    "    legend.title = element_text(size = 12, face = \"bold\"),\n",
    "    legend.text = element_text(size = 11),\n",
    "    legend.background = element_rect(fill = \"white\", color = \"gray80\"),\n",
    "    legend.key = element_rect(fill = \"white\")\n",
    "  ) +\n",
    "  guides(color = guide_legend(override.aes = list(size = 3)),\n",
    "         fill = guide_legend(override.aes = list(size = 3)))\n",
    "\n",
    "# Display the plot\n",
    "print(p_dfcx_emp_st_Zfp711_paralogs)\n"
   ]
  },
  {
   "cell_type": "code",
   "execution_count": null,
   "id": "daa2345f-2858-4724-979f-1070186abb48",
   "metadata": {
    "vscode": {
     "languageId": "r"
    }
   },
   "outputs": [],
   "source": [
    "Bcl6b_paralogs"
   ]
  },
  {
   "cell_type": "code",
   "execution_count": null,
   "id": "9607dad7",
   "metadata": {
    "vscode": {
     "languageId": "r"
    }
   },
   "outputs": [],
   "source": [
    "library(ggplot2)\n",
    "library(dplyr)\n",
    "library(tidyr)\n",
    "\n",
    "# Reorder clusters according to emp_ct vector\n",
    "dfcx_emp_st$cluster <- factor(dfcx_emp_st$cluster, levels = emp_ctx)\n",
    "\n",
    "# Reshape data to long format for ATF3 paralogs\n",
    "dfa_long <- dfcx_emp_st %>%\n",
    "  pivot_longer(cols = all_of(Bcl6b_paralogs), \n",
    "               names_to = \"gene\", \n",
    "               values_to = \"expression\")\n",
    "\n",
    "# Create multi-gene line plot\n",
    "p_dfcx_emp_st_Bcl6b_paralogs <- ggplot(dfa_long, aes(x = cluster, y = expression, group = gene, color = gene)) +\n",
    "  geom_line(size = 1.5, alpha = 0.8) +\n",
    "  geom_point(size = 4, stroke = 1.2, fill = \"white\", shape = 21, \n",
    "             aes(fill = gene), alpha = 0.9) +\n",
    "  labs(\n",
    "    title = \"Bcl6b Paralog Expression Profiles\",\n",
    "    subtitle = \"Across developmental cell clusters\",\n",
    "    x = \"Developmental Stage\",\n",
    "    y = \"Expression Level (normalized counts)\",\n",
    "    color = \"Gene\",\n",
    "    fill = \"Gene\"\n",
    "  ) +\n",
    "  scale_color_manual(values = c(\"Bcl6b\" = \"#1f77b4\", \"Bcl6\" = \"#ff7f0e\")) +\n",
    "  scale_fill_manual(values = c(\"Bcl6b\" = \"#1f77b4\", \"Bcl6\" = \"#ff7f0e\")) +\n",
    "  theme_classic(base_size = 12) +\n",
    "  theme(\n",
    "    plot.title = element_text(size = 18, face = \"bold\", hjust = 0.5, color = \"#2c3e50\"),\n",
    "    plot.subtitle = element_text(size = 12, hjust = 0.5, color = \"gray50\"),\n",
    "    axis.text.x = element_text(angle = 30, hjust = 1, size = 11),\n",
    "    axis.title = element_text(size = 13, face = \"bold\"),\n",
    "    axis.line = element_line(color = \"#34495e\", size = 0.8),\n",
    "    plot.background = element_rect(fill = \"white\", color = NA),\n",
    "    panel.background = element_rect(fill = \"white\", color = NA),\n",
    "    legend.position = \"right\",\n",
    "    legend.title = element_text(size = 12, face = \"bold\"),\n",
    "    legend.text = element_text(size = 11),\n",
    "    legend.background = element_rect(fill = \"white\", color = \"gray80\"),\n",
    "    legend.key = element_rect(fill = \"white\")\n",
    "  ) +\n",
    "  guides(color = guide_legend(override.aes = list(size = 3)),\n",
    "         fill = guide_legend(override.aes = list(size = 3)))\n",
    "\n",
    "# Display the plot\n",
    "print(p_dfcx_emp_st_Bcl6b_paralogs)\n"
   ]
  },
  {
   "cell_type": "code",
   "execution_count": null,
   "id": "da0ce28c-b123-410a-af3e-51cdbda0f126",
   "metadata": {
    "vscode": {
     "languageId": "r"
    }
   },
   "outputs": [],
   "source": []
  },
  {
   "cell_type": "markdown",
   "id": "67108ce6-42f5-4243-b58b-62d38812b56a",
   "metadata": {},
   "source": [
    "#### in vitro detailed"
   ]
  },
  {
   "cell_type": "code",
   "execution_count": null,
   "id": "3fa58ef1-17a0-4c0b-8d8e-f8f2665db491",
   "metadata": {
    "vscode": {
     "languageId": "r"
    }
   },
   "outputs": [],
   "source": [
    "str(dfc_emp_st)"
   ]
  },
  {
   "cell_type": "code",
   "execution_count": null,
   "id": "3f9431e4-61e5-499c-918d-84c64f41a5b0",
   "metadata": {
    "vscode": {
     "languageId": "r"
    }
   },
   "outputs": [],
   "source": [
    "Atf3_paralogs"
   ]
  },
  {
   "cell_type": "code",
   "execution_count": null,
   "id": "c72e7ae2",
   "metadata": {
    "vscode": {
     "languageId": "r"
    }
   },
   "outputs": [],
   "source": [
    "library(ggplot2)\n",
    "library(dplyr)\n",
    "library(tidyr)\n",
    "\n",
    "# Reorder clusters according to emp_ct vector\n",
    "dfc_emp_st$cluster <- factor(dfc_emp_st$cluster, levels = emp_cts)\n",
    "\n",
    "# Reshape data to long format for ATF3 paralogs\n",
    "dfa_long <- dfc_emp_st %>%\n",
    "  pivot_longer(cols = all_of(Atf3_paralogs), \n",
    "               names_to = \"gene\", \n",
    "               values_to = \"expression\")\n",
    "\n",
    "# Create multi-gene line plot\n",
    "p_dfc_emp_st_atf3_paralogs <- ggplot(dfa_long, aes(x = cluster, y = expression, group = gene, color = gene)) +\n",
    "  geom_line(size = 1.5, alpha = 0.8) +\n",
    "  geom_point(size = 4, stroke = 1.2, fill = \"white\", shape = 21, \n",
    "             aes(fill = gene), alpha = 0.9) +\n",
    "  labs(\n",
    "    title = \"ATF3 Paralog Expression Profiles\",\n",
    "    subtitle = \"Across developmental cell clusters\",\n",
    "    x = \"Developmental Stage\",\n",
    "    y = \"Expression Level (normalized counts)\",\n",
    "    color = \"Gene\",\n",
    "    fill = \"Gene\"\n",
    "  ) +\n",
    "  scale_color_manual(values = c(\"Atf3\" = \"#1f77b4\", \"Jdp2\" = \"#ff7f0e\", \"Batf3\" = \"#2ca02c\", \n",
    "                                 \"Batf\" = \"#d62728\", \"Fosl1\" = \"#9467bd\", \"Fosb\" = \"#8c564b\", \n",
    "                                 \"Fosl2\" = \"#e377c2\")) +\n",
    "  scale_fill_manual(values = c(\"Atf3\" = \"#1f77b4\", \"Jdp2\" = \"#ff7f0e\", \"Batf3\" = \"#2ca02c\", \n",
    "                               \"Batf\" = \"#d62728\", \"Fosl1\" = \"#9467bd\", \"Fosb\" = \"#8c564b\", \n",
    "                               \"Fosl2\" = \"#e377c2\")) +\n",
    "  theme_classic(base_size = 12) +\n",
    "  theme(\n",
    "    plot.title = element_text(size = 18, face = \"bold\", hjust = 0.5, color = \"#2c3e50\"),\n",
    "    plot.subtitle = element_text(size = 12, hjust = 0.5, color = \"gray50\"),\n",
    "    axis.text.x = element_text(angle = 30, hjust = 1, size = 11),\n",
    "    axis.title = element_text(size = 13, face = \"bold\"),\n",
    "    axis.line = element_line(color = \"#34495e\", size = 0.8),\n",
    "    plot.background = element_rect(fill = \"white\", color = NA),\n",
    "    panel.background = element_rect(fill = \"white\", color = NA),\n",
    "    legend.position = \"right\",\n",
    "    legend.title = element_text(size = 12, face = \"bold\"),\n",
    "    legend.text = element_text(size = 11),\n",
    "    legend.background = element_rect(fill = \"white\", color = \"gray80\"),\n",
    "    legend.key = element_rect(fill = \"white\")\n",
    "  ) +\n",
    "  guides(color = guide_legend(override.aes = list(size = 3)),\n",
    "         fill = guide_legend(override.aes = list(size = 3)))\n",
    "\n",
    "# Display the plot\n",
    "print(p_dfc_emp_st_atf3_paralogs)\n"
   ]
  },
  {
   "cell_type": "code",
   "execution_count": null,
   "id": "71202f00-4642-4e0e-80b3-1605c1f13842",
   "metadata": {
    "vscode": {
     "languageId": "r"
    }
   },
   "outputs": [],
   "source": [
    "Zfp711_paralogs"
   ]
  },
  {
   "cell_type": "code",
   "execution_count": null,
   "id": "96e50417",
   "metadata": {
    "vscode": {
     "languageId": "r"
    }
   },
   "outputs": [],
   "source": [
    "library(ggplot2)\n",
    "library(dplyr)\n",
    "library(tidyr)\n",
    "\n",
    "# Reorder clusters according to emp_ct vector\n",
    "dfc_emp_st$cluster <- factor(dfc_emp_st$cluster, levels = emp_cts)\n",
    "\n",
    "# Reshape data to long format for ATF3 paralogs\n",
    "dfa_long <- dfc_emp_st %>%\n",
    "  pivot_longer(cols = all_of(Zfp711_paralogs), \n",
    "               names_to = \"gene\", \n",
    "               values_to = \"expression\")\n",
    "\n",
    "# Create multi-gene line plot\n",
    "p_dfc_emp_st_Zfp711_paralogs <- ggplot(dfa_long, aes(x = cluster, y = expression, group = gene, color = gene)) +\n",
    "  geom_line(size = 1.5, alpha = 0.8) +\n",
    "  geom_point(size = 4, stroke = 1.2, fill = \"white\", shape = 21, \n",
    "             aes(fill = gene), alpha = 0.9) +\n",
    "  labs(\n",
    "    title = \"Zfp711 Paralog Expression Profiles\",\n",
    "    subtitle = \"Across developmental cell clusters\",\n",
    "    x = \"Developmental Stage\",\n",
    "    y = \"Expression Level (normalized counts)\",\n",
    "    color = \"Gene\",\n",
    "    fill = \"Gene\"\n",
    "  ) +\n",
    "  scale_color_manual(values = c(\"Zfp711\" = \"#1f77b4\", \"Zfy1\" = \"#ff7f0e\", \"Zfy2\" = \"#2ca02c\", \n",
    "                                 \"Zfx\" = \"#d62728\")) +\n",
    "  scale_fill_manual(values = c(\"Zfp711\" = \"#1f77b4\", \"Zfy1\" = \"#ff7f0e\", \"Zfy2\" = \"#2ca02c\", \n",
    "                               \"Zfx\" = \"#d62728\")) +\n",
    "  theme_classic(base_size = 12) +\n",
    "  theme(\n",
    "    plot.title = element_text(size = 18, face = \"bold\", hjust = 0.5, color = \"#2c3e50\"),\n",
    "    plot.subtitle = element_text(size = 12, hjust = 0.5, color = \"gray50\"),\n",
    "    axis.text.x = element_text(angle = 30, hjust = 1, size = 11),\n",
    "    axis.title = element_text(size = 13, face = \"bold\"),\n",
    "    axis.line = element_line(color = \"#34495e\", size = 0.8),\n",
    "    plot.background = element_rect(fill = \"white\", color = NA),\n",
    "    panel.background = element_rect(fill = \"white\", color = NA),\n",
    "    legend.position = \"right\",\n",
    "    legend.title = element_text(size = 12, face = \"bold\"),\n",
    "    legend.text = element_text(size = 11),\n",
    "    legend.background = element_rect(fill = \"white\", color = \"gray80\"),\n",
    "    legend.key = element_rect(fill = \"white\")\n",
    "  ) +\n",
    "  guides(color = guide_legend(override.aes = list(size = 3)),\n",
    "         fill = guide_legend(override.aes = list(size = 3)))\n",
    "\n",
    "# Display the plot\n",
    "print(p_dfc_emp_st_Zfp711_paralogs)\n"
   ]
  },
  {
   "cell_type": "code",
   "execution_count": null,
   "id": "aa600752-c78a-4e86-93c0-a3c7f951165b",
   "metadata": {
    "vscode": {
     "languageId": "r"
    }
   },
   "outputs": [],
   "source": [
    "Bcl6b_paralogs"
   ]
  },
  {
   "cell_type": "code",
   "execution_count": null,
   "id": "eaa9f661-7cbc-49b3-8555-6674cd3e4ab2",
   "metadata": {
    "vscode": {
     "languageId": "r"
    }
   },
   "outputs": [],
   "source": [
    "library(ggplot2)\n",
    "library(dplyr)\n",
    "library(tidyr)\n",
    "\n",
    "# Reorder clusters according to emp_ct vector\n",
    "dfc_emp_st$cluster <- factor(dfc_emp_st$cluster, levels = emp_cts)\n",
    "\n",
    "# Reshape data to long format for ATF3 paralogs\n",
    "dfa_long <- dfc_emp_st %>%\n",
    "  pivot_longer(cols = all_of(Bcl6b_paralogs), \n",
    "               names_to = \"gene\", \n",
    "               values_to = \"expression\")\n",
    "\n",
    "# Create multi-gene line plot\n",
    "p_dfc_emp_st_Bcl6b_paralogs <- ggplot(dfa_long, aes(x = cluster, y = expression, group = gene, color = gene)) +\n",
    "  geom_line(size = 1.5, alpha = 0.8) +\n",
    "  geom_point(size = 4, stroke = 1.2, fill = \"white\", shape = 21, \n",
    "             aes(fill = gene), alpha = 0.9) +\n",
    "  labs(\n",
    "    title = \"Bcl6b Paralog Expression Profiles\",\n",
    "    subtitle = \"Across developmental cell clusters\",\n",
    "    x = \"Developmental Stage\",\n",
    "    y = \"Expression Level (normalized counts)\",\n",
    "    color = \"Gene\",\n",
    "    fill = \"Gene\"\n",
    "  ) +\n",
    "  scale_color_manual(values = c(\"Bcl6b\" = \"#1f77b4\", \"Bcl6\" = \"#ff7f0e\")) +\n",
    "  scale_fill_manual(values = c(\"Bcl6b\" = \"#1f77b4\", \"Bcl6\" = \"#ff7f0e\")) +\n",
    "  theme_classic(base_size = 12) +\n",
    "  theme(\n",
    "    plot.title = element_text(size = 18, face = \"bold\", hjust = 0.5, color = \"#2c3e50\"),\n",
    "    plot.subtitle = element_text(size = 12, hjust = 0.5, color = \"gray50\"),\n",
    "    axis.text.x = element_text(angle = 30, hjust = 1, size = 11),\n",
    "    axis.title = element_text(size = 13, face = \"bold\"),\n",
    "    axis.line = element_line(color = \"#34495e\", size = 0.8),\n",
    "    plot.background = element_rect(fill = \"white\", color = NA),\n",
    "    panel.background = element_rect(fill = \"white\", color = NA),\n",
    "    legend.position = \"right\",\n",
    "    legend.title = element_text(size = 12, face = \"bold\"),\n",
    "    legend.text = element_text(size = 11),\n",
    "    legend.background = element_rect(fill = \"white\", color = \"gray80\"),\n",
    "    legend.key = element_rect(fill = \"white\")\n",
    "  ) +\n",
    "  guides(color = guide_legend(override.aes = list(size = 3)),\n",
    "         fill = guide_legend(override.aes = list(size = 3)))\n",
    "\n",
    "# Display the plot\n",
    "print(p_dfc_emp_st_Bcl6b_paralogs)\n"
   ]
  },
  {
   "cell_type": "markdown",
   "id": "1aec87c1-9d40-47ce-8c3e-e45159893ccd",
   "metadata": {},
   "source": [
    "#### combined"
   ]
  },
  {
   "cell_type": "code",
   "execution_count": null,
   "id": "b430ad83",
   "metadata": {
    "vscode": {
     "languageId": "r"
    }
   },
   "outputs": [],
   "source": [
    "options(repr.plot.width = 20, repr.plot.height = 14)\n",
    "plot_grid(\n",
    "    p_dfa_emp_st_atf3_paralogs,p_dfa_emp_st_Zfp711_paralogs,p_dfa_emp_st_Bcl6b_paralogs,\n",
    "    p_dfcx_emp_st_atf3_paralogs,p_dfcx_emp_st_Zfp711_paralogs,p_dfcx_emp_st_Bcl6b_paralogs,\n",
    "    p_dfc_emp_st_atf3_paralogs,p_dfc_emp_st_Zfp711_paralogs,p_dfc_emp_st_Bcl6b_paralogs,\n",
    "    \n",
    "ncol = 3)"
   ]
  },
  {
   "cell_type": "code",
   "execution_count": null,
   "id": "9f3eb13e-de3d-4ffc-b6ae-35901993e10b",
   "metadata": {
    "vscode": {
     "languageId": "r"
    }
   },
   "outputs": [],
   "source": []
  },
  {
   "cell_type": "code",
   "execution_count": null,
   "id": "a67aa47a-7750-4ec7-9e0e-1c01be8b20a4",
   "metadata": {
    "vscode": {
     "languageId": "r"
    }
   },
   "outputs": [],
   "source": []
  },
  {
   "cell_type": "markdown",
   "id": "0caec82b-d801-4797-919a-6ed8ecb16c4f",
   "metadata": {},
   "source": [
    "## erythroid"
   ]
  },
  {
   "cell_type": "markdown",
   "id": "7d44039a-a96a-49fe-a1a4-2ccaabf10af5",
   "metadata": {},
   "source": [
    "### in vivo"
   ]
  },
  {
   "cell_type": "code",
   "execution_count": null,
   "id": "8a7d9dea-9eae-41c5-bbd5-cb1f93bfe9ef",
   "metadata": {
    "vscode": {
     "languageId": "r"
    }
   },
   "outputs": [],
   "source": []
  },
  {
   "cell_type": "code",
   "execution_count": null,
   "id": "5a27025d-8534-48e2-ae46-1dd70a1d675f",
   "metadata": {
    "vscode": {
     "languageId": "r"
    }
   },
   "outputs": [],
   "source": [
    "erythroid_ct <- c('Epiblast', 'Primitive Streak',  'Nascent mesoderm',  'Haematoendothelial progenitors',  'Blood progenitors', 'Erythroid')"
   ]
  },
  {
   "cell_type": "code",
   "execution_count": null,
   "id": "29cf10c5-18d3-419d-af9a-f56a94a1a1ee",
   "metadata": {
    "vscode": {
     "languageId": "r"
    }
   },
   "outputs": [],
   "source": [
    "head(dfa)"
   ]
  },
  {
   "cell_type": "code",
   "execution_count": null,
   "id": "381fc993-ca30-4c68-a0bc-50fb0ca855d4",
   "metadata": {
    "vscode": {
     "languageId": "r"
    }
   },
   "outputs": [],
   "source": [
    "dfa_erythroid <- dfa[,colnames(dfa) %in% erythroid_ct]\n",
    "dim(dfa_erythroid)"
   ]
  },
  {
   "cell_type": "code",
   "execution_count": null,
   "id": "da1f513a-3d21-448a-a6f0-606ddcb4faf0",
   "metadata": {
    "vscode": {
     "languageId": "r"
    }
   },
   "outputs": [],
   "source": [
    "head(dfa_erythroid)"
   ]
  },
  {
   "cell_type": "code",
   "execution_count": null,
   "id": "4364fbce-466c-4623-a269-c96798bc18ce",
   "metadata": {
    "vscode": {
     "languageId": "r"
    }
   },
   "outputs": [],
   "source": [
    "dfa_erythroid <- dfa[, erythroid_ct]"
   ]
  },
  {
   "cell_type": "code",
   "execution_count": null,
   "id": "8572d6c9-079a-44a6-afe3-10a093953777",
   "metadata": {
    "vscode": {
     "languageId": "r"
    }
   },
   "outputs": [],
   "source": [
    "head(dfa_erythroid)"
   ]
  },
  {
   "cell_type": "code",
   "execution_count": null,
   "id": "a14d4728-4108-4741-8933-2036f60e0767",
   "metadata": {
    "vscode": {
     "languageId": "r"
    }
   },
   "outputs": [],
   "source": [
    "dfa_erythroid_s <- dfa_erythroid[KOs_and_paralogs,]\n",
    "head(dfa_erythroid_s)"
   ]
  },
  {
   "cell_type": "code",
   "execution_count": null,
   "id": "9137b31a-dbd2-4598-86ba-291d315449d7",
   "metadata": {
    "vscode": {
     "languageId": "r"
    }
   },
   "outputs": [],
   "source": [
    "dfa_erythroid_st <- t(dfa_erythroid_s)"
   ]
  },
  {
   "cell_type": "code",
   "execution_count": null,
   "id": "a4f7a649-d5b7-4ed3-8377-e83f2e93fb4b",
   "metadata": {
    "vscode": {
     "languageId": "r"
    }
   },
   "outputs": [],
   "source": [
    "dfa_erythroid_st <- as.data.frame(dfa_erythroid_st)"
   ]
  },
  {
   "cell_type": "code",
   "execution_count": null,
   "id": "288e8de2-5147-4b73-b526-df2f3300c74f",
   "metadata": {
    "vscode": {
     "languageId": "r"
    }
   },
   "outputs": [],
   "source": [
    "head(dfa_erythroid_st)"
   ]
  },
  {
   "cell_type": "code",
   "execution_count": null,
   "id": "b9bd61fa-df20-4d15-bad7-6278ae7cf588",
   "metadata": {
    "vscode": {
     "languageId": "r"
    }
   },
   "outputs": [],
   "source": [
    "dfa_erythroid_st$cluster <- rownames(dfa_erythroid_st)"
   ]
  },
  {
   "cell_type": "code",
   "execution_count": null,
   "id": "07232e99-096e-46aa-8bb2-b40c5ec13be4",
   "metadata": {
    "vscode": {
     "languageId": "r"
    }
   },
   "outputs": [],
   "source": [
    "head(dfa_erythroid_st)"
   ]
  },
  {
   "cell_type": "code",
   "execution_count": null,
   "id": "7ff772e4-5f43-4a4d-8574-f95dbd2e25da",
   "metadata": {
    "vscode": {
     "languageId": "r"
    }
   },
   "outputs": [],
   "source": [
    "str(dfa_erythroid_st)"
   ]
  },
  {
   "cell_type": "code",
   "execution_count": null,
   "id": "268e8753-9fa3-4cfc-8b6e-1a6a481abafd",
   "metadata": {
    "vscode": {
     "languageId": "r"
    }
   },
   "outputs": [],
   "source": [
    "library(ggplot2)\n",
    "library(dplyr)\n",
    "options(repr.plot.width = 10, repr.plot.height = 6)\n",
    "\n",
    "# Reorder clusters according to emp_ct vector\n",
    "dfa_erythroid_st$cluster <- factor(dfa_erythroid_st$cluster, levels = erythroid_ct)\n",
    "\n",
    "# Improved version for scientific publication\n",
    "p_dfa_erythroid_st_atf3 <- ggplot(dfa_erythroid_st, aes(x = cluster, y = Atf3, group = 1)) +\n",
    "  geom_area(fill = \"#E8F4FD\", alpha = 0.3) +\n",
    "  geom_line(color = \"#1f77b4\", linewidth = 1.2) +  # Updated to linewidth\n",
    "  geom_point(color = \"#ff7f0e\", size = 3.5, stroke = 1.2, fill = \"white\", shape = 21) +\n",
    "  labs(\n",
    "   title = expression(paste(italic(\"In vivo\"), \" average \", italic(\"Atf3 \"), \"expression: first wave\")),\n",
    "    x = \"Ordered Developmental Stage - Cell Type\",\n",
    "    y = \"Average Expression Level (normalized counts)\"\n",
    "  ) +\n",
    "  theme_classic(base_size = 14) +  # Increased base font size\n",
    "  theme(\n",
    "    # Title improvements\n",
    "    plot.title = element_text(size = 16, face = \"bold\", hjust = 0.5, \n",
    "                             color = \"black\", margin = margin(b = 20)),\n",
    "    \n",
    "    # Axis improvements\n",
    "    axis.title.x = element_text(size = 12, face = \"bold\", color = \"black\",\n",
    "                               margin = margin(t = 15)),\n",
    "    axis.title.y = element_text(size = 12, face = \"bold\", color = \"black\",\n",
    "                               margin = margin(r = 15)),\n",
    "    axis.text.x = element_text(angle = 45, hjust = 1, size = 10, color = \"black\"),\n",
    "    axis.text.y = element_text(size = 10, color = \"black\"),\n",
    "    \n",
    "    # Clean axis lines\n",
    "    axis.line = element_line(color = \"black\", linewidth = 0.6),\n",
    "    axis.ticks = element_line(color = \"black\", linewidth = 0.5),\n",
    "    axis.ticks.length = unit(0.2, \"cm\"),\n",
    "    \n",
    "    # Background\n",
    "    plot.background = element_rect(fill = \"white\", color = NA),\n",
    "    panel.background = element_rect(fill = \"white\", color = NA),\n",
    "    \n",
    "    # Margins for better spacing\n",
    "    plot.margin = margin(20, 20, 20, 20),\n",
    "    \n",
    "    # Remove minor gridlines, keep major y-gridlines subtle\n",
    "    panel.grid.major.y = element_line(color = \"grey90\", linewidth = 0.3),\n",
    "    panel.grid.major.x = element_blank(),\n",
    "    panel.grid.minor = element_blank()\n",
    "  ) +\n",
    "  # Add subtle y-axis breaks\n",
    "  scale_y_continuous(expand = expansion(mult = c(0.02, 0.05)),\n",
    "                     breaks = scales::pretty_breaks(n = 6))\n",
    "\n",
    "# Display the plot\n",
    "print(p_dfa_erythroid_st_atf3)\n",
    "\n",
    "# Simple version without error bars or sample size annotations\n",
    "# This is the clean version for publication without statistical elements\n",
    "#p_final <- p_dfa_emp_st_atf3 +\n",
    "#  labs(caption = NULL)  # Remove caption if not needed\n",
    "\n",
    "#print(p_final)"
   ]
  },
  {
   "cell_type": "code",
   "execution_count": null,
   "id": "606c82ca-21dd-44ec-89e2-e97cf1b8fd57",
   "metadata": {
    "vscode": {
     "languageId": "r"
    }
   },
   "outputs": [],
   "source": [
    "library(ggplot2)\n",
    "library(dplyr)\n",
    "options(repr.plot.width = 10, repr.plot.height = 6)\n",
    "\n",
    "# Reorder clusters according to emp_ct vector\n",
    "dfa_erythroid_st$cluster <- factor(dfa_erythroid_st$cluster, levels = erythroid_ct)\n",
    "\n",
    "# Improved version for scientific publication\n",
    "p_dfa_erythroid_st_zfp711 <- ggplot(dfa_erythroid_st, aes(x = cluster, y = Zfp711, group = 1)) +\n",
    "  geom_area(fill = \"#E8F4FD\", alpha = 0.3) +\n",
    "  geom_line(color = \"#1f77b4\", linewidth = 1.2) +  # Updated to linewidth\n",
    "  geom_point(color = \"#ff7f0e\", size = 3.5, stroke = 1.2, fill = \"white\", shape = 21) +\n",
    "  labs(\n",
    "   title = expression(paste(italic(\"In vivo\"), \" average \", italic(\"Zfp711 \"), \"expression: first wave\")),\n",
    "    x = \"Ordered Developmental Stage - Cell Type\",\n",
    "    y = \"Average Expression Level (normalized counts)\"\n",
    "  ) +\n",
    "  theme_classic(base_size = 14) +  # Increased base font size\n",
    "  theme(\n",
    "    # Title improvements\n",
    "    plot.title = element_text(size = 16, face = \"bold\", hjust = 0.5, \n",
    "                             color = \"black\", margin = margin(b = 20)),\n",
    "    \n",
    "    # Axis improvements\n",
    "    axis.title.x = element_text(size = 12, face = \"bold\", color = \"black\",\n",
    "                               margin = margin(t = 15)),\n",
    "    axis.title.y = element_text(size = 12, face = \"bold\", color = \"black\",\n",
    "                               margin = margin(r = 15)),\n",
    "    axis.text.x = element_text(angle = 45, hjust = 1, size = 10, color = \"black\"),\n",
    "    axis.text.y = element_text(size = 10, color = \"black\"),\n",
    "    \n",
    "    # Clean axis lines\n",
    "    axis.line = element_line(color = \"black\", linewidth = 0.6),\n",
    "    axis.ticks = element_line(color = \"black\", linewidth = 0.5),\n",
    "    axis.ticks.length = unit(0.2, \"cm\"),\n",
    "    \n",
    "    # Background\n",
    "    plot.background = element_rect(fill = \"white\", color = NA),\n",
    "    panel.background = element_rect(fill = \"white\", color = NA),\n",
    "    \n",
    "    # Margins for better spacing\n",
    "    plot.margin = margin(20, 20, 20, 20),\n",
    "    \n",
    "    # Remove minor gridlines, keep major y-gridlines subtle\n",
    "    panel.grid.major.y = element_line(color = \"grey90\", linewidth = 0.3),\n",
    "    panel.grid.major.x = element_blank(),\n",
    "    panel.grid.minor = element_blank()\n",
    "  ) +\n",
    "  # Add subtle y-axis breaks\n",
    "  scale_y_continuous(expand = expansion(mult = c(0.02, 0.05)),\n",
    "                     breaks = scales::pretty_breaks(n = 6))\n",
    "\n",
    "# Display the plot\n",
    "print(p_dfa_erythroid_st_zfp711)\n",
    "\n",
    "# Simple version without error bars or sample size annotations\n",
    "# This is the clean version for publication without statistical elements\n",
    "#p_final <- p_dfa_emp_st_atf3 +\n",
    "#  labs(caption = NULL)  # Remove caption if not needed\n",
    "\n",
    "#print(p_final)"
   ]
  },
  {
   "cell_type": "code",
   "execution_count": null,
   "id": "7e9b032e-45a0-4254-bd99-80eeee17f7a8",
   "metadata": {
    "vscode": {
     "languageId": "r"
    }
   },
   "outputs": [],
   "source": [
    "library(ggplot2)\n",
    "library(dplyr)\n",
    "options(repr.plot.width = 10, repr.plot.height = 6)\n",
    "\n",
    "# Reorder clusters according to emp_ct vector\n",
    "dfa_erythroid_st$cluster <- factor(dfa_erythroid_st$cluster, levels = erythroid_ct)\n",
    "\n",
    "# Improved version for scientific publication\n",
    "p_dfa_erythroid_st_bcl6b <- ggplot(dfa_erythroid_st, aes(x = cluster, y = Bcl6b, group = 1)) +\n",
    "  geom_area(fill = \"#E8F4FD\", alpha = 0.3) +\n",
    "  geom_line(color = \"#1f77b4\", linewidth = 1.2) +  # Updated to linewidth\n",
    "  geom_point(color = \"#ff7f0e\", size = 3.5, stroke = 1.2, fill = \"white\", shape = 21) +\n",
    "  labs(\n",
    "   title = expression(paste(italic(\"In vivo\"), \" average \", italic(\"Bcl6b \"), \"expression: first wave\")),\n",
    "    x = \"Ordered Developmental Stage - Cell Type\",\n",
    "    y = \"Average Expression Level (normalized counts)\"\n",
    "  ) +\n",
    "  theme_classic(base_size = 14) +  # Increased base font size\n",
    "  theme(\n",
    "    # Title improvements\n",
    "    plot.title = element_text(size = 16, face = \"bold\", hjust = 0.5, \n",
    "                             color = \"black\", margin = margin(b = 20)),\n",
    "    \n",
    "    # Axis improvements\n",
    "    axis.title.x = element_text(size = 12, face = \"bold\", color = \"black\",\n",
    "                               margin = margin(t = 15)),\n",
    "    axis.title.y = element_text(size = 12, face = \"bold\", color = \"black\",\n",
    "                               margin = margin(r = 15)),\n",
    "    axis.text.x = element_text(angle = 45, hjust = 1, size = 10, color = \"black\"),\n",
    "    axis.text.y = element_text(size = 10, color = \"black\"),\n",
    "    \n",
    "    # Clean axis lines\n",
    "    axis.line = element_line(color = \"black\", linewidth = 0.6),\n",
    "    axis.ticks = element_line(color = \"black\", linewidth = 0.5),\n",
    "    axis.ticks.length = unit(0.2, \"cm\"),\n",
    "    \n",
    "    # Background\n",
    "    plot.background = element_rect(fill = \"white\", color = NA),\n",
    "    panel.background = element_rect(fill = \"white\", color = NA),\n",
    "    \n",
    "    # Margins for better spacing\n",
    "    plot.margin = margin(20, 20, 20, 20),\n",
    "    \n",
    "    # Remove minor gridlines, keep major y-gridlines subtle\n",
    "    panel.grid.major.y = element_line(color = \"grey90\", linewidth = 0.3),\n",
    "    panel.grid.major.x = element_blank(),\n",
    "    panel.grid.minor = element_blank()\n",
    "  ) +\n",
    "  # Add subtle y-axis breaks\n",
    "  scale_y_continuous(expand = expansion(mult = c(0.02, 0.05)),\n",
    "                     breaks = scales::pretty_breaks(n = 6))\n",
    "\n",
    "# Display the plot\n",
    "print(p_dfa_erythroid_st_bcl6b)\n",
    "\n",
    "# Simple version without error bars or sample size annotations\n",
    "# This is the clean version for publication without statistical elements\n",
    "#p_final <- p_dfa_emp_st_atf3 +\n",
    "#  labs(caption = NULL)  # Remove caption if not needed\n",
    "\n",
    "#print(p_final)"
   ]
  },
  {
   "cell_type": "markdown",
   "id": "91882ea1-1c3a-4fef-9f07-17257d004ace",
   "metadata": {
    "jp-MarkdownHeadingCollapsed": true
   },
   "source": [
    "### in vitro subcluster_x (simplifed)"
   ]
  },
  {
   "cell_type": "code",
   "execution_count": null,
   "id": "6119c4fa-b9f0-4828-95ad-2280c0f15917",
   "metadata": {
    "vscode": {
     "languageId": "r"
    }
   },
   "outputs": [],
   "source": [
    "table(wt_obj$new_subclusters_x)"
   ]
  },
  {
   "cell_type": "code",
   "execution_count": null,
   "id": "0c7e1526-1a0e-4405-9af9-2554e4c9a8f7",
   "metadata": {
    "vscode": {
     "languageId": "r"
    }
   },
   "outputs": [],
   "source": [
    "erythroid_ctx <- c('Epiblast', 'Primitive Streak',  'Nascent Mesoderm',  'HEP/BP', 'Erythroid')"
   ]
  },
  {
   "cell_type": "code",
   "execution_count": null,
   "id": "444cb1c7-78cd-4ff3-99fb-7314f16dd1c6",
   "metadata": {
    "vscode": {
     "languageId": "r"
    }
   },
   "outputs": [],
   "source": [
    "head(dfcx)"
   ]
  },
  {
   "cell_type": "code",
   "execution_count": null,
   "id": "389278a3-4510-4d06-b26b-fde301d8f280",
   "metadata": {
    "vscode": {
     "languageId": "r"
    }
   },
   "outputs": [],
   "source": [
    "dfcx_erythroid <- dfcx[,colnames(dfcx) %in% erythroid_ctx]\n",
    "dim(dfcx_erythroid)"
   ]
  },
  {
   "cell_type": "code",
   "execution_count": null,
   "id": "3cc99096-9380-464c-937f-fedeb21a825e",
   "metadata": {
    "vscode": {
     "languageId": "r"
    }
   },
   "outputs": [],
   "source": [
    "head(dfcx_erythroid)"
   ]
  },
  {
   "cell_type": "code",
   "execution_count": null,
   "id": "ee5c0354-ded2-421a-b0f7-7e2ad82af8b3",
   "metadata": {
    "vscode": {
     "languageId": "r"
    }
   },
   "outputs": [],
   "source": [
    "dfcx_erythroid <- dfcx_erythroid[, erythroid_ctx]"
   ]
  },
  {
   "cell_type": "code",
   "execution_count": null,
   "id": "038fdb11-a694-41e0-bb82-b650cde060ec",
   "metadata": {
    "vscode": {
     "languageId": "r"
    }
   },
   "outputs": [],
   "source": [
    "head(dfcx_erythroid)"
   ]
  },
  {
   "cell_type": "code",
   "execution_count": null,
   "id": "0e3fd048-8108-4625-b4d8-37337a01b8d1",
   "metadata": {
    "vscode": {
     "languageId": "r"
    }
   },
   "outputs": [],
   "source": [
    "dfcx_erythroid_s <- dfcx_erythroid[KOs_and_paralogs,]\n",
    "head(dfcx_erythroid_s)"
   ]
  },
  {
   "cell_type": "code",
   "execution_count": null,
   "id": "37f8c759-61f8-4f1f-8757-cbfa72b1e928",
   "metadata": {
    "vscode": {
     "languageId": "r"
    }
   },
   "outputs": [],
   "source": [
    "dfcx_erythroid_st <- t(dfcx_erythroid_s)"
   ]
  },
  {
   "cell_type": "code",
   "execution_count": null,
   "id": "7239e79a-e918-4c7d-bf11-69771a1a35e9",
   "metadata": {
    "vscode": {
     "languageId": "r"
    }
   },
   "outputs": [],
   "source": [
    "dfcx_erythroid_st <- as.data.frame(dfcx_erythroid_st)"
   ]
  },
  {
   "cell_type": "code",
   "execution_count": null,
   "id": "ad81ac00-8d8e-4fbe-b8c4-2325c2b67948",
   "metadata": {
    "vscode": {
     "languageId": "r"
    }
   },
   "outputs": [],
   "source": [
    "head(dfcx_erythroid_st)"
   ]
  },
  {
   "cell_type": "code",
   "execution_count": null,
   "id": "37352ba5-ea0f-45fe-998f-b2a763725f06",
   "metadata": {
    "vscode": {
     "languageId": "r"
    }
   },
   "outputs": [],
   "source": [
    "dfcx_erythroid_st$cluster <- rownames(dfcx_erythroid_st)"
   ]
  },
  {
   "cell_type": "code",
   "execution_count": null,
   "id": "eb82b825-4e9b-48d0-b58a-c2acd58d9aa9",
   "metadata": {
    "vscode": {
     "languageId": "r"
    }
   },
   "outputs": [],
   "source": [
    "head(dfcx_erythroid_st)"
   ]
  },
  {
   "cell_type": "code",
   "execution_count": null,
   "id": "ff3b405c-405b-45b2-86f9-fd10c9698176",
   "metadata": {
    "vscode": {
     "languageId": "r"
    }
   },
   "outputs": [],
   "source": [
    "str(dfcx_erythroid_st)"
   ]
  },
  {
   "cell_type": "code",
   "execution_count": null,
   "id": "b80504df-f75a-4312-9f42-b5d556d4ebb5",
   "metadata": {
    "vscode": {
     "languageId": "r"
    }
   },
   "outputs": [],
   "source": [
    "library(ggplot2)\n",
    "library(dplyr)\n",
    "options(repr.plot.width = 8, repr.plot.height = 6)\n",
    "# Reorder clusters according to erythroid_ct vector\n",
    "dfcx_erythroid_st$cluster <- factor(dfcx_erythroid_st$cluster, levels = erythroid_ctx)\n",
    "\n",
    "\n",
    "# Alternative version with different styling\n",
    "p_dfcx_erythroid_st_atf3 <- ggplot(dfcx_erythroid_st, aes(x = cluster, y = Atf3, group = 1)) +\n",
    "  geom_area(fill = \"#E8F4FD\", alpha = 0.3) +\n",
    "  geom_line(color = \"#1f77b4\", size = 1.5) +\n",
    "  geom_point(color = \"#ff7f0e\", size = 4, stroke = 1.5, fill = \"white\", shape = 21) +\n",
    "  labs(\n",
    "    title = \"Atf3 Expression Profile\",\n",
    "    subtitle = \"Across developmental cell clusters\",\n",
    "    x = \"Developmental Stage\",\n",
    "    y = \"Expression Level (normalized counts)\"\n",
    "  ) +\n",
    "  theme_classic(base_size = 12) +\n",
    "  theme(\n",
    "    plot.title = element_text(size = 18, face = \"bold\", hjust = 0.5, color = \"#2c3e50\"),\n",
    "    plot.subtitle = element_text(size = 12, hjust = 0.5, color = \"gray50\"),\n",
    "    axis.text.x = element_text(angle = 30, hjust = 1, size = 11),\n",
    "    axis.title = element_text(size = 13, face = \"bold\"),\n",
    "    axis.line = element_line(color = \"#34495e\", size = 0.8),\n",
    "    plot.background = element_rect(fill = \"white\", color = NA),\n",
    "    panel.background = element_rect(fill = \"white\", color = NA)\n",
    "  )\n",
    "\n",
    "# Display alternative version\n",
    "print(p_dfcx_erythroid_st_atf3)"
   ]
  },
  {
   "cell_type": "code",
   "execution_count": null,
   "id": "d028ff93-b319-435c-86aa-14e975d679bd",
   "metadata": {
    "vscode": {
     "languageId": "r"
    }
   },
   "outputs": [],
   "source": [
    "# Alternative version with different styling\n",
    "p_dfcx_erythroid_st_zfp711 <- ggplot(dfcx_erythroid_st, aes(x = cluster, y = Zfp711, group = 1)) +\n",
    "  geom_area(fill = \"#E8F4FD\", alpha = 0.3) +\n",
    "  geom_line(color = \"#1f77b4\", size = 1.5) +\n",
    "  geom_point(color = \"#ff7f0e\", size = 4, stroke = 1.5, fill = \"white\", shape = 21) +\n",
    "  labs(\n",
    "    title = \"Zfp711 Expression Profile\",\n",
    "    subtitle = \"Across developmental cell clusters\",\n",
    "    x = \"Developmental Stage\",\n",
    "    y = \"Expression Level (normalized counts)\"\n",
    "  ) +\n",
    "  theme_classic(base_size = 12) +\n",
    "  theme(\n",
    "    plot.title = element_text(size = 18, face = \"bold\", hjust = 0.5, color = \"#2c3e50\"),\n",
    "    plot.subtitle = element_text(size = 12, hjust = 0.5, color = \"gray50\"),\n",
    "    axis.text.x = element_text(angle = 30, hjust = 1, size = 11),\n",
    "    axis.title = element_text(size = 13, face = \"bold\"),\n",
    "    axis.line = element_line(color = \"#34495e\", size = 0.8),\n",
    "    plot.background = element_rect(fill = \"white\", color = NA),\n",
    "    panel.background = element_rect(fill = \"white\", color = NA)\n",
    "  )\n",
    "\n",
    "# Display alternative version\n",
    "print(p_dfcx_erythroid_st_zfp711)"
   ]
  },
  {
   "cell_type": "code",
   "execution_count": null,
   "id": "0a3449c1-9946-41c8-b4cb-8122d4144965",
   "metadata": {
    "vscode": {
     "languageId": "r"
    }
   },
   "outputs": [],
   "source": [
    "# Alternative version with different styling\n",
    "p_dfcx_erythroid_st_bcl6b <- ggplot(dfcx_erythroid_st, aes(x = cluster, y = Bcl6b, group = 1)) +\n",
    "  geom_area(fill = \"#E8F4FD\", alpha = 0.3) +\n",
    "  geom_line(color = \"#1f77b4\", size = 1.5) +\n",
    "  geom_point(color = \"#ff7f0e\", size = 4, stroke = 1.5, fill = \"white\", shape = 21) +\n",
    "  labs(\n",
    "    title = \"Bcl6b Expression Profile\",\n",
    "    subtitle = \"Across developmental cell clusters\",\n",
    "    x = \"Developmental Stage\",\n",
    "    y = \"Expression Level (normalized counts)\"\n",
    "  ) +\n",
    "  theme_classic(base_size = 12) +\n",
    "  theme(\n",
    "    plot.title = element_text(size = 18, face = \"bold\", hjust = 0.5, color = \"#2c3e50\"),\n",
    "    plot.subtitle = element_text(size = 12, hjust = 0.5, color = \"gray50\"),\n",
    "    axis.text.x = element_text(angle = 30, hjust = 1, size = 11),\n",
    "    axis.title = element_text(size = 13, face = \"bold\"),\n",
    "    axis.line = element_line(color = \"#34495e\", size = 0.8),\n",
    "    plot.background = element_rect(fill = \"white\", color = NA),\n",
    "    panel.background = element_rect(fill = \"white\", color = NA)\n",
    "  )\n",
    "\n",
    "options(repr.plot.width = 8, repr.plot.height = 6)\n",
    "# Display alternative version\n",
    "print(p_dfcx_erythroid_st_bcl6b)"
   ]
  },
  {
   "cell_type": "code",
   "execution_count": null,
   "id": "2e2b665e-03c5-4114-bbd9-22525f7ade04",
   "metadata": {
    "vscode": {
     "languageId": "r"
    }
   },
   "outputs": [],
   "source": []
  },
  {
   "cell_type": "markdown",
   "id": "33764991-beb0-441e-aa7b-1db340f2d103",
   "metadata": {},
   "source": [
    "### in vitro subclusters (Detailed)"
   ]
  },
  {
   "cell_type": "code",
   "execution_count": null,
   "id": "55669e54-a65a-412a-94f9-bcdc85db1280",
   "metadata": {
    "vscode": {
     "languageId": "r"
    }
   },
   "outputs": [],
   "source": [
    "table(wt_obj$new_subclusters)"
   ]
  },
  {
   "cell_type": "code",
   "execution_count": null,
   "id": "62b1ba36-05a0-4c79-8fa4-7c7970789a57",
   "metadata": {
    "vscode": {
     "languageId": "r"
    }
   },
   "outputs": [],
   "source": [
    "erythroid_cts <- c('Epiblast', 'Primitive Streak 1',  'Primitive Streak 2', 'Nascent Mesoderm',  'HEP/BP', 'Erythroid 1', 'Erythroid 2', 'Erythroid 3', 'Erythroid 4')"
   ]
  },
  {
   "cell_type": "code",
   "execution_count": null,
   "id": "9e38d2e4-89df-4a5d-afc2-f8d819680a6e",
   "metadata": {
    "vscode": {
     "languageId": "r"
    }
   },
   "outputs": [],
   "source": [
    "head(dfc)"
   ]
  },
  {
   "cell_type": "code",
   "execution_count": null,
   "id": "d8553ec6-ff42-4024-8c05-21a7d8fe5f33",
   "metadata": {
    "vscode": {
     "languageId": "r"
    }
   },
   "outputs": [],
   "source": [
    "dfc_erythroid <- dfc[,colnames(dfc) %in% erythroid_cts]\n",
    "dim(dfc_erythroid)"
   ]
  },
  {
   "cell_type": "code",
   "execution_count": null,
   "id": "b5459c5d-a193-41d5-9f45-fa3e7ef0cba8",
   "metadata": {
    "vscode": {
     "languageId": "r"
    }
   },
   "outputs": [],
   "source": [
    "head(dfc_erythroid)"
   ]
  },
  {
   "cell_type": "code",
   "execution_count": null,
   "id": "55e623ed-a65e-4110-b2f2-c9a239bb8b14",
   "metadata": {
    "vscode": {
     "languageId": "r"
    }
   },
   "outputs": [],
   "source": [
    "dfc_erythroid <- dfc_erythroid[, erythroid_cts]"
   ]
  },
  {
   "cell_type": "code",
   "execution_count": null,
   "id": "b216abe2-f59e-4582-bd8d-bd9233801a97",
   "metadata": {
    "vscode": {
     "languageId": "r"
    }
   },
   "outputs": [],
   "source": [
    "head(dfc_erythroid)"
   ]
  },
  {
   "cell_type": "code",
   "execution_count": null,
   "id": "32e66f42-38b3-444c-a30e-d771b1780f07",
   "metadata": {
    "vscode": {
     "languageId": "r"
    }
   },
   "outputs": [],
   "source": [
    "dfc_erythroid_s <- dfc_erythroid[KOs_and_paralogs,]\n",
    "head(dfc_erythroid_s)"
   ]
  },
  {
   "cell_type": "code",
   "execution_count": null,
   "id": "42b5cc5d-5bb2-4bac-967b-904bd99f41f8",
   "metadata": {
    "vscode": {
     "languageId": "r"
    }
   },
   "outputs": [],
   "source": [
    "dfc_erythroid_st <- t(dfc_erythroid_s)"
   ]
  },
  {
   "cell_type": "code",
   "execution_count": null,
   "id": "d488487f-84f2-453d-a7fc-93a404b1a707",
   "metadata": {
    "vscode": {
     "languageId": "r"
    }
   },
   "outputs": [],
   "source": [
    "dfc_erythroid_st <- as.data.frame(dfc_erythroid_st)"
   ]
  },
  {
   "cell_type": "code",
   "execution_count": null,
   "id": "5b2e994a-d59e-4baa-9e31-84d6cf62689c",
   "metadata": {
    "vscode": {
     "languageId": "r"
    }
   },
   "outputs": [],
   "source": [
    "head(dfc_erythroid_st)"
   ]
  },
  {
   "cell_type": "code",
   "execution_count": null,
   "id": "fccb78b3-7e94-4171-ba61-0ccf8cb46681",
   "metadata": {
    "vscode": {
     "languageId": "r"
    }
   },
   "outputs": [],
   "source": [
    "dfc_erythroid_st$cluster <- rownames(dfc_erythroid_st)"
   ]
  },
  {
   "cell_type": "code",
   "execution_count": null,
   "id": "1062a6a8-7971-4ba0-b269-928cd300129b",
   "metadata": {
    "vscode": {
     "languageId": "r"
    }
   },
   "outputs": [],
   "source": [
    "head(dfc_erythroid_st)"
   ]
  },
  {
   "cell_type": "code",
   "execution_count": null,
   "id": "051909c0-83ab-4ac5-9987-94048549ee44",
   "metadata": {
    "vscode": {
     "languageId": "r"
    }
   },
   "outputs": [],
   "source": [
    "str(dfc_erythroid_st)"
   ]
  },
  {
   "cell_type": "code",
   "execution_count": null,
   "id": "1c9cac24-d37e-4c27-8f34-cb57283ee95f",
   "metadata": {
    "vscode": {
     "languageId": "r"
    }
   },
   "outputs": [],
   "source": [
    "library(ggplot2)\n",
    "library(dplyr)\n",
    "options(repr.plot.width = 10, repr.plot.height = 6)\n",
    "\n",
    "# Reorder clusters according to emp_ct vector\n",
    "dfc_erythroid_st$cluster <- factor(dfc_erythroid_st$cluster, levels = erythroid_cts)\n",
    "\n",
    "# Improved version for scientific publication\n",
    "p_dfc_erythroid_st_atf3 <- ggplot(dfc_erythroid_st, aes(x = cluster, y = Atf3, group = 1)) +\n",
    "  geom_area(fill = \"#E8F4FD\", alpha = 0.3) +\n",
    "  geom_line(color = \"#1f77b4\", linewidth = 1.2) +  # Updated to linewidth\n",
    "  geom_point(color = \"#ff7f0e\", size = 3.5, stroke = 1.2, fill = \"white\", shape = 21) +\n",
    "  labs(\n",
    "   title = expression(paste(italic(\"In vitro\"), \" average \", italic(\"Atf3 \"), \"expression: first wave\")),\n",
    "    x = \"Ordered Developmental Stage - Cell Type\",\n",
    "    y = \"Average Expression Level (normalized counts)\"\n",
    "  ) +\n",
    "  theme_classic(base_size = 14) +  # Increased base font size\n",
    "  theme(\n",
    "    # Title improvements\n",
    "    plot.title = element_text(size = 16, face = \"bold\", hjust = 0.5, \n",
    "                             color = \"black\", margin = margin(b = 20)),\n",
    "    \n",
    "    # Axis improvements\n",
    "    axis.title.x = element_text(size = 12, face = \"bold\", color = \"black\",\n",
    "                               margin = margin(t = 15)),\n",
    "    axis.title.y = element_text(size = 12, face = \"bold\", color = \"black\",\n",
    "                               margin = margin(r = 15)),\n",
    "    axis.text.x = element_text(angle = 45, hjust = 1, size = 10, color = \"black\"),\n",
    "    axis.text.y = element_text(size = 10, color = \"black\"),\n",
    "    \n",
    "    # Clean axis lines\n",
    "    axis.line = element_line(color = \"black\", linewidth = 0.6),\n",
    "    axis.ticks = element_line(color = \"black\", linewidth = 0.5),\n",
    "    axis.ticks.length = unit(0.2, \"cm\"),\n",
    "    \n",
    "    # Background\n",
    "    plot.background = element_rect(fill = \"white\", color = NA),\n",
    "    panel.background = element_rect(fill = \"white\", color = NA),\n",
    "    \n",
    "    # Margins for better spacing\n",
    "    plot.margin = margin(20, 20, 20, 20),\n",
    "    \n",
    "    # Remove minor gridlines, keep major y-gridlines subtle\n",
    "    panel.grid.major.y = element_line(color = \"grey90\", linewidth = 0.3),\n",
    "    panel.grid.major.x = element_blank(),\n",
    "    panel.grid.minor = element_blank()\n",
    "  ) +\n",
    "  # Add subtle y-axis breaks\n",
    "  scale_y_continuous(expand = expansion(mult = c(0.02, 0.05)),\n",
    "                     breaks = scales::pretty_breaks(n = 6))\n",
    "\n",
    "# Display the plot\n",
    "print(p_dfc_erythroid_st_atf3)\n",
    "\n",
    "# Simple version without error bars or sample size annotations\n",
    "# This is the clean version for publication without statistical elements\n",
    "#p_final <- p_dfa_emp_st_atf3 +\n",
    "#  labs(caption = NULL)  # Remove caption if not needed\n",
    "\n",
    "#print(p_final)"
   ]
  },
  {
   "cell_type": "code",
   "execution_count": null,
   "id": "ae9d7f39-d391-485e-8117-7773292fe63c",
   "metadata": {
    "vscode": {
     "languageId": "r"
    }
   },
   "outputs": [],
   "source": [
    "library(ggplot2)\n",
    "library(dplyr)\n",
    "options(repr.plot.width = 10, repr.plot.height = 6)\n",
    "\n",
    "# Reorder clusters according to emp_ct vector\n",
    "dfc_erythroid_st$cluster <- factor(dfc_erythroid_st$cluster, levels = erythroid_cts)\n",
    "\n",
    "# Improved version for scientific publication\n",
    "p_dfc_erythroid_st_zfp711 <- ggplot(dfc_erythroid_st, aes(x = cluster, y = Zfp711, group = 1)) +\n",
    "  geom_area(fill = \"#E8F4FD\", alpha = 0.3) +\n",
    "  geom_line(color = \"#1f77b4\", linewidth = 1.2) +  # Updated to linewidth\n",
    "  geom_point(color = \"#ff7f0e\", size = 3.5, stroke = 1.2, fill = \"white\", shape = 21) +\n",
    "  labs(\n",
    "   title = expression(paste(italic(\"In vitro\"), \" average \", italic(\"Zfp711 \"), \"expression: first wave\")),\n",
    "    x = \"Ordered Developmental Stage - Cell Type\",\n",
    "    y = \"Average Expression Level (normalized counts)\"\n",
    "  ) +\n",
    "  theme_classic(base_size = 14) +  # Increased base font size\n",
    "  theme(\n",
    "    # Title improvements\n",
    "    plot.title = element_text(size = 16, face = \"bold\", hjust = 0.5, \n",
    "                             color = \"black\", margin = margin(b = 20)),\n",
    "    \n",
    "    # Axis improvements\n",
    "    axis.title.x = element_text(size = 12, face = \"bold\", color = \"black\",\n",
    "                               margin = margin(t = 15)),\n",
    "    axis.title.y = element_text(size = 12, face = \"bold\", color = \"black\",\n",
    "                               margin = margin(r = 15)),\n",
    "    axis.text.x = element_text(angle = 45, hjust = 1, size = 10, color = \"black\"),\n",
    "    axis.text.y = element_text(size = 10, color = \"black\"),\n",
    "    \n",
    "    # Clean axis lines\n",
    "    axis.line = element_line(color = \"black\", linewidth = 0.6),\n",
    "    axis.ticks = element_line(color = \"black\", linewidth = 0.5),\n",
    "    axis.ticks.length = unit(0.2, \"cm\"),\n",
    "    \n",
    "    # Background\n",
    "    plot.background = element_rect(fill = \"white\", color = NA),\n",
    "    panel.background = element_rect(fill = \"white\", color = NA),\n",
    "    \n",
    "    # Margins for better spacing\n",
    "    plot.margin = margin(20, 20, 20, 20),\n",
    "    \n",
    "    # Remove minor gridlines, keep major y-gridlines subtle\n",
    "    panel.grid.major.y = element_line(color = \"grey90\", linewidth = 0.3),\n",
    "    panel.grid.major.x = element_blank(),\n",
    "    panel.grid.minor = element_blank()\n",
    "  ) +\n",
    "  # Add subtle y-axis breaks\n",
    "  scale_y_continuous(expand = expansion(mult = c(0.02, 0.05)),\n",
    "                     breaks = scales::pretty_breaks(n = 6))\n",
    "\n",
    "# Display the plot\n",
    "print(p_dfc_erythroid_st_zfp711)\n",
    "\n",
    "# Simple version without error bars or sample size annotations\n",
    "# This is the clean version for publication without statistical elements\n",
    "#p_final <- p_dfa_emp_st_atf3 +\n",
    "#  labs(caption = NULL)  # Remove caption if not needed\n",
    "\n",
    "#print(p_final)"
   ]
  },
  {
   "cell_type": "code",
   "execution_count": null,
   "id": "b0a05e6b-ca3c-4447-82a2-dc532e5dce6a",
   "metadata": {
    "vscode": {
     "languageId": "r"
    }
   },
   "outputs": [],
   "source": [
    "library(ggplot2)\n",
    "library(dplyr)\n",
    "options(repr.plot.width = 10, repr.plot.height = 6)\n",
    "\n",
    "# Reorder clusters according to emp_ct vector\n",
    "dfc_erythroid_st$cluster <- factor(dfc_erythroid_st$cluster, levels = erythroid_cts)\n",
    "\n",
    "# Improved version for scientific publication\n",
    "p_dfc_erythroid_st_bcl6b <- ggplot(dfc_erythroid_st, aes(x = cluster, y = Bcl6b, group = 1)) +\n",
    "  geom_area(fill = \"#E8F4FD\", alpha = 0.3) +\n",
    "  geom_line(color = \"#1f77b4\", linewidth = 1.2) +  # Updated to linewidth\n",
    "  geom_point(color = \"#ff7f0e\", size = 3.5, stroke = 1.2, fill = \"white\", shape = 21) +\n",
    "  labs(\n",
    "   title = expression(paste(italic(\"In vitro\"), \" average \", italic(\"Bcl6b \"), \"expression: first wave\")),\n",
    "    x = \"Ordered Developmental Stage - Cell Type\",\n",
    "    y = \"Average Expression Level (normalized counts)\"\n",
    "  ) +\n",
    "  theme_classic(base_size = 14) +  # Increased base font size\n",
    "  theme(\n",
    "    # Title improvements\n",
    "    plot.title = element_text(size = 16, face = \"bold\", hjust = 0.5, \n",
    "                             color = \"black\", margin = margin(b = 20)),\n",
    "    \n",
    "    # Axis improvements\n",
    "    axis.title.x = element_text(size = 12, face = \"bold\", color = \"black\",\n",
    "                               margin = margin(t = 15)),\n",
    "    axis.title.y = element_text(size = 12, face = \"bold\", color = \"black\",\n",
    "                               margin = margin(r = 15)),\n",
    "    axis.text.x = element_text(angle = 45, hjust = 1, size = 10, color = \"black\"),\n",
    "    axis.text.y = element_text(size = 10, color = \"black\"),\n",
    "    \n",
    "    # Clean axis lines\n",
    "    axis.line = element_line(color = \"black\", linewidth = 0.6),\n",
    "    axis.ticks = element_line(color = \"black\", linewidth = 0.5),\n",
    "    axis.ticks.length = unit(0.2, \"cm\"),\n",
    "    \n",
    "    # Background\n",
    "    plot.background = element_rect(fill = \"white\", color = NA),\n",
    "    panel.background = element_rect(fill = \"white\", color = NA),\n",
    "    \n",
    "    # Margins for better spacing\n",
    "    plot.margin = margin(20, 20, 20, 20),\n",
    "    \n",
    "    # Remove minor gridlines, keep major y-gridlines subtle\n",
    "    panel.grid.major.y = element_line(color = \"grey90\", linewidth = 0.3),\n",
    "    panel.grid.major.x = element_blank(),\n",
    "    panel.grid.minor = element_blank()\n",
    "  ) +\n",
    "  # Add subtle y-axis breaks\n",
    "  scale_y_continuous(expand = expansion(mult = c(0.02, 0.05)),\n",
    "                     breaks = scales::pretty_breaks(n = 6))\n",
    "\n",
    "# Display the plot\n",
    "print(p_dfc_erythroid_st_bcl6b)\n",
    "\n",
    "# Simple version without error bars or sample size annotations\n",
    "# This is the clean version for publication without statistical elements\n",
    "#p_final <- p_dfa_emp_st_atf3 +\n",
    "#  labs(caption = NULL)  # Remove caption if not needed\n",
    "\n",
    "#print(p_final)"
   ]
  },
  {
   "cell_type": "code",
   "execution_count": null,
   "id": "6988acd2-e73c-4339-8567-658ee71d2912",
   "metadata": {
    "vscode": {
     "languageId": "r"
    }
   },
   "outputs": [],
   "source": []
  },
  {
   "cell_type": "markdown",
   "id": "64566c8c-8f64-4fe7-b2d1-518d34beb5c2",
   "metadata": {},
   "source": [
    "### combined"
   ]
  },
  {
   "cell_type": "code",
   "execution_count": null,
   "id": "99abad24",
   "metadata": {
    "vscode": {
     "languageId": "r"
    }
   },
   "outputs": [],
   "source": [
    "options(repr.plot.width = 20, repr.plot.height = 11)\n",
    "p_first_wave <- \n",
    "plot_grid(\n",
    "    p_dfa_erythroid_st_atf3,p_dfa_erythroid_st_zfp711,p_dfa_erythroid_st_bcl6b,\n",
    "    p_dfc_erythroid_st_atf3,p_dfc_erythroid_st_zfp711,p_dfc_erythroid_st_bcl6b,\n",
    "    \n",
    "ncol = 3)\n",
    "p_first_wave"
   ]
  },
  {
   "cell_type": "markdown",
   "id": "0655ae1d-3070-44e3-9d03-12733ca91af0",
   "metadata": {},
   "source": [
    "### Paralogs"
   ]
  },
  {
   "cell_type": "markdown",
   "id": "0cbafcf7-488c-4da7-8296-4b14c64af5e4",
   "metadata": {},
   "source": [
    "#### in vivo"
   ]
  },
  {
   "cell_type": "code",
   "execution_count": null,
   "id": "b9631392-662a-4db8-b0c5-7b8c5ab37fd8",
   "metadata": {
    "vscode": {
     "languageId": "r"
    }
   },
   "outputs": [],
   "source": [
    "str(dfa_erythroid_st)"
   ]
  },
  {
   "cell_type": "code",
   "execution_count": null,
   "id": "8d8c1107-d8d0-46be-917a-0ea4d02cebd8",
   "metadata": {
    "vscode": {
     "languageId": "r"
    }
   },
   "outputs": [],
   "source": [
    "Atf3_paralogs"
   ]
  },
  {
   "cell_type": "code",
   "execution_count": null,
   "id": "cc1f0add-375e-4565-a4d6-7c74492e787e",
   "metadata": {
    "vscode": {
     "languageId": "r"
    }
   },
   "outputs": [],
   "source": [
    "library(ggplot2)\n",
    "library(dplyr)\n",
    "library(tidyr)\n",
    "\n",
    "# Reorder clusters according to erythroid_ct vector\n",
    "dfa_erythroid_st$cluster <- factor(dfa_erythroid_st$cluster, levels = erythroid_ct)\n",
    "\n",
    "# Reshape data to long format for ATF3 paralogs\n",
    "dfa_long <- dfa_erythroid_st %>%\n",
    "  pivot_longer(cols = all_of(Atf3_paralogs), \n",
    "               names_to = \"gene\", \n",
    "               values_to = \"expression\")\n",
    "\n",
    "# Create multi-gene line plot\n",
    "p_dfa_erythroid_st_atf3_paralogs <- ggplot(dfa_long, aes(x = cluster, y = expression, group = gene, color = gene)) +\n",
    "  geom_line(size = 1.5, alpha = 0.8) +\n",
    "  geom_point(size = 4, stroke = 1.2, fill = \"white\", shape = 21, \n",
    "             aes(fill = gene), alpha = 0.9) +\n",
    "  labs(\n",
    "    title = \"ATF3 Paralog Expression Profiles\",\n",
    "    subtitle = \"Across developmental cell clusters\",\n",
    "    x = \"Developmental Stage\",\n",
    "    y = \"Expression Level (normalized counts)\",\n",
    "    color = \"Gene\",\n",
    "    fill = \"Gene\"\n",
    "  ) +\n",
    "  scale_color_manual(values = c(\"Atf3\" = \"#1f77b4\", \"Jdp2\" = \"#ff7f0e\", \"Batf3\" = \"#2ca02c\", \n",
    "                                 \"Batf\" = \"#d62728\", \"Fosl1\" = \"#9467bd\", \"Fosb\" = \"#8c564b\", \n",
    "                                 \"Fosl2\" = \"#e377c2\")) +\n",
    "  scale_fill_manual(values = c(\"Atf3\" = \"#1f77b4\", \"Jdp2\" = \"#ff7f0e\", \"Batf3\" = \"#2ca02c\", \n",
    "                               \"Batf\" = \"#d62728\", \"Fosl1\" = \"#9467bd\", \"Fosb\" = \"#8c564b\", \n",
    "                               \"Fosl2\" = \"#e377c2\")) +\n",
    "  theme_classic(base_size = 12) +\n",
    "  theme(\n",
    "    plot.title = element_text(size = 18, face = \"bold\", hjust = 0.5, color = \"#2c3e50\"),\n",
    "    plot.subtitle = element_text(size = 12, hjust = 0.5, color = \"gray50\"),\n",
    "    axis.text.x = element_text(angle = 30, hjust = 1, size = 11),\n",
    "    axis.title = element_text(size = 13, face = \"bold\"),\n",
    "    axis.line = element_line(color = \"#34495e\", size = 0.8),\n",
    "    plot.background = element_rect(fill = \"white\", color = NA),\n",
    "    panel.background = element_rect(fill = \"white\", color = NA),\n",
    "    legend.position = \"right\",\n",
    "    legend.title = element_text(size = 12, face = \"bold\"),\n",
    "    legend.text = element_text(size = 11),\n",
    "    legend.background = element_rect(fill = \"white\", color = \"gray80\"),\n",
    "    legend.key = element_rect(fill = \"white\")\n",
    "  ) +\n",
    "  guides(color = guide_legend(override.aes = list(size = 3)),\n",
    "         fill = guide_legend(override.aes = list(size = 3)))\n",
    "options(repr.plot.width = 8, repr.plot.height = 6)\n",
    "# Display the plot\n",
    "print(p_dfa_erythroid_st_atf3_paralogs)\n"
   ]
  },
  {
   "cell_type": "code",
   "execution_count": null,
   "id": "c4db4c94-1517-4cf1-8c61-a75b9fcf0365",
   "metadata": {
    "vscode": {
     "languageId": "r"
    }
   },
   "outputs": [],
   "source": [
    "Zfp711_paralogs"
   ]
  },
  {
   "cell_type": "code",
   "execution_count": null,
   "id": "211e5f8f-8137-4027-a5cc-212d1b4535e1",
   "metadata": {
    "vscode": {
     "languageId": "r"
    }
   },
   "outputs": [],
   "source": [
    "library(ggplot2)\n",
    "library(dplyr)\n",
    "library(tidyr)\n",
    "\n",
    "# Reorder clusters according to erythroid_ct vector\n",
    "dfa_erythroid_st$cluster <- factor(dfa_erythroid_st$cluster, levels = erythroid_ct)\n",
    "\n",
    "# Reshape data to long format for ATF3 paralogs\n",
    "dfa_long <- dfa_erythroid_st %>%\n",
    "  pivot_longer(cols = all_of(Zfp711_paralogs), \n",
    "               names_to = \"gene\", \n",
    "               values_to = \"expression\")\n",
    "\n",
    "# Create multi-gene line plot\n",
    "p_dfa_erythroid_st_Zfp711_paralogs <- ggplot(dfa_long, aes(x = cluster, y = expression, group = gene, color = gene)) +\n",
    "  geom_line(size = 1.5, alpha = 0.8) +\n",
    "  geom_point(size = 4, stroke = 1.2, fill = \"white\", shape = 21, \n",
    "             aes(fill = gene), alpha = 0.9) +\n",
    "  labs(\n",
    "    title = \"Zfp711 Paralog Expression Profiles\",\n",
    "    subtitle = \"Across developmental cell clusters\",\n",
    "    x = \"Developmental Stage\",\n",
    "    y = \"Expression Level (normalized counts)\",\n",
    "    color = \"Gene\",\n",
    "    fill = \"Gene\"\n",
    "  ) +\n",
    "  scale_color_manual(values = c(\"Zfp711\" = \"#1f77b4\", \"Zfy1\" = \"#ff7f0e\", \"Zfy2\" = \"#2ca02c\", \n",
    "                                 \"Zfx\" = \"#d62728\")) +\n",
    "  scale_fill_manual(values = c(\"Zfp711\" = \"#1f77b4\", \"Zfy1\" = \"#ff7f0e\", \"Zfy2\" = \"#2ca02c\", \n",
    "                               \"Zfx\" = \"#d62728\")) +\n",
    "  theme_classic(base_size = 12) +\n",
    "  theme(\n",
    "    plot.title = element_text(size = 18, face = \"bold\", hjust = 0.5, color = \"#2c3e50\"),\n",
    "    plot.subtitle = element_text(size = 12, hjust = 0.5, color = \"gray50\"),\n",
    "    axis.text.x = element_text(angle = 30, hjust = 1, size = 11),\n",
    "    axis.title = element_text(size = 13, face = \"bold\"),\n",
    "    axis.line = element_line(color = \"#34495e\", size = 0.8),\n",
    "    plot.background = element_rect(fill = \"white\", color = NA),\n",
    "    panel.background = element_rect(fill = \"white\", color = NA),\n",
    "    legend.position = \"right\",\n",
    "    legend.title = element_text(size = 12, face = \"bold\"),\n",
    "    legend.text = element_text(size = 11),\n",
    "    legend.background = element_rect(fill = \"white\", color = \"gray80\"),\n",
    "    legend.key = element_rect(fill = \"white\")\n",
    "  ) +\n",
    "  guides(color = guide_legend(override.aes = list(size = 3)),\n",
    "         fill = guide_legend(override.aes = list(size = 3)))\n",
    "\n",
    "# Display the plot\n",
    "print(p_dfa_erythroid_st_Zfp711_paralogs)\n"
   ]
  },
  {
   "cell_type": "code",
   "execution_count": null,
   "id": "57fa325d-5dc7-487e-b843-5e92f6c3e38c",
   "metadata": {
    "vscode": {
     "languageId": "r"
    }
   },
   "outputs": [],
   "source": [
    "Bcl6b_paralogs"
   ]
  },
  {
   "cell_type": "code",
   "execution_count": null,
   "id": "3dab7da2-578c-4a50-b0cb-e125e2e61065",
   "metadata": {
    "vscode": {
     "languageId": "r"
    }
   },
   "outputs": [],
   "source": [
    "library(ggplot2)\n",
    "library(dplyr)\n",
    "library(tidyr)\n",
    "\n",
    "# Reorder clusters according to erythroid_ct vector\n",
    "dfa_erythroid_st$cluster <- factor(dfa_erythroid_st$cluster, levels = erythroid_ct)\n",
    "\n",
    "# Reshape data to long format for ATF3 paralogs\n",
    "dfa_long <- dfa_erythroid_st %>%\n",
    "  pivot_longer(cols = all_of(Bcl6b_paralogs), \n",
    "               names_to = \"gene\", \n",
    "               values_to = \"expression\")\n",
    "\n",
    "# Create multi-gene line plot\n",
    "p_dfa_erythroid_st_Bcl6b_paralogs <- ggplot(dfa_long, aes(x = cluster, y = expression, group = gene, color = gene)) +\n",
    "  geom_line(size = 1.5, alpha = 0.8) +\n",
    "  geom_point(size = 4, stroke = 1.2, fill = \"white\", shape = 21, \n",
    "             aes(fill = gene), alpha = 0.9) +\n",
    "  labs(\n",
    "    title = \"Bcl6b Paralog Expression Profiles\",\n",
    "    subtitle = \"Across developmental cell clusters\",\n",
    "    x = \"Developmental Stage\",\n",
    "    y = \"Expression Level (normalized counts)\",\n",
    "    color = \"Gene\",\n",
    "    fill = \"Gene\"\n",
    "  ) +\n",
    "  scale_color_manual(values = c(\"Bcl6b\" = \"#1f77b4\", \"Bcl6\" = \"#ff7f0e\")) +\n",
    "  scale_fill_manual(values = c(\"Bcl6b\" = \"#1f77b4\", \"Bcl6\" = \"#ff7f0e\")) +\n",
    "  theme_classic(base_size = 12) +\n",
    "  theme(\n",
    "    plot.title = element_text(size = 18, face = \"bold\", hjust = 0.5, color = \"#2c3e50\"),\n",
    "    plot.subtitle = element_text(size = 12, hjust = 0.5, color = \"gray50\"),\n",
    "    axis.text.x = element_text(angle = 30, hjust = 1, size = 11),\n",
    "    axis.title = element_text(size = 13, face = \"bold\"),\n",
    "    axis.line = element_line(color = \"#34495e\", size = 0.8),\n",
    "    plot.background = element_rect(fill = \"white\", color = NA),\n",
    "    panel.background = element_rect(fill = \"white\", color = NA),\n",
    "    legend.position = \"right\",\n",
    "    legend.title = element_text(size = 12, face = \"bold\"),\n",
    "    legend.text = element_text(size = 11),\n",
    "    legend.background = element_rect(fill = \"white\", color = \"gray80\"),\n",
    "    legend.key = element_rect(fill = \"white\")\n",
    "  ) +\n",
    "  guides(color = guide_legend(override.aes = list(size = 3)),\n",
    "         fill = guide_legend(override.aes = list(size = 3)))\n",
    "\n",
    "# Display the plot\n",
    "print(p_dfa_erythroid_st_Bcl6b_paralogs)\n"
   ]
  },
  {
   "cell_type": "code",
   "execution_count": null,
   "id": "c7515ecf-cec2-4d73-9127-c51a42330ce3",
   "metadata": {
    "vscode": {
     "languageId": "r"
    }
   },
   "outputs": [],
   "source": []
  },
  {
   "cell_type": "markdown",
   "id": "f8563c08-a5fa-4ed7-b858-b7d74f8186f4",
   "metadata": {},
   "source": [
    "#### in vitro simplified"
   ]
  },
  {
   "cell_type": "code",
   "execution_count": null,
   "id": "233a362d-cab5-4c66-a4c3-e589130344ee",
   "metadata": {
    "vscode": {
     "languageId": "r"
    }
   },
   "outputs": [],
   "source": [
    "str(dfcx_erythroid_st)"
   ]
  },
  {
   "cell_type": "code",
   "execution_count": null,
   "id": "46f4eda1-5e4f-427a-a319-287bb67ad71f",
   "metadata": {
    "vscode": {
     "languageId": "r"
    }
   },
   "outputs": [],
   "source": [
    "Atf3_paralogs"
   ]
  },
  {
   "cell_type": "code",
   "execution_count": null,
   "id": "e78b5e4c-e838-40fa-aa9d-c40b80afe9d9",
   "metadata": {
    "vscode": {
     "languageId": "r"
    }
   },
   "outputs": [],
   "source": [
    "library(ggplot2)\n",
    "library(dplyr)\n",
    "library(tidyr)\n",
    "\n",
    "# Reorder clusters according to erythroid_ct vector\n",
    "dfcx_erythroid_st$cluster <- factor(dfcx_erythroid_st$cluster, levels = erythroid_ctx)\n",
    "\n",
    "# Reshape data to long format for ATF3 paralogs\n",
    "dfa_long <- dfcx_erythroid_st %>%\n",
    "  pivot_longer(cols = all_of(Atf3_paralogs), \n",
    "               names_to = \"gene\", \n",
    "               values_to = \"expression\")\n",
    "\n",
    "# Create multi-gene line plot\n",
    "p_dfcx_erythroid_st_atf3_paralogs <- ggplot(dfa_long, aes(x = cluster, y = expression, group = gene, color = gene)) +\n",
    "  geom_line(size = 1.5, alpha = 0.8) +\n",
    "  geom_point(size = 4, stroke = 1.2, fill = \"white\", shape = 21, \n",
    "             aes(fill = gene), alpha = 0.9) +\n",
    "  labs(\n",
    "    title = \"ATF3 Paralog Expression Profiles\",\n",
    "    subtitle = \"Across developmental cell clusters\",\n",
    "    x = \"Developmental Stage\",\n",
    "    y = \"Expression Level (normalized counts)\",\n",
    "    color = \"Gene\",\n",
    "    fill = \"Gene\"\n",
    "  ) +\n",
    "  scale_color_manual(values = c(\"Atf3\" = \"#1f77b4\", \"Jdp2\" = \"#ff7f0e\", \"Batf3\" = \"#2ca02c\", \n",
    "                                 \"Batf\" = \"#d62728\", \"Fosl1\" = \"#9467bd\", \"Fosb\" = \"#8c564b\", \n",
    "                                 \"Fosl2\" = \"#e377c2\")) +\n",
    "  scale_fill_manual(values = c(\"Atf3\" = \"#1f77b4\", \"Jdp2\" = \"#ff7f0e\", \"Batf3\" = \"#2ca02c\", \n",
    "                               \"Batf\" = \"#d62728\", \"Fosl1\" = \"#9467bd\", \"Fosb\" = \"#8c564b\", \n",
    "                               \"Fosl2\" = \"#e377c2\")) +\n",
    "  theme_classic(base_size = 12) +\n",
    "  theme(\n",
    "    plot.title = element_text(size = 18, face = \"bold\", hjust = 0.5, color = \"#2c3e50\"),\n",
    "    plot.subtitle = element_text(size = 12, hjust = 0.5, color = \"gray50\"),\n",
    "    axis.text.x = element_text(angle = 30, hjust = 1, size = 11),\n",
    "    axis.title = element_text(size = 13, face = \"bold\"),\n",
    "    axis.line = element_line(color = \"#34495e\", size = 0.8),\n",
    "    plot.background = element_rect(fill = \"white\", color = NA),\n",
    "    panel.background = element_rect(fill = \"white\", color = NA),\n",
    "    legend.position = \"right\",\n",
    "    legend.title = element_text(size = 12, face = \"bold\"),\n",
    "    legend.text = element_text(size = 11),\n",
    "    legend.background = element_rect(fill = \"white\", color = \"gray80\"),\n",
    "    legend.key = element_rect(fill = \"white\")\n",
    "  ) +\n",
    "  guides(color = guide_legend(override.aes = list(size = 3)),\n",
    "         fill = guide_legend(override.aes = list(size = 3)))\n",
    "\n",
    "# Display the plot\n",
    "print(p_dfcx_erythroid_st_atf3_paralogs)\n"
   ]
  },
  {
   "cell_type": "code",
   "execution_count": null,
   "id": "dbea8dfb-0937-47b4-bce8-590a98206485",
   "metadata": {
    "vscode": {
     "languageId": "r"
    }
   },
   "outputs": [],
   "source": [
    "Zfp711_paralogs"
   ]
  },
  {
   "cell_type": "code",
   "execution_count": null,
   "id": "969ff50a-44ba-42d1-9615-91772dfa5a69",
   "metadata": {
    "vscode": {
     "languageId": "r"
    }
   },
   "outputs": [],
   "source": [
    "library(ggplot2)\n",
    "library(dplyr)\n",
    "library(tidyr)\n",
    "\n",
    "# Reorder clusters according to erythroid_ct vector\n",
    "dfcx_erythroid_st$cluster <- factor(dfcx_erythroid_st$cluster, levels = erythroid_ctx)\n",
    "\n",
    "# Reshape data to long format for ATF3 paralogs\n",
    "dfa_long <- dfcx_erythroid_st %>%\n",
    "  pivot_longer(cols = all_of(Zfp711_paralogs), \n",
    "               names_to = \"gene\", \n",
    "               values_to = \"expression\")\n",
    "\n",
    "# Create multi-gene line plot\n",
    "p_dfcx_erythroid_st_Zfp711_paralogs <- ggplot(dfa_long, aes(x = cluster, y = expression, group = gene, color = gene)) +\n",
    "  geom_line(size = 1.5, alpha = 0.8) +\n",
    "  geom_point(size = 4, stroke = 1.2, fill = \"white\", shape = 21, \n",
    "             aes(fill = gene), alpha = 0.9) +\n",
    "  labs(\n",
    "    title = \"Zfp711 Paralog Expression Profiles\",\n",
    "    subtitle = \"Across developmental cell clusters\",\n",
    "    x = \"Developmental Stage\",\n",
    "    y = \"Expression Level (normalized counts)\",\n",
    "    color = \"Gene\",\n",
    "    fill = \"Gene\"\n",
    "  ) +\n",
    "  scale_color_manual(values = c(\"Zfp711\" = \"#1f77b4\", \"Zfy1\" = \"#ff7f0e\", \"Zfy2\" = \"#2ca02c\", \n",
    "                                 \"Zfx\" = \"#d62728\")) +\n",
    "  scale_fill_manual(values = c(\"Zfp711\" = \"#1f77b4\", \"Zfy1\" = \"#ff7f0e\", \"Zfy2\" = \"#2ca02c\", \n",
    "                               \"Zfx\" = \"#d62728\")) +\n",
    "  theme_classic(base_size = 12) +\n",
    "  theme(\n",
    "    plot.title = element_text(size = 18, face = \"bold\", hjust = 0.5, color = \"#2c3e50\"),\n",
    "    plot.subtitle = element_text(size = 12, hjust = 0.5, color = \"gray50\"),\n",
    "    axis.text.x = element_text(angle = 30, hjust = 1, size = 11),\n",
    "    axis.title = element_text(size = 13, face = \"bold\"),\n",
    "    axis.line = element_line(color = \"#34495e\", size = 0.8),\n",
    "    plot.background = element_rect(fill = \"white\", color = NA),\n",
    "    panel.background = element_rect(fill = \"white\", color = NA),\n",
    "    legend.position = \"right\",\n",
    "    legend.title = element_text(size = 12, face = \"bold\"),\n",
    "    legend.text = element_text(size = 11),\n",
    "    legend.background = element_rect(fill = \"white\", color = \"gray80\"),\n",
    "    legend.key = element_rect(fill = \"white\")\n",
    "  ) +\n",
    "  guides(color = guide_legend(override.aes = list(size = 3)),\n",
    "         fill = guide_legend(override.aes = list(size = 3)))\n",
    "\n",
    "# Display the plot\n",
    "print(p_dfcx_erythroid_st_Zfp711_paralogs)\n"
   ]
  },
  {
   "cell_type": "code",
   "execution_count": null,
   "id": "74728a54-f855-4eb0-8612-ae904fd5e1f9",
   "metadata": {
    "vscode": {
     "languageId": "r"
    }
   },
   "outputs": [],
   "source": [
    "Bcl6b_paralogs"
   ]
  },
  {
   "cell_type": "code",
   "execution_count": null,
   "id": "1d928dd7-bdaa-407e-9c73-d3241474c154",
   "metadata": {
    "vscode": {
     "languageId": "r"
    }
   },
   "outputs": [],
   "source": [
    "library(ggplot2)\n",
    "library(dplyr)\n",
    "library(tidyr)\n",
    "\n",
    "# Reorder clusters according to erythroid_ct vector\n",
    "dfcx_erythroid_st$cluster <- factor(dfcx_erythroid_st$cluster, levels = erythroid_ctx)\n",
    "\n",
    "# Reshape data to long format for ATF3 paralogs\n",
    "dfa_long <- dfcx_erythroid_st %>%\n",
    "  pivot_longer(cols = all_of(Bcl6b_paralogs), \n",
    "               names_to = \"gene\", \n",
    "               values_to = \"expression\")\n",
    "\n",
    "# Create multi-gene line plot\n",
    "p_dfcx_erythroid_st_Bcl6b_paralogs <- ggplot(dfa_long, aes(x = cluster, y = expression, group = gene, color = gene)) +\n",
    "  geom_line(size = 1.5, alpha = 0.8) +\n",
    "  geom_point(size = 4, stroke = 1.2, fill = \"white\", shape = 21, \n",
    "             aes(fill = gene), alpha = 0.9) +\n",
    "  labs(\n",
    "    title = \"Bcl6b Paralog Expression Profiles\",\n",
    "    subtitle = \"Across developmental cell clusters\",\n",
    "    x = \"Developmental Stage\",\n",
    "    y = \"Expression Level (normalized counts)\",\n",
    "    color = \"Gene\",\n",
    "    fill = \"Gene\"\n",
    "  ) +\n",
    "  scale_color_manual(values = c(\"Bcl6b\" = \"#1f77b4\", \"Bcl6\" = \"#ff7f0e\")) +\n",
    "  scale_fill_manual(values = c(\"Bcl6b\" = \"#1f77b4\", \"Bcl6\" = \"#ff7f0e\")) +\n",
    "  theme_classic(base_size = 12) +\n",
    "  theme(\n",
    "    plot.title = element_text(size = 18, face = \"bold\", hjust = 0.5, color = \"#2c3e50\"),\n",
    "    plot.subtitle = element_text(size = 12, hjust = 0.5, color = \"gray50\"),\n",
    "    axis.text.x = element_text(angle = 30, hjust = 1, size = 11),\n",
    "    axis.title = element_text(size = 13, face = \"bold\"),\n",
    "    axis.line = element_line(color = \"#34495e\", size = 0.8),\n",
    "    plot.background = element_rect(fill = \"white\", color = NA),\n",
    "    panel.background = element_rect(fill = \"white\", color = NA),\n",
    "    legend.position = \"right\",\n",
    "    legend.title = element_text(size = 12, face = \"bold\"),\n",
    "    legend.text = element_text(size = 11),\n",
    "    legend.background = element_rect(fill = \"white\", color = \"gray80\"),\n",
    "    legend.key = element_rect(fill = \"white\")\n",
    "  ) +\n",
    "  guides(color = guide_legend(override.aes = list(size = 3)),\n",
    "         fill = guide_legend(override.aes = list(size = 3)))\n",
    "\n",
    "# Display the plot\n",
    "print(p_dfcx_erythroid_st_Bcl6b_paralogs)\n"
   ]
  },
  {
   "cell_type": "code",
   "execution_count": null,
   "id": "81d60d47-f1c7-48c6-a965-065cf5aedff8",
   "metadata": {
    "vscode": {
     "languageId": "r"
    }
   },
   "outputs": [],
   "source": []
  },
  {
   "cell_type": "markdown",
   "id": "06a2a17a-1bd2-483a-b8f7-5e35cdee53b7",
   "metadata": {},
   "source": [
    "#### in vitro detailed"
   ]
  },
  {
   "cell_type": "code",
   "execution_count": null,
   "id": "1ead0581-646a-49c6-a1c3-9d4665de5d88",
   "metadata": {
    "vscode": {
     "languageId": "r"
    }
   },
   "outputs": [],
   "source": [
    "str(dfc_erythroid_st)"
   ]
  },
  {
   "cell_type": "code",
   "execution_count": null,
   "id": "0170759f-0be4-401c-a30f-c36466f56c0f",
   "metadata": {
    "vscode": {
     "languageId": "r"
    }
   },
   "outputs": [],
   "source": [
    "Atf3_paralogs"
   ]
  },
  {
   "cell_type": "code",
   "execution_count": null,
   "id": "e4421c19-309a-4a41-a7fa-c0ce7a98b3f7",
   "metadata": {
    "vscode": {
     "languageId": "r"
    }
   },
   "outputs": [],
   "source": [
    "library(ggplot2)\n",
    "library(dplyr)\n",
    "library(tidyr)\n",
    "\n",
    "# Reorder clusters according to erythroid_ct vector\n",
    "dfc_erythroid_st$cluster <- factor(dfc_erythroid_st$cluster, levels = erythroid_cts)\n",
    "\n",
    "# Reshape data to long format for ATF3 paralogs\n",
    "dfa_long <- dfc_erythroid_st %>%\n",
    "  pivot_longer(cols = all_of(Atf3_paralogs), \n",
    "               names_to = \"gene\", \n",
    "               values_to = \"expression\")\n",
    "\n",
    "# Create multi-gene line plot\n",
    "p_dfc_erythroid_st_atf3_paralogs <- ggplot(dfa_long, aes(x = cluster, y = expression, group = gene, color = gene)) +\n",
    "  geom_line(size = 1.5, alpha = 0.8) +\n",
    "  geom_point(size = 4, stroke = 1.2, fill = \"white\", shape = 21, \n",
    "             aes(fill = gene), alpha = 0.9) +\n",
    "  labs(\n",
    "    title = \"ATF3 Paralog Expression Profiles\",\n",
    "    subtitle = \"Across developmental cell clusters\",\n",
    "    x = \"Developmental Stage\",\n",
    "    y = \"Expression Level (normalized counts)\",\n",
    "    color = \"Gene\",\n",
    "    fill = \"Gene\"\n",
    "  ) +\n",
    "  scale_color_manual(values = c(\"Atf3\" = \"#1f77b4\", \"Jdp2\" = \"#ff7f0e\", \"Batf3\" = \"#2ca02c\", \n",
    "                                 \"Batf\" = \"#d62728\", \"Fosl1\" = \"#9467bd\", \"Fosb\" = \"#8c564b\", \n",
    "                                 \"Fosl2\" = \"#e377c2\")) +\n",
    "  scale_fill_manual(values = c(\"Atf3\" = \"#1f77b4\", \"Jdp2\" = \"#ff7f0e\", \"Batf3\" = \"#2ca02c\", \n",
    "                               \"Batf\" = \"#d62728\", \"Fosl1\" = \"#9467bd\", \"Fosb\" = \"#8c564b\", \n",
    "                               \"Fosl2\" = \"#e377c2\")) +\n",
    "  theme_classic(base_size = 12) +\n",
    "  theme(\n",
    "    plot.title = element_text(size = 18, face = \"bold\", hjust = 0.5, color = \"#2c3e50\"),\n",
    "    plot.subtitle = element_text(size = 12, hjust = 0.5, color = \"gray50\"),\n",
    "    axis.text.x = element_text(angle = 30, hjust = 1, size = 11),\n",
    "    axis.title = element_text(size = 13, face = \"bold\"),\n",
    "    axis.line = element_line(color = \"#34495e\", size = 0.8),\n",
    "    plot.background = element_rect(fill = \"white\", color = NA),\n",
    "    panel.background = element_rect(fill = \"white\", color = NA),\n",
    "    legend.position = \"right\",\n",
    "    legend.title = element_text(size = 12, face = \"bold\"),\n",
    "    legend.text = element_text(size = 11),\n",
    "    legend.background = element_rect(fill = \"white\", color = \"gray80\"),\n",
    "    legend.key = element_rect(fill = \"white\")\n",
    "  ) +\n",
    "  guides(color = guide_legend(override.aes = list(size = 3)),\n",
    "         fill = guide_legend(override.aes = list(size = 3)))\n",
    "\n",
    "# Display the plot\n",
    "print(p_dfc_erythroid_st_atf3_paralogs)\n"
   ]
  },
  {
   "cell_type": "code",
   "execution_count": null,
   "id": "753068cb-06b9-4c48-8299-aa735292642c",
   "metadata": {
    "vscode": {
     "languageId": "r"
    }
   },
   "outputs": [],
   "source": [
    "Zfp711_paralogs"
   ]
  },
  {
   "cell_type": "code",
   "execution_count": null,
   "id": "c36869f5-dff4-4e96-9c4e-b494c2ea6826",
   "metadata": {
    "vscode": {
     "languageId": "r"
    }
   },
   "outputs": [],
   "source": [
    "library(ggplot2)\n",
    "library(dplyr)\n",
    "library(tidyr)\n",
    "\n",
    "# Reorder clusters according to erythroid_ct vector\n",
    "dfc_erythroid_st$cluster <- factor(dfc_erythroid_st$cluster, levels = erythroid_cts)\n",
    "\n",
    "# Reshape data to long format for ATF3 paralogs\n",
    "dfa_long <- dfc_erythroid_st %>%\n",
    "  pivot_longer(cols = all_of(Zfp711_paralogs), \n",
    "               names_to = \"gene\", \n",
    "               values_to = \"expression\")\n",
    "\n",
    "# Create multi-gene line plot\n",
    "p_dfc_erythroid_st_Zfp711_paralogs <- ggplot(dfa_long, aes(x = cluster, y = expression, group = gene, color = gene)) +\n",
    "  geom_line(size = 1.5, alpha = 0.8) +\n",
    "  geom_point(size = 4, stroke = 1.2, fill = \"white\", shape = 21, \n",
    "             aes(fill = gene), alpha = 0.9) +\n",
    "  labs(\n",
    "    title = \"Zfp711 Paralog Expression Profiles\",\n",
    "    subtitle = \"Across developmental cell clusters\",\n",
    "    x = \"Developmental Stage\",\n",
    "    y = \"Expression Level (normalized counts)\",\n",
    "    color = \"Gene\",\n",
    "    fill = \"Gene\"\n",
    "  ) +\n",
    "  scale_color_manual(values = c(\"Zfp711\" = \"#1f77b4\", \"Zfy1\" = \"#ff7f0e\", \"Zfy2\" = \"#2ca02c\", \n",
    "                                 \"Zfx\" = \"#d62728\")) +\n",
    "  scale_fill_manual(values = c(\"Zfp711\" = \"#1f77b4\", \"Zfy1\" = \"#ff7f0e\", \"Zfy2\" = \"#2ca02c\", \n",
    "                               \"Zfx\" = \"#d62728\")) +\n",
    "  theme_classic(base_size = 12) +\n",
    "  theme(\n",
    "    plot.title = element_text(size = 18, face = \"bold\", hjust = 0.5, color = \"#2c3e50\"),\n",
    "    plot.subtitle = element_text(size = 12, hjust = 0.5, color = \"gray50\"),\n",
    "    axis.text.x = element_text(angle = 30, hjust = 1, size = 11),\n",
    "    axis.title = element_text(size = 13, face = \"bold\"),\n",
    "    axis.line = element_line(color = \"#34495e\", size = 0.8),\n",
    "    plot.background = element_rect(fill = \"white\", color = NA),\n",
    "    panel.background = element_rect(fill = \"white\", color = NA),\n",
    "    legend.position = \"right\",\n",
    "    legend.title = element_text(size = 12, face = \"bold\"),\n",
    "    legend.text = element_text(size = 11),\n",
    "    legend.background = element_rect(fill = \"white\", color = \"gray80\"),\n",
    "    legend.key = element_rect(fill = \"white\")\n",
    "  ) +\n",
    "  guides(color = guide_legend(override.aes = list(size = 3)),\n",
    "         fill = guide_legend(override.aes = list(size = 3)))\n",
    "\n",
    "# Display the plot\n",
    "print(p_dfc_erythroid_st_Zfp711_paralogs)\n"
   ]
  },
  {
   "cell_type": "code",
   "execution_count": null,
   "id": "dffff8ba-7029-487b-93a8-c3bc120fc617",
   "metadata": {
    "vscode": {
     "languageId": "r"
    }
   },
   "outputs": [],
   "source": [
    "Bcl6b_paralogs"
   ]
  },
  {
   "cell_type": "code",
   "execution_count": null,
   "id": "4a83c940-19c7-4bbc-9e63-dd93ed632b07",
   "metadata": {
    "vscode": {
     "languageId": "r"
    }
   },
   "outputs": [],
   "source": [
    "library(ggplot2)\n",
    "library(dplyr)\n",
    "library(tidyr)\n",
    "\n",
    "# Reorder clusters according to erythroid_ct vector\n",
    "dfc_erythroid_st$cluster <- factor(dfc_erythroid_st$cluster, levels = erythroid_cts)\n",
    "\n",
    "# Reshape data to long format for ATF3 paralogs\n",
    "dfa_long <- dfc_erythroid_st %>%\n",
    "  pivot_longer(cols = all_of(Bcl6b_paralogs), \n",
    "               names_to = \"gene\", \n",
    "               values_to = \"expression\")\n",
    "\n",
    "# Create multi-gene line plot\n",
    "p_dfc_erythroid_st_Bcl6b_paralogs <- ggplot(dfa_long, aes(x = cluster, y = expression, group = gene, color = gene)) +\n",
    "  geom_line(size = 1.5, alpha = 0.8) +\n",
    "  geom_point(size = 4, stroke = 1.2, fill = \"white\", shape = 21, \n",
    "             aes(fill = gene), alpha = 0.9) +\n",
    "  labs(\n",
    "    title = \"Bcl6b Paralog Expression Profiles\",\n",
    "    subtitle = \"Across developmental cell clusters\",\n",
    "    x = \"Developmental Stage\",\n",
    "    y = \"Expression Level (normalized counts)\",\n",
    "    color = \"Gene\",\n",
    "    fill = \"Gene\"\n",
    "  ) +\n",
    "  scale_color_manual(values = c(\"Bcl6b\" = \"#1f77b4\", \"Bcl6\" = \"#ff7f0e\")) +\n",
    "  scale_fill_manual(values = c(\"Bcl6b\" = \"#1f77b4\", \"Bcl6\" = \"#ff7f0e\")) +\n",
    "  theme_classic(base_size = 12) +\n",
    "  theme(\n",
    "    plot.title = element_text(size = 18, face = \"bold\", hjust = 0.5, color = \"#2c3e50\"),\n",
    "    plot.subtitle = element_text(size = 12, hjust = 0.5, color = \"gray50\"),\n",
    "    axis.text.x = element_text(angle = 30, hjust = 1, size = 11),\n",
    "    axis.title = element_text(size = 13, face = \"bold\"),\n",
    "    axis.line = element_line(color = \"#34495e\", size = 0.8),\n",
    "    plot.background = element_rect(fill = \"white\", color = NA),\n",
    "    panel.background = element_rect(fill = \"white\", color = NA),\n",
    "    legend.position = \"right\",\n",
    "    legend.title = element_text(size = 12, face = \"bold\"),\n",
    "    legend.text = element_text(size = 11),\n",
    "    legend.background = element_rect(fill = \"white\", color = \"gray80\"),\n",
    "    legend.key = element_rect(fill = \"white\")\n",
    "  ) +\n",
    "  guides(color = guide_legend(override.aes = list(size = 3)),\n",
    "         fill = guide_legend(override.aes = list(size = 3)))\n",
    "\n",
    "# Display the plot\n",
    "print(p_dfc_erythroid_st_Bcl6b_paralogs)\n"
   ]
  },
  {
   "cell_type": "code",
   "execution_count": null,
   "id": "2905758c-f563-4471-a281-bf2bab9e00f6",
   "metadata": {
    "vscode": {
     "languageId": "r"
    }
   },
   "outputs": [],
   "source": []
  },
  {
   "cell_type": "markdown",
   "id": "d2436c8d-9608-4370-871c-34cf3aaa8ace",
   "metadata": {},
   "source": [
    "### combined"
   ]
  },
  {
   "cell_type": "code",
   "execution_count": null,
   "id": "b176657f",
   "metadata": {
    "vscode": {
     "languageId": "r"
    }
   },
   "outputs": [],
   "source": [
    "options(repr.plot.width = 20, repr.plot.height = 14)\n",
    "plot_grid(\n",
    "    p_dfa_erythroid_st_atf3_paralogs,p_dfa_erythroid_st_Zfp711_paralogs,p_dfa_erythroid_st_Bcl6b_paralogs,\n",
    "    p_dfcx_erythroid_st_atf3_paralogs,p_dfcx_erythroid_st_Zfp711_paralogs,p_dfcx_erythroid_st_Bcl6b_paralogs,\n",
    "    p_dfc_erythroid_st_atf3_paralogs,p_dfc_erythroid_st_Zfp711_paralogs,p_dfc_erythroid_st_Bcl6b_paralogs,\n",
    "    \n",
    "ncol = 3)"
   ]
  },
  {
   "cell_type": "code",
   "execution_count": null,
   "id": "6e02f8ee-694c-4cb3-9df6-3693d67af5b6",
   "metadata": {
    "vscode": {
     "languageId": "r"
    }
   },
   "outputs": [],
   "source": []
  },
  {
   "cell_type": "code",
   "execution_count": null,
   "id": "9e358abc-f19e-4f7a-96ae-294a96a138b8",
   "metadata": {
    "vscode": {
     "languageId": "r"
    }
   },
   "outputs": [],
   "source": []
  },
  {
   "cell_type": "code",
   "execution_count": null,
   "id": "a17a696b-4ec2-41a9-972e-e5c4a4dd48ba",
   "metadata": {
    "vscode": {
     "languageId": "r"
    }
   },
   "outputs": [],
   "source": []
  },
  {
   "cell_type": "markdown",
   "id": "dfdc96d0-f5be-43bd-ba6d-d81e001e0146",
   "metadata": {},
   "source": [
    "## Late Mesoderm"
   ]
  },
  {
   "cell_type": "markdown",
   "id": "dc6a9e93-ed49-40d0-a179-6acfe185dd95",
   "metadata": {},
   "source": [
    "### in vivo"
   ]
  },
  {
   "cell_type": "code",
   "execution_count": null,
   "id": "2d7b1dc8-fdf8-41ff-a218-8f4bf3f17b67",
   "metadata": {
    "vscode": {
     "languageId": "r"
    }
   },
   "outputs": [],
   "source": [
    "unique(atlas$celltype_extended_atlas)"
   ]
  },
  {
   "cell_type": "code",
   "execution_count": null,
   "id": "827c8a36-72c0-40a0-9e92-fe768ebbd780",
   "metadata": {
    "vscode": {
     "languageId": "r"
    }
   },
   "outputs": [],
   "source": [
    "latemesoderm_ct <- c('Epiblast', 'Primitive Streak',  'Nascent mesoderm',  'Lateral plate mesoderm', 'Limb mesoderm',\n",
    "                     'Mesenchyme','Allantois','Epicardium','YS mesothelium'\n",
    "                    )"
   ]
  },
  {
   "cell_type": "code",
   "execution_count": null,
   "id": "1ba07dcd-6143-411b-a55b-d8880cce3b1b",
   "metadata": {
    "vscode": {
     "languageId": "r"
    }
   },
   "outputs": [],
   "source": [
    "head(dfa)"
   ]
  },
  {
   "cell_type": "code",
   "execution_count": null,
   "id": "b14dac2e-82af-4b51-992c-e52332facb98",
   "metadata": {
    "vscode": {
     "languageId": "r"
    }
   },
   "outputs": [],
   "source": [
    "dfa_latemesoderm <- dfa[,colnames(dfa) %in% latemesoderm_ct]\n",
    "dim(dfa_latemesoderm)"
   ]
  },
  {
   "cell_type": "code",
   "execution_count": null,
   "id": "5c0c5c90-53c0-4220-bd98-06c4399bc85c",
   "metadata": {
    "vscode": {
     "languageId": "r"
    }
   },
   "outputs": [],
   "source": [
    "head(dfa_latemesoderm)"
   ]
  },
  {
   "cell_type": "code",
   "execution_count": null,
   "id": "f1130ced-2874-4bc2-9526-d9b97e8b1a51",
   "metadata": {
    "vscode": {
     "languageId": "r"
    }
   },
   "outputs": [],
   "source": [
    "dfa_latemesoderm <- dfa[, latemesoderm_ct]"
   ]
  },
  {
   "cell_type": "code",
   "execution_count": null,
   "id": "82da20e1-180f-41ca-b1b0-b0869901f040",
   "metadata": {
    "vscode": {
     "languageId": "r"
    }
   },
   "outputs": [],
   "source": [
    "head(dfa_latemesoderm)"
   ]
  },
  {
   "cell_type": "code",
   "execution_count": null,
   "id": "418d90c2-f5ed-492b-852a-9d68dab14299",
   "metadata": {
    "vscode": {
     "languageId": "r"
    }
   },
   "outputs": [],
   "source": [
    "dfa_latemesoderm_s <- dfa_latemesoderm[KOs_and_paralogs,]\n",
    "head(dfa_latemesoderm_s)"
   ]
  },
  {
   "cell_type": "code",
   "execution_count": null,
   "id": "8642cfca-b2b9-46bd-b24d-b77a9e97dbac",
   "metadata": {
    "vscode": {
     "languageId": "r"
    }
   },
   "outputs": [],
   "source": [
    "dfa_latemesoderm_st <- t(dfa_latemesoderm_s)"
   ]
  },
  {
   "cell_type": "code",
   "execution_count": null,
   "id": "d47e42ea-e580-44c5-8615-12150d1795c9",
   "metadata": {
    "vscode": {
     "languageId": "r"
    }
   },
   "outputs": [],
   "source": [
    "dfa_latemesoderm_st <- as.data.frame(dfa_latemesoderm_st)"
   ]
  },
  {
   "cell_type": "code",
   "execution_count": null,
   "id": "03dbcc39-b97f-4a1a-a1a4-c5dbb3e17d91",
   "metadata": {
    "vscode": {
     "languageId": "r"
    }
   },
   "outputs": [],
   "source": [
    "head(dfa_latemesoderm_st)"
   ]
  },
  {
   "cell_type": "code",
   "execution_count": null,
   "id": "1376c429-672d-4c0e-8000-236e231d11dc",
   "metadata": {
    "vscode": {
     "languageId": "r"
    }
   },
   "outputs": [],
   "source": [
    "dfa_latemesoderm_st$cluster <- rownames(dfa_latemesoderm_st)"
   ]
  },
  {
   "cell_type": "code",
   "execution_count": null,
   "id": "78b0e780-e70d-4fb9-b5f1-9c907f5ca691",
   "metadata": {
    "vscode": {
     "languageId": "r"
    }
   },
   "outputs": [],
   "source": [
    "head(dfa_latemesoderm_st)"
   ]
  },
  {
   "cell_type": "code",
   "execution_count": null,
   "id": "8b854f9e-9905-4ba5-ac02-668da8a6659d",
   "metadata": {
    "vscode": {
     "languageId": "r"
    }
   },
   "outputs": [],
   "source": [
    "str(dfa_latemesoderm_st)"
   ]
  },
  {
   "cell_type": "code",
   "execution_count": null,
   "id": "5a112bbc-b4f8-4c5f-ac31-d01d901dc840",
   "metadata": {
    "vscode": {
     "languageId": "r"
    }
   },
   "outputs": [],
   "source": [
    "library(ggplot2)\n",
    "library(dplyr)\n",
    "options(repr.plot.width = 10, repr.plot.height = 6)\n",
    "\n",
    "# Reorder clusters according to emp_ct vector\n",
    "dfa_latemesoderm_st$cluster <- factor(dfa_latemesoderm_st$cluster, levels = latemesoderm_ct)\n",
    "\n",
    "# Improved version for scientific publication\n",
    "p_dfa_latemesoderm_st_atf3 <- ggplot(dfa_latemesoderm_st, aes(x = cluster, y = Atf3, group = 1)) +\n",
    "  geom_area(fill = \"#E8F4FD\", alpha = 0.3) +\n",
    "  geom_line(color = \"#1f77b4\", linewidth = 1.2) +  # Updated to linewidth\n",
    "  geom_point(color = \"#ff7f0e\", size = 3.5, stroke = 1.2, fill = \"white\", shape = 21) +\n",
    "  labs(\n",
    "   title = expression(paste(italic(\"In vivo\"), \" average \", italic(\"Atf3 \"), \"expression: late mesoderm\")),\n",
    "    x = \"Ordered Developmental Stage - Cell Type\",\n",
    "    y = \"Average Expression Level (normalized counts)\"\n",
    "  ) +\n",
    "  theme_classic(base_size = 14) +  # Increased base font size\n",
    "  theme(\n",
    "    # Title improvements\n",
    "    plot.title = element_text(size = 16, face = \"bold\", hjust = 0.5, \n",
    "                             color = \"black\", margin = margin(b = 20)),\n",
    "    \n",
    "    # Axis improvements\n",
    "    axis.title.x = element_text(size = 12, face = \"bold\", color = \"black\",\n",
    "                               margin = margin(t = 15)),\n",
    "    axis.title.y = element_text(size = 12, face = \"bold\", color = \"black\",\n",
    "                               margin = margin(r = 15)),\n",
    "    axis.text.x = element_text(angle = 45, hjust = 1, size = 10, color = \"black\"),\n",
    "    axis.text.y = element_text(size = 10, color = \"black\"),\n",
    "    \n",
    "    # Clean axis lines\n",
    "    axis.line = element_line(color = \"black\", linewidth = 0.6),\n",
    "    axis.ticks = element_line(color = \"black\", linewidth = 0.5),\n",
    "    axis.ticks.length = unit(0.2, \"cm\"),\n",
    "    \n",
    "    # Background\n",
    "    plot.background = element_rect(fill = \"white\", color = NA),\n",
    "    panel.background = element_rect(fill = \"white\", color = NA),\n",
    "    \n",
    "    # Margins for better spacing\n",
    "    plot.margin = margin(20, 20, 20, 20),\n",
    "    \n",
    "    # Remove minor gridlines, keep major y-gridlines subtle\n",
    "    panel.grid.major.y = element_line(color = \"grey90\", linewidth = 0.3),\n",
    "    panel.grid.major.x = element_blank(),\n",
    "    panel.grid.minor = element_blank()\n",
    "  ) +\n",
    "  # Add subtle y-axis breaks\n",
    "  scale_y_continuous(expand = expansion(mult = c(0.02, 0.05)),\n",
    "                     breaks = scales::pretty_breaks(n = 6))\n",
    "\n",
    "# Display the plot\n",
    "print(p_dfa_latemesoderm_st_atf3)\n",
    "\n",
    "# Simple version without error bars or sample size annotations\n",
    "# This is the clean version for publication without statistical elements\n",
    "#p_final <- p_dfa_emp_st_atf3 +\n",
    "#  labs(caption = NULL)  # Remove caption if not needed\n",
    "\n",
    "#print(p_final)"
   ]
  },
  {
   "cell_type": "code",
   "execution_count": null,
   "id": "9519683d-1b3a-48e0-b3e7-69212f11a9cc",
   "metadata": {
    "vscode": {
     "languageId": "r"
    }
   },
   "outputs": [],
   "source": [
    "library(ggplot2)\n",
    "library(dplyr)\n",
    "options(repr.plot.width = 10, repr.plot.height = 6)\n",
    "\n",
    "# Reorder clusters according to emp_ct vector\n",
    "dfa_latemesoderm_st$cluster <- factor(dfa_latemesoderm_st$cluster, levels = latemesoderm_ct)\n",
    "\n",
    "# Improved version for scientific publication\n",
    "p_dfa_latemesoderm_st_zfp711 <- ggplot(dfa_latemesoderm_st, aes(x = cluster, y = Zfp711, group = 1)) +\n",
    "  geom_area(fill = \"#E8F4FD\", alpha = 0.3) +\n",
    "  geom_line(color = \"#1f77b4\", linewidth = 1.2) +  # Updated to linewidth\n",
    "  geom_point(color = \"#ff7f0e\", size = 3.5, stroke = 1.2, fill = \"white\", shape = 21) +\n",
    "  labs(\n",
    "   title = expression(paste(italic(\"In vivo\"), \" average \", italic(\"Zfp711 \"), \"expression: late mesoderm\")),\n",
    "    x = \"Ordered Developmental Stage - Cell Type\",\n",
    "    y = \"Average Expression Level (normalized counts)\"\n",
    "  ) +\n",
    "  theme_classic(base_size = 14) +  # Increased base font size\n",
    "  theme(\n",
    "    # Title improvements\n",
    "    plot.title = element_text(size = 16, face = \"bold\", hjust = 0.5, \n",
    "                             color = \"black\", margin = margin(b = 20)),\n",
    "    \n",
    "    # Axis improvements\n",
    "    axis.title.x = element_text(size = 12, face = \"bold\", color = \"black\",\n",
    "                               margin = margin(t = 15)),\n",
    "    axis.title.y = element_text(size = 12, face = \"bold\", color = \"black\",\n",
    "                               margin = margin(r = 15)),\n",
    "    axis.text.x = element_text(angle = 45, hjust = 1, size = 10, color = \"black\"),\n",
    "    axis.text.y = element_text(size = 10, color = \"black\"),\n",
    "    \n",
    "    # Clean axis lines\n",
    "    axis.line = element_line(color = \"black\", linewidth = 0.6),\n",
    "    axis.ticks = element_line(color = \"black\", linewidth = 0.5),\n",
    "    axis.ticks.length = unit(0.2, \"cm\"),\n",
    "    \n",
    "    # Background\n",
    "    plot.background = element_rect(fill = \"white\", color = NA),\n",
    "    panel.background = element_rect(fill = \"white\", color = NA),\n",
    "    \n",
    "    # Margins for better spacing\n",
    "    plot.margin = margin(20, 20, 20, 20),\n",
    "    \n",
    "    # Remove minor gridlines, keep major y-gridlines subtle\n",
    "    panel.grid.major.y = element_line(color = \"grey90\", linewidth = 0.3),\n",
    "    panel.grid.major.x = element_blank(),\n",
    "    panel.grid.minor = element_blank()\n",
    "  ) +\n",
    "  # Add subtle y-axis breaks\n",
    "  scale_y_continuous(expand = expansion(mult = c(0.02, 0.05)),\n",
    "                     breaks = scales::pretty_breaks(n = 6))\n",
    "\n",
    "# Display the plot\n",
    "print(p_dfa_latemesoderm_st_zfp711)\n",
    "\n",
    "# Simple version without error bars or sample size annotations\n",
    "# This is the clean version for publication without statistical elements\n",
    "#p_final <- p_dfa_emp_st_atf3 +\n",
    "#  labs(caption = NULL)  # Remove caption if not needed\n",
    "\n",
    "#print(p_final)"
   ]
  },
  {
   "cell_type": "code",
   "execution_count": null,
   "id": "9d431541-e5c4-483e-8043-df9b206b1d25",
   "metadata": {
    "vscode": {
     "languageId": "r"
    }
   },
   "outputs": [],
   "source": [
    "library(ggplot2)\n",
    "library(dplyr)\n",
    "options(repr.plot.width = 10, repr.plot.height = 6)\n",
    "\n",
    "# Reorder clusters according to emp_ct vector\n",
    "dfa_latemesoderm_st$cluster <- factor(dfa_latemesoderm_st$cluster, levels = latemesoderm_ct)\n",
    "\n",
    "# Improved version for scientific publication\n",
    "p_dfa_latemesoderm_st_bcl6b <- ggplot(dfa_latemesoderm_st, aes(x = cluster, y = Bcl6b, group = 1)) +\n",
    "  geom_area(fill = \"#E8F4FD\", alpha = 0.3) +\n",
    "  geom_line(color = \"#1f77b4\", linewidth = 1.2) +  # Updated to linewidth\n",
    "  geom_point(color = \"#ff7f0e\", size = 3.5, stroke = 1.2, fill = \"white\", shape = 21) +\n",
    "  labs(\n",
    "   title = expression(paste(italic(\"In vivo\"), \" average \", italic(\"Zfp711 \"), \"expression: late mesoderm\")),\n",
    "    x = \"Ordered Developmental Stage - Cell Type\",\n",
    "    y = \"Average Expression Level (normalized counts)\"\n",
    "  ) +\n",
    "  theme_classic(base_size = 14) +  # Increased base font size\n",
    "  theme(\n",
    "    # Title improvements\n",
    "    plot.title = element_text(size = 16, face = \"bold\", hjust = 0.5, \n",
    "                             color = \"black\", margin = margin(b = 20)),\n",
    "    \n",
    "    # Axis improvements\n",
    "    axis.title.x = element_text(size = 12, face = \"bold\", color = \"black\",\n",
    "                               margin = margin(t = 15)),\n",
    "    axis.title.y = element_text(size = 12, face = \"bold\", color = \"black\",\n",
    "                               margin = margin(r = 15)),\n",
    "    axis.text.x = element_text(angle = 45, hjust = 1, size = 10, color = \"black\"),\n",
    "    axis.text.y = element_text(size = 10, color = \"black\"),\n",
    "    \n",
    "    # Clean axis lines\n",
    "    axis.line = element_line(color = \"black\", linewidth = 0.6),\n",
    "    axis.ticks = element_line(color = \"black\", linewidth = 0.5),\n",
    "    axis.ticks.length = unit(0.2, \"cm\"),\n",
    "    \n",
    "    # Background\n",
    "    plot.background = element_rect(fill = \"white\", color = NA),\n",
    "    panel.background = element_rect(fill = \"white\", color = NA),\n",
    "    \n",
    "    # Margins for better spacing\n",
    "    plot.margin = margin(20, 20, 20, 20),\n",
    "    \n",
    "    # Remove minor gridlines, keep major y-gridlines subtle\n",
    "    panel.grid.major.y = element_line(color = \"grey90\", linewidth = 0.3),\n",
    "    panel.grid.major.x = element_blank(),\n",
    "    panel.grid.minor = element_blank()\n",
    "  ) +\n",
    "  # Add subtle y-axis breaks\n",
    "  scale_y_continuous(expand = expansion(mult = c(0.02, 0.05)),\n",
    "                     breaks = scales::pretty_breaks(n = 6))\n",
    "\n",
    "# Display the plot\n",
    "print(p_dfa_latemesoderm_st_bcl6b)\n",
    "\n",
    "# Simple version without error bars or sample size annotations\n",
    "# This is the clean version for publication without statistical elements\n",
    "#p_final <- p_dfa_emp_st_atf3 +\n",
    "#  labs(caption = NULL)  # Remove caption if not needed\n",
    "\n",
    "#print(p_final)"
   ]
  },
  {
   "cell_type": "markdown",
   "id": "e554f8cf-9724-4146-9067-977b6df925bb",
   "metadata": {},
   "source": [
    "### in vitro subclusters (Detailed)"
   ]
  },
  {
   "cell_type": "code",
   "execution_count": null,
   "id": "ef1015b8-66d0-4644-bda1-441f1b6b81a0",
   "metadata": {
    "vscode": {
     "languageId": "r"
    }
   },
   "outputs": [],
   "source": [
    "table(wt_obj$new_subclusters)"
   ]
  },
  {
   "cell_type": "code",
   "execution_count": null,
   "id": "fd93243d-bc35-4bfa-88d5-f49cf47397a9",
   "metadata": {
    "vscode": {
     "languageId": "r"
    }
   },
   "outputs": [],
   "source": [
    "latemesoderm_cts <- c('Epiblast', 'Primitive Streak 1',  'Primitive Streak 2', 'Nascent Mesoderm', 'Lateral Plate Mesoderm','Limb Mesoderm 1', 'Limb Mesoderm 2', \n",
    "                      'Mesenchyme 1','Mesenchyme 2',\n",
    "                      'Allantois 1','Allantois 2','Allantois 3','Allantois 4',\n",
    "                      'Epicardium 1','Epicardium 2', 'Epicardium 3')"
   ]
  },
  {
   "cell_type": "code",
   "execution_count": null,
   "id": "32324b13-ff3f-4780-a631-d049da10a2f8",
   "metadata": {
    "vscode": {
     "languageId": "r"
    }
   },
   "outputs": [],
   "source": [
    "head(dfc)"
   ]
  },
  {
   "cell_type": "code",
   "execution_count": null,
   "id": "e897229d-5968-4cc8-a59f-fca86c05f8b7",
   "metadata": {
    "vscode": {
     "languageId": "r"
    }
   },
   "outputs": [],
   "source": [
    "dfc_latemesoderm <- dfc[,colnames(dfc) %in% latemesoderm_cts]\n",
    "dim(dfc_latemesoderm)"
   ]
  },
  {
   "cell_type": "code",
   "execution_count": null,
   "id": "dca8cbde-6a77-42a4-9356-07f41ef39272",
   "metadata": {
    "vscode": {
     "languageId": "r"
    }
   },
   "outputs": [],
   "source": [
    "head(dfc_latemesoderm)"
   ]
  },
  {
   "cell_type": "code",
   "execution_count": null,
   "id": "7163d4f7-963b-4432-afec-ad6b8a2c4ca9",
   "metadata": {
    "vscode": {
     "languageId": "r"
    }
   },
   "outputs": [],
   "source": [
    "dfc_latemesoderm <- dfc_latemesoderm[, latemesoderm_cts]"
   ]
  },
  {
   "cell_type": "code",
   "execution_count": null,
   "id": "b384b400-35f6-4ef8-98d1-745498d5ed18",
   "metadata": {
    "vscode": {
     "languageId": "r"
    }
   },
   "outputs": [],
   "source": [
    "head(dfc_latemesoderm)"
   ]
  },
  {
   "cell_type": "code",
   "execution_count": null,
   "id": "8f4b4292-d9ec-4d25-a8fd-163526c13d1d",
   "metadata": {
    "vscode": {
     "languageId": "r"
    }
   },
   "outputs": [],
   "source": [
    "dfc_latemesoderm_s <- dfc_latemesoderm[KOs_and_paralogs,]\n",
    "head(dfc_latemesoderm_s)"
   ]
  },
  {
   "cell_type": "code",
   "execution_count": null,
   "id": "301349a8-4260-4fdc-bbe4-bc0ae5210435",
   "metadata": {
    "vscode": {
     "languageId": "r"
    }
   },
   "outputs": [],
   "source": [
    "dfc_latemesoderm_st <- t(dfc_latemesoderm_s)"
   ]
  },
  {
   "cell_type": "code",
   "execution_count": null,
   "id": "0194bfb4-b86c-40b9-9ab7-c1efc2fedafa",
   "metadata": {
    "vscode": {
     "languageId": "r"
    }
   },
   "outputs": [],
   "source": [
    "dfc_latemesoderm_st <- as.data.frame(dfc_latemesoderm_st)"
   ]
  },
  {
   "cell_type": "code",
   "execution_count": null,
   "id": "5e34e846-d4cf-48ef-af58-3bcb02711b23",
   "metadata": {
    "vscode": {
     "languageId": "r"
    }
   },
   "outputs": [],
   "source": [
    "head(dfc_latemesoderm_st)"
   ]
  },
  {
   "cell_type": "code",
   "execution_count": null,
   "id": "a63d0564-db91-44e3-9710-d42ef5d23d08",
   "metadata": {
    "vscode": {
     "languageId": "r"
    }
   },
   "outputs": [],
   "source": [
    "dfc_latemesoderm_st$cluster <- rownames(dfc_latemesoderm_st)"
   ]
  },
  {
   "cell_type": "code",
   "execution_count": null,
   "id": "38de5900-8540-4032-a4cb-70e79b0f9384",
   "metadata": {
    "vscode": {
     "languageId": "r"
    }
   },
   "outputs": [],
   "source": [
    "head(dfc_latemesoderm_st)"
   ]
  },
  {
   "cell_type": "code",
   "execution_count": null,
   "id": "4da6c456-0ebf-4a62-b523-c527f0ce4e1b",
   "metadata": {
    "vscode": {
     "languageId": "r"
    }
   },
   "outputs": [],
   "source": [
    "str(dfc_latemesoderm_st)"
   ]
  },
  {
   "cell_type": "code",
   "execution_count": null,
   "id": "121e2219-efec-468d-a3eb-c2ddbdb76b91",
   "metadata": {
    "vscode": {
     "languageId": "r"
    }
   },
   "outputs": [],
   "source": [
    "library(ggplot2)\n",
    "library(dplyr)\n",
    "options(repr.plot.width = 10, repr.plot.height = 6)\n",
    "\n",
    "# Reorder clusters according to emp_ct vector\n",
    "dfc_latemesoderm_st$cluster <- factor(dfc_latemesoderm_st$cluster, levels = latemesoderm_cts)\n",
    "\n",
    "# Improved version for scientific publication\n",
    "p_dfc_latemesoderm_st_atf3 <- ggplot(dfc_latemesoderm_st, aes(x = cluster, y = Atf3, group = 1)) +\n",
    "  geom_area(fill = \"#E8F4FD\", alpha = 0.3) +\n",
    "  geom_line(color = \"#1f77b4\", linewidth = 1.2) +  # Updated to linewidth\n",
    "  geom_point(color = \"#ff7f0e\", size = 3.5, stroke = 1.2, fill = \"white\", shape = 21) +\n",
    "  labs(\n",
    "   title = expression(paste(italic(\"In vitro\"), \" average \", italic(\"Atf3 \"), \"expression: late mesoderm\")),\n",
    "    x = \"Ordered Developmental Stage - Cell Type\",\n",
    "    y = \"Average Expression Level (normalized counts)\"\n",
    "  ) +\n",
    "  theme_classic(base_size = 14) +  # Increased base font size\n",
    "  theme(\n",
    "    # Title improvements\n",
    "    plot.title = element_text(size = 16, face = \"bold\", hjust = 0.5, \n",
    "                             color = \"black\", margin = margin(b = 20)),\n",
    "    \n",
    "    # Axis improvements\n",
    "    axis.title.x = element_text(size = 12, face = \"bold\", color = \"black\",\n",
    "                               margin = margin(t = 15)),\n",
    "    axis.title.y = element_text(size = 12, face = \"bold\", color = \"black\",\n",
    "                               margin = margin(r = 15)),\n",
    "    axis.text.x = element_text(angle = 45, hjust = 1, size = 10, color = \"black\"),\n",
    "    axis.text.y = element_text(size = 10, color = \"black\"),\n",
    "    \n",
    "    # Clean axis lines\n",
    "    axis.line = element_line(color = \"black\", linewidth = 0.6),\n",
    "    axis.ticks = element_line(color = \"black\", linewidth = 0.5),\n",
    "    axis.ticks.length = unit(0.2, \"cm\"),\n",
    "    \n",
    "    # Background\n",
    "    plot.background = element_rect(fill = \"white\", color = NA),\n",
    "    panel.background = element_rect(fill = \"white\", color = NA),\n",
    "    \n",
    "    # Margins for better spacing\n",
    "    plot.margin = margin(20, 20, 20, 20),\n",
    "    \n",
    "    # Remove minor gridlines, keep major y-gridlines subtle\n",
    "    panel.grid.major.y = element_line(color = \"grey90\", linewidth = 0.3),\n",
    "    panel.grid.major.x = element_blank(),\n",
    "    panel.grid.minor = element_blank()\n",
    "  ) +\n",
    "  # Add subtle y-axis breaks\n",
    "  scale_y_continuous(expand = expansion(mult = c(0.02, 0.05)),\n",
    "                     breaks = scales::pretty_breaks(n = 6))\n",
    "\n",
    "# Display the plot\n",
    "print(p_dfc_latemesoderm_st_atf3)\n",
    "\n",
    "# Simple version without error bars or sample size annotations\n",
    "# This is the clean version for publication without statistical elements\n",
    "#p_final <- p_dfa_emp_st_atf3 +\n",
    "#  labs(caption = NULL)  # Remove caption if not needed\n",
    "\n",
    "#print(p_final)"
   ]
  },
  {
   "cell_type": "code",
   "execution_count": null,
   "id": "a8796531-686b-47b6-a6b7-0d042a1048cf",
   "metadata": {
    "vscode": {
     "languageId": "r"
    }
   },
   "outputs": [],
   "source": [
    "library(ggplot2)\n",
    "library(dplyr)\n",
    "options(repr.plot.width = 10, repr.plot.height = 6)\n",
    "\n",
    "# Reorder clusters according to emp_ct vector\n",
    "dfc_latemesoderm_st$cluster <- factor(dfc_latemesoderm_st$cluster, levels = latemesoderm_cts)\n",
    "\n",
    "# Improved version for scientific publication\n",
    "p_dfc_latemesoderm_st_zfp711 <- ggplot(dfc_latemesoderm_st, aes(x = cluster, y = Zfp711, group = 1)) +\n",
    "  geom_area(fill = \"#E8F4FD\", alpha = 0.3) +\n",
    "  geom_line(color = \"#1f77b4\", linewidth = 1.2) +  # Updated to linewidth\n",
    "  geom_point(color = \"#ff7f0e\", size = 3.5, stroke = 1.2, fill = \"white\", shape = 21) +\n",
    "  labs(\n",
    "   title = expression(paste(italic(\"In vitro\"), \" average \", italic(\"Zfp711 \"), \"expression: late mesoderm\")),\n",
    "    x = \"Ordered Developmental Stage - Cell Type\",\n",
    "    y = \"Average Expression Level (normalized counts)\"\n",
    "  ) +\n",
    "  theme_classic(base_size = 14) +  # Increased base font size\n",
    "  theme(\n",
    "    # Title improvements\n",
    "    plot.title = element_text(size = 16, face = \"bold\", hjust = 0.5, \n",
    "                             color = \"black\", margin = margin(b = 20)),\n",
    "    \n",
    "    # Axis improvements\n",
    "    axis.title.x = element_text(size = 12, face = \"bold\", color = \"black\",\n",
    "                               margin = margin(t = 15)),\n",
    "    axis.title.y = element_text(size = 12, face = \"bold\", color = \"black\",\n",
    "                               margin = margin(r = 15)),\n",
    "    axis.text.x = element_text(angle = 45, hjust = 1, size = 10, color = \"black\"),\n",
    "    axis.text.y = element_text(size = 10, color = \"black\"),\n",
    "    \n",
    "    # Clean axis lines\n",
    "    axis.line = element_line(color = \"black\", linewidth = 0.6),\n",
    "    axis.ticks = element_line(color = \"black\", linewidth = 0.5),\n",
    "    axis.ticks.length = unit(0.2, \"cm\"),\n",
    "    \n",
    "    # Background\n",
    "    plot.background = element_rect(fill = \"white\", color = NA),\n",
    "    panel.background = element_rect(fill = \"white\", color = NA),\n",
    "    \n",
    "    # Margins for better spacing\n",
    "    plot.margin = margin(20, 20, 20, 20),\n",
    "    \n",
    "    # Remove minor gridlines, keep major y-gridlines subtle\n",
    "    panel.grid.major.y = element_line(color = \"grey90\", linewidth = 0.3),\n",
    "    panel.grid.major.x = element_blank(),\n",
    "    panel.grid.minor = element_blank()\n",
    "  ) +\n",
    "  # Add subtle y-axis breaks\n",
    "  scale_y_continuous(expand = expansion(mult = c(0.02, 0.05)),\n",
    "                     breaks = scales::pretty_breaks(n = 6))\n",
    "\n",
    "# Display the plot\n",
    "print(p_dfc_latemesoderm_st_zfp711)\n",
    "\n",
    "# Simple version without error bars or sample size annotations\n",
    "# This is the clean version for publication without statistical elements\n",
    "#p_final <- p_dfa_emp_st_atf3 +\n",
    "#  labs(caption = NULL)  # Remove caption if not needed\n",
    "\n",
    "#print(p_final)"
   ]
  },
  {
   "cell_type": "code",
   "execution_count": null,
   "id": "da6ced85-3a38-4f72-89d8-ea8d3df18b34",
   "metadata": {
    "vscode": {
     "languageId": "r"
    }
   },
   "outputs": [],
   "source": [
    "library(ggplot2)\n",
    "library(dplyr)\n",
    "options(repr.plot.width = 10, repr.plot.height = 6)\n",
    "\n",
    "# Reorder clusters according to emp_ct vector\n",
    "dfc_latemesoderm_st$cluster <- factor(dfc_latemesoderm_st$cluster, levels = latemesoderm_cts)\n",
    "\n",
    "# Improved version for scientific publication\n",
    "p_dfc_latemesoderm_st_bcl6b <- ggplot(dfc_latemesoderm_st, aes(x = cluster, y = Bcl6b, group = 1)) +\n",
    "  geom_area(fill = \"#E8F4FD\", alpha = 0.3) +\n",
    "  geom_line(color = \"#1f77b4\", linewidth = 1.2) +  # Updated to linewidth\n",
    "  geom_point(color = \"#ff7f0e\", size = 3.5, stroke = 1.2, fill = \"white\", shape = 21) +\n",
    "  labs(\n",
    "   title = expression(paste(italic(\"In vitro\"), \" average \", italic(\"Bcl6b \"), \"expression: late mesoderm\")),\n",
    "    x = \"Ordered Developmental Stage - Cell Type\",\n",
    "    y = \"Average Expression Level (normalized counts)\"\n",
    "  ) +\n",
    "  theme_classic(base_size = 14) +  # Increased base font size\n",
    "  theme(\n",
    "    # Title improvements\n",
    "    plot.title = element_text(size = 16, face = \"bold\", hjust = 0.5, \n",
    "                             color = \"black\", margin = margin(b = 20)),\n",
    "    \n",
    "    # Axis improvements\n",
    "    axis.title.x = element_text(size = 12, face = \"bold\", color = \"black\",\n",
    "                               margin = margin(t = 15)),\n",
    "    axis.title.y = element_text(size = 12, face = \"bold\", color = \"black\",\n",
    "                               margin = margin(r = 15)),\n",
    "    axis.text.x = element_text(angle = 45, hjust = 1, size = 10, color = \"black\"),\n",
    "    axis.text.y = element_text(size = 10, color = \"black\"),\n",
    "    \n",
    "    # Clean axis lines\n",
    "    axis.line = element_line(color = \"black\", linewidth = 0.6),\n",
    "    axis.ticks = element_line(color = \"black\", linewidth = 0.5),\n",
    "    axis.ticks.length = unit(0.2, \"cm\"),\n",
    "    \n",
    "    # Background\n",
    "    plot.background = element_rect(fill = \"white\", color = NA),\n",
    "    panel.background = element_rect(fill = \"white\", color = NA),\n",
    "    \n",
    "    # Margins for better spacing\n",
    "    plot.margin = margin(20, 20, 20, 20),\n",
    "    \n",
    "    # Remove minor gridlines, keep major y-gridlines subtle\n",
    "    panel.grid.major.y = element_line(color = \"grey90\", linewidth = 0.3),\n",
    "    panel.grid.major.x = element_blank(),\n",
    "    panel.grid.minor = element_blank()\n",
    "  ) +\n",
    "  # Add subtle y-axis breaks\n",
    "  scale_y_continuous(expand = expansion(mult = c(0.02, 0.05)),\n",
    "                     breaks = scales::pretty_breaks(n = 6))\n",
    "\n",
    "# Display the plot\n",
    "print(p_dfc_latemesoderm_st_bcl6b)\n",
    "\n",
    "# Simple version without error bars or sample size annotations\n",
    "# This is the clean version for publication without statistical elements\n",
    "#p_final <- p_dfa_emp_st_atf3 +\n",
    "#  labs(caption = NULL)  # Remove caption if not needed\n",
    "\n",
    "#print(p_final)"
   ]
  },
  {
   "cell_type": "code",
   "execution_count": null,
   "id": "9b2814b1-104d-4158-b1e9-8ed423f040c8",
   "metadata": {
    "vscode": {
     "languageId": "r"
    }
   },
   "outputs": [],
   "source": []
  },
  {
   "cell_type": "markdown",
   "id": "8eb43cf7-d207-4c27-8c5a-7722e8171baa",
   "metadata": {},
   "source": [
    "### combined"
   ]
  },
  {
   "cell_type": "code",
   "execution_count": null,
   "id": "8b89caef",
   "metadata": {
    "vscode": {
     "languageId": "r"
    }
   },
   "outputs": [],
   "source": [
    "options(repr.plot.width = 20, repr.plot.height = 11)\n",
    "p_late_mesoderm<- \n",
    "plot_grid(\n",
    "    p_dfa_latemesoderm_st_atf3,p_dfa_latemesoderm_st_zfp711,p_dfa_latemesoderm_st_bcl6b,\n",
    "    p_dfc_latemesoderm_st_atf3,p_dfc_latemesoderm_st_zfp711,p_dfc_latemesoderm_st_bcl6b,\n",
    "    \n",
    "ncol = 3)\n",
    "p_late_mesoderm"
   ]
  },
  {
   "cell_type": "markdown",
   "id": "ec52459e-8919-40c6-a4f8-4e3832a250fc",
   "metadata": {},
   "source": [
    "## cardiac"
   ]
  },
  {
   "cell_type": "markdown",
   "id": "d3e76082-e992-440a-a9ae-253200ac8585",
   "metadata": {},
   "source": [
    "### in vivo"
   ]
  },
  {
   "cell_type": "code",
   "execution_count": null,
   "id": "3ce48ace-a474-457c-919e-4db0a3b45b0c",
   "metadata": {
    "vscode": {
     "languageId": "r"
    }
   },
   "outputs": [],
   "source": [
    "unique(atlas$celltype_extended_atlas)"
   ]
  },
  {
   "cell_type": "code",
   "execution_count": null,
   "id": "25d50d45-77e6-4191-9ae0-3e99c409f1bd",
   "metadata": {
    "vscode": {
     "languageId": "r"
    }
   },
   "outputs": [],
   "source": [
    "cardiac_ct <- c('Epiblast','Primitive Streak','Nascent mesoderm','Lateral plate mesoderm','Cardiopharyngeal progenitors',\n",
    "                'Pharyngeal mesoderm','Anterior cardiopharyngeal progenitors','Cardiopharyngeal progenitors FHF', \n",
    "                'Cardiomyocytes FHF 1','Cardiomyocytes FHF 2', \n",
    "                'Cardiopharyngeal progenitors SHF','Cardiomyocytes SHF 1','Cardiomyocytes SHF 2')"
   ]
  },
  {
   "cell_type": "code",
   "execution_count": null,
   "id": "0e4ec68d-fd1e-4daf-8ecd-717e07bb3f2a",
   "metadata": {
    "vscode": {
     "languageId": "r"
    }
   },
   "outputs": [],
   "source": [
    "head(dfa)"
   ]
  },
  {
   "cell_type": "code",
   "execution_count": null,
   "id": "db4ffcc6-b11a-401f-89b7-6db342190f1e",
   "metadata": {
    "vscode": {
     "languageId": "r"
    }
   },
   "outputs": [],
   "source": [
    "dfa_cardiac <- dfa[,colnames(dfa) %in% cardiac_ct]\n",
    "dim(dfa_cardiac)"
   ]
  },
  {
   "cell_type": "code",
   "execution_count": null,
   "id": "255f7542-d270-41d2-ae95-b0a97d789863",
   "metadata": {
    "vscode": {
     "languageId": "r"
    }
   },
   "outputs": [],
   "source": [
    "head(dfa_cardiac)"
   ]
  },
  {
   "cell_type": "code",
   "execution_count": null,
   "id": "b38c1b64-956a-4ac6-875d-00e981452a40",
   "metadata": {
    "vscode": {
     "languageId": "r"
    }
   },
   "outputs": [],
   "source": [
    "dfa_cardiac <- dfa[, cardiac_ct]"
   ]
  },
  {
   "cell_type": "code",
   "execution_count": null,
   "id": "e9e07ed4-6f1e-42ee-837c-751a8b5f6532",
   "metadata": {
    "vscode": {
     "languageId": "r"
    }
   },
   "outputs": [],
   "source": [
    "head(dfa_cardiac)"
   ]
  },
  {
   "cell_type": "code",
   "execution_count": null,
   "id": "523a051e-298c-4892-a758-92a3f0040ddf",
   "metadata": {
    "vscode": {
     "languageId": "r"
    }
   },
   "outputs": [],
   "source": [
    "dfa_cardiac_s <- dfa_cardiac[KOs_and_paralogs,]\n",
    "head(dfa_cardiac_s)"
   ]
  },
  {
   "cell_type": "code",
   "execution_count": null,
   "id": "e1697266-7124-42e4-9ccc-b1ed7f98fc57",
   "metadata": {
    "vscode": {
     "languageId": "r"
    }
   },
   "outputs": [],
   "source": [
    "dfa_cardiac_st <- t(dfa_cardiac_s)"
   ]
  },
  {
   "cell_type": "code",
   "execution_count": null,
   "id": "3041bfab-56ff-4f6c-9de8-3b73613ef47f",
   "metadata": {
    "vscode": {
     "languageId": "r"
    }
   },
   "outputs": [],
   "source": [
    "dfa_cardiac_st <- as.data.frame(dfa_cardiac_st)"
   ]
  },
  {
   "cell_type": "code",
   "execution_count": null,
   "id": "111d22f2-3c86-415f-9055-18ebeb0ef980",
   "metadata": {
    "vscode": {
     "languageId": "r"
    }
   },
   "outputs": [],
   "source": [
    "head(dfa_cardiac_st)"
   ]
  },
  {
   "cell_type": "code",
   "execution_count": null,
   "id": "7653b5c5-8440-49c3-b02f-f9738eeb2631",
   "metadata": {
    "vscode": {
     "languageId": "r"
    }
   },
   "outputs": [],
   "source": [
    "dfa_cardiac_st$cluster <- rownames(dfa_cardiac_st)"
   ]
  },
  {
   "cell_type": "code",
   "execution_count": null,
   "id": "9873317f-bf62-4811-9d41-3777a520f13d",
   "metadata": {
    "vscode": {
     "languageId": "r"
    }
   },
   "outputs": [],
   "source": [
    "head(dfa_cardiac_st)"
   ]
  },
  {
   "cell_type": "code",
   "execution_count": null,
   "id": "608151e5-1165-4608-bccb-97412cbcdf96",
   "metadata": {
    "vscode": {
     "languageId": "r"
    }
   },
   "outputs": [],
   "source": [
    "str(dfa_cardiac_st)"
   ]
  },
  {
   "cell_type": "code",
   "execution_count": null,
   "id": "8ad3571f-7265-4eb7-a96b-26fad40f6b14",
   "metadata": {
    "vscode": {
     "languageId": "r"
    }
   },
   "outputs": [],
   "source": [
    "library(ggplot2)\n",
    "library(dplyr)\n",
    "options(repr.plot.width = 10, repr.plot.height = 6)\n",
    "\n",
    "# Reorder clusters according to emp_ct vector\n",
    "dfa_cardiac_st$cluster <- factor(dfa_cardiac_st$cluster, levels = cardiac_ct)\n",
    "\n",
    "# Improved version for scientific publication\n",
    "p_dfa_cardiac_st_atf3 <- ggplot(dfa_cardiac_st, aes(x = cluster, y = Atf3, group = 1)) +\n",
    "  geom_area(fill = \"#E8F4FD\", alpha = 0.3) +\n",
    "  geom_line(color = \"#1f77b4\", linewidth = 1.2) +  # Updated to linewidth\n",
    "  geom_point(color = \"#ff7f0e\", size = 3.5, stroke = 1.2, fill = \"white\", shape = 21) +\n",
    "  labs(\n",
    "   title = expression(paste(italic(\"In vivo\"), \" average \", italic(\"Atf3 \"), \"expression: cardiac lineages\")),\n",
    "    x = \"Ordered Developmental Stage - Cell Type\",\n",
    "    y = \"Average Expression Level (normalized counts)\"\n",
    "  ) +\n",
    "  theme_classic(base_size = 14) +  # Increased base font size\n",
    "  theme(\n",
    "    # Title improvements\n",
    "    plot.title = element_text(size = 16, face = \"bold\", hjust = 0.5, \n",
    "                             color = \"black\", margin = margin(b = 20)),\n",
    "    \n",
    "    # Axis improvements\n",
    "    axis.title.x = element_text(size = 12, face = \"bold\", color = \"black\",\n",
    "                               margin = margin(t = 15)),\n",
    "    axis.title.y = element_text(size = 12, face = \"bold\", color = \"black\",\n",
    "                               margin = margin(r = 15)),\n",
    "    axis.text.x = element_text(angle = 45, hjust = 1, size = 10, color = \"black\"),\n",
    "    axis.text.y = element_text(size = 10, color = \"black\"),\n",
    "    \n",
    "    # Clean axis lines\n",
    "    axis.line = element_line(color = \"black\", linewidth = 0.6),\n",
    "    axis.ticks = element_line(color = \"black\", linewidth = 0.5),\n",
    "    axis.ticks.length = unit(0.2, \"cm\"),\n",
    "    \n",
    "    # Background\n",
    "    plot.background = element_rect(fill = \"white\", color = NA),\n",
    "    panel.background = element_rect(fill = \"white\", color = NA),\n",
    "    \n",
    "    # Margins for better spacing\n",
    "    plot.margin = margin(20, 20, 20, 20),\n",
    "    \n",
    "    # Remove minor gridlines, keep major y-gridlines subtle\n",
    "    panel.grid.major.y = element_line(color = \"grey90\", linewidth = 0.3),\n",
    "    panel.grid.major.x = element_blank(),\n",
    "    panel.grid.minor = element_blank()\n",
    "  ) +\n",
    "  # Add subtle y-axis breaks\n",
    "  scale_y_continuous(expand = expansion(mult = c(0.02, 0.05)),\n",
    "                     breaks = scales::pretty_breaks(n = 6))\n",
    "\n",
    "# Display the plot\n",
    "print(p_dfa_cardiac_st_atf3)\n",
    "\n",
    "# Simple version without error bars or sample size annotations\n",
    "# This is the clean version for publication without statistical elements\n",
    "#p_final <- p_dfa_emp_st_atf3 +\n",
    "#  labs(caption = NULL)  # Remove caption if not needed\n",
    "\n",
    "#print(p_final)"
   ]
  },
  {
   "cell_type": "code",
   "execution_count": null,
   "id": "51e9a361-7745-473b-a474-8e424c72ea63",
   "metadata": {
    "vscode": {
     "languageId": "r"
    }
   },
   "outputs": [],
   "source": [
    "library(ggplot2)\n",
    "library(dplyr)\n",
    "options(repr.plot.width = 10, repr.plot.height = 6)\n",
    "\n",
    "# Reorder clusters according to emp_ct vector\n",
    "dfa_cardiac_st$cluster <- factor(dfa_cardiac_st$cluster, levels = cardiac_ct)\n",
    "\n",
    "# Improved version for scientific publication\n",
    "p_dfa_cardiac_st_zfp711 <- ggplot(dfa_cardiac_st, aes(x = cluster, y = Zfp711, group = 1)) +\n",
    "  geom_area(fill = \"#E8F4FD\", alpha = 0.3) +\n",
    "  geom_line(color = \"#1f77b4\", linewidth = 1.2) +  # Updated to linewidth\n",
    "  geom_point(color = \"#ff7f0e\", size = 3.5, stroke = 1.2, fill = \"white\", shape = 21) +\n",
    "  labs(\n",
    "   title = expression(paste(italic(\"In vivo\"), \" average \", italic(\"Zfp711 \"), \"expression: cardiac lineages\")),\n",
    "    x = \"Ordered Developmental Stage - Cell Type\",\n",
    "    y = \"Average Expression Level (normalized counts)\"\n",
    "  ) +\n",
    "  theme_classic(base_size = 14) +  # Increased base font size\n",
    "  theme(\n",
    "    # Title improvements\n",
    "    plot.title = element_text(size = 16, face = \"bold\", hjust = 0.5, \n",
    "                             color = \"black\", margin = margin(b = 20)),\n",
    "    \n",
    "    # Axis improvements\n",
    "    axis.title.x = element_text(size = 12, face = \"bold\", color = \"black\",\n",
    "                               margin = margin(t = 15)),\n",
    "    axis.title.y = element_text(size = 12, face = \"bold\", color = \"black\",\n",
    "                               margin = margin(r = 15)),\n",
    "    axis.text.x = element_text(angle = 45, hjust = 1, size = 10, color = \"black\"),\n",
    "    axis.text.y = element_text(size = 10, color = \"black\"),\n",
    "    \n",
    "    # Clean axis lines\n",
    "    axis.line = element_line(color = \"black\", linewidth = 0.6),\n",
    "    axis.ticks = element_line(color = \"black\", linewidth = 0.5),\n",
    "    axis.ticks.length = unit(0.2, \"cm\"),\n",
    "    \n",
    "    # Background\n",
    "    plot.background = element_rect(fill = \"white\", color = NA),\n",
    "    panel.background = element_rect(fill = \"white\", color = NA),\n",
    "    \n",
    "    # Margins for better spacing\n",
    "    plot.margin = margin(20, 20, 20, 20),\n",
    "    \n",
    "    # Remove minor gridlines, keep major y-gridlines subtle\n",
    "    panel.grid.major.y = element_line(color = \"grey90\", linewidth = 0.3),\n",
    "    panel.grid.major.x = element_blank(),\n",
    "    panel.grid.minor = element_blank()\n",
    "  ) +\n",
    "  # Add subtle y-axis breaks\n",
    "  scale_y_continuous(expand = expansion(mult = c(0.02, 0.05)),\n",
    "                     breaks = scales::pretty_breaks(n = 6))\n",
    "\n",
    "# Display the plot\n",
    "print(p_dfa_cardiac_st_zfp711)\n",
    "\n",
    "# Simple version without error bars or sample size annotations\n",
    "# This is the clean version for publication without statistical elements\n",
    "#p_final <- p_dfa_emp_st_atf3 +\n",
    "#  labs(caption = NULL)  # Remove caption if not needed\n",
    "\n",
    "#print(p_final)"
   ]
  },
  {
   "cell_type": "code",
   "execution_count": null,
   "id": "ea5c3cdc-a754-4eea-ac47-321e03dcc719",
   "metadata": {
    "vscode": {
     "languageId": "r"
    }
   },
   "outputs": [],
   "source": [
    "library(ggplot2)\n",
    "library(dplyr)\n",
    "options(repr.plot.width = 10, repr.plot.height = 6)\n",
    "\n",
    "# Reorder clusters according to emp_ct vector\n",
    "dfa_cardiac_st$cluster <- factor(dfa_cardiac_st$cluster, levels = cardiac_ct)\n",
    "\n",
    "# Improved version for scientific publication\n",
    "p_dfa_cardiac_st_bcl6b <- ggplot(dfa_cardiac_st, aes(x = cluster, y = Bcl6b, group = 1)) +\n",
    "  geom_area(fill = \"#E8F4FD\", alpha = 0.3) +\n",
    "  geom_line(color = \"#1f77b4\", linewidth = 1.2) +  # Updated to linewidth\n",
    "  geom_point(color = \"#ff7f0e\", size = 3.5, stroke = 1.2, fill = \"white\", shape = 21) +\n",
    "  labs(\n",
    "   title = expression(paste(italic(\"In vivo\"), \" average \", italic(\"Zfp711 \"), \"expression: cardiac lineages\")),\n",
    "    x = \"Ordered Developmental Stage - Cell Type\",\n",
    "    y = \"Average Expression Level (normalized counts)\"\n",
    "  ) +\n",
    "  theme_classic(base_size = 14) +  # Increased base font size\n",
    "  theme(\n",
    "    # Title improvements\n",
    "    plot.title = element_text(size = 16, face = \"bold\", hjust = 0.5, \n",
    "                             color = \"black\", margin = margin(b = 20)),\n",
    "    \n",
    "    # Axis improvements\n",
    "    axis.title.x = element_text(size = 12, face = \"bold\", color = \"black\",\n",
    "                               margin = margin(t = 15)),\n",
    "    axis.title.y = element_text(size = 12, face = \"bold\", color = \"black\",\n",
    "                               margin = margin(r = 15)),\n",
    "    axis.text.x = element_text(angle = 45, hjust = 1, size = 10, color = \"black\"),\n",
    "    axis.text.y = element_text(size = 10, color = \"black\"),\n",
    "    \n",
    "    # Clean axis lines\n",
    "    axis.line = element_line(color = \"black\", linewidth = 0.6),\n",
    "    axis.ticks = element_line(color = \"black\", linewidth = 0.5),\n",
    "    axis.ticks.length = unit(0.2, \"cm\"),\n",
    "    \n",
    "    # Background\n",
    "    plot.background = element_rect(fill = \"white\", color = NA),\n",
    "    panel.background = element_rect(fill = \"white\", color = NA),\n",
    "    \n",
    "    # Margins for better spacing\n",
    "    plot.margin = margin(20, 20, 20, 20),\n",
    "    \n",
    "    # Remove minor gridlines, keep major y-gridlines subtle\n",
    "    panel.grid.major.y = element_line(color = \"grey90\", linewidth = 0.3),\n",
    "    panel.grid.major.x = element_blank(),\n",
    "    panel.grid.minor = element_blank()\n",
    "  ) +\n",
    "  # Add subtle y-axis breaks\n",
    "  scale_y_continuous(expand = expansion(mult = c(0.02, 0.05)),\n",
    "                     breaks = scales::pretty_breaks(n = 6))\n",
    "\n",
    "# Display the plot\n",
    "print(p_dfa_cardiac_st_bcl6b)\n",
    "\n",
    "# Simple version without error bars or sample size annotations\n",
    "# This is the clean version for publication without statistical elements\n",
    "#p_final <- p_dfa_emp_st_atf3 +\n",
    "#  labs(caption = NULL)  # Remove caption if not needed\n",
    "\n",
    "#print(p_final)"
   ]
  },
  {
   "cell_type": "markdown",
   "id": "b653ad34-9b02-4ff9-a3d4-e3988b747eb1",
   "metadata": {},
   "source": [
    "### combined"
   ]
  },
  {
   "cell_type": "code",
   "execution_count": null,
   "id": "4295cd9e",
   "metadata": {
    "vscode": {
     "languageId": "r"
    }
   },
   "outputs": [],
   "source": [
    "options(repr.plot.width = 20, repr.plot.height = 11)\n",
    "p_cardiac<- \n",
    "plot_grid(\n",
    "    p_dfa_cardiac_st_atf3,p_dfa_cardiac_st_zfp711,p_dfa_cardiac_st_bcl6b,NULL, NULL, NULL,\n",
    "    \n",
    "ncol = 3)\n",
    "p_cardiac"
   ]
  },
  {
   "cell_type": "markdown",
   "id": "7484e2d4-7866-4df4-a894-804373b23999",
   "metadata": {},
   "source": [
    "###### I am ready line plots"
   ]
  },
  {
   "cell_type": "code",
   "execution_count": null,
   "id": "f6182ed3-bf58-4d96-a585-220a720acfb0",
   "metadata": {
    "vscode": {
     "languageId": "r"
    }
   },
   "outputs": [],
   "source": [
    "\n",
    "p_line_1<- \n",
    "plot_grid(\n",
    "\n",
    "    p_first_wave,\n",
    "p_second_wave,\n",
    "ncol = 1)\n",
    "\n",
    "\n",
    "p_line_2<- \n",
    "plot_grid(\n",
    "p_late_mesoderm,\n",
    "p_cardiac,\n",
    "ncol = 1)\n",
    "\n",
    "\n"
   ]
  },
  {
   "cell_type": "code",
   "execution_count": null,
   "id": "1c3b1f9e",
   "metadata": {
    "vscode": {
     "languageId": "r"
    }
   },
   "outputs": [],
   "source": [
    "options(repr.plot.width = 20, repr.plot.height = 22)\n",
    "p_line_1"
   ]
  },
  {
   "cell_type": "code",
   "execution_count": null,
   "id": "81262a15-5a8e-41fc-86a6-e5e956e9ace5",
   "metadata": {
    "vscode": {
     "languageId": "r"
    }
   },
   "outputs": [],
   "source": []
  },
  {
   "cell_type": "code",
   "execution_count": null,
   "id": "ce6a6891-712c-46ce-97ea-3b0ffa0cde08",
   "metadata": {
    "vscode": {
     "languageId": "r"
    }
   },
   "outputs": [],
   "source": [
    "pdf(file = './figures_3/plot_line_part1.pdf', width = 20, height = 22)\n",
    "p_line_1\n",
    "dev.off()"
   ]
  },
  {
   "cell_type": "code",
   "execution_count": null,
   "id": "627ca22c-f64e-4ed5-a81c-e13c831197fe",
   "metadata": {
    "vscode": {
     "languageId": "r"
    }
   },
   "outputs": [],
   "source": [
    "svg(file = './figures_3/plot_line_part1.svg', width = 20, height = 22)\n",
    "p_line_1\n",
    "dev.off()"
   ]
  },
  {
   "cell_type": "code",
   "execution_count": null,
   "id": "21c37ab8-d878-4280-8365-b9ca77a2c4b5",
   "metadata": {
    "vscode": {
     "languageId": "r"
    }
   },
   "outputs": [],
   "source": [
    "png(file = './figures_3/plot_line_part1.png', width = 20, height = 22, units = 'in',res = 300)\n",
    "p_line_1\n",
    "dev.off()"
   ]
  },
  {
   "cell_type": "code",
   "execution_count": null,
   "id": "6e49bf0a",
   "metadata": {
    "vscode": {
     "languageId": "r"
    }
   },
   "outputs": [],
   "source": [
    "options(repr.plot.width = 20, repr.plot.height = 22)\n",
    "p_line_2"
   ]
  },
  {
   "cell_type": "code",
   "execution_count": null,
   "id": "aa674179-7b25-4e7e-81aa-79ed8c463fe7",
   "metadata": {
    "vscode": {
     "languageId": "r"
    }
   },
   "outputs": [],
   "source": [
    "pdf(file = './figures_3/plot_line_part2.pdf', width = 20, height = 22)\n",
    "p_line_2\n",
    "dev.off()"
   ]
  },
  {
   "cell_type": "code",
   "execution_count": null,
   "id": "9812d329-1c5c-403a-9c75-dc86d6312682",
   "metadata": {
    "vscode": {
     "languageId": "r"
    }
   },
   "outputs": [],
   "source": [
    "svg(file = './figures_3/plot_line_part2.svg', width = 20, height = 22)\n",
    "p_line_2\n",
    "dev.off()"
   ]
  },
  {
   "cell_type": "code",
   "execution_count": null,
   "id": "4865ffb0-1f3d-4754-941d-01d683e6a48b",
   "metadata": {
    "vscode": {
     "languageId": "r"
    }
   },
   "outputs": [],
   "source": [
    "png(file = './figures_3/plot_line_part2.png', width = 20, height = 22, units = 'in',res = 300)\n",
    "p_line_2\n",
    "dev.off()"
   ]
  },
  {
   "cell_type": "code",
   "execution_count": null,
   "id": "e8cbc717-20bb-456f-9ac2-7ccd93283e57",
   "metadata": {
    "vscode": {
     "languageId": "r"
    }
   },
   "outputs": [],
   "source": []
  },
  {
   "cell_type": "code",
   "execution_count": null,
   "id": "25bb414f-895a-4135-9ddd-038d10f546a7",
   "metadata": {
    "vscode": {
     "languageId": "r"
    }
   },
   "outputs": [],
   "source": []
  },
  {
   "cell_type": "code",
   "execution_count": null,
   "id": "88539c9c-4bb2-4aa4-b73e-2c79febd32f8",
   "metadata": {
    "vscode": {
     "languageId": "r"
    }
   },
   "outputs": [],
   "source": [
    "ls()"
   ]
  },
  {
   "cell_type": "code",
   "execution_count": null,
   "id": "fd11b510-c937-473f-b792-aac86350b253",
   "metadata": {
    "vscode": {
     "languageId": "r"
    }
   },
   "outputs": [],
   "source": [
    "rm(atlas)"
   ]
  },
  {
   "cell_type": "code",
   "execution_count": null,
   "id": "dfa9623d-3a91-42da-a7bd-13a2832a7b09",
   "metadata": {
    "vscode": {
     "languageId": "r"
    }
   },
   "outputs": [],
   "source": [
    "rm(obj)"
   ]
  },
  {
   "cell_type": "code",
   "execution_count": null,
   "id": "f86f41fb-27a5-43b6-95a5-3c4fc988a308",
   "metadata": {
    "vscode": {
     "languageId": "r"
    }
   },
   "outputs": [],
   "source": [
    "gc()"
   ]
  },
  {
   "cell_type": "code",
   "execution_count": null,
   "id": "72b9b234-4383-41ef-84c8-9fa6e0dd973c",
   "metadata": {
    "vscode": {
     "languageId": "r"
    }
   },
   "outputs": [],
   "source": [
    "# 1. Find all object names containing \"xobj\"\n",
    "objs_to_remove <- ls(envir = .GlobalEnv, pattern = \"xobj\")\n",
    "objs_to_remove\n"
   ]
  },
  {
   "cell_type": "code",
   "execution_count": null,
   "id": "d48ee2ba-d418-4d88-b60e-e81d41d6a8be",
   "metadata": {
    "vscode": {
     "languageId": "r"
    }
   },
   "outputs": [],
   "source": [
    "# 2. Remove them\n",
    "if (length(objs_to_remove) > 0) {\n",
    "  rm(list = objs_to_remove, envir = .GlobalEnv)\n",
    "  message(\"Removed objects: \", paste(objs_to_remove, collapse = \", \"))\n",
    "} else {\n",
    "  message(\"No objects matching 'xobj' found.\")\n",
    "}\n"
   ]
  },
  {
   "cell_type": "code",
   "execution_count": null,
   "id": "61fbc50f-9fcc-4538-a231-59fc7ac812f1",
   "metadata": {
    "vscode": {
     "languageId": "r"
    }
   },
   "outputs": [],
   "source": [
    "gc()"
   ]
  },
  {
   "cell_type": "code",
   "execution_count": null,
   "id": "4fba2606-67ec-49e7-96f8-4bfd38240e72",
   "metadata": {
    "vscode": {
     "languageId": "r"
    }
   },
   "outputs": [],
   "source": [
    "ls()"
   ]
  },
  {
   "cell_type": "code",
   "execution_count": null,
   "id": "56274700-3489-42f8-8851-c311a441fdfc",
   "metadata": {
    "vscode": {
     "languageId": "r"
    }
   },
   "outputs": [],
   "source": [
    "objs_to_remove <- ls(envir = .GlobalEnv, pattern = \"curves\")\n",
    "objs_to_remove\n",
    "\n",
    "# 2. Remove them\n",
    "if (length(objs_to_remove) > 0) {\n",
    "  rm(list = objs_to_remove, envir = .GlobalEnv)\n",
    "  message(\"Removed objects: \", paste(objs_to_remove, collapse = \", \"))\n",
    "} else {\n",
    "  message(\"No objects matching 'xobj' found.\")\n",
    "}\n"
   ]
  },
  {
   "cell_type": "code",
   "execution_count": null,
   "id": "eabd0238-e411-4791-a14f-673dc6da22a8",
   "metadata": {
    "vscode": {
     "languageId": "r"
    }
   },
   "outputs": [],
   "source": [
    "objs_to_remove <- ls(envir = .GlobalEnv, pattern = \"lineages\")\n",
    "objs_to_remove\n",
    "\n",
    "# 2. Remove them\n",
    "if (length(objs_to_remove) > 0) {\n",
    "  rm(list = objs_to_remove, envir = .GlobalEnv)\n",
    "  message(\"Removed objects: \", paste(objs_to_remove, collapse = \", \"))\n",
    "} else {\n",
    "  message(\"No objects matching 'xobj' found.\")\n",
    "}\n"
   ]
  },
  {
   "cell_type": "code",
   "execution_count": null,
   "id": "d71732df-5b2f-4845-afa6-d920dcbc353c",
   "metadata": {
    "vscode": {
     "languageId": "r"
    }
   },
   "outputs": [],
   "source": [
    "gc()"
   ]
  },
  {
   "cell_type": "code",
   "execution_count": null,
   "id": "9c9c39e3-c43e-4365-979a-02cd32efe051",
   "metadata": {
    "vscode": {
     "languageId": "r"
    }
   },
   "outputs": [],
   "source": [
    "ls()"
   ]
  },
  {
   "cell_type": "code",
   "execution_count": null,
   "id": "a6a5efc7-2f15-4356-9d4d-15a58c34ccb0",
   "metadata": {
    "vscode": {
     "languageId": "r"
    }
   },
   "outputs": [],
   "source": [
    "save.image('./figure32.RData')"
   ]
  },
  {
   "cell_type": "code",
   "execution_count": null,
   "id": "011793c7-539a-42e6-a6e2-405cb1913ef7",
   "metadata": {
    "vscode": {
     "languageId": "r"
    }
   },
   "outputs": [],
   "source": [
    "sessionInfo()"
   ]
  },
  {
   "cell_type": "code",
   "execution_count": null,
   "id": "42a90ae1-90cc-4bac-a95a-95e3122076f6",
   "metadata": {
    "vscode": {
     "languageId": "r"
    }
   },
   "outputs": [],
   "source": []
  }
 ],
 "metadata": {
  "kernelspec": {
   "display_name": "R",
   "language": "R",
   "name": "ir"
  },
  "language_info": {
   "codemirror_mode": "r",
   "file_extension": ".r",
   "mimetype": "text/x-r-source",
   "name": "R",
   "pygments_lexer": "r",
   "version": "4.5.1"
  }
 },
 "nbformat": 4,
 "nbformat_minor": 5
}
