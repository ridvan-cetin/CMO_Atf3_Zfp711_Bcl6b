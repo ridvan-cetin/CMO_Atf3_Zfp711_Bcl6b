{
 "cells": [
  {
   "cell_type": "markdown",
   "id": "320421a7-defe-4671-b572-0e9a605864af",
   "metadata": {},
   "source": [
    "# Bcl6b FACS Figures"
   ]
  },
  {
   "cell_type": "code",
   "execution_count": 1,
   "id": "f82bc4ad-1be3-4599-bdb9-2080faff4ed9",
   "metadata": {},
   "outputs": [],
   "source": [
    "# Load necessary libraries\n",
    "suppressPackageStartupMessages({\n",
    "library(ggplot2)\n",
    "library(dplyr)\n",
    "library(reshape2)\n",
    "library(lme4)\n",
    "library(lmerTest)\n",
    "library(tidyr)\n",
    "library(ggsignif)\n",
    "})"
   ]
  },
  {
   "cell_type": "code",
   "execution_count": 2,
   "id": "f2300873-745f-4a6f-9dcb-b1d0e67b70ad",
   "metadata": {},
   "outputs": [],
   "source": [
    "load(file = '../step8_Flow_Cytometry/results/Bcl6b/rdata.rdata')"
   ]
  },
  {
   "cell_type": "code",
   "execution_count": 3,
   "id": "c88c1613-e911-4087-a547-534d498cb845",
   "metadata": {},
   "outputs": [
    {
     "data": {
      "text/html": [
       "<style>\n",
       ".list-inline {list-style: none; margin:0; padding: 0}\n",
       ".list-inline>li {display: inline-block}\n",
       ".list-inline>li:not(:last-child)::after {content: \"\\00b7\"; padding: 0 .5ex}\n",
       "</style>\n",
       "<ol class=list-inline><li>'annotations_df'</li><li>'data'</li><li>'data_Bcl6b_control'</li><li>'data_Bcl6b_control_hr'</li><li>'data_hr'</li><li>'data_melted_mixed'</li><li>'data0'</li><li>'data1'</li><li>'data2'</li><li>'human_readable_names'</li><li>'humanreadble'</li><li>'measurement'</li><li>'measurement_cols'</li><li>'mixed_effects_results'</li><li>'mixed_effects_results_mixed'</li><li>'plot'</li><li>'r3dcol'</li><li>'replace_with_human_readable'</li><li>'result'</li><li>'run_mixed_effects'</li><li>'significance_threshold'</li><li>'significant_mixed_effects'</li><li>'singular_fit_measurements'</li></ol>\n"
      ],
      "text/latex": [
       "\\begin{enumerate*}\n",
       "\\item 'annotations\\_df'\n",
       "\\item 'data'\n",
       "\\item 'data\\_Bcl6b\\_control'\n",
       "\\item 'data\\_Bcl6b\\_control\\_hr'\n",
       "\\item 'data\\_hr'\n",
       "\\item 'data\\_melted\\_mixed'\n",
       "\\item 'data0'\n",
       "\\item 'data1'\n",
       "\\item 'data2'\n",
       "\\item 'human\\_readable\\_names'\n",
       "\\item 'humanreadble'\n",
       "\\item 'measurement'\n",
       "\\item 'measurement\\_cols'\n",
       "\\item 'mixed\\_effects\\_results'\n",
       "\\item 'mixed\\_effects\\_results\\_mixed'\n",
       "\\item 'plot'\n",
       "\\item 'r3dcol'\n",
       "\\item 'replace\\_with\\_human\\_readable'\n",
       "\\item 'result'\n",
       "\\item 'run\\_mixed\\_effects'\n",
       "\\item 'significance\\_threshold'\n",
       "\\item 'significant\\_mixed\\_effects'\n",
       "\\item 'singular\\_fit\\_measurements'\n",
       "\\end{enumerate*}\n"
      ],
      "text/markdown": [
       "1. 'annotations_df'\n",
       "2. 'data'\n",
       "3. 'data_Bcl6b_control'\n",
       "4. 'data_Bcl6b_control_hr'\n",
       "5. 'data_hr'\n",
       "6. 'data_melted_mixed'\n",
       "7. 'data0'\n",
       "8. 'data1'\n",
       "9. 'data2'\n",
       "10. 'human_readable_names'\n",
       "11. 'humanreadble'\n",
       "12. 'measurement'\n",
       "13. 'measurement_cols'\n",
       "14. 'mixed_effects_results'\n",
       "15. 'mixed_effects_results_mixed'\n",
       "16. 'plot'\n",
       "17. 'r3dcol'\n",
       "18. 'replace_with_human_readable'\n",
       "19. 'result'\n",
       "20. 'run_mixed_effects'\n",
       "21. 'significance_threshold'\n",
       "22. 'significant_mixed_effects'\n",
       "23. 'singular_fit_measurements'\n",
       "\n",
       "\n"
      ],
      "text/plain": [
       " [1] \"annotations_df\"              \"data\"                       \n",
       " [3] \"data_Bcl6b_control\"          \"data_Bcl6b_control_hr\"      \n",
       " [5] \"data_hr\"                     \"data_melted_mixed\"          \n",
       " [7] \"data0\"                       \"data1\"                      \n",
       " [9] \"data2\"                       \"human_readable_names\"       \n",
       "[11] \"humanreadble\"                \"measurement\"                \n",
       "[13] \"measurement_cols\"            \"mixed_effects_results\"      \n",
       "[15] \"mixed_effects_results_mixed\" \"plot\"                       \n",
       "[17] \"r3dcol\"                      \"replace_with_human_readable\"\n",
       "[19] \"result\"                      \"run_mixed_effects\"          \n",
       "[21] \"significance_threshold\"      \"significant_mixed_effects\"  \n",
       "[23] \"singular_fit_measurements\"  "
      ]
     },
     "metadata": {},
     "output_type": "display_data"
    }
   ],
   "source": [
    "ls()"
   ]
  },
  {
   "cell_type": "code",
   "execution_count": 4,
   "id": "00057095-cedd-4e13-a4a3-e9c4edca694f",
   "metadata": {},
   "outputs": [
    {
     "data": {
      "text/html": [
       "<table class=\"dataframe\">\n",
       "<caption>A data.frame: 6 × 26</caption>\n",
       "<thead>\n",
       "\t<tr><th></th><th scope=col>Measurement_hr</th><th scope=col>Samples0</th><th scope=col>Samples1</th><th scope=col>Samples2</th><th scope=col>Samples3</th><th scope=col>Conditions</th><th scope=col>DifferentiationA</th><th scope=col>DifferentiationB</th><th scope=col>DifferentiationC</th><th scope=col>Value</th><th scope=col>⋯</th><th scope=col>Overall_Mean</th><th scope=col>SD</th><th scope=col>Median</th><th scope=col>IQR</th><th scope=col>AIC</th><th scope=col>BIC</th><th scope=col>Effect_Size</th><th scope=col>CI_Lower</th><th scope=col>CI_Upper</th><th scope=col>Significance</th></tr>\n",
       "\t<tr><th></th><th scope=col>&lt;fct&gt;</th><th scope=col>&lt;fct&gt;</th><th scope=col>&lt;fct&gt;</th><th scope=col>&lt;fct&gt;</th><th scope=col>&lt;fct&gt;</th><th scope=col>&lt;fct&gt;</th><th scope=col>&lt;fct&gt;</th><th scope=col>&lt;fct&gt;</th><th scope=col>&lt;fct&gt;</th><th scope=col>&lt;dbl&gt;</th><th scope=col>⋯</th><th scope=col>&lt;dbl&gt;</th><th scope=col>&lt;dbl&gt;</th><th scope=col>&lt;dbl&gt;</th><th scope=col>&lt;dbl&gt;</th><th scope=col>&lt;dbl&gt;</th><th scope=col>&lt;dbl&gt;</th><th scope=col>&lt;dbl&gt;</th><th scope=col>&lt;dbl&gt;</th><th scope=col>&lt;dbl&gt;</th><th scope=col>&lt;fct&gt;</th></tr>\n",
       "</thead>\n",
       "<tbody>\n",
       "\t<tr><th scope=row>1</th><td>CD41+</td><td>Bcl6b_bA12</td><td>Bcl6b c1</td><td>Bcl6b KO Clone 1</td><td>Bcl6b KO c1</td><td>Bcl6b KO</td><td>Differentiation 1</td><td>diff. 1</td><td>Diff. 1</td><td> 3.61</td><td>⋯</td><td>14.22552</td><td>9.84082</td><td>11.6</td><td>11.52</td><td>194.9363</td><td>200.4054</td><td>-2.108991</td><td>4.768128</td><td>8.247384</td><td>n.s.</td></tr>\n",
       "\t<tr><th scope=row>2</th><td>CD41+</td><td>Bcl6b_bB7 </td><td>Bcl6b c2</td><td>Bcl6b KO Clone 2</td><td>Bcl6b KO c2</td><td>Bcl6b KO</td><td>Differentiation 1</td><td>diff. 1</td><td>Diff. 1</td><td>11.00</td><td>⋯</td><td>14.22552</td><td>9.84082</td><td>11.6</td><td>11.52</td><td>194.9363</td><td>200.4054</td><td>-2.108991</td><td>4.768128</td><td>8.247384</td><td>n.s.</td></tr>\n",
       "\t<tr><th scope=row>3</th><td>CD41+</td><td>Bcl6b_bC8 </td><td>Bcl6b c3</td><td>Bcl6b KO Clone 3</td><td>Bcl6b KO c3</td><td>Bcl6b KO</td><td>Differentiation 1</td><td>diff. 1</td><td>Diff. 1</td><td> 6.08</td><td>⋯</td><td>14.22552</td><td>9.84082</td><td>11.6</td><td>11.52</td><td>194.9363</td><td>200.4054</td><td>-2.108991</td><td>4.768128</td><td>8.247384</td><td>n.s.</td></tr>\n",
       "\t<tr><th scope=row>4</th><td>CD41+</td><td>Bcl6b_bC3 </td><td>Bcl6b c4</td><td>Bcl6b KO Clone 4</td><td>Bcl6b KO c4</td><td>Bcl6b KO</td><td>Differentiation 1</td><td>diff. 1</td><td>Diff. 1</td><td>11.60</td><td>⋯</td><td>14.22552</td><td>9.84082</td><td>11.6</td><td>11.52</td><td>194.9363</td><td>200.4054</td><td>-2.108991</td><td>4.768128</td><td>8.247384</td><td>n.s.</td></tr>\n",
       "\t<tr><th scope=row>5</th><td>CD41+</td><td>NT_ntZA5  </td><td>NT c1   </td><td>NT WT Clone 1   </td><td>NT WT c1   </td><td>NT WT   </td><td>Differentiation 1</td><td>diff. 1</td><td>Diff. 1</td><td>   NA</td><td>⋯</td><td>14.22552</td><td>9.84082</td><td>11.6</td><td>11.52</td><td>194.9363</td><td>200.4054</td><td>-2.108991</td><td>4.768128</td><td>8.247384</td><td>n.s.</td></tr>\n",
       "\t<tr><th scope=row>6</th><td>CD41+</td><td>NT_ntZA3  </td><td>NT c2   </td><td>NT WT Clone 2   </td><td>NT WT c2   </td><td>NT WT   </td><td>Differentiation 1</td><td>diff. 1</td><td>Diff. 1</td><td>10.90</td><td>⋯</td><td>14.22552</td><td>9.84082</td><td>11.6</td><td>11.52</td><td>194.9363</td><td>200.4054</td><td>-2.108991</td><td>4.768128</td><td>8.247384</td><td>n.s.</td></tr>\n",
       "</tbody>\n",
       "</table>\n"
      ],
      "text/latex": [
       "A data.frame: 6 × 26\n",
       "\\begin{tabular}{r|lllllllllllllllllllll}\n",
       "  & Measurement\\_hr & Samples0 & Samples1 & Samples2 & Samples3 & Conditions & DifferentiationA & DifferentiationB & DifferentiationC & Value & ⋯ & Overall\\_Mean & SD & Median & IQR & AIC & BIC & Effect\\_Size & CI\\_Lower & CI\\_Upper & Significance\\\\\n",
       "  & <fct> & <fct> & <fct> & <fct> & <fct> & <fct> & <fct> & <fct> & <fct> & <dbl> & ⋯ & <dbl> & <dbl> & <dbl> & <dbl> & <dbl> & <dbl> & <dbl> & <dbl> & <dbl> & <fct>\\\\\n",
       "\\hline\n",
       "\t1 & CD41+ & Bcl6b\\_bA12 & Bcl6b c1 & Bcl6b KO Clone 1 & Bcl6b KO c1 & Bcl6b KO & Differentiation 1 & diff. 1 & Diff. 1 &  3.61 & ⋯ & 14.22552 & 9.84082 & 11.6 & 11.52 & 194.9363 & 200.4054 & -2.108991 & 4.768128 & 8.247384 & n.s.\\\\\n",
       "\t2 & CD41+ & Bcl6b\\_bB7  & Bcl6b c2 & Bcl6b KO Clone 2 & Bcl6b KO c2 & Bcl6b KO & Differentiation 1 & diff. 1 & Diff. 1 & 11.00 & ⋯ & 14.22552 & 9.84082 & 11.6 & 11.52 & 194.9363 & 200.4054 & -2.108991 & 4.768128 & 8.247384 & n.s.\\\\\n",
       "\t3 & CD41+ & Bcl6b\\_bC8  & Bcl6b c3 & Bcl6b KO Clone 3 & Bcl6b KO c3 & Bcl6b KO & Differentiation 1 & diff. 1 & Diff. 1 &  6.08 & ⋯ & 14.22552 & 9.84082 & 11.6 & 11.52 & 194.9363 & 200.4054 & -2.108991 & 4.768128 & 8.247384 & n.s.\\\\\n",
       "\t4 & CD41+ & Bcl6b\\_bC3  & Bcl6b c4 & Bcl6b KO Clone 4 & Bcl6b KO c4 & Bcl6b KO & Differentiation 1 & diff. 1 & Diff. 1 & 11.60 & ⋯ & 14.22552 & 9.84082 & 11.6 & 11.52 & 194.9363 & 200.4054 & -2.108991 & 4.768128 & 8.247384 & n.s.\\\\\n",
       "\t5 & CD41+ & NT\\_ntZA5   & NT c1    & NT WT Clone 1    & NT WT c1    & NT WT    & Differentiation 1 & diff. 1 & Diff. 1 &    NA & ⋯ & 14.22552 & 9.84082 & 11.6 & 11.52 & 194.9363 & 200.4054 & -2.108991 & 4.768128 & 8.247384 & n.s.\\\\\n",
       "\t6 & CD41+ & NT\\_ntZA3   & NT c2    & NT WT Clone 2    & NT WT c2    & NT WT    & Differentiation 1 & diff. 1 & Diff. 1 & 10.90 & ⋯ & 14.22552 & 9.84082 & 11.6 & 11.52 & 194.9363 & 200.4054 & -2.108991 & 4.768128 & 8.247384 & n.s.\\\\\n",
       "\\end{tabular}\n"
      ],
      "text/markdown": [
       "\n",
       "A data.frame: 6 × 26\n",
       "\n",
       "| <!--/--> | Measurement_hr &lt;fct&gt; | Samples0 &lt;fct&gt; | Samples1 &lt;fct&gt; | Samples2 &lt;fct&gt; | Samples3 &lt;fct&gt; | Conditions &lt;fct&gt; | DifferentiationA &lt;fct&gt; | DifferentiationB &lt;fct&gt; | DifferentiationC &lt;fct&gt; | Value &lt;dbl&gt; | ⋯ ⋯ | Overall_Mean &lt;dbl&gt; | SD &lt;dbl&gt; | Median &lt;dbl&gt; | IQR &lt;dbl&gt; | AIC &lt;dbl&gt; | BIC &lt;dbl&gt; | Effect_Size &lt;dbl&gt; | CI_Lower &lt;dbl&gt; | CI_Upper &lt;dbl&gt; | Significance &lt;fct&gt; |\n",
       "|---|---|---|---|---|---|---|---|---|---|---|---|---|---|---|---|---|---|---|---|---|---|\n",
       "| 1 | CD41+ | Bcl6b_bA12 | Bcl6b c1 | Bcl6b KO Clone 1 | Bcl6b KO c1 | Bcl6b KO | Differentiation 1 | diff. 1 | Diff. 1 |  3.61 | ⋯ | 14.22552 | 9.84082 | 11.6 | 11.52 | 194.9363 | 200.4054 | -2.108991 | 4.768128 | 8.247384 | n.s. |\n",
       "| 2 | CD41+ | Bcl6b_bB7  | Bcl6b c2 | Bcl6b KO Clone 2 | Bcl6b KO c2 | Bcl6b KO | Differentiation 1 | diff. 1 | Diff. 1 | 11.00 | ⋯ | 14.22552 | 9.84082 | 11.6 | 11.52 | 194.9363 | 200.4054 | -2.108991 | 4.768128 | 8.247384 | n.s. |\n",
       "| 3 | CD41+ | Bcl6b_bC8  | Bcl6b c3 | Bcl6b KO Clone 3 | Bcl6b KO c3 | Bcl6b KO | Differentiation 1 | diff. 1 | Diff. 1 |  6.08 | ⋯ | 14.22552 | 9.84082 | 11.6 | 11.52 | 194.9363 | 200.4054 | -2.108991 | 4.768128 | 8.247384 | n.s. |\n",
       "| 4 | CD41+ | Bcl6b_bC3  | Bcl6b c4 | Bcl6b KO Clone 4 | Bcl6b KO c4 | Bcl6b KO | Differentiation 1 | diff. 1 | Diff. 1 | 11.60 | ⋯ | 14.22552 | 9.84082 | 11.6 | 11.52 | 194.9363 | 200.4054 | -2.108991 | 4.768128 | 8.247384 | n.s. |\n",
       "| 5 | CD41+ | NT_ntZA5   | NT c1    | NT WT Clone 1    | NT WT c1    | NT WT    | Differentiation 1 | diff. 1 | Diff. 1 |    NA | ⋯ | 14.22552 | 9.84082 | 11.6 | 11.52 | 194.9363 | 200.4054 | -2.108991 | 4.768128 | 8.247384 | n.s. |\n",
       "| 6 | CD41+ | NT_ntZA3   | NT c2    | NT WT Clone 2    | NT WT c2    | NT WT    | Differentiation 1 | diff. 1 | Diff. 1 | 10.90 | ⋯ | 14.22552 | 9.84082 | 11.6 | 11.52 | 194.9363 | 200.4054 | -2.108991 | 4.768128 | 8.247384 | n.s. |\n",
       "\n"
      ],
      "text/plain": [
       "  Measurement_hr Samples0   Samples1 Samples2         Samples3    Conditions\n",
       "1 CD41+          Bcl6b_bA12 Bcl6b c1 Bcl6b KO Clone 1 Bcl6b KO c1 Bcl6b KO  \n",
       "2 CD41+          Bcl6b_bB7  Bcl6b c2 Bcl6b KO Clone 2 Bcl6b KO c2 Bcl6b KO  \n",
       "3 CD41+          Bcl6b_bC8  Bcl6b c3 Bcl6b KO Clone 3 Bcl6b KO c3 Bcl6b KO  \n",
       "4 CD41+          Bcl6b_bC3  Bcl6b c4 Bcl6b KO Clone 4 Bcl6b KO c4 Bcl6b KO  \n",
       "5 CD41+          NT_ntZA5   NT c1    NT WT Clone 1    NT WT c1    NT WT     \n",
       "6 CD41+          NT_ntZA3   NT c2    NT WT Clone 2    NT WT c2    NT WT     \n",
       "  DifferentiationA  DifferentiationB DifferentiationC Value ⋯ Overall_Mean\n",
       "1 Differentiation 1 diff. 1          Diff. 1           3.61 ⋯ 14.22552    \n",
       "2 Differentiation 1 diff. 1          Diff. 1          11.00 ⋯ 14.22552    \n",
       "3 Differentiation 1 diff. 1          Diff. 1           6.08 ⋯ 14.22552    \n",
       "4 Differentiation 1 diff. 1          Diff. 1          11.60 ⋯ 14.22552    \n",
       "5 Differentiation 1 diff. 1          Diff. 1             NA ⋯ 14.22552    \n",
       "6 Differentiation 1 diff. 1          Diff. 1          10.90 ⋯ 14.22552    \n",
       "  SD      Median IQR   AIC      BIC      Effect_Size CI_Lower CI_Upper\n",
       "1 9.84082 11.6   11.52 194.9363 200.4054 -2.108991   4.768128 8.247384\n",
       "2 9.84082 11.6   11.52 194.9363 200.4054 -2.108991   4.768128 8.247384\n",
       "3 9.84082 11.6   11.52 194.9363 200.4054 -2.108991   4.768128 8.247384\n",
       "4 9.84082 11.6   11.52 194.9363 200.4054 -2.108991   4.768128 8.247384\n",
       "5 9.84082 11.6   11.52 194.9363 200.4054 -2.108991   4.768128 8.247384\n",
       "6 9.84082 11.6   11.52 194.9363 200.4054 -2.108991   4.768128 8.247384\n",
       "  Significance\n",
       "1 n.s.        \n",
       "2 n.s.        \n",
       "3 n.s.        \n",
       "4 n.s.        \n",
       "5 n.s.        \n",
       "6 n.s.        "
      ]
     },
     "metadata": {},
     "output_type": "display_data"
    }
   ],
   "source": [
    "head(data_melted_mixed)"
   ]
  },
  {
   "cell_type": "code",
   "execution_count": 5,
   "id": "fc4262c4-ad21-4fd6-8c8f-53a158b10928",
   "metadata": {},
   "outputs": [],
   "source": [
    "# Make sure Conditions is a factor and levels are correct:\n",
    "data_melted_mixed$Conditions <- factor(data_melted_mixed$Conditions)\n",
    "\n",
    "# Calculate y position above both boxes (use max value for either condition)\n",
    "annotations_df <- data_melted_mixed %>%\n",
    "  group_by(Measurement_hr) %>%\n",
    "  summarize(\n",
    "    y_position = max(Value, na.rm = TRUE) * 1.14,\n",
    "    Significance = first(Significance),    # Replace with your p-value/asterisk\n",
    "    .groups = \"drop\"\n",
    "  )\n",
    "\n",
    "# Get numeric positions for the two conditions\n",
    "cond_levels <- levels(data_melted_mixed$Conditions)\n",
    "x1 <- cond_levels[1]\n",
    "x2 <- cond_levels[2]\n"
   ]
  },
  {
   "cell_type": "code",
   "execution_count": 6,
   "id": "c590b800-32c0-4cd5-bda4-739ba3f17492",
   "metadata": {},
   "outputs": [],
   "source": [
    "library(dplyr)\n",
    "\n",
    "annotations_df <- data_melted_mixed %>%\n",
    "  group_by(Measurement_hr) %>%\n",
    "  summarize(\n",
    "    y_position = max(Value, na.rm = TRUE) + 10,\n",
    "    Significance = first(Significance),    # Replace with your actual test result if needed\n",
    "    .groups = \"drop\"\n",
    "  ) %>%\n",
    "  mutate(size = ifelse(Significance %in% c(\"n.s.\", \"ns\", \"NS\", \"N.S.\"), 3.5, 6))  # Adjust sizes as you like\n"
   ]
  },
  {
   "cell_type": "code",
   "execution_count": 7,
   "id": "92116e19-c45b-4620-9f37-8765c6d6c7e2",
   "metadata": {},
   "outputs": [
    {
     "data": {
      "text/html": [
       "<table class=\"dataframe\">\n",
       "<caption>A tibble: 41 × 4</caption>\n",
       "<thead>\n",
       "\t<tr><th scope=col>Measurement_hr</th><th scope=col>y_position</th><th scope=col>Significance</th><th scope=col>size</th></tr>\n",
       "\t<tr><th scope=col>&lt;fct&gt;</th><th scope=col>&lt;dbl&gt;</th><th scope=col>&lt;fct&gt;</th><th scope=col>&lt;dbl&gt;</th></tr>\n",
       "</thead>\n",
       "<tbody>\n",
       "\t<tr><td>Flk1+ Pdgfra+         </td><td> 46.40</td><td>n.s.</td><td>3.5</td></tr>\n",
       "\t<tr><td>Flk1+ Pdgfra-         </td><td> 50.80</td><td>n.s.</td><td>3.5</td></tr>\n",
       "\t<tr><td>Flk1- Pdgfra+ (Day4)  </td><td> 38.40</td><td>n.s.</td><td>3.5</td></tr>\n",
       "\t<tr><td>Flk1- Pdgfra-         </td><td> 75.60</td><td>n.s.</td><td>3.5</td></tr>\n",
       "\t<tr><td>Flk1+ (I)             </td><td> 86.50</td><td>n.s.</td><td>3.5</td></tr>\n",
       "\t<tr><td>Pdgfra+               </td><td> 57.80</td><td>n.s.</td><td>3.5</td></tr>\n",
       "\t<tr><td>Flk1+ Tek+            </td><td> 33.80</td><td>n.s.</td><td>3.5</td></tr>\n",
       "\t<tr><td>Flk1+ Tek-            </td><td> 66.20</td><td>n.s.</td><td>3.5</td></tr>\n",
       "\t<tr><td>Flk1- Tek+            </td><td> 96.50</td><td>NA  </td><td>6.0</td></tr>\n",
       "\t<tr><td>Flk1- Tek-            </td><td> 57.10</td><td>*   </td><td>6.0</td></tr>\n",
       "\t<tr><td>Flk1+ Tek+ (I)        </td><td> 13.38</td><td>n.s.</td><td>3.5</td></tr>\n",
       "\t<tr><td>Flk1+ (II)            </td><td> 77.70</td><td>n.s.</td><td>3.5</td></tr>\n",
       "\t<tr><td>Tek+                  </td><td>109.60</td><td>n.s.</td><td>3.5</td></tr>\n",
       "\t<tr><td>Icam2+ Cdh5+          </td><td> 12.38</td><td>n.s.</td><td>3.5</td></tr>\n",
       "\t<tr><td>Icam2+ Cdh5-          </td><td> 10.85</td><td>n.s.</td><td>3.5</td></tr>\n",
       "\t<tr><td>Icam2- Cdh5+          </td><td> 15.35</td><td>n.s.</td><td>3.5</td></tr>\n",
       "\t<tr><td>Icam2- Cdh5-          </td><td>106.80</td><td>n.s.</td><td>3.5</td></tr>\n",
       "\t<tr><td>Icam2+                </td><td> 13.17</td><td>n.s.</td><td>3.5</td></tr>\n",
       "\t<tr><td>Cdh5+                 </td><td> 16.15</td><td>NA  </td><td>6.0</td></tr>\n",
       "\t<tr><td>CD45+ CD93+           </td><td> 11.07</td><td>n.s.</td><td>3.5</td></tr>\n",
       "\t<tr><td>CD45+ CD93-           </td><td> 21.80</td><td>n.s.</td><td>3.5</td></tr>\n",
       "\t<tr><td>CD45- CD93+           </td><td> 11.33</td><td>NA  </td><td>6.0</td></tr>\n",
       "\t<tr><td>CD45- CD93-           </td><td>109.10</td><td>n.s.</td><td>3.5</td></tr>\n",
       "\t<tr><td>CD45+                 </td><td> 22.70</td><td>n.s.</td><td>3.5</td></tr>\n",
       "\t<tr><td>CD93+                 </td><td> 11.91</td><td>n.s.</td><td>3.5</td></tr>\n",
       "\t<tr><td>CD45+ (II)            </td><td> 19.79</td><td>n.s.</td><td>3.5</td></tr>\n",
       "\t<tr><td>CD45+ (I)             </td><td> 14.99</td><td>n.s.</td><td>3.5</td></tr>\n",
       "\t<tr><td>Pdgfra+ Pdgfrab+ (I)  </td><td> 97.30</td><td>n.s.</td><td>3.5</td></tr>\n",
       "\t<tr><td>Pdgfra+ Pdgfrab+ (II) </td><td> 92.80</td><td>n.s.</td><td>3.5</td></tr>\n",
       "\t<tr><td>Pdgfra+ Pdgfrab+ (III)</td><td> 77.70</td><td>n.s.</td><td>3.5</td></tr>\n",
       "\t<tr><td>Pdgfra+ (Day7)        </td><td> 99.10</td><td>n.s.</td><td>3.5</td></tr>\n",
       "\t<tr><td>Pdgfrb+               </td><td> 98.70</td><td>n.s.</td><td>3.5</td></tr>\n",
       "\t<tr><td>CD71+                 </td><td> 40.40</td><td>n.s.</td><td>3.5</td></tr>\n",
       "\t<tr><td>CD41+                 </td><td> 48.80</td><td>n.s.</td><td>3.5</td></tr>\n",
       "\t<tr><td>CD41+ (I)             </td><td> 22.00</td><td>n.s.</td><td>3.5</td></tr>\n",
       "\t<tr><td>CD41+ (II)            </td><td> 36.70</td><td>n.s.</td><td>3.5</td></tr>\n",
       "\t<tr><td>CD41+ CD71+ (L)       </td><td> 41.70</td><td>n.s.</td><td>3.5</td></tr>\n",
       "\t<tr><td>CD41+ CD71+ (LA)      </td><td> 54.70</td><td>NA  </td><td>6.0</td></tr>\n",
       "\t<tr><td>CD41+ CD71            </td><td> 19.66</td><td>NA  </td><td>6.0</td></tr>\n",
       "\t<tr><td>CD71+ CD41-           </td><td> 32.40</td><td>n.s.</td><td>3.5</td></tr>\n",
       "\t<tr><td>CD41+ CD71-           </td><td> 22.80</td><td>NA  </td><td>6.0</td></tr>\n",
       "</tbody>\n",
       "</table>\n"
      ],
      "text/latex": [
       "A tibble: 41 × 4\n",
       "\\begin{tabular}{llll}\n",
       " Measurement\\_hr & y\\_position & Significance & size\\\\\n",
       " <fct> & <dbl> & <fct> & <dbl>\\\\\n",
       "\\hline\n",
       "\t Flk1+ Pdgfra+          &  46.40 & n.s. & 3.5\\\\\n",
       "\t Flk1+ Pdgfra-          &  50.80 & n.s. & 3.5\\\\\n",
       "\t Flk1- Pdgfra+ (Day4)   &  38.40 & n.s. & 3.5\\\\\n",
       "\t Flk1- Pdgfra-          &  75.60 & n.s. & 3.5\\\\\n",
       "\t Flk1+ (I)              &  86.50 & n.s. & 3.5\\\\\n",
       "\t Pdgfra+                &  57.80 & n.s. & 3.5\\\\\n",
       "\t Flk1+ Tek+             &  33.80 & n.s. & 3.5\\\\\n",
       "\t Flk1+ Tek-             &  66.20 & n.s. & 3.5\\\\\n",
       "\t Flk1- Tek+             &  96.50 & NA   & 6.0\\\\\n",
       "\t Flk1- Tek-             &  57.10 & *    & 6.0\\\\\n",
       "\t Flk1+ Tek+ (I)         &  13.38 & n.s. & 3.5\\\\\n",
       "\t Flk1+ (II)             &  77.70 & n.s. & 3.5\\\\\n",
       "\t Tek+                   & 109.60 & n.s. & 3.5\\\\\n",
       "\t Icam2+ Cdh5+           &  12.38 & n.s. & 3.5\\\\\n",
       "\t Icam2+ Cdh5-           &  10.85 & n.s. & 3.5\\\\\n",
       "\t Icam2- Cdh5+           &  15.35 & n.s. & 3.5\\\\\n",
       "\t Icam2- Cdh5-           & 106.80 & n.s. & 3.5\\\\\n",
       "\t Icam2+                 &  13.17 & n.s. & 3.5\\\\\n",
       "\t Cdh5+                  &  16.15 & NA   & 6.0\\\\\n",
       "\t CD45+ CD93+            &  11.07 & n.s. & 3.5\\\\\n",
       "\t CD45+ CD93-            &  21.80 & n.s. & 3.5\\\\\n",
       "\t CD45- CD93+            &  11.33 & NA   & 6.0\\\\\n",
       "\t CD45- CD93-            & 109.10 & n.s. & 3.5\\\\\n",
       "\t CD45+                  &  22.70 & n.s. & 3.5\\\\\n",
       "\t CD93+                  &  11.91 & n.s. & 3.5\\\\\n",
       "\t CD45+ (II)             &  19.79 & n.s. & 3.5\\\\\n",
       "\t CD45+ (I)              &  14.99 & n.s. & 3.5\\\\\n",
       "\t Pdgfra+ Pdgfrab+ (I)   &  97.30 & n.s. & 3.5\\\\\n",
       "\t Pdgfra+ Pdgfrab+ (II)  &  92.80 & n.s. & 3.5\\\\\n",
       "\t Pdgfra+ Pdgfrab+ (III) &  77.70 & n.s. & 3.5\\\\\n",
       "\t Pdgfra+ (Day7)         &  99.10 & n.s. & 3.5\\\\\n",
       "\t Pdgfrb+                &  98.70 & n.s. & 3.5\\\\\n",
       "\t CD71+                  &  40.40 & n.s. & 3.5\\\\\n",
       "\t CD41+                  &  48.80 & n.s. & 3.5\\\\\n",
       "\t CD41+ (I)              &  22.00 & n.s. & 3.5\\\\\n",
       "\t CD41+ (II)             &  36.70 & n.s. & 3.5\\\\\n",
       "\t CD41+ CD71+ (L)        &  41.70 & n.s. & 3.5\\\\\n",
       "\t CD41+ CD71+ (LA)       &  54.70 & NA   & 6.0\\\\\n",
       "\t CD41+ CD71             &  19.66 & NA   & 6.0\\\\\n",
       "\t CD71+ CD41-            &  32.40 & n.s. & 3.5\\\\\n",
       "\t CD41+ CD71-            &  22.80 & NA   & 6.0\\\\\n",
       "\\end{tabular}\n"
      ],
      "text/markdown": [
       "\n",
       "A tibble: 41 × 4\n",
       "\n",
       "| Measurement_hr &lt;fct&gt; | y_position &lt;dbl&gt; | Significance &lt;fct&gt; | size &lt;dbl&gt; |\n",
       "|---|---|---|---|\n",
       "| Flk1+ Pdgfra+          |  46.40 | n.s. | 3.5 |\n",
       "| Flk1+ Pdgfra-          |  50.80 | n.s. | 3.5 |\n",
       "| Flk1- Pdgfra+ (Day4)   |  38.40 | n.s. | 3.5 |\n",
       "| Flk1- Pdgfra-          |  75.60 | n.s. | 3.5 |\n",
       "| Flk1+ (I)              |  86.50 | n.s. | 3.5 |\n",
       "| Pdgfra+                |  57.80 | n.s. | 3.5 |\n",
       "| Flk1+ Tek+             |  33.80 | n.s. | 3.5 |\n",
       "| Flk1+ Tek-             |  66.20 | n.s. | 3.5 |\n",
       "| Flk1- Tek+             |  96.50 | NA   | 6.0 |\n",
       "| Flk1- Tek-             |  57.10 | *    | 6.0 |\n",
       "| Flk1+ Tek+ (I)         |  13.38 | n.s. | 3.5 |\n",
       "| Flk1+ (II)             |  77.70 | n.s. | 3.5 |\n",
       "| Tek+                   | 109.60 | n.s. | 3.5 |\n",
       "| Icam2+ Cdh5+           |  12.38 | n.s. | 3.5 |\n",
       "| Icam2+ Cdh5-           |  10.85 | n.s. | 3.5 |\n",
       "| Icam2- Cdh5+           |  15.35 | n.s. | 3.5 |\n",
       "| Icam2- Cdh5-           | 106.80 | n.s. | 3.5 |\n",
       "| Icam2+                 |  13.17 | n.s. | 3.5 |\n",
       "| Cdh5+                  |  16.15 | NA   | 6.0 |\n",
       "| CD45+ CD93+            |  11.07 | n.s. | 3.5 |\n",
       "| CD45+ CD93-            |  21.80 | n.s. | 3.5 |\n",
       "| CD45- CD93+            |  11.33 | NA   | 6.0 |\n",
       "| CD45- CD93-            | 109.10 | n.s. | 3.5 |\n",
       "| CD45+                  |  22.70 | n.s. | 3.5 |\n",
       "| CD93+                  |  11.91 | n.s. | 3.5 |\n",
       "| CD45+ (II)             |  19.79 | n.s. | 3.5 |\n",
       "| CD45+ (I)              |  14.99 | n.s. | 3.5 |\n",
       "| Pdgfra+ Pdgfrab+ (I)   |  97.30 | n.s. | 3.5 |\n",
       "| Pdgfra+ Pdgfrab+ (II)  |  92.80 | n.s. | 3.5 |\n",
       "| Pdgfra+ Pdgfrab+ (III) |  77.70 | n.s. | 3.5 |\n",
       "| Pdgfra+ (Day7)         |  99.10 | n.s. | 3.5 |\n",
       "| Pdgfrb+                |  98.70 | n.s. | 3.5 |\n",
       "| CD71+                  |  40.40 | n.s. | 3.5 |\n",
       "| CD41+                  |  48.80 | n.s. | 3.5 |\n",
       "| CD41+ (I)              |  22.00 | n.s. | 3.5 |\n",
       "| CD41+ (II)             |  36.70 | n.s. | 3.5 |\n",
       "| CD41+ CD71+ (L)        |  41.70 | n.s. | 3.5 |\n",
       "| CD41+ CD71+ (LA)       |  54.70 | NA   | 6.0 |\n",
       "| CD41+ CD71             |  19.66 | NA   | 6.0 |\n",
       "| CD71+ CD41-            |  32.40 | n.s. | 3.5 |\n",
       "| CD41+ CD71-            |  22.80 | NA   | 6.0 |\n",
       "\n"
      ],
      "text/plain": [
       "   Measurement_hr         y_position Significance size\n",
       "1  Flk1+ Pdgfra+           46.40     n.s.         3.5 \n",
       "2  Flk1+ Pdgfra-           50.80     n.s.         3.5 \n",
       "3  Flk1- Pdgfra+ (Day4)    38.40     n.s.         3.5 \n",
       "4  Flk1- Pdgfra-           75.60     n.s.         3.5 \n",
       "5  Flk1+ (I)               86.50     n.s.         3.5 \n",
       "6  Pdgfra+                 57.80     n.s.         3.5 \n",
       "7  Flk1+ Tek+              33.80     n.s.         3.5 \n",
       "8  Flk1+ Tek-              66.20     n.s.         3.5 \n",
       "9  Flk1- Tek+              96.50     NA           6.0 \n",
       "10 Flk1- Tek-              57.10     *            6.0 \n",
       "11 Flk1+ Tek+ (I)          13.38     n.s.         3.5 \n",
       "12 Flk1+ (II)              77.70     n.s.         3.5 \n",
       "13 Tek+                   109.60     n.s.         3.5 \n",
       "14 Icam2+ Cdh5+            12.38     n.s.         3.5 \n",
       "15 Icam2+ Cdh5-            10.85     n.s.         3.5 \n",
       "16 Icam2- Cdh5+            15.35     n.s.         3.5 \n",
       "17 Icam2- Cdh5-           106.80     n.s.         3.5 \n",
       "18 Icam2+                  13.17     n.s.         3.5 \n",
       "19 Cdh5+                   16.15     NA           6.0 \n",
       "20 CD45+ CD93+             11.07     n.s.         3.5 \n",
       "21 CD45+ CD93-             21.80     n.s.         3.5 \n",
       "22 CD45- CD93+             11.33     NA           6.0 \n",
       "23 CD45- CD93-            109.10     n.s.         3.5 \n",
       "24 CD45+                   22.70     n.s.         3.5 \n",
       "25 CD93+                   11.91     n.s.         3.5 \n",
       "26 CD45+ (II)              19.79     n.s.         3.5 \n",
       "27 CD45+ (I)               14.99     n.s.         3.5 \n",
       "28 Pdgfra+ Pdgfrab+ (I)    97.30     n.s.         3.5 \n",
       "29 Pdgfra+ Pdgfrab+ (II)   92.80     n.s.         3.5 \n",
       "30 Pdgfra+ Pdgfrab+ (III)  77.70     n.s.         3.5 \n",
       "31 Pdgfra+ (Day7)          99.10     n.s.         3.5 \n",
       "32 Pdgfrb+                 98.70     n.s.         3.5 \n",
       "33 CD71+                   40.40     n.s.         3.5 \n",
       "34 CD41+                   48.80     n.s.         3.5 \n",
       "35 CD41+ (I)               22.00     n.s.         3.5 \n",
       "36 CD41+ (II)              36.70     n.s.         3.5 \n",
       "37 CD41+ CD71+ (L)         41.70     n.s.         3.5 \n",
       "38 CD41+ CD71+ (LA)        54.70     NA           6.0 \n",
       "39 CD41+ CD71              19.66     NA           6.0 \n",
       "40 CD71+ CD41-             32.40     n.s.         3.5 \n",
       "41 CD41+ CD71-             22.80     NA           6.0 "
      ]
     },
     "metadata": {},
     "output_type": "display_data"
    }
   ],
   "source": [
    "annotations_df"
   ]
  },
  {
   "cell_type": "code",
   "execution_count": 8,
   "id": "79ead5c9-f26e-4e7c-8527-4cbfadbb40b1",
   "metadata": {},
   "outputs": [],
   "source": [
    "library(dplyr)\n",
    "\n",
    "data_plot <- data_melted_mixed %>%\n",
    "  filter(!Measurement_hr %in% c())\n"
   ]
  },
  {
   "cell_type": "code",
   "execution_count": 9,
   "id": "995fcc3a-03a2-483f-a9c1-a43084df39e1",
   "metadata": {},
   "outputs": [],
   "source": [
    "annotations_df <- data_plot %>%\n",
    "  group_by(Measurement_hr) %>%\n",
    "  summarize(\n",
    "    y_position = (max(Value, na.rm = TRUE) * 1.04)+2,\n",
    "    Significance = first(Significance),\n",
    "    .groups = \"drop\"\n",
    "  ) %>%\n",
    "  mutate(size = ifelse(Significance %in% c(\"n.s.\", \"ns\", \"NS\", \"N.S.\"), 3.5, 6))"
   ]
  },
  {
   "cell_type": "code",
   "execution_count": 10,
   "id": "e8ad1b61-e7b3-41e8-9dc4-2bdc2b02f82a",
   "metadata": {},
   "outputs": [],
   "source": [
    "# Drop unused levels after filtering\n",
    "data_plot <- data_plot %>% mutate(Measurement_hr = droplevels(factor(Measurement_hr)))\n",
    "annotations_df <- annotations_df %>% mutate(Measurement_hr = factor(Measurement_hr, levels = levels(data_plot$Measurement_hr)))\n"
   ]
  },
  {
   "cell_type": "code",
   "execution_count": 11,
   "id": "df76abb2-37e7-450b-a8f0-0254769c49a4",
   "metadata": {},
   "outputs": [],
   "source": [
    "custom_order <- c(\n",
    "  \"Flk1+ (I)\", \"Pdgfra+\", \"Flk1+ Pdgfra-\", \"Flk1+ Pdgfra+\", \"Flk1- Pdgfra+ (Day4)\",\n",
    "  \"Flk1+ Tek+\", \"Flk1+ Tek+ (I)\", \"Tek+\",\n",
    "  \"Pdgfra+ (Day7)\", \"Pdgfrb+\", \"Pdgfra+ Pdgfrab+ (I)\", \"Pdgfra+ Pdgfrab+ (II)\", \"Pdgfra+ Pdgfrab+ (III)\",\n",
    "  \"CD41+\", \"CD41+ (I)\", \"CD41+ (II)\", \"CD71+\", \"CD41+ CD71+ (L)\",\n",
    "  \"CD45+\", \"CD45+ (I)\", \"CD45+ (II)\",\n",
    "  \"CD93+\",\n",
    "  \"Icam2+\", \"Cdh5+\", \"Icam2+ Cdh5+\"\n",
    ")\n"
   ]
  },
  {
   "cell_type": "code",
   "execution_count": 12,
   "id": "fd5ffc35-c53d-4826-a352-dacff67c8d5f",
   "metadata": {},
   "outputs": [],
   "source": [
    "data_plot_ordered <- data_plot %>%\n",
    "  filter(Measurement_hr %in% custom_order) %>%\n",
    "  mutate(Measurement_hr = factor(Measurement_hr, levels = custom_order))\n"
   ]
  },
  {
   "cell_type": "code",
   "execution_count": 13,
   "id": "ebdcd795-7441-4396-80c1-8a84dfe8968d",
   "metadata": {},
   "outputs": [],
   "source": [
    "annotations_df <- data_plot_ordered %>%\n",
    "  group_by(Measurement_hr) %>%\n",
    "  summarize(\n",
    "    y_position = (max(Value, na.rm = TRUE) * 1)+1,\n",
    "    Significance = first(Significance),\n",
    "    .groups = \"drop\"\n",
    "  ) %>%\n",
    "  mutate(size = ifelse(Significance %in% c(\"n.s.\", \"ns\", \"NS\", \"N.S.\"), 4, 9))"
   ]
  },
  {
   "cell_type": "code",
   "execution_count": 14,
   "id": "4e01c177-b76c-4414-8edf-c6aa06469347",
   "metadata": {},
   "outputs": [
    {
     "name": "stderr",
     "output_type": "stream",
     "text": [
      "Warning message:\n",
      "“\u001b[1m\u001b[22mThe `size` argument of `element_line()` is deprecated as of ggplot2 3.4.0.\n",
      "\u001b[36mℹ\u001b[39m Please use the `linewidth` argument instead.”\n",
      "Warning message:\n",
      "“\u001b[1m\u001b[22mA numeric `legend.position` argument in `theme()` was deprecated in ggplot2\n",
      "3.5.0.\n",
      "\u001b[36mℹ\u001b[39m Please use the `legend.position.inside` argument of `theme()` instead.”\n",
      "Warning message:\n",
      "“\u001b[1m\u001b[22mRemoved 23 rows containing non-finite outside the scale range\n",
      "(`stat_boxplot()`).”\n",
      "Warning message:\n",
      "“\u001b[1m\u001b[22mRemoved 1 row containing missing values or values outside the scale range\n",
      "(`geom_text()`).”\n"
     ]
    },
    {
     "data": {
      "image/png": "[encoded data removed]",
      "text/plain": [
       "plot without title"
      ]
     },
     "metadata": {
      "image/png": {
       "height": 300,
       "width": 1200
      }
     },
     "output_type": "display_data"
    }
   ],
   "source": [
    "options(repr.plot.width = 20, repr.plot.height = 5)\n",
    "ggplot(data_plot_ordered, aes(x = Measurement_hr, y = Value, fill = Conditions)) +\n",
    "  geom_boxplot(\n",
    "    position = position_dodge(width = 0.85),\n",
    "    outlier.shape = NA,\n",
    "    alpha = 1,\n",
    "    width = 0.7,\n",
    "    color = \"black\"\n",
    "  ) +\n",
    "  geom_text(\n",
    "    data = annotations_df,\n",
    "    aes(\n",
    "      x = Measurement_hr,\n",
    "      y = y_position * 1.0,\n",
    "      label = Significance,\n",
    "      size = size\n",
    "    ),\n",
    "    vjust = 0,\n",
    "    fontface = \"bold\",\n",
    "    inherit.aes = FALSE\n",
    "  ) +\n",
    "  scale_size_identity() +\n",
    "  scale_fill_manual(\n",
    "    values = c(\n",
    "      \"Bcl6b KO\" = \"#DA5A2A\",\n",
    "      \"NT WT\" = \"#CBCE91\"\n",
    "    )\n",
    "  ) +\n",
    "  scale_y_continuous(expand = expansion(mult = c(0, 0.10))) +\n",
    "  labs(\n",
    "    title = NULL,\n",
    "    y = NULL,\n",
    "    x = NULL\n",
    "  ) +\n",
    "  theme_classic(base_size = 14) +\n",
    "  theme(\n",
    "    axis.line = element_line(size = 0.7),\n",
    "    axis.ticks = element_line(size = 0.7),\n",
    "    axis.text.x = element_text(angle = 45, hjust = 1, size = 13, color = \"black\"),\n",
    "    axis.text.y = element_text(size = 13, color = \"black\"),\n",
    "    legend.position = c(1, 1),                    # Top right INSIDE\n",
    "    legend.justification = c(1, 1),               # Anchor to top right\n",
    "    legend.title = element_text(size = 13, face = \"bold\"),\n",
    "    legend.text = element_text(size = 16),\n",
    "    legend.background = element_rect(fill = alpha('white', 0.7)), # Optional: legend background for readability\n",
    "    legend.box.margin = margin(6, 6, 6, 6)        # Optional: add margin\n",
    "  ) +\n",
    "  guides(\n",
    "    fill = guide_legend(title = \"Conditions\", nrow = 1)\n",
    "  )\n"
   ]
  },
  {
   "cell_type": "code",
   "execution_count": null,
   "id": "7a241455-598a-49ad-88bb-0dca4957e198",
   "metadata": {},
   "outputs": [],
   "source": []
  },
  {
   "cell_type": "code",
   "execution_count": 15,
   "id": "99d1d45f-6993-4bda-bc34-91c377d97dae",
   "metadata": {},
   "outputs": [
    {
     "name": "stderr",
     "output_type": "stream",
     "text": [
      "Warning message:\n",
      "“\u001b[1m\u001b[22mRemoved 23 rows containing non-finite outside the scale range\n",
      "(`stat_boxplot()`).”\n",
      "Warning message:\n",
      "“\u001b[1m\u001b[22mRemoved 1 row containing missing values or values outside the scale range\n",
      "(`geom_text()`).”\n"
     ]
    }
   ],
   "source": [
    "ggsave(filename = './Bcl6b_facs_selected.pdf',plot = last_plot(),width = 20, height = 5,units = 'in',dpi = 300)"
   ]
  },
  {
   "cell_type": "code",
   "execution_count": 16,
   "id": "59b8be94-8377-4a5b-9fb5-8aece41ec773",
   "metadata": {},
   "outputs": [
    {
     "name": "stderr",
     "output_type": "stream",
     "text": [
      "Warning message:\n",
      "“\u001b[1m\u001b[22mRemoved 23 rows containing non-finite outside the scale range\n",
      "(`stat_boxplot()`).”\n",
      "Warning message:\n",
      "“\u001b[1m\u001b[22mRemoved 1 row containing missing values or values outside the scale range\n",
      "(`geom_text()`).”\n"
     ]
    }
   ],
   "source": [
    "ggsave(filename = './Bcl6b_facs_selected.png',plot = last_plot(),width = 20, height = 5,units = 'in',dpi = 300)"
   ]
  },
  {
   "cell_type": "code",
   "execution_count": 17,
   "id": "bfc4aff8-209b-41de-b096-4772005b5833",
   "metadata": {},
   "outputs": [
    {
     "name": "stderr",
     "output_type": "stream",
     "text": [
      "Warning message:\n",
      "“\u001b[1m\u001b[22mRemoved 23 rows containing non-finite outside the scale range\n",
      "(`stat_boxplot()`).”\n",
      "Warning message:\n",
      "“\u001b[1m\u001b[22mRemoved 1 row containing missing values or values outside the scale range\n",
      "(`geom_text()`).”\n"
     ]
    }
   ],
   "source": [
    "ggsave(filename = './Bcl6b_facs_selected.svg',plot = last_plot(),width = 20, height = 5,units = 'in',dpi = 300)"
   ]
  },
  {
   "cell_type": "code",
   "execution_count": 18,
   "id": "db42d519-da2e-4bf5-9859-59315bb28110",
   "metadata": {},
   "outputs": [],
   "source": [
    "save.image(file = './new_plot_env_Bcl6b.RData', compress = FALSE)"
   ]
  },
  {
   "cell_type": "code",
   "execution_count": 19,
   "id": "e9aa1201-0042-428b-8691-8aca618fb946",
   "metadata": {},
   "outputs": [
    {
     "data": {
      "text/plain": [
       "R version 4.5.1 (2025-06-13)\n",
       "Platform: x86_64-pc-linux-gnu\n",
       "Running under: Debian GNU/Linux 12 (bookworm)\n",
       "\n",
       "Matrix products: default\n",
       "BLAS:   /usr/lib/x86_64-linux-gnu/openblas-pthread/libblas.so.3 \n",
       "LAPACK: /usr/lib/x86_64-linux-gnu/openblas-pthread/libopenblasp-r0.3.21.so;  LAPACK version 3.11.0\n",
       "\n",
       "locale:\n",
       " [1] LC_CTYPE=en_US.UTF-8       LC_NUMERIC=C              \n",
       " [3] LC_TIME=en_US.UTF-8        LC_COLLATE=en_US.UTF-8    \n",
       " [5] LC_MONETARY=en_US.UTF-8    LC_MESSAGES=en_US.UTF-8   \n",
       " [7] LC_PAPER=en_US.UTF-8       LC_NAME=C                 \n",
       " [9] LC_ADDRESS=C               LC_TELEPHONE=C            \n",
       "[11] LC_MEASUREMENT=en_US.UTF-8 LC_IDENTIFICATION=C       \n",
       "\n",
       "time zone: Europe/Amsterdam\n",
       "tzcode source: system (glibc)\n",
       "\n",
       "attached base packages:\n",
       "[1] stats     graphics  grDevices utils     datasets  methods   base     \n",
       "\n",
       "other attached packages:\n",
       "[1] ggsignif_0.6.4 tidyr_1.3.1    lmerTest_3.1-3 lme4_1.1-37    Matrix_1.7-3  \n",
       "[6] reshape2_1.4.4 dplyr_1.1.4    ggplot2_3.5.2 \n",
       "\n",
       "loaded via a namespace (and not attached):\n",
       " [1] generics_0.1.4      stringi_1.8.7       lattice_0.22-7     \n",
       " [4] digest_0.6.37       magrittr_2.0.3      evaluate_1.0.4     \n",
       " [7] grid_4.5.1          RColorBrewer_1.1-3  pbdZMQ_0.3-14      \n",
       "[10] fastmap_1.2.0       plyr_1.8.9          jsonlite_2.0.0     \n",
       "[13] purrr_1.0.4         scales_1.4.0        numDeriv_2016.8-1.1\n",
       "[16] textshaping_1.0.1   reformulas_0.4.1    Rdpack_2.6.4       \n",
       "[19] cli_3.6.5           rlang_1.1.6         crayon_1.5.3       \n",
       "[22] rbibutils_2.3       splines_4.5.1       base64enc_0.1-3    \n",
       "[25] withr_3.0.2         repr_1.1.7          tools_4.5.1        \n",
       "[28] uuid_1.2-1          nloptr_2.2.1        minqa_1.2.8        \n",
       "[31] boot_1.3-31         IRdisplay_1.1       vctrs_0.6.5        \n",
       "[34] R6_2.6.1.9000       lifecycle_1.0.4     stringr_1.5.1      \n",
       "[37] MASS_7.3-65         ragg_1.4.0          pkgconfig_2.0.3    \n",
       "[40] pillar_1.11.0       gtable_0.3.6        glue_1.8.0         \n",
       "[43] Rcpp_1.1.0          systemfonts_1.2.3   tibble_3.3.0       \n",
       "[46] tidyselect_1.2.1    rstudioapi_0.17.1   IRkernel_1.3.2     \n",
       "[49] dichromat_2.0-0.1   farver_2.1.2        htmltools_0.5.8.1  \n",
       "[52] nlme_3.1-168        svglite_2.2.1       labeling_0.4.3     \n",
       "[55] Cairo_1.6-2         compiler_4.5.1     "
      ]
     },
     "metadata": {},
     "output_type": "display_data"
    }
   ],
   "source": [
    "sessionInfo()"
   ]
  },
  {
   "cell_type": "code",
   "execution_count": null,
   "id": "09a7e106-3e6b-4303-817f-6b8667e8dafb",
   "metadata": {},
   "outputs": [],
   "source": []
  }
 ],
 "metadata": {
  "kernelspec": {
   "display_name": "R",
   "language": "R",
   "name": "ir"
  },
  "language_info": {
   "codemirror_mode": "r",
   "file_extension": ".r",
   "mimetype": "text/x-r-source",
   "name": "R",
   "pygments_lexer": "r",
   "version": "4.5.1"
  }
 },
 "nbformat": 4,
 "nbformat_minor": 5
}
